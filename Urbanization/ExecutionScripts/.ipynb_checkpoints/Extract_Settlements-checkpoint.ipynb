{
 "cells": [
  {
   "cell_type": "markdown",
   "metadata": {},
   "source": [
    "# Extract Settlements from Population Data\n",
    "This notebook focuses on extracting vector settlement polygons from gridded population data"
   ]
  },
  {
   "cell_type": "code",
   "execution_count": 2,
   "metadata": {},
   "outputs": [],
   "source": [
    "import os, sys, logging, glob, importlib\n",
    "import rasterio\n",
    "import rasterio.features\n",
    "\n",
    "import pandas as pd\n",
    "import geopandas as gpd\n",
    "import numpy as np\n",
    "\n",
    "from shapely.geometry import shape\n",
    "\n",
    "#Get reference to the GOSTRocks library\n",
    "gostRocks = os.path.dirname(os.getcwd())\n",
    "sys.path.insert(0, gostRocks)\n",
    "\n",
    "import GOST_Urban.rasterMisc as rMisc\n",
    "import GOST_Urban.misc as misc\n",
    "\n",
    "#This is just for debugging, comment it out otherwise\n",
    "#importlib.reload(rMisc)\n",
    "#importlib.reload(misc)"
   ]
  },
  {
   "cell_type": "code",
   "execution_count": 9,
   "metadata": {},
   "outputs": [],
   "source": [
    "inputAOI = r\"Q:\\AFRICA\\MWI\\ADMIN\\MWI_adm0.shp\"\n",
    "outputFolder = os.path.dirname(inputAOI)\n",
    "buffer = 1 #How much to buffer settlements extracted from settlement raster.\n",
    "#  Must be set to at least 1 to fix broken geometry and to connect bishop's case connections\n",
    "\n",
    "viirsFile = r\"Q:\\AFRICA\\MWI\\ENERGY\\TestingNewNTL\\VIIRS_2015.tif\"\n",
    "popFile = r\"Q:\\AFRICA\\MWI\\URBAN\\HRSL\\hrsl_mwi_pop.tif\"\n",
    "builtFile = r\"Q:\\AFRICA\\MWI\\URBAN\\HRSL\\hrsl_mwi_settlement.tif\""
   ]
  },
  {
   "cell_type": "code",
   "execution_count": 11,
   "metadata": {},
   "outputs": [],
   "source": [
    "#1. Convert population data to binary\n",
    "built_dataset = rasterio.open(builtFile)\n",
    "src = built_dataset.read()"
   ]
  },
  {
   "cell_type": "code",
   "execution_count": null,
   "metadata": {},
   "outputs": [],
   "source": [
    "src = src.astype(np.int)\n",
    "builtSettlements = []\n",
    "for geom, val in rasterio.features.shapes(src, transform=built_dataset.transform):\n",
    "    if val == 1:\n",
    "        builtSettlements.append(shape(geom))"
   ]
  },
  {
   "cell_type": "code",
   "execution_count": 15,
   "metadata": {},
   "outputs": [
    {
     "data": {
      "text/plain": [
       "('float64',)"
      ]
     },
     "execution_count": 15,
     "metadata": {},
     "output_type": "execute_result"
    }
   ],
   "source": [
    "dir(built_dataset)\n",
    "built_dataset.dtypes"
   ]
  },
  {
   "cell_type": "code",
   "execution_count": 18,
   "metadata": {},
   "outputs": [
    {
     "data": {
      "text/plain": [
       "1.0"
      ]
     },
     "execution_count": 18,
     "metadata": {},
     "output_type": "execute_result"
    }
   ],
   "source": [
    "src.max()"
   ]
  },
  {
   "cell_type": "code",
   "execution_count": null,
   "metadata": {},
   "outputs": [],
   "source": []
  }
 ],
 "metadata": {
  "kernelspec": {
   "display_name": "Python 3",
   "language": "python",
   "name": "python3"
  },
  "language_info": {
   "codemirror_mode": {
    "name": "ipython",
    "version": 3
   },
   "file_extension": ".py",
   "mimetype": "text/x-python",
   "name": "python",
   "nbconvert_exporter": "python",
   "pygments_lexer": "ipython3",
   "version": "3.5.6"
  }
 },
 "nbformat": 4,
 "nbformat_minor": 2
}
