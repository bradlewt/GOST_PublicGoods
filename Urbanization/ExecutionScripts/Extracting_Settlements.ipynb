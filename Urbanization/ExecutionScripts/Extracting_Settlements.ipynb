{
 "cells": [
  {
   "cell_type": "markdown",
   "metadata": {},
   "source": [
    "# Extracting and Comparing Nighttime Lights and Settlements\n",
    "Extract settlements from built area datasets and attribute with a series of data\n",
    "\n",
    "0. Clip and extract input data based on country admin file\n",
    "1. Convert raster of built area into settlements\n",
    "    1. Convert directly to shapes using rasterio\n",
    "    2. do some simple buffering to simplify\n",
    "    \n",
    "2. Extract zonal results for each new feature"
   ]
  },
  {
   "cell_type": "code",
   "execution_count": 1,
   "metadata": {},
   "outputs": [],
   "source": [
    "import os, sys, logging, glob, importlib\n",
    "import rasterio\n",
    "import rasterio.features\n",
    "\n",
    "import pandas as pd\n",
    "import geopandas as gpd\n",
    "import numpy as np\n",
    "\n",
    "from shapely.geometry import shape\n",
    "\n",
    "#Get reference to the GOSTRocks library\n",
    "gostRocks = os.path.dirname(os.getcwd())\n",
    "sys.path.insert(0, gostRocks)\n",
    "\n",
    "import GOST_Urban.rasterMisc as rMisc\n",
    "import GOST_Urban.misc as misc\n",
    "\n",
    "#This is just for debugging, comment it out otherwise\n",
    "#importlib.reload(rMisc)\n",
    "#importlib.reload(misc)"
   ]
  },
  {
   "cell_type": "code",
   "execution_count": 2,
   "metadata": {},
   "outputs": [],
   "source": [
    "#0. Clip input data\n",
    "inputAOI = r\"Q:\\AFRICA\\MWI\\ADMIN\\MWI_adm0.shp\" #r\"Q:\\AFRICA\\KEN\\ADMIN\\KEN_adm0.shp\" #\n",
    "outputFolder = r\"Q:\\AFRICA\\MWI\\ENERGY\\TestingNewNTL\" #r\"Q:\\AFRICA\\KEN\\Electrification\\TestingRates\"\n",
    "buffer = 1 #How much to buffer settlements extracted from settlement raster. Must be set to at least 0 to fix broken geometry\n",
    "finalOutput = os.path.join(outputFolder, \"electrified_settlements_%s.csv\" % buffer)\n",
    "\n",
    "electrifiedFile = r\"Q:\\AFRICA\\MWI\\ENERGY\\NTL\\Malawi_wbnaterate_sets_lit_2017.tif\"\n",
    "\n",
    "settlementsFile = os.path.join(outputFolder, \"settlements.shp\")\n",
    "gufFile = os.path.join(outputFolder, \"GUF.tif\")\n",
    "ghslFile = os.path.join(outputFolder, \"GHSL.tif\")\n",
    "viirsFile = os.path.join(outputFolder, \"VIIRS_2015.tif\")\n",
    "popFile = os.path.join(outputFolder, \"popFile.tif\")\n",
    "\n",
    "inputParams = misc.getUrbanParams()\n",
    "baseGUF = inputParams['gufVRT']\n",
    "baseGHSL = inputParams['ghslVRT']\n",
    "baseVIIRS = inputParams['viirs2015']\n",
    "basePop = inputParams['worldPopAfrica']\n",
    "\n",
    "inD = gpd.read_file(inputAOI)\n",
    "if not os.path.exists(gufFile):\n",
    "    rMisc.clipRaster(rasterio.open(baseGUF), inD, gufFile)\n",
    "if not os.path.exists(ghslFile):\n",
    "    rMisc.clipRaster(rasterio.open(baseGHSL), inD, ghslFile)\n",
    "if not os.path.exists(viirsFile):\n",
    "    rMisc.clipRaster(rasterio.open(baseVIIRS), inD, viirsFile)\n",
    "if not os.path.exists(popFile):\n",
    "    rMisc.clipRaster(rasterio.open(basePop), inD, popFile)\n",
    "\n",
    "                     "
   ]
  },
  {
   "cell_type": "code",
   "execution_count": 3,
   "metadata": {},
   "outputs": [],
   "source": [
    "#1. Convert the built area dataset to shapes\n",
    "builtSettlements = []\n",
    "with rasterio.open(gufFile) as built_dataset:\n",
    "    src = built_dataset.read()\n",
    "    for geom, val in rasterio.features.shapes(src, transform=built_dataset.transform):\n",
    "        if val == 255.0:\n",
    "            builtSettlements.append(shape(geom))"
   ]
  },
  {
   "cell_type": "code",
   "execution_count": 77,
   "metadata": {},
   "outputs": [],
   "source": [
    "#1. Convert the list of geometries to a data frame\n",
    "curDF = gpd.GeoDataFrame(pd.DataFrame(), geometry = builtSettlements)\n",
    "#Project to metres-based CRS\n",
    "curDF.crs = built_dataset.crs\n",
    "curDF = curDF.to_crs({'init': 'epsg:3857'})\n",
    "curDF['area'] = curDF.area\n",
    "#Limiting size of settlements to speed process\n",
    "#curDF = curDF[curDF.area > 100000]\n",
    "#curDF = curDF.reset_index()\n",
    "curDF.geometry = curDF.buffer(buffer) #buffer settlements by raster resolution \n",
    "bufferedGeom = curDF.unary_union\n",
    "allGeom = []\n",
    "for x in bufferedGeom:\n",
    "    allGeom.append(x)\n",
    "curDF = gpd.GeoDataFrame(pd.DataFrame(), crs=curDF.crs, geometry=allGeom)\n",
    "curDF['area'] = curDF.area\n",
    "curDF.to_file(settlementsFile)"
   ]
  },
  {
   "cell_type": "code",
   "execution_count": 78,
   "metadata": {},
   "outputs": [
    {
     "name": "stderr",
     "output_type": "stream",
     "text": [
      "C:\\Users\\WB411133\\OneDrive - WBG\\AAA_BPS\\Code\\Code\\Github\\GOST\\GOSTRocks\\rasterMisc.py:121: RasterioDeprecationWarning: Comparison to dict will be removed in 1.0\n",
      "  if inVector.crs != curRaster.crs:\n"
     ]
    }
   ],
   "source": [
    "#2. Run zonal statistics against the other baseline data\n",
    "popData = rMisc.zonalStats(settlementsFile, popFile, reProj=True, minVal=0)\n",
    "viirsData = rMisc.zonalStats(settlementsFile, viirsFile, reProj=True, minVal=0)\n",
    "#Summarize the new electrification data from Brian Min\n",
    "summarizedElec = rMisc.zonalStats(settlementsFile, electrifiedFile, reProj=True, rastType='C', unqVals=[0,1])"
   ]
  },
  {
   "cell_type": "code",
   "execution_count": 79,
   "metadata": {},
   "outputs": [],
   "source": [
    "popRes = pd.DataFrame(popData)\n",
    "popRes['ID'] = popRes.index\n",
    "popRes.columns = [\"popSUM\", \"popMIN\", \"popMAX\", \"popMEAN\", \"gID\"]\n",
    "viirsRes = pd.DataFrame(viirsData)\n",
    "viirsRes.columns = [\"viirsSUM\", \"viirsMIN\", \"viirsMAX\", \"viirsMEAN\"]\n",
    "elecRes = pd.DataFrame(summarizedElec)\n",
    "elecRes.columns = [\"nonElec\",\"elec\"]\n",
    "allRes = popRes.join(viirsRes).join(elecRes).join(curDF)"
   ]
  },
  {
   "cell_type": "code",
   "execution_count": 81,
   "metadata": {},
   "outputs": [],
   "source": [
    "viirsElecThresh = 0.23156 #MWI = 4.78686 #This value is based on Brian Min's calculations to match electrification rates\n",
    "elecThresh = 0.6 #What percent of the settlement being electrified according to Brian makes it electrified\n",
    "allRes['perElec'] = (allRes['elec']/(allRes['nonElec'] + allRes['elec']))\n",
    "allRes['bElec'] = (allRes['perElec'] > elecThresh) * 10\n",
    "#apply a nighttime lights threshold to the VIIRSmean category to determine electrification status\n",
    "allRes['viirsElec'] = (allRes['viirsMEAN'] > viirsElecThresh) * 1\n",
    "allRes['combElec'] = allRes['bElec'] + allRes['viirsElec']\n",
    "allRes.to_csv(finalOutput)"
   ]
  },
  {
   "cell_type": "code",
   "execution_count": 82,
   "metadata": {},
   "outputs": [
    {
     "name": "stdout",
     "output_type": "stream",
     "text": [
      "                         area   gID        popSUM\n",
      "bElec viirsElec                                  \n",
      "0     0          8.063125e+07  4269  2.003126e+06\n",
      "      1          7.274136e+06   473  5.171810e+05\n",
      "10    0          2.143206e+08  8524  8.847659e+06\n",
      "      1          1.123411e+09  6780  2.195087e+07\n"
     ]
    }
   ],
   "source": [
    "#print(allRes.head())\n",
    "xx = pd.pivot_table(allRes, index=[\"bElec\",\"viirsElec\"], values=['gID','area','popSUM'], \n",
    "               aggfunc={'gID':'count',\n",
    "                        'area':sum,\n",
    "                        'popSUM':lambda x: sum(x[-np.isinf(x)][x>0])})\n",
    "print(xx)\n",
    "totalPopulation = allRes['popSUM'].sum()\n",
    "agreedElectrified_population = allRes[allRes['combElec'] == 11]['popSUM'].sum()\n",
    "viirsElectrified_population = allRes[allRes['combElec'] == 1]['popSUM'].sum()\n",
    "brianElectrified_population = allRes[allRes['combElec'] == 10]['popSUM'].sum()\n"
   ]
  },
  {
   "cell_type": "code",
   "execution_count": 83,
   "metadata": {},
   "outputs": [
    {
     "name": "stdout",
     "output_type": "stream",
     "text": [
      "66.0 of the population has agreed electrification\n",
      "2.0 of the population has VIIRS only electrification\n",
      "27.0 of the population has Brian only electrification\n"
     ]
    }
   ],
   "source": [
    "print(\"%s of the population has agreed electrification\" % round(agreedElectrified_population/totalPopulation*100))\n",
    "print(\"%s of the population has VIIRS only electrification\" % round(viirsElectrified_population/totalPopulation*100))\n",
    "print(\"%s of the population has Brian only electrification\" % round(brianElectrified_population/totalPopulation*100))"
   ]
  },
  {
   "cell_type": "code",
   "execution_count": null,
   "metadata": {},
   "outputs": [],
   "source": []
  }
 ],
 "metadata": {
  "kernelspec": {
   "display_name": "Python 3",
   "language": "python",
   "name": "python3"
  },
  "language_info": {
   "codemirror_mode": {
    "name": "ipython",
    "version": 3
   },
   "file_extension": ".py",
   "mimetype": "text/x-python",
   "name": "python",
   "nbconvert_exporter": "python",
   "pygments_lexer": "ipython3",
   "version": "3.5.6"
  }
 },
 "nbformat": 4,
 "nbformat_minor": 2
}
