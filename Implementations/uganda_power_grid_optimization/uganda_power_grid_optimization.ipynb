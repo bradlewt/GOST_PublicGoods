{
 "cells": [
  {
   "cell_type": "markdown",
   "metadata": {},
   "source": [
    "# Uganda Power Grid Optimization\n",
    "\n",
    "This notebook is a pre-processing script that will read in shapefiles and convert to the input to a powergrid optimization model. The input to this model will be in CSVs. We are testing this within Uganda."
   ]
  },
  {
   "cell_type": "markdown",
   "metadata": {},
   "source": [
    "## import libraries"
   ]
  },
  {
   "cell_type": "code",
   "execution_count": 218,
   "metadata": {},
   "outputs": [],
   "source": [
    "import sys, os, inspect, logging, importlib\n",
    "\n",
    "import geopandas as gpd\n",
    "import pandas as pd\n",
    "import numpy as np\n",
    "import osmnx as ox\n",
    "import networkx as nx\n",
    "from shapely.ops import split, unary_union\n",
    "from shapely.geometry import box, Point\n",
    "\n",
    "import matplotlib.pyplot as plt"
   ]
  },
  {
   "cell_type": "code",
   "execution_count": 219,
   "metadata": {},
   "outputs": [],
   "source": [
    "# Get reference to GOSTNets\n",
    "sys.path.append(r'../../GOSTNets/GOSTNets')\n",
    "import GOSTnet as gn"
   ]
  },
  {
   "cell_type": "code",
   "execution_count": 220,
   "metadata": {},
   "outputs": [],
   "source": [
    "# Define input data and create a number of output datasets if they do not yet exist\n",
    "inputFolder = r'./input_folder'\n",
    "\n",
    "input_power_lines_gpd = gpd.read_file(os.path.join(inputFolder, \"power_lines.shp\"))\n",
    "input_new_connection_options_gpd = gpd.read_file(os.path.join(inputFolder, \"new_connection_options.shp\"))\n",
    " \n",
    "input_power_nodes_gpd = gpd.read_file(os.path.join(inputFolder, \"power_nodes.shp\"))"
   ]
  },
  {
   "cell_type": "code",
   "execution_count": 221,
   "metadata": {},
   "outputs": [],
   "source": [
    "outputFolder = r'./output_folder'"
   ]
  },
  {
   "cell_type": "markdown",
   "metadata": {},
   "source": [
    "## Generate the power line networks\n",
    "\n",
    "### We will read in the power line shapefiles and convert them it to a geodataframe of points. Then the input station points are snapped to these points and the geometries of the stations get changed to match the geometry of the point it was snapped to"
   ]
  },
  {
   "cell_type": "markdown",
   "metadata": {},
   "source": [
    "## Power Lines"
   ]
  },
  {
   "cell_type": "code",
   "execution_count": 222,
   "metadata": {},
   "outputs": [],
   "source": [
    "#Read in the input_power_lines for problems, and project\n",
    "\n",
    "#input_power_lines = input_power_lines[[r is not None for r in inR.geometry]]\n",
    "\n",
    "#if inR.crs == {'init':'epsg:4326'}:\n",
    "#    print('skip')\n",
    "#inR = inR.to_crs({'init': 'epsg:32643'})\n",
    "\n",
    "# line below not needed because length will be generated at a later step\n",
    "# inR['length'] = inR['geometry'].apply(lambda x: x.length)\n",
    "\n",
    "# Read in the power nodes and project\n",
    "#input_power_nodes = gpd.read_file(input_power_nodes)\n",
    "\n",
    "#inS = inS[inS['railway'] == \"station\"]\n",
    "\n",
    "# inS_proj = inS.to_crs({'init': 'epsg:32643'})\n",
    "# print('check projection inS')\n",
    "# print(inS_proj.crs)\n",
    "\n",
    "# print('check projection inR')\n",
    "# print(inR.crs)\n",
    "\n",
    "#Generate the Rail network from the rail shapefile\n",
    "#allRailLines = unary_union(inR['geometry'])\n"
   ]
  },
  {
   "cell_type": "code",
   "execution_count": 223,
   "metadata": {},
   "outputs": [],
   "source": [
    "# deconstructing the power line network into a geodataframe of points\n",
    "bag_of_points,ids = [],[]\n",
    "id_ = 0\n",
    "for r in input_power_lines_gpd.geometry:\n",
    "    for q in r.coords:\n",
    "        bag_of_points.append(q)\n",
    "        ids.append(id_)\n",
    "        id_+=1\n",
    "\n",
    "df_temp = pd.DataFrame(({'ids':ids,'geometry':bag_of_points}))\n",
    "df_temp['geometry'] = df_temp['geometry'].apply(Point)\n",
    "gdf_temp = gpd.GeoDataFrame(df_temp, crs = input_power_lines_gpd.crs, geometry = 'geometry')"
   ]
  },
  {
   "cell_type": "code",
   "execution_count": 224,
   "metadata": {},
   "outputs": [],
   "source": [
    "\n",
    "# the source_crs should be the same proj as both the input graph and input geodataframe of points\n",
    "# the rail points need to be snapped to the rail because later the snapped points will be used to split the rail\n",
    "input_power_nodes_snapped = gn.pandana_snap_points(input_power_nodes_gpd, \n",
    "                                          gdf_temp, \n",
    "                                          source_crs = 'epsg:4326', \n",
    "                                          target_crs = 'epsg:4326',\n",
    "                                          add_dist_to_node_col = True)\n",
    "\n",
    "input_power_nodes_snapped_temp = input_power_nodes_snapped.drop_duplicates('NN')"
   ]
  },
  {
   "cell_type": "code",
   "execution_count": 225,
   "metadata": {},
   "outputs": [],
   "source": [
    "# I think that when the rail stations got snapped to the nearest node in the dataframe it is keeping the original geometry\n",
    "# but it is adding the NN id and the NN_distance\n",
    "\n",
    "# Therefore join to the Rail gdf to add the geometries of the nodes snapped to\n",
    "input_power_nodes_snapped_temp = input_power_nodes_snapped_temp.rename(columns={\"geometry\": \"original_geometry\"})\n",
    "input_power_nodes_snapped_temp_joined = input_power_nodes_snapped_temp.set_index('NN').join(gdf_temp.set_index('ids'))\n",
    "input_power_nodes_snapped_temp_joined = input_power_nodes_snapped_temp_joined.reset_index()"
   ]
  },
  {
   "cell_type": "code",
   "execution_count": 226,
   "metadata": {},
   "outputs": [
    {
     "data": {
      "text/html": [
       "<div>\n",
       "<style scoped>\n",
       "    .dataframe tbody tr th:only-of-type {\n",
       "        vertical-align: middle;\n",
       "    }\n",
       "\n",
       "    .dataframe tbody tr th {\n",
       "        vertical-align: top;\n",
       "    }\n",
       "\n",
       "    .dataframe thead th {\n",
       "        text-align: right;\n",
       "    }\n",
       "</style>\n",
       "<table border=\"1\" class=\"dataframe\">\n",
       "  <thead>\n",
       "    <tr style=\"text-align: right;\">\n",
       "      <th></th>\n",
       "      <th>NN</th>\n",
       "      <th>id</th>\n",
       "      <th>demand</th>\n",
       "      <th>NN_dist</th>\n",
       "      <th>geometry</th>\n",
       "    </tr>\n",
       "  </thead>\n",
       "  <tbody>\n",
       "    <tr>\n",
       "      <td>0</td>\n",
       "      <td>1</td>\n",
       "      <td>2</td>\n",
       "      <td>None</td>\n",
       "      <td>0.0</td>\n",
       "      <td>POINT (33.33386 3.34876)</td>\n",
       "    </tr>\n",
       "    <tr>\n",
       "      <td>1</td>\n",
       "      <td>3</td>\n",
       "      <td>4</td>\n",
       "      <td>100</td>\n",
       "      <td>0.0</td>\n",
       "      <td>POINT (33.32978 3.37480)</td>\n",
       "    </tr>\n",
       "    <tr>\n",
       "      <td>2</td>\n",
       "      <td>5</td>\n",
       "      <td>3</td>\n",
       "      <td>100</td>\n",
       "      <td>0.0</td>\n",
       "      <td>POINT (33.25931 3.30027)</td>\n",
       "    </tr>\n",
       "    <tr>\n",
       "      <td>3</td>\n",
       "      <td>11</td>\n",
       "      <td>7</td>\n",
       "      <td>100</td>\n",
       "      <td>0.0</td>\n",
       "      <td>POINT (33.19826 3.31296)</td>\n",
       "    </tr>\n",
       "    <tr>\n",
       "      <td>4</td>\n",
       "      <td>7</td>\n",
       "      <td>6</td>\n",
       "      <td>100</td>\n",
       "      <td>0.0</td>\n",
       "      <td>POINT (33.25168 3.37345)</td>\n",
       "    </tr>\n",
       "    <tr>\n",
       "      <td>5</td>\n",
       "      <td>9</td>\n",
       "      <td>5</td>\n",
       "      <td>200</td>\n",
       "      <td>0.0</td>\n",
       "      <td>POINT (33.20872 3.26694)</td>\n",
       "    </tr>\n",
       "    <tr>\n",
       "      <td>6</td>\n",
       "      <td>0</td>\n",
       "      <td>1</td>\n",
       "      <td>None</td>\n",
       "      <td>0.0</td>\n",
       "      <td>POINT (33.36255 3.29727)</td>\n",
       "    </tr>\n",
       "  </tbody>\n",
       "</table>\n",
       "</div>"
      ],
      "text/plain": [
       "   NN  id demand  NN_dist                  geometry\n",
       "0   1   2   None      0.0  POINT (33.33386 3.34876)\n",
       "1   3   4    100      0.0  POINT (33.32978 3.37480)\n",
       "2   5   3    100      0.0  POINT (33.25931 3.30027)\n",
       "3  11   7    100      0.0  POINT (33.19826 3.31296)\n",
       "4   7   6    100      0.0  POINT (33.25168 3.37345)\n",
       "5   9   5    200      0.0  POINT (33.20872 3.26694)\n",
       "6   0   1   None      0.0  POINT (33.36255 3.29727)"
      ]
     },
     "execution_count": 226,
     "metadata": {},
     "output_type": "execute_result"
    }
   ],
   "source": [
    "\n",
    "\n",
    "# note when I had both original_geometry and geometry columns there was an error in outputting a shapefile\n",
    "# it must have been confused with two geometry columns, therefore I am dropping the 'original_geometry' column\n",
    "input_power_nodes_snapped_temp_joined_slim = input_power_nodes_snapped_temp_joined.drop(columns=\"original_geometry\")\n",
    "input_power_nodes_snapped_temp_joined_slim"
   ]
  },
  {
   "cell_type": "code",
   "execution_count": 227,
   "metadata": {},
   "outputs": [],
   "source": [
    "\n",
    "\n",
    "#inS_proj_snapped_temp.keys()\n",
    "\n",
    "input_power_nodes_snapped_temp_joined_geo = gpd.GeoDataFrame(input_power_nodes_snapped_temp_joined_slim, crs = input_power_lines_gpd.crs, geometry = 'geometry')\n",
    "# preview the snapped rail stations\n",
    "input_power_nodes_snapped_temp_joined_geo.to_file(driver = 'ESRI Shapefile', filename = outputFolder + '/snapped_power_nodes.shp')"
   ]
  },
  {
   "cell_type": "code",
   "execution_count": 228,
   "metadata": {},
   "outputs": [
    {
     "data": {
      "text/html": [
       "<div>\n",
       "<style scoped>\n",
       "    .dataframe tbody tr th:only-of-type {\n",
       "        vertical-align: middle;\n",
       "    }\n",
       "\n",
       "    .dataframe tbody tr th {\n",
       "        vertical-align: top;\n",
       "    }\n",
       "\n",
       "    .dataframe thead th {\n",
       "        text-align: right;\n",
       "    }\n",
       "</style>\n",
       "<table border=\"1\" class=\"dataframe\">\n",
       "  <thead>\n",
       "    <tr style=\"text-align: right;\">\n",
       "      <th></th>\n",
       "      <th>NN</th>\n",
       "      <th>id</th>\n",
       "      <th>demand</th>\n",
       "      <th>NN_dist</th>\n",
       "      <th>geometry</th>\n",
       "    </tr>\n",
       "  </thead>\n",
       "  <tbody>\n",
       "    <tr>\n",
       "      <td>0</td>\n",
       "      <td>1</td>\n",
       "      <td>2</td>\n",
       "      <td>None</td>\n",
       "      <td>0.0</td>\n",
       "      <td>POINT (33.33386 3.34876)</td>\n",
       "    </tr>\n",
       "    <tr>\n",
       "      <td>1</td>\n",
       "      <td>3</td>\n",
       "      <td>4</td>\n",
       "      <td>100</td>\n",
       "      <td>0.0</td>\n",
       "      <td>POINT (33.32978 3.37480)</td>\n",
       "    </tr>\n",
       "    <tr>\n",
       "      <td>2</td>\n",
       "      <td>5</td>\n",
       "      <td>3</td>\n",
       "      <td>100</td>\n",
       "      <td>0.0</td>\n",
       "      <td>POINT (33.25931 3.30027)</td>\n",
       "    </tr>\n",
       "    <tr>\n",
       "      <td>3</td>\n",
       "      <td>11</td>\n",
       "      <td>7</td>\n",
       "      <td>100</td>\n",
       "      <td>0.0</td>\n",
       "      <td>POINT (33.19826 3.31296)</td>\n",
       "    </tr>\n",
       "    <tr>\n",
       "      <td>4</td>\n",
       "      <td>7</td>\n",
       "      <td>6</td>\n",
       "      <td>100</td>\n",
       "      <td>0.0</td>\n",
       "      <td>POINT (33.25168 3.37345)</td>\n",
       "    </tr>\n",
       "    <tr>\n",
       "      <td>5</td>\n",
       "      <td>9</td>\n",
       "      <td>5</td>\n",
       "      <td>200</td>\n",
       "      <td>0.0</td>\n",
       "      <td>POINT (33.20872 3.26694)</td>\n",
       "    </tr>\n",
       "    <tr>\n",
       "      <td>6</td>\n",
       "      <td>0</td>\n",
       "      <td>1</td>\n",
       "      <td>None</td>\n",
       "      <td>0.0</td>\n",
       "      <td>POINT (33.36255 3.29727)</td>\n",
       "    </tr>\n",
       "  </tbody>\n",
       "</table>\n",
       "</div>"
      ],
      "text/plain": [
       "   NN  id demand  NN_dist                  geometry\n",
       "0   1   2   None      0.0  POINT (33.33386 3.34876)\n",
       "1   3   4    100      0.0  POINT (33.32978 3.37480)\n",
       "2   5   3    100      0.0  POINT (33.25931 3.30027)\n",
       "3  11   7    100      0.0  POINT (33.19826 3.31296)\n",
       "4   7   6    100      0.0  POINT (33.25168 3.37345)\n",
       "5   9   5    200      0.0  POINT (33.20872 3.26694)\n",
       "6   0   1   None      0.0  POINT (33.36255 3.29727)"
      ]
     },
     "execution_count": 228,
     "metadata": {},
     "output_type": "execute_result"
    }
   ],
   "source": [
    "input_power_nodes_snapped_temp_joined_geo"
   ]
  },
  {
   "cell_type": "markdown",
   "metadata": {},
   "source": [
    "## Generate the power network Part II\n",
    "#### The allRailLines are the result of a unary union on the railway lines. Therefore they are only multiLine geometries without any attribution. The snapped railway stations also undergo a unary union and are now multiPoint. allRailLines gets split by the snapped railway stations and all the parts are put back together creating a MultiDiGraph."
   ]
  },
  {
   "cell_type": "code",
   "execution_count": 229,
   "metadata": {},
   "outputs": [
    {
     "data": {
      "text/html": [
       "<div>\n",
       "<style scoped>\n",
       "    .dataframe tbody tr th:only-of-type {\n",
       "        vertical-align: middle;\n",
       "    }\n",
       "\n",
       "    .dataframe tbody tr th {\n",
       "        vertical-align: top;\n",
       "    }\n",
       "\n",
       "    .dataframe thead th {\n",
       "        text-align: right;\n",
       "    }\n",
       "</style>\n",
       "<table border=\"1\" class=\"dataframe\">\n",
       "  <thead>\n",
       "    <tr style=\"text-align: right;\">\n",
       "      <th></th>\n",
       "      <th>id</th>\n",
       "      <th>capacity</th>\n",
       "      <th>loss_factr</th>\n",
       "      <th>geometry</th>\n",
       "    </tr>\n",
       "  </thead>\n",
       "  <tbody>\n",
       "    <tr>\n",
       "      <td>0</td>\n",
       "      <td>1</td>\n",
       "      <td>1000</td>\n",
       "      <td>0.03</td>\n",
       "      <td>LINESTRING (33.36255 3.29727, 33.33386 3.34876)</td>\n",
       "    </tr>\n",
       "    <tr>\n",
       "      <td>1</td>\n",
       "      <td>3</td>\n",
       "      <td>500</td>\n",
       "      <td>0.05</td>\n",
       "      <td>LINESTRING (33.33386 3.34876, 33.32978 3.37480)</td>\n",
       "    </tr>\n",
       "    <tr>\n",
       "      <td>2</td>\n",
       "      <td>2</td>\n",
       "      <td>500</td>\n",
       "      <td>0.05</td>\n",
       "      <td>LINESTRING (33.33386 3.34876, 33.25931 3.30027)</td>\n",
       "    </tr>\n",
       "    <tr>\n",
       "      <td>3</td>\n",
       "      <td>5</td>\n",
       "      <td>500</td>\n",
       "      <td>0.05</td>\n",
       "      <td>LINESTRING (33.25931 3.30027, 33.25168 3.37345)</td>\n",
       "    </tr>\n",
       "    <tr>\n",
       "      <td>4</td>\n",
       "      <td>4</td>\n",
       "      <td>500</td>\n",
       "      <td>0.05</td>\n",
       "      <td>LINESTRING (33.25931 3.30027, 33.20872 3.26694)</td>\n",
       "    </tr>\n",
       "    <tr>\n",
       "      <td>5</td>\n",
       "      <td>7</td>\n",
       "      <td>200</td>\n",
       "      <td>0.07</td>\n",
       "      <td>LINESTRING (33.32978 3.37480, 33.19826 3.31296)</td>\n",
       "    </tr>\n",
       "    <tr>\n",
       "      <td>6</td>\n",
       "      <td>6</td>\n",
       "      <td>200</td>\n",
       "      <td>0.07</td>\n",
       "      <td>LINESTRING (33.32978 3.37480, 33.25168 3.37345)</td>\n",
       "    </tr>\n",
       "    <tr>\n",
       "      <td>7</td>\n",
       "      <td>8</td>\n",
       "      <td>200</td>\n",
       "      <td>0.08</td>\n",
       "      <td>LINESTRING (33.20872 3.26694, 33.19826 3.31296)</td>\n",
       "    </tr>\n",
       "  </tbody>\n",
       "</table>\n",
       "</div>"
      ],
      "text/plain": [
       "   id  capacity  loss_factr                                         geometry\n",
       "0   1      1000        0.03  LINESTRING (33.36255 3.29727, 33.33386 3.34876)\n",
       "1   3       500        0.05  LINESTRING (33.33386 3.34876, 33.32978 3.37480)\n",
       "2   2       500        0.05  LINESTRING (33.33386 3.34876, 33.25931 3.30027)\n",
       "3   5       500        0.05  LINESTRING (33.25931 3.30027, 33.25168 3.37345)\n",
       "4   4       500        0.05  LINESTRING (33.25931 3.30027, 33.20872 3.26694)\n",
       "5   7       200        0.07  LINESTRING (33.32978 3.37480, 33.19826 3.31296)\n",
       "6   6       200        0.07  LINESTRING (33.32978 3.37480, 33.25168 3.37345)\n",
       "7   8       200        0.08  LINESTRING (33.20872 3.26694, 33.19826 3.31296)"
      ]
     },
     "execution_count": 229,
     "metadata": {},
     "output_type": "execute_result"
    }
   ],
   "source": [
    "input_power_lines_gpd"
   ]
  },
  {
   "cell_type": "code",
   "execution_count": 230,
   "metadata": {},
   "outputs": [
    {
     "data": {
      "text/plain": [
       "8"
      ]
     },
     "execution_count": 230,
     "metadata": {},
     "output_type": "execute_result"
    }
   ],
   "source": [
    "len(input_power_lines_gpd)"
   ]
  },
  {
   "cell_type": "code",
   "execution_count": 231,
   "metadata": {},
   "outputs": [],
   "source": [
    "# if not os.path.exists(outRailGraph):\n",
    "\n",
    "allPowerLines = unary_union(input_power_lines_gpd['geometry'])\n",
    "\n",
    "bag_of_relevant_points = unary_union(input_power_nodes_snapped_temp_joined_geo.geometry)"
   ]
  },
  {
   "cell_type": "code",
   "execution_count": 232,
   "metadata": {},
   "outputs": [
    {
     "data": {
      "image/svg+xml": [
       "<svg xmlns=\"http://www.w3.org/2000/svg\" xmlns:xlink=\"http://www.w3.org/1999/xlink\" width=\"100.0\" height=\"100.0\" viewBox=\"33.19168990976046 3.260363582063943 0.1774322863187976 0.12100342874157066\" preserveAspectRatio=\"xMinYMin meet\"><g transform=\"matrix(1,0,0,-1,0,6.641730592869457)\"><g><polyline fill=\"none\" stroke=\"#66cc99\" stroke-width=\"0.003548645726375952\" points=\"33.32978257461352,3.3747954446455584 33.25167789484355,3.3734511466084047\" opacity=\"0.8\" /><polyline fill=\"none\" stroke=\"#66cc99\" stroke-width=\"0.003548645726375952\" points=\"33.20871566336239,3.2669351482238986 33.19826147592042,3.312955821872942\" opacity=\"0.8\" /><polyline fill=\"none\" stroke=\"#66cc99\" stroke-width=\"0.003548645726375952\" points=\"33.362550629919305,3.2972712424907833 33.33385735159716,3.348764698405603\" opacity=\"0.8\" /><polyline fill=\"none\" stroke=\"#66cc99\" stroke-width=\"0.003548645726375952\" points=\"33.259312033268635,3.300273927870942 33.20871566336239,3.2669351482238986\" opacity=\"0.8\" /><polyline fill=\"none\" stroke=\"#66cc99\" stroke-width=\"0.003548645726375952\" points=\"33.33385735159716,3.348764698405603 33.259312033268635,3.300273927870942\" opacity=\"0.8\" /><polyline fill=\"none\" stroke=\"#66cc99\" stroke-width=\"0.003548645726375952\" points=\"33.259312033268635,3.300273927870942 33.25519625070665,3.339725861284189\" opacity=\"0.8\" /><polyline fill=\"none\" stroke=\"#66cc99\" stroke-width=\"0.003548645726375952\" points=\"33.25519625070665,3.339725861284189 33.19826147592042,3.312955821872942\" opacity=\"0.8\" /><polyline fill=\"none\" stroke=\"#66cc99\" stroke-width=\"0.003548645726375952\" points=\"33.25519625070665,3.339725861284189 33.25167789484355,3.3734511466084047\" opacity=\"0.8\" /><polyline fill=\"none\" stroke=\"#66cc99\" stroke-width=\"0.003548645726375952\" points=\"33.32978257461352,3.3747954446455584 33.25519625070665,3.339725861284189\" opacity=\"0.8\" /><polyline fill=\"none\" stroke=\"#66cc99\" stroke-width=\"0.003548645726375952\" points=\"33.33385735159716,3.348764698405603 33.32978257461352,3.3747954446455584\" opacity=\"0.8\" /></g></g></svg>"
      ],
      "text/plain": [
       "<shapely.geometry.multilinestring.MultiLineString at 0x7f9c38970128>"
      ]
     },
     "execution_count": 232,
     "metadata": {},
     "output_type": "execute_result"
    }
   ],
   "source": [
    "allPowerLines"
   ]
  },
  {
   "cell_type": "code",
   "execution_count": 233,
   "metadata": {},
   "outputs": [
    {
     "data": {
      "text/plain": [
       "10"
      ]
     },
     "execution_count": 233,
     "metadata": {},
     "output_type": "execute_result"
    }
   ],
   "source": [
    "len(allPowerLines)"
   ]
  },
  {
   "cell_type": "code",
   "execution_count": 234,
   "metadata": {},
   "outputs": [],
   "source": [
    "# oh man, so unary union creates more lines where they intersect. This is not good."
   ]
  },
  {
   "cell_type": "code",
   "execution_count": 235,
   "metadata": {},
   "outputs": [
    {
     "data": {
      "text/html": [
       "<div>\n",
       "<style scoped>\n",
       "    .dataframe tbody tr th:only-of-type {\n",
       "        vertical-align: middle;\n",
       "    }\n",
       "\n",
       "    .dataframe tbody tr th {\n",
       "        vertical-align: top;\n",
       "    }\n",
       "\n",
       "    .dataframe thead th {\n",
       "        text-align: right;\n",
       "    }\n",
       "</style>\n",
       "<table border=\"1\" class=\"dataframe\">\n",
       "  <thead>\n",
       "    <tr style=\"text-align: right;\">\n",
       "      <th></th>\n",
       "      <th>NN</th>\n",
       "      <th>id</th>\n",
       "      <th>demand</th>\n",
       "      <th>NN_dist</th>\n",
       "      <th>geometry</th>\n",
       "    </tr>\n",
       "  </thead>\n",
       "  <tbody>\n",
       "    <tr>\n",
       "      <td>0</td>\n",
       "      <td>1</td>\n",
       "      <td>2</td>\n",
       "      <td>None</td>\n",
       "      <td>0.0</td>\n",
       "      <td>POINT (33.33386 3.34876)</td>\n",
       "    </tr>\n",
       "    <tr>\n",
       "      <td>1</td>\n",
       "      <td>3</td>\n",
       "      <td>4</td>\n",
       "      <td>100</td>\n",
       "      <td>0.0</td>\n",
       "      <td>POINT (33.32978 3.37480)</td>\n",
       "    </tr>\n",
       "    <tr>\n",
       "      <td>2</td>\n",
       "      <td>5</td>\n",
       "      <td>3</td>\n",
       "      <td>100</td>\n",
       "      <td>0.0</td>\n",
       "      <td>POINT (33.25931 3.30027)</td>\n",
       "    </tr>\n",
       "    <tr>\n",
       "      <td>3</td>\n",
       "      <td>11</td>\n",
       "      <td>7</td>\n",
       "      <td>100</td>\n",
       "      <td>0.0</td>\n",
       "      <td>POINT (33.19826 3.31296)</td>\n",
       "    </tr>\n",
       "    <tr>\n",
       "      <td>4</td>\n",
       "      <td>7</td>\n",
       "      <td>6</td>\n",
       "      <td>100</td>\n",
       "      <td>0.0</td>\n",
       "      <td>POINT (33.25168 3.37345)</td>\n",
       "    </tr>\n",
       "    <tr>\n",
       "      <td>5</td>\n",
       "      <td>9</td>\n",
       "      <td>5</td>\n",
       "      <td>200</td>\n",
       "      <td>0.0</td>\n",
       "      <td>POINT (33.20872 3.26694)</td>\n",
       "    </tr>\n",
       "    <tr>\n",
       "      <td>6</td>\n",
       "      <td>0</td>\n",
       "      <td>1</td>\n",
       "      <td>None</td>\n",
       "      <td>0.0</td>\n",
       "      <td>POINT (33.36255 3.29727)</td>\n",
       "    </tr>\n",
       "  </tbody>\n",
       "</table>\n",
       "</div>"
      ],
      "text/plain": [
       "   NN  id demand  NN_dist                  geometry\n",
       "0   1   2   None      0.0  POINT (33.33386 3.34876)\n",
       "1   3   4    100      0.0  POINT (33.32978 3.37480)\n",
       "2   5   3    100      0.0  POINT (33.25931 3.30027)\n",
       "3  11   7    100      0.0  POINT (33.19826 3.31296)\n",
       "4   7   6    100      0.0  POINT (33.25168 3.37345)\n",
       "5   9   5    200      0.0  POINT (33.20872 3.26694)\n",
       "6   0   1   None      0.0  POINT (33.36255 3.29727)"
      ]
     },
     "execution_count": 235,
     "metadata": {},
     "output_type": "execute_result"
    }
   ],
   "source": [
    "input_power_nodes_snapped_temp_joined_geo"
   ]
  },
  {
   "cell_type": "code",
   "execution_count": 236,
   "metadata": {},
   "outputs": [
    {
     "data": {
      "text/plain": [
       "7"
      ]
     },
     "execution_count": 236,
     "metadata": {},
     "output_type": "execute_result"
    }
   ],
   "source": [
    "len(bag_of_relevant_points)"
   ]
  },
  {
   "cell_type": "code",
   "execution_count": 237,
   "metadata": {},
   "outputs": [
    {
     "name": "stdout",
     "output_type": "stream",
     "text": [
      "MULTIPOINT (33.19826147592042 3.312955821872942, 33.20871566336239 3.266935148223899, 33.25167789484355 3.373451146608405, 33.25931203326864 3.300273927870942, 33.32978257461352 3.374795444645558, 33.33385735159716 3.348764698405603, 33.3625506299193 3.297271242490783)\n"
     ]
    }
   ],
   "source": [
    "print(bag_of_relevant_points)"
   ]
  },
  {
   "cell_type": "code",
   "execution_count": 238,
   "metadata": {},
   "outputs": [
    {
     "name": "stdout",
     "output_type": "stream",
     "text": [
      "print count of split geometries\n",
      "10\n",
      "LINESTRING (33.32978257461352 3.374795444645558, 33.25167789484355 3.373451146608405)\n",
      "LINESTRING (33.20871566336239 3.266935148223899, 33.19826147592042 3.312955821872942)\n",
      "LINESTRING (33.3625506299193 3.297271242490783, 33.33385735159716 3.348764698405603)\n",
      "LINESTRING (33.25931203326864 3.300273927870942, 33.20871566336239 3.266935148223899)\n",
      "LINESTRING (33.33385735159716 3.348764698405603, 33.25931203326864 3.300273927870942)\n",
      "LINESTRING (33.25931203326864 3.300273927870942, 33.25519625070665 3.339725861284189)\n",
      "LINESTRING (33.25519625070665 3.339725861284189, 33.19826147592042 3.312955821872942)\n",
      "LINESTRING (33.25519625070665 3.339725861284189, 33.25167789484355 3.373451146608405)\n",
      "LINESTRING (33.32978257461352 3.374795444645558, 33.25519625070665 3.339725861284189)\n",
      "LINESTRING (33.33385735159716 3.348764698405603, 33.32978257461352 3.374795444645558)\n"
     ]
    }
   ],
   "source": [
    "# a shapely.ops function\n",
    "split_geoms = split(allPowerLines, bag_of_relevant_points)\n",
    "\n",
    "print('print count of split geometries')\n",
    "print(len(split_geoms))\n",
    "\n",
    "geom_bag = []\n",
    "\n",
    "for geom in split_geoms:\n",
    "    g = geom.coords[0]\n",
    "    h = geom.coords[-1]\n",
    "    geom_bag.append(str(g))\n",
    "    geom_bag.append(str(h))\n",
    "    print(geom)\n"
   ]
  },
  {
   "cell_type": "code",
   "execution_count": 239,
   "metadata": {},
   "outputs": [
    {
     "data": {
      "text/plain": [
       "[0, 0, 0, 0, 0, 0, 0, 0, 0, 0, 0, 0, 0, 0, 0, 0, 0, 0, 0, 0]"
      ]
     },
     "execution_count": 239,
     "metadata": {},
     "output_type": "execute_result"
    }
   ],
   "source": [
    "\n",
    "ref = pd.DataFrame({'node_ids':range(0, len(geom_bag)),'geoms':geom_bag})\n",
    "ref = ref.drop_duplicates('geoms')\n",
    "ref = ref.set_index('geoms')\n",
    "\n",
    "nodes = []\n",
    "edges = []\n",
    "\n",
    "for geom in split_geoms:\n",
    "    u_data,v_data,edge_data = {},{},{}\n",
    "\n",
    "    # start node\n",
    "    # it is getting a reference to that node's coords\n",
    "    u = ref['node_ids'].loc[str(geom.coords[0])]\n",
    "    u_data['x'] = geom.coords[0][0]\n",
    "    u_data['y'] = geom.coords[0][1]\n",
    "    u_data['geom'] = Point(geom.coords[0])\n",
    "    #u_data['string'] = str(geom.coords[0])\n",
    "\n",
    "    # end node\n",
    "    v = ref['node_ids'].loc[str(geom.coords[-1])]\n",
    "    v_data['x'] = geom.coords[-1][0]\n",
    "    v_data['y'] = geom.coords[-1][1]\n",
    "    v_data['geom'] = Point(geom.coords[-1])\n",
    "    #v_data['string'] = str(geom.coords[-1])\n",
    "\n",
    "    # edge\n",
    "    edge_data['geom'] = geom\n",
    "    edge_data['length'] = geom.length\n",
    "    #edge_data['rail_type'] = geom.rail_type\n",
    "\n",
    "    nodes.append((u,u_data))\n",
    "    nodes.append((v,v_data))\n",
    "    edges.append((u,v,edge_data))\n",
    "    edges.append((v,u,edge_data))\n",
    "\n",
    "    id_ += 2\n",
    "\n",
    "G_PowerLines = nx.MultiDiGraph()\n",
    "G_PowerLines.add_nodes_from(nodes)\n",
    "G_PowerLines.add_edges_from(edges)"
   ]
  },
  {
   "cell_type": "code",
   "execution_count": 240,
   "metadata": {},
   "outputs": [
    {
     "data": {
      "text/plain": [
       "20"
      ]
     },
     "execution_count": 240,
     "metadata": {},
     "output_type": "execute_result"
    }
   ],
   "source": [
    "len(nodes)"
   ]
  },
  {
   "cell_type": "code",
   "execution_count": 241,
   "metadata": {},
   "outputs": [
    {
     "data": {
      "text/plain": [
       "8"
      ]
     },
     "execution_count": 241,
     "metadata": {},
     "output_type": "execute_result"
    }
   ],
   "source": [
    "# why is there 8?\n",
    "G_PowerLines.number_of_nodes()"
   ]
  },
  {
   "cell_type": "code",
   "execution_count": 242,
   "metadata": {},
   "outputs": [
    {
     "data": {
      "image/png": "[encoded data removed]",
      "text/plain": [
       "<Figure size 432x288 with 1 Axes>"
      ]
     },
     "metadata": {},
     "output_type": "display_data"
    }
   ],
   "source": [
    "nx.draw(G_PowerLines, with_labels = True)"
   ]
  },
  {
   "cell_type": "markdown",
   "metadata": {},
   "source": [
    "#### you can see below that the edges only have the geometry and the length attributes"
   ]
  },
  {
   "cell_type": "code",
   "execution_count": 243,
   "metadata": {},
   "outputs": [
    {
     "name": "stdout",
     "output_type": "stream",
     "text": [
      "(0, 1, {'geom': <shapely.geometry.linestring.LineString object at 0x7f9c3ae023c8>, 'length': 0.07811624760049216})\n",
      "(0, 11, {'geom': <shapely.geometry.linestring.LineString object at 0x7f9c388be2e8>, 'length': 0.08241962988924229})\n",
      "(0, 5, {'geom': <shapely.geometry.linestring.LineString object at 0x7f9c388be390>, 'length': 0.026347742925635312})\n"
     ]
    }
   ],
   "source": [
    "gn.example_edge(G_PowerLines, 3)"
   ]
  },
  {
   "cell_type": "code",
   "execution_count": 244,
   "metadata": {},
   "outputs": [
    {
     "name": "stdout",
     "output_type": "stream",
     "text": [
      "(0, {'x': 33.32978257461352, 'y': 3.3747954446455584, 'geom': <shapely.geometry.point.Point object at 0x7f9c388be400>})\n",
      "(1, {'x': 33.25167789484355, 'y': 3.3734511466084047, 'geom': <shapely.geometry.point.Point object at 0x7f9c388be2b0>})\n",
      "(2, {'x': 33.20871566336239, 'y': 3.2669351482238986, 'geom': <shapely.geometry.point.Point object at 0x7f9c38d69320>})\n",
      "(3, {'x': 33.19826147592042, 'y': 3.312955821872942, 'geom': <shapely.geometry.point.Point object at 0x7f9c388be080>})\n",
      "(4, {'x': 33.362550629919305, 'y': 3.2972712424907833, 'geom': <shapely.geometry.point.Point object at 0x7f9c388f2c88>})\n",
      "(5, {'x': 33.33385735159716, 'y': 3.348764698405603, 'geom': <shapely.geometry.point.Point object at 0x7f9c388be3c8>})\n",
      "(6, {'x': 33.259312033268635, 'y': 3.300273927870942, 'geom': <shapely.geometry.point.Point object at 0x7f9c388be198>})\n",
      "(11, {'x': 33.25519625070665, 'y': 3.339725861284189, 'geom': <shapely.geometry.point.Point object at 0x7f9c388be358>})\n"
     ]
    }
   ],
   "source": [
    "gn.example_node(G_PowerLines, 8)"
   ]
  },
  {
   "cell_type": "markdown",
   "metadata": {},
   "source": [
    "#### you can see below that there is an additional attribute 'rail_type' that we would like to add to the edges"
   ]
  },
  {
   "cell_type": "code",
   "execution_count": 245,
   "metadata": {},
   "outputs": [
    {
     "data": {
      "text/html": [
       "<div>\n",
       "<style scoped>\n",
       "    .dataframe tbody tr th:only-of-type {\n",
       "        vertical-align: middle;\n",
       "    }\n",
       "\n",
       "    .dataframe tbody tr th {\n",
       "        vertical-align: top;\n",
       "    }\n",
       "\n",
       "    .dataframe thead th {\n",
       "        text-align: right;\n",
       "    }\n",
       "</style>\n",
       "<table border=\"1\" class=\"dataframe\">\n",
       "  <thead>\n",
       "    <tr style=\"text-align: right;\">\n",
       "      <th></th>\n",
       "      <th>id</th>\n",
       "      <th>capacity</th>\n",
       "      <th>loss_factr</th>\n",
       "      <th>geometry</th>\n",
       "    </tr>\n",
       "  </thead>\n",
       "  <tbody>\n",
       "    <tr>\n",
       "      <td>0</td>\n",
       "      <td>1</td>\n",
       "      <td>1000</td>\n",
       "      <td>0.03</td>\n",
       "      <td>LINESTRING (33.36255 3.29727, 33.33386 3.34876)</td>\n",
       "    </tr>\n",
       "    <tr>\n",
       "      <td>1</td>\n",
       "      <td>3</td>\n",
       "      <td>500</td>\n",
       "      <td>0.05</td>\n",
       "      <td>LINESTRING (33.33386 3.34876, 33.32978 3.37480)</td>\n",
       "    </tr>\n",
       "    <tr>\n",
       "      <td>2</td>\n",
       "      <td>2</td>\n",
       "      <td>500</td>\n",
       "      <td>0.05</td>\n",
       "      <td>LINESTRING (33.33386 3.34876, 33.25931 3.30027)</td>\n",
       "    </tr>\n",
       "    <tr>\n",
       "      <td>3</td>\n",
       "      <td>5</td>\n",
       "      <td>500</td>\n",
       "      <td>0.05</td>\n",
       "      <td>LINESTRING (33.25931 3.30027, 33.25168 3.37345)</td>\n",
       "    </tr>\n",
       "    <tr>\n",
       "      <td>4</td>\n",
       "      <td>4</td>\n",
       "      <td>500</td>\n",
       "      <td>0.05</td>\n",
       "      <td>LINESTRING (33.25931 3.30027, 33.20872 3.26694)</td>\n",
       "    </tr>\n",
       "  </tbody>\n",
       "</table>\n",
       "</div>"
      ],
      "text/plain": [
       "   id  capacity  loss_factr                                         geometry\n",
       "0   1      1000        0.03  LINESTRING (33.36255 3.29727, 33.33386 3.34876)\n",
       "1   3       500        0.05  LINESTRING (33.33386 3.34876, 33.32978 3.37480)\n",
       "2   2       500        0.05  LINESTRING (33.33386 3.34876, 33.25931 3.30027)\n",
       "3   5       500        0.05  LINESTRING (33.25931 3.30027, 33.25168 3.37345)\n",
       "4   4       500        0.05  LINESTRING (33.25931 3.30027, 33.20872 3.26694)"
      ]
     },
     "execution_count": 245,
     "metadata": {},
     "output_type": "execute_result"
    }
   ],
   "source": [
    "input_power_lines_gpd[:5]"
   ]
  },
  {
   "cell_type": "markdown",
   "metadata": {},
   "source": [
    "### Find all edges that intersect the input railways and where they do add the attributes to the edges"
   ]
  },
  {
   "cell_type": "code",
   "execution_count": 246,
   "metadata": {},
   "outputs": [
    {
     "name": "stdout",
     "output_type": "stream",
     "text": [
      "20\n",
      "72\n",
      "88\n"
     ]
    }
   ],
   "source": [
    "#if not os.path.exists(outRailGraph):\n",
    "\n",
    "# Remember that this is a MultiDiGraph so there are two directed edges between each pair of nodes. \n",
    "graph_edge_count = 0\n",
    "graph_edge_intersects = 0\n",
    "graph_edge_no_intersects = 0\n",
    "\n",
    "# loop through each edge in the graph\n",
    "for edge in G_PowerLines.edges(data=True):\n",
    "    graph_edge_count += 1\n",
    "    # loop through each power line in the input railway geodataframe\n",
    "    for row in input_power_lines_gpd.itertuples(index=False):\n",
    "        # if there is an intersection\n",
    "        if edge[2]['geom'].intersects(row.geometry):\n",
    "            # print(\"an intersection has occurred\")\n",
    "            graph_edge_intersects += 1\n",
    "            # for the edge add all the attributes that are not length or geometry\n",
    "            row_dict = row._asdict()\n",
    "            for name,value in row_dict.items():\n",
    "                if not (name=='geometry' or name=='length'):\n",
    "                    #print(name)\n",
    "                    # This updates the edge and adds a new attribute key and value\n",
    "                    #G_rail[edge[0]][edge[1]][0].update(name=value)\n",
    "                    G_PowerLines[edge[0]][edge[1]][0][name]=value\n",
    "        else:\n",
    "            graph_edge_no_intersects += 1\n",
    "\n",
    "#nx.write_gpickle(G_PowerLines, outPowerLinesGraph)\n",
    "\n",
    "    \n",
    "    #else:\n",
    "#    G_rail = nx.read_gpickle(outPowerLinesGraph) \n",
    "    \n",
    "print(graph_edge_count)\n",
    "print(graph_edge_intersects)\n",
    "print(graph_edge_no_intersects)"
   ]
  },
  {
   "cell_type": "markdown",
   "metadata": {},
   "source": [
    "### Find all nodes that intersect the input nodes and where they do add the attributes to the nodes"
   ]
  },
  {
   "cell_type": "code",
   "execution_count": 247,
   "metadata": {},
   "outputs": [
    {
     "data": {
      "text/html": [
       "<div>\n",
       "<style scoped>\n",
       "    .dataframe tbody tr th:only-of-type {\n",
       "        vertical-align: middle;\n",
       "    }\n",
       "\n",
       "    .dataframe tbody tr th {\n",
       "        vertical-align: top;\n",
       "    }\n",
       "\n",
       "    .dataframe thead th {\n",
       "        text-align: right;\n",
       "    }\n",
       "</style>\n",
       "<table border=\"1\" class=\"dataframe\">\n",
       "  <thead>\n",
       "    <tr style=\"text-align: right;\">\n",
       "      <th></th>\n",
       "      <th>NN</th>\n",
       "      <th>id</th>\n",
       "      <th>demand</th>\n",
       "      <th>NN_dist</th>\n",
       "      <th>geometry</th>\n",
       "    </tr>\n",
       "  </thead>\n",
       "  <tbody>\n",
       "    <tr>\n",
       "      <td>0</td>\n",
       "      <td>1</td>\n",
       "      <td>2</td>\n",
       "      <td>None</td>\n",
       "      <td>0.0</td>\n",
       "      <td>POINT (33.33386 3.34876)</td>\n",
       "    </tr>\n",
       "    <tr>\n",
       "      <td>1</td>\n",
       "      <td>3</td>\n",
       "      <td>4</td>\n",
       "      <td>100</td>\n",
       "      <td>0.0</td>\n",
       "      <td>POINT (33.32978 3.37480)</td>\n",
       "    </tr>\n",
       "    <tr>\n",
       "      <td>2</td>\n",
       "      <td>5</td>\n",
       "      <td>3</td>\n",
       "      <td>100</td>\n",
       "      <td>0.0</td>\n",
       "      <td>POINT (33.25931 3.30027)</td>\n",
       "    </tr>\n",
       "    <tr>\n",
       "      <td>3</td>\n",
       "      <td>11</td>\n",
       "      <td>7</td>\n",
       "      <td>100</td>\n",
       "      <td>0.0</td>\n",
       "      <td>POINT (33.19826 3.31296)</td>\n",
       "    </tr>\n",
       "    <tr>\n",
       "      <td>4</td>\n",
       "      <td>7</td>\n",
       "      <td>6</td>\n",
       "      <td>100</td>\n",
       "      <td>0.0</td>\n",
       "      <td>POINT (33.25168 3.37345)</td>\n",
       "    </tr>\n",
       "    <tr>\n",
       "      <td>5</td>\n",
       "      <td>9</td>\n",
       "      <td>5</td>\n",
       "      <td>200</td>\n",
       "      <td>0.0</td>\n",
       "      <td>POINT (33.20872 3.26694)</td>\n",
       "    </tr>\n",
       "    <tr>\n",
       "      <td>6</td>\n",
       "      <td>0</td>\n",
       "      <td>1</td>\n",
       "      <td>None</td>\n",
       "      <td>0.0</td>\n",
       "      <td>POINT (33.36255 3.29727)</td>\n",
       "    </tr>\n",
       "  </tbody>\n",
       "</table>\n",
       "</div>"
      ],
      "text/plain": [
       "   NN  id demand  NN_dist                  geometry\n",
       "0   1   2   None      0.0  POINT (33.33386 3.34876)\n",
       "1   3   4    100      0.0  POINT (33.32978 3.37480)\n",
       "2   5   3    100      0.0  POINT (33.25931 3.30027)\n",
       "3  11   7    100      0.0  POINT (33.19826 3.31296)\n",
       "4   7   6    100      0.0  POINT (33.25168 3.37345)\n",
       "5   9   5    200      0.0  POINT (33.20872 3.26694)\n",
       "6   0   1   None      0.0  POINT (33.36255 3.29727)"
      ]
     },
     "execution_count": 247,
     "metadata": {},
     "output_type": "execute_result"
    }
   ],
   "source": [
    "input_power_nodes_snapped_temp_joined_geo"
   ]
  },
  {
   "cell_type": "code",
   "execution_count": 248,
   "metadata": {},
   "outputs": [
    {
     "name": "stdout",
     "output_type": "stream",
     "text": [
      "(0, {'x': 33.32978257461352, 'y': 3.3747954446455584, 'geom': <shapely.geometry.point.Point object at 0x7f9c388be400>})\n",
      "(1, {'x': 33.25167789484355, 'y': 3.3734511466084047, 'geom': <shapely.geometry.point.Point object at 0x7f9c388be2b0>})\n",
      "(2, {'x': 33.20871566336239, 'y': 3.2669351482238986, 'geom': <shapely.geometry.point.Point object at 0x7f9c38d69320>})\n",
      "(3, {'x': 33.19826147592042, 'y': 3.312955821872942, 'geom': <shapely.geometry.point.Point object at 0x7f9c388be080>})\n",
      "(4, {'x': 33.362550629919305, 'y': 3.2972712424907833, 'geom': <shapely.geometry.point.Point object at 0x7f9c388f2c88>})\n",
      "(5, {'x': 33.33385735159716, 'y': 3.348764698405603, 'geom': <shapely.geometry.point.Point object at 0x7f9c388be3c8>})\n",
      "(6, {'x': 33.259312033268635, 'y': 3.300273927870942, 'geom': <shapely.geometry.point.Point object at 0x7f9c388be198>})\n",
      "(11, {'x': 33.25519625070665, 'y': 3.339725861284189, 'geom': <shapely.geometry.point.Point object at 0x7f9c388be358>})\n"
     ]
    }
   ],
   "source": [
    "for n in G_PowerLines.nodes(data = True):\n",
    "    print(n)\n",
    "    #print(n[0])\n",
    "    #print(G_PowerLines.nodes[n[0]]['x'])"
   ]
  },
  {
   "cell_type": "code",
   "execution_count": 249,
   "metadata": {},
   "outputs": [],
   "source": [
    "for node in G_PowerLines.nodes(data=True):\n",
    "    #print(node)\n",
    "    # loop through each power node in the input power node geodataframe\n",
    "    for row in input_power_nodes_snapped_temp_joined_geo.itertuples(index=False):\n",
    "        # if there is an intersection\n",
    "        if node[1]['geom'].intersects(row.geometry):\n",
    "            # print('match')\n",
    "            # for the node add all the attributes that are not geometry\n",
    "            row_dict = row._asdict()\n",
    "            for name,value in row_dict.items():\n",
    "                if not (name == 'geometry'):\n",
    "                    #print(name)\n",
    "                    #print(G_PowerLines.node[node])\n",
    "                    # This updates the node and adds a new attribute key and value\n",
    "                    #G_rail[edge[0]][edge[1]][0].update(name=value)\n",
    "                    #G_PowerLines[node[1]][name] = value\n",
    "                    G_PowerLines.nodes[node[0]][name] = value"
   ]
  },
  {
   "cell_type": "code",
   "execution_count": 250,
   "metadata": {},
   "outputs": [
    {
     "name": "stdout",
     "output_type": "stream",
     "text": [
      "(0, {'x': 33.32978257461352, 'y': 3.3747954446455584, 'geom': <shapely.geometry.point.Point object at 0x7f9c388be400>, 'NN': 3, 'id': 4, 'demand': '100', 'NN_dist': 0.0})\n",
      "(1, {'x': 33.25167789484355, 'y': 3.3734511466084047, 'geom': <shapely.geometry.point.Point object at 0x7f9c388be2b0>, 'NN': 7, 'id': 6, 'demand': '100', 'NN_dist': 0.0})\n",
      "(2, {'x': 33.20871566336239, 'y': 3.2669351482238986, 'geom': <shapely.geometry.point.Point object at 0x7f9c38d69320>, 'NN': 9, 'id': 5, 'demand': '200', 'NN_dist': 0.0})\n",
      "(3, {'x': 33.19826147592042, 'y': 3.312955821872942, 'geom': <shapely.geometry.point.Point object at 0x7f9c388be080>, 'NN': 11, 'id': 7, 'demand': '100', 'NN_dist': 0.0})\n",
      "(4, {'x': 33.362550629919305, 'y': 3.2972712424907833, 'geom': <shapely.geometry.point.Point object at 0x7f9c388f2c88>, 'NN': 0, 'id': 1, 'demand': None, 'NN_dist': 0.0})\n",
      "(5, {'x': 33.33385735159716, 'y': 3.348764698405603, 'geom': <shapely.geometry.point.Point object at 0x7f9c388be3c8>, 'NN': 1, 'id': 2, 'demand': None, 'NN_dist': 0.0})\n",
      "(6, {'x': 33.259312033268635, 'y': 3.300273927870942, 'geom': <shapely.geometry.point.Point object at 0x7f9c388be198>, 'NN': 5, 'id': 3, 'demand': '100', 'NN_dist': 0.0})\n",
      "(11, {'x': 33.25519625070665, 'y': 3.339725861284189, 'geom': <shapely.geometry.point.Point object at 0x7f9c388be358>})\n"
     ]
    }
   ],
   "source": [
    "gn.example_node(G_PowerLines, 11)"
   ]
  },
  {
   "cell_type": "code",
   "execution_count": 251,
   "metadata": {},
   "outputs": [
    {
     "name": "stdout",
     "output_type": "stream",
     "text": [
      "(0, 1, {'geom': <shapely.geometry.linestring.LineString object at 0x7f9c3ae023c8>, 'length': 0.07811624760049216, 'id': 6, 'capacity': 200, 'loss_factr': 0.07})\n",
      "(0, 11, {'geom': <shapely.geometry.linestring.LineString object at 0x7f9c388be2e8>, 'length': 0.08241962988924229, 'id': 6, 'capacity': 200, 'loss_factr': 0.07})\n",
      "(0, 5, {'geom': <shapely.geometry.linestring.LineString object at 0x7f9c388be390>, 'length': 0.026347742925635312, 'id': 6, 'capacity': 200, 'loss_factr': 0.07})\n",
      "(1, 0, {'geom': <shapely.geometry.linestring.LineString object at 0x7f9c3ae023c8>, 'length': 0.07811624760049216, 'id': 6, 'capacity': 200, 'loss_factr': 0.07})\n",
      "(1, 11, {'geom': <shapely.geometry.linestring.LineString object at 0x7f9c388be240>, 'length': 0.03390831311314645, 'id': 6, 'capacity': 200, 'loss_factr': 0.07})\n",
      "(2, 3, {'geom': <shapely.geometry.linestring.LineString object at 0x7f9c3ae02a20>, 'length': 0.047193139736445046, 'id': 8, 'capacity': 200, 'loss_factr': 0.08})\n",
      "(2, 6, {'geom': <shapely.geometry.linestring.LineString object at 0x7f9c388f2dd8>, 'length': 0.0605926305423661, 'id': 8, 'capacity': 200, 'loss_factr': 0.08})\n",
      "(3, 2, {'geom': <shapely.geometry.linestring.LineString object at 0x7f9c3ae02a20>, 'length': 0.047193139736445046, 'id': 8, 'capacity': 200, 'loss_factr': 0.08})\n",
      "(3, 11, {'geom': <shapely.geometry.linestring.LineString object at 0x7f9c388be208>, 'length': 0.06291425585699197, 'id': 8, 'capacity': 200, 'loss_factr': 0.08})\n",
      "(4, 5, {'geom': <shapely.geometry.linestring.LineString object at 0x7f9c388f2ac8>, 'length': 0.05894811466810071, 'id': 2, 'capacity': 500, 'loss_factr': 0.05})\n",
      "(5, 4, {'geom': <shapely.geometry.linestring.LineString object at 0x7f9c388f2ac8>, 'length': 0.05894811466810071, 'id': 2, 'capacity': 500, 'loss_factr': 0.05})\n",
      "(5, 6, {'geom': <shapely.geometry.linestring.LineString object at 0x7f9c388c3f98>, 'length': 0.08892895654254736, 'id': 4, 'capacity': 500, 'loss_factr': 0.05})\n",
      "(5, 0, {'geom': <shapely.geometry.linestring.LineString object at 0x7f9c388be390>, 'length': 0.026347742925635312, 'id': 6, 'capacity': 200, 'loss_factr': 0.07})\n",
      "(6, 2, {'geom': <shapely.geometry.linestring.LineString object at 0x7f9c388f2dd8>, 'length': 0.0605926305423661, 'id': 8, 'capacity': 200, 'loss_factr': 0.08})\n",
      "(6, 5, {'geom': <shapely.geometry.linestring.LineString object at 0x7f9c388c3f98>, 'length': 0.08892895654254736, 'id': 4, 'capacity': 500, 'loss_factr': 0.05})\n",
      "(6, 11, {'geom': <shapely.geometry.linestring.LineString object at 0x7f9c388c0d30>, 'length': 0.039666039834356744, 'id': 7, 'capacity': 200, 'loss_factr': 0.07})\n",
      "(11, 6, {'geom': <shapely.geometry.linestring.LineString object at 0x7f9c388c0d30>, 'length': 0.039666039834356744, 'id': 7, 'capacity': 200, 'loss_factr': 0.07})\n",
      "(11, 3, {'geom': <shapely.geometry.linestring.LineString object at 0x7f9c388be208>, 'length': 0.06291425585699197, 'id': 8, 'capacity': 200, 'loss_factr': 0.08})\n",
      "(11, 1, {'geom': <shapely.geometry.linestring.LineString object at 0x7f9c388be240>, 'length': 0.03390831311314645, 'id': 6, 'capacity': 200, 'loss_factr': 0.07})\n",
      "(11, 0, {'geom': <shapely.geometry.linestring.LineString object at 0x7f9c388be2e8>, 'length': 0.08241962988924229, 'id': 6, 'capacity': 200, 'loss_factr': 0.07})\n"
     ]
    }
   ],
   "source": [
    "# you can see that the attributes have been added to the graph\n",
    "for edge in G_PowerLines.edges(data=True):\n",
    "    print(edge)\n",
    "    #print(edge[2])"
   ]
  },
  {
   "cell_type": "markdown",
   "metadata": {},
   "source": [
    "## visualize network"
   ]
  },
  {
   "cell_type": "code",
   "execution_count": 252,
   "metadata": {},
   "outputs": [
    {
     "data": {
      "image/png": "[encoded data removed]",
      "text/plain": [
       "<Figure size 432x288 with 1 Axes>"
      ]
     },
     "metadata": {},
     "output_type": "display_data"
    }
   ],
   "source": [
    "nx.draw(G_PowerLines, with_labels = True)"
   ]
  },
  {
   "cell_type": "code",
   "execution_count": 253,
   "metadata": {},
   "outputs": [
    {
     "data": {
      "text/plain": [
       "<matplotlib.collections.PathCollection at 0x7f9c385660f0>"
      ]
     },
     "execution_count": 253,
     "metadata": {},
     "output_type": "execute_result"
    },
    {
     "data": {
      "image/png": "[encoded data removed]",
      "text/plain": [
       "<Figure size 432x288 with 1 Axes>"
      ]
     },
     "metadata": {},
     "output_type": "display_data"
    }
   ],
   "source": [
    "nx.draw_networkx_nodes(G_PowerLines, nx.spring_layout(G_PowerLines))"
   ]
  },
  {
   "cell_type": "code",
   "execution_count": 254,
   "metadata": {},
   "outputs": [
    {
     "data": {
      "text/plain": [
       "{0: Text(-0.03220758528430039, -0.3714501884105765, '0'),\n",
       " 1: Text(0.3573223652120972, -0.5302669817337659, '1'),\n",
       " 2: Text(0.28567246430169596, 0.6364896126267535, '2'),\n",
       " 3: Text(0.6066250435140079, 0.36606169316228937, '3'),\n",
       " 4: Text(-1.0, -0.18134995547116375, '4'),\n",
       " 5: Text(-0.4818922006186191, -0.10370798017668462, '5'),\n",
       " 6: Text(-0.05179459219988593, 0.2536560439811983, '6'),\n",
       " 11: Text(0.3162745050750041, -0.06943224397805049, '11')}"
      ]
     },
     "execution_count": 254,
     "metadata": {},
     "output_type": "execute_result"
    },
    {
     "data": {
      "image/png": "[encoded data removed]",
      "text/plain": [
       "<Figure size 432x288 with 1 Axes>"
      ]
     },
     "metadata": {},
     "output_type": "display_data"
    }
   ],
   "source": [
    "nx.draw_networkx_nodes(G_PowerLines, nx.spring_layout(G_PowerLines))\n",
    "nx.draw_networkx_edges(G_PowerLines, nx.spring_layout(G_PowerLines))\n",
    "nx.draw_networkx_labels(G_PowerLines,nx.spring_layout(G_PowerLines), font_size=16)"
   ]
  },
  {
   "cell_type": "markdown",
   "metadata": {},
   "source": [
    "## For each node in the graph I need to find the neighbors to fill out that matrix"
   ]
  },
  {
   "cell_type": "code",
   "execution_count": 255,
   "metadata": {},
   "outputs": [
    {
     "name": "stdout",
     "output_type": "stream",
     "text": [
      "0\n",
      "1\n",
      "2\n",
      "3\n",
      "4\n",
      "5\n",
      "6\n",
      "11\n"
     ]
    }
   ],
   "source": [
    "for node in G_PowerLines.nodes():\n",
    "    print(node)"
   ]
  },
  {
   "cell_type": "code",
   "execution_count": 256,
   "metadata": {},
   "outputs": [
    {
     "name": "stdout",
     "output_type": "stream",
     "text": [
      "[0, 11]\n"
     ]
    }
   ],
   "source": [
    "print(list(G_PowerLines.neighbors(1)))"
   ]
  },
  {
   "cell_type": "code",
   "execution_count": 257,
   "metadata": {},
   "outputs": [
    {
     "name": "stdout",
     "output_type": "stream",
     "text": [
      "node:\n",
      "{'x': 33.32978257461352, 'y': 3.3747954446455584, 'geom': <shapely.geometry.point.Point object at 0x7f9c388be400>, 'NN': 3, 'id': 4, 'demand': '100', 'NN_dist': 0.0}\n",
      "node:\n",
      "{'x': 33.25167789484355, 'y': 3.3734511466084047, 'geom': <shapely.geometry.point.Point object at 0x7f9c388be2b0>, 'NN': 7, 'id': 6, 'demand': '100', 'NN_dist': 0.0}\n",
      "node:\n",
      "{'x': 33.20871566336239, 'y': 3.2669351482238986, 'geom': <shapely.geometry.point.Point object at 0x7f9c38d69320>, 'NN': 9, 'id': 5, 'demand': '200', 'NN_dist': 0.0}\n",
      "node:\n",
      "{'x': 33.19826147592042, 'y': 3.312955821872942, 'geom': <shapely.geometry.point.Point object at 0x7f9c388be080>, 'NN': 11, 'id': 7, 'demand': '100', 'NN_dist': 0.0}\n",
      "node:\n",
      "{'x': 33.362550629919305, 'y': 3.2972712424907833, 'geom': <shapely.geometry.point.Point object at 0x7f9c388f2c88>, 'NN': 0, 'id': 1, 'demand': None, 'NN_dist': 0.0}\n",
      "node:\n",
      "{'x': 33.33385735159716, 'y': 3.348764698405603, 'geom': <shapely.geometry.point.Point object at 0x7f9c388be3c8>, 'NN': 1, 'id': 2, 'demand': None, 'NN_dist': 0.0}\n",
      "node:\n",
      "{'x': 33.259312033268635, 'y': 3.300273927870942, 'geom': <shapely.geometry.point.Point object at 0x7f9c388be198>, 'NN': 5, 'id': 3, 'demand': '100', 'NN_dist': 0.0}\n",
      "node:\n",
      "{'x': 33.25519625070665, 'y': 3.339725861284189, 'geom': <shapely.geometry.point.Point object at 0x7f9c388be358>}\n"
     ]
    }
   ],
   "source": [
    "for n in G_PowerLines.nodes(data = True):\n",
    "    # from node\n",
    "    print('node:')\n",
    "    print(G_PowerLines.nodes[n[0]])\n",
    "    #print(list(G_PowerLines.neighbors(n[0])))\n",
    "    # print entries in the list\n",
    "    #for entry in list(G_PowerLines.neighbors(n[0])):\n",
    "    #    print(entry)\n",
    "    #    print(G_PowerLines.nodes[entry])"
   ]
  },
  {
   "cell_type": "code",
   "execution_count": 258,
   "metadata": {},
   "outputs": [
    {
     "data": {
      "text/plain": [
       "{0: {'geom': <shapely.geometry.linestring.LineString at 0x7f9c3ae023c8>,\n",
       "  'length': 0.07811624760049216,\n",
       "  'id': 6,\n",
       "  'capacity': 200,\n",
       "  'loss_factr': 0.07}}"
      ]
     },
     "execution_count": 258,
     "metadata": {},
     "output_type": "execute_result"
    }
   ],
   "source": [
    "# get edge between 2 nodes\n",
    "G_PowerLines.get_edge_data(1,0)"
   ]
  },
  {
   "cell_type": "code",
   "execution_count": 261,
   "metadata": {},
   "outputs": [],
   "source": [
    "# let's try something different where we will read the shapefiles from NetworkX\n",
    "G1 = nx.read_shp(os.path.join(inputFolder, \"import_shp_files/\"))"
   ]
  },
  {
   "cell_type": "code",
   "execution_count": 262,
   "metadata": {},
   "outputs": [
    {
     "data": {
      "text/plain": [
       "<networkx.classes.digraph.DiGraph at 0x7f9c384280f0>"
      ]
     },
     "execution_count": 262,
     "metadata": {},
     "output_type": "execute_result"
    }
   ],
   "source": [
    "G1"
   ]
  },
  {
   "cell_type": "code",
   "execution_count": 264,
   "metadata": {},
   "outputs": [
    {
     "data": {
      "image/png": "[encoded data removed]",
      "text/plain": [
       "<Figure size 432x288 with 1 Axes>"
      ]
     },
     "metadata": {},
     "output_type": "display_data"
    }
   ],
   "source": [
    "nx.draw(G1)"
   ]
  },
  {
   "cell_type": "code",
   "execution_count": 265,
   "metadata": {},
   "outputs": [
    {
     "data": {
      "text/plain": [
       "networkx.classes.digraph.DiGraph"
      ]
     },
     "execution_count": 265,
     "metadata": {},
     "output_type": "execute_result"
    }
   ],
   "source": [
    "type(G1)"
   ]
  },
  {
   "cell_type": "code",
   "execution_count": 269,
   "metadata": {},
   "outputs": [],
   "source": [
    "G1_graph = G1.to_undirected()"
   ]
  },
  {
   "cell_type": "code",
   "execution_count": 270,
   "metadata": {},
   "outputs": [
    {
     "data": {
      "image/png": "[encoded data removed]",
      "text/plain": [
       "<Figure size 432x288 with 1 Axes>"
      ]
     },
     "metadata": {},
     "output_type": "display_data"
    }
   ],
   "source": [
    "nx.draw(G1_graph)"
   ]
  },
  {
   "cell_type": "code",
   "execution_count": 271,
   "metadata": {},
   "outputs": [
    {
     "data": {
      "text/plain": [
       "networkx.classes.graph.Graph"
      ]
     },
     "execution_count": 271,
     "metadata": {},
     "output_type": "execute_result"
    }
   ],
   "source": [
    "type(G1_graph)"
   ]
  },
  {
   "cell_type": "code",
   "execution_count": 272,
   "metadata": {},
   "outputs": [
    {
     "name": "stdout",
     "output_type": "stream",
     "text": [
      "node:\n",
      "((33.362550629919305, 3.2972712424907833), {'id': 1, 'demand': None, 'ShpName': 'power_nodes'})\n",
      "node:\n",
      "((33.33385735159716, 3.348764698405603), {'id': 2, 'demand': None, 'ShpName': 'power_nodes'})\n",
      "node:\n",
      "((33.32978257461352, 3.3747954446455584), {'id': 4, 'demand': '100', 'ShpName': 'power_nodes'})\n",
      "node:\n",
      "((33.259312033268635, 3.300273927870942), {'id': 3, 'demand': '100', 'ShpName': 'power_nodes'})\n",
      "node:\n",
      "((33.25167789484355, 3.3734511466084047), {'id': 6, 'demand': '100', 'ShpName': 'power_nodes'})\n",
      "node:\n",
      "((33.20871566336239, 3.2669351482238986), {'id': 5, 'demand': '200', 'ShpName': 'power_nodes'})\n",
      "node:\n",
      "((33.19826147592042, 3.312955821872942), {'id': 7, 'demand': '100', 'ShpName': 'power_nodes'})\n",
      "node:\n",
      "((33.35671522281005, 3.3958558706001303), {'id': 8, 'demand': '100', 'ShpName': 'power_nodes'})\n",
      "node:\n",
      "((33.231029531226206, 3.255145722521551), {'id': 9, 'demand': '100', 'ShpName': 'power_nodes'})\n",
      "node:\n",
      "((33.278610543040095, 3.2484234015116127), {'id': 10, 'demand': '100', 'ShpName': 'power_nodes'})\n"
     ]
    }
   ],
   "source": [
    "for n in G1_graph.nodes(data = True):\n",
    "    # from node\n",
    "    print('node:')\n",
    "    print(n)\n",
    "    #print(G1_graph.nodes[n[0]])"
   ]
  },
  {
   "cell_type": "code",
   "execution_count": 273,
   "metadata": {},
   "outputs": [
    {
     "name": "stdout",
     "output_type": "stream",
     "text": [
      "((33.362550629919305, 3.2972712424907833), (33.33385735159716, 3.348764698405603), {'id': 1, 'capacity': 1000, 'loss_factr': 0.03, 'ShpName': 'power_lines', 'Wkb': b'\\x00\\x00\\x00\\x00\\x02\\x00\\x00\\x00\\x02@@\\xaeh\\x0f\\x1dR\\xe5@\\n`\\xcf\\xbe\\xc4PH@@\\xaa\\xbb\\xd6sQ\\xca@\\n\\xcaE%m6\\x01', 'Wkt': 'LINESTRING (33.3625506299193 3.29727124249078,33.3338573515972 3.3487646984056)', 'Json': '{ \"type\": \"LineString\", \"coordinates\": [ [ 33.362550629919305, 3.297271242490783 ], [ 33.33385735159716, 3.348764698405603 ] ] }'})\n",
      "((33.33385735159716, 3.348764698405603), (33.32978257461352, 3.3747954446455584), {'id': 3, 'capacity': 500, 'loss_factr': 0.05, 'ShpName': 'power_lines', 'Wkb': b'\\x00\\x00\\x00\\x00\\x02\\x00\\x00\\x00\\x02@@\\xaa\\xbb\\xd6sQ\\xca@\\n\\xcaE%m6\\x01@@\\xaa6P\\xbe`\\xbc@\\n\\xff\\x94\\xc1\\x0b\\x8a$', 'Wkt': 'LINESTRING (33.3338573515972 3.3487646984056,33.3297825746135 3.37479544464556)', 'Json': '{ \"type\": \"LineString\", \"coordinates\": [ [ 33.33385735159716, 3.348764698405603 ], [ 33.329782574613517, 3.374795444645558 ] ] }'})\n",
      "((33.33385735159716, 3.348764698405603), (33.259312033268635, 3.300273927870942), {'id': 2, 'capacity': 500, 'loss_factr': 0.05, 'ShpName': 'power_lines', 'Wkb': b'\\x00\\x00\\x00\\x00\\x02\\x00\\x00\\x00\\x02@@\\xaa\\xbb\\xd6sQ\\xca@\\n\\xcaE%m6\\x01@@\\xa11\"\\xff,\\x8d@\\nf\\xf6\\x04``\\x95', 'Wkt': 'LINESTRING (33.3338573515972 3.3487646984056,33.2593120332686 3.30027392787094)', 'Json': '{ \"type\": \"LineString\", \"coordinates\": [ [ 33.33385735159716, 3.348764698405603 ], [ 33.259312033268635, 3.300273927870942 ] ] }'})\n",
      "((33.32978257461352, 3.3747954446455584), (33.19826147592042, 3.312955821872942), {'id': 7, 'capacity': 200, 'loss_factr': 0.07, 'ShpName': 'power_lines', 'Wkb': b'\\x00\\x00\\x00\\x00\\x02\\x00\\x00\\x00\\x02@@\\xaa6P\\xbe`\\xbc@\\n\\xff\\x94\\xc1\\x0b\\x8a$@@\\x99`\\xa1\\xcd\\x91D@\\n\\x80\\xee\\xfb`K\\xf4', 'Wkt': 'LINESTRING (33.3297825746135 3.37479544464556,33.1982614759204 3.31295582187294)', 'Json': '{ \"type\": \"LineString\", \"coordinates\": [ [ 33.329782574613517, 3.374795444645558 ], [ 33.198261475920418, 3.312955821872942 ] ] }'})\n",
      "((33.32978257461352, 3.3747954446455584), (33.25167789484355, 3.3734511466084047), {'id': 6, 'capacity': 200, 'loss_factr': 0.07, 'ShpName': 'power_lines', 'Wkb': b'\\x00\\x00\\x00\\x00\\x02\\x00\\x00\\x00\\x02@@\\xaa6P\\xbe`\\xbc@\\n\\xff\\x94\\xc1\\x0b\\x8a$@@\\xa06\\xfb3\\xbdV@\\n\\xfc\\xd3\\xf4j\\xb1\\xc4', 'Wkt': 'LINESTRING (33.3297825746135 3.37479544464556,33.2516778948436 3.3734511466084)', 'Json': '{ \"type\": \"LineString\", \"coordinates\": [ [ 33.329782574613517, 3.374795444645558 ], [ 33.251677894843553, 3.373451146608405 ] ] }'})\n",
      "((33.259312033268635, 3.300273927870942), (33.25167789484355, 3.3734511466084047), {'id': 5, 'capacity': 500, 'loss_factr': 0.05, 'ShpName': 'power_lines', 'Wkb': b'\\x00\\x00\\x00\\x00\\x02\\x00\\x00\\x00\\x02@@\\xa11\"\\xff,\\x8d@\\nf\\xf6\\x04``\\x95@@\\xa06\\xfb3\\xbdV@\\n\\xfc\\xd3\\xf4j\\xb1\\xc4', 'Wkt': 'LINESTRING (33.2593120332686 3.30027392787094,33.2516778948436 3.3734511466084)', 'Json': '{ \"type\": \"LineString\", \"coordinates\": [ [ 33.259312033268635, 3.300273927870942 ], [ 33.251677894843553, 3.373451146608405 ] ] }'})\n",
      "((33.259312033268635, 3.300273927870942), (33.20871566336239, 3.2669351482238986), {'id': 4, 'capacity': 500, 'loss_factr': 0.05, 'ShpName': 'power_lines', 'Wkb': b'\\x00\\x00\\x00\\x00\\x02\\x00\\x00\\x00\\x02@@\\xa11\"\\xff,\\x8d@\\nf\\xf6\\x04``\\x95@@\\x9a\\xb71\\xe2&\\xf7@\\n\"\\xae\\xe5\\x1e2K', 'Wkt': 'LINESTRING (33.2593120332686 3.30027392787094,33.2087156633624 3.2669351482239)', 'Json': '{ \"type\": \"LineString\", \"coordinates\": [ [ 33.259312033268635, 3.300273927870942 ], [ 33.208715663362391, 3.266935148223899 ] ] }'})\n",
      "((33.20871566336239, 3.2669351482238986), (33.19826147592042, 3.312955821872942), {'id': 8, 'capacity': 200, 'loss_factr': 0.08, 'ShpName': 'power_lines', 'Wkb': b'\\x00\\x00\\x00\\x00\\x02\\x00\\x00\\x00\\x02@@\\x9a\\xb71\\xe2&\\xf7@\\n\"\\xae\\xe5\\x1e2K@@\\x99`\\xa1\\xcd\\x91D@\\n\\x80\\xee\\xfb`K\\xf4', 'Wkt': 'LINESTRING (33.2087156633624 3.2669351482239,33.1982614759204 3.31295582187294)', 'Json': '{ \"type\": \"LineString\", \"coordinates\": [ [ 33.208715663362391, 3.266935148223899 ], [ 33.198261475920418, 3.312955821872942 ] ] }'})\n"
     ]
    }
   ],
   "source": [
    "for e in G1_graph.edges(data = True):\n",
    "    print(e)"
   ]
  },
  {
   "cell_type": "code",
   "execution_count": 278,
   "metadata": {},
   "outputs": [
    {
     "name": "stdout",
     "output_type": "stream",
     "text": [
      "node:\n",
      "{'id': 1, 'demand': None, 'ShpName': 'power_nodes'}\n",
      "node neighbors:\n",
      "(33.33385735159716, 3.348764698405603)\n",
      "{'id': 2, 'demand': None, 'ShpName': 'power_nodes'}\n",
      "node:\n",
      "{'id': 2, 'demand': None, 'ShpName': 'power_nodes'}\n",
      "node neighbors:\n",
      "(33.362550629919305, 3.2972712424907833)\n",
      "{'id': 1, 'demand': None, 'ShpName': 'power_nodes'}\n",
      "(33.32978257461352, 3.3747954446455584)\n",
      "{'id': 4, 'demand': '100', 'ShpName': 'power_nodes'}\n",
      "(33.259312033268635, 3.300273927870942)\n",
      "{'id': 3, 'demand': '100', 'ShpName': 'power_nodes'}\n",
      "node:\n",
      "{'id': 4, 'demand': '100', 'ShpName': 'power_nodes'}\n",
      "node neighbors:\n",
      "(33.33385735159716, 3.348764698405603)\n",
      "{'id': 2, 'demand': None, 'ShpName': 'power_nodes'}\n",
      "(33.19826147592042, 3.312955821872942)\n",
      "{'id': 7, 'demand': '100', 'ShpName': 'power_nodes'}\n",
      "(33.25167789484355, 3.3734511466084047)\n",
      "{'id': 6, 'demand': '100', 'ShpName': 'power_nodes'}\n",
      "node:\n",
      "{'id': 3, 'demand': '100', 'ShpName': 'power_nodes'}\n",
      "node neighbors:\n",
      "(33.33385735159716, 3.348764698405603)\n",
      "{'id': 2, 'demand': None, 'ShpName': 'power_nodes'}\n",
      "(33.25167789484355, 3.3734511466084047)\n",
      "{'id': 6, 'demand': '100', 'ShpName': 'power_nodes'}\n",
      "(33.20871566336239, 3.2669351482238986)\n",
      "{'id': 5, 'demand': '200', 'ShpName': 'power_nodes'}\n",
      "node:\n",
      "{'id': 6, 'demand': '100', 'ShpName': 'power_nodes'}\n",
      "node neighbors:\n",
      "(33.32978257461352, 3.3747954446455584)\n",
      "{'id': 4, 'demand': '100', 'ShpName': 'power_nodes'}\n",
      "(33.259312033268635, 3.300273927870942)\n",
      "{'id': 3, 'demand': '100', 'ShpName': 'power_nodes'}\n",
      "node:\n",
      "{'id': 5, 'demand': '200', 'ShpName': 'power_nodes'}\n",
      "node neighbors:\n",
      "(33.259312033268635, 3.300273927870942)\n",
      "{'id': 3, 'demand': '100', 'ShpName': 'power_nodes'}\n",
      "(33.19826147592042, 3.312955821872942)\n",
      "{'id': 7, 'demand': '100', 'ShpName': 'power_nodes'}\n",
      "node:\n",
      "{'id': 7, 'demand': '100', 'ShpName': 'power_nodes'}\n",
      "node neighbors:\n",
      "(33.32978257461352, 3.3747954446455584)\n",
      "{'id': 4, 'demand': '100', 'ShpName': 'power_nodes'}\n",
      "(33.20871566336239, 3.2669351482238986)\n",
      "{'id': 5, 'demand': '200', 'ShpName': 'power_nodes'}\n",
      "node:\n",
      "{'id': 8, 'demand': '100', 'ShpName': 'power_nodes'}\n",
      "node neighbors:\n",
      "node:\n",
      "{'id': 9, 'demand': '100', 'ShpName': 'power_nodes'}\n",
      "node neighbors:\n",
      "node:\n",
      "{'id': 10, 'demand': '100', 'ShpName': 'power_nodes'}\n",
      "node neighbors:\n"
     ]
    }
   ],
   "source": [
    "for n in G1_graph.nodes(data = True):\n",
    "    # from node\n",
    "    print('node:')\n",
    "    print(G1_graph.nodes[n[0]])\n",
    "    #print(list(G1_graph.neighbors(n[0])))\n",
    "    # print entries in the list\n",
    "    print('node neighbors:')\n",
    "    for entry in list(G1_graph.neighbors(n[0])):\n",
    "        print(entry)\n",
    "        print(G1_graph.nodes[entry])"
   ]
  },
  {
   "cell_type": "code",
   "execution_count": null,
   "metadata": {},
   "outputs": [],
   "source": []
  }
 ],
 "metadata": {
  "kernelspec": {
   "display_name": "Python 3",
   "language": "python",
   "name": "python3"
  },
  "language_info": {
   "codemirror_mode": {
    "name": "ipython",
    "version": 3
   },
   "file_extension": ".py",
   "mimetype": "text/x-python",
   "name": "python",
   "nbconvert_exporter": "python",
   "pygments_lexer": "ipython3",
   "version": "3.7.3"
  }
 },
 "nbformat": 4,
 "nbformat_minor": 2
}
