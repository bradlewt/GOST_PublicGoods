{
 "cells": [
  {
   "cell_type": "markdown",
   "metadata": {},
   "source": [
    "## This code will iterate over multiple Surface Reflectance PlanetScope images:\n",
    "<ol>\n",
    "\n",
    "  <li>Calculate NDVI and associated stats (min, max, mean, etc.) </li>\n",
    "  <li>Plot indivudial NDVI raster for each image</li>\n",
    "  <li>Plot average NDVI temporal curve</li>\n",
    "  <li>Optional: Export NDVI raster or plots into PNGs</li>\n",
    "\n",
    "</ol>"
   ]
  },
  {
   "cell_type": "code",
   "execution_count": null,
   "metadata": {},
   "outputs": [],
   "source": [
    "import os\n",
    "from osgeo import gdal\n",
    "import subprocess\n",
    "import numpy as np\n",
    "import rasterio\n",
    "import matplotlib.dates as mdates\n",
    "import matplotlib.pylab as plt\n",
    "from pandas.plotting import register_matplotlib_converters\n",
    "from datetime import datetime\n",
    "from rasterio.plot import show\n",
    "import matplotlib.pyplot as plt\n",
    "import matplotlib.colors as colors\n",
    "import folium\n",
    "import json\n",
    "from geojson_utils import centroid"
   ]
  },
  {
   "cell_type": "markdown",
   "metadata": {},
   "source": [
    "### File Locations"
   ]
  },
  {
   "cell_type": "markdown",
   "metadata": {},
   "source": [
    "### Note about directory format:\n",
    "\n",
    "* Windows directory format for **files_location** below: `\"C:\\\\subdirectory\\\\directory\\\\\"`\n",
    "* Mac Directory format for **files_location** below: `\"/Users/username/directory/\"`"
   ]
  },
  {
   "cell_type": "code",
   "execution_count": null,
   "metadata": {},
   "outputs": [],
   "source": [
    "aoi_fpath = r\"/your/GeoJSON/directory/aoi.geojson\" #GeoJSON location\n",
    "\n",
    "basemap_name = \"global_monthly_2019_04_mosaic\" # Planet Mosaic Name (Optional)\n",
    "\n",
    "files_location = \"/your/PlanetScope/directory/\" #Downloaded PlanetScope Surface Reflectance images\n"
   ]
  },
  {
   "cell_type": "markdown",
   "metadata": {},
   "source": [
    "### Additional Options"
   ]
  },
  {
   "cell_type": "code",
   "execution_count": null,
   "metadata": {},
   "outputs": [],
   "source": [
    "#Set to True or False\n",
    "\n",
    "write_NDVI_raster = False # Generates NDVI raster for each Surface Reflectance image\n",
    "write_NDVI_plot_figs = True # Generates individual PNGs for each NDVI plot\n",
    "write_NDVI_temporal_plot = False # Generates a PNG of the NDVI temporal plor"
   ]
  },
  {
   "cell_type": "markdown",
   "metadata": {},
   "source": [
    "### Create Map (Optional)"
   ]
  },
  {
   "cell_type": "code",
   "execution_count": null,
   "metadata": {},
   "outputs": [],
   "source": [
    "api_key = os.getenv('PL_API_KEY') # Load API Key by Environment variable\n",
    "\n",
    "#Read GeoJSON\n",
    "with open(aoi_fpath) as f:\n",
    "    geom = json.load(f)\n",
    "\n",
    "geom_centroid = centroid((geom[\"features\"][0][\"geometry\"]))[\"coordinates\"]\n",
    "geom_centroid.reverse()\n",
    "    \n",
    "#Define Planet's Basemap\n",
    "planet_basemap = \"https://tiles0.planet.com/basemaps/v1/planet-tiles/%s/gmap/{z}/{x}/{y}.png?api_key=%s\" % (basemap_name, api_key)\n",
    "\n",
    "#Add Planet's XYZ Monhly Mosaic Basemap as a permanent baselayer\n",
    "map = folium.Map(location=geom_centroid, zoom_start=12, tiles=None)\n",
    "\n",
    "folium.GeoJson(geom, name='GeoJSON').add_to(map)\n",
    "\n",
    "folium.raster_layers.TileLayer(\n",
    "    tiles=planet_basemap,\n",
    "    attr='Planet Inc.',\n",
    "    name=basemap_name,\n",
    "    max_zoom=16,\n",
    "    overlay=False,\n",
    "    control=True,\n",
    ").add_to(map)\n",
    "map\n",
    "\n",
    "map.add_child(folium.LayerControl())"
   ]
  },
  {
   "cell_type": "code",
   "execution_count": null,
   "metadata": {},
   "outputs": [],
   "source": [
    "image_files = [image for image in os.listdir(files_location) if image.endswith('.tif') if not ('NDVI' in image or 'NDWI' in image or 'ndvi' in image or 'ndwi' in image or 'udm' in image or 'visual' in image)]\n",
    "image_files.sort()\n",
    "image_files_num = len(image_files)\n",
    "\n",
    "print(f\"There {image_files_num} TIF files in directory {files_location}\\n\")\n",
    "\n",
    "for x in range(image_files_num):\n",
    "    print(image_files[x])"
   ]
  },
  {
   "cell_type": "code",
   "execution_count": null,
   "metadata": {},
   "outputs": [],
   "source": [
    "ndvi_avgs = {}\n",
    "for filename in image_files:\n",
    "    infilename = files_location + filename\n",
    "    print(infilename)\n",
    "    with rasterio.open(infilename) as src:\n",
    "        red = src.read(3)\n",
    "    with rasterio.open(infilename) as src:\n",
    "        nir = src.read(4)\n",
    "\n",
    "    # Change the data type from uint8 to float so that we can have floating point numbers stored in our arrays\n",
    "    red = red.astype(float)\n",
    "    nir = nir.astype(float)\n",
    "    # Allow 0 division in numpy\n",
    "    np.seterr(divide='ignore', invalid='ignore')\n",
    "    # Calculate NDVI\n",
    "    ndvi = (nir - red)/(nir + red)\n",
    "    # check range NDVI values, excluding NaN\n",
    "    print(f'NDVI MIN:{np.nanmin(ndvi)}\\nNDVI MAX:{np.nanmax(ndvi)}\\nNDVI MEAN:{np.nanmean(ndvi)}')\n",
    "    #show(ndvi, cmap='summer')\n",
    "    class MidpointNormalize(colors.Normalize):\n",
    "        \"\"\"\n",
    "        Normalise the colorbar so that diverging bars work there way either side from a prescribed midpoint value)\n",
    "        e.g. im=ax1.imshow(array, norm=MidpointNormalize(midpoint=0.,vmin=-100, vmax=100))\n",
    "        Credit: Joe Kington, http://chris35wills.github.io/matplotlib_diverging_colorbar/\n",
    "        \"\"\"\n",
    "        def __init__(self, vmin=None, vmax=None, midpoint=None, clip=False):\n",
    "            self.midpoint = midpoint\n",
    "            colors.Normalize.__init__(self, vmin, vmax, clip)\n",
    "\n",
    "        def __call__(self, value, clip=None):\n",
    "            # I'm ignoring masked values and all kinds of edge cases to make a\n",
    "            # simple example...\n",
    "            x, y = [self.vmin, self.midpoint, self.vmax], [0, 0.5, 1]\n",
    "            return np.ma.masked_array(np.interp(value, x, y), np.isnan(value))\n",
    "\n",
    "    # Set min/max values from NDVI range for image (excluding NAN)\n",
    "    # set midpoint according to how NDVI is interpreted: https://earthobservatory.nasa.gov/Features/MeasuringVegetation/\n",
    "    min=np.nanmin(ndvi)\n",
    "    max=np.nanmax(ndvi)\n",
    "    mid=0.1\n",
    "\n",
    "    fig = plt.figure(figsize=(20,10))\n",
    "    ax = fig.add_subplot(111)\n",
    "\n",
    "    # diverging color scheme chosen from https://matplotlib.org/users/colormaps.html\n",
    "    cmap = plt.cm.RdYlGn \n",
    "\n",
    "    cax = ax.imshow(ndvi, cmap=cmap, clim=(min, max), norm=MidpointNormalize(midpoint=mid,vmin=min, vmax=max))\n",
    "\n",
    "    ax.axis('off')\n",
    "    ax.set_title('Normalized Difference Vegetation Index', fontsize=18, fontweight='bold')\n",
    "    plt.suptitle(f'{filename}')\n",
    "\n",
    "    cbar = fig.colorbar(cax, orientation='horizontal', shrink=0.65)\n",
    "    \n",
    "    if write_NDVI_plot_figs:\n",
    "        fig.savefig(f'{filename}_ndvi_fig.png', dpi=200, bbox_inches='tight', pad_inches=0.7)\n",
    "    \n",
    "    plt.show()\n",
    "    \n",
    "    if write_NDVI_raster:\n",
    "        # Set spatial characteristics of the output object to mirror the input\n",
    "        kwargs = src.meta\n",
    "        kwargs.update(dtype=rasterio.float32,count = 1)\n",
    "        # Write band calculations to a new raster file\n",
    "        with rasterio.open(f'{infilename}_NDVI.tif', 'w', **kwargs) as dst:\n",
    "            dst.write_band(1, ndvi.astype(rasterio.float32))\n",
    "    \n",
    "    date = os.path.basename(infilename).split('_')[0]\n",
    "    date_obj = datetime.strptime(date, \"%Y%m%d\")\n",
    "    band_avg = np.nanmean(ndvi)\n",
    "    ndvi_avgs[date_obj] = band_avg\n",
    "    "
   ]
  },
  {
   "cell_type": "code",
   "execution_count": null,
   "metadata": {},
   "outputs": [],
   "source": [
    "ndvi_tuple = sorted(ndvi_avgs.items())\n",
    "x_ndvi, y_ndvi = zip(*ndvi_tuple)\n",
    "\n",
    "plt.figure(1, figsize=(20, 10))\n",
    "plt.plot_date(x_ndvi, y_ndvi, 'b-', tz=None, xdate=True, ydate=False, color='blue', label='NDVI')\n",
    "plt.plot_date(x_ndvi, y_ndvi, 'g^', tz=None, xdate=True, ydate=False, color='green', label='NDVI Points')\n",
    "plt.legend(loc='upper right')\n",
    "plt.xlabel(\"Date\")\n",
    "plt.ylabel(\"Avg NDVI\")\n",
    "if write_NDVI_temporal_plot:\n",
    "    plt.savefig(f'{files_location}ndvi_temporal_plot.png')\n",
    "plt.show()\n"
   ]
  }
 ],
 "metadata": {
  "kernelspec": {
   "display_name": "Python 3",
   "language": "python",
   "name": "python3"
  },
  "language_info": {
   "codemirror_mode": {
    "name": "ipython",
    "version": 3
   },
   "file_extension": ".py",
   "mimetype": "text/x-python",
   "name": "python",
   "nbconvert_exporter": "python",
   "pygments_lexer": "ipython3",
   "version": "3.6.7"
  }
 },
 "nbformat": 4,
 "nbformat_minor": 2
}
