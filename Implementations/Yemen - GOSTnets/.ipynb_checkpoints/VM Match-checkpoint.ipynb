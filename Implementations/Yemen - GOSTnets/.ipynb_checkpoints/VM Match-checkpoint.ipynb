{
 "cells": [
  {
   "cell_type": "code",
   "execution_count": 2,
   "metadata": {},
   "outputs": [],
   "source": [
    "import pandas as pd\n",
    "import os, sys\n",
    "sys.path.append(r'C:\\Users\\charl\\Documents\\GitHub\\GOST_PublicGoods\\GOSTNets\\GOSTNets')\n",
    "sys.path.append(r'C:\\Users\\charl\\Documents\\GitHub\\GOST')\n",
    "import GOSTnet as gn\n",
    "import importlib\n",
    "import geopandas as gpd\n",
    "import rasterio as rt\n",
    "from rasterio import features\n",
    "from shapely.wkt import loads\n",
    "import numpy as np\n",
    "import networkx as nx\n",
    "from shapely.geometry import box, Point, Polygon"
   ]
  },
  {
   "cell_type": "code",
   "execution_count": 10,
   "metadata": {},
   "outputs": [],
   "source": [
    "VM_path = r'C:\\Users\\charl\\Documents\\GOST\\Yemen\\VulnerabilityMatrix'\n",
    "VM_file = r'VM.csv'\n",
    "adm_path = r'C:\\Users\\charl\\Documents\\GOST\\Yemen\\util_files\\gadm36_YEM_shp'\n",
    "adm_file = r'gadm36_YEM_2.shp'"
   ]
  },
  {
   "cell_type": "code",
   "execution_count": 61,
   "metadata": {},
   "outputs": [],
   "source": [
    "VM = pd.read_csv(os.path.join(VM_path, VM_file)).set_index('Dist Id')\n",
    "Adm = gpd.read_file(os.path.join(adm_path, adm_file))\n",
    "Adm['Dist Id'] = Adm.CC_2.astype(int)\n",
    "Adm = Adm.set_index('Dist Id')"
   ]
  },
  {
   "cell_type": "code",
   "execution_count": 62,
   "metadata": {},
   "outputs": [],
   "source": [
    "VM = VM [['Adjusted Population 2017*',\n",
    "          'Polpulation density',\n",
    "          'Km2',\n",
    "          'Hazards',\n",
    "          'Impact on exposed population',\n",
    "          'Health System Capacity',\n",
    "          'Morbidity',\n",
    "          'Nutrition',\n",
    "          'Food Security',\n",
    "          'WASH',\n",
    "          'Social Determinants and Health Outcomes',\n",
    "          'Overall Vulnerability Level']]"
   ]
  },
  {
   "cell_type": "code",
   "execution_count": 63,
   "metadata": {},
   "outputs": [],
   "source": [
    "for i in VM.columns:\n",
    "    Adm[i] = VM[i]"
   ]
  },
  {
   "cell_type": "code",
   "execution_count": 65,
   "metadata": {},
   "outputs": [
    {
     "name": "stderr",
     "output_type": "stream",
     "text": [
      "C:\\Users\\charl\\AppData\\Local\\Continuum\\anaconda3\\envs\\Cfox_2\\lib\\site-packages\\geopandas\\io\\file.py:108: FionaDeprecationWarning: Use fiona.Env() instead.\n",
      "  with fiona.drivers():\n"
     ]
    }
   ],
   "source": [
    "Adm.to_file(os.path.join(VM_path, 'VM.shp'), driver = 'ESRI Shapefile')"
   ]
  },
  {
   "cell_type": "code",
   "execution_count": null,
   "metadata": {},
   "outputs": [],
   "source": []
  }
 ],
 "metadata": {
  "kernelspec": {
   "display_name": "Python (Cfox2)",
   "language": "python",
   "name": "cfox2"
  },
  "language_info": {
   "codemirror_mode": {
    "name": "ipython",
    "version": 3
   },
   "file_extension": ".py",
   "mimetype": "text/x-python",
   "name": "python",
   "nbconvert_exporter": "python",
   "pygments_lexer": "ipython3",
   "version": "3.6.6"
  }
 },
 "nbformat": 4,
 "nbformat_minor": 2
}
