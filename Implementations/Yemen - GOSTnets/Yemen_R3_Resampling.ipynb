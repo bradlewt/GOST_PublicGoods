{
 "cells": [
  {
   "cell_type": "code",
   "execution_count": 1,
   "metadata": {},
   "outputs": [],
   "source": [
    "import os, sys, time, pandas as pd, geopandas as gpd, rasterio as rt, numpy as np"
   ]
  },
  {
   "cell_type": "code",
   "execution_count": 2,
   "metadata": {},
   "outputs": [],
   "source": [
    "import affine\n",
    "from rasterio.warp import reproject\n",
    "from rasterio.warp import Resampling"
   ]
  },
  {
   "cell_type": "code",
   "execution_count": 52,
   "metadata": {},
   "outputs": [],
   "source": [
    "infil = r'pop15.tif'\n",
    "ndv = -1\n",
    "\n",
    "src = rt.open(os.path.join(r'C:\\Users\\charl\\Documents\\GOST\\Yemen\\worldpop', infil))"
   ]
  },
  {
   "cell_type": "code",
   "execution_count": 53,
   "metadata": {},
   "outputs": [
    {
     "data": {
      "text/plain": [
       "-3.402823e+38"
      ]
     },
     "execution_count": 53,
     "metadata": {},
     "output_type": "execute_result"
    }
   ],
   "source": [
    "arr = src.read(masked=True)\n",
    "arr[0].data[0,0]"
   ]
  },
  {
   "cell_type": "markdown",
   "metadata": {},
   "source": [
    "#### Remove insane values"
   ]
  },
  {
   "cell_type": "code",
   "execution_count": 38,
   "metadata": {},
   "outputs": [
    {
     "data": {
      "text/plain": [
       "28956732.0"
      ]
     },
     "execution_count": 38,
     "metadata": {},
     "output_type": "execute_result"
    }
   ],
   "source": [
    "max_int32 = 2147483647\n",
    "small = -0.000001\n",
    "arr[arr > 1E6] = max_int32\n",
    "arr[arr < 0] = small\n",
    "arr = np.ma.masked_where(arr <= small, arr)\n",
    "arr = np.ma.masked_where(arr >= max_int32, arr)\n",
    "arr.sum()"
   ]
  },
  {
   "cell_type": "code",
   "execution_count": 39,
   "metadata": {},
   "outputs": [],
   "source": [
    "profile = src.profile\n",
    "\n",
    "d_type = rt.uint32\n",
    "\n",
    "profile.update(nodata = 0,dtype = d_type)\n",
    "\n",
    "with rt.open(os.path.join(r'C:\\Users\\charl\\Documents\\GOST\\Yemen\\worldpop',infil.replace('.tif','_norm.tif')), 'w', **profile) as dst:\n",
    "    dst.write(arr.astype(d_type))"
   ]
  },
  {
   "cell_type": "code",
   "execution_count": 40,
   "metadata": {},
   "outputs": [],
   "source": [
    "factah = 0.1\n",
    "\n",
    "newarr = np.empty(shape=(arr.shape[0],  # same number of bands\n",
    "                         round(arr.shape[1] * factah), \n",
    "                         round(arr.shape[2] * factah)))"
   ]
  },
  {
   "cell_type": "code",
   "execution_count": 41,
   "metadata": {},
   "outputs": [],
   "source": [
    "# adjust the new affine transform to the smaller cell size\n",
    "aff = src.transform\n",
    "\n",
    "newaff = affine.Affine(aff[0] / factah, \n",
    "                aff[1],\n",
    "                aff[2],\n",
    "                aff[3], \n",
    "                aff[4] / factah,  \n",
    "                aff[5],\n",
    "               )\n",
    "\n",
    "reproject(\n",
    "    arr, newarr,\n",
    "    src_transform = aff,\n",
    "    dst_transform = newaff,\n",
    "    src_crs = src.crs,\n",
    "    dst_crs = src.crs,\n",
    "    resampling = Resampling.average\n",
    ")\n",
    "\n",
    "newarr = newarr * ((1/factah) ** 2)"
   ]
  },
  {
   "cell_type": "markdown",
   "metadata": {},
   "source": [
    "### Remove resampled insane values"
   ]
  },
  {
   "cell_type": "code",
   "execution_count": 42,
   "metadata": {},
   "outputs": [],
   "source": [
    "newarr[newarr >= max_int32] = max_int32\n",
    "newarr[newarr <= small] = 0"
   ]
  },
  {
   "cell_type": "code",
   "execution_count": 43,
   "metadata": {},
   "outputs": [
    {
     "data": {
      "text/plain": [
       "28711247.37282433"
      ]
     },
     "execution_count": 43,
     "metadata": {},
     "output_type": "execute_result"
    }
   ],
   "source": [
    "newarr = np.ma.masked_where(newarr <= small, newarr)\n",
    "newarr = np.ma.masked_where(newarr >= max_int32, newarr)\n",
    "newarr.sum()"
   ]
  },
  {
   "cell_type": "code",
   "execution_count": 44,
   "metadata": {},
   "outputs": [
    {
     "data": {
      "text/plain": [
       "0.008477635776567263"
      ]
     },
     "execution_count": 44,
     "metadata": {},
     "output_type": "execute_result"
    }
   ],
   "source": [
    "((arr.sum() - newarr.sum()) / arr.sum())"
   ]
  },
  {
   "cell_type": "code",
   "execution_count": 45,
   "metadata": {},
   "outputs": [],
   "source": [
    "# Write an array as a raster band to a new 8-bit file. For\n",
    "# the new file's profile, we start with the profile of the source\n",
    "profile = src.profile\n",
    "\n",
    "d_type = rt.int32\n",
    "\n",
    "# And then change the band count to 1, set the\n",
    "# dtype to uint8, and specify LZW compression.\n",
    "profile.update(width = newarr.shape[2],\n",
    "              height = newarr.shape[1],\n",
    "              transform = newaff, dtype = d_type, nodata = max_int32)\n",
    "outfil = infil.replace('.tif','_resampled.tif')\n",
    "\n",
    "with rt.open(os.path.join(r'C:\\Users\\charl\\Documents\\GOST\\Yemen\\worldpop',outfil), 'w', **profile) as dst:\n",
    "    dst.write(newarr.astype(d_type))"
   ]
  },
  {
   "cell_type": "markdown",
   "metadata": {},
   "source": [
    "### Convert to .csv\n",
    "use the toolbox 'vector creation --> raster pixels to points' function in QGIS to turn the resultant raster into a point layer. Then, run this step"
   ]
  },
  {
   "cell_type": "code",
   "execution_count": 55,
   "metadata": {},
   "outputs": [],
   "source": [
    "pth = r'C:\\Users\\charl\\Documents\\GOST\\Yemen\\origins'\n",
    "fil = r'origins_1km_2018.shp'\n",
    "loc = os.path.join(pth, fil)\n",
    "\n",
    "points_shp = gpd.read_file(loc)\n",
    "points_shp['Longitude'] = points_shp['geometry'].apply(lambda x: x.x)\n",
    "points_shp['Latitude'] = points_shp['geometry'].apply(lambda x: x.y)\n",
    "points_shp.to_csv(os.path.join(pth, fil.replace('.shp','.csv')))"
   ]
  },
  {
   "cell_type": "code",
   "execution_count": null,
   "metadata": {},
   "outputs": [],
   "source": []
  },
  {
   "cell_type": "code",
   "execution_count": null,
   "metadata": {},
   "outputs": [],
   "source": []
  },
  {
   "cell_type": "code",
   "execution_count": null,
   "metadata": {},
   "outputs": [],
   "source": []
  },
  {
   "cell_type": "code",
   "execution_count": null,
   "metadata": {},
   "outputs": [],
   "source": []
  },
  {
   "cell_type": "code",
   "execution_count": null,
   "metadata": {},
   "outputs": [],
   "source": []
  }
 ],
 "metadata": {
  "kernelspec": {
   "display_name": "Python (Cfox2)",
   "language": "python",
   "name": "cfox2"
  },
  "language_info": {
   "codemirror_mode": {
    "name": "ipython",
    "version": 3
   },
   "file_extension": ".py",
   "mimetype": "text/x-python",
   "name": "python",
   "nbconvert_exporter": "python",
   "pygments_lexer": "ipython3",
   "version": "3.6.8"
  }
 },
 "nbformat": 4,
 "nbformat_minor": 2
}
