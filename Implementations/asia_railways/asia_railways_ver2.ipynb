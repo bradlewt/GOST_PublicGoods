{
 "cells": [
  {
   "cell_type": "code",
   "execution_count": 21,
   "metadata": {},
   "outputs": [],
   "source": [
    "import sys, os, inspect, logging, importlib\n",
    "\n",
    "import geopandas as gpd\n",
    "import pandas as pd\n",
    "import numpy as np\n",
    "import osmnx as ox\n",
    "import networkx as nx\n",
    "\n",
    "import matplotlib.pyplot as plt"
   ]
  },
  {
   "cell_type": "code",
   "execution_count": 22,
   "metadata": {},
   "outputs": [],
   "source": [
    "# Get reference to GOSTNets\n",
    "sys.path.append(r'../../GOSTNets/GOSTNets')\n",
    "import GOSTnet as gn"
   ]
  },
  {
   "cell_type": "code",
   "execution_count": 23,
   "metadata": {},
   "outputs": [],
   "source": [
    "# Define input data and create a number of output datasets if they do not yet exist\n",
    "inputFolder = r'./input_folder'\n",
    "\n",
    "input_edges = pd.read_csv(os.path.join(inputFolder, \"edges.csv\"))"
   ]
  },
  {
   "cell_type": "code",
   "execution_count": 24,
   "metadata": {},
   "outputs": [
    {
     "data": {
      "text/html": [
       "<div>\n",
       "<style scoped>\n",
       "    .dataframe tbody tr th:only-of-type {\n",
       "        vertical-align: middle;\n",
       "    }\n",
       "\n",
       "    .dataframe tbody tr th {\n",
       "        vertical-align: top;\n",
       "    }\n",
       "\n",
       "    .dataframe thead th {\n",
       "        text-align: right;\n",
       "    }\n",
       "</style>\n",
       "<table border=\"1\" class=\"dataframe\">\n",
       "  <thead>\n",
       "    <tr style=\"text-align: right;\">\n",
       "      <th></th>\n",
       "      <th>source</th>\n",
       "      <th>target</th>\n",
       "      <th>link_id</th>\n",
       "      <th>length</th>\n",
       "      <th>time</th>\n",
       "    </tr>\n",
       "  </thead>\n",
       "  <tbody>\n",
       "    <tr>\n",
       "      <td>0</td>\n",
       "      <td>38</td>\n",
       "      <td>69</td>\n",
       "      <td>1</td>\n",
       "      <td>1304</td>\n",
       "      <td>28.977778</td>\n",
       "    </tr>\n",
       "    <tr>\n",
       "      <td>1</td>\n",
       "      <td>38</td>\n",
       "      <td>70</td>\n",
       "      <td>2</td>\n",
       "      <td>174</td>\n",
       "      <td>3.866667</td>\n",
       "    </tr>\n",
       "    <tr>\n",
       "      <td>2</td>\n",
       "      <td>36</td>\n",
       "      <td>70</td>\n",
       "      <td>3</td>\n",
       "      <td>259</td>\n",
       "      <td>10.360000</td>\n",
       "    </tr>\n",
       "    <tr>\n",
       "      <td>3</td>\n",
       "      <td>5</td>\n",
       "      <td>36</td>\n",
       "      <td>4</td>\n",
       "      <td>45</td>\n",
       "      <td>1.800000</td>\n",
       "    </tr>\n",
       "    <tr>\n",
       "      <td>4</td>\n",
       "      <td>24</td>\n",
       "      <td>5</td>\n",
       "      <td>5</td>\n",
       "      <td>77</td>\n",
       "      <td>2.200000</td>\n",
       "    </tr>\n",
       "    <tr>\n",
       "      <td>...</td>\n",
       "      <td>...</td>\n",
       "      <td>...</td>\n",
       "      <td>...</td>\n",
       "      <td>...</td>\n",
       "      <td>...</td>\n",
       "    </tr>\n",
       "    <tr>\n",
       "      <td>99</td>\n",
       "      <td>36</td>\n",
       "      <td>49</td>\n",
       "      <td>104</td>\n",
       "      <td>22</td>\n",
       "      <td>0.880000</td>\n",
       "    </tr>\n",
       "    <tr>\n",
       "      <td>100</td>\n",
       "      <td>50</td>\n",
       "      <td>25</td>\n",
       "      <td>105</td>\n",
       "      <td>113</td>\n",
       "      <td>4.520000</td>\n",
       "    </tr>\n",
       "    <tr>\n",
       "      <td>101</td>\n",
       "      <td>33</td>\n",
       "      <td>79</td>\n",
       "      <td>106</td>\n",
       "      <td>460</td>\n",
       "      <td>46.000000</td>\n",
       "    </tr>\n",
       "    <tr>\n",
       "      <td>102</td>\n",
       "      <td>79</td>\n",
       "      <td>80</td>\n",
       "      <td>107</td>\n",
       "      <td>257</td>\n",
       "      <td>25.700000</td>\n",
       "    </tr>\n",
       "    <tr>\n",
       "      <td>103</td>\n",
       "      <td>80</td>\n",
       "      <td>81</td>\n",
       "      <td>108</td>\n",
       "      <td>722</td>\n",
       "      <td>28.880000</td>\n",
       "    </tr>\n",
       "  </tbody>\n",
       "</table>\n",
       "<p>104 rows × 5 columns</p>\n",
       "</div>"
      ],
      "text/plain": [
       "     source  target  link_id  length       time\n",
       "0        38      69        1    1304  28.977778\n",
       "1        38      70        2     174   3.866667\n",
       "2        36      70        3     259  10.360000\n",
       "3         5      36        4      45   1.800000\n",
       "4        24       5        5      77   2.200000\n",
       "..      ...     ...      ...     ...        ...\n",
       "99       36      49      104      22   0.880000\n",
       "100      50      25      105     113   4.520000\n",
       "101      33      79      106     460  46.000000\n",
       "102      79      80      107     257  25.700000\n",
       "103      80      81      108     722  28.880000\n",
       "\n",
       "[104 rows x 5 columns]"
      ]
     },
     "execution_count": 24,
     "metadata": {},
     "output_type": "execute_result"
    }
   ],
   "source": [
    "input_edges"
   ]
  },
  {
   "cell_type": "code",
   "execution_count": 25,
   "metadata": {},
   "outputs": [],
   "source": [
    "value_of_time_per_ton_in_usd = .102704"
   ]
  },
  {
   "cell_type": "code",
   "execution_count": 26,
   "metadata": {},
   "outputs": [],
   "source": [
    "input_edges['cost'] = input_edges['time'] * value_of_time_per_ton_in_usd"
   ]
  },
  {
   "cell_type": "code",
   "execution_count": 27,
   "metadata": {},
   "outputs": [
    {
     "data": {
      "text/html": [
       "<div>\n",
       "<style scoped>\n",
       "    .dataframe tbody tr th:only-of-type {\n",
       "        vertical-align: middle;\n",
       "    }\n",
       "\n",
       "    .dataframe tbody tr th {\n",
       "        vertical-align: top;\n",
       "    }\n",
       "\n",
       "    .dataframe thead th {\n",
       "        text-align: right;\n",
       "    }\n",
       "</style>\n",
       "<table border=\"1\" class=\"dataframe\">\n",
       "  <thead>\n",
       "    <tr style=\"text-align: right;\">\n",
       "      <th></th>\n",
       "      <th>source</th>\n",
       "      <th>target</th>\n",
       "      <th>link_id</th>\n",
       "      <th>length</th>\n",
       "      <th>time</th>\n",
       "      <th>cost</th>\n",
       "    </tr>\n",
       "  </thead>\n",
       "  <tbody>\n",
       "    <tr>\n",
       "      <td>0</td>\n",
       "      <td>38</td>\n",
       "      <td>69</td>\n",
       "      <td>1</td>\n",
       "      <td>1304</td>\n",
       "      <td>28.977778</td>\n",
       "      <td>2.976134</td>\n",
       "    </tr>\n",
       "    <tr>\n",
       "      <td>1</td>\n",
       "      <td>38</td>\n",
       "      <td>70</td>\n",
       "      <td>2</td>\n",
       "      <td>174</td>\n",
       "      <td>3.866667</td>\n",
       "      <td>0.397122</td>\n",
       "    </tr>\n",
       "    <tr>\n",
       "      <td>2</td>\n",
       "      <td>36</td>\n",
       "      <td>70</td>\n",
       "      <td>3</td>\n",
       "      <td>259</td>\n",
       "      <td>10.360000</td>\n",
       "      <td>1.064013</td>\n",
       "    </tr>\n",
       "    <tr>\n",
       "      <td>3</td>\n",
       "      <td>5</td>\n",
       "      <td>36</td>\n",
       "      <td>4</td>\n",
       "      <td>45</td>\n",
       "      <td>1.800000</td>\n",
       "      <td>0.184867</td>\n",
       "    </tr>\n",
       "    <tr>\n",
       "      <td>4</td>\n",
       "      <td>24</td>\n",
       "      <td>5</td>\n",
       "      <td>5</td>\n",
       "      <td>77</td>\n",
       "      <td>2.200000</td>\n",
       "      <td>0.225949</td>\n",
       "    </tr>\n",
       "    <tr>\n",
       "      <td>...</td>\n",
       "      <td>...</td>\n",
       "      <td>...</td>\n",
       "      <td>...</td>\n",
       "      <td>...</td>\n",
       "      <td>...</td>\n",
       "      <td>...</td>\n",
       "    </tr>\n",
       "    <tr>\n",
       "      <td>99</td>\n",
       "      <td>36</td>\n",
       "      <td>49</td>\n",
       "      <td>104</td>\n",
       "      <td>22</td>\n",
       "      <td>0.880000</td>\n",
       "      <td>0.090380</td>\n",
       "    </tr>\n",
       "    <tr>\n",
       "      <td>100</td>\n",
       "      <td>50</td>\n",
       "      <td>25</td>\n",
       "      <td>105</td>\n",
       "      <td>113</td>\n",
       "      <td>4.520000</td>\n",
       "      <td>0.464222</td>\n",
       "    </tr>\n",
       "    <tr>\n",
       "      <td>101</td>\n",
       "      <td>33</td>\n",
       "      <td>79</td>\n",
       "      <td>106</td>\n",
       "      <td>460</td>\n",
       "      <td>46.000000</td>\n",
       "      <td>4.724384</td>\n",
       "    </tr>\n",
       "    <tr>\n",
       "      <td>102</td>\n",
       "      <td>79</td>\n",
       "      <td>80</td>\n",
       "      <td>107</td>\n",
       "      <td>257</td>\n",
       "      <td>25.700000</td>\n",
       "      <td>2.639493</td>\n",
       "    </tr>\n",
       "    <tr>\n",
       "      <td>103</td>\n",
       "      <td>80</td>\n",
       "      <td>81</td>\n",
       "      <td>108</td>\n",
       "      <td>722</td>\n",
       "      <td>28.880000</td>\n",
       "      <td>2.966092</td>\n",
       "    </tr>\n",
       "  </tbody>\n",
       "</table>\n",
       "<p>104 rows × 6 columns</p>\n",
       "</div>"
      ],
      "text/plain": [
       "     source  target  link_id  length       time      cost\n",
       "0        38      69        1    1304  28.977778  2.976134\n",
       "1        38      70        2     174   3.866667  0.397122\n",
       "2        36      70        3     259  10.360000  1.064013\n",
       "3         5      36        4      45   1.800000  0.184867\n",
       "4        24       5        5      77   2.200000  0.225949\n",
       "..      ...     ...      ...     ...        ...       ...\n",
       "99       36      49      104      22   0.880000  0.090380\n",
       "100      50      25      105     113   4.520000  0.464222\n",
       "101      33      79      106     460  46.000000  4.724384\n",
       "102      79      80      107     257  25.700000  2.639493\n",
       "103      80      81      108     722  28.880000  2.966092\n",
       "\n",
       "[104 rows x 6 columns]"
      ]
     },
     "execution_count": 27,
     "metadata": {},
     "output_type": "execute_result"
    }
   ],
   "source": [
    "input_edges"
   ]
  },
  {
   "cell_type": "code",
   "execution_count": 28,
   "metadata": {},
   "outputs": [],
   "source": [
    "G = nx.from_pandas_edgelist(input_edges, edge_attr = 'cost')"
   ]
  },
  {
   "cell_type": "code",
   "execution_count": 29,
   "metadata": {},
   "outputs": [
    {
     "data": {
      "image/png": "[encoded data removed]",
      "text/plain": [
       "<Figure size 432x288 with 1 Axes>"
      ]
     },
     "metadata": {},
     "output_type": "display_data"
    }
   ],
   "source": [
    "nx.draw(G, with_labels = True)"
   ]
  },
  {
   "cell_type": "code",
   "execution_count": 30,
   "metadata": {},
   "outputs": [
    {
     "data": {
      "text/plain": [
       "networkx.classes.graph.Graph"
      ]
     },
     "execution_count": 30,
     "metadata": {},
     "output_type": "execute_result"
    }
   ],
   "source": [
    "type(G)"
   ]
  },
  {
   "cell_type": "markdown",
   "metadata": {},
   "source": [
    "## Add border nodes"
   ]
  },
  {
   "cell_type": "code",
   "execution_count": 31,
   "metadata": {},
   "outputs": [],
   "source": [
    "input_nodes = pd.read_csv(os.path.join(inputFolder, \"nodes.csv\"))"
   ]
  },
  {
   "cell_type": "code",
   "execution_count": 32,
   "metadata": {},
   "outputs": [
    {
     "data": {
      "text/html": [
       "<div>\n",
       "<style scoped>\n",
       "    .dataframe tbody tr th:only-of-type {\n",
       "        vertical-align: middle;\n",
       "    }\n",
       "\n",
       "    .dataframe tbody tr th {\n",
       "        vertical-align: top;\n",
       "    }\n",
       "\n",
       "    .dataframe thead th {\n",
       "        text-align: right;\n",
       "    }\n",
       "</style>\n",
       "<table border=\"1\" class=\"dataframe\">\n",
       "  <thead>\n",
       "    <tr style=\"text-align: right;\">\n",
       "      <th></th>\n",
       "      <th>node_id</th>\n",
       "      <th>name</th>\n",
       "      <th>border</th>\n",
       "      <th>gauge_change</th>\n",
       "    </tr>\n",
       "  </thead>\n",
       "  <tbody>\n",
       "    <tr>\n",
       "      <td>0</td>\n",
       "      <td>1</td>\n",
       "      <td>Aktau</td>\n",
       "      <td>False</td>\n",
       "      <td>False</td>\n",
       "    </tr>\n",
       "    <tr>\n",
       "      <td>1</td>\n",
       "      <td>2</td>\n",
       "      <td>Aktobe</td>\n",
       "      <td>False</td>\n",
       "      <td>False</td>\n",
       "    </tr>\n",
       "    <tr>\n",
       "      <td>2</td>\n",
       "      <td>3</td>\n",
       "      <td>Aktogal</td>\n",
       "      <td>False</td>\n",
       "      <td>False</td>\n",
       "    </tr>\n",
       "    <tr>\n",
       "      <td>3</td>\n",
       "      <td>4</td>\n",
       "      <td>Almaty</td>\n",
       "      <td>False</td>\n",
       "      <td>False</td>\n",
       "    </tr>\n",
       "    <tr>\n",
       "      <td>4</td>\n",
       "      <td>5</td>\n",
       "      <td>Andijan</td>\n",
       "      <td>True</td>\n",
       "      <td>False</td>\n",
       "    </tr>\n",
       "    <tr>\n",
       "      <td>...</td>\n",
       "      <td>...</td>\n",
       "      <td>...</td>\n",
       "      <td>...</td>\n",
       "      <td>...</td>\n",
       "    </tr>\n",
       "    <tr>\n",
       "      <td>83</td>\n",
       "      <td>84</td>\n",
       "      <td>Rustawi</td>\n",
       "      <td>True</td>\n",
       "      <td>False</td>\n",
       "    </tr>\n",
       "    <tr>\n",
       "      <td>84</td>\n",
       "      <td>85</td>\n",
       "      <td>Godurulum</td>\n",
       "      <td>True</td>\n",
       "      <td>True</td>\n",
       "    </tr>\n",
       "    <tr>\n",
       "      <td>85</td>\n",
       "      <td>86</td>\n",
       "      <td>No Name</td>\n",
       "      <td>False</td>\n",
       "      <td>False</td>\n",
       "    </tr>\n",
       "    <tr>\n",
       "      <td>86</td>\n",
       "      <td>87</td>\n",
       "      <td>Yaysan</td>\n",
       "      <td>True</td>\n",
       "      <td>False</td>\n",
       "    </tr>\n",
       "    <tr>\n",
       "      <td>87</td>\n",
       "      <td>88</td>\n",
       "      <td>Kunowice</td>\n",
       "      <td>False</td>\n",
       "      <td>False</td>\n",
       "    </tr>\n",
       "  </tbody>\n",
       "</table>\n",
       "<p>88 rows × 4 columns</p>\n",
       "</div>"
      ],
      "text/plain": [
       "    node_id       name  border  gauge_change\n",
       "0         1      Aktau   False         False\n",
       "1         2     Aktobe   False         False\n",
       "2         3    Aktogal   False         False\n",
       "3         4     Almaty   False         False\n",
       "4         5    Andijan    True         False\n",
       "..      ...        ...     ...           ...\n",
       "83       84    Rustawi    True         False\n",
       "84       85  Godurulum    True          True\n",
       "85       86    No Name   False         False\n",
       "86       87     Yaysan    True         False\n",
       "87       88   Kunowice   False         False\n",
       "\n",
       "[88 rows x 4 columns]"
      ]
     },
     "execution_count": 32,
     "metadata": {},
     "output_type": "execute_result"
    }
   ],
   "source": [
    "input_nodes"
   ]
  },
  {
   "cell_type": "markdown",
   "metadata": {},
   "source": [
    "## We are using a simpler method compared to ver 1. We are not creating any intermediate nodes, we are just adding the 1/2 the border costs to each adjacent edge to a border node."
   ]
  },
  {
   "cell_type": "code",
   "execution_count": 34,
   "metadata": {},
   "outputs": [],
   "source": [
    "# border costs\n",
    "# each border crossing has a time of 4 hours and a cost of $20 per ton\n",
    "add_border_costs_per_link = (4 * value_of_time_per_ton_in_usd + 20) / 2\n",
    "# each gauge change has a time of 12 hours and a cost of $10 per ton\n",
    "add_border_w_gauge_costs_per_link = (12 * value_of_time_per_ton_in_usd + 10) / 2"
   ]
  },
  {
   "cell_type": "code",
   "execution_count": 36,
   "metadata": {},
   "outputs": [],
   "source": [
    "# loop through input nodes\n",
    "for index, row in input_nodes.iterrows():\n",
    "    # if border node with gauge change\n",
    "    if row[3]:\n",
    "        for entry in list(G.neighbors(row[0])):\n",
    "                #print('edge')\n",
    "                #print(entry)\n",
    "                G.edges[entry,row[0]]['cost'] = G.edges[entry,row[0]]['cost'] + add_border_w_gauge_costs_per_link\n",
    "    # else if reg border node\n",
    "    elif row[2]:\n",
    "        #print(row[0],row[1])\n",
    "        for entry in list(G.neighbors(row[0])):\n",
    "            #print('edge')\n",
    "            #print(entry)\n",
    "            G.edges[entry,row[0]]['cost'] = G.edges[entry,row[0]]['cost'] + add_border_costs_per_link"
   ]
  },
  {
   "cell_type": "code",
   "execution_count": 38,
   "metadata": {},
   "outputs": [
    {
     "data": {
      "text/plain": [
       "{'cost': 10.3902752}"
      ]
     },
     "execution_count": 38,
     "metadata": {},
     "output_type": "execute_result"
    }
   ],
   "source": [
    "G.edges[5,36]"
   ]
  },
  {
   "cell_type": "code",
   "execution_count": 39,
   "metadata": {},
   "outputs": [],
   "source": [
    "G.edges[5,36]['cost'] = 2.9"
   ]
  },
  {
   "cell_type": "code",
   "execution_count": 40,
   "metadata": {},
   "outputs": [
    {
     "data": {
      "text/plain": [
       "{'cost': 2.9}"
      ]
     },
     "execution_count": 40,
     "metadata": {},
     "output_type": "execute_result"
    }
   ],
   "source": [
    "G.edges[5,36]"
   ]
  },
  {
   "cell_type": "code",
   "execution_count": 41,
   "metadata": {},
   "outputs": [],
   "source": [
    "#G.edges[37,65]"
   ]
  },
  {
   "cell_type": "code",
   "execution_count": 42,
   "metadata": {},
   "outputs": [
    {
     "name": "stdout",
     "output_type": "stream",
     "text": [
      "(38, 69, {'cost': 2.97613368911712})\n",
      "(38, 70, {'cost': 6.013346133367568})\n",
      "(69, 40, {'cost': 1.8053080891171203})\n",
      "(69, 21, {'cost': 7.04495075544144})\n",
      "(70, 36, {'cost': 6.68023744})\n",
      "(36, 5, {'cost': 2.9})\n",
      "(36, 49, {'cost': 0.09037952})\n",
      "(5, 24, {'cost': 20.6367648})\n",
      "(24, 35, {'cost': 11.25005439985328})\n",
      "(35, 54, {'cost': 0.2670304})\n",
      "(54, 37, {'cost': 0.440160000029344})\n",
      "(54, 23, {'cost': 0.9859584})\n",
      "(54, 60, {'cost': 11.085727999955985})\n",
      "(54, 19, {'cost': 0.730665599970656})\n",
      "(37, 65, {'cost': 0.8245664000440159})\n",
      "(37, 23, {'cost': 0.754140800014672})\n",
      "(37, 22, {'cost': 0.848041599985328})\n",
      "(65, 31, {'cost': 10.282436})\n",
      "(31, 42, {'cost': 10.975688})\n",
      "(23, 68, {'cost': 10.269964800044017})\n",
      "(68, 43, {'cost': 10.918467200014673})\n",
      "(68, 39, {'cost': 20.475372800044017})\n",
      "(43, 58, {'cost': 0.223014399955984})\n",
      "(43, 8, {'cost': 1.12387519970656})\n",
      "(58, 55, {'cost': 5.9654176})\n",
      "(55, 55, {'cost': 5.630896000014672})\n",
      "(55, 45, {'cost': 6.1348792})\n",
      "(45, 66, {'cost': 0.26446280000000005})\n",
      "(45, 26, {'cost': 1.8075904000000003})\n",
      "(66, 12, {'cost': 1.5996148})\n",
      "(66, 83, {'cost': 6.116906})\n",
      "(12, 76, {'cost': 1.9924575999999998})\n",
      "(76, 20, {'cost': 1.3659632000000002})\n",
      "(39, 19, {'cost': 10.469503999955984})\n",
      "(42, 59, {'cost': 1.5816416000000002})\n",
      "(59, 33, {'cost': 4.128700800000001})\n",
      "(33, 83, {'cost': 6.2529888})\n",
      "(33, 79, {'cost': 4.724384000000001})\n",
      "(40, 4, {'cost': 0.9859584})\n",
      "(4, 17, {'cost': 0.830435200029344})\n",
      "(4, 21, {'cost': 7.670304})\n",
      "(17, 7, {'cost': 1.42024960014672})\n",
      "(7, 53, {'cost': 2.53825599955984})\n",
      "(7, 60, {'cost': 10.531126399955983})\n",
      "(53, 16, {'cost': 1.8281312})\n",
      "(53, 2, {'cost': 1.45252799970656})\n",
      "(53, 78, {'cost': 1.5611008})\n",
      "(16, 1, {'cost': 1.1678911998532802})\n",
      "(1, 71, {'cost': 0.5223232000293441})\n",
      "(1, 10, {'cost': 12.6857096})\n",
      "(71, 86, {'cost': 0.6132895999559841})\n",
      "(86, 30, {'cost': 0.7159935999559841})\n",
      "(30, 14, {'cost': 0.5604703999853281})\n",
      "(14, 9, {'cost': 0.751206399970656})\n",
      "(9, 85, {'cost': 5.6983872})\n",
      "(85, 28, {'cost': 5.795956})\n",
      "(28, 57, {'cost': 0.3620316})\n",
      "(57, 26, {'cost': 0.45189760000000007})\n",
      "(10, 62, {'cost': 18.517612})\n",
      "(10, 67, {'cost': 11.591912})\n",
      "(62, 84, {'cost': 16.343955200029345})\n",
      "(62, 82, {'cost': 11.936703999985328})\n",
      "(62, 51, {'cost': 6.848672})\n",
      "(84, 82, {'cost': 16.004216888911714})\n",
      "(82, 34, {'cost': 18.5330176})\n",
      "(34, 32, {'cost': 16.086239040000002})\n",
      "(34, 61, {'cost': 13.98263288911712})\n",
      "(34, 73, {'cost': 13.389232})\n",
      "(32, 15, {'cost': 0.5895209600000001})\n",
      "(32, 41, {'cost': 3.5206931200000002})\n",
      "(18, 27, {'cost': 18.47961152})\n",
      "(18, 75, {'cost': 6.226579200014672})\n",
      "(18, 73, {'cost': 7.42792256})\n",
      "(27, 74, {'cost': 12.96961279955984})\n",
      "(74, 29, {'cost': 0.296374400029344})\n",
      "(29, 56, {'cost': 1.43492159985328})\n",
      "(56, 48, {'cost': 2.24188160014672})\n",
      "(48, 87, {'cost': 10.704255999985328})\n",
      "(87, 2, {'cost': 10.51352})\n",
      "(75, 88, {'cost': 1.03320224})\n",
      "(88, 15, {'cost': 0.17048864})\n",
      "(21, 3, {'cost': 6.4994784})\n",
      "(3, 11, {'cost': 1.09159680014672})\n",
      "(11, 46, {'cost': 0.375603199985328})\n",
      "(46, 77, {'cost': 0.6308960000146719})\n",
      "(77, 78, {'cost': 1.22657919970656})\n",
      "(52, 72, {'cost': 10.456462222176576})\n",
      "(52, 63, {'cost': 12.17960711088288})\n",
      "(72, 61, {'cost': 0.205408})\n",
      "(8, 67, {'cost': 1.5816416000000002})\n",
      "(60, 6, {'cost': 10.402012799970656})\n",
      "(44, 64, {'cost': 2.6703040000000002})\n",
      "(6, 50, {'cost': 0.343324800014672})\n",
      "(50, 49, {'cost': 0.598617600044016})\n",
      "(50, 25, {'cost': 0.46422208})\n",
      "(51, 47, {'cost': 13.348150400000002})\n",
      "(47, 41, {'cost': 11.6843456})\n",
      "(79, 80, {'cost': 2.6394928})\n",
      "(80, 81, {'cost': 2.96609152})\n"
     ]
    }
   ],
   "source": [
    "for e in G.edges(data = True):\n",
    "    # For each edge's attribute\n",
    "    print(e)"
   ]
  },
  {
   "cell_type": "code",
   "execution_count": 43,
   "metadata": {},
   "outputs": [
    {
     "data": {
      "image/png": "[encoded data removed]",
      "text/plain": [
       "<Figure size 432x288 with 1 Axes>"
      ]
     },
     "metadata": {},
     "output_type": "display_data"
    }
   ],
   "source": [
    "nx.draw(G, with_labels = True)"
   ]
  },
  {
   "cell_type": "code",
   "execution_count": null,
   "metadata": {},
   "outputs": [],
   "source": [
    "originNodes = list(snapped_origins['NN'].unique())"
   ]
  }
 ],
 "metadata": {
  "kernelspec": {
   "display_name": "Python [conda env:.conda-GOST_PublicGoods5] *",
   "language": "python",
   "name": "conda-env-.conda-GOST_PublicGoods5-py"
  },
  "language_info": {
   "codemirror_mode": {
    "name": "ipython",
    "version": 3
   },
   "file_extension": ".py",
   "mimetype": "text/x-python",
   "name": "python",
   "nbconvert_exporter": "python",
   "pygments_lexer": "ipython3",
   "version": "3.7.3"
  }
 },
 "nbformat": 4,
 "nbformat_minor": 2
}
