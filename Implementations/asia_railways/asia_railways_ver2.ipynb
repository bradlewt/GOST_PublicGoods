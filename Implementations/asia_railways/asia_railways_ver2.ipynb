{
 "cells": [
  {
   "attachments": {},
   "cell_type": "markdown",
   "metadata": {},
   "source": [
    "# Travel Times for Asia Railways\n",
    "\n",
    "This project takes in input edges and border nodes from spreadsheets and constructs travel times in an OD Matrix.\n",
    "\n",
    "## Assumptions:\n",
    "\n",
    "- edges are bidirectional\n",
    "- each node in the network is a potential origin and destination\n",
    "\n",
    "## input data:\n",
    "\n",
    "- edges have these fields: source, target, link_id, length (km), time (hours)\n",
    "- nodes have these fields: node_id, name, country, border, gauge_change, if_border_is_an_origin_or_destination\n",
    "\n",
    "The time cost found in the input data will be converted to a USD cost per tonnage cost. This is converted using the value of time per ton in usd, which is .102704. This value can be adjusted.\n",
    "\n",
    "There are also 2 other ways costs are adjusted in this project:\n",
    "\n",
    "1. Access links: The network only has rail links, so the access distance represents the average road distance to reach the rail network's orgins and destinations. For now we are adding 50km access links with a speef of 30 km/hr. Therefore 1.67 hours to traverse each access link. With a value of time per ton in USD of .102704, the cost is 0.17117 USD per ton per link.\n",
    "\n",
    "2. There are additional costs for borders. Also some borders have a gauge change. A gauge change is an additional time and cost to the usual border crossing time and cost.\n",
    "\n",
    "border cost assumptions:\n",
    "\n",
    "- each border crossing has a time of 4 hours and a cost of 20 USD per ton\n",
    "- each gauge change has a time of 12 hours and a cost of 10 USD per ton\n"
   ]
  },
  {
   "cell_type": "code",
   "execution_count": 476,
   "metadata": {},
   "outputs": [],
   "source": [
    "import sys, os, inspect, logging, importlib\n",
    "\n",
    "import geopandas as gpd\n",
    "import pandas as pd\n",
    "import numpy as np\n",
    "import osmnx as ox\n",
    "import networkx as nx\n",
    "\n",
    "import matplotlib.pyplot as plt"
   ]
  },
  {
   "cell_type": "code",
   "execution_count": 477,
   "metadata": {},
   "outputs": [],
   "source": [
    "# Get reference to GOSTNets\n",
    "sys.path.append(r'../../GOSTNets/GOSTNets')\n",
    "import GOSTnet as gn"
   ]
  },
  {
   "cell_type": "code",
   "execution_count": 478,
   "metadata": {},
   "outputs": [],
   "source": [
    "# Define input data and create a number of output datasets if they do not yet exist\n",
    "inputFolder = r'./input_folder'\n",
    "\n",
    "input_edges = pd.read_csv(os.path.join(inputFolder, \"edges.csv\"))"
   ]
  },
  {
   "cell_type": "code",
   "execution_count": 479,
   "metadata": {},
   "outputs": [
    {
     "data": {
      "text/html": [
       "<div>\n",
       "<style scoped>\n",
       "    .dataframe tbody tr th:only-of-type {\n",
       "        vertical-align: middle;\n",
       "    }\n",
       "\n",
       "    .dataframe tbody tr th {\n",
       "        vertical-align: top;\n",
       "    }\n",
       "\n",
       "    .dataframe thead th {\n",
       "        text-align: right;\n",
       "    }\n",
       "</style>\n",
       "<table border=\"1\" class=\"dataframe\">\n",
       "  <thead>\n",
       "    <tr style=\"text-align: right;\">\n",
       "      <th></th>\n",
       "      <th>source</th>\n",
       "      <th>target</th>\n",
       "      <th>link_id</th>\n",
       "      <th>length</th>\n",
       "      <th>time</th>\n",
       "    </tr>\n",
       "  </thead>\n",
       "  <tbody>\n",
       "    <tr>\n",
       "      <td>0</td>\n",
       "      <td>38</td>\n",
       "      <td>69</td>\n",
       "      <td>1</td>\n",
       "      <td>1304</td>\n",
       "      <td>28.977778</td>\n",
       "    </tr>\n",
       "    <tr>\n",
       "      <td>1</td>\n",
       "      <td>38</td>\n",
       "      <td>70</td>\n",
       "      <td>2</td>\n",
       "      <td>174</td>\n",
       "      <td>3.866667</td>\n",
       "    </tr>\n",
       "    <tr>\n",
       "      <td>2</td>\n",
       "      <td>36</td>\n",
       "      <td>70</td>\n",
       "      <td>3</td>\n",
       "      <td>259</td>\n",
       "      <td>10.360000</td>\n",
       "    </tr>\n",
       "    <tr>\n",
       "      <td>3</td>\n",
       "      <td>5</td>\n",
       "      <td>36</td>\n",
       "      <td>4</td>\n",
       "      <td>45</td>\n",
       "      <td>1.800000</td>\n",
       "    </tr>\n",
       "    <tr>\n",
       "      <td>4</td>\n",
       "      <td>25</td>\n",
       "      <td>5</td>\n",
       "      <td>5</td>\n",
       "      <td>77</td>\n",
       "      <td>2.200000</td>\n",
       "    </tr>\n",
       "    <tr>\n",
       "      <td>...</td>\n",
       "      <td>...</td>\n",
       "      <td>...</td>\n",
       "      <td>...</td>\n",
       "      <td>...</td>\n",
       "      <td>...</td>\n",
       "    </tr>\n",
       "    <tr>\n",
       "      <td>96</td>\n",
       "      <td>36</td>\n",
       "      <td>49</td>\n",
       "      <td>104</td>\n",
       "      <td>22</td>\n",
       "      <td>0.880000</td>\n",
       "    </tr>\n",
       "    <tr>\n",
       "      <td>97</td>\n",
       "      <td>50</td>\n",
       "      <td>25</td>\n",
       "      <td>105</td>\n",
       "      <td>113</td>\n",
       "      <td>4.520000</td>\n",
       "    </tr>\n",
       "    <tr>\n",
       "      <td>98</td>\n",
       "      <td>33</td>\n",
       "      <td>79</td>\n",
       "      <td>106</td>\n",
       "      <td>460</td>\n",
       "      <td>46.000000</td>\n",
       "    </tr>\n",
       "    <tr>\n",
       "      <td>99</td>\n",
       "      <td>79</td>\n",
       "      <td>80</td>\n",
       "      <td>107</td>\n",
       "      <td>257</td>\n",
       "      <td>25.700000</td>\n",
       "    </tr>\n",
       "    <tr>\n",
       "      <td>100</td>\n",
       "      <td>80</td>\n",
       "      <td>81</td>\n",
       "      <td>108</td>\n",
       "      <td>722</td>\n",
       "      <td>28.880000</td>\n",
       "    </tr>\n",
       "  </tbody>\n",
       "</table>\n",
       "<p>101 rows × 5 columns</p>\n",
       "</div>"
      ],
      "text/plain": [
       "     source  target  link_id  length       time\n",
       "0        38      69        1    1304  28.977778\n",
       "1        38      70        2     174   3.866667\n",
       "2        36      70        3     259  10.360000\n",
       "3         5      36        4      45   1.800000\n",
       "4        25       5        5      77   2.200000\n",
       "..      ...     ...      ...     ...        ...\n",
       "96       36      49      104      22   0.880000\n",
       "97       50      25      105     113   4.520000\n",
       "98       33      79      106     460  46.000000\n",
       "99       79      80      107     257  25.700000\n",
       "100      80      81      108     722  28.880000\n",
       "\n",
       "[101 rows x 5 columns]"
      ]
     },
     "execution_count": 479,
     "metadata": {},
     "output_type": "execute_result"
    }
   ],
   "source": [
    "input_edges"
   ]
  },
  {
   "cell_type": "code",
   "execution_count": 480,
   "metadata": {},
   "outputs": [],
   "source": [
    "value_of_time_per_ton_in_usd = .102704"
   ]
  },
  {
   "cell_type": "code",
   "execution_count": 481,
   "metadata": {},
   "outputs": [],
   "source": [
    "input_edges['cost'] = input_edges['time'] * value_of_time_per_ton_in_usd"
   ]
  },
  {
   "cell_type": "code",
   "execution_count": 482,
   "metadata": {},
   "outputs": [
    {
     "data": {
      "text/html": [
       "<div>\n",
       "<style scoped>\n",
       "    .dataframe tbody tr th:only-of-type {\n",
       "        vertical-align: middle;\n",
       "    }\n",
       "\n",
       "    .dataframe tbody tr th {\n",
       "        vertical-align: top;\n",
       "    }\n",
       "\n",
       "    .dataframe thead th {\n",
       "        text-align: right;\n",
       "    }\n",
       "</style>\n",
       "<table border=\"1\" class=\"dataframe\">\n",
       "  <thead>\n",
       "    <tr style=\"text-align: right;\">\n",
       "      <th></th>\n",
       "      <th>source</th>\n",
       "      <th>target</th>\n",
       "      <th>link_id</th>\n",
       "      <th>length</th>\n",
       "      <th>time</th>\n",
       "      <th>cost</th>\n",
       "    </tr>\n",
       "  </thead>\n",
       "  <tbody>\n",
       "    <tr>\n",
       "      <td>0</td>\n",
       "      <td>38</td>\n",
       "      <td>69</td>\n",
       "      <td>1</td>\n",
       "      <td>1304</td>\n",
       "      <td>28.977778</td>\n",
       "      <td>2.976134</td>\n",
       "    </tr>\n",
       "    <tr>\n",
       "      <td>1</td>\n",
       "      <td>38</td>\n",
       "      <td>70</td>\n",
       "      <td>2</td>\n",
       "      <td>174</td>\n",
       "      <td>3.866667</td>\n",
       "      <td>0.397122</td>\n",
       "    </tr>\n",
       "    <tr>\n",
       "      <td>2</td>\n",
       "      <td>36</td>\n",
       "      <td>70</td>\n",
       "      <td>3</td>\n",
       "      <td>259</td>\n",
       "      <td>10.360000</td>\n",
       "      <td>1.064013</td>\n",
       "    </tr>\n",
       "    <tr>\n",
       "      <td>3</td>\n",
       "      <td>5</td>\n",
       "      <td>36</td>\n",
       "      <td>4</td>\n",
       "      <td>45</td>\n",
       "      <td>1.800000</td>\n",
       "      <td>0.184867</td>\n",
       "    </tr>\n",
       "    <tr>\n",
       "      <td>4</td>\n",
       "      <td>25</td>\n",
       "      <td>5</td>\n",
       "      <td>5</td>\n",
       "      <td>77</td>\n",
       "      <td>2.200000</td>\n",
       "      <td>0.225949</td>\n",
       "    </tr>\n",
       "    <tr>\n",
       "      <td>...</td>\n",
       "      <td>...</td>\n",
       "      <td>...</td>\n",
       "      <td>...</td>\n",
       "      <td>...</td>\n",
       "      <td>...</td>\n",
       "      <td>...</td>\n",
       "    </tr>\n",
       "    <tr>\n",
       "      <td>96</td>\n",
       "      <td>36</td>\n",
       "      <td>49</td>\n",
       "      <td>104</td>\n",
       "      <td>22</td>\n",
       "      <td>0.880000</td>\n",
       "      <td>0.090380</td>\n",
       "    </tr>\n",
       "    <tr>\n",
       "      <td>97</td>\n",
       "      <td>50</td>\n",
       "      <td>25</td>\n",
       "      <td>105</td>\n",
       "      <td>113</td>\n",
       "      <td>4.520000</td>\n",
       "      <td>0.464222</td>\n",
       "    </tr>\n",
       "    <tr>\n",
       "      <td>98</td>\n",
       "      <td>33</td>\n",
       "      <td>79</td>\n",
       "      <td>106</td>\n",
       "      <td>460</td>\n",
       "      <td>46.000000</td>\n",
       "      <td>4.724384</td>\n",
       "    </tr>\n",
       "    <tr>\n",
       "      <td>99</td>\n",
       "      <td>79</td>\n",
       "      <td>80</td>\n",
       "      <td>107</td>\n",
       "      <td>257</td>\n",
       "      <td>25.700000</td>\n",
       "      <td>2.639493</td>\n",
       "    </tr>\n",
       "    <tr>\n",
       "      <td>100</td>\n",
       "      <td>80</td>\n",
       "      <td>81</td>\n",
       "      <td>108</td>\n",
       "      <td>722</td>\n",
       "      <td>28.880000</td>\n",
       "      <td>2.966092</td>\n",
       "    </tr>\n",
       "  </tbody>\n",
       "</table>\n",
       "<p>101 rows × 6 columns</p>\n",
       "</div>"
      ],
      "text/plain": [
       "     source  target  link_id  length       time      cost\n",
       "0        38      69        1    1304  28.977778  2.976134\n",
       "1        38      70        2     174   3.866667  0.397122\n",
       "2        36      70        3     259  10.360000  1.064013\n",
       "3         5      36        4      45   1.800000  0.184867\n",
       "4        25       5        5      77   2.200000  0.225949\n",
       "..      ...     ...      ...     ...        ...       ...\n",
       "96       36      49      104      22   0.880000  0.090380\n",
       "97       50      25      105     113   4.520000  0.464222\n",
       "98       33      79      106     460  46.000000  4.724384\n",
       "99       79      80      107     257  25.700000  2.639493\n",
       "100      80      81      108     722  28.880000  2.966092\n",
       "\n",
       "[101 rows x 6 columns]"
      ]
     },
     "execution_count": 482,
     "metadata": {},
     "output_type": "execute_result"
    }
   ],
   "source": [
    "input_edges"
   ]
  },
  {
   "cell_type": "code",
   "execution_count": 483,
   "metadata": {},
   "outputs": [],
   "source": [
    "G = nx.from_pandas_edgelist(input_edges, edge_attr = 'cost')"
   ]
  },
  {
   "cell_type": "code",
   "execution_count": 484,
   "metadata": {},
   "outputs": [
    {
     "data": {
      "image/png": "[encoded data removed]",
      "text/plain": [
       "<Figure size 432x288 with 1 Axes>"
      ]
     },
     "metadata": {},
     "output_type": "display_data"
    }
   ],
   "source": [
    "nx.draw(G, with_labels = True)"
   ]
  },
  {
   "cell_type": "code",
   "execution_count": 485,
   "metadata": {},
   "outputs": [
    {
     "data": {
      "text/plain": [
       "networkx.classes.graph.Graph"
      ]
     },
     "execution_count": 485,
     "metadata": {},
     "output_type": "execute_result"
    }
   ],
   "source": [
    "type(G)"
   ]
  },
  {
   "cell_type": "markdown",
   "metadata": {},
   "source": [
    "## Add border nodes"
   ]
  },
  {
   "cell_type": "code",
   "execution_count": 486,
   "metadata": {},
   "outputs": [],
   "source": [
    "input_nodes = pd.read_csv(os.path.join(inputFolder, \"nodes.csv\"))"
   ]
  },
  {
   "cell_type": "code",
   "execution_count": 487,
   "metadata": {},
   "outputs": [
    {
     "data": {
      "text/html": [
       "<div>\n",
       "<style scoped>\n",
       "    .dataframe tbody tr th:only-of-type {\n",
       "        vertical-align: middle;\n",
       "    }\n",
       "\n",
       "    .dataframe tbody tr th {\n",
       "        vertical-align: top;\n",
       "    }\n",
       "\n",
       "    .dataframe thead th {\n",
       "        text-align: right;\n",
       "    }\n",
       "</style>\n",
       "<table border=\"1\" class=\"dataframe\">\n",
       "  <thead>\n",
       "    <tr style=\"text-align: right;\">\n",
       "      <th></th>\n",
       "      <th>node_id</th>\n",
       "      <th>name</th>\n",
       "      <th>country</th>\n",
       "      <th>border</th>\n",
       "      <th>gauge_change</th>\n",
       "      <th>if_border_is_an_origin_or_destination</th>\n",
       "    </tr>\n",
       "  </thead>\n",
       "  <tbody>\n",
       "    <tr>\n",
       "      <td>0</td>\n",
       "      <td>1</td>\n",
       "      <td>Aktau</td>\n",
       "      <td>KAZ</td>\n",
       "      <td>False</td>\n",
       "      <td>False</td>\n",
       "      <td>False</td>\n",
       "    </tr>\n",
       "    <tr>\n",
       "      <td>1</td>\n",
       "      <td>2</td>\n",
       "      <td>Aktobe</td>\n",
       "      <td>KAZ</td>\n",
       "      <td>False</td>\n",
       "      <td>False</td>\n",
       "      <td>False</td>\n",
       "    </tr>\n",
       "    <tr>\n",
       "      <td>2</td>\n",
       "      <td>3</td>\n",
       "      <td>Aktogal</td>\n",
       "      <td>KAZ</td>\n",
       "      <td>False</td>\n",
       "      <td>False</td>\n",
       "      <td>False</td>\n",
       "    </tr>\n",
       "    <tr>\n",
       "      <td>3</td>\n",
       "      <td>4</td>\n",
       "      <td>Almaty</td>\n",
       "      <td>KAZ</td>\n",
       "      <td>False</td>\n",
       "      <td>False</td>\n",
       "      <td>False</td>\n",
       "    </tr>\n",
       "    <tr>\n",
       "      <td>4</td>\n",
       "      <td>5</td>\n",
       "      <td>Andijan</td>\n",
       "      <td>UBZ</td>\n",
       "      <td>True</td>\n",
       "      <td>False</td>\n",
       "      <td>False</td>\n",
       "    </tr>\n",
       "    <tr>\n",
       "      <td>...</td>\n",
       "      <td>...</td>\n",
       "      <td>...</td>\n",
       "      <td>...</td>\n",
       "      <td>...</td>\n",
       "      <td>...</td>\n",
       "      <td>...</td>\n",
       "    </tr>\n",
       "    <tr>\n",
       "      <td>79</td>\n",
       "      <td>84</td>\n",
       "      <td>Rustawi</td>\n",
       "      <td>BORDER</td>\n",
       "      <td>True</td>\n",
       "      <td>False</td>\n",
       "      <td>False</td>\n",
       "    </tr>\n",
       "    <tr>\n",
       "      <td>80</td>\n",
       "      <td>85</td>\n",
       "      <td>Gomishan</td>\n",
       "      <td>IRA</td>\n",
       "      <td>True</td>\n",
       "      <td>True</td>\n",
       "      <td>False</td>\n",
       "    </tr>\n",
       "    <tr>\n",
       "      <td>81</td>\n",
       "      <td>86</td>\n",
       "      <td>No Name</td>\n",
       "      <td>UBZ</td>\n",
       "      <td>False</td>\n",
       "      <td>False</td>\n",
       "      <td>False</td>\n",
       "    </tr>\n",
       "    <tr>\n",
       "      <td>82</td>\n",
       "      <td>87</td>\n",
       "      <td>Yaysan</td>\n",
       "      <td>KAZ</td>\n",
       "      <td>True</td>\n",
       "      <td>False</td>\n",
       "      <td>False</td>\n",
       "    </tr>\n",
       "    <tr>\n",
       "      <td>83</td>\n",
       "      <td>88</td>\n",
       "      <td>Kunowice</td>\n",
       "      <td>POL</td>\n",
       "      <td>False</td>\n",
       "      <td>False</td>\n",
       "      <td>False</td>\n",
       "    </tr>\n",
       "  </tbody>\n",
       "</table>\n",
       "<p>84 rows × 6 columns</p>\n",
       "</div>"
      ],
      "text/plain": [
       "    node_id      name country  border  gauge_change  \\\n",
       "0         1     Aktau     KAZ   False         False   \n",
       "1         2    Aktobe     KAZ   False         False   \n",
       "2         3   Aktogal     KAZ   False         False   \n",
       "3         4    Almaty     KAZ   False         False   \n",
       "4         5   Andijan     UBZ    True         False   \n",
       "..      ...       ...     ...     ...           ...   \n",
       "79       84   Rustawi  BORDER    True         False   \n",
       "80       85  Gomishan     IRA    True          True   \n",
       "81       86   No Name     UBZ   False         False   \n",
       "82       87    Yaysan     KAZ    True         False   \n",
       "83       88  Kunowice     POL   False         False   \n",
       "\n",
       "    if_border_is_an_origin_or_destination  \n",
       "0                                   False  \n",
       "1                                   False  \n",
       "2                                   False  \n",
       "3                                   False  \n",
       "4                                   False  \n",
       "..                                    ...  \n",
       "79                                  False  \n",
       "80                                  False  \n",
       "81                                  False  \n",
       "82                                  False  \n",
       "83                                  False  \n",
       "\n",
       "[84 rows x 6 columns]"
      ]
     },
     "execution_count": 487,
     "metadata": {},
     "output_type": "execute_result"
    }
   ],
   "source": [
    "input_nodes"
   ]
  },
  {
   "cell_type": "markdown",
   "metadata": {},
   "source": [
    "## General methodology\n",
    "Traversing through a border inqurs an additional cost. On top of this another additional cost is incurred is a gauge change occurs. The way these costs are modeled are by adding 1/2 the costs to each edge adjacent to each border node. This works because each path that traverses a border cost mus enter a border node and exit through a different edge."
   ]
  },
  {
   "cell_type": "markdown",
   "metadata": {},
   "source": [
    "### Pre-Processing for border nodes that are also an origin or destination node\n",
    "(Insert Pic)\n",
    "\n",
    "There are edge cases when a border node is also either an origin or destination (In this project it is never both). An example to illustrate why this is so; imagine a border node is also an origin. Then depending on what side of the border the border node is then the border cost may not occur at all if the next stop does not cross the border."
   ]
  },
  {
   "cell_type": "markdown",
   "metadata": {},
   "source": [
    "#### Add additional in-between nodes for edge cases for border nodes that are also an origin or destination node\n",
    "(insert pic)\n",
    "- For each border node that is also an origin or destination node\n",
    "    - read which country the border node is in\n",
    "        - For each edge adajent to the border node:\n",
    "            If the from node is also in the same country:\n",
    "                Add an extra node and split the edge"
   ]
  },
  {
   "cell_type": "code",
   "execution_count": 488,
   "metadata": {},
   "outputs": [
    {
     "name": "stdout",
     "output_type": "stream",
     "text": [
      "10 Baku AZE\n",
      "adj node\n",
      "{}\n",
      "adj node\n",
      "{}\n",
      "adj node\n",
      "{}\n",
      "18 Brest BEL\n",
      "adj node\n",
      "{}\n",
      "adj node\n",
      "{}\n",
      "adj node\n",
      "{}\n",
      "60 Tashkent UBZ\n",
      "adj node\n",
      "{}\n",
      "adj node\n",
      "{}\n",
      "adj node\n",
      "{}\n",
      "68 Turkmenabad TKM\n",
      "adj node\n",
      "{}\n",
      "adj node\n",
      "{}\n"
     ]
    }
   ],
   "source": [
    "# loop through input nodes\n",
    "for index, row in input_nodes.iterrows():\n",
    "    # if border node and is either an origin or destination\n",
    "    if row[5]:\n",
    "        # country border node is in is row[2]\n",
    "        print(row[0],row[1],row[2])\n",
    "        for entry in list(G.neighbors(row[0])):\n",
    "            print('adj node')\n",
    "            #print(entry)\n",
    "            print(G.nodes[entry])\n",
    "            # add new intermediate node\n",
    "            G.add_node(str(row[0])+'b')\n",
    "            # add new edge from intermediate node to border node\n",
    "            G.add_edge(str(row[0])+'b',row[0])\n",
    "            # add new edge to connect to intermediate node instead of the border node\n",
    "            G.add_edge(entry, str(row[0])+'b', cost=G.edges[entry,row[0]]['cost'] )\n",
    "            # remove edge\n",
    "            G.remove_edge(entry,row[0])\n",
    "    # "
   ]
  },
  {
   "cell_type": "markdown",
   "metadata": {},
   "source": [
    "## We are not creating any intermediate nodes. Every shortest path that begins at a non-border node and passes through a border must cross an edge that goes into a border node and leaves a border node. Therefore we are just adding 1/2 the border costs to each adjacent edge to each border node.\n",
    "\n",
    "## Later in the notebook we will add an additional 1/2 border costs to each shortest path that begins at a border node."
   ]
  },
  {
   "cell_type": "code",
   "execution_count": 395,
   "metadata": {},
   "outputs": [],
   "source": [
    "# border costs\n",
    "# each border crossing has a time of 4 hours and a cost of $20 per ton\n",
    "add_half_border_costs_per_link = (4 * value_of_time_per_ton_in_usd + 20) / 2\n",
    "# each gauge change has a time of 12 hours and a cost of $10 per ton\n",
    "add_half_border_w_gauge_costs_per_link = (12 * value_of_time_per_ton_in_usd + 10) / 2"
   ]
  },
  {
   "cell_type": "code",
   "execution_count": 396,
   "metadata": {},
   "outputs": [],
   "source": [
    "border_nodes = []\n",
    "border_nodes_w_gauge_change = []\n",
    "# loop through input nodes\n",
    "for index, row in input_nodes.iterrows():\n",
    "    # if border node with gauge change\n",
    "    if row[3]:\n",
    "        border_nodes_w_gauge_change.append(row[0])\n",
    "        border_nodes.append(row[0])\n",
    "        for entry in list(G.neighbors(row[0])):\n",
    "                #print('edge')\n",
    "                #print(entry)\n",
    "                G.edges[entry,row[0]]['cost'] = G.edges[entry,row[0]]['cost'] + add_half_border_w_gauge_costs_per_link + add_half_border_costs_per_link\n",
    "    # else if reg border node\n",
    "    elif row[2]:\n",
    "        border_nodes.append(row[0])\n",
    "        #print(row[0],row[1])\n",
    "        for entry in list(G.neighbors(row[0])):\n",
    "            #print('edge')\n",
    "            #print(entry)\n",
    "            G.edges[entry,row[0]]['cost'] = G.edges[entry,row[0]]['cost'] + add_half_border_costs_per_link"
   ]
  },
  {
   "cell_type": "code",
   "execution_count": 397,
   "metadata": {},
   "outputs": [
    {
     "data": {
      "text/plain": [
       "21"
      ]
     },
     "execution_count": 397,
     "metadata": {},
     "output_type": "execute_result"
    }
   ],
   "source": [
    "len(border_nodes)"
   ]
  },
  {
   "cell_type": "code",
   "execution_count": 398,
   "metadata": {},
   "outputs": [
    {
     "data": {
      "text/plain": [
       "8"
      ]
     },
     "execution_count": 398,
     "metadata": {},
     "output_type": "execute_result"
    }
   ],
   "source": [
    "len(border_nodes_w_gauge_change)"
   ]
  },
  {
   "cell_type": "code",
   "execution_count": 399,
   "metadata": {},
   "outputs": [
    {
     "data": {
      "text/plain": [
       "{'cost': 10.3902752}"
      ]
     },
     "execution_count": 399,
     "metadata": {},
     "output_type": "execute_result"
    }
   ],
   "source": [
    "G.edges[5,36]"
   ]
  },
  {
   "cell_type": "code",
   "execution_count": 400,
   "metadata": {},
   "outputs": [],
   "source": [
    "G.edges[5,36]['cost'] = 2.9"
   ]
  },
  {
   "cell_type": "code",
   "execution_count": 401,
   "metadata": {},
   "outputs": [
    {
     "data": {
      "text/plain": [
       "{'cost': 2.9}"
      ]
     },
     "execution_count": 401,
     "metadata": {},
     "output_type": "execute_result"
    }
   ],
   "source": [
    "G.edges[5,36]"
   ]
  },
  {
   "cell_type": "code",
   "execution_count": 402,
   "metadata": {},
   "outputs": [],
   "source": [
    "#G.edges[37,65]"
   ]
  },
  {
   "cell_type": "code",
   "execution_count": 403,
   "metadata": {},
   "outputs": [],
   "source": [
    "#for e in G.edges(data = True):\n",
    "    # For each edge's attribute\n",
    "    #print(e)"
   ]
  },
  {
   "cell_type": "code",
   "execution_count": 404,
   "metadata": {},
   "outputs": [
    {
     "data": {
      "image/png": "[encoded data removed]",
      "text/plain": [
       "<Figure size 432x288 with 1 Axes>"
      ]
     },
     "metadata": {},
     "output_type": "display_data"
    }
   ],
   "source": [
    "nx.draw(G, with_labels = True)"
   ]
  },
  {
   "cell_type": "code",
   "execution_count": 405,
   "metadata": {},
   "outputs": [],
   "source": [
    "nodes_list = []\n",
    "for n in G.nodes():\n",
    "    nodes_list.append(n)"
   ]
  },
  {
   "cell_type": "code",
   "execution_count": 406,
   "metadata": {},
   "outputs": [
    {
     "data": {
      "text/plain": [
       "85"
      ]
     },
     "execution_count": 406,
     "metadata": {},
     "output_type": "execute_result"
    }
   ],
   "source": [
    "len(nodes_list)"
   ]
  },
  {
   "cell_type": "code",
   "execution_count": 407,
   "metadata": {},
   "outputs": [
    {
     "data": {
      "text/plain": [
       "<module 'GOSTnet' from '../../GOSTNets/GOSTNets/GOSTnet.py'>"
      ]
     },
     "execution_count": 407,
     "metadata": {},
     "output_type": "execute_result"
    }
   ],
   "source": [
    "import importlib\n",
    "importlib.reload(gn)"
   ]
  },
  {
   "cell_type": "code",
   "execution_count": 408,
   "metadata": {},
   "outputs": [
    {
     "name": "stdout",
     "output_type": "stream",
     "text": [
      "0.08881115913391113\n"
     ]
    }
   ],
   "source": [
    "# calculate OD matrix\n",
    "import time\n",
    "start = time.time()\n",
    "OD_matrix = gn.calculate_OD(G, nodes_list, nodes_list, fail_value=-1, weight='cost')\n",
    "end = time.time()\n",
    "print(end-start)"
   ]
  },
  {
   "cell_type": "code",
   "execution_count": 409,
   "metadata": {},
   "outputs": [
    {
     "data": {
      "text/plain": [
       "array([[ 0.        ,  2.97613369, 16.21875413, ..., 62.59251618,\n",
       "        65.23200898, 68.1981005 ],\n",
       "       [ 2.97613369,  0.        , 19.19488782, ..., 59.61638249,\n",
       "        62.25587529, 65.22196681],\n",
       "       [16.21875413, 19.19488782,  0.        , ..., 72.36328496,\n",
       "        75.00277776, 77.96886928],\n",
       "       ...,\n",
       "       [62.59251618, 59.61638249, 72.36328496, ...,  0.        ,\n",
       "         2.6394928 ,  5.60558432],\n",
       "       [65.23200898, 62.25587529, 75.00277776, ...,  2.6394928 ,\n",
       "         0.        ,  2.96609152],\n",
       "       [68.1981005 , 65.22196681, 77.96886928, ...,  5.60558432,\n",
       "         2.96609152,  0.        ]])"
      ]
     },
     "execution_count": 409,
     "metadata": {},
     "output_type": "execute_result"
    }
   ],
   "source": [
    "OD_matrix"
   ]
  },
  {
   "cell_type": "code",
   "execution_count": 410,
   "metadata": {},
   "outputs": [],
   "source": [
    "OD_df = pd.DataFrame(OD_matrix, columns = nodes_list , index = nodes_list)"
   ]
  },
  {
   "cell_type": "code",
   "execution_count": 411,
   "metadata": {},
   "outputs": [
    {
     "data": {
      "text/html": [
       "<div>\n",
       "<style scoped>\n",
       "    .dataframe tbody tr th:only-of-type {\n",
       "        vertical-align: middle;\n",
       "    }\n",
       "\n",
       "    .dataframe tbody tr th {\n",
       "        vertical-align: top;\n",
       "    }\n",
       "\n",
       "    .dataframe thead th {\n",
       "        text-align: right;\n",
       "    }\n",
       "</style>\n",
       "<table border=\"1\" class=\"dataframe\">\n",
       "  <thead>\n",
       "    <tr style=\"text-align: right;\">\n",
       "      <th></th>\n",
       "      <th>38</th>\n",
       "      <th>69</th>\n",
       "      <th>70</th>\n",
       "      <th>36</th>\n",
       "      <th>5</th>\n",
       "      <th>24</th>\n",
       "      <th>35</th>\n",
       "      <th>54</th>\n",
       "      <th>37</th>\n",
       "      <th>65</th>\n",
       "      <th>...</th>\n",
       "      <th>49</th>\n",
       "      <th>51</th>\n",
       "      <th>47</th>\n",
       "      <th>41</th>\n",
       "      <th>73</th>\n",
       "      <th>22</th>\n",
       "      <th>25</th>\n",
       "      <th>79</th>\n",
       "      <th>80</th>\n",
       "      <th>81</th>\n",
       "    </tr>\n",
       "  </thead>\n",
       "  <tbody>\n",
       "    <tr>\n",
       "      <td>38</td>\n",
       "      <td>0.000000</td>\n",
       "      <td>2.976134</td>\n",
       "      <td>16.218754</td>\n",
       "      <td>29.983546</td>\n",
       "      <td>32.883546</td>\n",
       "      <td>41.152024</td>\n",
       "      <td>29.901970</td>\n",
       "      <td>29.634939</td>\n",
       "      <td>30.075099</td>\n",
       "      <td>30.899666</td>\n",
       "      <td>...</td>\n",
       "      <td>29.893167</td>\n",
       "      <td>72.015173</td>\n",
       "      <td>85.363323</td>\n",
       "      <td>97.047669</td>\n",
       "      <td>96.487785</td>\n",
       "      <td>30.923141</td>\n",
       "      <td>29.758771</td>\n",
       "      <td>62.592516</td>\n",
       "      <td>65.232009</td>\n",
       "      <td>68.198100</td>\n",
       "    </tr>\n",
       "    <tr>\n",
       "      <td>69</td>\n",
       "      <td>2.976134</td>\n",
       "      <td>0.000000</td>\n",
       "      <td>19.194888</td>\n",
       "      <td>27.007412</td>\n",
       "      <td>29.907412</td>\n",
       "      <td>38.175890</td>\n",
       "      <td>26.925836</td>\n",
       "      <td>26.658806</td>\n",
       "      <td>27.098966</td>\n",
       "      <td>27.923532</td>\n",
       "      <td>...</td>\n",
       "      <td>26.917033</td>\n",
       "      <td>69.039039</td>\n",
       "      <td>82.387190</td>\n",
       "      <td>94.071535</td>\n",
       "      <td>93.511652</td>\n",
       "      <td>27.947007</td>\n",
       "      <td>26.782637</td>\n",
       "      <td>59.616382</td>\n",
       "      <td>62.255875</td>\n",
       "      <td>65.221967</td>\n",
       "    </tr>\n",
       "    <tr>\n",
       "      <td>70</td>\n",
       "      <td>16.218754</td>\n",
       "      <td>19.194888</td>\n",
       "      <td>0.000000</td>\n",
       "      <td>16.885645</td>\n",
       "      <td>19.785645</td>\n",
       "      <td>40.422410</td>\n",
       "      <td>39.672739</td>\n",
       "      <td>39.405708</td>\n",
       "      <td>39.845868</td>\n",
       "      <td>40.670435</td>\n",
       "      <td>...</td>\n",
       "      <td>16.976025</td>\n",
       "      <td>88.233927</td>\n",
       "      <td>101.582078</td>\n",
       "      <td>113.266423</td>\n",
       "      <td>112.706540</td>\n",
       "      <td>40.693910</td>\n",
       "      <td>18.038865</td>\n",
       "      <td>72.363285</td>\n",
       "      <td>75.002778</td>\n",
       "      <td>77.968869</td>\n",
       "    </tr>\n",
       "    <tr>\n",
       "      <td>36</td>\n",
       "      <td>29.983546</td>\n",
       "      <td>27.007412</td>\n",
       "      <td>16.885645</td>\n",
       "      <td>0.000000</td>\n",
       "      <td>2.900000</td>\n",
       "      <td>23.536765</td>\n",
       "      <td>22.787093</td>\n",
       "      <td>22.520063</td>\n",
       "      <td>22.960223</td>\n",
       "      <td>23.784789</td>\n",
       "      <td>...</td>\n",
       "      <td>0.090380</td>\n",
       "      <td>85.962549</td>\n",
       "      <td>99.310700</td>\n",
       "      <td>110.995045</td>\n",
       "      <td>110.435162</td>\n",
       "      <td>23.808264</td>\n",
       "      <td>1.153219</td>\n",
       "      <td>55.477640</td>\n",
       "      <td>58.117132</td>\n",
       "      <td>61.083224</td>\n",
       "    </tr>\n",
       "    <tr>\n",
       "      <td>5</td>\n",
       "      <td>32.883546</td>\n",
       "      <td>29.907412</td>\n",
       "      <td>19.785645</td>\n",
       "      <td>2.900000</td>\n",
       "      <td>0.000000</td>\n",
       "      <td>20.636765</td>\n",
       "      <td>25.687093</td>\n",
       "      <td>25.420063</td>\n",
       "      <td>25.860223</td>\n",
       "      <td>26.684789</td>\n",
       "      <td>...</td>\n",
       "      <td>2.990380</td>\n",
       "      <td>88.862549</td>\n",
       "      <td>102.210700</td>\n",
       "      <td>113.895045</td>\n",
       "      <td>113.335162</td>\n",
       "      <td>26.708264</td>\n",
       "      <td>4.053219</td>\n",
       "      <td>58.377640</td>\n",
       "      <td>61.017132</td>\n",
       "      <td>63.983224</td>\n",
       "    </tr>\n",
       "    <tr>\n",
       "      <td>...</td>\n",
       "      <td>...</td>\n",
       "      <td>...</td>\n",
       "      <td>...</td>\n",
       "      <td>...</td>\n",
       "      <td>...</td>\n",
       "      <td>...</td>\n",
       "      <td>...</td>\n",
       "      <td>...</td>\n",
       "      <td>...</td>\n",
       "      <td>...</td>\n",
       "      <td>...</td>\n",
       "      <td>...</td>\n",
       "      <td>...</td>\n",
       "      <td>...</td>\n",
       "      <td>...</td>\n",
       "      <td>...</td>\n",
       "      <td>...</td>\n",
       "      <td>...</td>\n",
       "      <td>...</td>\n",
       "      <td>...</td>\n",
       "      <td>...</td>\n",
       "    </tr>\n",
       "    <tr>\n",
       "      <td>22</td>\n",
       "      <td>30.923141</td>\n",
       "      <td>27.947007</td>\n",
       "      <td>40.693910</td>\n",
       "      <td>23.808264</td>\n",
       "      <td>26.708264</td>\n",
       "      <td>12.805286</td>\n",
       "      <td>1.555232</td>\n",
       "      <td>1.288202</td>\n",
       "      <td>0.848042</td>\n",
       "      <td>1.672608</td>\n",
       "      <td>...</td>\n",
       "      <td>23.717885</td>\n",
       "      <td>82.865143</td>\n",
       "      <td>96.213294</td>\n",
       "      <td>107.897639</td>\n",
       "      <td>108.408388</td>\n",
       "      <td>0.000000</td>\n",
       "      <td>23.583489</td>\n",
       "      <td>33.365458</td>\n",
       "      <td>36.004951</td>\n",
       "      <td>38.971043</td>\n",
       "    </tr>\n",
       "    <tr>\n",
       "      <td>25</td>\n",
       "      <td>29.758771</td>\n",
       "      <td>26.782637</td>\n",
       "      <td>18.038865</td>\n",
       "      <td>1.153219</td>\n",
       "      <td>4.053219</td>\n",
       "      <td>24.689984</td>\n",
       "      <td>22.562318</td>\n",
       "      <td>22.295288</td>\n",
       "      <td>22.735448</td>\n",
       "      <td>23.560014</td>\n",
       "      <td>...</td>\n",
       "      <td>1.062840</td>\n",
       "      <td>85.737774</td>\n",
       "      <td>99.085924</td>\n",
       "      <td>110.770270</td>\n",
       "      <td>110.210387</td>\n",
       "      <td>23.583489</td>\n",
       "      <td>0.000000</td>\n",
       "      <td>55.252864</td>\n",
       "      <td>57.892357</td>\n",
       "      <td>60.858449</td>\n",
       "    </tr>\n",
       "    <tr>\n",
       "      <td>79</td>\n",
       "      <td>62.592516</td>\n",
       "      <td>59.616382</td>\n",
       "      <td>72.363285</td>\n",
       "      <td>55.477640</td>\n",
       "      <td>58.377640</td>\n",
       "      <td>44.474662</td>\n",
       "      <td>33.224607</td>\n",
       "      <td>32.957577</td>\n",
       "      <td>32.517417</td>\n",
       "      <td>31.692850</td>\n",
       "      <td>...</td>\n",
       "      <td>55.387260</td>\n",
       "      <td>114.534518</td>\n",
       "      <td>108.555250</td>\n",
       "      <td>96.870904</td>\n",
       "      <td>90.653204</td>\n",
       "      <td>33.365458</td>\n",
       "      <td>55.252864</td>\n",
       "      <td>0.000000</td>\n",
       "      <td>2.639493</td>\n",
       "      <td>5.605584</td>\n",
       "    </tr>\n",
       "    <tr>\n",
       "      <td>80</td>\n",
       "      <td>65.232009</td>\n",
       "      <td>62.255875</td>\n",
       "      <td>75.002778</td>\n",
       "      <td>58.117132</td>\n",
       "      <td>61.017132</td>\n",
       "      <td>47.114154</td>\n",
       "      <td>35.864100</td>\n",
       "      <td>35.597070</td>\n",
       "      <td>35.156910</td>\n",
       "      <td>34.332343</td>\n",
       "      <td>...</td>\n",
       "      <td>58.026753</td>\n",
       "      <td>117.174011</td>\n",
       "      <td>111.194742</td>\n",
       "      <td>99.510397</td>\n",
       "      <td>93.292697</td>\n",
       "      <td>36.004951</td>\n",
       "      <td>57.892357</td>\n",
       "      <td>2.639493</td>\n",
       "      <td>0.000000</td>\n",
       "      <td>2.966092</td>\n",
       "    </tr>\n",
       "    <tr>\n",
       "      <td>81</td>\n",
       "      <td>68.198100</td>\n",
       "      <td>65.221967</td>\n",
       "      <td>77.968869</td>\n",
       "      <td>61.083224</td>\n",
       "      <td>63.983224</td>\n",
       "      <td>50.080246</td>\n",
       "      <td>38.830192</td>\n",
       "      <td>38.563161</td>\n",
       "      <td>38.123001</td>\n",
       "      <td>37.298435</td>\n",
       "      <td>...</td>\n",
       "      <td>60.992844</td>\n",
       "      <td>120.140103</td>\n",
       "      <td>114.160834</td>\n",
       "      <td>102.476488</td>\n",
       "      <td>96.258788</td>\n",
       "      <td>38.971043</td>\n",
       "      <td>60.858449</td>\n",
       "      <td>5.605584</td>\n",
       "      <td>2.966092</td>\n",
       "      <td>0.000000</td>\n",
       "    </tr>\n",
       "  </tbody>\n",
       "</table>\n",
       "<p>85 rows × 85 columns</p>\n",
       "</div>"
      ],
      "text/plain": [
       "           38         69         70         36         5          24  \\\n",
       "38   0.000000   2.976134  16.218754  29.983546  32.883546  41.152024   \n",
       "69   2.976134   0.000000  19.194888  27.007412  29.907412  38.175890   \n",
       "70  16.218754  19.194888   0.000000  16.885645  19.785645  40.422410   \n",
       "36  29.983546  27.007412  16.885645   0.000000   2.900000  23.536765   \n",
       "5   32.883546  29.907412  19.785645   2.900000   0.000000  20.636765   \n",
       "..        ...        ...        ...        ...        ...        ...   \n",
       "22  30.923141  27.947007  40.693910  23.808264  26.708264  12.805286   \n",
       "25  29.758771  26.782637  18.038865   1.153219   4.053219  24.689984   \n",
       "79  62.592516  59.616382  72.363285  55.477640  58.377640  44.474662   \n",
       "80  65.232009  62.255875  75.002778  58.117132  61.017132  47.114154   \n",
       "81  68.198100  65.221967  77.968869  61.083224  63.983224  50.080246   \n",
       "\n",
       "           35         54         37         65  ...         49          51  \\\n",
       "38  29.901970  29.634939  30.075099  30.899666  ...  29.893167   72.015173   \n",
       "69  26.925836  26.658806  27.098966  27.923532  ...  26.917033   69.039039   \n",
       "70  39.672739  39.405708  39.845868  40.670435  ...  16.976025   88.233927   \n",
       "36  22.787093  22.520063  22.960223  23.784789  ...   0.090380   85.962549   \n",
       "5   25.687093  25.420063  25.860223  26.684789  ...   2.990380   88.862549   \n",
       "..        ...        ...        ...        ...  ...        ...         ...   \n",
       "22   1.555232   1.288202   0.848042   1.672608  ...  23.717885   82.865143   \n",
       "25  22.562318  22.295288  22.735448  23.560014  ...   1.062840   85.737774   \n",
       "79  33.224607  32.957577  32.517417  31.692850  ...  55.387260  114.534518   \n",
       "80  35.864100  35.597070  35.156910  34.332343  ...  58.026753  117.174011   \n",
       "81  38.830192  38.563161  38.123001  37.298435  ...  60.992844  120.140103   \n",
       "\n",
       "            47          41          73         22         25         79  \\\n",
       "38   85.363323   97.047669   96.487785  30.923141  29.758771  62.592516   \n",
       "69   82.387190   94.071535   93.511652  27.947007  26.782637  59.616382   \n",
       "70  101.582078  113.266423  112.706540  40.693910  18.038865  72.363285   \n",
       "36   99.310700  110.995045  110.435162  23.808264   1.153219  55.477640   \n",
       "5   102.210700  113.895045  113.335162  26.708264   4.053219  58.377640   \n",
       "..         ...         ...         ...        ...        ...        ...   \n",
       "22   96.213294  107.897639  108.408388   0.000000  23.583489  33.365458   \n",
       "25   99.085924  110.770270  110.210387  23.583489   0.000000  55.252864   \n",
       "79  108.555250   96.870904   90.653204  33.365458  55.252864   0.000000   \n",
       "80  111.194742   99.510397   93.292697  36.004951  57.892357   2.639493   \n",
       "81  114.160834  102.476488   96.258788  38.971043  60.858449   5.605584   \n",
       "\n",
       "           80         81  \n",
       "38  65.232009  68.198100  \n",
       "69  62.255875  65.221967  \n",
       "70  75.002778  77.968869  \n",
       "36  58.117132  61.083224  \n",
       "5   61.017132  63.983224  \n",
       "..        ...        ...  \n",
       "22  36.004951  38.971043  \n",
       "25  57.892357  60.858449  \n",
       "79   2.639493   5.605584  \n",
       "80   0.000000   2.966092  \n",
       "81   2.966092   0.000000  \n",
       "\n",
       "[85 rows x 85 columns]"
      ]
     },
     "execution_count": 411,
     "metadata": {},
     "output_type": "execute_result"
    }
   ],
   "source": [
    "OD_df"
   ]
  },
  {
   "cell_type": "code",
   "execution_count": 412,
   "metadata": {},
   "outputs": [],
   "source": [
    "# access costs are 0.17117 USD per ton\n",
    "OD_df_w_extra_costs = OD_df + 0.17117"
   ]
  },
  {
   "cell_type": "code",
   "execution_count": 413,
   "metadata": {},
   "outputs": [
    {
     "data": {
      "text/plain": [
       "38     79.025625\n",
       "69     76.049491\n",
       "70     95.244379\n",
       "36     92.973001\n",
       "5      95.873001\n",
       "         ...    \n",
       "22     93.912596\n",
       "25     92.748226\n",
       "79    108.457704\n",
       "80    111.097197\n",
       "81    114.063289\n",
       "Name: 18, Length: 85, dtype: float64"
      ]
     },
     "execution_count": 413,
     "metadata": {},
     "output_type": "execute_result"
    }
   ],
   "source": [
    "OD_df_w_extra_costs.loc[18]"
   ]
  },
  {
   "cell_type": "code",
   "execution_count": 414,
   "metadata": {},
   "outputs": [
    {
     "data": {
      "text/plain": [
       "[5,\n",
       " 10,\n",
       " 18,\n",
       " 21,\n",
       " 24,\n",
       " 27,\n",
       " 31,\n",
       " 34,\n",
       " 39,\n",
       " 47,\n",
       " 52,\n",
       " 55,\n",
       " 60,\n",
       " 62,\n",
       " 68,\n",
       " 70,\n",
       " 82,\n",
       " 83,\n",
       " 84,\n",
       " 85,\n",
       " 87]"
      ]
     },
     "execution_count": 414,
     "metadata": {},
     "output_type": "execute_result"
    }
   ],
   "source": [
    "border_nodes"
   ]
  },
  {
   "cell_type": "code",
   "execution_count": 415,
   "metadata": {},
   "outputs": [
    {
     "data": {
      "text/plain": [
       "10.205408"
      ]
     },
     "execution_count": 415,
     "metadata": {},
     "output_type": "execute_result"
    }
   ],
   "source": [
    "add_half_border_costs_per_link"
   ]
  },
  {
   "cell_type": "code",
   "execution_count": 416,
   "metadata": {},
   "outputs": [],
   "source": [
    "OD_df_w_extra_costs.loc[border_nodes] = OD_df_w_extra_costs.loc[border_nodes] + add_half_border_costs_per_link"
   ]
  },
  {
   "cell_type": "code",
   "execution_count": 417,
   "metadata": {},
   "outputs": [
    {
     "data": {
      "text/plain": [
       "[18, 21, 55, 62, 70, 82, 83, 85]"
      ]
     },
     "execution_count": 417,
     "metadata": {},
     "output_type": "execute_result"
    }
   ],
   "source": [
    "border_nodes_w_gauge_change"
   ]
  },
  {
   "cell_type": "code",
   "execution_count": 418,
   "metadata": {},
   "outputs": [
    {
     "data": {
      "text/plain": [
       "5.616224"
      ]
     },
     "execution_count": 418,
     "metadata": {},
     "output_type": "execute_result"
    }
   ],
   "source": [
    "add_half_border_w_gauge_costs_per_link"
   ]
  },
  {
   "cell_type": "code",
   "execution_count": 419,
   "metadata": {},
   "outputs": [],
   "source": [
    "OD_df_w_extra_costs.loc[border_nodes_w_gauge_change] = OD_df_w_extra_costs.loc[border_nodes_w_gauge_change] + add_half_border_w_gauge_costs_per_link"
   ]
  },
  {
   "cell_type": "code",
   "execution_count": 420,
   "metadata": {},
   "outputs": [
    {
     "data": {
      "text/plain": [
       "38     94.847257\n",
       "69     91.871123\n",
       "70    111.066011\n",
       "36    108.794633\n",
       "5     111.694633\n",
       "         ...    \n",
       "22    109.734228\n",
       "25    108.569858\n",
       "79    124.279336\n",
       "80    126.918829\n",
       "81    129.884921\n",
       "Name: 18, Length: 85, dtype: float64"
      ]
     },
     "execution_count": 420,
     "metadata": {},
     "output_type": "execute_result"
    }
   ],
   "source": [
    "OD_df_w_extra_costs.loc[18]"
   ]
  },
  {
   "cell_type": "code",
   "execution_count": 421,
   "metadata": {},
   "outputs": [],
   "source": [
    "OD_df_w_extra_costs.to_csv(\"asia_railways_output_OD_matrix.csv\")"
   ]
  },
  {
   "cell_type": "code",
   "execution_count": 423,
   "metadata": {},
   "outputs": [
    {
     "data": {
      "text/plain": [
       "65.65348911108828"
      ]
     },
     "execution_count": 423,
     "metadata": {},
     "output_type": "execute_result"
    }
   ],
   "source": [
    "# Testing\n",
    "nx.dijkstra_path_length(G, 26, 70, weight='cost')"
   ]
  },
  {
   "cell_type": "code",
   "execution_count": 424,
   "metadata": {},
   "outputs": [
    {
     "data": {
      "text/plain": [
       "[26, 45, 55, 58, 43, 68, 23, 54, 35, 24, 5, 36, 70]"
      ]
     },
     "execution_count": 424,
     "metadata": {},
     "output_type": "execute_result"
    }
   ],
   "source": [
    "nx.bidirectional_shortest_path(G, 26, 70)"
   ]
  },
  {
   "cell_type": "code",
   "execution_count": null,
   "metadata": {},
   "outputs": [],
   "source": []
  }
 ],
 "metadata": {
  "kernelspec": {
   "display_name": "Python [conda env:.conda-GOST_PublicGoods5] *",
   "language": "python",
   "name": "conda-env-.conda-GOST_PublicGoods5-py"
  },
  "language_info": {
   "codemirror_mode": {
    "name": "ipython",
    "version": 3
   },
   "file_extension": ".py",
   "mimetype": "text/x-python",
   "name": "python",
   "nbconvert_exporter": "python",
   "pygments_lexer": "ipython3",
   "version": "3.7.3"
  }
 },
 "nbformat": 4,
 "nbformat_minor": 2
}
