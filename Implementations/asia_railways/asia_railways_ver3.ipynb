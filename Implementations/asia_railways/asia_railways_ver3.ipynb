{
 "cells": [
  {
   "cell_type": "markdown",
   "metadata": {},
   "source": [
    "# Travel Times for Asia Railways\n",
    "\n",
    "This project takes in input edges and border nodes from spreadsheets and constructs travel times in an OD Matrix (origin-destination matrix) format.\n",
    "\n",
    "## Assumptions:\n",
    "\n",
    "- edges are bidirectional\n",
    "- each node in the network is a potential origin and destination\n",
    "\n",
    "## input data:\n",
    "\n",
    "- edges have these fields: source, target, link_id, length (km), time (hours)\n",
    "- nodes have these fields: node_id, name, country, border, gauge_change, if_border_is_an_origin_or_destination\n",
    "\n",
    "The time cost found in the input data will be converted to a USD per tonnage cost. This is converted using the value of time per ton in USD, which is .102704. This value can be adjusted by modifying the value_of_time_per_ton_in_usd variable.\n",
    "\n",
    "There are also 2 other ways costs are adjusted in this project:\n",
    "\n",
    "1. Border costs: There are additional costs for borders. Also some borders have a gauge change. A gauge change is an additional time and monetary cost on top of the standard border crossing time and cost.\n",
    "\n",
    "2. Access links: The network only has rail links, so the access distance represents the average road distance to reach the rail network's origins and destinations. For now we are adding 50km access links with a speed of 30 km/hr. Therefore 1.67 hours to traverse each access link, with a value of time per ton in USD of .102704, the cost is 0.17117 USD per ton per access link.\n",
    "\n",
    "border cost assumptions:\n",
    "\n",
    "- each border crossing has a time of 4 hours and a cost of 20 USD per ton\n",
    "- each gauge change has a time of 12 hours and a cost of 10 USD per ton\n",
    "\n",
    "Other project assumptions:\n",
    "\n",
    "- A border node can be either a potential origin or destination, but not both.\n"
   ]
  },
  {
   "cell_type": "code",
   "execution_count": 434,
   "metadata": {},
   "outputs": [],
   "source": [
    "import sys, os, inspect, logging, importlib\n",
    "\n",
    "import geopandas as gpd\n",
    "import pandas as pd\n",
    "import numpy as np\n",
    "import osmnx as ox\n",
    "import networkx as nx\n",
    "\n",
    "import matplotlib.pyplot as plt"
   ]
  },
  {
   "cell_type": "code",
   "execution_count": 435,
   "metadata": {},
   "outputs": [],
   "source": [
    "# Get reference to GOSTNets\n",
    "sys.path.append(r'../../GOSTNets/GOSTNets')\n",
    "import GOSTnet as gn"
   ]
  },
  {
   "cell_type": "code",
   "execution_count": 436,
   "metadata": {},
   "outputs": [],
   "source": [
    "scenario_var = \"_scenario1\""
   ]
  },
  {
   "cell_type": "code",
   "execution_count": 437,
   "metadata": {},
   "outputs": [],
   "source": [
    "# Define input data\n",
    "inputFolder = r'./input_folder{}'.format(scenario_var)\n",
    "input_edges = pd.read_csv(os.path.join(inputFolder, \"edges.csv\"))"
   ]
  },
  {
   "cell_type": "code",
   "execution_count": 438,
   "metadata": {},
   "outputs": [
    {
     "data": {
      "text/html": [
       "<div>\n",
       "<style scoped>\n",
       "    .dataframe tbody tr th:only-of-type {\n",
       "        vertical-align: middle;\n",
       "    }\n",
       "\n",
       "    .dataframe tbody tr th {\n",
       "        vertical-align: top;\n",
       "    }\n",
       "\n",
       "    .dataframe thead th {\n",
       "        text-align: right;\n",
       "    }\n",
       "</style>\n",
       "<table border=\"1\" class=\"dataframe\">\n",
       "  <thead>\n",
       "    <tr style=\"text-align: right;\">\n",
       "      <th></th>\n",
       "      <th>source</th>\n",
       "      <th>target</th>\n",
       "      <th>link_id</th>\n",
       "      <th>length</th>\n",
       "      <th>cost</th>\n",
       "    </tr>\n",
       "  </thead>\n",
       "  <tbody>\n",
       "    <tr>\n",
       "      <td>0</td>\n",
       "      <td>38</td>\n",
       "      <td>69</td>\n",
       "      <td>1</td>\n",
       "      <td>1304</td>\n",
       "      <td>42.95</td>\n",
       "    </tr>\n",
       "    <tr>\n",
       "      <td>1</td>\n",
       "      <td>38</td>\n",
       "      <td>70</td>\n",
       "      <td>2</td>\n",
       "      <td>174</td>\n",
       "      <td>5.73</td>\n",
       "    </tr>\n",
       "    <tr>\n",
       "      <td>2</td>\n",
       "      <td>36</td>\n",
       "      <td>70</td>\n",
       "      <td>3</td>\n",
       "      <td>259</td>\n",
       "      <td>14.01</td>\n",
       "    </tr>\n",
       "    <tr>\n",
       "      <td>3</td>\n",
       "      <td>5</td>\n",
       "      <td>36</td>\n",
       "      <td>4</td>\n",
       "      <td>45</td>\n",
       "      <td>1.95</td>\n",
       "    </tr>\n",
       "    <tr>\n",
       "      <td>4</td>\n",
       "      <td>25</td>\n",
       "      <td>5</td>\n",
       "      <td>5</td>\n",
       "      <td>77</td>\n",
       "      <td>3.34</td>\n",
       "    </tr>\n",
       "    <tr>\n",
       "      <td>...</td>\n",
       "      <td>...</td>\n",
       "      <td>...</td>\n",
       "      <td>...</td>\n",
       "      <td>...</td>\n",
       "      <td>...</td>\n",
       "    </tr>\n",
       "    <tr>\n",
       "      <td>96</td>\n",
       "      <td>36</td>\n",
       "      <td>49</td>\n",
       "      <td>104</td>\n",
       "      <td>22</td>\n",
       "      <td>1.19</td>\n",
       "    </tr>\n",
       "    <tr>\n",
       "      <td>97</td>\n",
       "      <td>50</td>\n",
       "      <td>25</td>\n",
       "      <td>105</td>\n",
       "      <td>113</td>\n",
       "      <td>6.11</td>\n",
       "    </tr>\n",
       "    <tr>\n",
       "      <td>98</td>\n",
       "      <td>33</td>\n",
       "      <td>79</td>\n",
       "      <td>106</td>\n",
       "      <td>460</td>\n",
       "      <td>28.95</td>\n",
       "    </tr>\n",
       "    <tr>\n",
       "      <td>99</td>\n",
       "      <td>79</td>\n",
       "      <td>80</td>\n",
       "      <td>107</td>\n",
       "      <td>257</td>\n",
       "      <td>16.17</td>\n",
       "    </tr>\n",
       "    <tr>\n",
       "      <td>100</td>\n",
       "      <td>80</td>\n",
       "      <td>81</td>\n",
       "      <td>108</td>\n",
       "      <td>722</td>\n",
       "      <td>39.07</td>\n",
       "    </tr>\n",
       "  </tbody>\n",
       "</table>\n",
       "<p>101 rows × 5 columns</p>\n",
       "</div>"
      ],
      "text/plain": [
       "     source  target  link_id  length   cost\n",
       "0        38      69        1    1304  42.95\n",
       "1        38      70        2     174   5.73\n",
       "2        36      70        3     259  14.01\n",
       "3         5      36        4      45   1.95\n",
       "4        25       5        5      77   3.34\n",
       "..      ...     ...      ...     ...    ...\n",
       "96       36      49      104      22   1.19\n",
       "97       50      25      105     113   6.11\n",
       "98       33      79      106     460  28.95\n",
       "99       79      80      107     257  16.17\n",
       "100      80      81      108     722  39.07\n",
       "\n",
       "[101 rows x 5 columns]"
      ]
     },
     "execution_count": 438,
     "metadata": {},
     "output_type": "execute_result"
    }
   ],
   "source": [
    "input_edges"
   ]
  },
  {
   "cell_type": "code",
   "execution_count": 439,
   "metadata": {},
   "outputs": [],
   "source": [
    "G = nx.from_pandas_edgelist(input_edges, edge_attr = 'cost')"
   ]
  },
  {
   "cell_type": "code",
   "execution_count": 440,
   "metadata": {},
   "outputs": [
    {
     "data": {
      "image/png": "[encoded data removed]",
      "text/plain": [
       "<Figure size 432x288 with 1 Axes>"
      ]
     },
     "metadata": {},
     "output_type": "display_data"
    }
   ],
   "source": [
    "nx.draw(G, with_labels = True)"
   ]
  },
  {
   "cell_type": "code",
   "execution_count": 441,
   "metadata": {},
   "outputs": [
    {
     "data": {
      "text/plain": [
       "networkx.classes.graph.Graph"
      ]
     },
     "execution_count": 441,
     "metadata": {},
     "output_type": "execute_result"
    }
   ],
   "source": [
    "type(G)"
   ]
  },
  {
   "cell_type": "markdown",
   "metadata": {},
   "source": [
    "## Add border nodes"
   ]
  },
  {
   "cell_type": "code",
   "execution_count": 442,
   "metadata": {},
   "outputs": [],
   "source": [
    "input_nodes = pd.read_csv(os.path.join(inputFolder, \"nodes.csv\"))"
   ]
  },
  {
   "cell_type": "code",
   "execution_count": 443,
   "metadata": {
    "scrolled": true
   },
   "outputs": [
    {
     "data": {
      "text/html": [
       "<div>\n",
       "<style scoped>\n",
       "    .dataframe tbody tr th:only-of-type {\n",
       "        vertical-align: middle;\n",
       "    }\n",
       "\n",
       "    .dataframe tbody tr th {\n",
       "        vertical-align: top;\n",
       "    }\n",
       "\n",
       "    .dataframe thead th {\n",
       "        text-align: right;\n",
       "    }\n",
       "</style>\n",
       "<table border=\"1\" class=\"dataframe\">\n",
       "  <thead>\n",
       "    <tr style=\"text-align: right;\">\n",
       "      <th></th>\n",
       "      <th>node_id</th>\n",
       "      <th>name</th>\n",
       "      <th>country</th>\n",
       "      <th>border</th>\n",
       "      <th>gauge_change</th>\n",
       "      <th>if_border_is_an_origin_or_destination</th>\n",
       "      <th>cost</th>\n",
       "    </tr>\n",
       "  </thead>\n",
       "  <tbody>\n",
       "    <tr>\n",
       "      <td>0</td>\n",
       "      <td>1</td>\n",
       "      <td>Aktau</td>\n",
       "      <td>KAZ</td>\n",
       "      <td>False</td>\n",
       "      <td>False</td>\n",
       "      <td>False</td>\n",
       "      <td>-</td>\n",
       "    </tr>\n",
       "    <tr>\n",
       "      <td>1</td>\n",
       "      <td>2</td>\n",
       "      <td>Aktobe</td>\n",
       "      <td>KAZ</td>\n",
       "      <td>False</td>\n",
       "      <td>False</td>\n",
       "      <td>False</td>\n",
       "      <td>-</td>\n",
       "    </tr>\n",
       "    <tr>\n",
       "      <td>2</td>\n",
       "      <td>3</td>\n",
       "      <td>Aktogal</td>\n",
       "      <td>KAZ</td>\n",
       "      <td>False</td>\n",
       "      <td>False</td>\n",
       "      <td>False</td>\n",
       "      <td>-</td>\n",
       "    </tr>\n",
       "    <tr>\n",
       "      <td>3</td>\n",
       "      <td>4</td>\n",
       "      <td>Almaty</td>\n",
       "      <td>KAZ</td>\n",
       "      <td>False</td>\n",
       "      <td>False</td>\n",
       "      <td>False</td>\n",
       "      <td>-</td>\n",
       "    </tr>\n",
       "    <tr>\n",
       "      <td>4</td>\n",
       "      <td>5</td>\n",
       "      <td>Andijan</td>\n",
       "      <td>UBZ</td>\n",
       "      <td>True</td>\n",
       "      <td>False</td>\n",
       "      <td>False</td>\n",
       "      <td>22.46</td>\n",
       "    </tr>\n",
       "    <tr>\n",
       "      <td>...</td>\n",
       "      <td>...</td>\n",
       "      <td>...</td>\n",
       "      <td>...</td>\n",
       "      <td>...</td>\n",
       "      <td>...</td>\n",
       "      <td>...</td>\n",
       "      <td>...</td>\n",
       "    </tr>\n",
       "    <tr>\n",
       "      <td>78</td>\n",
       "      <td>84</td>\n",
       "      <td>Rustawi</td>\n",
       "      <td>GEO</td>\n",
       "      <td>True</td>\n",
       "      <td>False</td>\n",
       "      <td>False</td>\n",
       "      <td>24.93</td>\n",
       "    </tr>\n",
       "    <tr>\n",
       "      <td>79</td>\n",
       "      <td>85</td>\n",
       "      <td>Gomishan</td>\n",
       "      <td>IRA</td>\n",
       "      <td>True</td>\n",
       "      <td>True</td>\n",
       "      <td>False</td>\n",
       "      <td>50.4</td>\n",
       "    </tr>\n",
       "    <tr>\n",
       "      <td>80</td>\n",
       "      <td>86</td>\n",
       "      <td>No Name</td>\n",
       "      <td>UBZ</td>\n",
       "      <td>False</td>\n",
       "      <td>False</td>\n",
       "      <td>False</td>\n",
       "      <td>-</td>\n",
       "    </tr>\n",
       "    <tr>\n",
       "      <td>81</td>\n",
       "      <td>87</td>\n",
       "      <td>Yaysan</td>\n",
       "      <td>KAZ</td>\n",
       "      <td>True</td>\n",
       "      <td>False</td>\n",
       "      <td>False</td>\n",
       "      <td>23.7</td>\n",
       "    </tr>\n",
       "    <tr>\n",
       "      <td>82</td>\n",
       "      <td>88</td>\n",
       "      <td>Kunowice</td>\n",
       "      <td>POL</td>\n",
       "      <td>False</td>\n",
       "      <td>False</td>\n",
       "      <td>False</td>\n",
       "      <td>-</td>\n",
       "    </tr>\n",
       "  </tbody>\n",
       "</table>\n",
       "<p>83 rows × 7 columns</p>\n",
       "</div>"
      ],
      "text/plain": [
       "    node_id      name country  border  gauge_change  \\\n",
       "0         1     Aktau     KAZ   False         False   \n",
       "1         2    Aktobe     KAZ   False         False   \n",
       "2         3   Aktogal     KAZ   False         False   \n",
       "3         4    Almaty     KAZ   False         False   \n",
       "4         5   Andijan     UBZ    True         False   \n",
       "..      ...       ...     ...     ...           ...   \n",
       "78       84   Rustawi     GEO    True         False   \n",
       "79       85  Gomishan     IRA    True          True   \n",
       "80       86   No Name     UBZ   False         False   \n",
       "81       87    Yaysan     KAZ    True         False   \n",
       "82       88  Kunowice     POL   False         False   \n",
       "\n",
       "    if_border_is_an_origin_or_destination   cost  \n",
       "0                                   False   -     \n",
       "1                                   False   -     \n",
       "2                                   False   -     \n",
       "3                                   False   -     \n",
       "4                                   False  22.46  \n",
       "..                                    ...    ...  \n",
       "78                                  False  24.93  \n",
       "79                                  False   50.4  \n",
       "80                                  False   -     \n",
       "81                                  False   23.7  \n",
       "82                                  False   -     \n",
       "\n",
       "[83 rows x 7 columns]"
      ]
     },
     "execution_count": 443,
     "metadata": {},
     "output_type": "execute_result"
    }
   ],
   "source": [
    "input_nodes"
   ]
  },
  {
   "cell_type": "markdown",
   "metadata": {},
   "source": [
    "####  Add country names to each node in graph"
   ]
  },
  {
   "cell_type": "code",
   "execution_count": 444,
   "metadata": {},
   "outputs": [],
   "source": [
    "# loop through input nodes\n",
    "for index, row in input_nodes.iterrows():\n",
    "    if row[0]:\n",
    "        # print(row[0])\n",
    "        G.nodes[row[0]]['country'] = row[2]"
   ]
  },
  {
   "cell_type": "code",
   "execution_count": 445,
   "metadata": {},
   "outputs": [],
   "source": [
    "# double-check results\n",
    "#list(G.nodes(data='country'))"
   ]
  },
  {
   "cell_type": "markdown",
   "metadata": {},
   "source": [
    "## General methodology\n",
    "Traversing through a border incurs additional costs. On top of this additional costs are incurred when a gauge change occurs at a border. The way these costs are modeled are by adding 1/2 the costs to each edge adjacent to each border node. This works because each path that traverses a border cost must enter a border node through an edge and exit through a different edge."
   ]
  },
  {
   "cell_type": "markdown",
   "metadata": {},
   "source": [
    "### Pre-Processing for border nodes that are also an origin or destination node\n",
    "(Insert Pic)\n",
    "\n",
    "There are edge cases when a border node is also either an origin or destination (In this project it is never both). An example to illustrate why this is so:\n",
    "Imagine a border node is also an origin. Then depending on what side of the border the border node is in then the border cost may not occur at all if the next stop does not cross the border."
   ]
  },
  {
   "cell_type": "markdown",
   "metadata": {},
   "source": [
    "#### Phase 1: To handle these edge cases we are adding additional in-between nodes for border nodes that are also an origin or destination node\n",
    "(insert pic)\n",
    "Psuedo-code:\n",
    "```\n",
    "For each border node that is also an origin or destination node:\n",
    "    read which country the border node is in\n",
    "    For each edge adjacent to the border node:\n",
    "        If the to node is also in the same country as the border node:\n",
    "            Add an extra node and split the edge\n",
    "```"
   ]
  },
  {
   "cell_type": "code",
   "execution_count": 446,
   "metadata": {},
   "outputs": [
    {
     "name": "stdout",
     "output_type": "stream",
     "text": [
      "10 Baku AZE\n",
      "18 Brest BEL\n",
      "68 Turkmenabad TKM\n"
     ]
    }
   ],
   "source": [
    "# loop through input nodes\n",
    "for index, row in input_nodes.iterrows():\n",
    "    # if border node and is either an origin or destination\n",
    "    if row[5]:\n",
    "        # country border node is in is row[2]\n",
    "        print(row[0],row[1],row[2])\n",
    "        # For each edge adjacent to the border node:\n",
    "        for entry in list(G.neighbors(row[0])):\n",
    "            # print('adj node')\n",
    "            # print(entry)\n",
    "            # print(G.nodes[entry]['country'])\n",
    "            # print(row[2])\n",
    "            # If the to node is also in the same country as the border node:\n",
    "            if G.nodes[entry]['country'] == row[2]:\n",
    "                # print(\"border node and is either an origin or destination is in country: \" + str(G.nodes[entry]['country']))\n",
    "                # add new intermediate node\n",
    "                G.add_node(str(row[0]) + 'b')\n",
    "                # add new edge from intermediate node to border node\n",
    "                G.add_edge(str(row[0]) + 'b',row[0], cost = .000001)\n",
    "                # add new edge to connect to intermediate node instead of the border node\n",
    "                G.add_edge(entry, str(row[0]) + 'b', cost = G.edges[entry,row[0]]['cost'] )\n",
    "                # remove edge\n",
    "                G.remove_edge(entry,row[0])"
   ]
  },
  {
   "cell_type": "markdown",
   "metadata": {},
   "source": [
    "#### Phase 2: Adding 1/2 the costs to each edge adjacent to each border node. "
   ]
  },
  {
   "cell_type": "code",
   "execution_count": 447,
   "metadata": {},
   "outputs": [],
   "source": [
    "# border costs\n",
    "# each border crossing has a time of 4 hours and a cost of $20 per ton\n",
    "#add_half_border_costs_per_link = (4 * value_of_time_per_ton_in_usd + 20) / 2\n",
    "# each gauge change has a time of 12 hours and a cost of $10 per ton\n",
    "#add_half_border_w_gauge_costs_per_link = (12 * value_of_time_per_ton_in_usd + 10) / 2"
   ]
  },
  {
   "cell_type": "code",
   "execution_count": 448,
   "metadata": {},
   "outputs": [],
   "source": [
    "border_nodes = []\n",
    "border_nodes_w_gauge_change = []\n",
    "# loop through input nodes\n",
    "for index, row in input_nodes.iterrows():\n",
    "    # if border node\n",
    "    if row[3]:\n",
    "        border_nodes.append(row[0])\n",
    "        #print(row[0],row[1])\n",
    "        # For each edge adjacent to the border node:\n",
    "        for entry in list(G.neighbors(row[0])):\n",
    "            #print('edge')\n",
    "            #print(entry)\n",
    "            G.edges[entry,row[0]]['cost'] = G.edges[entry,row[0]]['cost'] + float(row[6])/2"
   ]
  },
  {
   "cell_type": "code",
   "execution_count": 449,
   "metadata": {},
   "outputs": [],
   "source": [
    "# testing\n",
    "# len(border_nodes)"
   ]
  },
  {
   "cell_type": "code",
   "execution_count": 450,
   "metadata": {},
   "outputs": [],
   "source": [
    "# testing\n",
    "# len(border_nodes_w_gauge_change)"
   ]
  },
  {
   "cell_type": "code",
   "execution_count": 451,
   "metadata": {},
   "outputs": [],
   "source": [
    "# testing\n",
    "# G.edges[5,36]"
   ]
  },
  {
   "cell_type": "code",
   "execution_count": 452,
   "metadata": {},
   "outputs": [],
   "source": [
    "# testing\n",
    "# for e in G.edges(data = True):\n",
    "    # For each edge's attribute\n",
    "    # print(e)"
   ]
  },
  {
   "cell_type": "code",
   "execution_count": 453,
   "metadata": {
    "scrolled": true
   },
   "outputs": [
    {
     "data": {
      "image/png": "[encoded data removed]",
      "text/plain": [
       "<Figure size 432x288 with 1 Axes>"
      ]
     },
     "metadata": {},
     "output_type": "display_data"
    }
   ],
   "source": [
    "nx.draw(G, with_labels = True)"
   ]
  },
  {
   "cell_type": "code",
   "execution_count": 454,
   "metadata": {},
   "outputs": [
    {
     "data": {
      "text/plain": [
       "<module 'GOSTnet' from '../../GOSTNets/GOSTNets/GOSTnet.py'>"
      ]
     },
     "execution_count": 454,
     "metadata": {},
     "output_type": "execute_result"
    }
   ],
   "source": [
    "import importlib\n",
    "importlib.reload(gn)"
   ]
  },
  {
   "cell_type": "code",
   "execution_count": 455,
   "metadata": {},
   "outputs": [],
   "source": [
    "nodes_list = []\n",
    "for n in G.nodes():\n",
    "    nodes_list.append(n)"
   ]
  },
  {
   "cell_type": "code",
   "execution_count": 456,
   "metadata": {},
   "outputs": [
    {
     "name": "stdout",
     "output_type": "stream",
     "text": [
      "0.09464049339294434\n"
     ]
    }
   ],
   "source": [
    "# calculate OD matrix\n",
    "import time\n",
    "start = time.time()\n",
    "OD_matrix = gn.calculate_OD(G, nodes_list, nodes_list, fail_value=-1, weight='cost')\n",
    "end = time.time()\n",
    "print(end-start)"
   ]
  },
  {
   "cell_type": "code",
   "execution_count": 457,
   "metadata": {},
   "outputs": [
    {
     "data": {
      "text/plain": [
       "array([[  0.      ,  42.95    ,  17.58    , ..., 387.44    , 335.45    ,\n",
       "        182.840001],\n",
       "       [ 42.95    ,   0.      ,  60.53    , ..., 356.39    , 292.5     ,\n",
       "        151.790001],\n",
       "       [ 17.58    ,  60.53    ,   0.      , ..., 369.86    , 353.03    ,\n",
       "        165.260001],\n",
       "       ...,\n",
       "       [387.44    , 356.39    , 369.86    , ...,   0.      , 513.09    ,\n",
       "        278.520001],\n",
       "       [335.45    , 292.5     , 353.03    , ..., 513.09    ,   0.      ,\n",
       "        308.490001],\n",
       "       [182.840001, 151.790001, 165.260001, ..., 278.520001, 308.490001,\n",
       "          0.      ]])"
      ]
     },
     "execution_count": 457,
     "metadata": {},
     "output_type": "execute_result"
    }
   ],
   "source": [
    "OD_matrix"
   ]
  },
  {
   "cell_type": "code",
   "execution_count": 458,
   "metadata": {},
   "outputs": [],
   "source": [
    "OD_df = pd.DataFrame(OD_matrix, columns = nodes_list, index = nodes_list)"
   ]
  },
  {
   "cell_type": "code",
   "execution_count": 459,
   "metadata": {},
   "outputs": [
    {
     "data": {
      "text/html": [
       "<div>\n",
       "<style scoped>\n",
       "    .dataframe tbody tr th:only-of-type {\n",
       "        vertical-align: middle;\n",
       "    }\n",
       "\n",
       "    .dataframe tbody tr th {\n",
       "        vertical-align: top;\n",
       "    }\n",
       "\n",
       "    .dataframe thead th {\n",
       "        text-align: right;\n",
       "    }\n",
       "</style>\n",
       "<table border=\"1\" class=\"dataframe\">\n",
       "  <thead>\n",
       "    <tr style=\"text-align: right;\">\n",
       "      <th></th>\n",
       "      <th>38</th>\n",
       "      <th>69</th>\n",
       "      <th>70</th>\n",
       "      <th>36</th>\n",
       "      <th>5</th>\n",
       "      <th>25</th>\n",
       "      <th>35</th>\n",
       "      <th>54</th>\n",
       "      <th>37</th>\n",
       "      <th>65</th>\n",
       "      <th>...</th>\n",
       "      <th>47</th>\n",
       "      <th>41</th>\n",
       "      <th>73</th>\n",
       "      <th>22</th>\n",
       "      <th>49</th>\n",
       "      <th>79</th>\n",
       "      <th>80</th>\n",
       "      <th>81</th>\n",
       "      <th>18b</th>\n",
       "      <th>68b</th>\n",
       "    </tr>\n",
       "  </thead>\n",
       "  <tbody>\n",
       "    <tr>\n",
       "      <td>38</td>\n",
       "      <td>0.000000</td>\n",
       "      <td>42.950000</td>\n",
       "      <td>17.580000</td>\n",
       "      <td>68.595000</td>\n",
       "      <td>106.930000</td>\n",
       "      <td>121.500000</td>\n",
       "      <td>136.960000</td>\n",
       "      <td>140.910000</td>\n",
       "      <td>147.420000</td>\n",
       "      <td>159.620000</td>\n",
       "      <td>...</td>\n",
       "      <td>412.640000</td>\n",
       "      <td>451.480001</td>\n",
       "      <td>398.740001</td>\n",
       "      <td>166.840000</td>\n",
       "      <td>94.940000</td>\n",
       "      <td>332.200000</td>\n",
       "      <td>348.370000</td>\n",
       "      <td>387.440000</td>\n",
       "      <td>335.450000</td>\n",
       "      <td>182.840001</td>\n",
       "    </tr>\n",
       "    <tr>\n",
       "      <td>69</td>\n",
       "      <td>42.950000</td>\n",
       "      <td>0.000000</td>\n",
       "      <td>60.530000</td>\n",
       "      <td>111.545000</td>\n",
       "      <td>125.500000</td>\n",
       "      <td>110.930000</td>\n",
       "      <td>113.810000</td>\n",
       "      <td>109.860000</td>\n",
       "      <td>116.370000</td>\n",
       "      <td>128.570000</td>\n",
       "      <td>...</td>\n",
       "      <td>369.690000</td>\n",
       "      <td>408.530001</td>\n",
       "      <td>355.790001</td>\n",
       "      <td>135.790000</td>\n",
       "      <td>137.890000</td>\n",
       "      <td>301.150000</td>\n",
       "      <td>317.320000</td>\n",
       "      <td>356.390000</td>\n",
       "      <td>292.500000</td>\n",
       "      <td>151.790001</td>\n",
       "    </tr>\n",
       "    <tr>\n",
       "      <td>70</td>\n",
       "      <td>17.580000</td>\n",
       "      <td>60.530000</td>\n",
       "      <td>0.000000</td>\n",
       "      <td>51.015000</td>\n",
       "      <td>89.350000</td>\n",
       "      <td>103.920000</td>\n",
       "      <td>119.380000</td>\n",
       "      <td>123.330000</td>\n",
       "      <td>129.840000</td>\n",
       "      <td>142.040000</td>\n",
       "      <td>...</td>\n",
       "      <td>430.220000</td>\n",
       "      <td>469.060001</td>\n",
       "      <td>416.320001</td>\n",
       "      <td>149.260000</td>\n",
       "      <td>77.360000</td>\n",
       "      <td>314.620000</td>\n",
       "      <td>330.790000</td>\n",
       "      <td>369.860000</td>\n",
       "      <td>353.030000</td>\n",
       "      <td>165.260001</td>\n",
       "    </tr>\n",
       "    <tr>\n",
       "      <td>36</td>\n",
       "      <td>68.595000</td>\n",
       "      <td>111.545000</td>\n",
       "      <td>51.015000</td>\n",
       "      <td>0.000000</td>\n",
       "      <td>38.335000</td>\n",
       "      <td>52.905000</td>\n",
       "      <td>68.365000</td>\n",
       "      <td>72.315000</td>\n",
       "      <td>78.825000</td>\n",
       "      <td>91.025000</td>\n",
       "      <td>...</td>\n",
       "      <td>395.215001</td>\n",
       "      <td>436.565001</td>\n",
       "      <td>383.825001</td>\n",
       "      <td>98.245000</td>\n",
       "      <td>26.345000</td>\n",
       "      <td>263.605000</td>\n",
       "      <td>279.775000</td>\n",
       "      <td>318.845000</td>\n",
       "      <td>320.535000</td>\n",
       "      <td>114.245001</td>\n",
       "    </tr>\n",
       "    <tr>\n",
       "      <td>5</td>\n",
       "      <td>106.930000</td>\n",
       "      <td>125.500000</td>\n",
       "      <td>89.350000</td>\n",
       "      <td>38.335000</td>\n",
       "      <td>0.000000</td>\n",
       "      <td>14.570000</td>\n",
       "      <td>30.030000</td>\n",
       "      <td>33.980000</td>\n",
       "      <td>40.490000</td>\n",
       "      <td>52.690000</td>\n",
       "      <td>...</td>\n",
       "      <td>356.880001</td>\n",
       "      <td>398.230001</td>\n",
       "      <td>345.490001</td>\n",
       "      <td>59.910000</td>\n",
       "      <td>64.680000</td>\n",
       "      <td>225.270000</td>\n",
       "      <td>241.440000</td>\n",
       "      <td>280.510000</td>\n",
       "      <td>282.200000</td>\n",
       "      <td>75.910001</td>\n",
       "    </tr>\n",
       "    <tr>\n",
       "      <td>...</td>\n",
       "      <td>...</td>\n",
       "      <td>...</td>\n",
       "      <td>...</td>\n",
       "      <td>...</td>\n",
       "      <td>...</td>\n",
       "      <td>...</td>\n",
       "      <td>...</td>\n",
       "      <td>...</td>\n",
       "      <td>...</td>\n",
       "      <td>...</td>\n",
       "      <td>...</td>\n",
       "      <td>...</td>\n",
       "      <td>...</td>\n",
       "      <td>...</td>\n",
       "      <td>...</td>\n",
       "      <td>...</td>\n",
       "      <td>...</td>\n",
       "      <td>...</td>\n",
       "      <td>...</td>\n",
       "      <td>...</td>\n",
       "      <td>...</td>\n",
       "    </tr>\n",
       "    <tr>\n",
       "      <td>79</td>\n",
       "      <td>332.200000</td>\n",
       "      <td>301.150000</td>\n",
       "      <td>314.620000</td>\n",
       "      <td>263.605000</td>\n",
       "      <td>225.270000</td>\n",
       "      <td>210.700000</td>\n",
       "      <td>195.240000</td>\n",
       "      <td>191.290000</td>\n",
       "      <td>184.780000</td>\n",
       "      <td>172.580000</td>\n",
       "      <td>...</td>\n",
       "      <td>483.410000</td>\n",
       "      <td>526.320000</td>\n",
       "      <td>521.140001</td>\n",
       "      <td>204.200000</td>\n",
       "      <td>289.950000</td>\n",
       "      <td>0.000000</td>\n",
       "      <td>16.170000</td>\n",
       "      <td>55.240000</td>\n",
       "      <td>457.850000</td>\n",
       "      <td>223.280001</td>\n",
       "    </tr>\n",
       "    <tr>\n",
       "      <td>80</td>\n",
       "      <td>348.370000</td>\n",
       "      <td>317.320000</td>\n",
       "      <td>330.790000</td>\n",
       "      <td>279.775000</td>\n",
       "      <td>241.440000</td>\n",
       "      <td>226.870000</td>\n",
       "      <td>211.410000</td>\n",
       "      <td>207.460000</td>\n",
       "      <td>200.950000</td>\n",
       "      <td>188.750000</td>\n",
       "      <td>...</td>\n",
       "      <td>499.580000</td>\n",
       "      <td>542.490000</td>\n",
       "      <td>537.310001</td>\n",
       "      <td>220.370000</td>\n",
       "      <td>306.120000</td>\n",
       "      <td>16.170000</td>\n",
       "      <td>0.000000</td>\n",
       "      <td>39.070000</td>\n",
       "      <td>474.020000</td>\n",
       "      <td>239.450001</td>\n",
       "    </tr>\n",
       "    <tr>\n",
       "      <td>81</td>\n",
       "      <td>387.440000</td>\n",
       "      <td>356.390000</td>\n",
       "      <td>369.860000</td>\n",
       "      <td>318.845000</td>\n",
       "      <td>280.510000</td>\n",
       "      <td>265.940000</td>\n",
       "      <td>250.480000</td>\n",
       "      <td>246.530000</td>\n",
       "      <td>240.020000</td>\n",
       "      <td>227.820000</td>\n",
       "      <td>...</td>\n",
       "      <td>538.650000</td>\n",
       "      <td>581.560000</td>\n",
       "      <td>576.380001</td>\n",
       "      <td>259.440000</td>\n",
       "      <td>345.190000</td>\n",
       "      <td>55.240000</td>\n",
       "      <td>39.070000</td>\n",
       "      <td>0.000000</td>\n",
       "      <td>513.090000</td>\n",
       "      <td>278.520001</td>\n",
       "    </tr>\n",
       "    <tr>\n",
       "      <td>18b</td>\n",
       "      <td>335.450000</td>\n",
       "      <td>292.500000</td>\n",
       "      <td>353.030000</td>\n",
       "      <td>320.535000</td>\n",
       "      <td>282.200000</td>\n",
       "      <td>267.630000</td>\n",
       "      <td>270.510000</td>\n",
       "      <td>266.560000</td>\n",
       "      <td>273.070000</td>\n",
       "      <td>285.270000</td>\n",
       "      <td>...</td>\n",
       "      <td>158.940001</td>\n",
       "      <td>116.030001</td>\n",
       "      <td>63.290001</td>\n",
       "      <td>292.490000</td>\n",
       "      <td>346.880000</td>\n",
       "      <td>457.850000</td>\n",
       "      <td>474.020000</td>\n",
       "      <td>513.090000</td>\n",
       "      <td>0.000000</td>\n",
       "      <td>308.490001</td>\n",
       "    </tr>\n",
       "    <tr>\n",
       "      <td>68b</td>\n",
       "      <td>182.840001</td>\n",
       "      <td>151.790001</td>\n",
       "      <td>165.260001</td>\n",
       "      <td>114.245001</td>\n",
       "      <td>75.910001</td>\n",
       "      <td>61.340001</td>\n",
       "      <td>45.880001</td>\n",
       "      <td>41.930001</td>\n",
       "      <td>38.500001</td>\n",
       "      <td>50.700001</td>\n",
       "      <td>...</td>\n",
       "      <td>280.970000</td>\n",
       "      <td>323.880000</td>\n",
       "      <td>358.190000</td>\n",
       "      <td>57.920001</td>\n",
       "      <td>140.590001</td>\n",
       "      <td>223.280001</td>\n",
       "      <td>239.450001</td>\n",
       "      <td>278.520001</td>\n",
       "      <td>308.490001</td>\n",
       "      <td>0.000000</td>\n",
       "    </tr>\n",
       "  </tbody>\n",
       "</table>\n",
       "<p>86 rows × 86 columns</p>\n",
       "</div>"
      ],
      "text/plain": [
       "             38          69          70          36           5          25  \\\n",
       "38     0.000000   42.950000   17.580000   68.595000  106.930000  121.500000   \n",
       "69    42.950000    0.000000   60.530000  111.545000  125.500000  110.930000   \n",
       "70    17.580000   60.530000    0.000000   51.015000   89.350000  103.920000   \n",
       "36    68.595000  111.545000   51.015000    0.000000   38.335000   52.905000   \n",
       "5    106.930000  125.500000   89.350000   38.335000    0.000000   14.570000   \n",
       "..          ...         ...         ...         ...         ...         ...   \n",
       "79   332.200000  301.150000  314.620000  263.605000  225.270000  210.700000   \n",
       "80   348.370000  317.320000  330.790000  279.775000  241.440000  226.870000   \n",
       "81   387.440000  356.390000  369.860000  318.845000  280.510000  265.940000   \n",
       "18b  335.450000  292.500000  353.030000  320.535000  282.200000  267.630000   \n",
       "68b  182.840001  151.790001  165.260001  114.245001   75.910001   61.340001   \n",
       "\n",
       "             35          54          37          65  ...          47  \\\n",
       "38   136.960000  140.910000  147.420000  159.620000  ...  412.640000   \n",
       "69   113.810000  109.860000  116.370000  128.570000  ...  369.690000   \n",
       "70   119.380000  123.330000  129.840000  142.040000  ...  430.220000   \n",
       "36    68.365000   72.315000   78.825000   91.025000  ...  395.215001   \n",
       "5     30.030000   33.980000   40.490000   52.690000  ...  356.880001   \n",
       "..          ...         ...         ...         ...  ...         ...   \n",
       "79   195.240000  191.290000  184.780000  172.580000  ...  483.410000   \n",
       "80   211.410000  207.460000  200.950000  188.750000  ...  499.580000   \n",
       "81   250.480000  246.530000  240.020000  227.820000  ...  538.650000   \n",
       "18b  270.510000  266.560000  273.070000  285.270000  ...  158.940001   \n",
       "68b   45.880001   41.930001   38.500001   50.700001  ...  280.970000   \n",
       "\n",
       "             41          73          22          49          79          80  \\\n",
       "38   451.480001  398.740001  166.840000   94.940000  332.200000  348.370000   \n",
       "69   408.530001  355.790001  135.790000  137.890000  301.150000  317.320000   \n",
       "70   469.060001  416.320001  149.260000   77.360000  314.620000  330.790000   \n",
       "36   436.565001  383.825001   98.245000   26.345000  263.605000  279.775000   \n",
       "5    398.230001  345.490001   59.910000   64.680000  225.270000  241.440000   \n",
       "..          ...         ...         ...         ...         ...         ...   \n",
       "79   526.320000  521.140001  204.200000  289.950000    0.000000   16.170000   \n",
       "80   542.490000  537.310001  220.370000  306.120000   16.170000    0.000000   \n",
       "81   581.560000  576.380001  259.440000  345.190000   55.240000   39.070000   \n",
       "18b  116.030001   63.290001  292.490000  346.880000  457.850000  474.020000   \n",
       "68b  323.880000  358.190000   57.920001  140.590001  223.280001  239.450001   \n",
       "\n",
       "             81         18b         68b  \n",
       "38   387.440000  335.450000  182.840001  \n",
       "69   356.390000  292.500000  151.790001  \n",
       "70   369.860000  353.030000  165.260001  \n",
       "36   318.845000  320.535000  114.245001  \n",
       "5    280.510000  282.200000   75.910001  \n",
       "..          ...         ...         ...  \n",
       "79    55.240000  457.850000  223.280001  \n",
       "80    39.070000  474.020000  239.450001  \n",
       "81     0.000000  513.090000  278.520001  \n",
       "18b  513.090000    0.000000  308.490001  \n",
       "68b  278.520001  308.490001    0.000000  \n",
       "\n",
       "[86 rows x 86 columns]"
      ]
     },
     "execution_count": 459,
     "metadata": {},
     "output_type": "execute_result"
    }
   ],
   "source": [
    "OD_df"
   ]
  },
  {
   "cell_type": "markdown",
   "metadata": {},
   "source": [
    "### Phase 3: Add additional access costs to each route"
   ]
  },
  {
   "cell_type": "code",
   "execution_count": 460,
   "metadata": {},
   "outputs": [],
   "source": [
    "# access costs are 0.17117 USD per ton\n",
    "OD_df_w_extra_costs = OD_df + 0.17117"
   ]
  },
  {
   "cell_type": "code",
   "execution_count": 461,
   "metadata": {},
   "outputs": [],
   "source": [
    "OD_df_w_extra_costs.to_csv(\"asia_railways_output_OD_matrix{}.csv\".format(scenario_var))"
   ]
  },
  {
   "cell_type": "markdown",
   "metadata": {},
   "source": [
    "### Phase 4: print out intermediate links for each route"
   ]
  },
  {
   "cell_type": "code",
   "execution_count": 462,
   "metadata": {},
   "outputs": [],
   "source": [
    "# OD_df_w_extra_costs.index"
   ]
  },
  {
   "cell_type": "code",
   "execution_count": 463,
   "metadata": {},
   "outputs": [],
   "source": [
    "# looks up city names from node id\n",
    "def look_up(x):\n",
    "    # need to be able to do a lookup in cases of an extra added node such as '68b'\n",
    "    if type(x) == str:\n",
    "        print('type is str')\n",
    "        print(x[:-1])\n",
    "        x = int(x[:-1])\n",
    "        return input_nodes.loc[input_nodes['node_id']==x]['name'].iloc[0]\n",
    "    else:\n",
    "        return input_nodes.loc[input_nodes['node_id']==x]['name'].iloc[0]"
   ]
  },
  {
   "cell_type": "code",
   "execution_count": 464,
   "metadata": {},
   "outputs": [],
   "source": [
    "# test\n",
    "# look_up('68b')"
   ]
  },
  {
   "cell_type": "code",
   "execution_count": 465,
   "metadata": {},
   "outputs": [
    {
     "name": "stdout",
     "output_type": "stream",
     "text": [
      "38 38\n",
      "['Kashgar,']\n",
      "38 69\n",
      "['Kashgar,', 'Turpan,']\n",
      "38 70\n",
      "['Kashgar,', 'Turugart,']\n",
      "38 36\n",
      "['Kashgar,', 'Turugart,', 'Kara Suu,']\n",
      "38 5\n",
      "['Kashgar,', 'Turugart,', 'Kara Suu,', 'Andijan,']\n",
      "38 25\n",
      "['Kashgar,', 'Turugart,', 'Kara Suu,', 'Andijan,', 'Fargona_or_Feghana,']\n",
      "38 35\n",
      "['Kashgar,', 'Turugart,', 'Kara Suu,', 'Andijan,', 'Fargona_or_Feghana,', 'Jizzaz,']\n",
      "38 54\n",
      "['Kashgar,', 'Turugart,', 'Kara Suu,', 'Andijan,', 'Fargona_or_Feghana,', 'Jizzaz,', 'Samarkand,']\n",
      "38 37\n",
      "['Kashgar,', 'Turugart,', 'Kara Suu,', 'Andijan,', 'Fargona_or_Feghana,', 'Jizzaz,', 'Samarkand,', 'Karshi,']\n",
      "38 65\n",
      "['Kashgar,', 'Turugart,', 'Kara Suu,', 'Andijan,', 'Fargona_or_Feghana,', 'Jizzaz,', 'Samarkand,', 'Karshi,', 'Termiz,']\n",
      "38 31\n",
      "['Kashgar,', 'Turugart,', 'Kara Suu,', 'Andijan,', 'Fargona_or_Feghana,', 'Jizzaz,', 'Samarkand,', 'Karshi,', 'Termiz,', 'Hairatan,']\n",
      "38 39\n",
      "['Kashgar,', 'Turugart,', 'Kara Suu,', 'Andijan,', 'Fargona_or_Feghana,', 'Jizzaz,', 'Samarkand,', 'Khojadavlet/Farab,']\n",
      "38 68\n",
      "['Kashgar,', 'Turugart,', 'Kara Suu,', 'Andijan,', 'Fargona_or_Feghana,', 'Jizzaz,', 'Samarkand,', 'Khojadavlet/Farab,', 'Turkmenabad,']\n",
      "38 43\n",
      "type is str\n",
      "68\n",
      "['Kashgar,', 'Turugart,', 'Kara Suu,', 'Andijan,', 'Fargona_or_Feghana,', 'Jizzaz,', 'Samarkand,', 'Khojadavlet/Farab,', 'Turkmenabad,', 'Turkmenabad,', 'Mary,']\n",
      "38 58\n",
      "type is str\n",
      "68\n",
      "['Kashgar,', 'Turugart,', 'Kara Suu,', 'Andijan,', 'Fargona_or_Feghana,', 'Jizzaz,', 'Samarkand,', 'Khojadavlet/Farab,', 'Turkmenabad,', 'Turkmenabad,', 'Mary,', 'Satay Junct,']\n",
      "38 55\n",
      "type is str\n",
      "68\n",
      "['Kashgar,', 'Turugart,', 'Kara Suu,', 'Andijan,', 'Fargona_or_Feghana,', 'Jizzaz,', 'Samarkand,', 'Khojadavlet/Farab,', 'Turkmenabad,', 'Turkmenabad,', 'Mary,', 'Satay Junct,', 'Saraks,']\n",
      "38 45\n",
      "type is str\n",
      "68\n",
      "['Kashgar,', 'Turugart,', 'Kara Suu,', 'Andijan,', 'Fargona_or_Feghana,', 'Jizzaz,', 'Samarkand,', 'Khojadavlet/Farab,', 'Turkmenabad,', 'Turkmenabad,', 'Mary,', 'Satay Junct,', 'Saraks,', 'Mashad,']\n",
      "38 66\n",
      "type is str\n",
      "68\n",
      "['Kashgar,', 'Turugart,', 'Kara Suu,', 'Andijan,', 'Fargona_or_Feghana,', 'Jizzaz,', 'Samarkand,', 'Khojadavlet/Farab,', 'Turkmenabad,', 'Turkmenabad,', 'Mary,', 'Satay Junct,', 'Saraks,', 'Mashad,', 'Torbat,']\n",
      "38 12\n",
      "type is str\n",
      "68\n",
      "['Kashgar,', 'Turugart,', 'Kara Suu,', 'Andijan,', 'Fargona_or_Feghana,', 'Jizzaz,', 'Samarkand,', 'Khojadavlet/Farab,', 'Turkmenabad,', 'Turkmenabad,', 'Mary,', 'Satay Junct,', 'Saraks,', 'Mashad,', 'Torbat,', 'Barq,']\n",
      "38 76\n",
      "type is str\n",
      "68\n",
      "['Kashgar,', 'Turugart,', 'Kara Suu,', 'Andijan,', 'Fargona_or_Feghana,', 'Jizzaz,', 'Samarkand,', 'Khojadavlet/Farab,', 'Turkmenabad,', 'Turkmenabad,', 'Mary,', 'Satay Junct,', 'Saraks,', 'Mashad,', 'Torbat,', 'Barq,', 'Zahedin,']\n",
      "38 20\n",
      "type is str\n",
      "68\n",
      "['Kashgar,', 'Turugart,', 'Kara Suu,', 'Andijan,', 'Fargona_or_Feghana,', 'Jizzaz,', 'Samarkand,', 'Khojadavlet/Farab,', 'Turkmenabad,', 'Turkmenabad,', 'Mary,', 'Satay Junct,', 'Saraks,', 'Mashad,', 'Torbat,', 'Barq,', 'Zahedin,', 'Chababar,']\n",
      "38 42\n",
      "['Kashgar,', 'Turugart,', 'Kara Suu,', 'Andijan,', 'Fargona_or_Feghana,', 'Jizzaz,', 'Samarkand,', 'Karshi,', 'Termiz,', 'Hairatan,', 'Mar e Sharif,']\n",
      "38 59\n",
      "['Kashgar,', 'Turugart,', 'Kara Suu,', 'Andijan,', 'Fargona_or_Feghana,', 'Jizzaz,', 'Samarkand,', 'Karshi,', 'Termiz,', 'Hairatan,', 'Mar e Sharif,', 'Sheberghan,']\n",
      "38 33\n",
      "['Kashgar,', 'Turugart,', 'Kara Suu,', 'Andijan,', 'Fargona_or_Feghana,', 'Jizzaz,', 'Samarkand,', 'Karshi,', 'Termiz,', 'Hairatan,', 'Mar e Sharif,', 'Sheberghan,', 'Herat,']\n",
      "38 83\n",
      "['Kashgar,', 'Turugart,', 'Kara Suu,', 'Andijan,', 'Fargona_or_Feghana,', 'Jizzaz,', 'Samarkand,', 'Karshi,', 'Termiz,', 'Hairatan,', 'Mar e Sharif,', 'Sheberghan,', 'Herat,', 'Shamtiq,']\n",
      "38 40\n",
      "['Kashgar,', 'Turpan,', 'Khorgos,']\n",
      "38 4\n",
      "['Kashgar,', 'Turpan,', 'Khorgos,', 'Almaty,']\n",
      "38 17\n",
      "['Kashgar,', 'Turpan,', 'Khorgos,', 'Almaty,', 'Birlik,']\n",
      "38 7\n",
      "['Kashgar,', 'Turpan,', 'Khorgos,', 'Almaty,', 'Birlik,', 'Arys,']\n",
      "38 53\n",
      "['Kashgar,', 'Turpan,', 'Khorgos,', 'Almaty,', 'Birlik,', 'Arys,', 'Saksaulskaya,']\n",
      "38 16\n",
      "['Kashgar,', 'Turpan,', 'Khorgos,', 'Almaty,', 'Birlik,', 'Arys,', 'Saksaulskaya,', 'Beynau,']\n",
      "38 1\n",
      "['Kashgar,', 'Turpan,', 'Khorgos,', 'Almaty,', 'Birlik,', 'Arys,', 'Saksaulskaya,', 'Beynau,', 'Aktau,']\n",
      "38 71\n",
      "['Kashgar,', 'Turpan,', 'Khorgos,', 'Almaty,', 'Birlik,', 'Arys,', 'Saksaulskaya,', 'Beynau,', 'Aktau,', 'Uren,']\n",
      "38 86\n",
      "['Kashgar,', 'Turpan,', 'Khorgos,', 'Almaty,', 'Birlik,', 'Arys,', 'Saksaulskaya,', 'Beynau,', 'Aktau,', 'Uren,', 'No Name,']\n",
      "38 30\n",
      "['Kashgar,', 'Turpan,', 'Khorgos,', 'Almaty,', 'Birlik,', 'Arys,', 'Saksaulskaya,', 'Beynau,', 'Aktau,', 'Uren,', 'No Name,', 'Gyzylgaya,']\n",
      "38 14\n",
      "['Kashgar,', 'Turpan,', 'Khorgos,', 'Almaty,', 'Birlik,', 'Arys,', 'Saksaulskaya,', 'Beynau,', 'Aktau,', 'Uren,', 'No Name,', 'Gyzylgaya,', 'Bereklet,']\n",
      "38 9\n",
      "['Kashgar,', 'Turpan,', 'Khorgos,', 'Almaty,', 'Birlik,', 'Arys,', 'Saksaulskaya,', 'Beynau,', 'Aktau,', 'Uren,', 'No Name,', 'Gyzylgaya,', 'Bereklet,', 'Atrek,']\n",
      "38 85\n",
      "['Kashgar,', 'Turpan,', 'Khorgos,', 'Almaty,', 'Birlik,', 'Arys,', 'Saksaulskaya,', 'Beynau,', 'Aktau,', 'Uren,', 'No Name,', 'Gyzylgaya,', 'Bereklet,', 'Atrek,', 'Gomishan,']\n",
      "38 28\n",
      "['Kashgar,', 'Turpan,', 'Khorgos,', 'Almaty,', 'Birlik,', 'Arys,', 'Saksaulskaya,', 'Beynau,', 'Aktau,', 'Uren,', 'No Name,', 'Gyzylgaya,', 'Bereklet,', 'Atrek,', 'Gomishan,', 'Gorgan,']\n",
      "38 57\n",
      "type is str\n",
      "68\n",
      "['Kashgar,', 'Turugart,', 'Kara Suu,', 'Andijan,', 'Fargona_or_Feghana,', 'Jizzaz,', 'Samarkand,', 'Khojadavlet/Farab,', 'Turkmenabad,', 'Turkmenabad,', 'Mary,', 'Satay Junct,', 'Saraks,', 'Mashad,', 'Garmsar,', 'Sari,']\n",
      "38 26\n",
      "type is str\n",
      "68\n",
      "['Kashgar,', 'Turugart,', 'Kara Suu,', 'Andijan,', 'Fargona_or_Feghana,', 'Jizzaz,', 'Samarkand,', 'Khojadavlet/Farab,', 'Turkmenabad,', 'Turkmenabad,', 'Mary,', 'Satay Junct,', 'Saraks,', 'Mashad,', 'Garmsar,']\n",
      "38 10\n",
      "['Kashgar,', 'Turpan,', 'Khorgos,', 'Almaty,', 'Birlik,', 'Arys,', 'Saksaulskaya,', 'Beynau,', 'Aktau,', 'Baku,']\n",
      "38 62\n",
      "['Kashgar,', 'Turpan,', 'Khorgos,', 'Almaty,', 'Birlik,', 'Arys,', 'Saksaulskaya,', 'Beynau,', 'Aktau,', 'Baku,', 'Tbilisi,']\n",
      "38 84\n",
      "['Kashgar,', 'Turpan,', 'Khorgos,', 'Almaty,', 'Birlik,', 'Arys,', 'Saksaulskaya,', 'Beynau,', 'Aktau,', 'Baku,', 'Tbilisi,', 'Rustawi,']\n",
      "38 82\n",
      "['Kashgar,', 'Turpan,', 'Khorgos,', 'Almaty,', 'Birlik,', 'Arys,', 'Saksaulskaya,', 'Beynau,', 'Aktau,', 'Baku,', 'Tbilisi,', 'Kars,']\n",
      "38 34\n",
      "['Kashgar,', 'Turpan,', 'Khorgos,', 'Almaty,', 'Birlik,', 'Arys,', 'Saksaulskaya,', 'Beynau,', 'Aktau,', 'Baku,', 'Tbilisi,', 'Kars,', 'istanbul or Edime,']\n",
      "38 32\n",
      "['Kashgar,', 'Turpan,', 'Khorgos,', 'Almaty,', 'Birlik,', 'Arys,', 'Saksaulskaya,', 'Beynau,', 'Aktau,', 'Baku,', 'Tbilisi,', 'Kars,', 'istanbul or Edime,', 'Hamburg,']\n",
      "38 18\n",
      "['Kashgar,', 'Turpan,', 'Khorgos,', 'Almaty,', 'Birlik,', 'Arys,', 'Saksaulskaya,', 'Beynau,', 'Aktau,', 'Baku,', 'Tbilisi,', 'Kars,', 'istanbul or Edime,', 'Vienna,', 'Brest,']\n",
      "38 27\n",
      "['Kashgar,', 'Turpan,', 'Khorgos,', 'Almaty,', 'Birlik,', 'Arys,', 'Saksaulskaya,', 'Aktobe,', 'Yaysan,', 'Orenburg,', 'Saratov,', 'Gryazi Lipetsk,', 'Voronezh,', 'Gomel,']\n",
      "38 74\n",
      "['Kashgar,', 'Turpan,', 'Khorgos,', 'Almaty,', 'Birlik,', 'Arys,', 'Saksaulskaya,', 'Aktobe,', 'Yaysan,', 'Orenburg,', 'Saratov,', 'Gryazi Lipetsk,', 'Voronezh,']\n",
      "38 29\n",
      "['Kashgar,', 'Turpan,', 'Khorgos,', 'Almaty,', 'Birlik,', 'Arys,', 'Saksaulskaya,', 'Aktobe,', 'Yaysan,', 'Orenburg,', 'Saratov,', 'Gryazi Lipetsk,']\n",
      "38 56\n",
      "['Kashgar,', 'Turpan,', 'Khorgos,', 'Almaty,', 'Birlik,', 'Arys,', 'Saksaulskaya,', 'Aktobe,', 'Yaysan,', 'Orenburg,', 'Saratov,']\n",
      "38 48\n",
      "['Kashgar,', 'Turpan,', 'Khorgos,', 'Almaty,', 'Birlik,', 'Arys,', 'Saksaulskaya,', 'Aktobe,', 'Yaysan,', 'Orenburg,']\n",
      "38 87\n",
      "['Kashgar,', 'Turpan,', 'Khorgos,', 'Almaty,', 'Birlik,', 'Arys,', 'Saksaulskaya,', 'Aktobe,', 'Yaysan,']\n",
      "38 2\n",
      "['Kashgar,', 'Turpan,', 'Khorgos,', 'Almaty,', 'Birlik,', 'Arys,', 'Saksaulskaya,', 'Aktobe,']\n",
      "38 75\n",
      "['Kashgar,', 'Turpan,', 'Khorgos,', 'Almaty,', 'Birlik,', 'Arys,', 'Saksaulskaya,', 'Beynau,', 'Aktau,', 'Baku,', 'Tbilisi,', 'Kars,', 'istanbul or Edime,', 'Vienna,', 'Brest,', 'Warsaw,']\n",
      "38 88\n",
      "['Kashgar,', 'Turpan,', 'Khorgos,', 'Almaty,', 'Birlik,', 'Arys,', 'Saksaulskaya,', 'Beynau,', 'Aktau,', 'Baku,', 'Tbilisi,', 'Kars,', 'istanbul or Edime,', 'Hamburg,', 'Berlin,', 'Kunowice,']\n",
      "38 15\n",
      "['Kashgar,', 'Turpan,', 'Khorgos,', 'Almaty,', 'Birlik,', 'Arys,', 'Saksaulskaya,', 'Beynau,', 'Aktau,', 'Baku,', 'Tbilisi,', 'Kars,', 'istanbul or Edime,', 'Hamburg,', 'Berlin,']\n",
      "38 21\n",
      "['Kashgar,', 'Turpan,', 'Dostyk,']\n",
      "38 3\n",
      "['Kashgar,', 'Turpan,', 'Dostyk,', 'Aktogal,']\n",
      "38 11\n",
      "['Kashgar,', 'Turpan,', 'Dostyk,', 'Aktogal,', 'Balkash,']\n",
      "38 46\n",
      "['Kashgar,', 'Turpan,', 'Dostyk,', 'Aktogal,', 'Balkash,', 'Mointy,']\n",
      "38 77\n",
      "['Kashgar,', 'Turpan,', 'Dostyk,', 'Aktogal,', 'Balkash,', 'Mointy,', 'Zharyk,']\n",
      "38 78\n",
      "['Kashgar,', 'Turpan,', 'Khorgos,', 'Almaty,', 'Birlik,', 'Arys,', 'Saksaulskaya,', 'Zhezkagan,']\n",
      "38 52\n",
      "['Kashgar,', 'Turpan,', 'Khorgos,', 'Almaty,', 'Birlik,', 'Arys,', 'Saksaulskaya,', 'Beynau,', 'Aktau,', 'Baku,', 'Tbilisi,', 'Kars,', 'istanbul or Edime,', 'Tatvan,', 'Van,', 'Razi/Kapikoy,']\n",
      "38 72\n"
     ]
    },
    {
     "name": "stdout",
     "output_type": "stream",
     "text": [
      "['Kashgar,', 'Turpan,', 'Khorgos,', 'Almaty,', 'Birlik,', 'Arys,', 'Saksaulskaya,', 'Beynau,', 'Aktau,', 'Baku,', 'Tbilisi,', 'Kars,', 'istanbul or Edime,', 'Tatvan,', 'Van,']\n",
      "38 61\n",
      "['Kashgar,', 'Turpan,', 'Khorgos,', 'Almaty,', 'Birlik,', 'Arys,', 'Saksaulskaya,', 'Beynau,', 'Aktau,', 'Baku,', 'Tbilisi,', 'Kars,', 'istanbul or Edime,', 'Tatvan,']\n",
      "38 8\n",
      "['Kashgar,', 'Turpan,', 'Khorgos,', 'Almaty,', 'Birlik,', 'Arys,', 'Saksaulskaya,', 'Beynau,', 'Aktau,', 'Baku,', 'Turkenbashi,', 'Ashgabat,']\n",
      "38 67\n",
      "['Kashgar,', 'Turpan,', 'Khorgos,', 'Almaty,', 'Birlik,', 'Arys,', 'Saksaulskaya,', 'Beynau,', 'Aktau,', 'Baku,', 'Turkenbashi,']\n",
      "38 60\n",
      "['Kashgar,', 'Turpan,', 'Khorgos,', 'Almaty,', 'Birlik,', 'Arys,', 'Tashkent,']\n",
      "38 19\n",
      "['Kashgar,', 'Turugart,', 'Kara Suu,', 'Andijan,', 'Fargona_or_Feghana,', 'Jizzaz,', 'Samarkand,', 'Bukhara,']\n",
      "38 44\n"
     ]
    },
    {
     "ename": "IndexError",
     "evalue": "single positional indexer is out-of-bounds",
     "output_type": "error",
     "traceback": [
      "\u001b[0;31m---------------------------------------------------------------------------\u001b[0m",
      "\u001b[0;31mIndexError\u001b[0m                                Traceback (most recent call last)",
      "\u001b[0;32m<ipython-input-465-4198e15c0764>\u001b[0m in \u001b[0;36m<module>\u001b[0;34m\u001b[0m\n\u001b[1;32m     11\u001b[0m             \u001b[0mshortest_path_list_w_names\u001b[0m \u001b[0;34m=\u001b[0m \u001b[0;34m[\u001b[0m\u001b[0;34m]\u001b[0m\u001b[0;34m\u001b[0m\u001b[0;34m\u001b[0m\u001b[0m\n\u001b[1;32m     12\u001b[0m             \u001b[0;32mfor\u001b[0m \u001b[0mx\u001b[0m \u001b[0;32min\u001b[0m \u001b[0mnx\u001b[0m\u001b[0;34m.\u001b[0m\u001b[0mbidirectional_shortest_path\u001b[0m\u001b[0;34m(\u001b[0m\u001b[0mG\u001b[0m\u001b[0;34m,\u001b[0m \u001b[0mrow\u001b[0m\u001b[0;34m,\u001b[0m \u001b[0mcol\u001b[0m\u001b[0;34m)\u001b[0m\u001b[0;34m:\u001b[0m\u001b[0;34m\u001b[0m\u001b[0;34m\u001b[0m\u001b[0m\n\u001b[0;32m---> 13\u001b[0;31m                 \u001b[0mshortest_path_list_w_names\u001b[0m\u001b[0;34m.\u001b[0m\u001b[0mappend\u001b[0m\u001b[0;34m(\u001b[0m\u001b[0mlook_up\u001b[0m\u001b[0;34m(\u001b[0m\u001b[0mx\u001b[0m\u001b[0;34m)\u001b[0m\u001b[0;34m+\u001b[0m\u001b[0;34m','\u001b[0m\u001b[0;34m)\u001b[0m\u001b[0;34m\u001b[0m\u001b[0;34m\u001b[0m\u001b[0m\n\u001b[0m\u001b[1;32m     14\u001b[0m             \u001b[0mprint\u001b[0m\u001b[0;34m(\u001b[0m\u001b[0mstr\u001b[0m\u001b[0;34m(\u001b[0m\u001b[0mshortest_path_list_w_names\u001b[0m\u001b[0;34m)\u001b[0m\u001b[0;34m)\u001b[0m\u001b[0;34m\u001b[0m\u001b[0;34m\u001b[0m\u001b[0m\n\u001b[1;32m     15\u001b[0m             \u001b[0mthe_file\u001b[0m\u001b[0;34m.\u001b[0m\u001b[0mwritelines\u001b[0m\u001b[0;34m(\u001b[0m\u001b[0mshortest_path_list_w_names\u001b[0m\u001b[0;34m)\u001b[0m\u001b[0;34m\u001b[0m\u001b[0;34m\u001b[0m\u001b[0m\n",
      "\u001b[0;32m<ipython-input-463-d29e9721601a>\u001b[0m in \u001b[0;36mlook_up\u001b[0;34m(x)\u001b[0m\n\u001b[1;32m      8\u001b[0m         \u001b[0;32mreturn\u001b[0m \u001b[0minput_nodes\u001b[0m\u001b[0;34m.\u001b[0m\u001b[0mloc\u001b[0m\u001b[0;34m[\u001b[0m\u001b[0minput_nodes\u001b[0m\u001b[0;34m[\u001b[0m\u001b[0;34m'node_id'\u001b[0m\u001b[0;34m]\u001b[0m\u001b[0;34m==\u001b[0m\u001b[0mx\u001b[0m\u001b[0;34m]\u001b[0m\u001b[0;34m[\u001b[0m\u001b[0;34m'name'\u001b[0m\u001b[0;34m]\u001b[0m\u001b[0;34m.\u001b[0m\u001b[0miloc\u001b[0m\u001b[0;34m[\u001b[0m\u001b[0;36m0\u001b[0m\u001b[0;34m]\u001b[0m\u001b[0;34m\u001b[0m\u001b[0;34m\u001b[0m\u001b[0m\n\u001b[1;32m      9\u001b[0m     \u001b[0;32melse\u001b[0m\u001b[0;34m:\u001b[0m\u001b[0;34m\u001b[0m\u001b[0;34m\u001b[0m\u001b[0m\n\u001b[0;32m---> 10\u001b[0;31m         \u001b[0;32mreturn\u001b[0m \u001b[0minput_nodes\u001b[0m\u001b[0;34m.\u001b[0m\u001b[0mloc\u001b[0m\u001b[0;34m[\u001b[0m\u001b[0minput_nodes\u001b[0m\u001b[0;34m[\u001b[0m\u001b[0;34m'node_id'\u001b[0m\u001b[0;34m]\u001b[0m\u001b[0;34m==\u001b[0m\u001b[0mx\u001b[0m\u001b[0;34m]\u001b[0m\u001b[0;34m[\u001b[0m\u001b[0;34m'name'\u001b[0m\u001b[0;34m]\u001b[0m\u001b[0;34m.\u001b[0m\u001b[0miloc\u001b[0m\u001b[0;34m[\u001b[0m\u001b[0;36m0\u001b[0m\u001b[0;34m]\u001b[0m\u001b[0;34m\u001b[0m\u001b[0;34m\u001b[0m\u001b[0m\n\u001b[0m",
      "\u001b[0;32m~/.conda/envs/GOST_PublicGoods5/lib/python3.7/site-packages/pandas/core/indexing.py\u001b[0m in \u001b[0;36m__getitem__\u001b[0;34m(self, key)\u001b[0m\n\u001b[1;32m   1422\u001b[0m \u001b[0;34m\u001b[0m\u001b[0m\n\u001b[1;32m   1423\u001b[0m             \u001b[0mmaybe_callable\u001b[0m \u001b[0;34m=\u001b[0m \u001b[0mcom\u001b[0m\u001b[0;34m.\u001b[0m\u001b[0mapply_if_callable\u001b[0m\u001b[0;34m(\u001b[0m\u001b[0mkey\u001b[0m\u001b[0;34m,\u001b[0m \u001b[0mself\u001b[0m\u001b[0;34m.\u001b[0m\u001b[0mobj\u001b[0m\u001b[0;34m)\u001b[0m\u001b[0;34m\u001b[0m\u001b[0;34m\u001b[0m\u001b[0m\n\u001b[0;32m-> 1424\u001b[0;31m             \u001b[0;32mreturn\u001b[0m \u001b[0mself\u001b[0m\u001b[0;34m.\u001b[0m\u001b[0m_getitem_axis\u001b[0m\u001b[0;34m(\u001b[0m\u001b[0mmaybe_callable\u001b[0m\u001b[0;34m,\u001b[0m \u001b[0maxis\u001b[0m\u001b[0;34m=\u001b[0m\u001b[0maxis\u001b[0m\u001b[0;34m)\u001b[0m\u001b[0;34m\u001b[0m\u001b[0;34m\u001b[0m\u001b[0m\n\u001b[0m\u001b[1;32m   1425\u001b[0m \u001b[0;34m\u001b[0m\u001b[0m\n\u001b[1;32m   1426\u001b[0m     \u001b[0;32mdef\u001b[0m \u001b[0m_is_scalar_access\u001b[0m\u001b[0;34m(\u001b[0m\u001b[0mself\u001b[0m\u001b[0;34m,\u001b[0m \u001b[0mkey\u001b[0m\u001b[0;34m:\u001b[0m \u001b[0mTuple\u001b[0m\u001b[0;34m)\u001b[0m\u001b[0;34m:\u001b[0m\u001b[0;34m\u001b[0m\u001b[0;34m\u001b[0m\u001b[0m\n",
      "\u001b[0;32m~/.conda/envs/GOST_PublicGoods5/lib/python3.7/site-packages/pandas/core/indexing.py\u001b[0m in \u001b[0;36m_getitem_axis\u001b[0;34m(self, key, axis)\u001b[0m\n\u001b[1;32m   2155\u001b[0m \u001b[0;34m\u001b[0m\u001b[0m\n\u001b[1;32m   2156\u001b[0m             \u001b[0;31m# validate the location\u001b[0m\u001b[0;34m\u001b[0m\u001b[0;34m\u001b[0m\u001b[0;34m\u001b[0m\u001b[0m\n\u001b[0;32m-> 2157\u001b[0;31m             \u001b[0mself\u001b[0m\u001b[0;34m.\u001b[0m\u001b[0m_validate_integer\u001b[0m\u001b[0;34m(\u001b[0m\u001b[0mkey\u001b[0m\u001b[0;34m,\u001b[0m \u001b[0maxis\u001b[0m\u001b[0;34m)\u001b[0m\u001b[0;34m\u001b[0m\u001b[0;34m\u001b[0m\u001b[0m\n\u001b[0m\u001b[1;32m   2158\u001b[0m \u001b[0;34m\u001b[0m\u001b[0m\n\u001b[1;32m   2159\u001b[0m             \u001b[0;32mreturn\u001b[0m \u001b[0mself\u001b[0m\u001b[0;34m.\u001b[0m\u001b[0m_get_loc\u001b[0m\u001b[0;34m(\u001b[0m\u001b[0mkey\u001b[0m\u001b[0;34m,\u001b[0m \u001b[0maxis\u001b[0m\u001b[0;34m=\u001b[0m\u001b[0maxis\u001b[0m\u001b[0;34m)\u001b[0m\u001b[0;34m\u001b[0m\u001b[0;34m\u001b[0m\u001b[0m\n",
      "\u001b[0;32m~/.conda/envs/GOST_PublicGoods5/lib/python3.7/site-packages/pandas/core/indexing.py\u001b[0m in \u001b[0;36m_validate_integer\u001b[0;34m(self, key, axis)\u001b[0m\n\u001b[1;32m   2086\u001b[0m         \u001b[0mlen_axis\u001b[0m \u001b[0;34m=\u001b[0m \u001b[0mlen\u001b[0m\u001b[0;34m(\u001b[0m\u001b[0mself\u001b[0m\u001b[0;34m.\u001b[0m\u001b[0mobj\u001b[0m\u001b[0;34m.\u001b[0m\u001b[0m_get_axis\u001b[0m\u001b[0;34m(\u001b[0m\u001b[0maxis\u001b[0m\u001b[0;34m)\u001b[0m\u001b[0;34m)\u001b[0m\u001b[0;34m\u001b[0m\u001b[0;34m\u001b[0m\u001b[0m\n\u001b[1;32m   2087\u001b[0m         \u001b[0;32mif\u001b[0m \u001b[0mkey\u001b[0m \u001b[0;34m>=\u001b[0m \u001b[0mlen_axis\u001b[0m \u001b[0;32mor\u001b[0m \u001b[0mkey\u001b[0m \u001b[0;34m<\u001b[0m \u001b[0;34m-\u001b[0m\u001b[0mlen_axis\u001b[0m\u001b[0;34m:\u001b[0m\u001b[0;34m\u001b[0m\u001b[0;34m\u001b[0m\u001b[0m\n\u001b[0;32m-> 2088\u001b[0;31m             \u001b[0;32mraise\u001b[0m \u001b[0mIndexError\u001b[0m\u001b[0;34m(\u001b[0m\u001b[0;34m\"single positional indexer is out-of-bounds\"\u001b[0m\u001b[0;34m)\u001b[0m\u001b[0;34m\u001b[0m\u001b[0;34m\u001b[0m\u001b[0m\n\u001b[0m\u001b[1;32m   2089\u001b[0m \u001b[0;34m\u001b[0m\u001b[0m\n\u001b[1;32m   2090\u001b[0m     \u001b[0;32mdef\u001b[0m \u001b[0m_getitem_tuple\u001b[0m\u001b[0;34m(\u001b[0m\u001b[0mself\u001b[0m\u001b[0;34m,\u001b[0m \u001b[0mtup\u001b[0m\u001b[0;34m)\u001b[0m\u001b[0;34m:\u001b[0m\u001b[0;34m\u001b[0m\u001b[0;34m\u001b[0m\u001b[0m\n",
      "\u001b[0;31mIndexError\u001b[0m: single positional indexer is out-of-bounds"
     ]
    }
   ],
   "source": [
    "with open(\"route_stops{}.txt\".format(scenario_var), 'a') as the_file:\n",
    "    # Pandas' iterrows() returns an iterator containing index of each row and the data in each row as a Series\n",
    "    for idx in OD_df_w_extra_costs.iterrows():\n",
    "        #print(idx[0])\n",
    "        row = idx[0]\n",
    "        #print(idx[1])\n",
    "        for col,value in idx[1].items():\n",
    "            #print(col)\n",
    "            print(row,col)\n",
    "            the_file.write(str(row)+','+str(col)+'\\n')\n",
    "            shortest_path_list_w_names = []\n",
    "            for x in nx.bidirectional_shortest_path(G, row, col):\n",
    "                shortest_path_list_w_names.append(look_up(x)+',')\n",
    "            print(str(shortest_path_list_w_names))\n",
    "            the_file.writelines(shortest_path_list_w_names)\n",
    "            the_file.write('\\n')\n",
    "    "
   ]
  },
  {
   "cell_type": "markdown",
   "metadata": {},
   "source": [
    "## Previous testing"
   ]
  },
  {
   "cell_type": "code",
   "execution_count": null,
   "metadata": {},
   "outputs": [],
   "source": [
    "nx.bidirectional_shortest_path(G, 56, 69)"
   ]
  },
  {
   "cell_type": "code",
   "execution_count": null,
   "metadata": {},
   "outputs": [],
   "source": [
    "# Testing Saratov (56) to Turpan (69)\n",
    "shortest_path_list = nx.bidirectional_shortest_path(G, 56, 69)"
   ]
  },
  {
   "cell_type": "code",
   "execution_count": null,
   "metadata": {},
   "outputs": [],
   "source": [
    "input_nodes['name']"
   ]
  },
  {
   "cell_type": "code",
   "execution_count": null,
   "metadata": {},
   "outputs": [],
   "source": [
    "# lookup\n",
    "def look_up(x):\n",
    "    return input_nodes.loc[input_nodes['node_id']==x]['name'].iloc[0]"
   ]
  },
  {
   "cell_type": "code",
   "execution_count": null,
   "metadata": {},
   "outputs": [],
   "source": [
    "shortest_path_list_w_names = []\n",
    "for x in shortest_path_list:\n",
    "    shortest_path_list_w_names.append(look_up(x))"
   ]
  },
  {
   "cell_type": "code",
   "execution_count": null,
   "metadata": {},
   "outputs": [],
   "source": [
    "shortest_path_list_w_names"
   ]
  },
  {
   "cell_type": "code",
   "execution_count": 466,
   "metadata": {},
   "outputs": [
    {
     "data": {
      "text/plain": [
       "17.58"
      ]
     },
     "execution_count": 466,
     "metadata": {},
     "output_type": "execute_result"
    }
   ],
   "source": [
    "# Look up route cost via graph\n",
    "nx.dijkstra_path_length(G, 38, 70, weight='cost')"
   ]
  },
  {
   "cell_type": "code",
   "execution_count": null,
   "metadata": {},
   "outputs": [],
   "source": [
    "# Look up route cost via OD Matrix\n",
    "OD_df[56][69]"
   ]
  },
  {
   "cell_type": "code",
   "execution_count": null,
   "metadata": {},
   "outputs": [],
   "source": []
  }
 ],
 "metadata": {
  "kernelspec": {
   "display_name": "Python 3",
   "language": "python",
   "name": "python3"
  },
  "language_info": {
   "codemirror_mode": {
    "name": "ipython",
    "version": 3
   },
   "file_extension": ".py",
   "mimetype": "text/x-python",
   "name": "python",
   "nbconvert_exporter": "python",
   "pygments_lexer": "ipython3",
   "version": "3.7.3"
  }
 },
 "nbformat": 4,
 "nbformat_minor": 2
}
