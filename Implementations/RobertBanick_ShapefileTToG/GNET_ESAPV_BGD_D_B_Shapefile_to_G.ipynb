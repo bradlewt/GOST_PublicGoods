{
 "cells": [
  {
   "cell_type": "code",
   "execution_count": 1,
   "metadata": {},
   "outputs": [],
   "source": [
    "import os, sys, importlib\n",
    "\n",
    "import geopandas as gpd\n",
    "import networkx as nx\n",
    "\n",
    "# Your GOSTnets path could be different\n",
    "sys.path.append(r\"C:\\Work\\Code\\GOSTnets\")\n",
    "import GOSTnets as gn"
   ]
  },
  {
   "cell_type": "code",
   "execution_count": 2,
   "metadata": {},
   "outputs": [],
   "source": [
    "# Read in input shapefile and convert to G object\n",
    "input_shapefile = \"cxb_roads_edit.shp\"\n",
    "\n",
    "inD = gpd.read_file(input_shapefile)\n",
    "G = nx.from_pandas_edgelist(inD, edge_attr=['length', 'infra_type', \"osm_id\", 'geometry'], source=\"stnode\", target=\"endnode\")\n",
    "G = G.to_directed()"
   ]
  },
  {
   "cell_type": "code",
   "execution_count": 3,
   "metadata": {},
   "outputs": [
    {
     "name": "stdout",
     "output_type": "stream",
     "text": [
      "7922\n",
      "(0, {})\n",
      "18047\n",
      "(0, 4690, {'length': 0.128829058995489, 'infra_type': 'unclassified', 'osm_id': '644427970', 'geometry': <shapely.geometry.linestring.LineString object at 0x0000021E94EBBC88>})\n"
     ]
    }
   ],
   "source": [
    "# inspect the resulting Graph\n",
    "nodes = list(G.nodes(data=True))\n",
    "edges = list(G.edges(data=True))\n",
    "print(len(nodes))\n",
    "print(nodes[0])\n",
    "print(len(edges))\n",
    "print(edges[0])"
   ]
  },
  {
   "cell_type": "code",
   "execution_count": 4,
   "metadata": {},
   "outputs": [],
   "source": [
    "# Identify only the largest graph\n",
    "list_of_subgraphs = list(nx.strongly_connected_component_subgraphs(G))\n",
    "max_graph = None\n",
    "max_edges = 0\n",
    "for i in list_of_subgraphs:\n",
    "    if i.number_of_edges() > max_edges:\n",
    "        max_edges = i.number_of_edges()\n",
    "        max_graph = i"
   ]
  },
  {
   "cell_type": "code",
   "execution_count": 6,
   "metadata": {},
   "outputs": [],
   "source": [
    "# Write the largest graph back to file\n",
    "all_data = {}\n",
    "idx=0\n",
    "for o, d, data in G.edges(data=True):\n",
    "    data['o'] = o\n",
    "    data['d'] = d\n",
    "    all_data[idx] = data    \n",
    "    idx = idx+1\n",
    "big_graph = gpd.GeoDataFrame(all_data).transpose()\n",
    "big_graph.to_csv(input_shapefile.replace(\".shp\", \"_big_boy.csv\"))\n",
    "big_graph.head()"
   ]
  }
 ],
 "metadata": {
  "kernelspec": {
   "display_name": "Python (geog)",
   "language": "python",
   "name": "geog"
  },
  "language_info": {
   "codemirror_mode": {
    "name": "ipython",
    "version": 3
   },
   "file_extension": ".py",
   "mimetype": "text/x-python",
   "name": "python",
   "nbconvert_exporter": "python",
   "pygments_lexer": "ipython3",
   "version": "3.6.7"
  }
 },
 "nbformat": 4,
 "nbformat_minor": 2
}
