{
 "cells": [
  {
   "cell_type": "markdown",
   "metadata": {},
   "source": [
    "# Importing shapefiles into GOSTnets\n",
    "\n",
    "Testing a modification of the load_osm file, not yet committed to the GOSTNets repo"
   ]
  },
  {
   "cell_type": "code",
   "execution_count": 3,
   "metadata": {},
   "outputs": [],
   "source": [
    "import os, sys, importlib\n",
    "\n",
    "import pandas as pd\n",
    "import geopandas as gpd\n",
    "import networkx as nx\n",
    "\n",
    "from shapely.wkt import loads\n",
    "from shapely.geometry import Point\n",
    "from random import sample \n",
    "\n",
    "## Your GOSTnets path could be different\n",
    "#sys.path.append(r\"C:\\Work\\Code\\GOSTnets\")\n",
    "sys.path.append(\"../../../GOSTNets\")\n",
    "import GOSTnets as gn"
   ]
  },
  {
   "cell_type": "code",
   "execution_count": 4,
   "metadata": {},
   "outputs": [
    {
     "ename": "ModuleNotFoundError",
     "evalue": "No module named 'GOSTnets.load'",
     "output_type": "error",
     "traceback": [
      "\u001b[0;31m---------------------------------------------------------------------------\u001b[0m",
      "\u001b[0;31mModuleNotFoundError\u001b[0m                       Traceback (most recent call last)",
      "\u001b[0;32m<ipython-input-4-5e1c5d297a31>\u001b[0m in \u001b[0;36m<module>\u001b[0;34m\u001b[0m\n\u001b[0;32m----> 1\u001b[0;31m \u001b[0;32mfrom\u001b[0m \u001b[0mGOSTnets\u001b[0m\u001b[0;34m.\u001b[0m\u001b[0mload\u001b[0m \u001b[0;32mimport\u001b[0m \u001b[0;34m*\u001b[0m\u001b[0;34m\u001b[0m\u001b[0;34m\u001b[0m\u001b[0m\n\u001b[0m",
      "\u001b[0;31mModuleNotFoundError\u001b[0m: No module named 'GOSTnets.load'"
     ]
    }
   ],
   "source": [
    "from GOSTnets.load import *"
   ]
  },
  {
   "cell_type": "code",
   "execution_count": null,
   "metadata": {},
   "outputs": [],
   "source": [
    "%load_ext autoreload\n",
    "\n",
    "%autoreload 2"
   ]
  },
  {
   "cell_type": "code",
   "execution_count": 2,
   "metadata": {},
   "outputs": [
    {
     "ename": "NameError",
     "evalue": "name 'OSM_to_network' is not defined",
     "output_type": "error",
     "traceback": [
      "\u001b[0;31m---------------------------------------------------------------------------\u001b[0m",
      "\u001b[0;31mNameError\u001b[0m                                 Traceback (most recent call last)",
      "\u001b[0;32m<ipython-input-2-e112a7f5b7f7>\u001b[0m in \u001b[0;36m<module>\u001b[0;34m\u001b[0m\n\u001b[0;32m----> 1\u001b[0;31m \u001b[0mcxb_roads\u001b[0m \u001b[0;34m=\u001b[0m \u001b[0mOSM_to_network\u001b[0m\u001b[0;34m(\u001b[0m\u001b[0;34m'/input_folder/bangladesh_osm_clip1.osm.pbf'\u001b[0m\u001b[0;34m,\u001b[0m \u001b[0mincludeFerries\u001b[0m\u001b[0;34m=\u001b[0m\u001b[0;32mTrue\u001b[0m\u001b[0;34m)\u001b[0m\u001b[0;34m\u001b[0m\u001b[0;34m\u001b[0m\u001b[0m\n\u001b[0m",
      "\u001b[0;31mNameError\u001b[0m: name 'OSM_to_network' is not defined"
     ]
    }
   ],
   "source": [
    "cxb_roads = shp_to_network(input_shapefile)"
   ]
  },
  {
   "cell_type": "code",
   "execution_count": 20,
   "metadata": {},
   "outputs": [
    {
     "data": {
      "text/html": [
       "<div>\n",
       "<style scoped>\n",
       "    .dataframe tbody tr th:only-of-type {\n",
       "        vertical-align: middle;\n",
       "    }\n",
       "\n",
       "    .dataframe tbody tr th {\n",
       "        vertical-align: top;\n",
       "    }\n",
       "\n",
       "    .dataframe thead th {\n",
       "        text-align: right;\n",
       "    }\n",
       "</style>\n",
       "<table border=\"1\" class=\"dataframe\">\n",
       "  <thead>\n",
       "    <tr style=\"text-align: right;\">\n",
       "      <th></th>\n",
       "      <th>stnode</th>\n",
       "      <th>endnode</th>\n",
       "      <th>length</th>\n",
       "      <th>infra_type</th>\n",
       "      <th>osm_id</th>\n",
       "      <th>unique_id</th>\n",
       "      <th>key</th>\n",
       "      <th>Type</th>\n",
       "      <th>id</th>\n",
       "      <th>geometry</th>\n",
       "    </tr>\n",
       "  </thead>\n",
       "  <tbody>\n",
       "    <tr>\n",
       "      <th>0</th>\n",
       "      <td>0</td>\n",
       "      <td>4690</td>\n",
       "      <td>0.128829</td>\n",
       "      <td>unclassified</td>\n",
       "      <td>644427970</td>\n",
       "      <td>0</td>\n",
       "      <td>edge_9669</td>\n",
       "      <td>legitimate</td>\n",
       "      <td>9669</td>\n",
       "      <td>LINESTRING (92.32052 20.82725, 92.32021 20.827...</td>\n",
       "    </tr>\n",
       "    <tr>\n",
       "      <th>1</th>\n",
       "      <td>1</td>\n",
       "      <td>4286</td>\n",
       "      <td>0.466935</td>\n",
       "      <td>unclassified</td>\n",
       "      <td>527438783</td>\n",
       "      <td>1</td>\n",
       "      <td>None</td>\n",
       "      <td>legitimate</td>\n",
       "      <td>5076</td>\n",
       "      <td>LINESTRING (92.08362 21.43088, 92.08360 21.431...</td>\n",
       "    </tr>\n",
       "    <tr>\n",
       "      <th>2</th>\n",
       "      <td>2</td>\n",
       "      <td>9006</td>\n",
       "      <td>0.133592</td>\n",
       "      <td>residential</td>\n",
       "      <td>527803779</td>\n",
       "      <td>2</td>\n",
       "      <td>edge_5595</td>\n",
       "      <td>legitimate</td>\n",
       "      <td>5595</td>\n",
       "      <td>LINESTRING (92.13161 21.29078, 92.13145 21.290...</td>\n",
       "    </tr>\n",
       "    <tr>\n",
       "      <th>3</th>\n",
       "      <td>7</td>\n",
       "      <td>3859</td>\n",
       "      <td>0.036216</td>\n",
       "      <td>track</td>\n",
       "      <td>537913478</td>\n",
       "      <td>5</td>\n",
       "      <td>edge_7883</td>\n",
       "      <td>legitimate</td>\n",
       "      <td>7883</td>\n",
       "      <td>LINESTRING (92.14399 21.17240, 92.14384 21.172...</td>\n",
       "    </tr>\n",
       "    <tr>\n",
       "      <th>4</th>\n",
       "      <td>9</td>\n",
       "      <td>4286</td>\n",
       "      <td>0.128266</td>\n",
       "      <td>unclassified</td>\n",
       "      <td>530360574</td>\n",
       "      <td>7</td>\n",
       "      <td>edge_6859</td>\n",
       "      <td>legitimate</td>\n",
       "      <td>6859</td>\n",
       "      <td>LINESTRING (92.08659 21.43367, 92.08670 21.433...</td>\n",
       "    </tr>\n",
       "    <tr>\n",
       "      <th>...</th>\n",
       "      <td>...</td>\n",
       "      <td>...</td>\n",
       "      <td>...</td>\n",
       "      <td>...</td>\n",
       "      <td>...</td>\n",
       "      <td>...</td>\n",
       "      <td>...</td>\n",
       "      <td>...</td>\n",
       "      <td>...</td>\n",
       "      <td>...</td>\n",
       "    </tr>\n",
       "    <tr>\n",
       "      <th>18194</th>\n",
       "      <td>9541</td>\n",
       "      <td>855</td>\n",
       "      <td>0.072594</td>\n",
       "      <td>residential</td>\n",
       "      <td>553983671</td>\n",
       "      <td>18199</td>\n",
       "      <td>edge_8254</td>\n",
       "      <td>legitimate</td>\n",
       "      <td>8254</td>\n",
       "      <td>LINESTRING (92.16359 21.20490, 92.16370 21.204...</td>\n",
       "    </tr>\n",
       "    <tr>\n",
       "      <th>18195</th>\n",
       "      <td>0</td>\n",
       "      <td>3763</td>\n",
       "      <td>0.098504</td>\n",
       "      <td>track</td>\n",
       "      <td>555571341</td>\n",
       "      <td>18203</td>\n",
       "      <td>edge_8363</td>\n",
       "      <td>origin_destruction</td>\n",
       "      <td>8363</td>\n",
       "      <td>LINESTRING (92.15784 21.21819, 92.15784 21.218...</td>\n",
       "    </tr>\n",
       "    <tr>\n",
       "      <th>18196</th>\n",
       "      <td>0</td>\n",
       "      <td>880</td>\n",
       "      <td>0.026264</td>\n",
       "      <td>road</td>\n",
       "      <td>530494978</td>\n",
       "      <td>18204</td>\n",
       "      <td>None</td>\n",
       "      <td>origin_destruction</td>\n",
       "      <td>7018</td>\n",
       "      <td>LINESTRING (91.99631 21.49519, 91.99632 21.495...</td>\n",
       "    </tr>\n",
       "    <tr>\n",
       "      <th>18197</th>\n",
       "      <td>4139</td>\n",
       "      <td>6238</td>\n",
       "      <td>1.207766</td>\n",
       "      <td>residential</td>\n",
       "      <td>532124941</td>\n",
       "      <td>7919</td>\n",
       "      <td>edge_7679</td>\n",
       "      <td>legitimate</td>\n",
       "      <td>7679</td>\n",
       "      <td>LINESTRING (92.05785 21.48789, 92.05786 21.487...</td>\n",
       "    </tr>\n",
       "    <tr>\n",
       "      <th>18198</th>\n",
       "      <td>6238</td>\n",
       "      <td>4139</td>\n",
       "      <td>1.207766</td>\n",
       "      <td>residential</td>\n",
       "      <td>532124941</td>\n",
       "      <td>11917</td>\n",
       "      <td>edge_7679</td>\n",
       "      <td>legitimate</td>\n",
       "      <td>7679</td>\n",
       "      <td>LINESTRING (92.05785 21.48789, 92.05786 21.487...</td>\n",
       "    </tr>\n",
       "  </tbody>\n",
       "</table>\n",
       "<p>18199 rows × 10 columns</p>\n",
       "</div>"
      ],
      "text/plain": [
       "       stnode  endnode    length    infra_type     osm_id  unique_id  \\\n",
       "0           0     4690  0.128829  unclassified  644427970          0   \n",
       "1           1     4286  0.466935  unclassified  527438783          1   \n",
       "2           2     9006  0.133592   residential  527803779          2   \n",
       "3           7     3859  0.036216         track  537913478          5   \n",
       "4           9     4286  0.128266  unclassified  530360574          7   \n",
       "...       ...      ...       ...           ...        ...        ...   \n",
       "18194    9541      855  0.072594   residential  553983671      18199   \n",
       "18195       0     3763  0.098504         track  555571341      18203   \n",
       "18196       0      880  0.026264          road  530494978      18204   \n",
       "18197    4139     6238  1.207766   residential  532124941       7919   \n",
       "18198    6238     4139  1.207766   residential  532124941      11917   \n",
       "\n",
       "             key                Type    id  \\\n",
       "0      edge_9669          legitimate  9669   \n",
       "1           None          legitimate  5076   \n",
       "2      edge_5595          legitimate  5595   \n",
       "3      edge_7883          legitimate  7883   \n",
       "4      edge_6859          legitimate  6859   \n",
       "...          ...                 ...   ...   \n",
       "18194  edge_8254          legitimate  8254   \n",
       "18195  edge_8363  origin_destruction  8363   \n",
       "18196       None  origin_destruction  7018   \n",
       "18197  edge_7679          legitimate  7679   \n",
       "18198  edge_7679          legitimate  7679   \n",
       "\n",
       "                                                geometry  \n",
       "0      LINESTRING (92.32052 20.82725, 92.32021 20.827...  \n",
       "1      LINESTRING (92.08362 21.43088, 92.08360 21.431...  \n",
       "2      LINESTRING (92.13161 21.29078, 92.13145 21.290...  \n",
       "3      LINESTRING (92.14399 21.17240, 92.14384 21.172...  \n",
       "4      LINESTRING (92.08659 21.43367, 92.08670 21.433...  \n",
       "...                                                  ...  \n",
       "18194  LINESTRING (92.16359 21.20490, 92.16370 21.204...  \n",
       "18195  LINESTRING (92.15784 21.21819, 92.15784 21.218...  \n",
       "18196  LINESTRING (91.99631 21.49519, 91.99632 21.495...  \n",
       "18197  LINESTRING (92.05785 21.48789, 92.05786 21.487...  \n",
       "18198  LINESTRING (92.05785 21.48789, 92.05786 21.487...  \n",
       "\n",
       "[18199 rows x 10 columns]"
      ]
     },
     "execution_count": 20,
     "metadata": {},
     "output_type": "execute_result"
    }
   ],
   "source": [
    "cxb_roads.roads_raw"
   ]
  },
  {
   "cell_type": "code",
   "execution_count": 21,
   "metadata": {},
   "outputs": [
    {
     "data": {
      "text/plain": [
       "residential      6865\n",
       "unclassified     5876\n",
       "track            2269\n",
       "tertiary         1288\n",
       "secondary         928\n",
       "primary           339\n",
       "service           334\n",
       "road              294\n",
       "tertiary_link       6\n",
       "Name: infra_type, dtype: int64"
      ]
     },
     "execution_count": 21,
     "metadata": {},
     "output_type": "execute_result"
    }
   ],
   "source": [
    "cxb_roads.roads_raw.infra_type.value_counts()"
   ]
  },
  {
   "cell_type": "code",
   "execution_count": 22,
   "metadata": {},
   "outputs": [],
   "source": [
    "accepted_road_types = ['residential', 'unclassified', 'track', 'service', 'tertiary', 'road', 'secondary', 'primary', 'trunk', 'primary_link', 'trunk_link', 'tertiary_link', 'secondary_link']"
   ]
  },
  {
   "cell_type": "code",
   "execution_count": 23,
   "metadata": {},
   "outputs": [],
   "source": [
    "cxb_roads.filterRoads(acceptedRoads = accepted_road_types)"
   ]
  },
  {
   "cell_type": "code",
   "execution_count": 24,
   "metadata": {},
   "outputs": [
    {
     "data": {
      "text/plain": [
       "residential      6865\n",
       "unclassified     5876\n",
       "track            2269\n",
       "tertiary         1288\n",
       "secondary         928\n",
       "primary           339\n",
       "service           334\n",
       "road              294\n",
       "tertiary_link       6\n",
       "Name: infra_type, dtype: int64"
      ]
     },
     "execution_count": 24,
     "metadata": {},
     "output_type": "execute_result"
    }
   ],
   "source": [
    "cxb_roads.roads_raw.infra_type.value_counts()"
   ]
  },
  {
   "cell_type": "code",
   "execution_count": 25,
   "metadata": {},
   "outputs": [],
   "source": [
    "cxb_roads.generateRoadsGDF(verbose = False)"
   ]
  },
  {
   "cell_type": "code",
   "execution_count": 26,
   "metadata": {},
   "outputs": [
    {
     "data": {
      "text/html": [
       "<div>\n",
       "<style scoped>\n",
       "    .dataframe tbody tr th:only-of-type {\n",
       "        vertical-align: middle;\n",
       "    }\n",
       "\n",
       "    .dataframe tbody tr th {\n",
       "        vertical-align: top;\n",
       "    }\n",
       "\n",
       "    .dataframe thead th {\n",
       "        text-align: right;\n",
       "    }\n",
       "</style>\n",
       "<table border=\"1\" class=\"dataframe\">\n",
       "  <thead>\n",
       "    <tr style=\"text-align: right;\">\n",
       "      <th></th>\n",
       "      <th>Wkt</th>\n",
       "      <th>osm_id</th>\n",
       "      <th>infra_type</th>\n",
       "      <th>id</th>\n",
       "      <th>key</th>\n",
       "      <th>length</th>\n",
       "      <th>u</th>\n",
       "      <th>v</th>\n",
       "    </tr>\n",
       "  </thead>\n",
       "  <tbody>\n",
       "    <tr>\n",
       "      <th>0</th>\n",
       "      <td>LINESTRING (92.32052 20.82725, 92.32021 20.827...</td>\n",
       "      <td>0</td>\n",
       "      <td>unclassified</td>\n",
       "      <td>1</td>\n",
       "      <td>edge_1</td>\n",
       "      <td>0.128829</td>\n",
       "      <td>(92.3205152, 20.827246)</td>\n",
       "      <td>(92.3193651, 20.8269117)</td>\n",
       "    </tr>\n",
       "    <tr>\n",
       "      <th>1</th>\n",
       "      <td>LINESTRING (92.08362 21.43088, 92.08360 21.431...</td>\n",
       "      <td>1</td>\n",
       "      <td>unclassified</td>\n",
       "      <td>2</td>\n",
       "      <td>edge_2</td>\n",
       "      <td>0.466935</td>\n",
       "      <td>(92.0836204, 21.4308841)</td>\n",
       "      <td>(92.0868579, 21.4326044)</td>\n",
       "    </tr>\n",
       "    <tr>\n",
       "      <th>2</th>\n",
       "      <td>LINESTRING (92.13161 21.29078, 92.13145 21.290...</td>\n",
       "      <td>2</td>\n",
       "      <td>residential</td>\n",
       "      <td>3</td>\n",
       "      <td>edge_3</td>\n",
       "      <td>0.133592</td>\n",
       "      <td>(92.1316132, 21.2907826)</td>\n",
       "      <td>(92.1314013, 21.291856)</td>\n",
       "    </tr>\n",
       "    <tr>\n",
       "      <th>3</th>\n",
       "      <td>LINESTRING (92.14399 21.17240, 92.14384 21.172...</td>\n",
       "      <td>5</td>\n",
       "      <td>track</td>\n",
       "      <td>4</td>\n",
       "      <td>edge_4</td>\n",
       "      <td>0.036216</td>\n",
       "      <td>(92.1439931, 21.1723959)</td>\n",
       "      <td>(92.1437672, 21.172236)</td>\n",
       "    </tr>\n",
       "    <tr>\n",
       "      <th>4</th>\n",
       "      <td>LINESTRING (92.08659 21.43367, 92.08670 21.433...</td>\n",
       "      <td>7</td>\n",
       "      <td>unclassified</td>\n",
       "      <td>5</td>\n",
       "      <td>edge_5</td>\n",
       "      <td>0.128266</td>\n",
       "      <td>(92.0865921, 21.4336693)</td>\n",
       "      <td>(92.0868579, 21.4326044)</td>\n",
       "    </tr>\n",
       "    <tr>\n",
       "      <th>...</th>\n",
       "      <td>...</td>\n",
       "      <td>...</td>\n",
       "      <td>...</td>\n",
       "      <td>...</td>\n",
       "      <td>...</td>\n",
       "      <td>...</td>\n",
       "      <td>...</td>\n",
       "      <td>...</td>\n",
       "    </tr>\n",
       "    <tr>\n",
       "      <th>18272</th>\n",
       "      <td>LINESTRING (92.16359 21.20490, 92.16370 21.204...</td>\n",
       "      <td>18199</td>\n",
       "      <td>residential</td>\n",
       "      <td>18273</td>\n",
       "      <td>edge_18273</td>\n",
       "      <td>0.072594</td>\n",
       "      <td>(92.1635891, 21.2048994)</td>\n",
       "      <td>(92.1642617, 21.2047306)</td>\n",
       "    </tr>\n",
       "    <tr>\n",
       "      <th>18273</th>\n",
       "      <td>LINESTRING (92.15784 21.21819, 92.15784 21.218...</td>\n",
       "      <td>18203</td>\n",
       "      <td>track</td>\n",
       "      <td>18274</td>\n",
       "      <td>edge_18274</td>\n",
       "      <td>0.098092</td>\n",
       "      <td>(92.15783655000003, 21.21818705000011)</td>\n",
       "      <td>(92.1581028, 21.2189323)</td>\n",
       "    </tr>\n",
       "    <tr>\n",
       "      <th>18274</th>\n",
       "      <td>LINESTRING (91.99631 21.49519, 91.99632 21.495...</td>\n",
       "      <td>18204</td>\n",
       "      <td>road</td>\n",
       "      <td>18275</td>\n",
       "      <td>edge_18275</td>\n",
       "      <td>0.026348</td>\n",
       "      <td>(91.9963117, 21.4951869)</td>\n",
       "      <td>(91.99632390000001, 21.49526230000004)</td>\n",
       "    </tr>\n",
       "    <tr>\n",
       "      <th>18275</th>\n",
       "      <td>LINESTRING (92.05785 21.48789, 92.05786 21.487...</td>\n",
       "      <td>7919</td>\n",
       "      <td>residential</td>\n",
       "      <td>18276</td>\n",
       "      <td>edge_18276</td>\n",
       "      <td>0.445815</td>\n",
       "      <td>(92.05784774320709, 21.487890336352677)</td>\n",
       "      <td>(92.0613313, 21.4893066)</td>\n",
       "    </tr>\n",
       "    <tr>\n",
       "      <th>18276</th>\n",
       "      <td>LINESTRING (92.05785 21.48789, 92.05786 21.487...</td>\n",
       "      <td>11917</td>\n",
       "      <td>residential</td>\n",
       "      <td>18277</td>\n",
       "      <td>edge_18277</td>\n",
       "      <td>0.445815</td>\n",
       "      <td>(92.05784774320709, 21.487890336352677)</td>\n",
       "      <td>(92.0613313, 21.4893066)</td>\n",
       "    </tr>\n",
       "  </tbody>\n",
       "</table>\n",
       "<p>18277 rows × 8 columns</p>\n",
       "</div>"
      ],
      "text/plain": [
       "                                                     Wkt  osm_id  \\\n",
       "0      LINESTRING (92.32052 20.82725, 92.32021 20.827...       0   \n",
       "1      LINESTRING (92.08362 21.43088, 92.08360 21.431...       1   \n",
       "2      LINESTRING (92.13161 21.29078, 92.13145 21.290...       2   \n",
       "3      LINESTRING (92.14399 21.17240, 92.14384 21.172...       5   \n",
       "4      LINESTRING (92.08659 21.43367, 92.08670 21.433...       7   \n",
       "...                                                  ...     ...   \n",
       "18272  LINESTRING (92.16359 21.20490, 92.16370 21.204...   18199   \n",
       "18273  LINESTRING (92.15784 21.21819, 92.15784 21.218...   18203   \n",
       "18274  LINESTRING (91.99631 21.49519, 91.99632 21.495...   18204   \n",
       "18275  LINESTRING (92.05785 21.48789, 92.05786 21.487...    7919   \n",
       "18276  LINESTRING (92.05785 21.48789, 92.05786 21.487...   11917   \n",
       "\n",
       "         infra_type     id         key    length  \\\n",
       "0      unclassified      1      edge_1  0.128829   \n",
       "1      unclassified      2      edge_2  0.466935   \n",
       "2       residential      3      edge_3  0.133592   \n",
       "3             track      4      edge_4  0.036216   \n",
       "4      unclassified      5      edge_5  0.128266   \n",
       "...             ...    ...         ...       ...   \n",
       "18272   residential  18273  edge_18273  0.072594   \n",
       "18273         track  18274  edge_18274  0.098092   \n",
       "18274          road  18275  edge_18275  0.026348   \n",
       "18275   residential  18276  edge_18276  0.445815   \n",
       "18276   residential  18277  edge_18277  0.445815   \n",
       "\n",
       "                                             u  \\\n",
       "0                      (92.3205152, 20.827246)   \n",
       "1                     (92.0836204, 21.4308841)   \n",
       "2                     (92.1316132, 21.2907826)   \n",
       "3                     (92.1439931, 21.1723959)   \n",
       "4                     (92.0865921, 21.4336693)   \n",
       "...                                        ...   \n",
       "18272                 (92.1635891, 21.2048994)   \n",
       "18273   (92.15783655000003, 21.21818705000011)   \n",
       "18274                 (91.9963117, 21.4951869)   \n",
       "18275  (92.05784774320709, 21.487890336352677)   \n",
       "18276  (92.05784774320709, 21.487890336352677)   \n",
       "\n",
       "                                            v  \n",
       "0                    (92.3193651, 20.8269117)  \n",
       "1                    (92.0868579, 21.4326044)  \n",
       "2                     (92.1314013, 21.291856)  \n",
       "3                     (92.1437672, 21.172236)  \n",
       "4                    (92.0868579, 21.4326044)  \n",
       "...                                       ...  \n",
       "18272                (92.1642617, 21.2047306)  \n",
       "18273                (92.1581028, 21.2189323)  \n",
       "18274  (91.99632390000001, 21.49526230000004)  \n",
       "18275                (92.0613313, 21.4893066)  \n",
       "18276                (92.0613313, 21.4893066)  \n",
       "\n",
       "[18277 rows x 8 columns]"
      ]
     },
     "execution_count": 26,
     "metadata": {},
     "output_type": "execute_result"
    }
   ],
   "source": [
    "cxb_roads.roadsGPD"
   ]
  },
  {
   "cell_type": "code",
   "execution_count": 27,
   "metadata": {},
   "outputs": [
    {
     "data": {
      "text/plain": [
       "<networkx.classes.multidigraph.MultiDiGraph at 0x103a64d50>"
      ]
     },
     "execution_count": 27,
     "metadata": {},
     "output_type": "execute_result"
    }
   ],
   "source": [
    "cxb_roads.initialReadIn()"
   ]
  },
  {
   "cell_type": "code",
   "execution_count": 28,
   "metadata": {},
   "outputs": [],
   "source": [
    "gn.save(cxb_roads.network,'cxb_roads_unclean','./')"
   ]
  },
  {
   "cell_type": "code",
   "execution_count": null,
   "metadata": {},
   "outputs": [],
   "source": [
    "# read back your graph from step 1 from you saved pickle\n",
    "G = nx.read_gpickle('cxb_roads_unclean.pickle')\n",
    "\n",
    "#Iceland_UTMZ = {'init': 'epsg:32627'}\n",
    "\n",
    "#WGS = {'init': 'epsg:4326'} # do not adjust. OSM natively comes in ESPG 4326"
   ]
  },
  {
   "cell_type": "code",
   "execution_count": null,
   "metadata": {},
   "outputs": [],
   "source": [
    "'''\n",
    "# the nodes in the dataset do not have coordinates, so let's fix that\n",
    "edges = list(G.edges(data=True))\n",
    "nodes = G.nodes(data=True)\n",
    "all_nodes = []\n",
    "# Loop through all the nodes to extract their coordinates from the nodes\n",
    "for n in nodes:\n",
    "    # For the current node, loop through the edges until we find an edge witht he current node\n",
    "    found_node = False\n",
    "    edge_count = 0\n",
    "    while not found_node:\n",
    "        e = edges[edge_count]\n",
    "        edge_count = edge_count + 1        \n",
    "        # if the current node is part of the current edge, we can extract the coordinate        \n",
    "        if n[0] in e: \n",
    "            found_node = True\n",
    "            # The coordinate for the node is either the first or final coordinate of the current edge            \n",
    "            pt_idx = 0\n",
    "            if e.index(n[0]) == 1:\n",
    "                pt_idx = -1\n",
    "            #Extract the appropriate point and store the new node\n",
    "            pt = list(e[2]['geometry'].coords)[pt_idx]\n",
    "            node_vals = {'x':pt[0], 'y':pt[1]}\n",
    "            all_nodes.append([n[0], node_vals])\n",
    "            #G.remove_node(n[0])\n",
    "            #G.add_node(n[0], **node_vals)\n",
    "G.update(nodes=all_nodes)\n",
    "'''"
   ]
  },
  {
   "cell_type": "code",
   "execution_count": null,
   "metadata": {},
   "outputs": [],
   "source": [
    "# inspect the resulting Graph\n",
    "nodes = list(G.nodes(data=True))\n",
    "edges = list(G.edges(data=True))\n",
    "print(len(nodes))\n",
    "print(nodes[0])\n",
    "print(len(edges))\n",
    "print(edges[0])"
   ]
  },
  {
   "cell_type": "code",
   "execution_count": null,
   "metadata": {},
   "outputs": [],
   "source": [
    "type(G)"
   ]
  },
  {
   "cell_type": "code",
   "execution_count": null,
   "metadata": {},
   "outputs": [],
   "source": []
  },
  {
   "cell_type": "code",
   "execution_count": null,
   "metadata": {},
   "outputs": [],
   "source": [
    "#list_of_graphs[1].number_of_edges()"
   ]
  },
  {
   "cell_type": "code",
   "execution_count": null,
   "metadata": {},
   "outputs": [],
   "source": [
    "\n",
    "print('print G before')\n",
    "print(G.size())\n",
    "# save the largest subgraph for networkX 2.4\n",
    "largest = max(nx.strongly_connected_components(G), key=len)\n",
    "G = nx.induced_subgraph(G,largest).copy()\n",
    "print('print G after')\n",
    "print(G.size())\n"
   ]
  },
  {
   "cell_type": "code",
   "execution_count": null,
   "metadata": {},
   "outputs": [],
   "source": [
    "type(G)"
   ]
  },
  {
   "cell_type": "code",
   "execution_count": null,
   "metadata": {},
   "outputs": [],
   "source": [
    "#gn.save(G,'G_largest_graph','./',pickle=False,nodes=False,edges=True)"
   ]
  },
  {
   "cell_type": "code",
   "execution_count": null,
   "metadata": {},
   "outputs": [],
   "source": [
    "#nx.strongly_connected_components(G)"
   ]
  },
  {
   "cell_type": "code",
   "execution_count": null,
   "metadata": {},
   "outputs": [],
   "source": [
    "# Identify only the largest graph\n",
    "\n",
    "#list_of_subgraphs = list(nx.strongly_connected_component_subgraphs(G))\n",
    "'''\n",
    "list_of_subgraphs = list(G.subgraph(c).copy() for c in nx.strongly_connected_components(G))\n",
    "max_graph = None\n",
    "max_edges = 0\n",
    "for i in list_of_subgraphs:\n",
    "    if i.number_of_edges() > max_edges:\n",
    "        max_edges = i.number_of_edges()\n",
    "        max_graph = i\n",
    "G = max_graph\n",
    "'''"
   ]
  },
  {
   "cell_type": "code",
   "execution_count": null,
   "metadata": {},
   "outputs": [],
   "source": [
    "#gn.save(G,'G_largest_graph2','./',pickle=False,nodes=False,edges=True)"
   ]
  },
  {
   "cell_type": "code",
   "execution_count": null,
   "metadata": {},
   "outputs": [],
   "source": [
    "# inspect the resulting Graph\n",
    "nodes = list(G.nodes(data=True))\n",
    "edges = list(G.edges(data=True))\n",
    "print(len(nodes))\n",
    "print(nodes[0])\n",
    "print(len(edges))\n",
    "print(edges[0])"
   ]
  },
  {
   "cell_type": "code",
   "execution_count": null,
   "metadata": {},
   "outputs": [],
   "source": [
    "# read in origins and destinations\n",
    "#input_folder = r\"C:\\Work\\Code\\GOST_PublicGoods\\Implementations\\RobertBanick_ShapefileTToG\\SampleData\"\n",
    "input_folder = r\"./input_data\"\n",
    "origins_file = os.path.join(input_folder, 'hrsl_pts_admins.csv')\n",
    "destinations_file  = os.path.join(input_folder, 'education_cxb/education_cxb_lged.shp')\n",
    "\n",
    "inO = pd.read_csv(origins_file)\n",
    "inD = gpd.read_file(destinations_file)\n",
    "inD = inD.to_crs({'init': 'epsg:4326'})"
   ]
  },
  {
   "cell_type": "code",
   "execution_count": null,
   "metadata": {},
   "outputs": [],
   "source": [
    "len(inO)"
   ]
  },
  {
   "cell_type": "code",
   "execution_count": null,
   "metadata": {},
   "outputs": [],
   "source": [
    "inO"
   ]
  },
  {
   "cell_type": "code",
   "execution_count": null,
   "metadata": {},
   "outputs": [],
   "source": [
    "#Convert the input origins to a POINT geodaframe\n",
    "inO_geom = [loads(x) for x in inO['geometry']]\n",
    "inO_geom = [Point(x[0].x, x[0].y) for x in inO_geom]\n",
    "\n",
    "inO = gpd.GeoDataFrame(inO.drop(['geometry'], axis=1), geometry = inO_geom, crs = {'init': 'epsg:4326'})\n",
    "\n",
    "# sample origins for testing\n",
    "# inO = inO.loc[sample(list(inO.index), 1000)]"
   ]
  },
  {
   "cell_type": "code",
   "execution_count": null,
   "metadata": {},
   "outputs": [],
   "source": [
    "print(inO.shape)\n",
    "print(inO.crs)\n",
    "print(inD.shape)\n",
    "print(inD.crs)"
   ]
  },
  {
   "cell_type": "code",
   "execution_count": null,
   "metadata": {},
   "outputs": [],
   "source": [
    "inO[:100]"
   ]
  },
  {
   "cell_type": "code",
   "execution_count": null,
   "metadata": {},
   "outputs": [],
   "source": [
    "in0_subset = inO[:100]"
   ]
  },
  {
   "cell_type": "code",
   "execution_count": null,
   "metadata": {},
   "outputs": [],
   "source": [
    "in0_subset"
   ]
  },
  {
   "cell_type": "code",
   "execution_count": null,
   "metadata": {},
   "outputs": [],
   "source": [
    "# time it\n",
    "import time\n",
    "\n",
    "start = time.time()\n",
    "print(\"start\")\n",
    "origins_subset = gn.pandana_snap(G, in0_subset)\n",
    "end = time.time()\n",
    "print(end - start)"
   ]
  },
  {
   "cell_type": "code",
   "execution_count": null,
   "metadata": {},
   "outputs": [],
   "source": [
    "# test ver 2\n",
    "start = time.time()\n",
    "print(\"start\")\n",
    "origins_subset = gn.pandana_snap_c(G, in0_subset)\n",
    "end = time.time()\n",
    "print(end - start)"
   ]
  },
  {
   "cell_type": "code",
   "execution_count": null,
   "metadata": {},
   "outputs": [],
   "source": [
    "origins = gn.pandana_snap(G, inO)"
   ]
  },
  {
   "cell_type": "code",
   "execution_count": null,
   "metadata": {},
   "outputs": [],
   "source": []
  },
  {
   "cell_type": "code",
   "execution_count": null,
   "metadata": {},
   "outputs": [],
   "source": [
    "destinations = gn.pandana_snap(G, inD)"
   ]
  },
  {
   "cell_type": "code",
   "execution_count": null,
   "metadata": {},
   "outputs": [],
   "source": [
    "origins.loc[origins['NN'] == 3140]"
   ]
  },
  {
   "cell_type": "code",
   "execution_count": null,
   "metadata": {},
   "outputs": [],
   "source": [
    "destinations"
   ]
  },
  {
   "cell_type": "code",
   "execution_count": null,
   "metadata": {},
   "outputs": [],
   "source": [
    "oNodes = origins['NN'].unique()\n",
    "dNodes = destinations['NN'].unique()"
   ]
  },
  {
   "cell_type": "code",
   "execution_count": null,
   "metadata": {},
   "outputs": [],
   "source": [
    "od = gn.calculate_OD(G, oNodes, dNodes, -1)\n",
    "od.shape"
   ]
  },
  {
   "cell_type": "code",
   "execution_count": null,
   "metadata": {},
   "outputs": [],
   "source": [
    "od"
   ]
  },
  {
   "cell_type": "code",
   "execution_count": null,
   "metadata": {},
   "outputs": [],
   "source": [
    "OD_df = pd.DataFrame(od, columns = dNodes, index = oNodes)"
   ]
  },
  {
   "cell_type": "code",
   "execution_count": null,
   "metadata": {
    "scrolled": true
   },
   "outputs": [],
   "source": [
    "OD_df[:500]"
   ]
  },
  {
   "cell_type": "code",
   "execution_count": null,
   "metadata": {},
   "outputs": [],
   "source": [
    "OD_df.to_csv(\"./output_csv2.csv\")"
   ]
  },
  {
   "cell_type": "code",
   "execution_count": null,
   "metadata": {},
   "outputs": [],
   "source": [
    "'''# Write the largest graph back to file\n",
    "all_data = {}\n",
    "idx=0\n",
    "for o, d, data in G.edges(data=True):\n",
    "    data['o'] = o\n",
    "    data['d'] = d\n",
    "    all_data[idx] = data    \n",
    "    idx = idx+1\n",
    "big_graph = gpd.GeoDataFrame(all_data).transpose()\n",
    "big_graph.to_csv(input_shapefile.replace(\".shp\", \"_big_boy.csv\"))\n",
    "big_graph.head()'''"
   ]
  }
 ],
 "metadata": {
  "kernelspec": {
   "display_name": "Python 3",
   "language": "python",
   "name": "python3"
  },
  "language_info": {
   "codemirror_mode": {
    "name": "ipython",
    "version": 3
   },
   "file_extension": ".py",
   "mimetype": "text/x-python",
   "name": "python",
   "nbconvert_exporter": "python",
   "pygments_lexer": "ipython3",
   "version": "3.7.6"
  }
 },
 "nbformat": 4,
 "nbformat_minor": 2
}
