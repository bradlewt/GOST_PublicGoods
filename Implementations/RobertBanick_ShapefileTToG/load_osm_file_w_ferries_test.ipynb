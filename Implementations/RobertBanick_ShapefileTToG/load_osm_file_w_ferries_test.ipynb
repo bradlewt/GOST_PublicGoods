{
 "cells": [
  {
   "cell_type": "markdown",
   "metadata": {},
   "source": [
    "# Importing shapefiles into GOSTnets\n",
    "\n",
    "Testing a modification of the load_osm file, not yet committed to the GOSTNets repo"
   ]
  },
  {
   "cell_type": "code",
   "execution_count": 1,
   "metadata": {},
   "outputs": [],
   "source": [
    "import os, sys, importlib\n",
    "\n",
    "import pandas as pd\n",
    "import geopandas as gpd\n",
    "import networkx as nx\n",
    "\n",
    "from shapely.wkt import loads\n",
    "from shapely.geometry import Point\n",
    "from random import sample \n",
    "\n",
    "## Your GOSTnets path could be different\n",
    "#sys.path.append(r\"C:\\Work\\Code\\GOSTnets\")\n",
    "sys.path.append(\"../../../GOSTNets\")\n",
    "import GOSTnets as gn"
   ]
  },
  {
   "cell_type": "code",
   "execution_count": 2,
   "metadata": {},
   "outputs": [],
   "source": [
    "from GOSTnets.load_osm import *"
   ]
  },
  {
   "cell_type": "code",
   "execution_count": 3,
   "metadata": {},
   "outputs": [],
   "source": [
    "%load_ext autoreload\n",
    "\n",
    "%autoreload 2"
   ]
  },
  {
   "cell_type": "markdown",
   "metadata": {},
   "source": [
    "## I downloaded an osm pbf from https://protomaps.com/extracts/ of just the area I need!"
   ]
  },
  {
   "cell_type": "code",
   "execution_count": 4,
   "metadata": {},
   "outputs": [],
   "source": [
    "data_w_ferries = OSM_to_network('./input_data/bangladesh_osm_clip1.osm.pbf', includeFerries = True)"
   ]
  },
  {
   "cell_type": "code",
   "execution_count": 6,
   "metadata": {},
   "outputs": [
    {
     "data": {
      "text/html": [
       "<div>\n",
       "<style scoped>\n",
       "    .dataframe tbody tr th:only-of-type {\n",
       "        vertical-align: middle;\n",
       "    }\n",
       "\n",
       "    .dataframe tbody tr th {\n",
       "        vertical-align: top;\n",
       "    }\n",
       "\n",
       "    .dataframe thead th {\n",
       "        text-align: right;\n",
       "    }\n",
       "</style>\n",
       "<table border=\"1\" class=\"dataframe\">\n",
       "  <thead>\n",
       "    <tr style=\"text-align: right;\">\n",
       "      <th></th>\n",
       "      <th>osm_id</th>\n",
       "      <th>infra_type</th>\n",
       "      <th>geometry</th>\n",
       "    </tr>\n",
       "  </thead>\n",
       "  <tbody>\n",
       "    <tr>\n",
       "      <th>24</th>\n",
       "      <td>85651714</td>\n",
       "      <td>ferry</td>\n",
       "      <td>LINESTRING (91.97321 21.47871, 91.97378 21.477...</td>\n",
       "    </tr>\n",
       "    <tr>\n",
       "      <th>27</th>\n",
       "      <td>85651729</td>\n",
       "      <td>ferry</td>\n",
       "      <td>LINESTRING (91.98058 21.52456, 91.98058 21.524...</td>\n",
       "    </tr>\n",
       "    <tr>\n",
       "      <th>2717</th>\n",
       "      <td>682570490</td>\n",
       "      <td>ferry</td>\n",
       "      <td>LINESTRING (91.90819 21.50008, 91.91067 21.497...</td>\n",
       "    </tr>\n",
       "  </tbody>\n",
       "</table>\n",
       "</div>"
      ],
      "text/plain": [
       "         osm_id infra_type                                           geometry\n",
       "24     85651714      ferry  LINESTRING (91.97321 21.47871, 91.97378 21.477...\n",
       "27     85651729      ferry  LINESTRING (91.98058 21.52456, 91.98058 21.524...\n",
       "2717  682570490      ferry  LINESTRING (91.90819 21.50008, 91.91067 21.497..."
      ]
     },
     "execution_count": 6,
     "metadata": {},
     "output_type": "execute_result"
    }
   ],
   "source": [
    "data_w_ferries.roads_raw.loc[data_w_ferries.roads_raw['infra_type'] == 'ferry']"
   ]
  },
  {
   "cell_type": "code",
   "execution_count": null,
   "metadata": {},
   "outputs": [],
   "source": []
  }
 ],
 "metadata": {
  "kernelspec": {
   "display_name": "Python 3",
   "language": "python",
   "name": "python3"
  },
  "language_info": {
   "codemirror_mode": {
    "name": "ipython",
    "version": 3
   },
   "file_extension": ".py",
   "mimetype": "text/x-python",
   "name": "python",
   "nbconvert_exporter": "python",
   "pygments_lexer": "ipython3",
   "version": "3.7.6"
  }
 },
 "nbformat": 4,
 "nbformat_minor": 2
}
