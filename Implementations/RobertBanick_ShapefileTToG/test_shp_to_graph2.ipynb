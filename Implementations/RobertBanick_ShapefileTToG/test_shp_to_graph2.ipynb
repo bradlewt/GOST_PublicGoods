{
 "cells": [
  {
   "cell_type": "markdown",
   "metadata": {},
   "source": [
    "# Importing shapefiles into GOSTnets\n",
    "\n",
    "This script is experimenting with converting shapefiles to G objects. The solution works because the input shapefile is derived from an existing OSM file and comes with from and to nodes."
   ]
  },
  {
   "cell_type": "code",
   "execution_count": 2,
   "metadata": {},
   "outputs": [],
   "source": [
    "import os, sys, importlib\n",
    "\n",
    "import pandas as pd\n",
    "import geopandas as gpd\n",
    "import networkx as nx\n",
    "\n",
    "from shapely.wkt import loads\n",
    "from shapely.geometry import Point\n",
    "from random import sample \n",
    "\n",
    "## Your GOSTnets path could be different\n",
    "#sys.path.append(r\"C:\\Work\\Code\\GOSTnets\")\n",
    "sys.path.append(\"../../../GOSTNets\")\n",
    "import GOSTnets as gn"
   ]
  },
  {
   "cell_type": "code",
   "execution_count": 3,
   "metadata": {},
   "outputs": [],
   "source": [
    "# Read in input shapefile and convert to G object\n",
    "input_shapefile = \"cxb_roads_edit.shp\"\n",
    "\n",
    "inD = gpd.read_file(input_shapefile)\n",
    "G = nx.from_pandas_edgelist(inD, edge_attr=['length', 'infra_type', \"osm_id\", 'geometry'], source=\"stnode\", target=\"endnode\")\n",
    "G = G.to_directed()"
   ]
  },
  {
   "cell_type": "code",
   "execution_count": 4,
   "metadata": {},
   "outputs": [],
   "source": [
    "# the nodes in the dataset do not have coordinates, so let's fix that\n",
    "edges = list(G.edges(data=True))\n",
    "nodes = G.nodes(data=True)\n",
    "all_nodes = []\n",
    "# Loop through all the nodes to extract their coordinates from the nodes\n",
    "for n in nodes:\n",
    "    # For the current node, loop through the edges until we find an edge witht he current node\n",
    "    found_node = False\n",
    "    edge_count = 0\n",
    "    while not found_node:\n",
    "        e = edges[edge_count]\n",
    "        edge_count = edge_count + 1        \n",
    "        # if the current node is part of the current edge, we can extract the coordinate        \n",
    "        if n[0] in e: \n",
    "            found_node = True\n",
    "            # The coordinate for the node is either the first or final coordinate of the current edge            \n",
    "            pt_idx = 0\n",
    "            if e.index(n[0]) == 1:\n",
    "                pt_idx = -1\n",
    "            #Extract the appropriate point and store the new node\n",
    "            pt = list(e[2]['geometry'].coords)[pt_idx]\n",
    "            node_vals = {'x':pt[0], 'y':pt[1]}\n",
    "            all_nodes.append([n[0], node_vals])\n",
    "            #G.remove_node(n[0])\n",
    "            #G.add_node(n[0], **node_vals)\n",
    "G.update(nodes=all_nodes)"
   ]
  },
  {
   "cell_type": "code",
   "execution_count": 5,
   "metadata": {},
   "outputs": [
    {
     "name": "stdout",
     "output_type": "stream",
     "text": [
      "7922\n",
      "(0, {'x': 92.3205152, 'y': 20.827246})\n",
      "18047\n",
      "(0, 4690, {'length': 0.128829058995489, 'infra_type': 'unclassified', 'osm_id': '644427970', 'geometry': <shapely.geometry.linestring.LineString object at 0x130e34310>})\n"
     ]
    }
   ],
   "source": [
    "# inspect the resulting Graph\n",
    "nodes = list(G.nodes(data=True))\n",
    "edges = list(G.edges(data=True))\n",
    "print(len(nodes))\n",
    "print(nodes[0])\n",
    "print(len(edges))\n",
    "print(edges[0])"
   ]
  },
  {
   "cell_type": "code",
   "execution_count": 7,
   "metadata": {},
   "outputs": [
    {
     "name": "stdout",
     "output_type": "stream",
     "text": [
      "print G before\n",
      "18047\n",
      "print G after\n",
      "11843\n"
     ]
    }
   ],
   "source": [
    "print('print G before')\n",
    "print(G.size())\n",
    "# save the largest subgraph for networkX 2.4\n",
    "largest = max(nx.strongly_connected_components(G), key=len)\n",
    "G = nx.induced_subgraph(G,largest).copy()\n",
    "print('print G after')\n",
    "print(G.size())"
   ]
  },
  {
   "cell_type": "code",
   "execution_count": 8,
   "metadata": {},
   "outputs": [
    {
     "data": {
      "text/plain": [
       "'\\nlist_of_subgraphs = list(nx.strongly_connected_component_subgraphs(G))\\nmax_graph = None\\nmax_edges = 0\\nfor i in list_of_subgraphs:\\n    if i.number_of_edges() > max_edges:\\n        max_edges = i.number_of_edges()\\n        max_graph = i\\n'"
      ]
     },
     "execution_count": 8,
     "metadata": {},
     "output_type": "execute_result"
    }
   ],
   "source": [
    "# Identify only the largest graph\n",
    "'''\n",
    "list_of_subgraphs = list(nx.strongly_connected_component_subgraphs(G))\n",
    "max_graph = None\n",
    "max_edges = 0\n",
    "for i in list_of_subgraphs:\n",
    "    if i.number_of_edges() > max_edges:\n",
    "        max_edges = i.number_of_edges()\n",
    "        max_graph = i\n",
    "G = max_graph\n",
    "'''"
   ]
  },
  {
   "cell_type": "code",
   "execution_count": 9,
   "metadata": {},
   "outputs": [
    {
     "name": "stdout",
     "output_type": "stream",
     "text": [
      "4993\n",
      "(0, {'x': 92.3205152, 'y': 20.827246})\n",
      "11843\n",
      "(0, 4690, {'length': 0.128829058995489, 'infra_type': 'unclassified', 'osm_id': '644427970', 'geometry': <shapely.geometry.linestring.LineString object at 0x130e34310>})\n"
     ]
    }
   ],
   "source": [
    "# inspect the resulting Graph\n",
    "nodes = list(G.nodes(data=True))\n",
    "edges = list(G.edges(data=True))\n",
    "print(len(nodes))\n",
    "print(nodes[0])\n",
    "print(len(edges))\n",
    "print(edges[0])"
   ]
  },
  {
   "cell_type": "code",
   "execution_count": 36,
   "metadata": {},
   "outputs": [],
   "source": [
    "# read in origins and destinations\n",
    "input_folder = r\"C:\\Work\\Code\\GOST_PublicGoods\\Implementations\\RobertBanick_ShapefileTToG\\SampleData\"\n",
    "origins_file = os.path.join(input_folder, 'hrsl_pts_admins.csv')\n",
    "destinations_file  = os.path.join(input_folder, 'education_cxb_lged.shp')\n",
    "\n",
    "inO = pd.read_csv(origins_file)\n",
    "inD = gpd.read_file(destinations_file)\n",
    "inD = inD.to_crs({'init': 'epsg:4326'})"
   ]
  },
  {
   "cell_type": "code",
   "execution_count": 37,
   "metadata": {},
   "outputs": [],
   "source": [
    "#Convert the input origins to a POINT geodaframe\n",
    "inO_geom = [loads(x) for x in inO['geometry']]\n",
    "inO_geom = [Point(x[0].x, x[0].y) for x in inO_geom]\n",
    "\n",
    "inO = gpd.GeoDataFrame(inO.drop(['geometry'], axis=1), geometry = inO_geom, crs = {'init': 'epsg:4326'})\n",
    "# sample origins for testing\n",
    "inO = inO.loc[sample(list(inO.index), 1000)]"
   ]
  },
  {
   "cell_type": "code",
   "execution_count": 38,
   "metadata": {},
   "outputs": [
    {
     "name": "stdout",
     "output_type": "stream",
     "text": [
      "(1000, 8)\n",
      "{'init': 'epsg:4326'}\n",
      "(788, 20)\n",
      "{'init': 'epsg:4326'}\n"
     ]
    },
    {
     "data": {
      "text/html": [
       "<div>\n",
       "<style scoped>\n",
       "    .dataframe tbody tr th:only-of-type {\n",
       "        vertical-align: middle;\n",
       "    }\n",
       "\n",
       "    .dataframe tbody tr th {\n",
       "        vertical-align: top;\n",
       "    }\n",
       "\n",
       "    .dataframe thead th {\n",
       "        text-align: right;\n",
       "    }\n",
       "</style>\n",
       "<table border=\"1\" class=\"dataframe\">\n",
       "  <thead>\n",
       "    <tr style=\"text-align: right;\">\n",
       "      <th></th>\n",
       "      <th>hrsl_ID</th>\n",
       "      <th>VALUE</th>\n",
       "      <th>Upaz_name</th>\n",
       "      <th>Upz_UID</th>\n",
       "      <th>index_right</th>\n",
       "      <th>ADM4_EN</th>\n",
       "      <th>ADM4_PCODE</th>\n",
       "      <th>geometry</th>\n",
       "    </tr>\n",
       "  </thead>\n",
       "  <tbody>\n",
       "    <tr>\n",
       "      <td>118877</td>\n",
       "      <td>120538</td>\n",
       "      <td>38.083674</td>\n",
       "      <td>Teknaf Upazila</td>\n",
       "      <td>202290</td>\n",
       "      <td>4693</td>\n",
       "      <td>Teknaf Paurashava</td>\n",
       "      <td>20229099</td>\n",
       "      <td>POINT (92.30028 20.86472)</td>\n",
       "    </tr>\n",
       "    <tr>\n",
       "      <td>97928</td>\n",
       "      <td>96110</td>\n",
       "      <td>35.005145</td>\n",
       "      <td>Cox's Bazar Sadar Upazila</td>\n",
       "      <td>202224</td>\n",
       "      <td>2295</td>\n",
       "      <td>Jhilwanja</td>\n",
       "      <td>20222447</td>\n",
       "      <td>POINT (92.03694 21.42944)</td>\n",
       "    </tr>\n",
       "    <tr>\n",
       "      <td>108805</td>\n",
       "      <td>108595</td>\n",
       "      <td>26.462021</td>\n",
       "      <td>Ukhia Upazila</td>\n",
       "      <td>202294</td>\n",
       "      <td>4081</td>\n",
       "      <td>Ratna Palong</td>\n",
       "      <td>20229463</td>\n",
       "      <td>POINT (92.16694 21.26833)</td>\n",
       "    </tr>\n",
       "    <tr>\n",
       "      <td>103630</td>\n",
       "      <td>103215</td>\n",
       "      <td>31.045279</td>\n",
       "      <td>Ramu Upazila</td>\n",
       "      <td>202266</td>\n",
       "      <td>2755</td>\n",
       "      <td>Khuniapalong</td>\n",
       "      <td>20226657</td>\n",
       "      <td>POINT (92.08639 21.34444)</td>\n",
       "    </tr>\n",
       "    <tr>\n",
       "      <td>103750</td>\n",
       "      <td>103387</td>\n",
       "      <td>31.045279</td>\n",
       "      <td>Ramu Upazila</td>\n",
       "      <td>202266</td>\n",
       "      <td>2755</td>\n",
       "      <td>Khuniapalong</td>\n",
       "      <td>20226657</td>\n",
       "      <td>POINT (92.09472 21.34167)</td>\n",
       "    </tr>\n",
       "  </tbody>\n",
       "</table>\n",
       "</div>"
      ],
      "text/plain": [
       "        hrsl_ID      VALUE                  Upaz_name  Upz_UID  index_right  \\\n",
       "118877   120538  38.083674             Teknaf Upazila   202290         4693   \n",
       "97928     96110  35.005145  Cox's Bazar Sadar Upazila   202224         2295   \n",
       "108805   108595  26.462021              Ukhia Upazila   202294         4081   \n",
       "103630   103215  31.045279               Ramu Upazila   202266         2755   \n",
       "103750   103387  31.045279               Ramu Upazila   202266         2755   \n",
       "\n",
       "                  ADM4_EN  ADM4_PCODE                   geometry  \n",
       "118877  Teknaf Paurashava    20229099  POINT (92.30028 20.86472)  \n",
       "97928           Jhilwanja    20222447  POINT (92.03694 21.42944)  \n",
       "108805       Ratna Palong    20229463  POINT (92.16694 21.26833)  \n",
       "103630       Khuniapalong    20226657  POINT (92.08639 21.34444)  \n",
       "103750       Khuniapalong    20226657  POINT (92.09472 21.34167)  "
      ]
     },
     "execution_count": 38,
     "metadata": {},
     "output_type": "execute_result"
    }
   ],
   "source": [
    "print(inO.shape)\n",
    "print(inO.crs)\n",
    "print(inD.shape)\n",
    "print(inD.crs)"
   ]
  },
  {
   "cell_type": "code",
   "execution_count": 39,
   "metadata": {},
   "outputs": [
    {
     "name": "stderr",
     "output_type": "stream",
     "text": [
      "C:\\Work\\Code\\GOSTnets\\GOSTnets\\core.py:1732: FutureWarning: Method .as_matrix will be removed in a future version. Use .values instead.\n",
      "  G_tree = spatial.KDTree(node_gdf[['x','y']].as_matrix())\n",
      "C:\\Work\\Code\\GOSTnets\\GOSTnets\\core.py:1734: FutureWarning: Method .as_matrix will be removed in a future version. Use .values instead.\n",
      "  distances, indices = G_tree.query(in_df[['x','y']].as_matrix())\n"
     ]
    }
   ],
   "source": [
    "origins = gn.pandana_snap(G, inO)\n",
    "destinations = gn.pandana_snap(G, inD, source_crs=inD.crs['init'])\n",
    "oNodes = origins['NN'].unique()\n",
    "dNodes = destinations['NN'].unique()"
   ]
  },
  {
   "cell_type": "code",
   "execution_count": 40,
   "metadata": {},
   "outputs": [],
   "source": [
    "od = gn.calculate_OD(G, oNodes, dNodes, -1)\n",
    "od.shape"
   ]
  },
  {
   "cell_type": "code",
   "execution_count": null,
   "metadata": {},
   "outputs": [],
   "source": [
    "'''# Write the largest graph back to file\n",
    "all_data = {}\n",
    "idx=0\n",
    "for o, d, data in G.edges(data=True):\n",
    "    data['o'] = o\n",
    "    data['d'] = d\n",
    "    all_data[idx] = data    \n",
    "    idx = idx+1\n",
    "big_graph = gpd.GeoDataFrame(all_data).transpose()\n",
    "big_graph.to_csv(input_shapefile.replace(\".shp\", \"_big_boy.csv\"))\n",
    "big_graph.head()'''"
   ]
  }
 ],
 "metadata": {
  "kernelspec": {
   "display_name": "Python 3",
   "language": "python",
   "name": "python3"
  },
  "language_info": {
   "codemirror_mode": {
    "name": "ipython",
    "version": 3
   },
   "file_extension": ".py",
   "mimetype": "text/x-python",
   "name": "python",
   "nbconvert_exporter": "python",
   "pygments_lexer": "ipython3",
   "version": "3.7.6"
  }
 },
 "nbformat": 4,
 "nbformat_minor": 2
}
