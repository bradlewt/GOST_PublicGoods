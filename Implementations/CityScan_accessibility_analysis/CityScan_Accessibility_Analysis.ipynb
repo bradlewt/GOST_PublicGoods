{
 "cells": [
  {
   "cell_type": "markdown",
   "metadata": {},
   "source": [
    "# CityScan Accessibility Analysis\n",
    "\n",
    "- This analysis will measure accessibility to only schools\n",
    "- origins are derived from 100m grid blocks coming from WorldPop\n",
    "- the accessibility measure is the time to the nearest facility in seconds\n",
    "\n",
    "## Inputs:\n",
    "\n",
    "#### origins: derived from a WorldPop raster manually using the 'Raster pixels to Points' tool in QGIS 3, and saved as a shapefile\n",
    "#### destinations: The combination of POIs from Overpass as points and centroids of polygons (QGIS 3 Centoids tool). The two different point layers were merged with the QGIS 'Merge vector Layers' tool.\n",
    "#### The admin AOI will be used to create a bounding box to download the road network via OSMNX\n"
   ]
  },
  {
   "cell_type": "markdown",
   "metadata": {},
   "source": [
    "### Import libraries"
   ]
  },
  {
   "cell_type": "code",
   "execution_count": 106,
   "metadata": {},
   "outputs": [],
   "source": [
    "import sys, os, inspect, logging, importlib\n",
    "\n",
    "import geopandas as gpd\n",
    "import pandas as pd\n",
    "import numpy as np\n",
    "import osmnx as ox\n",
    "import networkx as nx\n",
    "from shapely.ops import split, unary_union\n",
    "from shapely.geometry import box, Point\n",
    "\n",
    "import matplotlib.pyplot as plt"
   ]
  },
  {
   "cell_type": "code",
   "execution_count": 107,
   "metadata": {},
   "outputs": [],
   "source": [
    "# Get reference to GOSTNets\n",
    "sys.path.append(r'../../GOSTNets/GOSTNets')\n",
    "import GOSTnet as gn"
   ]
  },
  {
   "cell_type": "code",
   "execution_count": 108,
   "metadata": {},
   "outputs": [],
   "source": [
    "# define output folder\n",
    "inputFolder = r'cityscan_accessibility_analysis_input_folder'\n",
    "# define output folder\n",
    "outputFolder = r'../../../cityscan_accessibility_analysis_output_folder'\n",
    "# define road graph\n",
    "roadGraph = os.path.join(inputFolder, \"OSM_Roads.pickle\")"
   ]
  },
  {
   "cell_type": "code",
   "execution_count": 109,
   "metadata": {},
   "outputs": [],
   "source": [
    "# import extent\n",
    "city_extent = gpd.read_file(os.path.join(inputFolder, \"Addis_AOI.shp\"))"
   ]
  },
  {
   "cell_type": "code",
   "execution_count": 110,
   "metadata": {},
   "outputs": [
    {
     "name": "stdout",
     "output_type": "stream",
     "text": [
      "print G\n",
      "192552\n"
     ]
    }
   ],
   "source": [
    "# This is the section where we can adjust the road speeds\n",
    "if not os.path.exists(roadGraph):\n",
    "    extent = box(*city_extent.total_bounds)\n",
    "    G = ox.graph_from_polygon(extent, network_type = 'drive_service')\n",
    "    # This is how time is calculated from the OSMNX length attribute\n",
    "    G = gn.convert_network_to_time(G, 'length')\n",
    "    # save the largerst subgraph\n",
    "    list_of_Gs = list((nx.strongly_connected_component_subgraphs(G)))\n",
    "    sz = 0\n",
    "    largest_G = list_of_Gs[0]\n",
    "    for g in list_of_Gs:\n",
    "        curSize = g.size()\n",
    "        if curSize > sz:\n",
    "            largest_G = g\n",
    "            sz = curSize\n",
    "    G = largest_G\n",
    "    print('print G')\n",
    "    print(sz)\n",
    "    nx.write_gpickle(G, roadGraph)\n",
    "else:\n",
    "    G = nx.read_gpickle(roadGraph)    \n",
    "    G = gn.convert_network_to_time(G, 'length')"
   ]
  },
  {
   "cell_type": "markdown",
   "metadata": {},
   "source": [
    "### Inspect the road graph as a shapefile"
   ]
  },
  {
   "cell_type": "code",
   "execution_count": 111,
   "metadata": {},
   "outputs": [],
   "source": [
    "roads = gn.edge_gdf_from_graph(G)"
   ]
  },
  {
   "cell_type": "code",
   "execution_count": 112,
   "metadata": {},
   "outputs": [
    {
     "data": {
      "text/html": [
       "<div>\n",
       "<style scoped>\n",
       "    .dataframe tbody tr th:only-of-type {\n",
       "        vertical-align: middle;\n",
       "    }\n",
       "\n",
       "    .dataframe tbody tr th {\n",
       "        vertical-align: top;\n",
       "    }\n",
       "\n",
       "    .dataframe thead th {\n",
       "        text-align: right;\n",
       "    }\n",
       "</style>\n",
       "<table border=\"1\" class=\"dataframe\">\n",
       "  <thead>\n",
       "    <tr style=\"text-align: right;\">\n",
       "      <th></th>\n",
       "      <th>stnode</th>\n",
       "      <th>endnode</th>\n",
       "      <th>ref</th>\n",
       "      <th>lanes</th>\n",
       "      <th>access</th>\n",
       "      <th>service</th>\n",
       "      <th>osmid</th>\n",
       "      <th>tunnel</th>\n",
       "      <th>oneway</th>\n",
       "      <th>time</th>\n",
       "      <th>bridge</th>\n",
       "      <th>highway</th>\n",
       "      <th>maxspeed</th>\n",
       "      <th>junction</th>\n",
       "      <th>width</th>\n",
       "      <th>mode</th>\n",
       "      <th>name</th>\n",
       "      <th>length</th>\n",
       "      <th>geometry</th>\n",
       "    </tr>\n",
       "  </thead>\n",
       "  <tbody>\n",
       "    <tr>\n",
       "      <th>0</th>\n",
       "      <td>5532549120</td>\n",
       "      <td>5532549119</td>\n",
       "      <td>NaN</td>\n",
       "      <td>NaN</td>\n",
       "      <td>NaN</td>\n",
       "      <td>NaN</td>\n",
       "      <td>576965921</td>\n",
       "      <td>NaN</td>\n",
       "      <td>False</td>\n",
       "      <td>1.35180</td>\n",
       "      <td>NaN</td>\n",
       "      <td>unclassified</td>\n",
       "      <td>NaN</td>\n",
       "      <td>NaN</td>\n",
       "      <td>NaN</td>\n",
       "      <td>drive</td>\n",
       "      <td>NaN</td>\n",
       "      <td>7.510</td>\n",
       "      <td>LINESTRING (38.8377067 8.887623400000001, 38.8...</td>\n",
       "    </tr>\n",
       "    <tr>\n",
       "      <th>1</th>\n",
       "      <td>5532549120</td>\n",
       "      <td>5530086489</td>\n",
       "      <td>NaN</td>\n",
       "      <td>NaN</td>\n",
       "      <td>NaN</td>\n",
       "      <td>NaN</td>\n",
       "      <td>576549655</td>\n",
       "      <td>NaN</td>\n",
       "      <td>True</td>\n",
       "      <td>19.47078</td>\n",
       "      <td>NaN</td>\n",
       "      <td>unclassified</td>\n",
       "      <td>NaN</td>\n",
       "      <td>NaN</td>\n",
       "      <td>NaN</td>\n",
       "      <td>drive</td>\n",
       "      <td>NaN</td>\n",
       "      <td>108.171</td>\n",
       "      <td>LINESTRING (38.8377067 8.887623400000001, 38.8...</td>\n",
       "    </tr>\n",
       "  </tbody>\n",
       "</table>\n",
       "</div>"
      ],
      "text/plain": [
       "       stnode     endnode  ref lanes access service      osmid tunnel  oneway  \\\n",
       "0  5532549120  5532549119  NaN   NaN    NaN     NaN  576965921    NaN   False   \n",
       "1  5532549120  5530086489  NaN   NaN    NaN     NaN  576549655    NaN    True   \n",
       "\n",
       "       time bridge       highway maxspeed junction width   mode name   length  \\\n",
       "0   1.35180    NaN  unclassified      NaN      NaN   NaN  drive  NaN    7.510   \n",
       "1  19.47078    NaN  unclassified      NaN      NaN   NaN  drive  NaN  108.171   \n",
       "\n",
       "                                            geometry  \n",
       "0  LINESTRING (38.8377067 8.887623400000001, 38.8...  \n",
       "1  LINESTRING (38.8377067 8.887623400000001, 38.8...  "
      ]
     },
     "execution_count": 112,
     "metadata": {},
     "output_type": "execute_result"
    }
   ],
   "source": [
    "roads[:2]"
   ]
  },
  {
   "cell_type": "code",
   "execution_count": 113,
   "metadata": {},
   "outputs": [],
   "source": [
    "if not os.path.exists(outputFolder + '/OSM_Roads/OSM_Roads.shp'):\n",
    "    roads['oneway'] = roads.oneway.astype(int)\n",
    "    roads = roads[['oneway','length','time','mode','geometry']]\n",
    "    roads.to_file(outputFolder + '/OSM_Roads')"
   ]
  },
  {
   "cell_type": "markdown",
   "metadata": {},
   "source": [
    "## Create origins and destinations and snap them to the road graph"
   ]
  },
  {
   "cell_type": "code",
   "execution_count": 114,
   "metadata": {},
   "outputs": [],
   "source": [
    "# insert origins\n",
    "origins = gpd.read_file(os.path.join(inputFolder, \"world_pop_population_pts.shp\"))"
   ]
  },
  {
   "cell_type": "code",
   "execution_count": 115,
   "metadata": {},
   "outputs": [],
   "source": [
    "# insert destinations\n",
    "destinations = gpd.read_file(os.path.join(inputFolder, \"merged_school_pts.shp\"))"
   ]
  },
  {
   "cell_type": "code",
   "execution_count": 116,
   "metadata": {},
   "outputs": [],
   "source": [
    "# snap the origins to the road graph\n",
    "snapped_origins = gn.pandana_snap(G, origins)"
   ]
  },
  {
   "cell_type": "code",
   "execution_count": 117,
   "metadata": {},
   "outputs": [],
   "source": [
    "# snap the destinations to the road graph\n",
    "snapped_destinations = gn.pandana_snap(G, destinations)"
   ]
  },
  {
   "cell_type": "code",
   "execution_count": 118,
   "metadata": {},
   "outputs": [],
   "source": [
    "originNodes = list(snapped_origins['NN'].unique())"
   ]
  },
  {
   "cell_type": "code",
   "execution_count": 119,
   "metadata": {},
   "outputs": [],
   "source": [
    "destinationNodes = list(snapped_destinations['NN'].unique())"
   ]
  },
  {
   "cell_type": "code",
   "execution_count": 120,
   "metadata": {},
   "outputs": [],
   "source": [
    "# calculate OD matrix\n",
    "OD_matrix = gn.calculate_OD(G, originNodes, destinationNodes, fail_value=-1, weight='time')"
   ]
  },
  {
   "cell_type": "code",
   "execution_count": 121,
   "metadata": {},
   "outputs": [],
   "source": [
    "#OD_matrix[:3]"
   ]
  },
  {
   "cell_type": "code",
   "execution_count": 122,
   "metadata": {},
   "outputs": [],
   "source": [
    "closest_facility_per_origin = OD_matrix.min(axis=1)"
   ]
  },
  {
   "cell_type": "code",
   "execution_count": 123,
   "metadata": {},
   "outputs": [
    {
     "data": {
      "text/plain": [
       "array([308.20653, 305.22744, 294.12147, 311.21712, 361.01709])"
      ]
     },
     "execution_count": 123,
     "metadata": {},
     "output_type": "execute_result"
    }
   ],
   "source": [
    "closest_facility_per_origin[:5]"
   ]
  },
  {
   "cell_type": "code",
   "execution_count": 124,
   "metadata": {},
   "outputs": [],
   "source": [
    "# calculate accessibility\n",
    "# For each row, the closest facility is the smallest value in the row\n",
    "\n",
    "output = snapped_origins.copy()\n",
    "\n",
    "closest_facility_per_origin = OD_matrix.min(axis=1)\n",
    "\n",
    "results = pd.DataFrame([originNodes, closest_facility_per_origin]).transpose()\n",
    "colName = \"travel_time_to_closest_facility\"\n",
    "results.columns = ['NN', colName]"
   ]
  },
  {
   "cell_type": "code",
   "execution_count": 125,
   "metadata": {},
   "outputs": [
    {
     "data": {
      "text/html": [
       "<div>\n",
       "<style scoped>\n",
       "    .dataframe tbody tr th:only-of-type {\n",
       "        vertical-align: middle;\n",
       "    }\n",
       "\n",
       "    .dataframe tbody tr th {\n",
       "        vertical-align: top;\n",
       "    }\n",
       "\n",
       "    .dataframe thead th {\n",
       "        text-align: right;\n",
       "    }\n",
       "</style>\n",
       "<table border=\"1\" class=\"dataframe\">\n",
       "  <thead>\n",
       "    <tr style=\"text-align: right;\">\n",
       "      <th></th>\n",
       "      <th>NN</th>\n",
       "      <th>travel_time_to_closest_facility</th>\n",
       "    </tr>\n",
       "  </thead>\n",
       "  <tbody>\n",
       "    <tr>\n",
       "      <th>0</th>\n",
       "      <td>1.832108e+09</td>\n",
       "      <td>308.20653</td>\n",
       "    </tr>\n",
       "    <tr>\n",
       "      <th>1</th>\n",
       "      <td>5.623643e+09</td>\n",
       "      <td>305.22744</td>\n",
       "    </tr>\n",
       "    <tr>\n",
       "      <th>2</th>\n",
       "      <td>5.623617e+09</td>\n",
       "      <td>294.12147</td>\n",
       "    </tr>\n",
       "    <tr>\n",
       "      <th>3</th>\n",
       "      <td>5.623702e+09</td>\n",
       "      <td>311.21712</td>\n",
       "    </tr>\n",
       "    <tr>\n",
       "      <th>4</th>\n",
       "      <td>5.623592e+09</td>\n",
       "      <td>361.01709</td>\n",
       "    </tr>\n",
       "  </tbody>\n",
       "</table>\n",
       "</div>"
      ],
      "text/plain": [
       "             NN  travel_time_to_closest_facility\n",
       "0  1.832108e+09                        308.20653\n",
       "1  5.623643e+09                        305.22744\n",
       "2  5.623617e+09                        294.12147\n",
       "3  5.623702e+09                        311.21712\n",
       "4  5.623592e+09                        361.01709"
      ]
     },
     "execution_count": 125,
     "metadata": {},
     "output_type": "execute_result"
    }
   ],
   "source": [
    "results[:5]"
   ]
  },
  {
   "cell_type": "code",
   "execution_count": 126,
   "metadata": {},
   "outputs": [],
   "source": [
    "output = pd.merge(output, results, on=\"NN\")"
   ]
  },
  {
   "cell_type": "code",
   "execution_count": 127,
   "metadata": {},
   "outputs": [],
   "source": [
    "output.to_csv(os.path.join(outputFolder, \"addis_accessibility_schools.csv\"))"
   ]
  },
  {
   "cell_type": "code",
   "execution_count": null,
   "metadata": {},
   "outputs": [],
   "source": []
  }
 ],
 "metadata": {
  "kernelspec": {
   "display_name": "templateA",
   "language": "python",
   "name": "templatea"
  },
  "language_info": {
   "codemirror_mode": {
    "name": "ipython",
    "version": 3
   },
   "file_extension": ".py",
   "mimetype": "text/x-python",
   "name": "python",
   "nbconvert_exporter": "python",
   "pygments_lexer": "ipython3",
   "version": "3.7.3"
  }
 },
 "nbformat": 4,
 "nbformat_minor": 2
}
