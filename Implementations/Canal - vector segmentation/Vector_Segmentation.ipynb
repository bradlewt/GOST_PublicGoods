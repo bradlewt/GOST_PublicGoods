{
 "cells": [
  {
   "cell_type": "code",
   "execution_count": 27,
   "metadata": {},
   "outputs": [],
   "source": [
    "import os, sys, importlib\n",
    "\n",
    "import geopandas as gpd\n",
    "import pandas as pd\n",
    "\n",
    "import shapely.ops\n",
    "from shapely.geometry import Point, LineString\n",
    "from shapely import ops\n",
    "\n",
    "from osgeo import ogr\n"
   ]
  },
  {
   "cell_type": "code",
   "execution_count": 2,
   "metadata": {},
   "outputs": [
    {
     "data": {
      "text/html": [
       "<div>\n",
       "<style scoped>\n",
       "    .dataframe tbody tr th:only-of-type {\n",
       "        vertical-align: middle;\n",
       "    }\n",
       "\n",
       "    .dataframe tbody tr th {\n",
       "        vertical-align: top;\n",
       "    }\n",
       "\n",
       "    .dataframe thead th {\n",
       "        text-align: right;\n",
       "    }\n",
       "</style>\n",
       "<table border=\"1\" class=\"dataframe\">\n",
       "  <thead>\n",
       "    <tr style=\"text-align: right;\">\n",
       "      <th></th>\n",
       "      <th>CHANNEL_NA</th>\n",
       "      <th>CHANNEL_TY</th>\n",
       "      <th>SHAPE_Leng</th>\n",
       "      <th>Head_X</th>\n",
       "      <th>Head_y</th>\n",
       "      <th>Tail_X</th>\n",
       "      <th>Tail_Y</th>\n",
       "      <th>LENGTH</th>\n",
       "      <th>Shape_Le_1</th>\n",
       "      <th>UID</th>\n",
       "      <th>geometry</th>\n",
       "    </tr>\n",
       "  </thead>\n",
       "  <tbody>\n",
       "    <tr>\n",
       "      <th>0</th>\n",
       "      <td>2R/3R Minor</td>\n",
       "      <td>M</td>\n",
       "      <td>2366.669831</td>\n",
       "      <td>72.345250</td>\n",
       "      <td>30.151624</td>\n",
       "      <td>72.320696</td>\n",
       "      <td>30.151392</td>\n",
       "      <td>2366.669831</td>\n",
       "      <td>2366.669831</td>\n",
       "      <td>26005000</td>\n",
       "      <td>LINESTRING (244300.021 3338563.505, 241933.537...</td>\n",
       "    </tr>\n",
       "    <tr>\n",
       "      <th>1</th>\n",
       "      <td>6CR Disty</td>\n",
       "      <td>D</td>\n",
       "      <td>2057.445263</td>\n",
       "      <td>73.033955</td>\n",
       "      <td>30.636666</td>\n",
       "      <td>73.026671</td>\n",
       "      <td>30.654103</td>\n",
       "      <td>2057.445263</td>\n",
       "      <td>2057.445263</td>\n",
       "      <td>20000000</td>\n",
       "      <td>LINESTRING (311583.662 3390984.321, 311325.528...</td>\n",
       "    </tr>\n",
       "    <tr>\n",
       "      <th>2</th>\n",
       "      <td>6BR Disty</td>\n",
       "      <td>D</td>\n",
       "      <td>2708.487795</td>\n",
       "      <td>73.022003</td>\n",
       "      <td>30.633134</td>\n",
       "      <td>72.999000</td>\n",
       "      <td>30.645735</td>\n",
       "      <td>2708.487795</td>\n",
       "      <td>2708.487795</td>\n",
       "      <td>21000000</td>\n",
       "      <td>LINESTRING (310431.169 3390612.871, 310376.282...</td>\n",
       "    </tr>\n",
       "    <tr>\n",
       "      <th>3</th>\n",
       "      <td>7CR Disty</td>\n",
       "      <td>D</td>\n",
       "      <td>368.060039</td>\n",
       "      <td>72.581546</td>\n",
       "      <td>30.548341</td>\n",
       "      <td>72.581563</td>\n",
       "      <td>30.551659</td>\n",
       "      <td>368.060039</td>\n",
       "      <td>368.060039</td>\n",
       "      <td>34000000</td>\n",
       "      <td>LINESTRING (268005.187 3382038.088, 268016.465...</td>\n",
       "    </tr>\n",
       "    <tr>\n",
       "      <th>4</th>\n",
       "      <td>1 L Disty</td>\n",
       "      <td>D</td>\n",
       "      <td>31090.993270</td>\n",
       "      <td>73.615491</td>\n",
       "      <td>30.814278</td>\n",
       "      <td>73.615494</td>\n",
       "      <td>30.814281</td>\n",
       "      <td>31090.993270</td>\n",
       "      <td>31090.993270</td>\n",
       "      <td>04000000</td>\n",
       "      <td>MULTILINESTRING ((367564.749 3409839.289, 3674...</td>\n",
       "    </tr>\n",
       "  </tbody>\n",
       "</table>\n",
       "</div>"
      ],
      "text/plain": [
       "    CHANNEL_NA CHANNEL_TY    SHAPE_Leng     Head_X     Head_y     Tail_X  \\\n",
       "0  2R/3R Minor          M   2366.669831  72.345250  30.151624  72.320696   \n",
       "1    6CR Disty          D   2057.445263  73.033955  30.636666  73.026671   \n",
       "2    6BR Disty          D   2708.487795  73.022003  30.633134  72.999000   \n",
       "3    7CR Disty          D    368.060039  72.581546  30.548341  72.581563   \n",
       "4    1 L Disty          D  31090.993270  73.615491  30.814278  73.615494   \n",
       "\n",
       "      Tail_Y        LENGTH    Shape_Le_1       UID  \\\n",
       "0  30.151392   2366.669831   2366.669831  26005000   \n",
       "1  30.654103   2057.445263   2057.445263  20000000   \n",
       "2  30.645735   2708.487795   2708.487795  21000000   \n",
       "3  30.551659    368.060039    368.060039  34000000   \n",
       "4  30.814281  31090.993270  31090.993270  04000000   \n",
       "\n",
       "                                            geometry  \n",
       "0  LINESTRING (244300.021 3338563.505, 241933.537...  \n",
       "1  LINESTRING (311583.662 3390984.321, 311325.528...  \n",
       "2  LINESTRING (310431.169 3390612.871, 310376.282...  \n",
       "3  LINESTRING (268005.187 3382038.088, 268016.465...  \n",
       "4  MULTILINESTRING ((367564.749 3409839.289, 3674...  "
      ]
     },
     "execution_count": 2,
     "metadata": {},
     "output_type": "execute_result"
    }
   ],
   "source": [
    "baseFolder = os.path.join(os.getcwd(), \"SampleData\",\"Canals_sample_2\")\n",
    "#This points to the input lines file - points to sample data right now\n",
    "inLines = os.path.join(baseFolder, 'Canals_sample_2.shp')\n",
    "#Enter the folder where you want output created\n",
    "unqID = \"UID\"\n",
    "inL = gpd.read_file(inLines)\n",
    "#inL = inL.to_crs({'init':'epsg:3857'}) #need to project to a CRS with metres \n",
    "inL.head()"
   ]
  },
  {
   "cell_type": "code",
   "execution_count": 3,
   "metadata": {},
   "outputs": [],
   "source": [
    "def generate_subset_line(allCoords, length):\n",
    "    #Generate the \n",
    "    allPts = []\n",
    "    for cIdx in range(0, len(allCoords)):\n",
    "        cPoint = Point(allCoords[cIdx])\n",
    "        allPts.append(cPoint)\n",
    "        if cIdx > 0:\n",
    "            curLine = LineString(allPts)\n",
    "            if curLine.length > length:\n",
    "                break\n",
    "    return(curLine)"
   ]
  },
  {
   "cell_type": "code",
   "execution_count": 29,
   "metadata": {},
   "outputs": [
    {
     "name": "stdout",
     "output_type": "stream",
     "text": [
      "26005000 - 2366.669831125254 - 956.2302347980929 - 478.11511739903466\n",
      "20000000 - 2057.4452628933905 - 842.1621346999596 - 421.4315999874266\n",
      "21000000 - 2708.4877945779704 - 1092.3617720710258 - 565.6441078773947\n",
      "34000000 - 368.06003869097054 - 150.56805723844582 - 74.848558805527\n"
     ]
    },
    {
     "ename": "TypeError",
     "evalue": "'NoneType' object is not iterable",
     "output_type": "error",
     "traceback": [
      "\u001b[1;31m---------------------------------------------------------------------------\u001b[0m",
      "\u001b[1;31mTypeError\u001b[0m                                 Traceback (most recent call last)",
      "\u001b[1;32m<ipython-input-29-412b45777dfa>\u001b[0m in \u001b[0;36m<module>\u001b[1;34m\u001b[0m\n\u001b[0;32m     14\u001b[0m         \u001b[0mstartLength\u001b[0m \u001b[1;33m=\u001b[0m \u001b[0mtotalLength\u001b[0m \u001b[1;33m*\u001b[0m \u001b[1;36m0.4\u001b[0m\u001b[1;33m\u001b[0m\u001b[0m\n\u001b[0;32m     15\u001b[0m         \u001b[0mendLength\u001b[0m   \u001b[1;33m=\u001b[0m \u001b[0mtotalLength\u001b[0m \u001b[1;33m*\u001b[0m \u001b[1;36m0.2\u001b[0m\u001b[1;33m\u001b[0m\u001b[0m\n\u001b[1;32m---> 16\u001b[1;33m         \u001b[0mallCoords\u001b[0m \u001b[1;33m=\u001b[0m \u001b[0mlist\u001b[0m\u001b[1;33m(\u001b[0m\u001b[0mx\u001b[0m\u001b[1;33m.\u001b[0m\u001b[0mGetPoints\u001b[0m\u001b[1;33m(\u001b[0m\u001b[1;33m)\u001b[0m\u001b[1;33m)\u001b[0m\u001b[1;33m\u001b[0m\u001b[0m\n\u001b[0m\u001b[0;32m     17\u001b[0m \u001b[1;33m\u001b[0m\u001b[0m\n\u001b[0;32m     18\u001b[0m         \u001b[0mstartLen\u001b[0m \u001b[1;33m=\u001b[0m \u001b[0mgenerate_subset_line\u001b[0m\u001b[1;33m(\u001b[0m\u001b[0mallCoords\u001b[0m\u001b[1;33m,\u001b[0m \u001b[0mstartLength\u001b[0m\u001b[1;33m)\u001b[0m\u001b[1;33m\u001b[0m\u001b[0m\n",
      "\u001b[1;31mTypeError\u001b[0m: 'NoneType' object is not iterable"
     ]
    }
   ],
   "source": [
    "start = []\n",
    "end = []\n",
    "riverNameColumn = unqID\n",
    "inL['startPer'] = 0\n",
    "inL['endPer'] = 0\n",
    "for idx, row in inL.iterrows():\n",
    "    x = row['geometry']\n",
    "    if x.geom_type == 'MultiLineString':\n",
    "        x = ops.linemerge(x)\n",
    "    x = ogr.CreateGeometryFromWkt(x.wkt)\n",
    "    if x.GetGeometryType() == 2 or x.GetGeometryType() == 5:\n",
    "        totalLength = x.Length()\n",
    "        x.Segmentize(round(totalLength/100))    \n",
    "        startLength = totalLength * 0.4\n",
    "        endLength   = totalLength * 0.2\n",
    "        allCoords = list(x.GetPoints())\n",
    "\n",
    "        startLen = generate_subset_line(allCoords, startLength)\n",
    "        allCoords.reverse()\n",
    "        endLen   = generate_subset_line(allCoords, endLength)\n",
    "\n",
    "        start.append([row[riverNameColumn], startLen])\n",
    "        end.append([row[riverNameColumn], endLen])\n",
    "        \n",
    "        inL['startPer'].loc[idx] = startLen.length/totalLength\n",
    "        inL['endPer'].loc[idx] = endLen.length/totalLength\n",
    "        \n",
    "        print(\"%s - %s - %s - %s\" % (row[riverNameColumn], x.Length(), startLen.length, endLen.length))\n",
    "    else:\n",
    "        break\n",
    "startDF = pd.DataFrame(start, columns=[\"NAME\", \"GEOM\"])\n",
    "endDF = pd.DataFrame(end,  columns=[\"NAME\", \"GEOM\"])\n"
   ]
  },
  {
   "cell_type": "code",
   "execution_count": 31,
   "metadata": {},
   "outputs": [
    {
     "name": "stdout",
     "output_type": "stream",
     "text": [
      "LINESTRING (367564.7488000002 3409839.289100001, 367484.9203000003 3409913.160800001, 367484.7646000003 3409913.6525, 367484.1919 3409913.834899999, 367386.6156000001 3410004.130100001, 367142.8060999997 3410247.9396, 366856.9604000002 3410508.5636, 366705.6304000001 3410664.097200001, 366512.2642000001 3410840.649, 366407.1738999998 3410924.7212, 366276.8618999999 3411025.607899999, 366049.8668 3411080.254899999, 365843.8898 3411080.254899999, 365642.1163999997 3411097.0693, 365336.0933999997 3411109.680199999, 364995.6008000001 3411147.512700001, 364802.2346000001 3411155.9199, 364638.2937000003 3411151.7163, 364457.5383000001 3411004.5899, 364306.2083000001 3410861.666999999, 364058.1952 3410664.097200001, 363499.1146999998 3410189.089, 363259.5088 3409970.5012, 363133.4003999997 3409852.800000001, 362843.3510999996 3409583.7688, 362645.7812999999 3409419.8279, 362309.4923 3409104.557, 361931.1672 3408797.6932)\n",
      "LINESTRING (374737.2922 3430420.9717, 374780.7346999999 3430375.0822, 374770.4596999995 3430247.6337, 374674.9937000005 3430062.0054, 374579.5277000004 3429884.3325, 374465.4989 3429696.052300001, 374380.6402000003 3429589.979, 374287.8260000004 3429470.646500001, 374155.2342999997 3429306.232799999, 374033.25 3429163.0338, 373948.3913000003 3429041.0494, 373444.5428999998 3428425.823999999, 373317.2549000001 3428274.669500001, 373118.3673999999 3428036.0045, 373001.6867000004 3427898.109099999, 372887.6579 3427738.9991, 372789.54 3427601.103800001, 372707.3332000002 3427460.556600001, 372654.2965000002 3427351.8314, 372580.0451999996 3427198.0251, 372508.4457 3427044.218699999, 372460.7127 3426911.627, 372423.5870000003 3426749.8652, 372373.2022000002 3426590.7552, 372351.9874999998 3426415.734099999, 372317.5136000002 3426145.247099999, 372285.6915999996 3425813.767899999, 372253.8695999999 3425585.710200001, 372216.7439999999 3425392.126399999, 372171.6628 3425225.060799999, 372121.2779999999 3425057.995300001, 372078.8486000001 3424954.573799999, 371937.7710999995 3424649.6129, 371863.5197000001 3424522.324899999, 371696.4541999996 3424273.0526, 371534.6924000001 3424063.557700001, 371325.1974999998 3423798.374399999, 371113.0508000003 3423504.0208, 370940.6815999998 3423289.2223, 370672.8464000002 3422941.8321, 370511.0845999997 3422729.6854, 370463.3515999997 3422668.6932, 370195.5164000001 3422315.999399999, 370039.0581999999 3422122.4155, 369821.6078000003 3421838.669299999, 369643.9349999996 3421600.0043, 369399.9663000004 3421273.8287, 369169.2567999996 3420976.8234, 368728.5219999999 3420414.6347, 368513.7235000003 3420136.1921, 368261.7993000001 3419820.6239, 368153.0740999999 3419672.121200001, 367972.7494999999 3419449.3672, 367866.6760999998 3419308.82, 367739.3881000001 3419125.843499999, 367636.3644000003 3418995.7048, 367639.6791000003 3418929.4089, 367729.1785000004 3418750.4102, 367938.0104 3418372.5239, 368150.1571000004 3417978.0636, 368249.6009 3417795.7501, 368368.9334000004 3417582.940400001, 368869.4670000002 3417042.6293, 369164.4835000001 3416750.9276, 369370.0005999999 3416542.095699999, 369494.3053000001 3416395.830499999, 369534.0828 3416300.530300001, 369550.6567000002 3416230.0909, 369554.8002000004 3416085.0688, 369500.9348999998 3415890.3247, 369376.6301999995 3415567.1325, 369326.9083000002 3415430.397399999, 369248.182 3415243.940300001, 369181.8860999998 3415045.0528, 369148.7381999996 3414953.896, 369119.7337999996 3414353.0899, 369115.5903000003 3414241.215700001, 369070.0119000003 3413516.105, 369032.7204999998 3413047.8906, 368995.4291000003 3412662.546, 368937.4201999996 3411941.5788, 368908.4157999996 3411456.7904, 368903.5532 3411442.8105, 368875.2679000003 3411361.4901, 368804.8284999998 3411179.1766, 368684.6672999999 3411034.1544, 368494.0668000001 3410839.410399999, 368208.1660000002 3410532.792099999, 367789.6734999996 3410072.864800001, 367565.0706000002 3409839.623299999)\n"
     ]
    }
   ],
   "source": [
    "x = row['geometry']\n",
    "if x.geom_type == 'MultiLineString':\n",
    "    x = ops.linemerge(x)\n",
    "for l in x:\n",
    "    print(l)"
   ]
  },
  {
   "cell_type": "code",
   "execution_count": 5,
   "metadata": {},
   "outputs": [],
   "source": [
    "from shapely.wkt import loads\n",
    "\n",
    "startDF_geom =startDF['GEOM']\n",
    "startDF = startDF.drop(['GEOM'], axis=1)\n",
    "startGDF = gpd.GeoDataFrame(startDF, geometry=startDF_geom, crs=inL.crs)\n",
    "\n",
    "endDF_geom =endDF['GEOM']\n",
    "endDF = endDF.drop(['GEOM'], axis=1)\n",
    "endGDF = gpd.GeoDataFrame(endDF, geometry=endDF_geom, crs=inL.crs)\n",
    "\n"
   ]
  },
  {
   "cell_type": "code",
   "execution_count": 7,
   "metadata": {},
   "outputs": [],
   "source": [
    "'''startDF.to_csv(os.path.join(baseFolder,\"canal_starts.csv\"))\n",
    "endDF.to_csv(os.path.join(baseFolder,\"canal_ends.csv\"))\n",
    "inL.to_csv(os.path.join(baseFolder,\"canals_with_length.csv\"))\n",
    "'''\n",
    "startGDF.to_file(os.path.join(baseFolder,\"canal_starts.shp\"))\n",
    "endGDF.to_file(os.path.join(baseFolder,\"canal_ends.shp\"))\n",
    "inL.to_file(os.path.join(baseFolder,\"canal_with_length.shp\"))"
   ]
  },
  {
   "cell_type": "markdown",
   "metadata": {},
   "source": [
    "# Buffering and clipping\n",
    "For each start and end segment, the feature needs to be buffered, but the buffer needs to be limited to not cover anything covered by other canals"
   ]
  },
  {
   "cell_type": "code",
   "execution_count": 8,
   "metadata": {},
   "outputs": [
    {
     "name": "stderr",
     "output_type": "stream",
     "text": [
      "C:\\Users\\lordBen\\AppData\\Local\\conda\\conda\\envs\\Geog36\\lib\\site-packages\\pandas\\core\\indexing.py:190: SettingWithCopyWarning: \n",
      "A value is trying to be set on a copy of a slice from a DataFrame\n",
      "\n",
      "See the caveats in the documentation: http://pandas.pydata.org/pandas-docs/stable/indexing.html#indexing-view-versus-copy\n",
      "  self._setitem_with_indexer(indexer, value)\n"
     ]
    }
   ],
   "source": [
    "bufferDist = 1000 # metres\n",
    "bufferSet = startDF # endDF\n",
    "\n",
    "for bufferSet, outName in [[startDF, 'canal_start_buffered_clipped'],[endDF, 'canal_end_buffered_clipped']]:\n",
    "    bufferSet['GEOM2'] = ''\n",
    "    outFile = os.path.join(baseFolder,\"%s.shp\" % outName)\n",
    "    for idx, row in bufferSet.iterrows():\n",
    "        curName = row['NAME']\n",
    "        curShape = row['geometry']        \n",
    "        bufferShape = curShape.buffer(bufferDist,cap_style=2, join_style=2, mitre_limit=1.0)\n",
    "\n",
    "        #Select canals that intersect current buffered shape\n",
    "        intersecting_canals = inL[inL.intersects(bufferShape)]\n",
    "        if intersecting_canals.shape[0] > 1:\n",
    "            intersecting_canals = intersecting_canals[intersecting_canals[riverNameColumn] != curName]        \n",
    "            for selCanal in intersecting_canals['geometry']:\n",
    "                xx = shapely.ops.split(bufferShape, selCanal)\n",
    "                maxArea = 0            \n",
    "                selArea = None\n",
    "                for x in xx:\n",
    "                    if x.area > maxArea:\n",
    "                        maxArea = x.area\n",
    "                        selArea = x\n",
    "                bufferShape = selArea\n",
    "        bufferSet['GEOM2'].iloc[idx] = bufferShape\n",
    "    bufferSet_geom = bufferSet['GEOM2']\n",
    "    bufferSetGDF = bufferSet.drop('GEOM2', axis=1)\n",
    "    try:\n",
    "        bufferSetGDF = bufferSetGDF.drop('GEOM', axis=1)\n",
    "    except:\n",
    "        pass\n",
    "    bufferSetGDF = gpd.GeoDataFrame(bufferSetGDF, geometry=bufferSet_geom, crs=inL.crs)\n",
    "    bufferSetGDF.to_file(outFile)\n",
    "    #bufferSet.to_csv(outFile)"
   ]
  },
  {
   "cell_type": "code",
   "execution_count": null,
   "metadata": {},
   "outputs": [],
   "source": []
  }
 ],
 "metadata": {
  "kernelspec": {
   "display_name": "Python (geog)",
   "language": "python",
   "name": "geog36"
  },
  "language_info": {
   "codemirror_mode": {
    "name": "ipython",
    "version": 3
   },
   "file_extension": ".py",
   "mimetype": "text/x-python",
   "name": "python",
   "nbconvert_exporter": "python",
   "pygments_lexer": "ipython3",
   "version": "3.6.6"
  }
 },
 "nbformat": 4,
 "nbformat_minor": 2
}
