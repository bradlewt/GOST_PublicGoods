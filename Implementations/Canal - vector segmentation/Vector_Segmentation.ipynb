{
 "cells": [
  {
   "cell_type": "code",
   "execution_count": null,
   "metadata": {},
   "outputs": [],
   "source": [
    "import os, sys, importlib\n",
    "\n",
    "import geopandas as gpd\n",
    "import pandas as pd\n",
    "\n",
    "import shapely.ops\n",
    "from shapely.geometry import Point, LineString\n"
   ]
  },
  {
   "cell_type": "code",
   "execution_count": null,
   "metadata": {},
   "outputs": [],
   "source": [
    "inLines = os.path.join(os.getcwd(), \"SampleData\",\"Canals_sample\",\"Canals_edit.shp\")\n",
    "unqID = \"UID\"\n",
    "inL = gpd.read_file(inLines)\n",
    "#inL = inL.to_crs({'init':'epsg:3857'}) #need to project to a CRS with metres management\n",
    "inL.head()"
   ]
  },
  {
   "cell_type": "code",
   "execution_count": null,
   "metadata": {},
   "outputs": [],
   "source": [
    "def generate_subset_line(allCoords, length):\n",
    "    #Generate the \n",
    "    allPts = []\n",
    "    for cIdx in range(0, len(allCoords)):\n",
    "        cPoint = Point(allCoords[cIdx])\n",
    "        allPts.append(cPoint)\n",
    "        if cIdx > 0:\n",
    "            curLine = LineString(allPts)\n",
    "            if curLine.length > length:\n",
    "                break\n",
    "    return(curLine)"
   ]
  },
  {
   "cell_type": "code",
   "execution_count": null,
   "metadata": {},
   "outputs": [],
   "source": [
    "start = []\n",
    "end = []\n",
    "riverNameColumn = unqID\n",
    "inL['startPer'] = 0\n",
    "inL['endPer'] = 0\n",
    "for idx, row in inL.iterrows():\n",
    "    x = row['geometry']\n",
    "    if x.geom_type == \"LineString\":\n",
    "        totalLength = x.length\n",
    "        startLength = totalLength * 0.4\n",
    "        endLength   = totalLength * 0.2\n",
    "        allCoords = list(x.coords)\n",
    "\n",
    "        startLen = generate_subset_line(allCoords, startLength)\n",
    "        allCoords.reverse()\n",
    "        endLen   = generate_subset_line(allCoords, endLength)\n",
    "\n",
    "        start.append([row[riverNameColumn], startLen])\n",
    "        end.append([row[riverNameColumn], endLen])\n",
    "        \n",
    "        inL['startPer'].loc[idx] = startLen.length/totalLength\n",
    "        inL['endPer'].loc[idx] = endLen.length/totalLength\n",
    "        \n",
    "        print(\"%s - %s - %s - %s\" % (row[riverNameColumn], x.length, startLen.length, endLen.length))\n",
    "    else:\n",
    "        FUBAR='FOFF'\n",
    "startDF = pd.DataFrame(start, columns=[\"NAME\", \"GEOM\"])\n",
    "endDF = pd.DataFrame(end,  columns=[\"NAME\", \"GEOM\"])\n"
   ]
  },
  {
   "cell_type": "code",
   "execution_count": null,
   "metadata": {},
   "outputs": [],
   "source": [
    "from shapely.wkt import loads\n",
    "\n",
    "startDF_geom =startDF['GEOM']\n",
    "startDF = startDF.drop(['GEOM'], axis=1)\n",
    "startGDF = gpd.GeoDataFrame(startDF, geometry=startDF_geom, crs=inL.crs)\n",
    "\n",
    "endDF_geom =endDF['GEOM']\n",
    "endDF = endDF.drop(['GEOM'], axis=1)\n",
    "endGDF = gpd.GeoDataFrame(endDF, geometry=endDF_geom, crs=inL.crs)\n",
    "\n"
   ]
  },
  {
   "cell_type": "code",
   "execution_count": null,
   "metadata": {},
   "outputs": [],
   "source": [
    "startDF.to_csv(os.path.join(os.getcwd(), \"SampleData\",\"Canals_sample\",\"canal_starts.csv\"))\n",
    "endDF.to_csv(os.path.join(os.getcwd(), \"SampleData\",\"Canals_sample\",\"canal_ends.csv\"))\n",
    "inL.to_csv(os.path.join(os.getcwd(), \"SampleData\",\"Canals_sample\",\"canals_with_length.csv\"))\n",
    "\n",
    "startGDF.to_file(os.path.join(os.getcwd(), \"SampleData\",\"Canals_sample\",\"canal_starts.shp\"))\n",
    "endGDF.to_file(os.path.join(os.getcwd(), \"SampleData\",\"Canals_sample\",\"canal_ends.shp\"))\n",
    "inL.to_file(os.path.join(os.getcwd(), \"SampleData\",\"Canals_sample\",\"canal_with_length.shp\"))"
   ]
  },
  {
   "cell_type": "markdown",
   "metadata": {},
   "source": [
    "# Buffering and clipping\n",
    "For each start and end segment, the feature needs to be buffered, but the buffer needs to be limited to not cover anything covered by other canals"
   ]
  },
  {
   "cell_type": "code",
   "execution_count": null,
   "metadata": {},
   "outputs": [],
   "source": [
    "startDF"
   ]
  },
  {
   "cell_type": "code",
   "execution_count": null,
   "metadata": {},
   "outputs": [],
   "source": [
    "curShape.buffer(bufferDist,cap_style=2, join_style=2, mitre_limit=1.0)"
   ]
  },
  {
   "cell_type": "code",
   "execution_count": null,
   "metadata": {},
   "outputs": [],
   "source": [
    "bufferDist = 1000 # metres\n",
    "bufferSet = startDF # endDF\n",
    "\n",
    "for bufferSet, outName in [[startDF, 'canal_start_buffered_clipped'],[endDF, 'canal_end_buffered_clipped']]:\n",
    "    bufferSet['GEOM2'] = ''\n",
    "    outFile = os.path.join(os.getcwd(), \"SampleData\",\"Canals_sample\",\"%s.shp\" % outName)\n",
    "    for idx, row in bufferSet.iterrows():\n",
    "        curName = row['NAME']\n",
    "        curShape = row['GEOM']        \n",
    "        bufferShape = curShape.buffer(bufferDist,cap_style=2, join_style=2, mitre_limit=1.0)\n",
    "\n",
    "        #Select canals that intersect current buffered shape\n",
    "        intersecting_canals = inL[inL.intersects(bufferShape)]\n",
    "        if intersecting_canals.shape[0] > 1:\n",
    "            intersecting_canals = intersecting_canals[intersecting_canals[riverNameColumn] != curName]        \n",
    "            for selCanal in intersecting_canals['geometry']:\n",
    "                xx = shapely.ops.split(bufferShape, selCanal)\n",
    "                maxArea = 0            \n",
    "                selArea = None\n",
    "                for x in xx:\n",
    "                    if x.area > maxArea:\n",
    "                        maxArea = x.area\n",
    "                        selArea = x\n",
    "                bufferShape = selArea\n",
    "        bufferSet['GEOM2'].iloc[idx] = bufferShape\n",
    "    bufferSet_geom = bufferSet['GEOM2']\n",
    "    bufferSetGDF = bufferSet.drop('GEOM2', axis=1)\n",
    "    bufferSetGDF = bufferSetGDF.drop('GEOM', axis=1)\n",
    "    bufferSetGDF = gpd.GeoDataFrame(bufferSetGDF, geometry=bufferSet_geom, crs=inL.crs)\n",
    "    bufferSetGDF.to_file(outFile)\n",
    "    #bufferSet.to_csv(outFile)"
   ]
  },
  {
   "cell_type": "code",
   "execution_count": null,
   "metadata": {},
   "outputs": [],
   "source": [
    "bufferSetGDF"
   ]
  },
  {
   "cell_type": "code",
   "execution_count": null,
   "metadata": {},
   "outputs": [],
   "source": []
  }
 ],
 "metadata": {
  "kernelspec": {
   "display_name": "Python (geog)",
   "language": "python",
   "name": "geog"
  },
  "language_info": {
   "codemirror_mode": {
    "name": "ipython",
    "version": 3
   },
   "file_extension": ".py",
   "mimetype": "text/x-python",
   "name": "python",
   "nbconvert_exporter": "python",
   "pygments_lexer": "ipython3",
   "version": "3.6.7"
  }
 },
 "nbformat": 4,
 "nbformat_minor": 2
}
