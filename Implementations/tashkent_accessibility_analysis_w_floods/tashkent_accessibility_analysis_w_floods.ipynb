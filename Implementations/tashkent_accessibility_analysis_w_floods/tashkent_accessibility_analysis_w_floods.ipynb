{
 "cells": [
  {
   "cell_type": "markdown",
   "metadata": {},
   "source": [
    "# Tashkent Accessibility Analysis with Floods\n",
    "\n",
    "- This analysis will measure accessibility to schools and hospitals\n",
    "- origins are derived from 250m grid blocks coming from GHSL POP\n",
    "- the accessibility measure is the time to the nearest facility in seconds\n",
    "\n",
    "## Inputs:\n",
    "\n",
    "#### origins: derived from a GHSL POP raster (WorldPop did not visually seem as accurate) manually using the 'Raster pixels to Points' tool in QGIS 3, and saved as a shapefile\n",
    "#### destinations: The combination of POIs from Overpass as points and centroids of polygons called through the GOSTNets OSMNX_POIs library.\n",
    "#### The admin AOI will be used to create a bounding box to download the road network via OSMNX\n"
   ]
  },
  {
   "cell_type": "markdown",
   "metadata": {},
   "source": [
    "### Import libraries"
   ]
  },
  {
   "cell_type": "code",
   "execution_count": 243,
   "metadata": {},
   "outputs": [],
   "source": [
    "import sys, os, inspect, logging, importlib\n",
    "\n",
    "import geopandas as gpd\n",
    "import pandas as pd\n",
    "import numpy as np\n",
    "import osmnx as ox\n",
    "import networkx as nx\n",
    "from shapely.ops import split, unary_union\n",
    "from shapely.geometry import box, Point\n",
    "\n",
    "import matplotlib.pyplot as plt"
   ]
  },
  {
   "cell_type": "code",
   "execution_count": 244,
   "metadata": {},
   "outputs": [],
   "source": [
    "# Get reference to OSMNX_POIs\n",
    "sys.path.append(r'../..')\n",
    "from Market_Access import OSMNX_POIs"
   ]
  },
  {
   "cell_type": "code",
   "execution_count": 245,
   "metadata": {},
   "outputs": [],
   "source": [
    "# Get reference to GOSTNets\n",
    "sys.path.append(r'../../GOSTNets/GOSTNets')\n",
    "import GOSTnet as gn"
   ]
  },
  {
   "cell_type": "code",
   "execution_count": 246,
   "metadata": {},
   "outputs": [],
   "source": [
    "# define output folder\n",
    "inputFolder = r'input_folder'\n",
    "# define output folder\n",
    "outputFolder = r'../../../tashkent_output_folder'\n",
    "# define road graph\n",
    "roadGraph = os.path.join(inputFolder, \"OSM_Roads.pickle\")"
   ]
  },
  {
   "cell_type": "code",
   "execution_count": 247,
   "metadata": {},
   "outputs": [],
   "source": [
    "# import extent\n",
    "city_extent = gpd.read_file(os.path.join(inputFolder, \"Tashkent_AOI.shp\"))"
   ]
  },
  {
   "cell_type": "code",
   "execution_count": 248,
   "metadata": {},
   "outputs": [
    {
     "name": "stdout",
     "output_type": "stream",
     "text": [
      "{'init': 'epsg:4326'}\n"
     ]
    }
   ],
   "source": [
    "# make sure crs is 4326\n",
    "print(city_extent.crs)"
   ]
  },
  {
   "cell_type": "code",
   "execution_count": 249,
   "metadata": {},
   "outputs": [],
   "source": [
    "extent = box(*city_extent.total_bounds)"
   ]
  },
  {
   "cell_type": "code",
   "execution_count": 250,
   "metadata": {},
   "outputs": [
    {
     "data": {
      "image/svg+xml": [
       "<svg xmlns=\"http://www.w3.org/2000/svg\" xmlns:xlink=\"http://www.w3.org/1999/xlink\" width=\"100.0\" height=\"100.0\" viewBox=\"69.10782086402172 41.155035163721884 0.3797694724231917 0.2815258719613922\" preserveAspectRatio=\"xMinYMin meet\"><g transform=\"matrix(1,0,0,-1,0,82.59159619940516)\"><path fill-rule=\"evenodd\" fill=\"#66cc99\" stroke=\"#555555\" stroke-width=\"0.007595389448463834\" opacity=\"0.6\" d=\"M 69.47352480042923,41.169100699737555 L 69.47352480042923,41.422495499667605 L 69.1218864000374,41.422495499667605 L 69.1218864000374,41.169100699737555 L 69.47352480042923,41.169100699737555 z\" /></g></svg>"
      ],
      "text/plain": [
       "<shapely.geometry.polygon.Polygon at 0x7fbfac8ee438>"
      ]
     },
     "execution_count": 250,
     "metadata": {},
     "output_type": "execute_result"
    }
   ],
   "source": [
    "extent"
   ]
  },
  {
   "cell_type": "markdown",
   "metadata": {},
   "source": [
    "## We will extract OSM POIs"
   ]
  },
  {
   "cell_type": "code",
   "execution_count": 251,
   "metadata": {},
   "outputs": [],
   "source": [
    "educational_query = OSMNX_POIs.AmenityObject('Education', extent, ['school', 'kindergarten','university', 'college'], inputFolder)        "
   ]
  },
  {
   "cell_type": "code",
   "execution_count": 252,
   "metadata": {},
   "outputs": [
    {
     "data": {
      "text/plain": [
       "<Market_Access.OSMNX_POIs.AmenityObject at 0x7fbf50ebcf60>"
      ]
     },
     "execution_count": 252,
     "metadata": {},
     "output_type": "execute_result"
    }
   ],
   "source": [
    "educational_query"
   ]
  },
  {
   "cell_type": "code",
   "execution_count": 253,
   "metadata": {},
   "outputs": [],
   "source": [
    "destinations = educational_query.GenerateOSMPOIs()"
   ]
  },
  {
   "cell_type": "markdown",
   "metadata": {},
   "source": [
    "## We will extract the Roads and convert into a graph, and calculate edge times"
   ]
  },
  {
   "cell_type": "code",
   "execution_count": 254,
   "metadata": {},
   "outputs": [
    {
     "name": "stdout",
     "output_type": "stream",
     "text": [
      "print G\n",
      "108421\n"
     ]
    }
   ],
   "source": [
    "# This is the section where we can adjust the road speeds\n",
    "if not os.path.exists(roadGraph):\n",
    "    extent = box(*city_extent.total_bounds)\n",
    "    G = ox.graph_from_polygon(extent, network_type = 'drive_service')\n",
    "    # This is how time is calculated from the OSMNX length attribute\n",
    "    G = gn.convert_network_to_time(G, 'length')\n",
    "    # save the largerst subgraph\n",
    "    list_of_Gs = list((nx.strongly_connected_component_subgraphs(G)))\n",
    "    sz = 0\n",
    "    largest_G = list_of_Gs[0]\n",
    "    for g in list_of_Gs:\n",
    "        curSize = g.size()\n",
    "        if curSize > sz:\n",
    "            largest_G = g\n",
    "            sz = curSize\n",
    "    G = largest_G\n",
    "    print('print G')\n",
    "    print(sz)\n",
    "    nx.write_gpickle(G, roadGraph)\n",
    "else:\n",
    "    G = nx.read_gpickle(roadGraph)    \n",
    "    G = gn.convert_network_to_time(G, 'length')"
   ]
  },
  {
   "cell_type": "markdown",
   "metadata": {},
   "source": [
    "### Inspect the road graph as a shapefile"
   ]
  },
  {
   "cell_type": "code",
   "execution_count": 255,
   "metadata": {},
   "outputs": [],
   "source": [
    "roads = gn.edge_gdf_from_graph(G)"
   ]
  },
  {
   "cell_type": "code",
   "execution_count": 256,
   "metadata": {},
   "outputs": [
    {
     "data": {
      "text/html": [
       "<div>\n",
       "<style scoped>\n",
       "    .dataframe tbody tr th:only-of-type {\n",
       "        vertical-align: middle;\n",
       "    }\n",
       "\n",
       "    .dataframe tbody tr th {\n",
       "        vertical-align: top;\n",
       "    }\n",
       "\n",
       "    .dataframe thead th {\n",
       "        text-align: right;\n",
       "    }\n",
       "</style>\n",
       "<table border=\"1\" class=\"dataframe\">\n",
       "  <thead>\n",
       "    <tr style=\"text-align: right;\">\n",
       "      <th></th>\n",
       "      <th>stnode</th>\n",
       "      <th>endnode</th>\n",
       "      <th>length</th>\n",
       "      <th>time</th>\n",
       "      <th>maxspeed</th>\n",
       "      <th>lanes</th>\n",
       "      <th>access</th>\n",
       "      <th>ref</th>\n",
       "      <th>mode</th>\n",
       "      <th>name</th>\n",
       "      <th>oneway</th>\n",
       "      <th>bridge</th>\n",
       "      <th>service</th>\n",
       "      <th>width</th>\n",
       "      <th>junction</th>\n",
       "      <th>osmid</th>\n",
       "      <th>tunnel</th>\n",
       "      <th>highway</th>\n",
       "      <th>landuse</th>\n",
       "      <th>geometry</th>\n",
       "    </tr>\n",
       "  </thead>\n",
       "  <tbody>\n",
       "    <tr>\n",
       "      <th>0</th>\n",
       "      <td>5814616064</td>\n",
       "      <td>5814616062</td>\n",
       "      <td>69.206</td>\n",
       "      <td>12.45708</td>\n",
       "      <td>NaN</td>\n",
       "      <td>NaN</td>\n",
       "      <td>NaN</td>\n",
       "      <td>NaN</td>\n",
       "      <td>drive</td>\n",
       "      <td>NaN</td>\n",
       "      <td>False</td>\n",
       "      <td>NaN</td>\n",
       "      <td>NaN</td>\n",
       "      <td>NaN</td>\n",
       "      <td>NaN</td>\n",
       "      <td>614769586</td>\n",
       "      <td>NaN</td>\n",
       "      <td>service</td>\n",
       "      <td>NaN</td>\n",
       "      <td>LINESTRING (69.29000689999999 41.3094792, 69.2...</td>\n",
       "    </tr>\n",
       "    <tr>\n",
       "      <th>1</th>\n",
       "      <td>5814616064</td>\n",
       "      <td>5957852995</td>\n",
       "      <td>25.864</td>\n",
       "      <td>4.65552</td>\n",
       "      <td>NaN</td>\n",
       "      <td>NaN</td>\n",
       "      <td>NaN</td>\n",
       "      <td>NaN</td>\n",
       "      <td>drive</td>\n",
       "      <td>NaN</td>\n",
       "      <td>False</td>\n",
       "      <td>NaN</td>\n",
       "      <td>NaN</td>\n",
       "      <td>NaN</td>\n",
       "      <td>NaN</td>\n",
       "      <td>614769586</td>\n",
       "      <td>NaN</td>\n",
       "      <td>service</td>\n",
       "      <td>NaN</td>\n",
       "      <td>LINESTRING (69.29000689999999 41.3094792, 69.2...</td>\n",
       "    </tr>\n",
       "  </tbody>\n",
       "</table>\n",
       "</div>"
      ],
      "text/plain": [
       "       stnode     endnode  length      time maxspeed lanes access  ref   mode  \\\n",
       "0  5814616064  5814616062  69.206  12.45708      NaN   NaN    NaN  NaN  drive   \n",
       "1  5814616064  5957852995  25.864   4.65552      NaN   NaN    NaN  NaN  drive   \n",
       "\n",
       "  name  oneway bridge service width junction      osmid tunnel  highway  \\\n",
       "0  NaN   False    NaN     NaN   NaN      NaN  614769586    NaN  service   \n",
       "1  NaN   False    NaN     NaN   NaN      NaN  614769586    NaN  service   \n",
       "\n",
       "  landuse                                           geometry  \n",
       "0     NaN  LINESTRING (69.29000689999999 41.3094792, 69.2...  \n",
       "1     NaN  LINESTRING (69.29000689999999 41.3094792, 69.2...  "
      ]
     },
     "execution_count": 256,
     "metadata": {},
     "output_type": "execute_result"
    }
   ],
   "source": [
    "roads[:2]"
   ]
  },
  {
   "cell_type": "code",
   "execution_count": 257,
   "metadata": {},
   "outputs": [],
   "source": [
    "if not os.path.exists(outputFolder + '/OSM_Roads/OSM_Roads.shp'):\n",
    "    roads['oneway'] = roads.oneway.astype(int)\n",
    "    roads = roads[['oneway','length','time','mode','geometry']]\n",
    "    roads.to_file(outputFolder + '/OSM_Roads')"
   ]
  },
  {
   "cell_type": "markdown",
   "metadata": {},
   "source": [
    "# 1st Analysis: Non-flooded scenario"
   ]
  },
  {
   "cell_type": "markdown",
   "metadata": {},
   "source": [
    "## Create origins and destinations and snap them to the road graph"
   ]
  },
  {
   "cell_type": "code",
   "execution_count": 258,
   "metadata": {},
   "outputs": [],
   "source": [
    "# insert origins\n",
    "origins = gpd.read_file(os.path.join(inputFolder, \"tashkent_ghsl2015_pop_250m_pts.shp\"))"
   ]
  },
  {
   "cell_type": "code",
   "execution_count": 259,
   "metadata": {},
   "outputs": [],
   "source": [
    "# snap the origins to the road graph\n",
    "snapped_origins = gn.pandana_snap(G, origins)"
   ]
  },
  {
   "cell_type": "code",
   "execution_count": 260,
   "metadata": {},
   "outputs": [],
   "source": [
    "# snap the destinations to the road graph\n",
    "snapped_destinations = gn.pandana_snap(G, destinations)"
   ]
  },
  {
   "cell_type": "code",
   "execution_count": 261,
   "metadata": {},
   "outputs": [],
   "source": [
    "originNodes = list(snapped_origins['NN'].unique())"
   ]
  },
  {
   "cell_type": "code",
   "execution_count": 262,
   "metadata": {},
   "outputs": [],
   "source": [
    "destinationNodes = list(snapped_destinations['NN'].unique())"
   ]
  },
  {
   "cell_type": "code",
   "execution_count": 263,
   "metadata": {},
   "outputs": [],
   "source": [
    "# calculate OD matrix\n",
    "OD_matrix = gn.calculate_OD(G, originNodes, destinationNodes, fail_value=-1, weight='time')"
   ]
  },
  {
   "cell_type": "code",
   "execution_count": 264,
   "metadata": {},
   "outputs": [],
   "source": [
    "#OD_matrix[:3]"
   ]
  },
  {
   "cell_type": "code",
   "execution_count": 265,
   "metadata": {},
   "outputs": [],
   "source": [
    "closest_facility_per_origin = OD_matrix.min(axis=1)"
   ]
  },
  {
   "cell_type": "code",
   "execution_count": 266,
   "metadata": {},
   "outputs": [
    {
     "data": {
      "text/plain": [
       "array([343.20726, 289.75608, 604.38702, 158.40228, 135.20532])"
      ]
     },
     "execution_count": 266,
     "metadata": {},
     "output_type": "execute_result"
    }
   ],
   "source": [
    "closest_facility_per_origin[:5]"
   ]
  },
  {
   "cell_type": "code",
   "execution_count": 267,
   "metadata": {},
   "outputs": [],
   "source": [
    "# calculate accessibility\n",
    "# For each row, the closest facility is the smallest value in the row\n",
    "\n",
    "output = snapped_origins.copy()\n",
    "\n",
    "closest_facility_per_origin = OD_matrix.min(axis=1)\n",
    "\n",
    "results = pd.DataFrame([originNodes, closest_facility_per_origin]).transpose()\n",
    "colName = \"travel_time_to_closest_facility\"\n",
    "results.columns = ['NN', colName]"
   ]
  },
  {
   "cell_type": "code",
   "execution_count": 268,
   "metadata": {},
   "outputs": [
    {
     "data": {
      "text/html": [
       "<div>\n",
       "<style scoped>\n",
       "    .dataframe tbody tr th:only-of-type {\n",
       "        vertical-align: middle;\n",
       "    }\n",
       "\n",
       "    .dataframe tbody tr th {\n",
       "        vertical-align: top;\n",
       "    }\n",
       "\n",
       "    .dataframe thead th {\n",
       "        text-align: right;\n",
       "    }\n",
       "</style>\n",
       "<table border=\"1\" class=\"dataframe\">\n",
       "  <thead>\n",
       "    <tr style=\"text-align: right;\">\n",
       "      <th></th>\n",
       "      <th>NN</th>\n",
       "      <th>travel_time_to_closest_facility</th>\n",
       "    </tr>\n",
       "  </thead>\n",
       "  <tbody>\n",
       "    <tr>\n",
       "      <th>0</th>\n",
       "      <td>4.202418e+09</td>\n",
       "      <td>343.20726</td>\n",
       "    </tr>\n",
       "    <tr>\n",
       "      <th>1</th>\n",
       "      <td>2.080926e+09</td>\n",
       "      <td>289.75608</td>\n",
       "    </tr>\n",
       "    <tr>\n",
       "      <th>2</th>\n",
       "      <td>4.709277e+09</td>\n",
       "      <td>604.38702</td>\n",
       "    </tr>\n",
       "    <tr>\n",
       "      <th>3</th>\n",
       "      <td>4.202528e+09</td>\n",
       "      <td>158.40228</td>\n",
       "    </tr>\n",
       "    <tr>\n",
       "      <th>4</th>\n",
       "      <td>4.202528e+09</td>\n",
       "      <td>135.20532</td>\n",
       "    </tr>\n",
       "  </tbody>\n",
       "</table>\n",
       "</div>"
      ],
      "text/plain": [
       "             NN  travel_time_to_closest_facility\n",
       "0  4.202418e+09                        343.20726\n",
       "1  2.080926e+09                        289.75608\n",
       "2  4.709277e+09                        604.38702\n",
       "3  4.202528e+09                        158.40228\n",
       "4  4.202528e+09                        135.20532"
      ]
     },
     "execution_count": 268,
     "metadata": {},
     "output_type": "execute_result"
    }
   ],
   "source": [
    "results[:5]"
   ]
  },
  {
   "cell_type": "code",
   "execution_count": 269,
   "metadata": {},
   "outputs": [],
   "source": [
    "output = pd.merge(output, results, on=\"NN\")"
   ]
  },
  {
   "cell_type": "code",
   "execution_count": 270,
   "metadata": {},
   "outputs": [],
   "source": [
    "# Save baseline results\n",
    "output.to_csv(os.path.join(outputFolder, \"tashkent_accessibility_schools.csv\"))"
   ]
  },
  {
   "cell_type": "markdown",
   "metadata": {},
   "source": [
    "# 2nd Analysis: Flooded scenario"
   ]
  },
  {
   "cell_type": "code",
   "execution_count": 271,
   "metadata": {},
   "outputs": [],
   "source": [
    "# import ssbn flood raster\n",
    "# The raster is a combined fluvial and pluvial flood raster where the pixel values represent the number of years in which a flood is projected to occur\n",
    "importlib.reload(gn)\n",
    "tif_path = r'/home/public/Data/COUNTRY/UZB/uzbekistan/CombinedFloodData/FU_PU_2_Combined.tif'\n",
    "if not os.path.exists(tif_path):\n",
    "    print('{} not found'.format(tif_path))\n",
    "    sys.exit()"
   ]
  },
  {
   "cell_type": "code",
   "execution_count": 272,
   "metadata": {},
   "outputs": [],
   "source": [
    "G = gn.sample_raster(G, tif_path, property_name = 'x_year_flood')"
   ]
  },
  {
   "cell_type": "code",
   "execution_count": 273,
   "metadata": {},
   "outputs": [
    {
     "name": "stdout",
     "output_type": "stream",
     "text": [
      "(5814616064, {'y': 41.3094792, 'x': 69.2900069, 'osmid': 5814616064, 'x_year_flood': 0})\n",
      "(1913651200, {'y': 41.2796871, 'x': 69.2610066, 'osmid': 1913651200, 'x_year_flood': 10})\n"
     ]
    }
   ],
   "source": [
    "gn.example_node(G, 2)"
   ]
  },
  {
   "cell_type": "markdown",
   "metadata": {},
   "source": [
    "### do some checks"
   ]
  },
  {
   "cell_type": "code",
   "execution_count": 274,
   "metadata": {},
   "outputs": [
    {
     "name": "stdout",
     "output_type": "stream",
     "text": [
      "total number of nodes: 44122\n"
     ]
    }
   ],
   "source": [
    "G_node_gdf = gn.node_gdf_from_graph(G)\n",
    "print('total number of nodes: %d' % len(G_node_gdf))"
   ]
  },
  {
   "cell_type": "code",
   "execution_count": 275,
   "metadata": {},
   "outputs": [
    {
     "name": "stdout",
     "output_type": "stream",
     "text": [
      "number of nodes where flood depth positive: 4710\n"
     ]
    }
   ],
   "source": [
    "print('number of nodes where flood depth positive: %d' % len(G_node_gdf.loc[G_node_gdf.x_year_flood >= 250]))"
   ]
  },
  {
   "cell_type": "code",
   "execution_count": 276,
   "metadata": {},
   "outputs": [
    {
     "name": "stdout",
     "output_type": "stream",
     "text": [
      "number of nodes where flood depth positive: 3318\n"
     ]
    }
   ],
   "source": [
    "print('number of nodes where flood depth positive: %d' % len(G_node_gdf.loc[G_node_gdf.x_year_flood >= 500]))"
   ]
  },
  {
   "cell_type": "code",
   "execution_count": 277,
   "metadata": {},
   "outputs": [
    {
     "name": "stdout",
     "output_type": "stream",
     "text": [
      "0\n"
     ]
    }
   ],
   "source": [
    "# In cases where some nodes don't intersect the raster, solve this by setting flood_depth = 0 where this is the case\n",
    "i = 0\n",
    "for u, data in G.nodes(data = True):\n",
    "    if 'x_year_flood' not in data.keys():\n",
    "        data['x_year_flood'] = 0\n",
    "        i+=1\n",
    "print(i)"
   ]
  },
  {
   "cell_type": "markdown",
   "metadata": {},
   "source": [
    "## disrupt the network"
   ]
  },
  {
   "cell_type": "code",
   "execution_count": 278,
   "metadata": {},
   "outputs": [
    {
     "name": "stdout",
     "output_type": "stream",
     "text": [
      "nodes disrupted: 4710\n",
      "edges disrupted: 16964\n"
     ]
    }
   ],
   "source": [
    "cutoff_point_to_be_flooded = 249\n",
    "fail_value = 999999999999999\n",
    "G_flood = gn.disrupt_network(G, 'x_year_flood', cutoff_point_to_be_flooded, fail_value)"
   ]
  },
  {
   "cell_type": "code",
   "execution_count": 279,
   "metadata": {},
   "outputs": [],
   "source": [
    "#gn.example_node(G_flood, 2)"
   ]
  },
  {
   "cell_type": "code",
   "execution_count": 280,
   "metadata": {},
   "outputs": [],
   "source": [
    "#gn.example_edge(G_flood, 2)"
   ]
  },
  {
   "cell_type": "markdown",
   "metadata": {},
   "source": [
    "### Inaccessible population areas and inaccessible schools due to flooding should be removed from the inputs."
   ]
  },
  {
   "cell_type": "code",
   "execution_count": 281,
   "metadata": {},
   "outputs": [],
   "source": [
    "import rasterio \n",
    "\n",
    "# Open the raster and store metadata\n",
    "src = rasterio.open(tif_path)"
   ]
  },
  {
   "cell_type": "code",
   "execution_count": 282,
   "metadata": {},
   "outputs": [
    {
     "data": {
      "text/plain": [
       "9840"
      ]
     },
     "execution_count": 282,
     "metadata": {},
     "output_type": "execute_result"
    }
   ],
   "source": [
    "len(origins)"
   ]
  },
  {
   "cell_type": "code",
   "execution_count": 283,
   "metadata": {},
   "outputs": [],
   "source": [
    "origins_coords = [(x,y) for x, y in zip(origins.geometry.x, origins.geometry.y)]"
   ]
  },
  {
   "cell_type": "code",
   "execution_count": 284,
   "metadata": {},
   "outputs": [],
   "source": [
    "# Sample the raster at every point location and store values in DataFrame\n",
    "origins['raster_value'] = [x for x in src.sample(origins_coords)]"
   ]
  },
  {
   "cell_type": "code",
   "execution_count": 285,
   "metadata": {},
   "outputs": [],
   "source": [
    "#origins[:15]"
   ]
  },
  {
   "cell_type": "code",
   "execution_count": 286,
   "metadata": {},
   "outputs": [],
   "source": [
    "non_flooded_origins = origins[origins.raster_value < 250]"
   ]
  },
  {
   "cell_type": "code",
   "execution_count": 287,
   "metadata": {},
   "outputs": [
    {
     "data": {
      "text/plain": [
       "8743"
      ]
     },
     "execution_count": 287,
     "metadata": {},
     "output_type": "execute_result"
    }
   ],
   "source": [
    "len(non_flooded_origins)"
   ]
  },
  {
   "cell_type": "code",
   "execution_count": 288,
   "metadata": {},
   "outputs": [],
   "source": [
    "# convert destinations pandas to a geopandas dataframe\n",
    "destinations_gpd = gpd.GeoDataFrame(destinations, crs = \"epsg:4326\", geometry = 'geometry')"
   ]
  },
  {
   "cell_type": "code",
   "execution_count": 289,
   "metadata": {},
   "outputs": [
    {
     "data": {
      "text/plain": [
       "1474"
      ]
     },
     "execution_count": 289,
     "metadata": {},
     "output_type": "execute_result"
    }
   ],
   "source": [
    "len(destinations)"
   ]
  },
  {
   "cell_type": "code",
   "execution_count": 290,
   "metadata": {},
   "outputs": [],
   "source": [
    "destinations_coords = [(x,y) for x, y in zip(destinations_gpd.geometry.x, destinations_gpd.geometry.y)]"
   ]
  },
  {
   "cell_type": "code",
   "execution_count": 291,
   "metadata": {},
   "outputs": [],
   "source": [
    "destinations['raster_value'] = [x for x in src.sample(destinations_coords)]"
   ]
  },
  {
   "cell_type": "code",
   "execution_count": 292,
   "metadata": {},
   "outputs": [],
   "source": [
    "#destinations[:10]"
   ]
  },
  {
   "cell_type": "code",
   "execution_count": 293,
   "metadata": {},
   "outputs": [],
   "source": [
    "non_flooded_destinations = destinations[destinations.raster_value < 250]"
   ]
  },
  {
   "cell_type": "code",
   "execution_count": 294,
   "metadata": {},
   "outputs": [
    {
     "data": {
      "text/plain": [
       "1331"
      ]
     },
     "execution_count": 294,
     "metadata": {},
     "output_type": "execute_result"
    }
   ],
   "source": [
    "len(non_flooded_destinations)"
   ]
  },
  {
   "cell_type": "markdown",
   "metadata": {},
   "source": [
    "### snap the non-flooded origin and destination points to the disrupted flooded network"
   ]
  },
  {
   "cell_type": "code",
   "execution_count": 295,
   "metadata": {},
   "outputs": [],
   "source": [
    "# snap the origins to the road graph\n",
    "non_flooded_snapped_origins = gn.pandana_snap(G_flood, non_flooded_origins)"
   ]
  },
  {
   "cell_type": "code",
   "execution_count": 296,
   "metadata": {},
   "outputs": [],
   "source": [
    "non_flooded_originNodes = list(non_flooded_snapped_origins['NN'].unique())"
   ]
  },
  {
   "cell_type": "code",
   "execution_count": 297,
   "metadata": {},
   "outputs": [],
   "source": [
    "non_flooded_snapped_destinations = gn.pandana_snap(G_flood, non_flooded_destinations)"
   ]
  },
  {
   "cell_type": "code",
   "execution_count": 298,
   "metadata": {},
   "outputs": [],
   "source": [
    "non_flooded_destinationsNodes = list(non_flooded_snapped_destinations['NN'].unique())"
   ]
  },
  {
   "cell_type": "markdown",
   "metadata": {},
   "source": [
    "## calculate OD matrix on flooded network"
   ]
  },
  {
   "cell_type": "code",
   "execution_count": 299,
   "metadata": {},
   "outputs": [],
   "source": [
    "flooded_OD_matrix = gn.calculate_OD(G_flood, non_flooded_originNodes, non_flooded_destinationsNodes, fail_value, weight='time')"
   ]
  },
  {
   "cell_type": "code",
   "execution_count": 300,
   "metadata": {},
   "outputs": [],
   "source": [
    "# calculate accessibility\n",
    "# For each row, the closest facility is the smallest value in the row\n",
    "\n",
    "flooded_output = non_flooded_snapped_origins.copy()\n",
    "\n",
    "closest_facility_per_origin = flooded_OD_matrix.min(axis=1)\n",
    "\n",
    "results = pd.DataFrame([non_flooded_originNodes, closest_facility_per_origin]).transpose()\n",
    "colName = \"travel_time_to_closest_facility\"\n",
    "results.columns = ['NN', colName]"
   ]
  },
  {
   "cell_type": "code",
   "execution_count": 301,
   "metadata": {},
   "outputs": [],
   "source": [
    "flooded_output = pd.merge(flooded_output, results, on=\"NN\")"
   ]
  },
  {
   "cell_type": "code",
   "execution_count": 302,
   "metadata": {},
   "outputs": [
    {
     "data": {
      "text/plain": [
       "'../../../tashkent_output_folder'"
      ]
     },
     "execution_count": 302,
     "metadata": {},
     "output_type": "execute_result"
    }
   ],
   "source": [
    "outputFolder"
   ]
  },
  {
   "cell_type": "code",
   "execution_count": 303,
   "metadata": {},
   "outputs": [],
   "source": [
    "flooded_output.to_csv(os.path.join(outputFolder, \"tashkent_accessibility_schools_w_flooding.csv\"))"
   ]
  },
  {
   "cell_type": "markdown",
   "metadata": {},
   "source": [
    "### number of inaccessible schools due to flooding"
   ]
  },
  {
   "cell_type": "code",
   "execution_count": 304,
   "metadata": {},
   "outputs": [
    {
     "data": {
      "text/plain": [
       "143"
      ]
     },
     "execution_count": 304,
     "metadata": {},
     "output_type": "execute_result"
    }
   ],
   "source": [
    "len(destinations) - len(non_flooded_destinations)"
   ]
  },
  {
   "cell_type": "markdown",
   "metadata": {},
   "source": [
    "### number of inaccessible population pixels due to flooding"
   ]
  },
  {
   "cell_type": "code",
   "execution_count": 305,
   "metadata": {},
   "outputs": [
    {
     "data": {
      "text/plain": [
       "1097"
      ]
     },
     "execution_count": 305,
     "metadata": {},
     "output_type": "execute_result"
    }
   ],
   "source": [
    "len(origins) - len(non_flooded_origins)"
   ]
  },
  {
   "cell_type": "code",
   "execution_count": 306,
   "metadata": {},
   "outputs": [],
   "source": [
    "# compare median travel times between the flooded and non-flooded scenarios?"
   ]
  },
  {
   "cell_type": "code",
   "execution_count": 307,
   "metadata": {},
   "outputs": [
    {
     "data": {
      "text/html": [
       "<div>\n",
       "<style scoped>\n",
       "    .dataframe tbody tr th:only-of-type {\n",
       "        vertical-align: middle;\n",
       "    }\n",
       "\n",
       "    .dataframe tbody tr th {\n",
       "        vertical-align: top;\n",
       "    }\n",
       "\n",
       "    .dataframe thead th {\n",
       "        text-align: right;\n",
       "    }\n",
       "</style>\n",
       "<table border=\"1\" class=\"dataframe\">\n",
       "  <thead>\n",
       "    <tr style=\"text-align: right;\">\n",
       "      <th></th>\n",
       "      <th>VALUE</th>\n",
       "      <th>geometry</th>\n",
       "      <th>NN</th>\n",
       "      <th>NN_dist</th>\n",
       "      <th>travel_time_to_closest_facility</th>\n",
       "    </tr>\n",
       "  </thead>\n",
       "  <tbody>\n",
       "    <tr>\n",
       "      <th>0</th>\n",
       "      <td>44.999962</td>\n",
       "      <td>POINT (69.46213259147625 41.41965809229342)</td>\n",
       "      <td>4202418387</td>\n",
       "      <td>0.000498</td>\n",
       "      <td>343.20726</td>\n",
       "    </tr>\n",
       "    <tr>\n",
       "      <th>1</th>\n",
       "      <td>44.999962</td>\n",
       "      <td>POINT (69.4640241963923 41.41965809229342)</td>\n",
       "      <td>2080926193</td>\n",
       "      <td>0.000274</td>\n",
       "      <td>289.75608</td>\n",
       "    </tr>\n",
       "    <tr>\n",
       "      <th>2</th>\n",
       "      <td>33.067554</td>\n",
       "      <td>POINT (69.44889135706387 41.41398327754526)</td>\n",
       "      <td>4709277426</td>\n",
       "      <td>0.008251</td>\n",
       "      <td>604.38702</td>\n",
       "    </tr>\n",
       "    <tr>\n",
       "      <th>3</th>\n",
       "      <td>33.067554</td>\n",
       "      <td>POINT (69.45078296197993 41.41398327754526)</td>\n",
       "      <td>4202527651</td>\n",
       "      <td>0.009406</td>\n",
       "      <td>158.40228</td>\n",
       "    </tr>\n",
       "  </tbody>\n",
       "</table>\n",
       "</div>"
      ],
      "text/plain": [
       "       VALUE                                     geometry          NN  \\\n",
       "0  44.999962  POINT (69.46213259147625 41.41965809229342)  4202418387   \n",
       "1  44.999962   POINT (69.4640241963923 41.41965809229342)  2080926193   \n",
       "2  33.067554  POINT (69.44889135706387 41.41398327754526)  4709277426   \n",
       "3  33.067554  POINT (69.45078296197993 41.41398327754526)  4202527651   \n",
       "\n",
       "    NN_dist  travel_time_to_closest_facility  \n",
       "0  0.000498                        343.20726  \n",
       "1  0.000274                        289.75608  \n",
       "2  0.008251                        604.38702  \n",
       "3  0.009406                        158.40228  "
      ]
     },
     "execution_count": 307,
     "metadata": {},
     "output_type": "execute_result"
    }
   ],
   "source": [
    "output[:4]"
   ]
  },
  {
   "cell_type": "code",
   "execution_count": 308,
   "metadata": {},
   "outputs": [
    {
     "data": {
      "text/plain": [
       "9840"
      ]
     },
     "execution_count": 308,
     "metadata": {},
     "output_type": "execute_result"
    }
   ],
   "source": [
    "len(output)"
   ]
  },
  {
   "cell_type": "code",
   "execution_count": 309,
   "metadata": {},
   "outputs": [
    {
     "data": {
      "text/plain": [
       "122.28066346219512"
      ]
     },
     "execution_count": 309,
     "metadata": {},
     "output_type": "execute_result"
    }
   ],
   "source": [
    "output[\"travel_time_to_closest_facility\"].mean()"
   ]
  },
  {
   "cell_type": "code",
   "execution_count": 310,
   "metadata": {},
   "outputs": [
    {
     "data": {
      "text/plain": [
       "87.09863999999999"
      ]
     },
     "execution_count": 310,
     "metadata": {},
     "output_type": "execute_result"
    }
   ],
   "source": [
    "output[\"travel_time_to_closest_facility\"].median()"
   ]
  },
  {
   "cell_type": "code",
   "execution_count": 311,
   "metadata": {},
   "outputs": [
    {
     "data": {
      "text/html": [
       "<div>\n",
       "<style scoped>\n",
       "    .dataframe tbody tr th:only-of-type {\n",
       "        vertical-align: middle;\n",
       "    }\n",
       "\n",
       "    .dataframe tbody tr th {\n",
       "        vertical-align: top;\n",
       "    }\n",
       "\n",
       "    .dataframe thead th {\n",
       "        text-align: right;\n",
       "    }\n",
       "</style>\n",
       "<table border=\"1\" class=\"dataframe\">\n",
       "  <thead>\n",
       "    <tr style=\"text-align: right;\">\n",
       "      <th></th>\n",
       "      <th>VALUE</th>\n",
       "      <th>geometry</th>\n",
       "      <th>raster_value</th>\n",
       "      <th>NN</th>\n",
       "      <th>NN_dist</th>\n",
       "      <th>travel_time_to_closest_facility</th>\n",
       "    </tr>\n",
       "  </thead>\n",
       "  <tbody>\n",
       "    <tr>\n",
       "      <th>0</th>\n",
       "      <td>44.999962</td>\n",
       "      <td>POINT (69.46213259147625 41.41965809229342)</td>\n",
       "      <td>[0]</td>\n",
       "      <td>4202418387</td>\n",
       "      <td>0.000498</td>\n",
       "      <td>343.20726</td>\n",
       "    </tr>\n",
       "    <tr>\n",
       "      <th>1</th>\n",
       "      <td>44.999962</td>\n",
       "      <td>POINT (69.4640241963923 41.41965809229342)</td>\n",
       "      <td>[0]</td>\n",
       "      <td>2080926193</td>\n",
       "      <td>0.000274</td>\n",
       "      <td>289.75608</td>\n",
       "    </tr>\n",
       "    <tr>\n",
       "      <th>2</th>\n",
       "      <td>33.067554</td>\n",
       "      <td>POINT (69.44889135706387 41.41398327754526)</td>\n",
       "      <td>[0]</td>\n",
       "      <td>4709277426</td>\n",
       "      <td>0.008251</td>\n",
       "      <td>615.39606</td>\n",
       "    </tr>\n",
       "    <tr>\n",
       "      <th>3</th>\n",
       "      <td>33.067554</td>\n",
       "      <td>POINT (69.45078296197993 41.41398327754526)</td>\n",
       "      <td>[0]</td>\n",
       "      <td>4202527651</td>\n",
       "      <td>0.009406</td>\n",
       "      <td>158.40228</td>\n",
       "    </tr>\n",
       "  </tbody>\n",
       "</table>\n",
       "</div>"
      ],
      "text/plain": [
       "       VALUE                                     geometry raster_value  \\\n",
       "0  44.999962  POINT (69.46213259147625 41.41965809229342)          [0]   \n",
       "1  44.999962   POINT (69.4640241963923 41.41965809229342)          [0]   \n",
       "2  33.067554  POINT (69.44889135706387 41.41398327754526)          [0]   \n",
       "3  33.067554  POINT (69.45078296197993 41.41398327754526)          [0]   \n",
       "\n",
       "           NN   NN_dist  travel_time_to_closest_facility  \n",
       "0  4202418387  0.000498                        343.20726  \n",
       "1  2080926193  0.000274                        289.75608  \n",
       "2  4709277426  0.008251                        615.39606  \n",
       "3  4202527651  0.009406                        158.40228  "
      ]
     },
     "execution_count": 311,
     "metadata": {},
     "output_type": "execute_result"
    }
   ],
   "source": [
    "flooded_output[:4]"
   ]
  },
  {
   "cell_type": "code",
   "execution_count": 312,
   "metadata": {},
   "outputs": [
    {
     "data": {
      "text/plain": [
       "8743"
      ]
     },
     "execution_count": 312,
     "metadata": {},
     "output_type": "execute_result"
    }
   ],
   "source": [
    "len(flooded_output)"
   ]
  },
  {
   "cell_type": "code",
   "execution_count": 313,
   "metadata": {},
   "outputs": [
    {
     "data": {
      "text/plain": [
       "258835639940669.22"
      ]
     },
     "execution_count": 313,
     "metadata": {},
     "output_type": "execute_result"
    }
   ],
   "source": [
    "# the mean is probably high because there are probably some non-flooded origin points that are only connected to the disrupted part of the network\n",
    "flooded_output[\"travel_time_to_closest_facility\"].mean()"
   ]
  },
  {
   "cell_type": "code",
   "execution_count": 314,
   "metadata": {},
   "outputs": [
    {
     "data": {
      "text/plain": [
       "102.60095999999999"
      ]
     },
     "execution_count": 314,
     "metadata": {},
     "output_type": "execute_result"
    }
   ],
   "source": [
    "flooded_output[\"travel_time_to_closest_facility\"].median()"
   ]
  },
  {
   "cell_type": "markdown",
   "metadata": {},
   "source": [
    "### find number of disrupted trips"
   ]
  },
  {
   "cell_type": "code",
   "execution_count": 319,
   "metadata": {},
   "outputs": [
    {
     "data": {
      "text/html": [
       "<div>\n",
       "<style scoped>\n",
       "    .dataframe tbody tr th:only-of-type {\n",
       "        vertical-align: middle;\n",
       "    }\n",
       "\n",
       "    .dataframe tbody tr th {\n",
       "        vertical-align: top;\n",
       "    }\n",
       "\n",
       "    .dataframe thead th {\n",
       "        text-align: right;\n",
       "    }\n",
       "</style>\n",
       "<table border=\"1\" class=\"dataframe\">\n",
       "  <thead>\n",
       "    <tr style=\"text-align: right;\">\n",
       "      <th></th>\n",
       "      <th>VALUE</th>\n",
       "      <th>geometry</th>\n",
       "      <th>raster_value</th>\n",
       "      <th>NN</th>\n",
       "      <th>NN_dist</th>\n",
       "      <th>travel_time_to_closest_facility</th>\n",
       "    </tr>\n",
       "  </thead>\n",
       "  <tbody>\n",
       "    <tr>\n",
       "      <th>47</th>\n",
       "      <td>107.072479</td>\n",
       "      <td>POINT (69.44510814723176 41.40263364804893)</td>\n",
       "      <td>[0]</td>\n",
       "      <td>1132474310</td>\n",
       "      <td>0.000970</td>\n",
       "      <td>1.000000e+15</td>\n",
       "    </tr>\n",
       "    <tr>\n",
       "      <th>62</th>\n",
       "      <td>66.207108</td>\n",
       "      <td>POINT (69.43754172756755 41.40074204313288)</td>\n",
       "      <td>[75]</td>\n",
       "      <td>1132474410</td>\n",
       "      <td>0.000962</td>\n",
       "      <td>1.000000e+15</td>\n",
       "    </tr>\n",
       "    <tr>\n",
       "      <th>69</th>\n",
       "      <td>203.287064</td>\n",
       "      <td>POINT (69.4394333324836 41.39885043821683)</td>\n",
       "      <td>[0]</td>\n",
       "      <td>613616548</td>\n",
       "      <td>0.001581</td>\n",
       "      <td>1.000000e+15</td>\n",
       "    </tr>\n",
       "    <tr>\n",
       "      <th>72</th>\n",
       "      <td>117.675507</td>\n",
       "      <td>POINT (69.44510814723176 41.39885043821683)</td>\n",
       "      <td>[75]</td>\n",
       "      <td>4709281236</td>\n",
       "      <td>0.000706</td>\n",
       "      <td>2.000000e+15</td>\n",
       "    </tr>\n",
       "    <tr>\n",
       "      <th>73</th>\n",
       "      <td>117.675507</td>\n",
       "      <td>POINT (69.44699975214782 41.39885043821683)</td>\n",
       "      <td>[0]</td>\n",
       "      <td>4709281234</td>\n",
       "      <td>0.001162</td>\n",
       "      <td>2.000000e+15</td>\n",
       "    </tr>\n",
       "    <tr>\n",
       "      <th>75</th>\n",
       "      <td>36.181694</td>\n",
       "      <td>POINT (69.23703160646585 41.39695883330077)</td>\n",
       "      <td>[100]</td>\n",
       "      <td>4362293848</td>\n",
       "      <td>0.000740</td>\n",
       "      <td>4.000000e+15</td>\n",
       "    </tr>\n",
       "    <tr>\n",
       "      <th>76</th>\n",
       "      <td>165.872864</td>\n",
       "      <td>POINT (69.24459802613006 41.39695883330077)</td>\n",
       "      <td>[0]</td>\n",
       "      <td>1636175477</td>\n",
       "      <td>0.000392</td>\n",
       "      <td>7.000000e+15</td>\n",
       "    </tr>\n",
       "    <tr>\n",
       "      <th>77</th>\n",
       "      <td>161.814377</td>\n",
       "      <td>POINT (69.24648963104612 41.39695883330077)</td>\n",
       "      <td>[0]</td>\n",
       "      <td>1636175483</td>\n",
       "      <td>0.001008</td>\n",
       "      <td>7.000000e+15</td>\n",
       "    </tr>\n",
       "    <tr>\n",
       "      <th>79</th>\n",
       "      <td>269.273590</td>\n",
       "      <td>POINT (69.25405605071033 41.39695883330077)</td>\n",
       "      <td>[0]</td>\n",
       "      <td>1636182166</td>\n",
       "      <td>0.000384</td>\n",
       "      <td>1.000000e+15</td>\n",
       "    </tr>\n",
       "    <tr>\n",
       "      <th>90</th>\n",
       "      <td>27.626490</td>\n",
       "      <td>POINT (69.23703160646585 41.39506722838472)</td>\n",
       "      <td>[100]</td>\n",
       "      <td>4362293844</td>\n",
       "      <td>0.001279</td>\n",
       "      <td>3.000000e+15</td>\n",
       "    </tr>\n",
       "    <tr>\n",
       "      <th>92</th>\n",
       "      <td>86.922699</td>\n",
       "      <td>POINT (69.24459802613006 41.39506722838472)</td>\n",
       "      <td>[0]</td>\n",
       "      <td>1217359490</td>\n",
       "      <td>0.000393</td>\n",
       "      <td>2.000000e+15</td>\n",
       "    </tr>\n",
       "    <tr>\n",
       "      <th>93</th>\n",
       "      <td>204.226227</td>\n",
       "      <td>POINT (69.24648963104612 41.39506722838472)</td>\n",
       "      <td>[0]</td>\n",
       "      <td>1217359517</td>\n",
       "      <td>0.000549</td>\n",
       "      <td>6.000000e+15</td>\n",
       "    </tr>\n",
       "    <tr>\n",
       "      <th>108</th>\n",
       "      <td>93.510139</td>\n",
       "      <td>POINT (69.23324839663374 41.39317562346866)</td>\n",
       "      <td>[0]</td>\n",
       "      <td>4231227060</td>\n",
       "      <td>0.000207</td>\n",
       "      <td>1.000000e+15</td>\n",
       "    </tr>\n",
       "    <tr>\n",
       "      <th>113</th>\n",
       "      <td>274.379425</td>\n",
       "      <td>POINT (69.24459802613006 41.39317562346866)</td>\n",
       "      <td>[200]</td>\n",
       "      <td>1217359428</td>\n",
       "      <td>0.000390</td>\n",
       "      <td>1.000000e+15</td>\n",
       "    </tr>\n",
       "    <tr>\n",
       "      <th>117</th>\n",
       "      <td>271.790527</td>\n",
       "      <td>POINT (69.25405605071033 41.39317562346866)</td>\n",
       "      <td>[0]</td>\n",
       "      <td>1217359569</td>\n",
       "      <td>0.000644</td>\n",
       "      <td>1.000000e+15</td>\n",
       "    </tr>\n",
       "    <tr>\n",
       "      <th>125</th>\n",
       "      <td>272.222504</td>\n",
       "      <td>POINT (69.22568197696953 41.39128401855261)</td>\n",
       "      <td>[0]</td>\n",
       "      <td>1217182996</td>\n",
       "      <td>0.000502</td>\n",
       "      <td>2.000000e+15</td>\n",
       "    </tr>\n",
       "    <tr>\n",
       "      <th>126</th>\n",
       "      <td>187.155106</td>\n",
       "      <td>POINT (69.22757358188558 41.39128401855261)</td>\n",
       "      <td>[0]</td>\n",
       "      <td>367918205</td>\n",
       "      <td>0.000665</td>\n",
       "      <td>2.000000e+15</td>\n",
       "    </tr>\n",
       "    <tr>\n",
       "      <th>148</th>\n",
       "      <td>240.637741</td>\n",
       "      <td>POINT (69.22379037205347 41.38939241363656)</td>\n",
       "      <td>[200]</td>\n",
       "      <td>4082332466</td>\n",
       "      <td>0.000098</td>\n",
       "      <td>2.000000e+15</td>\n",
       "    </tr>\n",
       "    <tr>\n",
       "      <th>173</th>\n",
       "      <td>66.767586</td>\n",
       "      <td>POINT (69.21811555730531 41.3875008087205)</td>\n",
       "      <td>[100]</td>\n",
       "      <td>3421192101</td>\n",
       "      <td>0.000659</td>\n",
       "      <td>2.000000e+15</td>\n",
       "    </tr>\n",
       "    <tr>\n",
       "      <th>175</th>\n",
       "      <td>224.022949</td>\n",
       "      <td>POINT (69.22189876713742 41.3875008087205)</td>\n",
       "      <td>[100]</td>\n",
       "      <td>1217182985</td>\n",
       "      <td>0.000373</td>\n",
       "      <td>1.000000e+15</td>\n",
       "    </tr>\n",
       "    <tr>\n",
       "      <th>176</th>\n",
       "      <td>281.750305</td>\n",
       "      <td>POINT (69.22379037205347 41.3875008087205)</td>\n",
       "      <td>[0]</td>\n",
       "      <td>1217182981</td>\n",
       "      <td>0.000977</td>\n",
       "      <td>1.000000e+15</td>\n",
       "    </tr>\n",
       "    <tr>\n",
       "      <th>178</th>\n",
       "      <td>282.062561</td>\n",
       "      <td>POINT (69.22757358188558 41.3875008087205)</td>\n",
       "      <td>[0]</td>\n",
       "      <td>1623398565</td>\n",
       "      <td>0.001382</td>\n",
       "      <td>1.000000e+15</td>\n",
       "    </tr>\n",
       "    <tr>\n",
       "      <th>198</th>\n",
       "      <td>220.626694</td>\n",
       "      <td>POINT (69.26729728512271 41.3875008087205)</td>\n",
       "      <td>[0]</td>\n",
       "      <td>4356832216</td>\n",
       "      <td>0.000931</td>\n",
       "      <td>1.000000e+15</td>\n",
       "    </tr>\n",
       "    <tr>\n",
       "      <th>199</th>\n",
       "      <td>220.626694</td>\n",
       "      <td>POINT (69.26918889003876 41.3875008087205)</td>\n",
       "      <td>[0]</td>\n",
       "      <td>4356832217</td>\n",
       "      <td>0.000684</td>\n",
       "      <td>1.000000e+15</td>\n",
       "    </tr>\n",
       "    <tr>\n",
       "      <th>205</th>\n",
       "      <td>217.945969</td>\n",
       "      <td>POINT (69.21622395238926 41.38560920380445)</td>\n",
       "      <td>[0]</td>\n",
       "      <td>3421192098</td>\n",
       "      <td>0.000710</td>\n",
       "      <td>2.000000e+15</td>\n",
       "    </tr>\n",
       "    <tr>\n",
       "      <th>215</th>\n",
       "      <td>35.954151</td>\n",
       "      <td>POINT (69.23703160646585 41.38560920380445)</td>\n",
       "      <td>[0]</td>\n",
       "      <td>1633635530</td>\n",
       "      <td>0.001748</td>\n",
       "      <td>2.000000e+15</td>\n",
       "    </tr>\n",
       "    <tr>\n",
       "      <th>216</th>\n",
       "      <td>235.836380</td>\n",
       "      <td>POINT (69.23703160646585 41.3837175988884)</td>\n",
       "      <td>[0]</td>\n",
       "      <td>1633635530</td>\n",
       "      <td>0.000607</td>\n",
       "      <td>2.000000e+15</td>\n",
       "    </tr>\n",
       "    <tr>\n",
       "      <th>263</th>\n",
       "      <td>187.086639</td>\n",
       "      <td>POINT (69.26918889003876 41.3837175988884)</td>\n",
       "      <td>[100]</td>\n",
       "      <td>1217387774</td>\n",
       "      <td>0.000717</td>\n",
       "      <td>1.000000e+15</td>\n",
       "    </tr>\n",
       "    <tr>\n",
       "      <th>266</th>\n",
       "      <td>267.169708</td>\n",
       "      <td>POINT (69.27486370478692 41.3837175988884)</td>\n",
       "      <td>[0]</td>\n",
       "      <td>1636270091</td>\n",
       "      <td>0.000803</td>\n",
       "      <td>1.000000e+15</td>\n",
       "    </tr>\n",
       "    <tr>\n",
       "      <th>267</th>\n",
       "      <td>264.386932</td>\n",
       "      <td>POINT (69.27675530970298 41.3837175988884)</td>\n",
       "      <td>[0]</td>\n",
       "      <td>1217387949</td>\n",
       "      <td>0.001000</td>\n",
       "      <td>1.000000e+15</td>\n",
       "    </tr>\n",
       "    <tr>\n",
       "      <th>...</th>\n",
       "      <td>...</td>\n",
       "      <td>...</td>\n",
       "      <td>...</td>\n",
       "      <td>...</td>\n",
       "      <td>...</td>\n",
       "      <td>...</td>\n",
       "    </tr>\n",
       "    <tr>\n",
       "      <th>8603</th>\n",
       "      <td>5108.762207</td>\n",
       "      <td>POINT (69.24459802613006 41.18888229253486)</td>\n",
       "      <td>[0]</td>\n",
       "      <td>4420114498</td>\n",
       "      <td>0.003335</td>\n",
       "      <td>2.000000e+15</td>\n",
       "    </tr>\n",
       "    <tr>\n",
       "      <th>8604</th>\n",
       "      <td>5080.753906</td>\n",
       "      <td>POINT (69.25027284087822 41.19077389745091)</td>\n",
       "      <td>[0]</td>\n",
       "      <td>1188856807</td>\n",
       "      <td>0.001518</td>\n",
       "      <td>1.000000e+15</td>\n",
       "    </tr>\n",
       "    <tr>\n",
       "      <th>8605</th>\n",
       "      <td>4757.452148</td>\n",
       "      <td>POINT (69.24838123596217 41.18888229253486)</td>\n",
       "      <td>[0]</td>\n",
       "      <td>1188856807</td>\n",
       "      <td>0.001814</td>\n",
       "      <td>1.000000e+15</td>\n",
       "    </tr>\n",
       "    <tr>\n",
       "      <th>8606</th>\n",
       "      <td>4757.452148</td>\n",
       "      <td>POINT (69.25027284087822 41.18888229253486)</td>\n",
       "      <td>[0]</td>\n",
       "      <td>1188856807</td>\n",
       "      <td>0.000396</td>\n",
       "      <td>1.000000e+15</td>\n",
       "    </tr>\n",
       "    <tr>\n",
       "      <th>8607</th>\n",
       "      <td>2211.417236</td>\n",
       "      <td>POINT (69.25216444579428 41.18888229253486)</td>\n",
       "      <td>[5]</td>\n",
       "      <td>1188856807</td>\n",
       "      <td>0.002044</td>\n",
       "      <td>1.000000e+15</td>\n",
       "    </tr>\n",
       "    <tr>\n",
       "      <th>8616</th>\n",
       "      <td>2953.197266</td>\n",
       "      <td>POINT (69.2105491376411 41.18888229253486)</td>\n",
       "      <td>[0]</td>\n",
       "      <td>2176765607</td>\n",
       "      <td>0.001239</td>\n",
       "      <td>3.000000e+15</td>\n",
       "    </tr>\n",
       "    <tr>\n",
       "      <th>8617</th>\n",
       "      <td>4816.524902</td>\n",
       "      <td>POINT (69.21244074255715 41.18888229253486)</td>\n",
       "      <td>[0]</td>\n",
       "      <td>6401615817</td>\n",
       "      <td>0.000736</td>\n",
       "      <td>1.000000e+15</td>\n",
       "    </tr>\n",
       "    <tr>\n",
       "      <th>8619</th>\n",
       "      <td>2789.132324</td>\n",
       "      <td>POINT (69.23514000154979 41.18888229253486)</td>\n",
       "      <td>[0]</td>\n",
       "      <td>2176765619</td>\n",
       "      <td>0.000847</td>\n",
       "      <td>2.000000e+15</td>\n",
       "    </tr>\n",
       "    <tr>\n",
       "      <th>8620</th>\n",
       "      <td>3088.124756</td>\n",
       "      <td>POINT (69.23703160646585 41.18888229253486)</td>\n",
       "      <td>[100]</td>\n",
       "      <td>2176765619</td>\n",
       "      <td>0.001086</td>\n",
       "      <td>2.000000e+15</td>\n",
       "    </tr>\n",
       "    <tr>\n",
       "      <th>8621</th>\n",
       "      <td>5108.762207</td>\n",
       "      <td>POINT (69.24081481629796 41.18888229253486)</td>\n",
       "      <td>[0]</td>\n",
       "      <td>1188853315</td>\n",
       "      <td>0.002248</td>\n",
       "      <td>1.000000e+15</td>\n",
       "    </tr>\n",
       "    <tr>\n",
       "      <th>8634</th>\n",
       "      <td>2214.847168</td>\n",
       "      <td>POINT (69.23514000154979 41.1869906876188)</td>\n",
       "      <td>[0]</td>\n",
       "      <td>1188854526</td>\n",
       "      <td>0.001828</td>\n",
       "      <td>2.000000e+15</td>\n",
       "    </tr>\n",
       "    <tr>\n",
       "      <th>8637</th>\n",
       "      <td>5108.762207</td>\n",
       "      <td>POINT (69.24081481629796 41.1869906876188)</td>\n",
       "      <td>[0]</td>\n",
       "      <td>4634046961</td>\n",
       "      <td>0.002498</td>\n",
       "      <td>2.000000e+15</td>\n",
       "    </tr>\n",
       "    <tr>\n",
       "      <th>8638</th>\n",
       "      <td>5108.762207</td>\n",
       "      <td>POINT (69.24081481629796 41.18509908270275)</td>\n",
       "      <td>[0]</td>\n",
       "      <td>4634046961</td>\n",
       "      <td>0.001289</td>\n",
       "      <td>2.000000e+15</td>\n",
       "    </tr>\n",
       "    <tr>\n",
       "      <th>8639</th>\n",
       "      <td>5005.211426</td>\n",
       "      <td>POINT (69.2389232113819 41.18320747778669)</td>\n",
       "      <td>[0]</td>\n",
       "      <td>4634046961</td>\n",
       "      <td>0.001745</td>\n",
       "      <td>2.000000e+15</td>\n",
       "    </tr>\n",
       "    <tr>\n",
       "      <th>8646</th>\n",
       "      <td>2392.270508</td>\n",
       "      <td>POINT (69.25027284087822 41.1869906876188)</td>\n",
       "      <td>[50]</td>\n",
       "      <td>4420217129</td>\n",
       "      <td>0.001843</td>\n",
       "      <td>1.000000e+15</td>\n",
       "    </tr>\n",
       "    <tr>\n",
       "      <th>8647</th>\n",
       "      <td>2392.270508</td>\n",
       "      <td>POINT (69.25216444579428 41.1869906876188)</td>\n",
       "      <td>[0]</td>\n",
       "      <td>4420217129</td>\n",
       "      <td>0.000458</td>\n",
       "      <td>1.000000e+15</td>\n",
       "    </tr>\n",
       "    <tr>\n",
       "      <th>8648</th>\n",
       "      <td>2917.447510</td>\n",
       "      <td>POINT (69.25027284087822 41.18509908270275)</td>\n",
       "      <td>[0]</td>\n",
       "      <td>4420217129</td>\n",
       "      <td>0.002299</td>\n",
       "      <td>1.000000e+15</td>\n",
       "    </tr>\n",
       "    <tr>\n",
       "      <th>8652</th>\n",
       "      <td>5108.762207</td>\n",
       "      <td>POINT (69.23703160646585 41.18509908270275)</td>\n",
       "      <td>[20]</td>\n",
       "      <td>4634046962</td>\n",
       "      <td>0.001307</td>\n",
       "      <td>1.000000e+15</td>\n",
       "    </tr>\n",
       "    <tr>\n",
       "      <th>8653</th>\n",
       "      <td>5108.762207</td>\n",
       "      <td>POINT (69.2389232113819 41.18509908270275)</td>\n",
       "      <td>[0]</td>\n",
       "      <td>4634046962</td>\n",
       "      <td>0.000652</td>\n",
       "      <td>1.000000e+15</td>\n",
       "    </tr>\n",
       "    <tr>\n",
       "      <th>8654</th>\n",
       "      <td>4975.648438</td>\n",
       "      <td>POINT (69.23703160646585 41.18320747778669)</td>\n",
       "      <td>[100]</td>\n",
       "      <td>4634046962</td>\n",
       "      <td>0.002093</td>\n",
       "      <td>1.000000e+15</td>\n",
       "    </tr>\n",
       "    <tr>\n",
       "      <th>8655</th>\n",
       "      <td>4961.020996</td>\n",
       "      <td>POINT (69.23703160646585 41.18131587287064)</td>\n",
       "      <td>[0]</td>\n",
       "      <td>4634046962</td>\n",
       "      <td>0.003769</td>\n",
       "      <td>1.000000e+15</td>\n",
       "    </tr>\n",
       "    <tr>\n",
       "      <th>8673</th>\n",
       "      <td>4961.020996</td>\n",
       "      <td>POINT (69.2389232113819 41.18131587287064)</td>\n",
       "      <td>[0]</td>\n",
       "      <td>4420205976</td>\n",
       "      <td>0.003233</td>\n",
       "      <td>2.000000e+15</td>\n",
       "    </tr>\n",
       "    <tr>\n",
       "      <th>8674</th>\n",
       "      <td>2154.936768</td>\n",
       "      <td>POINT (69.24081481629796 41.18131587287064)</td>\n",
       "      <td>[200]</td>\n",
       "      <td>4420205976</td>\n",
       "      <td>0.001688</td>\n",
       "      <td>2.000000e+15</td>\n",
       "    </tr>\n",
       "    <tr>\n",
       "      <th>8675</th>\n",
       "      <td>2154.936768</td>\n",
       "      <td>POINT (69.24270642121401 41.18131587287064)</td>\n",
       "      <td>[0]</td>\n",
       "      <td>4420205976</td>\n",
       "      <td>0.001551</td>\n",
       "      <td>2.000000e+15</td>\n",
       "    </tr>\n",
       "    <tr>\n",
       "      <th>8676</th>\n",
       "      <td>1642.601196</td>\n",
       "      <td>POINT (69.24459802613006 41.18131587287064)</td>\n",
       "      <td>[200]</td>\n",
       "      <td>4420205976</td>\n",
       "      <td>0.003020</td>\n",
       "      <td>2.000000e+15</td>\n",
       "    </tr>\n",
       "    <tr>\n",
       "      <th>8713</th>\n",
       "      <td>3931.842773</td>\n",
       "      <td>POINT (69.23514000154979 41.17753266303853)</td>\n",
       "      <td>[0]</td>\n",
       "      <td>1671600092</td>\n",
       "      <td>0.000826</td>\n",
       "      <td>1.000000e+15</td>\n",
       "    </tr>\n",
       "    <tr>\n",
       "      <th>8728</th>\n",
       "      <td>114.697571</td>\n",
       "      <td>POINT (69.25594765562639 41.17564105812248)</td>\n",
       "      <td>[0]</td>\n",
       "      <td>4420323713</td>\n",
       "      <td>0.000646</td>\n",
       "      <td>3.000000e+15</td>\n",
       "    </tr>\n",
       "    <tr>\n",
       "      <th>8730</th>\n",
       "      <td>2083.684082</td>\n",
       "      <td>POINT (69.23324839663374 41.17374945320643)</td>\n",
       "      <td>[50]</td>\n",
       "      <td>3184562842</td>\n",
       "      <td>0.001942</td>\n",
       "      <td>1.000000e+15</td>\n",
       "    </tr>\n",
       "    <tr>\n",
       "      <th>8741</th>\n",
       "      <td>1038.508545</td>\n",
       "      <td>POINT (69.24648963104612 41.17185784829037)</td>\n",
       "      <td>[0]</td>\n",
       "      <td>573243943</td>\n",
       "      <td>0.002330</td>\n",
       "      <td>1.000000e+15</td>\n",
       "    </tr>\n",
       "    <tr>\n",
       "      <th>8742</th>\n",
       "      <td>824.149475</td>\n",
       "      <td>POINT (69.25783926054244 41.17185784829037)</td>\n",
       "      <td>[0]</td>\n",
       "      <td>4420323709</td>\n",
       "      <td>0.001497</td>\n",
       "      <td>4.000000e+15</td>\n",
       "    </tr>\n",
       "  </tbody>\n",
       "</table>\n",
       "<p>1008 rows × 6 columns</p>\n",
       "</div>"
      ],
      "text/plain": [
       "            VALUE                                     geometry raster_value  \\\n",
       "47     107.072479  POINT (69.44510814723176 41.40263364804893)          [0]   \n",
       "62      66.207108  POINT (69.43754172756755 41.40074204313288)         [75]   \n",
       "69     203.287064   POINT (69.4394333324836 41.39885043821683)          [0]   \n",
       "72     117.675507  POINT (69.44510814723176 41.39885043821683)         [75]   \n",
       "73     117.675507  POINT (69.44699975214782 41.39885043821683)          [0]   \n",
       "75      36.181694  POINT (69.23703160646585 41.39695883330077)        [100]   \n",
       "76     165.872864  POINT (69.24459802613006 41.39695883330077)          [0]   \n",
       "77     161.814377  POINT (69.24648963104612 41.39695883330077)          [0]   \n",
       "79     269.273590  POINT (69.25405605071033 41.39695883330077)          [0]   \n",
       "90      27.626490  POINT (69.23703160646585 41.39506722838472)        [100]   \n",
       "92      86.922699  POINT (69.24459802613006 41.39506722838472)          [0]   \n",
       "93     204.226227  POINT (69.24648963104612 41.39506722838472)          [0]   \n",
       "108     93.510139  POINT (69.23324839663374 41.39317562346866)          [0]   \n",
       "113    274.379425  POINT (69.24459802613006 41.39317562346866)        [200]   \n",
       "117    271.790527  POINT (69.25405605071033 41.39317562346866)          [0]   \n",
       "125    272.222504  POINT (69.22568197696953 41.39128401855261)          [0]   \n",
       "126    187.155106  POINT (69.22757358188558 41.39128401855261)          [0]   \n",
       "148    240.637741  POINT (69.22379037205347 41.38939241363656)        [200]   \n",
       "173     66.767586   POINT (69.21811555730531 41.3875008087205)        [100]   \n",
       "175    224.022949   POINT (69.22189876713742 41.3875008087205)        [100]   \n",
       "176    281.750305   POINT (69.22379037205347 41.3875008087205)          [0]   \n",
       "178    282.062561   POINT (69.22757358188558 41.3875008087205)          [0]   \n",
       "198    220.626694   POINT (69.26729728512271 41.3875008087205)          [0]   \n",
       "199    220.626694   POINT (69.26918889003876 41.3875008087205)          [0]   \n",
       "205    217.945969  POINT (69.21622395238926 41.38560920380445)          [0]   \n",
       "215     35.954151  POINT (69.23703160646585 41.38560920380445)          [0]   \n",
       "216    235.836380   POINT (69.23703160646585 41.3837175988884)          [0]   \n",
       "263    187.086639   POINT (69.26918889003876 41.3837175988884)        [100]   \n",
       "266    267.169708   POINT (69.27486370478692 41.3837175988884)          [0]   \n",
       "267    264.386932   POINT (69.27675530970298 41.3837175988884)          [0]   \n",
       "...           ...                                          ...          ...   \n",
       "8603  5108.762207  POINT (69.24459802613006 41.18888229253486)          [0]   \n",
       "8604  5080.753906  POINT (69.25027284087822 41.19077389745091)          [0]   \n",
       "8605  4757.452148  POINT (69.24838123596217 41.18888229253486)          [0]   \n",
       "8606  4757.452148  POINT (69.25027284087822 41.18888229253486)          [0]   \n",
       "8607  2211.417236  POINT (69.25216444579428 41.18888229253486)          [5]   \n",
       "8616  2953.197266   POINT (69.2105491376411 41.18888229253486)          [0]   \n",
       "8617  4816.524902  POINT (69.21244074255715 41.18888229253486)          [0]   \n",
       "8619  2789.132324  POINT (69.23514000154979 41.18888229253486)          [0]   \n",
       "8620  3088.124756  POINT (69.23703160646585 41.18888229253486)        [100]   \n",
       "8621  5108.762207  POINT (69.24081481629796 41.18888229253486)          [0]   \n",
       "8634  2214.847168   POINT (69.23514000154979 41.1869906876188)          [0]   \n",
       "8637  5108.762207   POINT (69.24081481629796 41.1869906876188)          [0]   \n",
       "8638  5108.762207  POINT (69.24081481629796 41.18509908270275)          [0]   \n",
       "8639  5005.211426   POINT (69.2389232113819 41.18320747778669)          [0]   \n",
       "8646  2392.270508   POINT (69.25027284087822 41.1869906876188)         [50]   \n",
       "8647  2392.270508   POINT (69.25216444579428 41.1869906876188)          [0]   \n",
       "8648  2917.447510  POINT (69.25027284087822 41.18509908270275)          [0]   \n",
       "8652  5108.762207  POINT (69.23703160646585 41.18509908270275)         [20]   \n",
       "8653  5108.762207   POINT (69.2389232113819 41.18509908270275)          [0]   \n",
       "8654  4975.648438  POINT (69.23703160646585 41.18320747778669)        [100]   \n",
       "8655  4961.020996  POINT (69.23703160646585 41.18131587287064)          [0]   \n",
       "8673  4961.020996   POINT (69.2389232113819 41.18131587287064)          [0]   \n",
       "8674  2154.936768  POINT (69.24081481629796 41.18131587287064)        [200]   \n",
       "8675  2154.936768  POINT (69.24270642121401 41.18131587287064)          [0]   \n",
       "8676  1642.601196  POINT (69.24459802613006 41.18131587287064)        [200]   \n",
       "8713  3931.842773  POINT (69.23514000154979 41.17753266303853)          [0]   \n",
       "8728   114.697571  POINT (69.25594765562639 41.17564105812248)          [0]   \n",
       "8730  2083.684082  POINT (69.23324839663374 41.17374945320643)         [50]   \n",
       "8741  1038.508545  POINT (69.24648963104612 41.17185784829037)          [0]   \n",
       "8742   824.149475  POINT (69.25783926054244 41.17185784829037)          [0]   \n",
       "\n",
       "              NN   NN_dist  travel_time_to_closest_facility  \n",
       "47    1132474310  0.000970                     1.000000e+15  \n",
       "62    1132474410  0.000962                     1.000000e+15  \n",
       "69     613616548  0.001581                     1.000000e+15  \n",
       "72    4709281236  0.000706                     2.000000e+15  \n",
       "73    4709281234  0.001162                     2.000000e+15  \n",
       "75    4362293848  0.000740                     4.000000e+15  \n",
       "76    1636175477  0.000392                     7.000000e+15  \n",
       "77    1636175483  0.001008                     7.000000e+15  \n",
       "79    1636182166  0.000384                     1.000000e+15  \n",
       "90    4362293844  0.001279                     3.000000e+15  \n",
       "92    1217359490  0.000393                     2.000000e+15  \n",
       "93    1217359517  0.000549                     6.000000e+15  \n",
       "108   4231227060  0.000207                     1.000000e+15  \n",
       "113   1217359428  0.000390                     1.000000e+15  \n",
       "117   1217359569  0.000644                     1.000000e+15  \n",
       "125   1217182996  0.000502                     2.000000e+15  \n",
       "126    367918205  0.000665                     2.000000e+15  \n",
       "148   4082332466  0.000098                     2.000000e+15  \n",
       "173   3421192101  0.000659                     2.000000e+15  \n",
       "175   1217182985  0.000373                     1.000000e+15  \n",
       "176   1217182981  0.000977                     1.000000e+15  \n",
       "178   1623398565  0.001382                     1.000000e+15  \n",
       "198   4356832216  0.000931                     1.000000e+15  \n",
       "199   4356832217  0.000684                     1.000000e+15  \n",
       "205   3421192098  0.000710                     2.000000e+15  \n",
       "215   1633635530  0.001748                     2.000000e+15  \n",
       "216   1633635530  0.000607                     2.000000e+15  \n",
       "263   1217387774  0.000717                     1.000000e+15  \n",
       "266   1636270091  0.000803                     1.000000e+15  \n",
       "267   1217387949  0.001000                     1.000000e+15  \n",
       "...          ...       ...                              ...  \n",
       "8603  4420114498  0.003335                     2.000000e+15  \n",
       "8604  1188856807  0.001518                     1.000000e+15  \n",
       "8605  1188856807  0.001814                     1.000000e+15  \n",
       "8606  1188856807  0.000396                     1.000000e+15  \n",
       "8607  1188856807  0.002044                     1.000000e+15  \n",
       "8616  2176765607  0.001239                     3.000000e+15  \n",
       "8617  6401615817  0.000736                     1.000000e+15  \n",
       "8619  2176765619  0.000847                     2.000000e+15  \n",
       "8620  2176765619  0.001086                     2.000000e+15  \n",
       "8621  1188853315  0.002248                     1.000000e+15  \n",
       "8634  1188854526  0.001828                     2.000000e+15  \n",
       "8637  4634046961  0.002498                     2.000000e+15  \n",
       "8638  4634046961  0.001289                     2.000000e+15  \n",
       "8639  4634046961  0.001745                     2.000000e+15  \n",
       "8646  4420217129  0.001843                     1.000000e+15  \n",
       "8647  4420217129  0.000458                     1.000000e+15  \n",
       "8648  4420217129  0.002299                     1.000000e+15  \n",
       "8652  4634046962  0.001307                     1.000000e+15  \n",
       "8653  4634046962  0.000652                     1.000000e+15  \n",
       "8654  4634046962  0.002093                     1.000000e+15  \n",
       "8655  4634046962  0.003769                     1.000000e+15  \n",
       "8673  4420205976  0.003233                     2.000000e+15  \n",
       "8674  4420205976  0.001688                     2.000000e+15  \n",
       "8675  4420205976  0.001551                     2.000000e+15  \n",
       "8676  4420205976  0.003020                     2.000000e+15  \n",
       "8713  1671600092  0.000826                     1.000000e+15  \n",
       "8728  4420323713  0.000646                     3.000000e+15  \n",
       "8730  3184562842  0.001942                     1.000000e+15  \n",
       "8741   573243943  0.002330                     1.000000e+15  \n",
       "8742  4420323709  0.001497                     4.000000e+15  \n",
       "\n",
       "[1008 rows x 6 columns]"
      ]
     },
     "execution_count": 319,
     "metadata": {},
     "output_type": "execute_result"
    }
   ],
   "source": [
    "#flooded_output[flooded_output.travel_time_to_closest_facility > fail_value-1]"
   ]
  },
  {
   "cell_type": "code",
   "execution_count": null,
   "metadata": {},
   "outputs": [],
   "source": []
  }
 ],
 "metadata": {
  "kernelspec": {
   "display_name": "templateA",
   "language": "python",
   "name": "templatea"
  }
 },
 "nbformat": 4,
 "nbformat_minor": 2
}
