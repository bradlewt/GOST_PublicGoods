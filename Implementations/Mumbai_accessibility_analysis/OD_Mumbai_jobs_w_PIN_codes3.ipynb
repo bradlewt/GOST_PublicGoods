{
 "cells": [
  {
   "cell_type": "markdown",
   "metadata": {},
   "source": [
    "# Mumbai Travel time and accessibility analysis\n",
    "\n",
    "We have data for 3,020 unique ids. **note: the original dataset had 3,135 rows but 115 of them did not have a PIN code for the work destination.** The dataset is named \"2019 08 14 Jobs Data from Module 9\". \n",
    "\n",
    "In addition the first two columns were combined in order to create unique ids. Each id represents a respondent in the survey who commutes to work. \n",
    "\n",
    "We are primarily looking to do two kinds of analysis. For both of the analyses described below, we will calculate accessibility according to three modes of transit:\n",
    "1. OSM road network driving with standard road classes\n",
    "2. Rail network (known) with walking to the rail station\n",
    "3. A combined rail and road network with the option of taking both forms of transportation\n",
    " \n",
    "First, identify the households which have individual work places identified by PIN code (There are 107 PIN codes), and calculate their travel time. The second analysis is for every geocoded household, calculate job accessibilitiy indices.\n",
    "\n",
    "1. Distance from residence to work place; estimated travel time (analysis 1)\n",
    "          a. Calculate distance from house to workplace using (i) road network; (ii) rail network \n",
    "          b. Calculate travel time via road network and rail network\n",
    "          c. Calculate travel time via walking\n",
    "          d. Calculate Euclidean distance from house to workplace for each worker \n",
    "\n",
    "**note that not all the households could be matched to PIN codes, for example, there is no 400000 PIN code in the dataset.**\n",
    "\n",
    "2. Index of employment accessibility (analysis 2)\n",
    "          a. In addition to the information in 2., we have information on employment, by gender and industry for 99 Sections of Mumbai.\n",
    "          b. We would like to combine this information with household location information from the survey to calculate an index of employment accessibility (separate index for men and women) for each household in the sample. The index would measure number of jobs accessible based on a weighted gravity model. \n",
    "          c. We are also calculating the number of jobs accessible per household based on three travel windows (30 min, 60 min, and 90 min).\n",
    "\n",
    "\n",
    "### The parameters are used in our model:\n",
    "\n",
    "- metroSpeed = 35 #kph\n",
    "- railSpeed = 40 #kph\n",
    "- station_wait = 30 #seconds\n",
    "- walk_speed = 5 #kph"
   ]
  },
  {
   "cell_type": "markdown",
   "metadata": {},
   "source": [
    "## import libraries"
   ]
  },
  {
   "cell_type": "code",
   "execution_count": 141,
   "metadata": {},
   "outputs": [],
   "source": [
    "import sys, os, inspect, logging, importlib\n",
    "\n",
    "import geopandas as gpd\n",
    "import pandas as pd\n",
    "import numpy as np\n",
    "import osmnx as ox\n",
    "import networkx as nx\n",
    "from shapely.ops import split, unary_union\n",
    "from shapely.geometry import box, Point\n",
    "\n",
    "import matplotlib.pyplot as plt"
   ]
  },
  {
   "cell_type": "code",
   "execution_count": 142,
   "metadata": {},
   "outputs": [],
   "source": [
    "# Get reference to GOSTNets\n",
    "sys.path.append(r'/home/vagrant/repos/GOST_PublicGoods/')\n",
    "from Market_Access import OSMNX_POIs"
   ]
  },
  {
   "cell_type": "code",
   "execution_count": 143,
   "metadata": {},
   "outputs": [],
   "source": [
    "sys.path.append(r'/home/vagrant/repos/GOST_PublicGoods/GOSTNets/GOSTNets')\n",
    "import GOSTnet as gn"
   ]
  },
  {
   "cell_type": "code",
   "execution_count": 144,
   "metadata": {},
   "outputs": [],
   "source": [
    "# Get reference to GOSTRocks\n",
    "sys.path.append(r'/media/sf_data')\n",
    "from GOSTRocks import misc\n",
    "from GOSTRocks import osmMisc\n",
    "urbanParams = misc.getUrbanParams()"
   ]
  },
  {
   "cell_type": "code",
   "execution_count": 145,
   "metadata": {},
   "outputs": [],
   "source": [
    "# Define input data and create a number of output datasets if they do not yet exist\n",
    "inputFolder = r'/media/sf_data/Mumbai_OD'\n",
    "\n",
    "inHouseholds = os.path.join(inputFolder, \"_new_data\", \"2019_08_14_households_and_destinations_reformatted3.csv\")\n",
    "\n",
    "# not using employment by section data for for analysis 1\n",
    "inJobDefinition = os.path.join(inputFolder, \"employment by section.csv\")\n",
    "inJobs_by_section = os.path.join(inputFolder, \"GOST_Data\", \"revised_data/greater_mumbai_merged.shp\")\n",
    "inJobs = os.path.join(inputFolder, \"_new_data\", \"mumbai_pin_codes/mumbai_pin_codes.shp\")\n",
    "\n",
    "inputRailways = os.path.join(inputFolder, 'GOST_Data', \"revised_data/Mumbai_Railway_MANUAL_43N/Mumbai_Railway_MANUAL_43N.shp\")\n",
    "inputRailstops = os.path.join(inputFolder, 'GOST_Data', \"revised_data/Mumbai_Railway_stations_MANUAL2/Mumbai_Railway_stations_MANUAL.shp\")\n",
    "\n",
    "# Read in the Section admin boundaries and extract the centroids\n",
    "inJ_by_section = gpd.read_file(inJobs_by_section)\n",
    "inJD_by_section = pd.read_csv(inJobDefinition)\n",
    "inJ_by_section = pd.merge(inJ_by_section, inJD_by_section, left_on=\"WARD_NO\", right_on=\"section\")\n",
    "inJ_cen_by_section = inJ_by_section.copy()\n",
    "inJ_cen_by_section['geometry'] = inJ_cen_by_section.centroid\n",
    "\n",
    "# Read in the PIN admin boundaries and extract the centroids\n",
    "inJ_by_pin = gpd.read_file(inJobs)\n",
    "inJ_cen_by_pin = inJ_by_pin.copy()\n",
    "inJ_cen_by_pin['geometry'] = inJ_cen_by_pin.centroid\n",
    "\n",
    "outputFolder = os.path.join(inputFolder, \"GOST_Data\")\n",
    "if not os.path.exists(outputFolder):\n",
    "    os.makedirs(outputFolder)\n",
    "\n",
    "outRoads = os.path.join(outputFolder, \"OSM_Roads.csv\")\n",
    "outGraph = os.path.join(outputFolder, \"OSM_Roads.pickle\")\n",
    "outRailGraph = os.path.join(outputFolder, \"OSM_Rail.pickle\")\n",
    "outComboGraph = os.path.join(outputFolder, \"OSM_Combo.pickle\")"
   ]
  },
  {
   "cell_type": "code",
   "execution_count": 146,
   "metadata": {},
   "outputs": [],
   "source": [
    "# original speed dict\n",
    "speed_dict = {\n",
    "               'residential': 20,  # kmph\n",
    "               'primary': 40, # kmph\n",
    "               'primary_link':35,\n",
    "               'motorway':50,\n",
    "               'motorway_link': 45,\n",
    "               'trunk': 40,\n",
    "               'trunk_link':35,\n",
    "               'secondary': 30,\n",
    "               'secondary_link':25,\n",
    "               'tertiary':30,\n",
    "               'tertiary_link': 25,\n",
    "               'unclassified':20\n",
    "               }\n",
    "# the default speed if no match is 20kph"
   ]
  },
  {
   "cell_type": "markdown",
   "metadata": {},
   "source": [
    "### calculate speeds using original speed dictionary"
   ]
  },
  {
   "cell_type": "code",
   "execution_count": 147,
   "metadata": {},
   "outputs": [],
   "source": [
    "# This is the section where we can adjust the road speeds\n",
    "if not os.path.exists(outGraph):\n",
    "    extent = box(*inJ.total_bounds)\n",
    "    G = ox.graph_from_polygon(extent, network_type='drive_service')\n",
    "    # This is how time is calculated from the OSMNX length attribute\n",
    "    #G = gn.convert_network_to_time(G, 'length')\n",
    "    G = gn.convert_network_to_time(G, 'length', speed_dict=speed_dict)\n",
    "    nx.write_gpickle(G, outGraph)\n",
    "    roads = gn.edge_gdf_from_graph(G)\n",
    "    roads['highway'] = roads.highway.astype(str)\n",
    "    roads['OSMLR'] = roads.highway.map(osmMisc.OSMLR_Classes)\n",
    "    roads['oneway'] = roads.oneway.astype(int) \n",
    "    roads.to_file(outRoads)\n",
    "else:\n",
    "    G = nx.read_gpickle(outGraph)    \n",
    "    #G = gn.convert_network_to_time(G, 'length')\n",
    "    G = gn.convert_network_to_time(G, 'length', speed_dict=speed_dict)"
   ]
  },
  {
   "cell_type": "code",
   "execution_count": 148,
   "metadata": {},
   "outputs": [
    {
     "data": {
      "text/plain": [
       "22.1810389522122"
      ]
     },
     "execution_count": 148,
     "metadata": {},
     "output_type": "execute_result"
    }
   ],
   "source": [
    "# find the average speed of the road graph\n",
    "gn.find_graph_avg_speed(G, 'length', 'time')"
   ]
  },
  {
   "cell_type": "code",
   "execution_count": 149,
   "metadata": {},
   "outputs": [
    {
     "name": "stdout",
     "output_type": "stream",
     "text": [
      "0.6762532644352979\n"
     ]
    }
   ],
   "source": [
    "#15kph peak\n",
    "#16.5kph avg speed\n",
    "#20kph off-peak\n",
    "#22.1810389522122 * x = 15\n",
    "print(15/22.1810389522122)"
   ]
  },
  {
   "cell_type": "code",
   "execution_count": 150,
   "metadata": {},
   "outputs": [],
   "source": [
    "peak_ratio = 15/22.1810389522122\n",
    "avg_speed_ratio = 16.5/22.1810389522122\n",
    "off_peak_ratio = 20/22.1810389522122"
   ]
  },
  {
   "cell_type": "code",
   "execution_count": 151,
   "metadata": {},
   "outputs": [
    {
     "data": {
      "text/plain": [
       "{'residential': 2891749.8950000186,\n",
       " 'unclassified': 2067915.367999996,\n",
       " 'tertiary': 801446.0129999997,\n",
       " 'primary': 306935.18900000013,\n",
       " 'secondary': 587354.8119999977,\n",
       " 'motorway': 50689.78399999998,\n",
       " 'living_street': 254135.7070000001,\n",
       " 'trunk': 189441.8309999999,\n",
       " 'service': 636710.9099999986,\n",
       " 'trunk_link': 43585.77000000004,\n",
       " 'primary_link': 14967.872,\n",
       " 'secondary_link': 3316.1130000000003,\n",
       " 'motorway_link': 9329.546999999999,\n",
       " 'tertiary_link': 2826.961,\n",
       " 'road': 1387.336}"
      ]
     },
     "execution_count": 151,
     "metadata": {},
     "output_type": "execute_result"
    }
   ],
   "source": [
    "# find all classes of highways\n",
    "highway_classes = gn.find_hwy_distances_by_class(G)\n",
    "highway_classes"
   ]
  },
  {
   "cell_type": "code",
   "execution_count": 152,
   "metadata": {},
   "outputs": [],
   "source": [
    "speed_peak_dict = {}\n",
    "speed_avg_dict = {}\n",
    "speed_off_peak_dict = {}"
   ]
  },
  {
   "cell_type": "code",
   "execution_count": 153,
   "metadata": {},
   "outputs": [],
   "source": [
    "for key in speed_dict:\n",
    "    speed_peak_dict[key] = speed_dict[key] * peak_ratio\n",
    "    speed_avg_dict[key] = speed_dict[key] * avg_speed_ratio\n",
    "    speed_off_peak_dict[key] = speed_dict[key] * off_peak_ratio "
   ]
  },
  {
   "cell_type": "code",
   "execution_count": 154,
   "metadata": {},
   "outputs": [],
   "source": [
    "# add living_street, service, and road\n",
    "speed_peak_dict_default_speed = 20 * peak_ratio\n",
    "speed_peak_dict['living_street']=speed_peak_dict_default_speed\n",
    "speed_peak_dict['service']=speed_peak_dict_default_speed\n",
    "speed_peak_dict['road']=speed_peak_dict_default_speed\n",
    "\n",
    "speed_avg_dict_default_speed = 20 * avg_speed_ratio\n",
    "speed_avg_dict['living_street']=speed_avg_dict_default_speed\n",
    "speed_avg_dict['service']=speed_avg_dict_default_speed\n",
    "speed_avg_dict['road']=speed_avg_dict_default_speed\n",
    "  \n",
    "speed_off_peak_dict_default_speed = 20 * off_peak_ratio\n",
    "speed_off_peak_dict['living_street']=speed_off_peak_dict_default_speed\n",
    "speed_off_peak_dict['service']=speed_off_peak_dict_default_speed\n",
    "speed_off_peak_dict['road']=speed_off_peak_dict_default_speed"
   ]
  },
  {
   "cell_type": "code",
   "execution_count": 155,
   "metadata": {},
   "outputs": [
    {
     "data": {
      "text/plain": [
       "{'residential': 13.525065288705957,\n",
       " 'primary': 27.050130577411913,\n",
       " 'primary_link': 23.668864255235427,\n",
       " 'motorway': 33.81266322176489,\n",
       " 'motorway_link': 30.431396899588403,\n",
       " 'trunk': 27.050130577411913,\n",
       " 'trunk_link': 23.668864255235427,\n",
       " 'secondary': 20.287597933058937,\n",
       " 'secondary_link': 16.906331610882447,\n",
       " 'tertiary': 20.287597933058937,\n",
       " 'tertiary_link': 16.906331610882447,\n",
       " 'unclassified': 13.525065288705957,\n",
       " 'living_street': 13.525065288705957,\n",
       " 'service': 13.525065288705957,\n",
       " 'road': 13.525065288705957}"
      ]
     },
     "execution_count": 155,
     "metadata": {},
     "output_type": "execute_result"
    }
   ],
   "source": [
    "speed_peak_dict"
   ]
  },
  {
   "cell_type": "code",
   "execution_count": 156,
   "metadata": {},
   "outputs": [
    {
     "data": {
      "text/plain": [
       "{'residential': 14.877571817576554,\n",
       " 'primary': 29.755143635153107,\n",
       " 'primary_link': 26.03575068075897,\n",
       " 'motorway': 37.19392954394139,\n",
       " 'motorway_link': 33.47453658954725,\n",
       " 'trunk': 29.755143635153107,\n",
       " 'trunk_link': 26.03575068075897,\n",
       " 'secondary': 22.31635772636483,\n",
       " 'secondary_link': 18.596964771970693,\n",
       " 'tertiary': 22.31635772636483,\n",
       " 'tertiary_link': 18.596964771970693,\n",
       " 'unclassified': 14.877571817576554,\n",
       " 'living_street': 14.877571817576554,\n",
       " 'service': 14.877571817576554,\n",
       " 'road': 14.877571817576554}"
      ]
     },
     "execution_count": 156,
     "metadata": {},
     "output_type": "execute_result"
    }
   ],
   "source": [
    "speed_avg_dict"
   ]
  },
  {
   "cell_type": "code",
   "execution_count": 157,
   "metadata": {},
   "outputs": [
    {
     "data": {
      "text/plain": [
       "{'residential': 18.033420384941277,\n",
       " 'primary': 36.06684076988255,\n",
       " 'primary_link': 31.558485673647233,\n",
       " 'motorway': 45.08355096235319,\n",
       " 'motorway_link': 40.57519586611787,\n",
       " 'trunk': 36.06684076988255,\n",
       " 'trunk_link': 31.558485673647233,\n",
       " 'secondary': 27.050130577411913,\n",
       " 'secondary_link': 22.541775481176597,\n",
       " 'tertiary': 27.050130577411913,\n",
       " 'tertiary_link': 22.541775481176597,\n",
       " 'unclassified': 18.033420384941277,\n",
       " 'living_street': 18.033420384941277,\n",
       " 'service': 18.033420384941277,\n",
       " 'road': 18.033420384941277}"
      ]
     },
     "execution_count": 157,
     "metadata": {},
     "output_type": "execute_result"
    }
   ],
   "source": [
    "speed_off_peak_dict"
   ]
  },
  {
   "cell_type": "markdown",
   "metadata": {},
   "source": [
    "## Manually switch out what speed dictionary you are using in your analysis here"
   ]
  },
  {
   "cell_type": "code",
   "execution_count": 158,
   "metadata": {},
   "outputs": [],
   "source": [
    "# This is the section where we can adjust the road speeds\n",
    "G = nx.read_gpickle(outGraph)    \n",
    "#G = gn.convert_network_to_time(G, 'length')\n",
    "G = gn.convert_network_to_time(G, 'length', speed_dict=speed_peak_dict)"
   ]
  },
  {
   "cell_type": "code",
   "execution_count": 159,
   "metadata": {},
   "outputs": [
    {
     "name": "stdout",
     "output_type": "stream",
     "text": [
      "(2248802304, 2248802330, {'osmid': 215438684, 'oneway': False, 'length': 66.863, 'highway': 'residential', 'time': 17.797089689541174, 'mode': 'drive'})\n",
      "(2231177689, 2231177714, {'osmid': 50889068, 'highway': 'unclassified', 'name': 'Killeshwar Mahadev Mandir Marg', 'oneway': False, 'length': 75.801, 'geometry': <shapely.geometry.linestring.LineString object at 0x7f9c56b51208>, 'time': 20.176139203399647, 'mode': 'drive'})\n",
      "(2231177689, 2231177588, {'osmid': 213417598, 'highway': 'unclassified', 'oneway': False, 'length': 290.38200000000006, 'geometry': <shapely.geometry.linestring.LineString object at 0x7f9c574ec208>, 'time': 77.29169343625544, 'mode': 'drive'})\n"
     ]
    }
   ],
   "source": [
    "# double-check the road graph G\n",
    "gn.example_edge(G, 3)"
   ]
  },
  {
   "cell_type": "code",
   "execution_count": 160,
   "metadata": {},
   "outputs": [
    {
     "data": {
      "text/plain": [
       "14.999999999999734"
      ]
     },
     "execution_count": 160,
     "metadata": {},
     "output_type": "execute_result"
    }
   ],
   "source": [
    "# find the average speed of the road graph\n",
    "gn.find_graph_avg_speed(G, 'length', 'time')"
   ]
  },
  {
   "cell_type": "markdown",
   "metadata": {},
   "source": [
    "### Inspect the input graph from OSMNX to see the input road edges and nodes"
   ]
  },
  {
   "cell_type": "code",
   "execution_count": 161,
   "metadata": {},
   "outputs": [],
   "source": [
    "from shapely.wkt import loads"
   ]
  },
  {
   "cell_type": "code",
   "execution_count": 162,
   "metadata": {},
   "outputs": [
    {
     "name": "stderr",
     "output_type": "stream",
     "text": [
      "/home/vagrant/miniconda3/envs/GOST_PublicGoods4/lib/python3.7/site-packages/IPython/core/interactiveshell.py:3044: DtypeWarning: Columns (9) have mixed types. Specify dtype option on import or set low_memory=False.\n",
      "  interactivity=interactivity, compiler=compiler, result=result)\n"
     ]
    }
   ],
   "source": [
    "df = pd.read_csv(outRoads, encoding='utf-8')"
   ]
  },
  {
   "cell_type": "code",
   "execution_count": 163,
   "metadata": {},
   "outputs": [
    {
     "name": "stdout",
     "output_type": "stream",
     "text": [
      "LINESTRING (72.9334716 19.0543562, 72.93290450000001 19.0546287)\n"
     ]
    }
   ],
   "source": [
    "geometry = [loads(x) for x in df.geometry]\n",
    "print(geometry[0])\n",
    "crs = {'init': 'epsg:4326'} #http://www.spatialreference.org/ref/epsg/2263/\n",
    "geo_df = gpd.GeoDataFrame(df, crs=crs, geometry=geometry)\n",
    "geo_df.to_file(driver='ESRI Shapefile', filename='outroads2.shp',encoding='utf-8')"
   ]
  },
  {
   "cell_type": "code",
   "execution_count": 164,
   "metadata": {},
   "outputs": [],
   "source": [
    "from shapely.geometry import Point\n",
    "g_point_gdf = gn.node_gdf_from_graph(G,crs = {'init' :'epsg:4326'})\n",
    "#g_point_gdf = g_point_gdf.drop(columns=['geom'])\n",
    "g_point_gdf\n",
    "g_point_gdf.to_file(driver = 'ESRI Shapefile', filename = inputFolder+'/outroads_nodes2.shp')"
   ]
  },
  {
   "cell_type": "markdown",
   "metadata": {},
   "source": [
    "## Generate the rail network part I\n",
    "#### This takes in the input railways and converts it to a geodataframe of points. Then the input station points are snapped to these points and the geometries of the stations get changed to match the geometry of the point it was snapped to"
   ]
  },
  {
   "cell_type": "code",
   "execution_count": 165,
   "metadata": {},
   "outputs": [
    {
     "name": "stdout",
     "output_type": "stream",
     "text": [
      "check projection inS\n",
      "{'init': 'epsg:32643'}\n",
      "check projection inR\n",
      "{'init': 'epsg:32643'}\n"
     ]
    },
    {
     "name": "stderr",
     "output_type": "stream",
     "text": [
      "/home/vagrant/repos/GOST_PublicGoods/GOSTNets/GOSTNets/GOSTnet.py:1770: FutureWarning: Method .as_matrix will be removed in a future version. Use .values instead.\n",
      "  G_tree = spatial.KDTree(target_gdf[['x','y']].as_matrix())\n",
      "/home/vagrant/repos/GOST_PublicGoods/GOSTNets/GOSTNets/GOSTnet.py:1772: FutureWarning: Method .as_matrix will be removed in a future version. Use .values instead.\n",
      "  distances, indices = G_tree.query(source_gdf[['x','y']].as_matrix())\n"
     ]
    }
   ],
   "source": [
    "#if not os.path.exists(outRailGraph):\n",
    "#Read in the input railways check for problems, and project\n",
    "inR = gpd.read_file(inputRailways)\n",
    "inR = inR[[r is not None for r in inR.geometry]]\n",
    "if inR.crs == {'init':'epsg:4326'}:\n",
    "    #inR = misc.project_UTM(inR)\n",
    "    print('skip')\n",
    "inR = inR.to_crs({'init': 'epsg:32643'})\n",
    "\n",
    "# line below not needed because length will be generated at a later step\n",
    "#inR['length'] = inR['geometry'].apply(lambda x: x.length)\n",
    "\n",
    "#Read in the railway stations and project\n",
    "inS = gpd.read_file(inputRailstops)\n",
    "inS = inS[inS['railway'] == \"station\"]\n",
    "\n",
    "inS_proj = inS.to_crs({'init': 'epsg:32643'})\n",
    "print('check projection inS')\n",
    "print(inS_proj.crs)\n",
    "\n",
    "print('check projection inR')\n",
    "print(inR.crs)\n",
    "\n",
    "#Generate the Rail network from the rail shapefile\n",
    "allRailLines = unary_union(inR['geometry'])\n",
    "\n",
    "# deconstructing the rail network into a geodataframe of points\n",
    "bag_of_points,ids = [],[]\n",
    "id_ = 0\n",
    "for r in allRailLines.geoms:\n",
    "    for q in r.coords:\n",
    "        bag_of_points.append(q)\n",
    "        ids.append(id_)\n",
    "        id_+=1\n",
    "\n",
    "df_temp = pd.DataFrame(({'ids':ids,'geometry':bag_of_points}))\n",
    "df_temp['geometry'] = df_temp['geometry'].apply(Point)\n",
    "gdf_temp = gpd.GeoDataFrame(df_temp, crs = inR.crs, geometry = 'geometry')\n",
    "\n",
    "# for testing temporarily export rail bag of points\n",
    "#gdf_temp.to_file(driver = 'ESRI Shapefile', filename = 'pre_railine_points3.shp' )\n",
    "\n",
    "# for testing temporarily export rail stations\n",
    "#inS_proj.to_file(driver = 'ESRI Shapefile', filename = 'pre_station_points3.shp' )\n",
    "\n",
    "# the source_crs should be the same proj as both the input graph and input geodataframe of points\n",
    "# the rail points need to be snapped to the rail because later the snapped points will be used to split the rail\n",
    "inS_proj_snapped = gn.pandana_snap_points(inS_proj, \n",
    "                                          gdf_temp, \n",
    "                                          source_crs = 'epsg:32643', \n",
    "                                          target_crs = 'epsg:32643',\n",
    "                                          add_dist_to_node_col = True)\n",
    "inS_proj_snapped_temp = inS_proj_snapped.drop_duplicates('NN')\n",
    "\n",
    "# I think that when the rail stations got snapped to the nearest node in the dataframe it is keeping the original geometry\n",
    "# but it is adding the NN id and the NN_distance\n",
    "\n",
    "# Therefore join to the Rail gdf to add the geometries of the nodes snapped to\n",
    "inS_proj_snapped_temp = inS_proj_snapped_temp.rename(columns={\"geometry\": \"original_geometry\"})\n",
    "inS_proj_snapped_temp_joined = inS_proj_snapped_temp.set_index('NN').join(gdf_temp.set_index('ids'))\n",
    "inS_proj_snapped_temp_joined = inS_proj_snapped_temp_joined.reset_index()\n",
    "\n",
    "# note when I had both original_geometry and geometry columns there was an error in outputting a shapefile\n",
    "# it must have been confused with two geometry columns, therefore I am dropping the 'original_geometry' column\n",
    "inS_proj_snapped_temp_joined_slim = inS_proj_snapped_temp_joined.drop(columns=\"original_geometry\")\n",
    "inS_proj_snapped_temp_joined_slim\n",
    "\n",
    "#inS_proj_snapped_temp.keys()\n",
    "\n",
    "inS_proj_snapped_temp_joined_geo = gpd.GeoDataFrame(inS_proj_snapped_temp_joined_slim, crs = inS_proj.crs, geometry = 'geometry')\n",
    "# preview the snapped rail stations\n",
    "inS_proj_snapped_temp_joined_geo.to_file(driver = 'ESRI Shapefile', filename = 'snapped_rail_stations3.shp')"
   ]
  },
  {
   "cell_type": "code",
   "execution_count": 166,
   "metadata": {},
   "outputs": [
    {
     "data": {
      "text/html": [
       "<div>\n",
       "<style scoped>\n",
       "    .dataframe tbody tr th:only-of-type {\n",
       "        vertical-align: middle;\n",
       "    }\n",
       "\n",
       "    .dataframe tbody tr th {\n",
       "        vertical-align: top;\n",
       "    }\n",
       "\n",
       "    .dataframe thead th {\n",
       "        text-align: right;\n",
       "    }\n",
       "</style>\n",
       "<table border=\"1\" class=\"dataframe\">\n",
       "  <thead>\n",
       "    <tr style=\"text-align: right;\">\n",
       "      <th></th>\n",
       "      <th>NN</th>\n",
       "      <th>full_id</th>\n",
       "      <th>osm_id</th>\n",
       "      <th>osm_type</th>\n",
       "      <th>name</th>\n",
       "      <th>network</th>\n",
       "      <th>railway</th>\n",
       "      <th>ref</th>\n",
       "      <th>wikidata</th>\n",
       "      <th>wikipedia</th>\n",
       "      <th>...</th>\n",
       "      <th>short_name</th>\n",
       "      <th>constructi</th>\n",
       "      <th>disused</th>\n",
       "      <th>proposed</th>\n",
       "      <th>alt_name_h</th>\n",
       "      <th>name_pa</th>\n",
       "      <th>highway</th>\n",
       "      <th>traffic_si</th>\n",
       "      <th>NN_dist</th>\n",
       "      <th>geometry</th>\n",
       "    </tr>\n",
       "  </thead>\n",
       "  <tbody>\n",
       "    <tr>\n",
       "      <th>0</th>\n",
       "      <td>291</td>\n",
       "      <td>n213030669</td>\n",
       "      <td>213030669</td>\n",
       "      <td>node</td>\n",
       "      <td>Dahisar</td>\n",
       "      <td>None</td>\n",
       "      <td>station</td>\n",
       "      <td>DIC</td>\n",
       "      <td>Q5208848</td>\n",
       "      <td>en:Dahisar railway station</td>\n",
       "      <td>...</td>\n",
       "      <td>None</td>\n",
       "      <td>None</td>\n",
       "      <td>None</td>\n",
       "      <td>None</td>\n",
       "      <td>None</td>\n",
       "      <td>None</td>\n",
       "      <td>None</td>\n",
       "      <td>None</td>\n",
       "      <td>27.096695</td>\n",
       "      <td>POINT (275001.0781111507 2129854.901504612)</td>\n",
       "    </tr>\n",
       "    <tr>\n",
       "      <th>1</th>\n",
       "      <td>627</td>\n",
       "      <td>n213030714</td>\n",
       "      <td>213030714</td>\n",
       "      <td>node</td>\n",
       "      <td>Santacruz</td>\n",
       "      <td>IR</td>\n",
       "      <td>station</td>\n",
       "      <td>STC</td>\n",
       "      <td>Q7420001</td>\n",
       "      <td>en:Santacruz railway station</td>\n",
       "      <td>...</td>\n",
       "      <td>None</td>\n",
       "      <td>None</td>\n",
       "      <td>None</td>\n",
       "      <td>None</td>\n",
       "      <td>None</td>\n",
       "      <td>None</td>\n",
       "      <td>None</td>\n",
       "      <td>None</td>\n",
       "      <td>37.092462</td>\n",
       "      <td>POINT (272926.0703397002 2111281.305015021)</td>\n",
       "    </tr>\n",
       "  </tbody>\n",
       "</table>\n",
       "<p>2 rows × 57 columns</p>\n",
       "</div>"
      ],
      "text/plain": [
       "    NN     full_id     osm_id osm_type       name network  railway  ref  \\\n",
       "0  291  n213030669  213030669     node    Dahisar    None  station  DIC   \n",
       "1  627  n213030714  213030714     node  Santacruz      IR  station  STC   \n",
       "\n",
       "   wikidata                     wikipedia  ... short_name constructi disused  \\\n",
       "0  Q5208848    en:Dahisar railway station  ...       None       None    None   \n",
       "1  Q7420001  en:Santacruz railway station  ...       None       None    None   \n",
       "\n",
       "  proposed alt_name_h name_pa highway traffic_si    NN_dist  \\\n",
       "0     None       None    None    None       None  27.096695   \n",
       "1     None       None    None    None       None  37.092462   \n",
       "\n",
       "                                      geometry  \n",
       "0  POINT (275001.0781111507 2129854.901504612)  \n",
       "1  POINT (272926.0703397002 2111281.305015021)  \n",
       "\n",
       "[2 rows x 57 columns]"
      ]
     },
     "execution_count": 166,
     "metadata": {},
     "output_type": "execute_result"
    }
   ],
   "source": [
    "inS_proj_snapped_temp_joined_geo[:2]"
   ]
  },
  {
   "cell_type": "markdown",
   "metadata": {},
   "source": [
    "## Generate the rail network Part II\n",
    "#### The allRailLines are the result of a unary union on the railway lines. Therefore they are only multiLine geometries without any attribution. The snapped railway stations also undergo a unary union and are now multiPoint. allRailLines gets split by the snapped railway stations and all the parts are put back together creating a MultiDiGraph."
   ]
  },
  {
   "cell_type": "code",
   "execution_count": 167,
   "metadata": {},
   "outputs": [
    {
     "name": "stdout",
     "output_type": "stream",
     "text": [
      "print count of split geometries\n",
      "91\n"
     ]
    }
   ],
   "source": [
    "bag_of_relevant_points = unary_union(inS_proj_snapped_temp_joined_geo.geometry)\n",
    "\n",
    "# a shapely.ops function\n",
    "split_geoms = split(allRailLines, bag_of_relevant_points)\n",
    "\n",
    "print('print count of split geometries')\n",
    "print(len(split_geoms))\n",
    "\n",
    "geom_bag = []\n",
    "\n",
    "for geom in split_geoms:\n",
    "    g = geom.coords[0]\n",
    "    h = geom.coords[-1]\n",
    "    geom_bag.append(str(g))\n",
    "    geom_bag.append(str(h))\n",
    "\n",
    "ref = pd.DataFrame({'node_ids':range(0, len(geom_bag)),'geoms':geom_bag})\n",
    "ref = ref.drop_duplicates('geoms')\n",
    "ref = ref.set_index('geoms')\n",
    "\n",
    "nodes = []\n",
    "edges = []\n",
    "\n",
    "for geom in split_geoms:\n",
    "    u_data,v_data,edge_data = {},{},{}\n",
    "\n",
    "    # start node\n",
    "    # it is getting a reference to that node's coords\n",
    "    u = ref['node_ids'].loc[str(geom.coords[0])]\n",
    "    u_data['x'] = geom.coords[0][0]\n",
    "    u_data['y'] = geom.coords[0][1]\n",
    "    u_data['geom'] = Point(geom.coords[0])\n",
    "    #u_data['string'] = str(geom.coords[0])\n",
    "\n",
    "    # end node\n",
    "    v = ref['node_ids'].loc[str(geom.coords[-1])]\n",
    "    v_data['x'] = geom.coords[-1][0]\n",
    "    v_data['y'] = geom.coords[-1][1]\n",
    "    v_data['geom'] = Point(geom.coords[-1])\n",
    "    #v_data['string'] = str(geom.coords[-1])\n",
    "\n",
    "    # edge\n",
    "    edge_data['geom'] = geom\n",
    "    edge_data['length'] = geom.length\n",
    "    #edge_data['rail_type'] = geom.rail_type\n",
    "\n",
    "    nodes.append((u,u_data))\n",
    "    nodes.append((v,v_data))\n",
    "    edges.append((u,v,edge_data))\n",
    "    edges.append((v,u,edge_data))\n",
    "\n",
    "    id_ += 2\n",
    "\n",
    "G_rail = nx.MultiDiGraph()\n",
    "G_rail.add_nodes_from(nodes)\n",
    "G_rail.add_edges_from(edges)\n",
    "nx.write_gpickle(G_rail, outRailGraph)\n",
    "#else:\n",
    "    #G_rail = nx.read_gpickle(outRailGraph) "
   ]
  },
  {
   "cell_type": "markdown",
   "metadata": {},
   "source": [
    "#### you can see below that the edges only have the geometry and the length attributes"
   ]
  },
  {
   "cell_type": "code",
   "execution_count": 168,
   "metadata": {},
   "outputs": [
    {
     "name": "stdout",
     "output_type": "stream",
     "text": [
      "(0, 1, {'geom': <shapely.geometry.linestring.LineString object at 0x7f9c64972be0>, 'length': 1388.5881250266957})\n",
      "(1, 0, {'geom': <shapely.geometry.linestring.LineString object at 0x7f9c64972be0>, 'length': 1388.5881250266957})\n"
     ]
    }
   ],
   "source": [
    "gn.example_edge(G_rail, 2)"
   ]
  },
  {
   "cell_type": "code",
   "execution_count": 169,
   "metadata": {},
   "outputs": [
    {
     "name": "stdout",
     "output_type": "stream",
     "text": [
      "(0, {'x': 272122.66290875676, 'y': 2095693.7796779373, 'geom': <shapely.geometry.point.Point object at 0x7f9c649729e8>})\n",
      "(1, {'x': 272366.8491270583, 'y': 2097048.817394499, 'geom': <shapely.geometry.point.Point object at 0x7f9c64972cf8>})\n"
     ]
    }
   ],
   "source": [
    "gn.example_node(G_rail, 2)"
   ]
  },
  {
   "cell_type": "markdown",
   "metadata": {},
   "source": [
    "#### you can see below that there is an additional attribute 'rail_type' that we would like to add to the edges"
   ]
  },
  {
   "cell_type": "code",
   "execution_count": 170,
   "metadata": {},
   "outputs": [
    {
     "data": {
      "text/html": [
       "<div>\n",
       "<style scoped>\n",
       "    .dataframe tbody tr th:only-of-type {\n",
       "        vertical-align: middle;\n",
       "    }\n",
       "\n",
       "    .dataframe tbody tr th {\n",
       "        vertical-align: top;\n",
       "    }\n",
       "\n",
       "    .dataframe thead th {\n",
       "        text-align: right;\n",
       "    }\n",
       "</style>\n",
       "<table border=\"1\" class=\"dataframe\">\n",
       "  <thead>\n",
       "    <tr style=\"text-align: right;\">\n",
       "      <th></th>\n",
       "      <th>id</th>\n",
       "      <th>length</th>\n",
       "      <th>rail_type</th>\n",
       "      <th>geometry</th>\n",
       "    </tr>\n",
       "  </thead>\n",
       "  <tbody>\n",
       "    <tr>\n",
       "      <th>0</th>\n",
       "      <td>1.0</td>\n",
       "      <td>49224.263829</td>\n",
       "      <td>rail</td>\n",
       "      <td>LINESTRING (274371.3999304119 2137271.12123448...</td>\n",
       "    </tr>\n",
       "    <tr>\n",
       "      <th>1</th>\n",
       "      <td>2.0</td>\n",
       "      <td>30343.365621</td>\n",
       "      <td>rail</td>\n",
       "      <td>LINESTRING (287196.191848074 2122663.190356839...</td>\n",
       "    </tr>\n",
       "    <tr>\n",
       "      <th>2</th>\n",
       "      <td>3.0</td>\n",
       "      <td>15313.909123</td>\n",
       "      <td>rail</td>\n",
       "      <td>LINESTRING (282341.652201739 2107437.899924412...</td>\n",
       "    </tr>\n",
       "  </tbody>\n",
       "</table>\n",
       "</div>"
      ],
      "text/plain": [
       "    id        length rail_type  \\\n",
       "0  1.0  49224.263829      rail   \n",
       "1  2.0  30343.365621      rail   \n",
       "2  3.0  15313.909123      rail   \n",
       "\n",
       "                                            geometry  \n",
       "0  LINESTRING (274371.3999304119 2137271.12123448...  \n",
       "1  LINESTRING (287196.191848074 2122663.190356839...  \n",
       "2  LINESTRING (282341.652201739 2107437.899924412...  "
      ]
     },
     "execution_count": 170,
     "metadata": {},
     "output_type": "execute_result"
    }
   ],
   "source": [
    "inR[:3]"
   ]
  },
  {
   "cell_type": "markdown",
   "metadata": {},
   "source": [
    "### Find all edges that intersect the input railways and where they do add the attributes to the edges"
   ]
  },
  {
   "cell_type": "code",
   "execution_count": 171,
   "metadata": {},
   "outputs": [
    {
     "name": "stdout",
     "output_type": "stream",
     "text": [
      "182\n",
      "276\n",
      "2272\n"
     ]
    }
   ],
   "source": [
    "# Remember that this is a MultiDiGraph so there are two directed edges between each pair of nodes. \n",
    "graph_edge_count = 0\n",
    "graph_edge_intersects = 0\n",
    "graph_edge_no_intersects = 0\n",
    "\n",
    "# loop through each edge in the graph\n",
    "for edge in G_rail.edges(data=True):\n",
    "    graph_edge_count += 1\n",
    "    # loop through each railway in the input railway geodataframe\n",
    "    for row in inR.itertuples(index=False):\n",
    "        # if there is an intersection\n",
    "        if edge[2]['geom'].intersects(row.geometry):\n",
    "            # print(\"an intersection has occurred\")\n",
    "            graph_edge_intersects += 1\n",
    "            # for the edge add all the attributes that are not length or geometry\n",
    "            row_dict = row._asdict()\n",
    "            for name,value in row_dict.items():\n",
    "                if not (name=='geometry' or name=='length'):\n",
    "                    #print(name)\n",
    "                    # This updates the edge and adds a new attribute key and value\n",
    "                    #G_rail[edge[0]][edge[1]][0].update(name=value)\n",
    "                    G_rail[edge[0]][edge[1]][0][name]=value\n",
    "        else:\n",
    "            graph_edge_no_intersects += 1\n",
    "            \n",
    "print(graph_edge_count)\n",
    "print(graph_edge_intersects)\n",
    "print(graph_edge_no_intersects)"
   ]
  },
  {
   "cell_type": "code",
   "execution_count": 172,
   "metadata": {},
   "outputs": [
    {
     "name": "stdout",
     "output_type": "stream",
     "text": [
      "{'geom': <shapely.geometry.linestring.LineString object at 0x7f9c64972be0>, 'length': 1388.5881250266957, 'id': 6.0, 'rail_type': 'rail'}\n",
      "{'geom': <shapely.geometry.linestring.LineString object at 0x7f9c64972be0>, 'length': 1388.5881250266957, 'id': 6.0, 'rail_type': 'rail'}\n",
      "{'geom': <shapely.geometry.linestring.LineString object at 0x7f9c649728d0>, 'length': 813.9703934797164, 'id': 11.0, 'rail_type': 'rail'}\n",
      "{'geom': <shapely.geometry.linestring.LineString object at 0x7f9c649728d0>, 'length': 813.9703934797164, 'id': 11.0, 'rail_type': 'rail'}\n",
      "{'geom': <shapely.geometry.linestring.LineString object at 0x7f9c64972e10>, 'length': 939.3411041558159, 'id': 11.0, 'rail_type': 'rail'}\n",
      "{'geom': <shapely.geometry.linestring.LineString object at 0x7f9c631a8ef0>, 'length': 2016.7291243062305, 'id': 11.0, 'rail_type': 'rail'}\n",
      "{'geom': <shapely.geometry.linestring.LineString object at 0x7f9c64972e48>, 'length': 1083.3242072370874, 'id': 8.0, 'rail_type': 'rail'}\n",
      "{'geom': <shapely.geometry.linestring.LineString object at 0x7f9c6621a128>, 'length': 1313.7979308992838, 'id': 8.0, 'rail_type': 'rail'}\n",
      "{'geom': <shapely.geometry.linestring.LineString object at 0x7f9c63831ba8>, 'length': 1241.4955637511919, 'id': 8.0, 'rail_type': 'rail'}\n",
      "{'geom': <shapely.geometry.linestring.LineString object at 0x7f9c64972e48>, 'length': 1083.3242072370874, 'id': 8.0, 'rail_type': 'rail'}\n",
      "{'geom': <shapely.geometry.linestring.LineString object at 0x7f9c649727f0>, 'length': 1682.8091623966925, 'id': 7.0, 'rail_type': 'rail'}\n",
      "{'geom': <shapely.geometry.linestring.LineString object at 0x7f9c631a8be0>, 'length': 1656.6962322365853, 'id': 7.0, 'rail_type': 'rail'}\n",
      "{'geom': <shapely.geometry.linestring.LineString object at 0x7f9c64972e10>, 'length': 939.3411041558159, 'id': 11.0, 'rail_type': 'rail'}\n",
      "{'geom': <shapely.geometry.linestring.LineString object at 0x7f9c649722e8>, 'length': 1213.8243603079775, 'id': 11.0, 'rail_type': 'rail'}\n",
      "{'geom': <shapely.geometry.linestring.LineString object at 0x7f9c649722e8>, 'length': 1213.8243603079775, 'id': 11.0, 'rail_type': 'rail'}\n",
      "{'geom': <shapely.geometry.linestring.LineString object at 0x7f9c649724a8>, 'length': 1080.2652458279968, 'id': 11.0, 'rail_type': 'rail'}\n",
      "{'geom': <shapely.geometry.linestring.LineString object at 0x7f9c649724a8>, 'length': 1080.2652458279968, 'id': 11.0, 'rail_type': 'rail'}\n",
      "{'geom': <shapely.geometry.linestring.LineString object at 0x7f9c64972668>, 'length': 1716.8294706920256, 'id': 9.0, 'rail_type': 'rail'}\n",
      "{'geom': <shapely.geometry.linestring.LineString object at 0x7f9c64972668>, 'length': 1716.8294706920256, 'id': 9.0, 'rail_type': 'rail'}\n",
      "{'geom': <shapely.geometry.linestring.LineString object at 0x7f9c662244a8>, 'length': 2040.1327265269856, 'id': 9.0, 'rail_type': 'rail'}\n",
      "{'geom': <shapely.geometry.linestring.LineString object at 0x7f9c649727f0>, 'length': 1682.8091623966925, 'id': 7.0, 'rail_type': 'rail'}\n",
      "{'geom': <shapely.geometry.linestring.LineString object at 0x7f9c64972518>, 'length': 957.6655624727625, 'id': 7.0, 'rail_type': 'rail'}\n",
      "{'geom': <shapely.geometry.linestring.LineString object at 0x7f9c631a8668>, 'length': 377.07958536809036, 'id': 13.0, 'rail_type': 'rail'}\n",
      "{'geom': <shapely.geometry.linestring.LineString object at 0x7f9c631a80b8>, 'length': 1105.0385644987884, 'id': 13.0, 'rail_type': 'rail'}\n",
      "{'geom': <shapely.geometry.linestring.LineString object at 0x7f9c64972518>, 'length': 957.6655624727625, 'id': 7.0, 'rail_type': 'rail'}\n",
      "{'geom': <shapely.geometry.linestring.LineString object at 0x7f9c631a8748>, 'length': 1104.3395814106484, 'id': 7.0, 'rail_type': 'rail'}\n",
      "{'geom': <shapely.geometry.linestring.LineString object at 0x7f9c631a8748>, 'length': 1104.3395814106484, 'id': 7.0, 'rail_type': 'rail'}\n",
      "{'geom': <shapely.geometry.linestring.LineString object at 0x7f9c631a8ef0>, 'length': 2016.7291243062305, 'id': 11.0, 'rail_type': 'rail'}\n",
      "{'geom': <shapely.geometry.linestring.LineString object at 0x7f9c631a8be0>, 'length': 1656.6962322365853, 'id': 7.0, 'rail_type': 'rail'}\n",
      "{'geom': <shapely.geometry.linestring.LineString object at 0x7f9c631a87b8>, 'length': 1659.2135760889294, 'id': 5.0, 'rail_type': 'rail'}\n",
      "{'geom': <shapely.geometry.linestring.LineString object at 0x7f9c631a87b8>, 'length': 1659.2135760889294, 'id': 5.0, 'rail_type': 'rail'}\n",
      "{'geom': <shapely.geometry.linestring.LineString object at 0x7f9c631a8c18>, 'length': 1404.1621660466367, 'id': 5.0, 'rail_type': 'rail'}\n",
      "{'geom': <shapely.geometry.linestring.LineString object at 0x7f9c631a8c18>, 'length': 1404.1621660466367, 'id': 5.0, 'rail_type': 'rail'}\n",
      "{'geom': <shapely.geometry.linestring.LineString object at 0x7f9c631a8d68>, 'length': 907.3987408288517, 'id': 5.0, 'rail_type': 'rail'}\n",
      "{'geom': <shapely.geometry.linestring.LineString object at 0x7f9c631a8d68>, 'length': 907.3987408288517, 'id': 5.0, 'rail_type': 'rail'}\n",
      "{'geom': <shapely.geometry.linestring.LineString object at 0x7f9c631a8d30>, 'length': 1494.9647472557288, 'id': 5.0, 'rail_type': 'rail'}\n",
      "{'geom': <shapely.geometry.linestring.LineString object at 0x7f9c631a8d30>, 'length': 1494.9647472557288, 'id': 5.0, 'rail_type': 'rail'}\n",
      "{'geom': <shapely.geometry.linestring.LineString object at 0x7f9c631a8160>, 'length': 875.7448573575894, 'id': 5.0, 'rail_type': 'rail'}\n",
      "{'geom': <shapely.geometry.linestring.LineString object at 0x7f9c631a8160>, 'length': 875.7448573575894, 'id': 5.0, 'rail_type': 'rail'}\n",
      "{'geom': <shapely.geometry.linestring.LineString object at 0x7f9c631a8390>, 'length': 1364.177135870823, 'id': 5.0, 'rail_type': 'rail'}\n",
      "{'geom': <shapely.geometry.linestring.LineString object at 0x7f9c631a8390>, 'length': 1364.177135870823, 'id': 5.0, 'rail_type': 'rail'}\n",
      "{'geom': <shapely.geometry.linestring.LineString object at 0x7f9c631a8400>, 'length': 1229.0138928751285, 'id': 13.0, 'rail_type': 'rail'}\n",
      "{'geom': <shapely.geometry.linestring.LineString object at 0x7f9c631a8400>, 'length': 1229.0138928751285, 'id': 13.0, 'rail_type': 'rail'}\n",
      "{'geom': <shapely.geometry.linestring.LineString object at 0x7f9c631a8668>, 'length': 377.07958536809036, 'id': 13.0, 'rail_type': 'rail'}\n",
      "{'geom': <shapely.geometry.linestring.LineString object at 0x7f9c631a80b8>, 'length': 1105.0385644987884, 'id': 13.0, 'rail_type': 'rail'}\n",
      "{'geom': <shapely.geometry.linestring.LineString object at 0x7f9c631a85c0>, 'length': 1091.5400530589309, 'id': 13.0, 'rail_type': 'rail'}\n",
      "{'geom': <shapely.geometry.linestring.LineString object at 0x7f9c631a85c0>, 'length': 1091.5400530589309, 'id': 13.0, 'rail_type': 'rail'}\n",
      "{'geom': <shapely.geometry.linestring.LineString object at 0x7f9c66224be0>, 'length': 1280.4481069517522, 'id': 13.0, 'rail_type': 'rail'}\n",
      "{'geom': <shapely.geometry.linestring.LineString object at 0x7f9c66224be0>, 'length': 1280.4481069517522, 'id': 13.0, 'rail_type': 'rail'}\n",
      "{'geom': <shapely.geometry.linestring.LineString object at 0x7f9c66224e48>, 'length': 1833.648761349662, 'id': 13.0, 'rail_type': 'rail'}\n",
      "{'geom': <shapely.geometry.linestring.LineString object at 0x7f9c66224e48>, 'length': 1833.648761349662, 'id': 13.0, 'rail_type': 'rail'}\n",
      "{'geom': <shapely.geometry.linestring.LineString object at 0x7f9c66224ef0>, 'length': 147.8314061317834, 'id': 9.0, 'rail_type': 'rail'}\n",
      "{'geom': <shapely.geometry.linestring.LineString object at 0x7f9c66224ef0>, 'length': 147.8314061317834, 'id': 9.0, 'rail_type': 'rail'}\n",
      "{'geom': <shapely.geometry.linestring.LineString object at 0x7f9c66224fd0>, 'length': 287.7039378506849, 'id': 9.0, 'rail_type': 'rail'}\n",
      "{'geom': <shapely.geometry.linestring.LineString object at 0x7f9c6496a9b0>, 'length': 1080.8053401703987, 'id': 13.0, 'rail_type': 'rail'}\n",
      "{'geom': <shapely.geometry.linestring.LineString object at 0x7f9c5237ec18>, 'length': 1018.4592074418265, 'id': 9.0, 'rail_type': 'rail'}\n",
      "{'geom': <shapely.geometry.linestring.LineString object at 0x7f9c66224fd0>, 'length': 287.7039378506849, 'id': 9.0, 'rail_type': 'rail'}\n",
      "{'geom': <shapely.geometry.linestring.LineString object at 0x7f9c662244a8>, 'length': 2040.1327265269856, 'id': 9.0, 'rail_type': 'rail'}\n",
      "{'geom': <shapely.geometry.linestring.LineString object at 0x7f9c66224710>, 'length': 1230.3042392530213, 'id': 10.0, 'rail_type': 'metro'}\n",
      "{'geom': <shapely.geometry.linestring.LineString object at 0x7f9c662155c0>, 'length': 3634.338983696691, 'id': 10.0, 'rail_type': 'metro'}\n",
      "{'geom': <shapely.geometry.linestring.LineString object at 0x7f9c52394780>, 'length': 1401.5427984876208, 'id': 10.0, 'rail_type': 'metro'}\n",
      "{'geom': <shapely.geometry.linestring.LineString object at 0x7f9c66224710>, 'length': 1230.3042392530213, 'id': 10.0, 'rail_type': 'metro'}\n",
      "{'geom': <shapely.geometry.linestring.LineString object at 0x7f9c662247f0>, 'length': 864.993185788546, 'id': 10.0, 'rail_type': 'metro'}\n",
      "{'geom': <shapely.geometry.linestring.LineString object at 0x7f9c662247f0>, 'length': 864.993185788546, 'id': 10.0, 'rail_type': 'metro'}\n",
      "{'geom': <shapely.geometry.linestring.LineString object at 0x7f9c66224908>, 'length': 1090.9545673392054, 'id': 10.0, 'rail_type': 'metro'}\n",
      "{'geom': <shapely.geometry.linestring.LineString object at 0x7f9c66224908>, 'length': 1090.9545673392054, 'id': 10.0, 'rail_type': 'metro'}\n",
      "{'geom': <shapely.geometry.linestring.LineString object at 0x7f9c662249e8>, 'length': 1075.2369930293992, 'id': 10.0, 'rail_type': 'metro'}\n",
      "{'geom': <shapely.geometry.linestring.LineString object at 0x7f9c662249e8>, 'length': 1075.2369930293992, 'id': 10.0, 'rail_type': 'metro'}\n",
      "{'geom': <shapely.geometry.linestring.LineString object at 0x7f9c66224128>, 'length': 601.3400031691094, 'id': 10.0, 'rail_type': 'metro'}\n",
      "{'geom': <shapely.geometry.linestring.LineString object at 0x7f9c66224128>, 'length': 601.3400031691094, 'id': 10.0, 'rail_type': 'metro'}\n",
      "{'geom': <shapely.geometry.linestring.LineString object at 0x7f9c66224240>, 'length': 740.4695454092247, 'id': 10.0, 'rail_type': 'metro'}\n",
      "{'geom': <shapely.geometry.linestring.LineString object at 0x7f9c66224240>, 'length': 740.4695454092247, 'id': 10.0, 'rail_type': 'metro'}\n",
      "{'geom': <shapely.geometry.linestring.LineString object at 0x7f9c66224358>, 'length': 1245.1404377261065, 'id': 10.0, 'rail_type': 'metro'}\n",
      "{'geom': <shapely.geometry.linestring.LineString object at 0x7f9c66224358>, 'length': 1245.1404377261065, 'id': 10.0, 'rail_type': 'metro'}\n",
      "{'geom': <shapely.geometry.linestring.LineString object at 0x7f9c66215e80>, 'length': 954.9003859655354, 'id': 10.0, 'rail_type': 'metro'}\n",
      "{'geom': <shapely.geometry.linestring.LineString object at 0x7f9c66215e80>, 'length': 954.9003859655354, 'id': 10.0, 'rail_type': 'metro'}\n",
      "{'geom': <shapely.geometry.linestring.LineString object at 0x7f9c66215fd0>, 'length': 202.8948038695215, 'id': 10.0, 'rail_type': 'metro'}\n",
      "{'geom': <shapely.geometry.linestring.LineString object at 0x7f9c66215fd0>, 'length': 202.8948038695215, 'id': 10.0, 'rail_type': 'metro'}\n",
      "{'geom': <shapely.geometry.linestring.LineString object at 0x7f9c66215898>, 'length': 1203.610908762252, 'id': 10.0, 'rail_type': 'metro'}\n",
      "{'geom': <shapely.geometry.linestring.LineString object at 0x7f9c6621a7b8>, 'length': 1497.3824015996113, 'id': 1.0, 'rail_type': 'rail'}\n",
      "{'geom': <shapely.geometry.linestring.LineString object at 0x7f9c52394898>, 'length': 201.66981175914125, 'id': 1.0, 'rail_type': 'rail'}\n",
      "{'geom': <shapely.geometry.linestring.LineString object at 0x7f9c66215898>, 'length': 1203.610908762252, 'id': 10.0, 'rail_type': 'metro'}\n",
      "{'geom': <shapely.geometry.linestring.LineString object at 0x7f9c662159e8>, 'length': 787.0326048537778, 'id': 10.0, 'rail_type': 'metro'}\n",
      "{'geom': <shapely.geometry.linestring.LineString object at 0x7f9c662159e8>, 'length': 787.0326048537778, 'id': 10.0, 'rail_type': 'metro'}\n",
      "{'geom': <shapely.geometry.linestring.LineString object at 0x7f9c66215ac8>, 'length': 966.0296763529009, 'id': 10.0, 'rail_type': 'metro'}\n",
      "{'geom': <shapely.geometry.linestring.LineString object at 0x7f9c66215ac8>, 'length': 966.0296763529009, 'id': 10.0, 'rail_type': 'metro'}\n",
      "{'geom': <shapely.geometry.linestring.LineString object at 0x7f9c66215c18>, 'length': 2622.9789322540364, 'id': 2.0, 'rail_type': 'rail'}\n",
      "{'geom': <shapely.geometry.linestring.LineString object at 0x7f9c66215c18>, 'length': 2622.9789322540364, 'id': 2.0, 'rail_type': 'rail'}\n",
      "{'geom': <shapely.geometry.linestring.LineString object at 0x7f9c66215cf8>, 'length': 2294.9798783068836, 'id': 2.0, 'rail_type': 'rail'}\n",
      "{'geom': <shapely.geometry.linestring.LineString object at 0x7f9c66215cf8>, 'length': 2294.9798783068836, 'id': 2.0, 'rail_type': 'rail'}\n",
      "{'geom': <shapely.geometry.linestring.LineString object at 0x7f9c66215278>, 'length': 1401.6899061048555, 'id': 2.0, 'rail_type': 'rail'}\n",
      "{'geom': <shapely.geometry.linestring.LineString object at 0x7f9c66215278>, 'length': 1401.6899061048555, 'id': 2.0, 'rail_type': 'rail'}\n",
      "{'geom': <shapely.geometry.linestring.LineString object at 0x7f9c66215390>, 'length': 2053.1958812397525, 'id': 2.0, 'rail_type': 'rail'}\n",
      "{'geom': <shapely.geometry.linestring.LineString object at 0x7f9c66215390>, 'length': 2053.1958812397525, 'id': 2.0, 'rail_type': 'rail'}\n",
      "{'geom': <shapely.geometry.linestring.LineString object at 0x7f9c662154a8>, 'length': 1901.4575279740552, 'id': 2.0, 'rail_type': 'rail'}\n",
      "{'geom': <shapely.geometry.linestring.LineString object at 0x7f9c662154a8>, 'length': 1901.4575279740552, 'id': 2.0, 'rail_type': 'rail'}\n",
      "{'geom': <shapely.geometry.linestring.LineString object at 0x7f9c662155c0>, 'length': 3634.338983696691, 'id': 10.0, 'rail_type': 'metro'}\n",
      "{'geom': <shapely.geometry.linestring.LineString object at 0x7f9c662156d8>, 'length': 4077.8037806960565, 'id': 1.0, 'rail_type': 'rail'}\n",
      "{'geom': <shapely.geometry.linestring.LineString object at 0x7f9c662156d8>, 'length': 4077.8037806960565, 'id': 1.0, 'rail_type': 'rail'}\n",
      "{'geom': <shapely.geometry.linestring.LineString object at 0x7f9c662150b8>, 'length': 3366.2453490156386, 'id': 1.0, 'rail_type': 'rail'}\n",
      "{'geom': <shapely.geometry.linestring.LineString object at 0x7f9c662150b8>, 'length': 3366.2453490156386, 'id': 1.0, 'rail_type': 'rail'}\n",
      "{'geom': <shapely.geometry.linestring.LineString object at 0x7f9c6621a1d0>, 'length': 2355.306126671846, 'id': 1.0, 'rail_type': 'rail'}\n",
      "{'geom': <shapely.geometry.linestring.LineString object at 0x7f9c6621a1d0>, 'length': 2355.306126671846, 'id': 1.0, 'rail_type': 'rail'}\n",
      "{'geom': <shapely.geometry.linestring.LineString object at 0x7f9c6621ac50>, 'length': 2878.963313743979, 'id': 1.0, 'rail_type': 'rail'}\n",
      "{'geom': <shapely.geometry.linestring.LineString object at 0x7f9c6621ac50>, 'length': 2878.963313743979, 'id': 1.0, 'rail_type': 'rail'}\n",
      "{'geom': <shapely.geometry.linestring.LineString object at 0x7f9c6621ada0>, 'length': 1967.7174900150833, 'id': 1.0, 'rail_type': 'rail'}\n",
      "{'geom': <shapely.geometry.linestring.LineString object at 0x7f9c6621ada0>, 'length': 1967.7174900150833, 'id': 1.0, 'rail_type': 'rail'}\n",
      "{'geom': <shapely.geometry.linestring.LineString object at 0x7f9c6621ae80>, 'length': 2309.9322516592147, 'id': 1.0, 'rail_type': 'rail'}\n",
      "{'geom': <shapely.geometry.linestring.LineString object at 0x7f9c6621ae80>, 'length': 2309.9322516592147, 'id': 1.0, 'rail_type': 'rail'}\n",
      "{'geom': <shapely.geometry.linestring.LineString object at 0x7f9c6621afd0>, 'length': 1526.7468343764183, 'id': 1.0, 'rail_type': 'rail'}\n",
      "{'geom': <shapely.geometry.linestring.LineString object at 0x7f9c6621afd0>, 'length': 1526.7468343764183, 'id': 1.0, 'rail_type': 'rail'}\n",
      "{'geom': <shapely.geometry.linestring.LineString object at 0x7f9c6621a668>, 'length': 1786.594888928766, 'id': 1.0, 'rail_type': 'rail'}\n",
      "{'geom': <shapely.geometry.linestring.LineString object at 0x7f9c6621a668>, 'length': 1786.594888928766, 'id': 1.0, 'rail_type': 'rail'}\n",
      "{'geom': <shapely.geometry.linestring.LineString object at 0x7f9c6621a7b8>, 'length': 1497.3824015996113, 'id': 1.0, 'rail_type': 'rail'}\n",
      "{'geom': <shapely.geometry.linestring.LineString object at 0x7f9c6621a898>, 'length': 2738.164490309322, 'id': 5.0, 'rail_type': 'rail'}\n",
      "{'geom': <shapely.geometry.linestring.LineString object at 0x7f9c6217f710>, 'length': 1914.2277707641717, 'id': 5.0, 'rail_type': 'rail'}\n",
      "{'geom': <shapely.geometry.linestring.LineString object at 0x7f9c52394f60>, 'length': 1311.0932651055907, 'id': 5.0, 'rail_type': 'rail'}\n",
      "{'geom': <shapely.geometry.linestring.LineString object at 0x7f9c52394710>, 'length': 2367.8437749634195, 'id': 5.0, 'rail_type': 'rail'}\n",
      "{'geom': <shapely.geometry.linestring.LineString object at 0x7f9c6621a898>, 'length': 2738.164490309322, 'id': 5.0, 'rail_type': 'rail'}\n",
      "{'geom': <shapely.geometry.linestring.LineString object at 0x7f9c6621a9e8>, 'length': 1697.6799754211947, 'id': 5.0, 'rail_type': 'rail'}\n",
      "{'geom': <shapely.geometry.linestring.LineString object at 0x7f9c6621a9e8>, 'length': 1697.6799754211947, 'id': 5.0, 'rail_type': 'rail'}\n",
      "{'geom': <shapely.geometry.linestring.LineString object at 0x7f9c6621aac8>, 'length': 802.0096806818508, 'id': 14.0, 'rail_type': 'rail'}\n",
      "{'geom': <shapely.geometry.linestring.LineString object at 0x7f9c6217f2e8>, 'length': 841.2893914194206, 'id': 8.0, 'rail_type': 'rail'}\n",
      "{'geom': <shapely.geometry.linestring.LineString object at 0x7f9c6217f940>, 'length': 955.6533822485512, 'id': 9.0, 'rail_type': 'rail'}\n",
      "{'geom': <shapely.geometry.linestring.LineString object at 0x7f9c6621aac8>, 'length': 802.0096806818508, 'id': 14.0, 'rail_type': 'rail'}\n",
      "{'geom': <shapely.geometry.linestring.LineString object at 0x7f9c6621a128>, 'length': 1313.7979308992838, 'id': 8.0, 'rail_type': 'rail'}\n",
      "{'geom': <shapely.geometry.linestring.LineString object at 0x7f9c6496a9b0>, 'length': 1080.8053401703987, 'id': 13.0, 'rail_type': 'rail'}\n",
      "{'geom': <shapely.geometry.linestring.LineString object at 0x7f9c6496aa90>, 'length': 809.1756481974924, 'id': 13.0, 'rail_type': 'rail'}\n",
      "{'geom': <shapely.geometry.linestring.LineString object at 0x7f9c6496aa90>, 'length': 809.1756481974924, 'id': 13.0, 'rail_type': 'rail'}\n",
      "{'geom': <shapely.geometry.linestring.LineString object at 0x7f9c6496a4e0>, 'length': 1048.9267276476048, 'id': 13.0, 'rail_type': 'rail'}\n",
      "{'geom': <shapely.geometry.linestring.LineString object at 0x7f9c6496a4e0>, 'length': 1048.9267276476048, 'id': 13.0, 'rail_type': 'rail'}\n",
      "{'geom': <shapely.geometry.linestring.LineString object at 0x7f9c5237e208>, 'length': 531.3876018874307, 'id': 13.0, 'rail_type': 'rail'}\n",
      "{'geom': <shapely.geometry.linestring.LineString object at 0x7f9c5237e208>, 'length': 531.3876018874307, 'id': 13.0, 'rail_type': 'rail'}\n",
      "{'geom': <shapely.geometry.linestring.LineString object at 0x7f9c6217fc18>, 'length': 2364.8498754573543, 'id': 13.0, 'rail_type': 'rail'}\n",
      "{'geom': <shapely.geometry.linestring.LineString object at 0x7f9c5237ec18>, 'length': 1018.4592074418265, 'id': 9.0, 'rail_type': 'rail'}\n",
      "{'geom': <shapely.geometry.linestring.LineString object at 0x7f9c6217f940>, 'length': 955.6533822485512, 'id': 9.0, 'rail_type': 'rail'}\n",
      "{'geom': <shapely.geometry.linestring.LineString object at 0x7f9c52394cf8>, 'length': 1310.7839309824267, 'id': 9.0, 'rail_type': 'rail'}\n",
      "{'geom': <shapely.geometry.linestring.LineString object at 0x7f9c5237ea20>, 'length': 1059.3078493097103, 'id': 8.0, 'rail_type': 'rail'}\n",
      "{'geom': <shapely.geometry.linestring.LineString object at 0x7f9c6217f2e8>, 'length': 841.2893914194206, 'id': 8.0, 'rail_type': 'rail'}\n",
      "{'geom': <shapely.geometry.linestring.LineString object at 0x7f9c52394c50>, 'length': 355.79156695765346, 'id': 8.0, 'rail_type': 'rail'}\n",
      "{'geom': <shapely.geometry.linestring.LineString object at 0x7f9c5237ea20>, 'length': 1059.3078493097103, 'id': 8.0, 'rail_type': 'rail'}\n",
      "{'geom': <shapely.geometry.linestring.LineString object at 0x7f9c63831ba8>, 'length': 1241.4955637511919, 'id': 8.0, 'rail_type': 'rail'}\n",
      "{'geom': <shapely.geometry.linestring.LineString object at 0x7f9c6217fc18>, 'length': 2364.8498754573543, 'id': 13.0, 'rail_type': 'rail'}\n",
      "{'geom': <shapely.geometry.linestring.LineString object at 0x7f9c6217fda0>, 'length': 2117.632268310861, 'id': 12.0, 'rail_type': 'rail'}\n",
      "{'geom': <shapely.geometry.linestring.LineString object at 0x7f9c6217fda0>, 'length': 2117.632268310861, 'id': 12.0, 'rail_type': 'rail'}\n",
      "{'geom': <shapely.geometry.linestring.LineString object at 0x7f9c6217f4a8>, 'length': 1431.7540324455167, 'id': 12.0, 'rail_type': 'rail'}\n",
      "{'geom': <shapely.geometry.linestring.LineString object at 0x7f9c6217f4a8>, 'length': 1431.7540324455167, 'id': 12.0, 'rail_type': 'rail'}\n",
      "{'geom': <shapely.geometry.linestring.LineString object at 0x7f9c6217fa90>, 'length': 989.4831305106018, 'id': 12.0, 'rail_type': 'rail'}\n",
      "{'geom': <shapely.geometry.linestring.LineString object at 0x7f9c6217fa90>, 'length': 989.4831305106018, 'id': 12.0, 'rail_type': 'rail'}\n",
      "{'geom': <shapely.geometry.linestring.LineString object at 0x7f9c6217f908>, 'length': 988.0478505666963, 'id': 12.0, 'rail_type': 'rail'}\n",
      "{'geom': <shapely.geometry.linestring.LineString object at 0x7f9c6217f908>, 'length': 988.0478505666963, 'id': 12.0, 'rail_type': 'rail'}\n",
      "{'geom': <shapely.geometry.linestring.LineString object at 0x7f9c6217f780>, 'length': 1026.1015843447185, 'id': 12.0, 'rail_type': 'rail'}\n",
      "{'geom': <shapely.geometry.linestring.LineString object at 0x7f9c6217f780>, 'length': 1026.1015843447185, 'id': 12.0, 'rail_type': 'rail'}\n",
      "{'geom': <shapely.geometry.linestring.LineString object at 0x7f9c6217f748>, 'length': 57.30118618265177, 'id': 12.0, 'rail_type': 'rail'}\n",
      "{'geom': <shapely.geometry.linestring.LineString object at 0x7f9c6217f748>, 'length': 57.30118618265177, 'id': 12.0, 'rail_type': 'rail'}\n",
      "{'geom': <shapely.geometry.linestring.LineString object at 0x7f9c6217f710>, 'length': 1914.2277707641717, 'id': 5.0, 'rail_type': 'rail'}\n",
      "{'geom': <shapely.geometry.linestring.LineString object at 0x7f9c52394d30>, 'length': 1638.1709946727365, 'id': 4.0, 'rail_type': 'rail'}\n",
      "{'geom': <shapely.geometry.linestring.LineString object at 0x7f9c52394d30>, 'length': 1638.1709946727365, 'id': 4.0, 'rail_type': 'rail'}\n",
      "{'geom': <shapely.geometry.linestring.LineString object at 0x7f9c52394cf8>, 'length': 1310.7839309824267, 'id': 9.0, 'rail_type': 'rail'}\n",
      "{'geom': <shapely.geometry.linestring.LineString object at 0x7f9c52394dd8>, 'length': 1984.8448116858178, 'id': 3.0, 'rail_type': 'rail'}\n",
      "{'geom': <shapely.geometry.linestring.LineString object at 0x7f9c52394dd8>, 'length': 1984.8448116858178, 'id': 3.0, 'rail_type': 'rail'}\n",
      "{'geom': <shapely.geometry.linestring.LineString object at 0x7f9c52394f28>, 'length': 1639.1279865257006, 'id': 3.0, 'rail_type': 'rail'}\n",
      "{'geom': <shapely.geometry.linestring.LineString object at 0x7f9c52394f28>, 'length': 1639.1279865257006, 'id': 3.0, 'rail_type': 'rail'}\n",
      "{'geom': <shapely.geometry.linestring.LineString object at 0x7f9c52394550>, 'length': 1137.7588943609899, 'id': 3.0, 'rail_type': 'rail'}\n",
      "{'geom': <shapely.geometry.linestring.LineString object at 0x7f9c52394550>, 'length': 1137.7588943609899, 'id': 3.0, 'rail_type': 'rail'}\n",
      "{'geom': <shapely.geometry.linestring.LineString object at 0x7f9c52394f60>, 'length': 1311.0932651055907, 'id': 5.0, 'rail_type': 'rail'}\n",
      "{'geom': <shapely.geometry.linestring.LineString object at 0x7f9c52394780>, 'length': 1401.5427984876208, 'id': 10.0, 'rail_type': 'metro'}\n",
      "{'geom': <shapely.geometry.linestring.LineString object at 0x7f9c52394710>, 'length': 2367.8437749634195, 'id': 5.0, 'rail_type': 'rail'}\n",
      "{'geom': <shapely.geometry.linestring.LineString object at 0x7f9c52394898>, 'length': 201.66981175914125, 'id': 1.0, 'rail_type': 'rail'}\n",
      "{'geom': <shapely.geometry.linestring.LineString object at 0x7f9c52394a58>, 'length': 2212.2435214603183, 'id': 1.0, 'rail_type': 'rail'}\n",
      "{'geom': <shapely.geometry.linestring.LineString object at 0x7f9c52394a58>, 'length': 2212.2435214603183, 'id': 1.0, 'rail_type': 'rail'}\n",
      "{'geom': <shapely.geometry.linestring.LineString object at 0x7f9c52394f98>, 'length': 2013.3620594575227, 'id': 1.0, 'rail_type': 'rail'}\n",
      "{'geom': <shapely.geometry.linestring.LineString object at 0x7f9c52394f98>, 'length': 2013.3620594575227, 'id': 1.0, 'rail_type': 'rail'}\n",
      "{'geom': <shapely.geometry.linestring.LineString object at 0x7f9c5d21d6d8>, 'length': 1364.572125117503, 'id': 1.0, 'rail_type': 'rail'}\n",
      "{'geom': <shapely.geometry.linestring.LineString object at 0x7f9c5d21d6d8>, 'length': 1364.572125117503, 'id': 1.0, 'rail_type': 'rail'}\n",
      "{'geom': <shapely.geometry.linestring.LineString object at 0x7f9c5237e240>, 'length': 603.4517211185697, 'id': 1.0, 'rail_type': 'rail'}\n",
      "{'geom': <shapely.geometry.linestring.LineString object at 0x7f9c5237e240>, 'length': 603.4517211185697, 'id': 1.0, 'rail_type': 'rail'}\n",
      "{'geom': <shapely.geometry.linestring.LineString object at 0x7f9c632b84e0>, 'length': 1061.3662331450234, 'id': 1.0, 'rail_type': 'rail'}\n",
      "{'geom': <shapely.geometry.linestring.LineString object at 0x7f9c632b84e0>, 'length': 1061.3662331450234, 'id': 1.0, 'rail_type': 'rail'}\n",
      "{'geom': <shapely.geometry.linestring.LineString object at 0x7f9c523940b8>, 'length': 1718.7091892110693, 'id': 1.0, 'rail_type': 'rail'}\n",
      "{'geom': <shapely.geometry.linestring.LineString object at 0x7f9c523940b8>, 'length': 1718.7091892110693, 'id': 1.0, 'rail_type': 'rail'}\n",
      "{'geom': <shapely.geometry.linestring.LineString object at 0x7f9c52394c50>, 'length': 355.79156695765346, 'id': 8.0, 'rail_type': 'rail'}\n"
     ]
    }
   ],
   "source": [
    "# you can see that the attributes have been added to the graph\n",
    "for edge in G_rail.edges(data=True):\n",
    "    print(edge[2])"
   ]
  },
  {
   "cell_type": "markdown",
   "metadata": {},
   "source": [
    "## visualize network"
   ]
  },
  {
   "cell_type": "code",
   "execution_count": 173,
   "metadata": {},
   "outputs": [
    {
     "data": {
      "image/png": "[encoded data removed]",
      "text/plain": [
       "<Figure size 432x288 with 1 Axes>"
      ]
     },
     "metadata": {},
     "output_type": "display_data"
    }
   ],
   "source": [
    "nx.draw(G_rail)"
   ]
  },
  {
   "cell_type": "markdown",
   "metadata": {},
   "source": [
    "### Tests for the validity of the rail graph"
   ]
  },
  {
   "cell_type": "code",
   "execution_count": 174,
   "metadata": {
    "scrolled": false
   },
   "outputs": [],
   "source": [
    "#nx.connected_components(G_rail)\n",
    "#G_rail.subgraph(c) for c in nx.connected_components(G_rail):\n",
    "#largest_cc = max(nx.connected_components(G_rail), key=len)\n",
    "\n",
    "#nx.is_strongly_connected(G_rail)\n",
    "#largest_cc = max(nx.connected_components(G_rail), key=len)\n",
    "\n",
    "# this is a test to export a shapefile for testing\n",
    "list_of_Gs = list((nx.strongly_connected_component_subgraphs(G_rail)))\n",
    "sz = 0\n",
    "largest_G = list_of_Gs[0]\n",
    "count = 0\n",
    "for g in list_of_Gs:\n",
    "    curSize = g.size()\n",
    "    #print(curSize)\n",
    "    if curSize > sz:\n",
    "        largest_G = g\n",
    "        sz = curSize\n",
    "    #g_gdf = gn.edge_gdf_from_graph(g,crs = {'init' :'epsg:32643'})\n",
    "    g_gdf = gn.edge_gdf_from_graph(g,crs = {'init' :'epsg:32643'})\n",
    "    # for some reason has both a geom and geometry column\n",
    "    g_gdf = g_gdf.drop(columns=['geom'])\n",
    "    #print(g_gdf)\n",
    "    filename = 'g_rail_gdf3_%d.shp' % count\n",
    "    #print(filename)\n",
    "    g_gdf.to_file(driver = 'ESRI Shapefile', filename = filename )\n",
    "    count += 1\n",
    "    #print(count)\n",
    "#G_rail_largest = largest_G\n",
    "#G_rail_largest"
   ]
  },
  {
   "cell_type": "code",
   "execution_count": 175,
   "metadata": {},
   "outputs": [
    {
     "name": "stdout",
     "output_type": "stream",
     "text": [
      "(0, {'x': 272122.66290875676, 'y': 2095693.7796779373, 'geom': <shapely.geometry.point.Point object at 0x7f9c649729e8>})\n",
      "(1, {'x': 272366.8491270583, 'y': 2097048.817394499, 'geom': <shapely.geometry.point.Point object at 0x7f9c64972cf8>})\n",
      "(3, {'x': 272508.9179740083, 'y': 2097844.3993548118, 'geom': <shapely.geometry.point.Point object at 0x7f9c631a8ba8>})\n"
     ]
    }
   ],
   "source": [
    "gn.example_node(G_rail, 3)"
   ]
  },
  {
   "cell_type": "markdown",
   "metadata": {},
   "source": [
    "### Need to convert the graph node coordinates from UTM to WGS84"
   ]
  },
  {
   "cell_type": "code",
   "execution_count": 176,
   "metadata": {},
   "outputs": [
    {
     "data": {
      "text/plain": [
       "<module 'GOSTnet' from '/home/vagrant/repos/GOST_PublicGoods/GOSTNets/GOSTNets/GOSTnet.py'>"
      ]
     },
     "execution_count": 176,
     "metadata": {},
     "output_type": "execute_result"
    }
   ],
   "source": [
    "import importlib\n",
    "importlib.reload(gn)"
   ]
  },
  {
   "cell_type": "code",
   "execution_count": 177,
   "metadata": {},
   "outputs": [
    {
     "name": "stdout",
     "output_type": "stream",
     "text": [
      "POINT (72.8305819 18.996213)\n"
     ]
    }
   ],
   "source": [
    "from shapely.geometry import Point\n",
    "sample_point = Point(271620.51371866115,2101816.267494734)\n",
    "\n",
    "from shapely.ops import transform\n",
    "from functools import partial\n",
    "import pyproj\n",
    "\n",
    "project_WGS_UTM = partial(\n",
    "                pyproj.transform,\n",
    "                pyproj.Proj(init='epsg:32643'),\n",
    "                pyproj.Proj(init='epsg:4326'))\n",
    "\n",
    "print(transform(project_WGS_UTM,sample_point))"
   ]
  },
  {
   "cell_type": "code",
   "execution_count": 178,
   "metadata": {},
   "outputs": [],
   "source": [
    "G_rail_32643 = gn.reproject_graph(G_rail, 'epsg:32643', 'epsg:4326')"
   ]
  },
  {
   "cell_type": "code",
   "execution_count": 179,
   "metadata": {},
   "outputs": [
    {
     "name": "stdout",
     "output_type": "stream",
     "text": [
      "(0, {'x': 72.8360633305759, 'y': 18.940975234799453, 'geom': <shapely.geometry.point.Point object at 0x7f9c547b8e10>})\n",
      "(1, {'x': 72.83822328429102, 'y': 18.95323998167732, 'geom': <shapely.geometry.point.Point object at 0x7f9c547b8dd8>})\n",
      "(3, {'x': 72.83947921893387, 'y': 18.960440822411584, 'geom': <shapely.geometry.point.Point object at 0x7f9c547b8e80>})\n",
      "(4, {'x': 72.8435321130054, 'y': 19.017516410491485, 'geom': <shapely.geometry.point.Point object at 0x7f9c547b8f98>})\n",
      "(5, {'x': 72.8376614, 'y': 19.0094817, 'geom': <shapely.geometry.point.Point object at 0x7f9c547b8d68>})\n",
      "(7, {'x': 72.84434387789514, 'y': 18.96732091413225, 'geom': <shapely.geometry.point.Point object at 0x7f9c547b8e48>})\n",
      "(9, {'x': 72.84414412090767, 'y': 18.978120836025376, 'geom': <shapely.geometry.point.Point object at 0x7f9c547b8f28>})\n",
      "(11, {'x': 72.8440871427147, 'y': 18.987273139187, 'geom': <shapely.geometry.point.Point object at 0x7f9c547b8ef0>})\n"
     ]
    }
   ],
   "source": [
    "G_rail_32643\n",
    "gn.example_node(G_rail, 8)"
   ]
  },
  {
   "cell_type": "markdown",
   "metadata": {},
   "source": [
    "#### You can see that the coordinates of the road network are already in WGS84"
   ]
  },
  {
   "cell_type": "code",
   "execution_count": 180,
   "metadata": {},
   "outputs": [
    {
     "name": "stdout",
     "output_type": "stream",
     "text": [
      "(2248802304, {'osmid': 2248802304, 'y': 19.0543562, 'x': 72.9334716})\n",
      "(2231177689, {'osmid': 2231177689, 'y': 19.1347279, 'x': 72.7938162})\n",
      "(1184044163, {'osmid': 1184044163, 'y': 19.1894556, 'x': 72.9630511})\n"
     ]
    }
   ],
   "source": [
    "gn.example_node(G, 3)"
   ]
  },
  {
   "cell_type": "code",
   "execution_count": 181,
   "metadata": {},
   "outputs": [
    {
     "name": "stdout",
     "output_type": "stream",
     "text": [
      "(2248802304, 2248802330, {'osmid': 215438684, 'oneway': False, 'length': 66.863, 'highway': 'residential', 'time': 17.797089689541174, 'mode': 'drive'})\n",
      "(2231177689, 2231177714, {'osmid': 50889068, 'highway': 'unclassified', 'name': 'Killeshwar Mahadev Mandir Marg', 'oneway': False, 'length': 75.801, 'geometry': <shapely.geometry.linestring.LineString object at 0x7f9c56b51208>, 'time': 20.176139203399647, 'mode': 'drive'})\n",
      "(2231177689, 2231177588, {'osmid': 213417598, 'highway': 'unclassified', 'oneway': False, 'length': 290.38200000000006, 'geometry': <shapely.geometry.linestring.LineString object at 0x7f9c574ec208>, 'time': 77.29169343625544, 'mode': 'drive'})\n"
     ]
    }
   ],
   "source": [
    "gn.example_edge(G, 3)"
   ]
  },
  {
   "cell_type": "markdown",
   "metadata": {},
   "source": [
    "## Set the rail speed and station wait time, and speeds for roads and walking"
   ]
  },
  {
   "cell_type": "code",
   "execution_count": 182,
   "metadata": {},
   "outputs": [
    {
     "name": "stdout",
     "output_type": "stream",
     "text": [
      "print inR.crs\n",
      "epsg:32643\n",
      "print G\n",
      "67116\n",
      "print G_rail size\n",
      "182\n"
     ]
    }
   ],
   "source": [
    "print('print inR.crs')\n",
    "print(inR.crs['init'])\n",
    "\n",
    "#inR = inR.to_crs({'init': 'epsg:4326'})\n",
    "\n",
    "list_of_Gs = list((nx.strongly_connected_component_subgraphs(G)))\n",
    "sz = 0\n",
    "largest_G = list_of_Gs[0]\n",
    "for g in list_of_Gs:\n",
    "    curSize = g.size()\n",
    "    if curSize > sz:\n",
    "        largest_G = g\n",
    "        sz = curSize\n",
    "G = largest_G\n",
    "print('print G')\n",
    "print(sz)\n",
    "\n",
    "print('print G_rail size')\n",
    "print(G_rail.size())\n",
    "\n",
    "#os.remove(outComboGraph)\n",
    "#if not os.path.exists(outComboGraph):\n",
    "##Required parameters in processing rail network\n",
    "metroSpeed = 35 #kph\n",
    "railSpeed = 40 #kph\n",
    "station_wait = 30 #seconds\n",
    "walk_speed = 5 #kph"
   ]
  },
  {
   "cell_type": "code",
   "execution_count": 183,
   "metadata": {},
   "outputs": [],
   "source": [
    "#Convert Rail network length to time\n",
    "for u, v, data in G_rail.edges(data=True):\n",
    "    data['mode'] = 'rail'\n",
    "    data['time'] = 999999999 # driving time\n",
    "    data['walk_time'] = 999999999 # walking time\n",
    "    if data['rail_type'] == \"metro\":\n",
    "        #print(data['rail_type'])\n",
    "        data['rail_time'] = ((data['length']/1000 / metroSpeed) * 60 * 60) + station_wait\n",
    "        # the best time on the rail edges will be the rail times\n",
    "        data['road_and_rail_time'] = data['rail_time']\n",
    "    else:\n",
    "        #print(data['rail_type'])\n",
    "        data['rail_time'] = ((data['length']/1000 / railSpeed) * 60 * 60) + station_wait\n",
    "        # the best time on the rail edges will be the rail times\n",
    "        data['road_and_rail_time'] = data['rail_time']"
   ]
  },
  {
   "cell_type": "code",
   "execution_count": 184,
   "metadata": {},
   "outputs": [],
   "source": [
    "#Convert Road network length to time\n",
    "for u, v, data in G.edges(data=True):\n",
    "    data['mode'] = 'road'\n",
    "    #Set the rail_time to walking time for the road network\n",
    "    data['rail_time'] = ((data['length']/1000 / walk_speed) * 60 * 60)\n",
    "    # the best time on the road edges will be the road times\n",
    "    data['road_and_rail_time'] = data['time']\n",
    "    data['walk_time'] = ((data['length']/1000 / walk_speed) * 60 * 60)"
   ]
  },
  {
   "cell_type": "markdown",
   "metadata": {},
   "source": [
    "# merge the rail and road networks together"
   ]
  },
  {
   "cell_type": "code",
   "execution_count": 185,
   "metadata": {},
   "outputs": [
    {
     "name": "stdout",
     "output_type": "stream",
     "text": [
      "print G_combo size\n",
      "71038\n"
     ]
    }
   ],
   "source": [
    "# Bind the graphs together\n",
    "# There was problem with this originally. It seems like the GOSTNets function needs the input graphs to be in 4326\n",
    "# but G_rail was in UTM\n",
    "\n",
    "# join_networks will join the networks where the rail nodes (which are the stations) meet the road network nodes within the threshold\n",
    "#G_combo = gn.join_networks(G, G_rail, measure_crs=32643, thresh=300)\n",
    "G_combo = gn.join_networks(G_rail,G,measure_crs=32643, thresh=300)\n",
    "nx.write_gpickle(G_combo, outComboGraph)\n",
    "#else:\n",
    "#    G_combo = nx.read_gpickle(outComboGraph)\n",
    "    \n",
    "#Extract largest subgraph\n",
    "list_of_Gs = list((nx.strongly_connected_component_subgraphs(G_combo)))\n",
    "sz = 0\n",
    "largest_G = list_of_Gs[0]\n",
    "for g in list_of_Gs:\n",
    "    curSize = g.size()\n",
    "    if curSize > sz:\n",
    "        largest_G = g\n",
    "        sz = curSize\n",
    "G_combo = largest_G\n",
    "print('print G_combo size')\n",
    "print(sz)"
   ]
  },
  {
   "cell_type": "markdown",
   "metadata": {},
   "source": [
    "#### Inspect the output of the combo graph"
   ]
  },
  {
   "cell_type": "code",
   "execution_count": 186,
   "metadata": {},
   "outputs": [
    {
     "data": {
      "text/plain": [
       "(24975,\n",
       " 19309,\n",
       " {'osmid': 102519587,\n",
       "  'highway': 'service',\n",
       "  'oneway': False,\n",
       "  'length': 238.499,\n",
       "  'geometry': <shapely.geometry.linestring.LineString at 0x7f9c5260fdd8>,\n",
       "  'time': 63.481867308763896,\n",
       "  'mode': 'road',\n",
       "  'rail_time': 171.71928000000003,\n",
       "  'road_and_rail_time': 63.481867308763896,\n",
       "  'walk_time': 171.71928000000003})"
      ]
     },
     "execution_count": 186,
     "metadata": {},
     "output_type": "execute_result"
    }
   ],
   "source": [
    "G_combo\n",
    "i = list(G_combo.edges(data = True))[66700]\n",
    "i"
   ]
  },
  {
   "cell_type": "code",
   "execution_count": 187,
   "metadata": {},
   "outputs": [],
   "source": [
    "# inspect G_combo\n",
    "g_combo_gdf = gn.edge_gdf_from_graph(G_combo,crs = {'init' :'epsg:4326'})\n",
    "# for some reason has both a geom and geometry column\n",
    "g_combo_gdf = g_combo_gdf.drop(columns=['geom','osmid','junction', 'ref','lanes', 'bridge',\n",
    "       'maxspeed', 'width', 'access','Wkt', 'infra_type','time', 'road_and_rail_time', 'rail_time',\n",
    "       'highway', 'oneway', 'service', 'length', 'name', 'mode', 'tunnel'])\n",
    "#print(g_combo_gdf.keys())\n",
    "#print(g_combo_gdf)\n",
    "#filename = 'g_gdf_%d.shp' % count\n",
    "#print(filename)\n",
    "g_combo_gdf.to_file(driver = 'ESRI Shapefile', filename = inputFolder + '/g_combo5.shp' )"
   ]
  },
  {
   "cell_type": "markdown",
   "metadata": {},
   "source": [
    "## Run analysis 1 - Distance from each individual to work"
   ]
  },
  {
   "cell_type": "code",
   "execution_count": 188,
   "metadata": {},
   "outputs": [
    {
     "name": "stdout",
     "output_type": "stream",
     "text": [
      "3020\n"
     ]
    }
   ],
   "source": [
    "inH = pd.read_csv(inHouseholds)\n",
    "inH[:5]\n",
    "print(len(inH))"
   ]
  },
  {
   "cell_type": "code",
   "execution_count": 189,
   "metadata": {},
   "outputs": [
    {
     "data": {
      "text/plain": [
       "Index(['unique_respondent', 'gps_latitude_home', 'gps_longitude_home',\n",
       "       'work_pin_code'],\n",
       "      dtype='object')"
      ]
     },
     "execution_count": 189,
     "metadata": {},
     "output_type": "execute_result"
    }
   ],
   "source": [
    "inH.keys()"
   ]
  },
  {
   "cell_type": "code",
   "execution_count": 190,
   "metadata": {},
   "outputs": [],
   "source": [
    "# Group the data frame by id and item\n",
    "householdLocations = pd.DataFrame(inH.groupby(\n",
    "   ['unique_respondent']\n",
    ").agg(\n",
    "    {\n",
    "         'gps_latitude_home':\"mean\",    # Sum duration per group\n",
    "         'gps_longitude_home': \"mean\",\n",
    "         'work_pin_code': \"first\"\n",
    "    }\n",
    "))"
   ]
  },
  {
   "cell_type": "code",
   "execution_count": 191,
   "metadata": {},
   "outputs": [
    {
     "data": {
      "text/html": [
       "<div>\n",
       "<style scoped>\n",
       "    .dataframe tbody tr th:only-of-type {\n",
       "        vertical-align: middle;\n",
       "    }\n",
       "\n",
       "    .dataframe tbody tr th {\n",
       "        vertical-align: top;\n",
       "    }\n",
       "\n",
       "    .dataframe thead th {\n",
       "        text-align: right;\n",
       "    }\n",
       "</style>\n",
       "<table border=\"1\" class=\"dataframe\">\n",
       "  <thead>\n",
       "    <tr style=\"text-align: right;\">\n",
       "      <th></th>\n",
       "      <th>gps_latitude_home</th>\n",
       "      <th>gps_longitude_home</th>\n",
       "      <th>work_pin_code</th>\n",
       "    </tr>\n",
       "    <tr>\n",
       "      <th>unique_respondent</th>\n",
       "      <th></th>\n",
       "      <th></th>\n",
       "      <th></th>\n",
       "    </tr>\n",
       "  </thead>\n",
       "  <tbody>\n",
       "    <tr>\n",
       "      <th>1011</th>\n",
       "      <td>18.909705</td>\n",
       "      <td>72.813837</td>\n",
       "      <td>400005</td>\n",
       "    </tr>\n",
       "    <tr>\n",
       "      <th>1021</th>\n",
       "      <td>18.909766</td>\n",
       "      <td>72.813820</td>\n",
       "      <td>400064</td>\n",
       "    </tr>\n",
       "    <tr>\n",
       "      <th>1031</th>\n",
       "      <td>18.909751</td>\n",
       "      <td>72.813732</td>\n",
       "      <td>400005</td>\n",
       "    </tr>\n",
       "  </tbody>\n",
       "</table>\n",
       "</div>"
      ],
      "text/plain": [
       "                   gps_latitude_home  gps_longitude_home  work_pin_code\n",
       "unique_respondent                                                      \n",
       "1011                       18.909705           72.813837         400005\n",
       "1021                       18.909766           72.813820         400064\n",
       "1031                       18.909751           72.813732         400005"
      ]
     },
     "execution_count": 191,
     "metadata": {},
     "output_type": "execute_result"
    }
   ],
   "source": [
    "householdLocations[:3]"
   ]
  },
  {
   "cell_type": "code",
   "execution_count": 192,
   "metadata": {},
   "outputs": [
    {
     "data": {
      "text/plain": [
       "3020"
      ]
     },
     "execution_count": 192,
     "metadata": {},
     "output_type": "execute_result"
    }
   ],
   "source": [
    "len(householdLocations)"
   ]
  },
  {
   "cell_type": "code",
   "execution_count": 193,
   "metadata": {},
   "outputs": [],
   "source": [
    "hh = householdLocations"
   ]
  },
  {
   "cell_type": "markdown",
   "metadata": {},
   "source": [
    "### create a geodataframe of the households and snap to the combo graph"
   ]
  },
  {
   "cell_type": "code",
   "execution_count": 194,
   "metadata": {},
   "outputs": [
    {
     "name": "stderr",
     "output_type": "stream",
     "text": [
      "/home/vagrant/repos/GOST_PublicGoods/GOSTNets/GOSTNets/GOSTnet.py:1716: FutureWarning: Method .as_matrix will be removed in a future version. Use .values instead.\n",
      "  G_tree = spatial.KDTree(node_gdf[['x','y']].as_matrix())\n",
      "/home/vagrant/repos/GOST_PublicGoods/GOSTNets/GOSTNets/GOSTnet.py:1718: FutureWarning: Method .as_matrix will be removed in a future version. Use .values instead.\n",
      "  distances, indices = G_tree.query(in_df[['x','y']].as_matrix())\n"
     ]
    }
   ],
   "source": [
    "hh['geometry'] = hh.apply(lambda x: Point(x['gps_longitude_home'], x['gps_latitude_home']), axis=1)\n",
    "hh = gpd.GeoDataFrame(hh, geometry=\"geometry\")\n",
    "hh.crs = {'init': 'epsg:4326'}\n",
    "hh = hh.reset_index()\n",
    "hh = hh[[x.is_valid for x in hh['geometry']]]\n",
    "\n",
    "# look into warning below\n",
    "# snapping each individual location to the combo graph\n",
    "# add walking time to get from household to nearest point in graph, by default 'add_dist_to_node_col = True'\n",
    "# the source_crs should be the same proj as both the input graph and input geodataframe of points\n",
    "# hh_nn = gn.pandana_snap(G_combo, hh)\n",
    "hh_nn = gn.pandana_snap(G_combo, hh, target_crs = 'epsg:32643')"
   ]
  },
  {
   "cell_type": "code",
   "execution_count": 195,
   "metadata": {},
   "outputs": [
    {
     "data": {
      "text/html": [
       "<div>\n",
       "<style scoped>\n",
       "    .dataframe tbody tr th:only-of-type {\n",
       "        vertical-align: middle;\n",
       "    }\n",
       "\n",
       "    .dataframe tbody tr th {\n",
       "        vertical-align: top;\n",
       "    }\n",
       "\n",
       "    .dataframe thead th {\n",
       "        text-align: right;\n",
       "    }\n",
       "</style>\n",
       "<table border=\"1\" class=\"dataframe\">\n",
       "  <thead>\n",
       "    <tr style=\"text-align: right;\">\n",
       "      <th></th>\n",
       "      <th>unique_respondent</th>\n",
       "      <th>gps_latitude_home</th>\n",
       "      <th>gps_longitude_home</th>\n",
       "      <th>work_pin_code</th>\n",
       "      <th>geometry</th>\n",
       "      <th>NN</th>\n",
       "      <th>NN_dist</th>\n",
       "    </tr>\n",
       "  </thead>\n",
       "  <tbody>\n",
       "    <tr>\n",
       "      <th>0</th>\n",
       "      <td>1011</td>\n",
       "      <td>18.909705</td>\n",
       "      <td>72.813837</td>\n",
       "      <td>400005</td>\n",
       "      <td>POINT (72.81383700000001 18.909705)</td>\n",
       "      <td>24983</td>\n",
       "      <td>19.906592</td>\n",
       "    </tr>\n",
       "    <tr>\n",
       "      <th>1</th>\n",
       "      <td>1021</td>\n",
       "      <td>18.909766</td>\n",
       "      <td>72.813820</td>\n",
       "      <td>400064</td>\n",
       "      <td>POINT (72.81381999999999 18.909766)</td>\n",
       "      <td>24983</td>\n",
       "      <td>18.127978</td>\n",
       "    </tr>\n",
       "    <tr>\n",
       "      <th>2</th>\n",
       "      <td>1031</td>\n",
       "      <td>18.909751</td>\n",
       "      <td>72.813732</td>\n",
       "      <td>400005</td>\n",
       "      <td>POINT (72.813732 18.909751)</td>\n",
       "      <td>24983</td>\n",
       "      <td>8.707958</td>\n",
       "    </tr>\n",
       "  </tbody>\n",
       "</table>\n",
       "</div>"
      ],
      "text/plain": [
       "   unique_respondent  gps_latitude_home  gps_longitude_home  work_pin_code  \\\n",
       "0               1011          18.909705           72.813837         400005   \n",
       "1               1021          18.909766           72.813820         400064   \n",
       "2               1031          18.909751           72.813732         400005   \n",
       "\n",
       "                              geometry     NN    NN_dist  \n",
       "0  POINT (72.81383700000001 18.909705)  24983  19.906592  \n",
       "1  POINT (72.81381999999999 18.909766)  24983  18.127978  \n",
       "2          POINT (72.813732 18.909751)  24983   8.707958  "
      ]
     },
     "execution_count": 195,
     "metadata": {},
     "output_type": "execute_result"
    }
   ],
   "source": [
    "hh_nn[:3]"
   ]
  },
  {
   "cell_type": "code",
   "execution_count": 196,
   "metadata": {},
   "outputs": [],
   "source": [
    "hh_nn = hh_nn[['unique_respondent','work_pin_code','NN_dist','NN', 'gps_latitude_home', 'gps_longitude_home']]\n",
    "hh_nn.columns = ['unique_respondent', 'PIN','walk_dist_to_nn','hhNN', 'hhlat', 'hhlon']"
   ]
  },
  {
   "cell_type": "markdown",
   "metadata": {},
   "source": [
    "### add walking speed to the nearest node"
   ]
  },
  {
   "cell_type": "code",
   "execution_count": 197,
   "metadata": {},
   "outputs": [],
   "source": [
    "walk_speed = 5 #kph\n",
    "# generating walk time in seconds\n",
    "hh_nn['walk_time_to_nn'] = hh_nn['walk_dist_to_nn'] / 1000 / walk_speed * 3600"
   ]
  },
  {
   "cell_type": "code",
   "execution_count": 198,
   "metadata": {},
   "outputs": [
    {
     "data": {
      "text/html": [
       "<div>\n",
       "<style scoped>\n",
       "    .dataframe tbody tr th:only-of-type {\n",
       "        vertical-align: middle;\n",
       "    }\n",
       "\n",
       "    .dataframe tbody tr th {\n",
       "        vertical-align: top;\n",
       "    }\n",
       "\n",
       "    .dataframe thead th {\n",
       "        text-align: right;\n",
       "    }\n",
       "</style>\n",
       "<table border=\"1\" class=\"dataframe\">\n",
       "  <thead>\n",
       "    <tr style=\"text-align: right;\">\n",
       "      <th></th>\n",
       "      <th>unique_respondent</th>\n",
       "      <th>PIN</th>\n",
       "      <th>walk_dist_to_nn</th>\n",
       "      <th>hhNN</th>\n",
       "      <th>hhlat</th>\n",
       "      <th>hhlon</th>\n",
       "      <th>walk_time_to_nn</th>\n",
       "    </tr>\n",
       "  </thead>\n",
       "  <tbody>\n",
       "    <tr>\n",
       "      <th>0</th>\n",
       "      <td>1011</td>\n",
       "      <td>400005</td>\n",
       "      <td>19.906592</td>\n",
       "      <td>24983</td>\n",
       "      <td>18.909705</td>\n",
       "      <td>72.813837</td>\n",
       "      <td>14.332746</td>\n",
       "    </tr>\n",
       "    <tr>\n",
       "      <th>1</th>\n",
       "      <td>1021</td>\n",
       "      <td>400064</td>\n",
       "      <td>18.127978</td>\n",
       "      <td>24983</td>\n",
       "      <td>18.909766</td>\n",
       "      <td>72.813820</td>\n",
       "      <td>13.052144</td>\n",
       "    </tr>\n",
       "    <tr>\n",
       "      <th>2</th>\n",
       "      <td>1031</td>\n",
       "      <td>400005</td>\n",
       "      <td>8.707958</td>\n",
       "      <td>24983</td>\n",
       "      <td>18.909751</td>\n",
       "      <td>72.813732</td>\n",
       "      <td>6.269730</td>\n",
       "    </tr>\n",
       "  </tbody>\n",
       "</table>\n",
       "</div>"
      ],
      "text/plain": [
       "   unique_respondent     PIN  walk_dist_to_nn   hhNN      hhlat      hhlon  \\\n",
       "0               1011  400005        19.906592  24983  18.909705  72.813837   \n",
       "1               1021  400064        18.127978  24983  18.909766  72.813820   \n",
       "2               1031  400005         8.707958  24983  18.909751  72.813732   \n",
       "\n",
       "   walk_time_to_nn  \n",
       "0        14.332746  \n",
       "1        13.052144  \n",
       "2         6.269730  "
      ]
     },
     "execution_count": 198,
     "metadata": {},
     "output_type": "execute_result"
    }
   ],
   "source": [
    "hh_nn[:3]"
   ]
  },
  {
   "cell_type": "code",
   "execution_count": 239,
   "metadata": {},
   "outputs": [
    {
     "data": {
      "text/html": [
       "<div>\n",
       "<style scoped>\n",
       "    .dataframe tbody tr th:only-of-type {\n",
       "        vertical-align: middle;\n",
       "    }\n",
       "\n",
       "    .dataframe tbody tr th {\n",
       "        vertical-align: top;\n",
       "    }\n",
       "\n",
       "    .dataframe thead th {\n",
       "        text-align: right;\n",
       "    }\n",
       "</style>\n",
       "<table border=\"1\" class=\"dataframe\">\n",
       "  <thead>\n",
       "    <tr style=\"text-align: right;\">\n",
       "      <th></th>\n",
       "      <th>NAME_2</th>\n",
       "      <th>PIN</th>\n",
       "      <th>geometry</th>\n",
       "      <th>NN</th>\n",
       "      <th>NN_dist</th>\n",
       "    </tr>\n",
       "  </thead>\n",
       "  <tbody>\n",
       "    <tr>\n",
       "      <th>0</th>\n",
       "      <td>Greater Bombay</td>\n",
       "      <td>0</td>\n",
       "      <td>POINT (72.96943284769529 19.1798709108074)</td>\n",
       "      <td>3216</td>\n",
       "      <td>0.000321</td>\n",
       "    </tr>\n",
       "    <tr>\n",
       "      <th>1</th>\n",
       "      <td>Greater Bombay</td>\n",
       "      <td>400005</td>\n",
       "      <td>POINT (72.81558260090947 18.90786843611552)</td>\n",
       "      <td>14178</td>\n",
       "      <td>0.000408</td>\n",
       "    </tr>\n",
       "    <tr>\n",
       "      <th>2</th>\n",
       "      <td>Greater Bombay</td>\n",
       "      <td>400021</td>\n",
       "      <td>POINT (72.82371588197657 18.92448769713017)</td>\n",
       "      <td>14883</td>\n",
       "      <td>0.000338</td>\n",
       "    </tr>\n",
       "  </tbody>\n",
       "</table>\n",
       "</div>"
      ],
      "text/plain": [
       "           NAME_2     PIN                                     geometry     NN  \\\n",
       "0  Greater Bombay       0   POINT (72.96943284769529 19.1798709108074)   3216   \n",
       "1  Greater Bombay  400005  POINT (72.81558260090947 18.90786843611552)  14178   \n",
       "2  Greater Bombay  400021  POINT (72.82371588197657 18.92448769713017)  14883   \n",
       "\n",
       "    NN_dist  \n",
       "0  0.000321  \n",
       "1  0.000408  \n",
       "2  0.000338  "
      ]
     },
     "execution_count": 239,
     "metadata": {},
     "output_type": "execute_result"
    }
   ],
   "source": [
    "# Get nodes for the input admin\n",
    "# snapping the employment by PIN centroids to the combo graph\n",
    "det_nn = gn.pandana_snap(G_combo, inJ_cen_by_pin)\n",
    "det_nn[:3]\n",
    "# for the destination nodes the nearest node distance will be disregarded, because the destinations are centroids \n",
    "# and inherently not precise, adding a walking time to the centroid will not add any value to the analysis"
   ]
  },
  {
   "cell_type": "code",
   "execution_count": 200,
   "metadata": {},
   "outputs": [
    {
     "name": "stdout",
     "output_type": "stream",
     "text": [
      "det_nn count\n",
      "107\n"
     ]
    }
   ],
   "source": [
    "det_nn = det_nn[['PIN', 'NN', 'geometry']]\n",
    "det_nn_gpd = gpd.GeoDataFrame(det_nn, geometry='geometry')\n",
    "det_nn_gpd['detlat'] = det_nn_gpd['geometry'].y\n",
    "det_nn_gpd['detlon'] = det_nn_gpd['geometry'].x\n",
    "det_nn_gpd.columns = ['PIN', \"detNN\", \"geometry\", \"detlat\", \"detlon\"]\n",
    "\n",
    "print('det_nn count')\n",
    "print(len(det_nn_gpd.index))"
   ]
  },
  {
   "cell_type": "code",
   "execution_count": 201,
   "metadata": {},
   "outputs": [
    {
     "data": {
      "text/html": [
       "<div>\n",
       "<style scoped>\n",
       "    .dataframe tbody tr th:only-of-type {\n",
       "        vertical-align: middle;\n",
       "    }\n",
       "\n",
       "    .dataframe tbody tr th {\n",
       "        vertical-align: top;\n",
       "    }\n",
       "\n",
       "    .dataframe thead th {\n",
       "        text-align: right;\n",
       "    }\n",
       "</style>\n",
       "<table border=\"1\" class=\"dataframe\">\n",
       "  <thead>\n",
       "    <tr style=\"text-align: right;\">\n",
       "      <th></th>\n",
       "      <th>PIN</th>\n",
       "      <th>detNN</th>\n",
       "      <th>geometry</th>\n",
       "      <th>detlat</th>\n",
       "      <th>detlon</th>\n",
       "    </tr>\n",
       "  </thead>\n",
       "  <tbody>\n",
       "    <tr>\n",
       "      <th>0</th>\n",
       "      <td>0</td>\n",
       "      <td>3216</td>\n",
       "      <td>POINT (72.96943284769529 19.1798709108074)</td>\n",
       "      <td>19.179871</td>\n",
       "      <td>72.969433</td>\n",
       "    </tr>\n",
       "    <tr>\n",
       "      <th>1</th>\n",
       "      <td>400005</td>\n",
       "      <td>14178</td>\n",
       "      <td>POINT (72.81558260090947 18.90786843611552)</td>\n",
       "      <td>18.907868</td>\n",
       "      <td>72.815583</td>\n",
       "    </tr>\n",
       "    <tr>\n",
       "      <th>2</th>\n",
       "      <td>400021</td>\n",
       "      <td>14883</td>\n",
       "      <td>POINT (72.82371588197657 18.92448769713017)</td>\n",
       "      <td>18.924488</td>\n",
       "      <td>72.823716</td>\n",
       "    </tr>\n",
       "    <tr>\n",
       "      <th>3</th>\n",
       "      <td>400039</td>\n",
       "      <td>11690</td>\n",
       "      <td>POINT (72.82977080668174 18.92444826663544)</td>\n",
       "      <td>18.924448</td>\n",
       "      <td>72.829771</td>\n",
       "    </tr>\n",
       "  </tbody>\n",
       "</table>\n",
       "</div>"
      ],
      "text/plain": [
       "      PIN  detNN                                     geometry     detlat  \\\n",
       "0       0   3216   POINT (72.96943284769529 19.1798709108074)  19.179871   \n",
       "1  400005  14178  POINT (72.81558260090947 18.90786843611552)  18.907868   \n",
       "2  400021  14883  POINT (72.82371588197657 18.92448769713017)  18.924488   \n",
       "3  400039  11690  POINT (72.82977080668174 18.92444826663544)  18.924448   \n",
       "\n",
       "      detlon  \n",
       "0  72.969433  \n",
       "1  72.815583  \n",
       "2  72.823716  \n",
       "3  72.829771  "
      ]
     },
     "execution_count": 201,
     "metadata": {},
     "output_type": "execute_result"
    }
   ],
   "source": [
    "det_nn_gpd[:4]"
   ]
  },
  {
   "cell_type": "code",
   "execution_count": 202,
   "metadata": {},
   "outputs": [
    {
     "data": {
      "text/plain": [
       "Index(['PIN', 'detNN', 'geometry', 'detlat', 'detlon'], dtype='object')"
      ]
     },
     "execution_count": 202,
     "metadata": {},
     "output_type": "execute_result"
    }
   ],
   "source": [
    "det_nn_gpd.keys()"
   ]
  },
  {
   "cell_type": "code",
   "execution_count": 203,
   "metadata": {},
   "outputs": [],
   "source": [
    "# to make sure PIN is unique, get rid of '0' rows.\n",
    "det_nn_gpd = det_nn[det_nn['PIN'] != 0]"
   ]
  },
  {
   "cell_type": "code",
   "execution_count": 204,
   "metadata": {},
   "outputs": [
    {
     "data": {
      "text/html": [
       "<div>\n",
       "<style scoped>\n",
       "    .dataframe tbody tr th:only-of-type {\n",
       "        vertical-align: middle;\n",
       "    }\n",
       "\n",
       "    .dataframe tbody tr th {\n",
       "        vertical-align: top;\n",
       "    }\n",
       "\n",
       "    .dataframe thead th {\n",
       "        text-align: right;\n",
       "    }\n",
       "</style>\n",
       "<table border=\"1\" class=\"dataframe\">\n",
       "  <thead>\n",
       "    <tr style=\"text-align: right;\">\n",
       "      <th></th>\n",
       "      <th>PIN</th>\n",
       "      <th>detNN</th>\n",
       "      <th>geometry</th>\n",
       "      <th>detlat</th>\n",
       "      <th>detlon</th>\n",
       "    </tr>\n",
       "  </thead>\n",
       "  <tbody>\n",
       "    <tr>\n",
       "      <th>1</th>\n",
       "      <td>400005</td>\n",
       "      <td>14178</td>\n",
       "      <td>POINT (72.81558260090947 18.90786843611552)</td>\n",
       "      <td>18.907868</td>\n",
       "      <td>72.815583</td>\n",
       "    </tr>\n",
       "    <tr>\n",
       "      <th>2</th>\n",
       "      <td>400021</td>\n",
       "      <td>14883</td>\n",
       "      <td>POINT (72.82371588197657 18.92448769713017)</td>\n",
       "      <td>18.924488</td>\n",
       "      <td>72.823716</td>\n",
       "    </tr>\n",
       "    <tr>\n",
       "      <th>3</th>\n",
       "      <td>400039</td>\n",
       "      <td>11690</td>\n",
       "      <td>POINT (72.82977080668174 18.92444826663544)</td>\n",
       "      <td>18.924448</td>\n",
       "      <td>72.829771</td>\n",
       "    </tr>\n",
       "    <tr>\n",
       "      <th>4</th>\n",
       "      <td>400032</td>\n",
       "      <td>21306</td>\n",
       "      <td>POINT (72.82565902971034 18.92695446518702)</td>\n",
       "      <td>18.926954</td>\n",
       "      <td>72.825659</td>\n",
       "    </tr>\n",
       "  </tbody>\n",
       "</table>\n",
       "</div>"
      ],
      "text/plain": [
       "      PIN  detNN                                     geometry     detlat  \\\n",
       "1  400005  14178  POINT (72.81558260090947 18.90786843611552)  18.907868   \n",
       "2  400021  14883  POINT (72.82371588197657 18.92448769713017)  18.924488   \n",
       "3  400039  11690  POINT (72.82977080668174 18.92444826663544)  18.924448   \n",
       "4  400032  21306  POINT (72.82565902971034 18.92695446518702)  18.926954   \n",
       "\n",
       "      detlon  \n",
       "1  72.815583  \n",
       "2  72.823716  \n",
       "3  72.829771  \n",
       "4  72.825659  "
      ]
     },
     "execution_count": 204,
     "metadata": {},
     "output_type": "execute_result"
    }
   ],
   "source": [
    "det_nn_gpd[:4]"
   ]
  },
  {
   "cell_type": "code",
   "execution_count": 205,
   "metadata": {},
   "outputs": [
    {
     "name": "stdout",
     "output_type": "stream",
     "text": [
      "comboData count\n",
      "2960\n"
     ]
    }
   ],
   "source": [
    "# Combine Data\n",
    "# The default is 'inner', which is like a SQL inner join, which selects all rows from both tables as long as there is a match between the columns\n",
    "# In this case, only the rows that contain PIN values that are common between hh_nn and det_nn remain in the merged data\n",
    "# This can explain how there are less rows after the merge, for example the certain PIN values don't exist in the PIN centroids dataset\n",
    "comboData = pd.merge(hh_nn, det_nn_gpd, on='PIN')\n",
    "\n",
    "print('comboData count')\n",
    "print(len(comboData.index))"
   ]
  },
  {
   "cell_type": "code",
   "execution_count": 206,
   "metadata": {},
   "outputs": [
    {
     "data": {
      "text/html": [
       "<div>\n",
       "<style scoped>\n",
       "    .dataframe tbody tr th:only-of-type {\n",
       "        vertical-align: middle;\n",
       "    }\n",
       "\n",
       "    .dataframe tbody tr th {\n",
       "        vertical-align: top;\n",
       "    }\n",
       "\n",
       "    .dataframe thead th {\n",
       "        text-align: right;\n",
       "    }\n",
       "</style>\n",
       "<table border=\"1\" class=\"dataframe\">\n",
       "  <thead>\n",
       "    <tr style=\"text-align: right;\">\n",
       "      <th></th>\n",
       "      <th>unique_respondent</th>\n",
       "      <th>PIN</th>\n",
       "      <th>walk_dist_to_nn</th>\n",
       "      <th>hhNN</th>\n",
       "      <th>hhlat</th>\n",
       "      <th>hhlon</th>\n",
       "      <th>walk_time_to_nn</th>\n",
       "      <th>detNN</th>\n",
       "      <th>geometry</th>\n",
       "      <th>detlat</th>\n",
       "      <th>detlon</th>\n",
       "    </tr>\n",
       "  </thead>\n",
       "  <tbody>\n",
       "    <tr>\n",
       "      <th>0</th>\n",
       "      <td>1011</td>\n",
       "      <td>400005</td>\n",
       "      <td>19.906592</td>\n",
       "      <td>24983</td>\n",
       "      <td>18.909705</td>\n",
       "      <td>72.813837</td>\n",
       "      <td>14.332746</td>\n",
       "      <td>14178</td>\n",
       "      <td>POINT (72.81558260090947 18.90786843611552)</td>\n",
       "      <td>18.907868</td>\n",
       "      <td>72.815583</td>\n",
       "    </tr>\n",
       "    <tr>\n",
       "      <th>1</th>\n",
       "      <td>1031</td>\n",
       "      <td>400005</td>\n",
       "      <td>8.707958</td>\n",
       "      <td>24983</td>\n",
       "      <td>18.909751</td>\n",
       "      <td>72.813732</td>\n",
       "      <td>6.269730</td>\n",
       "      <td>14178</td>\n",
       "      <td>POINT (72.81558260090947 18.90786843611552)</td>\n",
       "      <td>18.907868</td>\n",
       "      <td>72.815583</td>\n",
       "    </tr>\n",
       "    <tr>\n",
       "      <th>2</th>\n",
       "      <td>1041</td>\n",
       "      <td>400005</td>\n",
       "      <td>46.033518</td>\n",
       "      <td>6352</td>\n",
       "      <td>18.909460</td>\n",
       "      <td>72.814240</td>\n",
       "      <td>33.144133</td>\n",
       "      <td>14178</td>\n",
       "      <td>POINT (72.81558260090947 18.90786843611552)</td>\n",
       "      <td>18.907868</td>\n",
       "      <td>72.815583</td>\n",
       "    </tr>\n",
       "  </tbody>\n",
       "</table>\n",
       "</div>"
      ],
      "text/plain": [
       "   unique_respondent     PIN  walk_dist_to_nn   hhNN      hhlat      hhlon  \\\n",
       "0               1011  400005        19.906592  24983  18.909705  72.813837   \n",
       "1               1031  400005         8.707958  24983  18.909751  72.813732   \n",
       "2               1041  400005        46.033518   6352  18.909460  72.814240   \n",
       "\n",
       "   walk_time_to_nn  detNN                                     geometry  \\\n",
       "0        14.332746  14178  POINT (72.81558260090947 18.90786843611552)   \n",
       "1         6.269730  14178  POINT (72.81558260090947 18.90786843611552)   \n",
       "2        33.144133  14178  POINT (72.81558260090947 18.90786843611552)   \n",
       "\n",
       "      detlat     detlon  \n",
       "0  18.907868  72.815583  \n",
       "1  18.907868  72.815583  \n",
       "2  18.907868  72.815583  "
      ]
     },
     "execution_count": 206,
     "metadata": {},
     "output_type": "execute_result"
    }
   ],
   "source": [
    "comboData[:3]"
   ]
  },
  {
   "cell_type": "code",
   "execution_count": 207,
   "metadata": {},
   "outputs": [],
   "source": [
    "# Driving, Rail, and Driving & Rail distance from the individual to their workplace\n",
    "drive_Vals = []\n",
    "rail_Vals = []\n",
    "drive_and_rail_Vals = []\n",
    "walk_Vals = []\n",
    "euclidean_Vals = []\n",
    "for idx, row in comboData.iterrows():\n",
    "    distance1 = nx.shortest_path_length(G_combo, row['hhNN'], row['detNN'], weight='time') + row['walk_time_to_nn']\n",
    "    drive_Vals.append(distance1)\n",
    "comboData['driveToWork'] = drive_Vals\n",
    "for idx, row in comboData.iterrows():\n",
    "    distance2 = nx.shortest_path_length(G_combo, row['hhNN'], row['detNN'], weight='rail_time') + row['walk_time_to_nn']\n",
    "    rail_Vals.append(distance2)\n",
    "comboData['railToWork'] = rail_Vals\n",
    "for idx, row in comboData.iterrows():\n",
    "    distance3 = nx.shortest_path_length(G_combo, row['hhNN'], row['detNN'], weight='road_and_rail_time') + row['walk_time_to_nn']\n",
    "    drive_and_rail_Vals.append(distance3)\n",
    "comboData['DriveandRailToWork'] = drive_and_rail_Vals\n",
    "for idx, row in comboData.iterrows():\n",
    "    distance4 = nx.shortest_path_length(G_combo, row['hhNN'], row['detNN'], weight='walk_time') + row['walk_time_to_nn']\n",
    "    walk_Vals.append(distance4)\n",
    "comboData['WalkToWork'] = walk_Vals\n",
    "for idx, row in comboData.iterrows():\n",
    "    #returns in km\n",
    "    euclidean_distance = gn.euclidean_distance(row['hhlat'], row['hhlon'], row['detlat'], row['detlon'])\n",
    "    euclidean_Vals.append(euclidean_distance)\n",
    "comboData['euclidean_distance_km'] = euclidean_Vals"
   ]
  },
  {
   "cell_type": "code",
   "execution_count": 208,
   "metadata": {},
   "outputs": [
    {
     "data": {
      "text/html": [
       "<div>\n",
       "<style scoped>\n",
       "    .dataframe tbody tr th:only-of-type {\n",
       "        vertical-align: middle;\n",
       "    }\n",
       "\n",
       "    .dataframe tbody tr th {\n",
       "        vertical-align: top;\n",
       "    }\n",
       "\n",
       "    .dataframe thead th {\n",
       "        text-align: right;\n",
       "    }\n",
       "</style>\n",
       "<table border=\"1\" class=\"dataframe\">\n",
       "  <thead>\n",
       "    <tr style=\"text-align: right;\">\n",
       "      <th></th>\n",
       "      <th>unique_respondent</th>\n",
       "      <th>PIN</th>\n",
       "      <th>walk_dist_to_nn</th>\n",
       "      <th>hhNN</th>\n",
       "      <th>hhlat</th>\n",
       "      <th>hhlon</th>\n",
       "      <th>walk_time_to_nn</th>\n",
       "      <th>detNN</th>\n",
       "      <th>geometry</th>\n",
       "      <th>detlat</th>\n",
       "      <th>detlon</th>\n",
       "      <th>driveToWork</th>\n",
       "      <th>railToWork</th>\n",
       "      <th>DriveandRailToWork</th>\n",
       "      <th>WalkToWork</th>\n",
       "      <th>euclidean_distance_km</th>\n",
       "    </tr>\n",
       "  </thead>\n",
       "  <tbody>\n",
       "    <tr>\n",
       "      <th>0</th>\n",
       "      <td>1011</td>\n",
       "      <td>400005</td>\n",
       "      <td>19.906592</td>\n",
       "      <td>24983</td>\n",
       "      <td>18.909705</td>\n",
       "      <td>72.813837</td>\n",
       "      <td>14.332746</td>\n",
       "      <td>14178</td>\n",
       "      <td>POINT (72.81558260090947 18.90786843611552)</td>\n",
       "      <td>18.907868</td>\n",
       "      <td>72.815583</td>\n",
       "      <td>186.442259</td>\n",
       "      <td>528.723066</td>\n",
       "      <td>186.442259</td>\n",
       "      <td>528.723066</td>\n",
       "      <td>0.274461</td>\n",
       "    </tr>\n",
       "    <tr>\n",
       "      <th>1</th>\n",
       "      <td>1031</td>\n",
       "      <td>400005</td>\n",
       "      <td>8.707958</td>\n",
       "      <td>24983</td>\n",
       "      <td>18.909751</td>\n",
       "      <td>72.813732</td>\n",
       "      <td>6.269730</td>\n",
       "      <td>14178</td>\n",
       "      <td>POINT (72.81558260090947 18.90786843611552)</td>\n",
       "      <td>18.907868</td>\n",
       "      <td>72.815583</td>\n",
       "      <td>178.379243</td>\n",
       "      <td>520.660050</td>\n",
       "      <td>178.379243</td>\n",
       "      <td>520.660050</td>\n",
       "      <td>0.285683</td>\n",
       "    </tr>\n",
       "    <tr>\n",
       "      <th>2</th>\n",
       "      <td>1041</td>\n",
       "      <td>400005</td>\n",
       "      <td>46.033518</td>\n",
       "      <td>6352</td>\n",
       "      <td>18.909460</td>\n",
       "      <td>72.814240</td>\n",
       "      <td>33.144133</td>\n",
       "      <td>14178</td>\n",
       "      <td>POINT (72.81558260090947 18.90786843611552)</td>\n",
       "      <td>18.907868</td>\n",
       "      <td>72.815583</td>\n",
       "      <td>171.176916</td>\n",
       "      <td>455.356453</td>\n",
       "      <td>171.176916</td>\n",
       "      <td>455.356453</td>\n",
       "      <td>0.226280</td>\n",
       "    </tr>\n",
       "    <tr>\n",
       "      <th>3</th>\n",
       "      <td>2011</td>\n",
       "      <td>400005</td>\n",
       "      <td>37.877030</td>\n",
       "      <td>19331</td>\n",
       "      <td>18.941155</td>\n",
       "      <td>72.832300</td>\n",
       "      <td>27.271462</td>\n",
       "      <td>14178</td>\n",
       "      <td>POINT (72.81558260090947 18.90786843611552)</td>\n",
       "      <td>18.907868</td>\n",
       "      <td>72.815583</td>\n",
       "      <td>734.945936</td>\n",
       "      <td>3052.389302</td>\n",
       "      <td>734.945936</td>\n",
       "      <td>3052.389302</td>\n",
       "      <td>4.095184</td>\n",
       "    </tr>\n",
       "    <tr>\n",
       "      <th>4</th>\n",
       "      <td>3011</td>\n",
       "      <td>400005</td>\n",
       "      <td>35.423199</td>\n",
       "      <td>8741</td>\n",
       "      <td>18.915563</td>\n",
       "      <td>72.828682</td>\n",
       "      <td>25.504703</td>\n",
       "      <td>14178</td>\n",
       "      <td>POINT (72.81558260090947 18.90786843611552)</td>\n",
       "      <td>18.907868</td>\n",
       "      <td>72.815583</td>\n",
       "      <td>390.380487</td>\n",
       "      <td>1359.189503</td>\n",
       "      <td>390.380487</td>\n",
       "      <td>1359.189503</td>\n",
       "      <td>1.620961</td>\n",
       "    </tr>\n",
       "  </tbody>\n",
       "</table>\n",
       "</div>"
      ],
      "text/plain": [
       "   unique_respondent     PIN  walk_dist_to_nn   hhNN      hhlat      hhlon  \\\n",
       "0               1011  400005        19.906592  24983  18.909705  72.813837   \n",
       "1               1031  400005         8.707958  24983  18.909751  72.813732   \n",
       "2               1041  400005        46.033518   6352  18.909460  72.814240   \n",
       "3               2011  400005        37.877030  19331  18.941155  72.832300   \n",
       "4               3011  400005        35.423199   8741  18.915563  72.828682   \n",
       "\n",
       "   walk_time_to_nn  detNN                                     geometry  \\\n",
       "0        14.332746  14178  POINT (72.81558260090947 18.90786843611552)   \n",
       "1         6.269730  14178  POINT (72.81558260090947 18.90786843611552)   \n",
       "2        33.144133  14178  POINT (72.81558260090947 18.90786843611552)   \n",
       "3        27.271462  14178  POINT (72.81558260090947 18.90786843611552)   \n",
       "4        25.504703  14178  POINT (72.81558260090947 18.90786843611552)   \n",
       "\n",
       "      detlat     detlon  driveToWork   railToWork  DriveandRailToWork  \\\n",
       "0  18.907868  72.815583   186.442259   528.723066          186.442259   \n",
       "1  18.907868  72.815583   178.379243   520.660050          178.379243   \n",
       "2  18.907868  72.815583   171.176916   455.356453          171.176916   \n",
       "3  18.907868  72.815583   734.945936  3052.389302          734.945936   \n",
       "4  18.907868  72.815583   390.380487  1359.189503          390.380487   \n",
       "\n",
       "    WalkToWork  euclidean_distance_km  \n",
       "0   528.723066               0.274461  \n",
       "1   520.660050               0.285683  \n",
       "2   455.356453               0.226280  \n",
       "3  3052.389302               4.095184  \n",
       "4  1359.189503               1.620961  "
      ]
     },
     "execution_count": 208,
     "metadata": {},
     "output_type": "execute_result"
    }
   ],
   "source": [
    "comboData[:5]"
   ]
  },
  {
   "cell_type": "code",
   "execution_count": 209,
   "metadata": {},
   "outputs": [],
   "source": [
    "comboData.to_csv(inHouseholds.replace(\".csv\", \"_all_Distances_peak_speed.csv\"))"
   ]
  },
  {
   "cell_type": "code",
   "execution_count": 210,
   "metadata": {},
   "outputs": [],
   "source": [
    "xx = pd.merge(inH, comboData, on='unique_respondent', how='left')\n",
    "xx.to_csv(inHouseholds.replace(\".csv\", \"_all_Distances_merged_peak_speed.csv\"))"
   ]
  },
  {
   "cell_type": "markdown",
   "metadata": {},
   "source": [
    "## Run analysis 2 - household access index"
   ]
  },
  {
   "cell_type": "code",
   "execution_count": 211,
   "metadata": {},
   "outputs": [],
   "source": [
    "#len(hh_nn)"
   ]
  },
  {
   "cell_type": "code",
   "execution_count": 212,
   "metadata": {},
   "outputs": [],
   "source": [
    "#hh_nn[:3]"
   ]
  },
  {
   "cell_type": "code",
   "execution_count": 213,
   "metadata": {},
   "outputs": [],
   "source": [
    "#Identify the originNodes\n",
    "#hh_nn = gn.pandana_snap(G_combo, hh)"
   ]
  },
  {
   "cell_type": "code",
   "execution_count": 214,
   "metadata": {},
   "outputs": [],
   "source": [
    "#originNodes = hh_nn"
   ]
  },
  {
   "cell_type": "code",
   "execution_count": 246,
   "metadata": {},
   "outputs": [
    {
     "data": {
      "text/html": [
       "<div>\n",
       "<style scoped>\n",
       "    .dataframe tbody tr th:only-of-type {\n",
       "        vertical-align: middle;\n",
       "    }\n",
       "\n",
       "    .dataframe tbody tr th {\n",
       "        vertical-align: top;\n",
       "    }\n",
       "\n",
       "    .dataframe thead th {\n",
       "        text-align: right;\n",
       "    }\n",
       "</style>\n",
       "<table border=\"1\" class=\"dataframe\">\n",
       "  <thead>\n",
       "    <tr style=\"text-align: right;\">\n",
       "      <th></th>\n",
       "      <th>unique_respondent</th>\n",
       "      <th>PIN</th>\n",
       "      <th>walk_dist_to_nn</th>\n",
       "      <th>hhNN</th>\n",
       "      <th>hhlat</th>\n",
       "      <th>hhlon</th>\n",
       "      <th>walk_time_to_nn</th>\n",
       "    </tr>\n",
       "  </thead>\n",
       "  <tbody>\n",
       "    <tr>\n",
       "      <th>0</th>\n",
       "      <td>1011</td>\n",
       "      <td>400005</td>\n",
       "      <td>19.906592</td>\n",
       "      <td>24983</td>\n",
       "      <td>18.909705</td>\n",
       "      <td>72.813837</td>\n",
       "      <td>14.332746</td>\n",
       "    </tr>\n",
       "    <tr>\n",
       "      <th>1</th>\n",
       "      <td>1021</td>\n",
       "      <td>400064</td>\n",
       "      <td>18.127978</td>\n",
       "      <td>24983</td>\n",
       "      <td>18.909766</td>\n",
       "      <td>72.813820</td>\n",
       "      <td>13.052144</td>\n",
       "    </tr>\n",
       "    <tr>\n",
       "      <th>2</th>\n",
       "      <td>1031</td>\n",
       "      <td>400005</td>\n",
       "      <td>8.707958</td>\n",
       "      <td>24983</td>\n",
       "      <td>18.909751</td>\n",
       "      <td>72.813732</td>\n",
       "      <td>6.269730</td>\n",
       "    </tr>\n",
       "    <tr>\n",
       "      <th>3</th>\n",
       "      <td>1041</td>\n",
       "      <td>400005</td>\n",
       "      <td>46.033518</td>\n",
       "      <td>6352</td>\n",
       "      <td>18.909460</td>\n",
       "      <td>72.814240</td>\n",
       "      <td>33.144133</td>\n",
       "    </tr>\n",
       "    <tr>\n",
       "      <th>4</th>\n",
       "      <td>2011</td>\n",
       "      <td>400005</td>\n",
       "      <td>37.877030</td>\n",
       "      <td>19331</td>\n",
       "      <td>18.941155</td>\n",
       "      <td>72.832300</td>\n",
       "      <td>27.271462</td>\n",
       "    </tr>\n",
       "    <tr>\n",
       "      <th>5</th>\n",
       "      <td>2021</td>\n",
       "      <td>400002</td>\n",
       "      <td>38.886073</td>\n",
       "      <td>19331</td>\n",
       "      <td>18.941184</td>\n",
       "      <td>72.832227</td>\n",
       "      <td>27.997972</td>\n",
       "    </tr>\n",
       "  </tbody>\n",
       "</table>\n",
       "</div>"
      ],
      "text/plain": [
       "   unique_respondent     PIN  walk_dist_to_nn   hhNN      hhlat      hhlon  \\\n",
       "0               1011  400005        19.906592  24983  18.909705  72.813837   \n",
       "1               1021  400064        18.127978  24983  18.909766  72.813820   \n",
       "2               1031  400005         8.707958  24983  18.909751  72.813732   \n",
       "3               1041  400005        46.033518   6352  18.909460  72.814240   \n",
       "4               2011  400005        37.877030  19331  18.941155  72.832300   \n",
       "5               2021  400002        38.886073  19331  18.941184  72.832227   \n",
       "\n",
       "   walk_time_to_nn  \n",
       "0        14.332746  \n",
       "1        13.052144  \n",
       "2         6.269730  \n",
       "3        33.144133  \n",
       "4        27.271462  \n",
       "5        27.997972  "
      ]
     },
     "execution_count": 246,
     "metadata": {},
     "output_type": "execute_result"
    }
   ],
   "source": [
    "hh_nn[:6]"
   ]
  },
  {
   "cell_type": "code",
   "execution_count": 247,
   "metadata": {},
   "outputs": [],
   "source": [
    "hh_nn.columns = ['unique_respondent', 'PIN','walk_dist_to_nn','NN', 'hhlat', 'hhlon','walk_time_to_nn']"
   ]
  },
  {
   "cell_type": "code",
   "execution_count": 248,
   "metadata": {},
   "outputs": [
    {
     "data": {
      "text/html": [
       "<div>\n",
       "<style scoped>\n",
       "    .dataframe tbody tr th:only-of-type {\n",
       "        vertical-align: middle;\n",
       "    }\n",
       "\n",
       "    .dataframe tbody tr th {\n",
       "        vertical-align: top;\n",
       "    }\n",
       "\n",
       "    .dataframe thead th {\n",
       "        text-align: right;\n",
       "    }\n",
       "</style>\n",
       "<table border=\"1\" class=\"dataframe\">\n",
       "  <thead>\n",
       "    <tr style=\"text-align: right;\">\n",
       "      <th></th>\n",
       "      <th>unique_respondent</th>\n",
       "      <th>PIN</th>\n",
       "      <th>walk_dist_to_nn</th>\n",
       "      <th>NN</th>\n",
       "      <th>hhlat</th>\n",
       "      <th>hhlon</th>\n",
       "      <th>walk_time_to_nn</th>\n",
       "    </tr>\n",
       "  </thead>\n",
       "  <tbody>\n",
       "    <tr>\n",
       "      <th>0</th>\n",
       "      <td>1011</td>\n",
       "      <td>400005</td>\n",
       "      <td>19.906592</td>\n",
       "      <td>24983</td>\n",
       "      <td>18.909705</td>\n",
       "      <td>72.813837</td>\n",
       "      <td>14.332746</td>\n",
       "    </tr>\n",
       "    <tr>\n",
       "      <th>1</th>\n",
       "      <td>1021</td>\n",
       "      <td>400064</td>\n",
       "      <td>18.127978</td>\n",
       "      <td>24983</td>\n",
       "      <td>18.909766</td>\n",
       "      <td>72.813820</td>\n",
       "      <td>13.052144</td>\n",
       "    </tr>\n",
       "    <tr>\n",
       "      <th>2</th>\n",
       "      <td>1031</td>\n",
       "      <td>400005</td>\n",
       "      <td>8.707958</td>\n",
       "      <td>24983</td>\n",
       "      <td>18.909751</td>\n",
       "      <td>72.813732</td>\n",
       "      <td>6.269730</td>\n",
       "    </tr>\n",
       "    <tr>\n",
       "      <th>3</th>\n",
       "      <td>1041</td>\n",
       "      <td>400005</td>\n",
       "      <td>46.033518</td>\n",
       "      <td>6352</td>\n",
       "      <td>18.909460</td>\n",
       "      <td>72.814240</td>\n",
       "      <td>33.144133</td>\n",
       "    </tr>\n",
       "    <tr>\n",
       "      <th>4</th>\n",
       "      <td>2011</td>\n",
       "      <td>400005</td>\n",
       "      <td>37.877030</td>\n",
       "      <td>19331</td>\n",
       "      <td>18.941155</td>\n",
       "      <td>72.832300</td>\n",
       "      <td>27.271462</td>\n",
       "    </tr>\n",
       "    <tr>\n",
       "      <th>5</th>\n",
       "      <td>2021</td>\n",
       "      <td>400002</td>\n",
       "      <td>38.886073</td>\n",
       "      <td>19331</td>\n",
       "      <td>18.941184</td>\n",
       "      <td>72.832227</td>\n",
       "      <td>27.997972</td>\n",
       "    </tr>\n",
       "  </tbody>\n",
       "</table>\n",
       "</div>"
      ],
      "text/plain": [
       "   unique_respondent     PIN  walk_dist_to_nn     NN      hhlat      hhlon  \\\n",
       "0               1011  400005        19.906592  24983  18.909705  72.813837   \n",
       "1               1021  400064        18.127978  24983  18.909766  72.813820   \n",
       "2               1031  400005         8.707958  24983  18.909751  72.813732   \n",
       "3               1041  400005        46.033518   6352  18.909460  72.814240   \n",
       "4               2011  400005        37.877030  19331  18.941155  72.832300   \n",
       "5               2021  400002        38.886073  19331  18.941184  72.832227   \n",
       "\n",
       "   walk_time_to_nn  \n",
       "0        14.332746  \n",
       "1        13.052144  \n",
       "2         6.269730  \n",
       "3        33.144133  \n",
       "4        27.271462  \n",
       "5        27.997972  "
      ]
     },
     "execution_count": 248,
     "metadata": {},
     "output_type": "execute_result"
    }
   ],
   "source": [
    "hh_nn[:6]"
   ]
  },
  {
   "cell_type": "code",
   "execution_count": 249,
   "metadata": {},
   "outputs": [],
   "source": [
    "#len(originNodes)"
   ]
  },
  {
   "cell_type": "code",
   "execution_count": 250,
   "metadata": {},
   "outputs": [
    {
     "data": {
      "text/html": [
       "<div>\n",
       "<style scoped>\n",
       "    .dataframe tbody tr th:only-of-type {\n",
       "        vertical-align: middle;\n",
       "    }\n",
       "\n",
       "    .dataframe tbody tr th {\n",
       "        vertical-align: top;\n",
       "    }\n",
       "\n",
       "    .dataframe thead th {\n",
       "        text-align: right;\n",
       "    }\n",
       "</style>\n",
       "<table border=\"1\" class=\"dataframe\">\n",
       "  <thead>\n",
       "    <tr style=\"text-align: right;\">\n",
       "      <th></th>\n",
       "      <th>PIN</th>\n",
       "      <th>detNN</th>\n",
       "      <th>geometry</th>\n",
       "      <th>detlat</th>\n",
       "      <th>detlon</th>\n",
       "    </tr>\n",
       "  </thead>\n",
       "  <tbody>\n",
       "    <tr>\n",
       "      <th>1</th>\n",
       "      <td>400005</td>\n",
       "      <td>14178</td>\n",
       "      <td>POINT (72.81558260090947 18.90786843611552)</td>\n",
       "      <td>18.907868</td>\n",
       "      <td>72.815583</td>\n",
       "    </tr>\n",
       "    <tr>\n",
       "      <th>2</th>\n",
       "      <td>400021</td>\n",
       "      <td>14883</td>\n",
       "      <td>POINT (72.82371588197657 18.92448769713017)</td>\n",
       "      <td>18.924488</td>\n",
       "      <td>72.823716</td>\n",
       "    </tr>\n",
       "    <tr>\n",
       "      <th>3</th>\n",
       "      <td>400039</td>\n",
       "      <td>11690</td>\n",
       "      <td>POINT (72.82977080668174 18.92444826663544)</td>\n",
       "      <td>18.924448</td>\n",
       "      <td>72.829771</td>\n",
       "    </tr>\n",
       "    <tr>\n",
       "      <th>4</th>\n",
       "      <td>400032</td>\n",
       "      <td>21306</td>\n",
       "      <td>POINT (72.82565902971034 18.92695446518702)</td>\n",
       "      <td>18.926954</td>\n",
       "      <td>72.825659</td>\n",
       "    </tr>\n",
       "    <tr>\n",
       "      <th>5</th>\n",
       "      <td>400023</td>\n",
       "      <td>9027</td>\n",
       "      <td>POINT (72.83235440101836 18.92906961210032)</td>\n",
       "      <td>18.929070</td>\n",
       "      <td>72.832354</td>\n",
       "    </tr>\n",
       "    <tr>\n",
       "      <th>6</th>\n",
       "      <td>400020</td>\n",
       "      <td>21394</td>\n",
       "      <td>POINT (72.82708919731954 18.93358235888973)</td>\n",
       "      <td>18.933582</td>\n",
       "      <td>72.827089</td>\n",
       "    </tr>\n",
       "  </tbody>\n",
       "</table>\n",
       "</div>"
      ],
      "text/plain": [
       "      PIN  detNN                                     geometry     detlat  \\\n",
       "1  400005  14178  POINT (72.81558260090947 18.90786843611552)  18.907868   \n",
       "2  400021  14883  POINT (72.82371588197657 18.92448769713017)  18.924488   \n",
       "3  400039  11690  POINT (72.82977080668174 18.92444826663544)  18.924448   \n",
       "4  400032  21306  POINT (72.82565902971034 18.92695446518702)  18.926954   \n",
       "5  400023   9027  POINT (72.83235440101836 18.92906961210032)  18.929070   \n",
       "6  400020  21394  POINT (72.82708919731954 18.93358235888973)  18.933582   \n",
       "\n",
       "      detlon  \n",
       "1  72.815583  \n",
       "2  72.823716  \n",
       "3  72.829771  \n",
       "4  72.825659  \n",
       "5  72.832354  \n",
       "6  72.827089  "
      ]
     },
     "execution_count": 250,
     "metadata": {},
     "output_type": "execute_result"
    }
   ],
   "source": [
    "det_nn_gpd[:6]"
   ]
  },
  {
   "cell_type": "code",
   "execution_count": 251,
   "metadata": {},
   "outputs": [],
   "source": [
    "#len(originNodes)"
   ]
  },
  {
   "cell_type": "code",
   "execution_count": 252,
   "metadata": {},
   "outputs": [],
   "source": [
    "#inJ_cen_by_section[:2]"
   ]
  },
  {
   "cell_type": "code",
   "execution_count": 256,
   "metadata": {},
   "outputs": [
    {
     "data": {
      "text/plain": [
       "[24983, 24983, 24983]"
      ]
     },
     "execution_count": 256,
     "metadata": {},
     "output_type": "execute_result"
    }
   ],
   "source": [
    "list(hh_nn['NN'][:3])"
   ]
  },
  {
   "cell_type": "code",
   "execution_count": 257,
   "metadata": {},
   "outputs": [],
   "source": [
    "#inJ_cen_by_section.TOTAL_WORKERS.sum()"
   ]
  },
  {
   "cell_type": "code",
   "execution_count": 258,
   "metadata": {},
   "outputs": [],
   "source": [
    "originNodes = list(hh_nn['NN'])"
   ]
  },
  {
   "cell_type": "code",
   "execution_count": 259,
   "metadata": {},
   "outputs": [],
   "source": [
    "#Identify destinationNodes\n",
    "det_nn_section = gn.pandana_snap(G_combo, inJ_cen_by_section)"
   ]
  },
  {
   "cell_type": "code",
   "execution_count": 260,
   "metadata": {},
   "outputs": [
    {
     "data": {
      "text/html": [
       "<div>\n",
       "<style scoped>\n",
       "    .dataframe tbody tr th:only-of-type {\n",
       "        vertical-align: middle;\n",
       "    }\n",
       "\n",
       "    .dataframe tbody tr th {\n",
       "        vertical-align: top;\n",
       "    }\n",
       "\n",
       "    .dataframe thead th {\n",
       "        text-align: right;\n",
       "    }\n",
       "</style>\n",
       "<table border=\"1\" class=\"dataframe\">\n",
       "  <thead>\n",
       "    <tr style=\"text-align: right;\">\n",
       "      <th></th>\n",
       "      <th>WARD_ID</th>\n",
       "      <th>WARD_NO</th>\n",
       "      <th>NAME</th>\n",
       "      <th>MUNI_WARD</th>\n",
       "      <th>C_CODE11</th>\n",
       "      <th>CITY</th>\n",
       "      <th>STATE_UT</th>\n",
       "      <th>TOT_HH</th>\n",
       "      <th>TOT_POP</th>\n",
       "      <th>M_POP</th>\n",
       "      <th>...</th>\n",
       "      <th>M_NNW</th>\n",
       "      <th>F_NNW</th>\n",
       "      <th>geometry</th>\n",
       "      <th>section</th>\n",
       "      <th>TOTAL_WORKERS</th>\n",
       "      <th>male_num</th>\n",
       "      <th>female_num</th>\n",
       "      <th>Number of units</th>\n",
       "      <th>NN</th>\n",
       "      <th>NN_dist</th>\n",
       "    </tr>\n",
       "  </thead>\n",
       "  <tbody>\n",
       "    <tr>\n",
       "      <th>0</th>\n",
       "      <td>74</td>\n",
       "      <td>74</td>\n",
       "      <td>Greater Mumbai (M Corp.) (Part) WARD NO.-1874</td>\n",
       "      <td>R NORTH</td>\n",
       "      <td>27518999998027941874</td>\n",
       "      <td>Greater Mumbai</td>\n",
       "      <td>Maharashtra</td>\n",
       "      <td>36517</td>\n",
       "      <td>154540</td>\n",
       "      <td>81975</td>\n",
       "      <td>...</td>\n",
       "      <td>33880</td>\n",
       "      <td>59607</td>\n",
       "      <td>POINT (72.86367396993295 19.26007731432633)</td>\n",
       "      <td>74</td>\n",
       "      <td>24891</td>\n",
       "      <td>21104</td>\n",
       "      <td>3787</td>\n",
       "      <td>8,523</td>\n",
       "      <td>21887</td>\n",
       "      <td>0.000410</td>\n",
       "    </tr>\n",
       "    <tr>\n",
       "      <th>1</th>\n",
       "      <td>71</td>\n",
       "      <td>71</td>\n",
       "      <td>Greater Mumbai (M Corp.) (Part) WARD NO.-1771</td>\n",
       "      <td>R CENTRAL</td>\n",
       "      <td>27518999998027941771</td>\n",
       "      <td>Greater Mumbai</td>\n",
       "      <td>Maharashtra</td>\n",
       "      <td>1382</td>\n",
       "      <td>6060</td>\n",
       "      <td>3332</td>\n",
       "      <td>...</td>\n",
       "      <td>1284</td>\n",
       "      <td>1726</td>\n",
       "      <td>POINT (72.80193715484089 19.23995946389579)</td>\n",
       "      <td>71</td>\n",
       "      <td>908</td>\n",
       "      <td>685</td>\n",
       "      <td>223</td>\n",
       "      <td>544</td>\n",
       "      <td>23593</td>\n",
       "      <td>0.021754</td>\n",
       "    </tr>\n",
       "    <tr>\n",
       "      <th>2</th>\n",
       "      <td>72</td>\n",
       "      <td>72</td>\n",
       "      <td>Greater Mumbai (M Corp.) (Part) WARD NO.-1772</td>\n",
       "      <td>R CENTRAL</td>\n",
       "      <td>27518999998027941772</td>\n",
       "      <td>Greater Mumbai</td>\n",
       "      <td>Maharashtra</td>\n",
       "      <td>21044</td>\n",
       "      <td>91245</td>\n",
       "      <td>48006</td>\n",
       "      <td>...</td>\n",
       "      <td>19465</td>\n",
       "      <td>35022</td>\n",
       "      <td>POINT (72.86037885584142 19.22328990277008)</td>\n",
       "      <td>72</td>\n",
       "      <td>19323</td>\n",
       "      <td>15917</td>\n",
       "      <td>3406</td>\n",
       "      <td>5,468</td>\n",
       "      <td>25807</td>\n",
       "      <td>0.001097</td>\n",
       "    </tr>\n",
       "  </tbody>\n",
       "</table>\n",
       "<p>3 rows × 100 columns</p>\n",
       "</div>"
      ],
      "text/plain": [
       "   WARD_ID  WARD_NO                                           NAME  MUNI_WARD  \\\n",
       "0       74       74  Greater Mumbai (M Corp.) (Part) WARD NO.-1874    R NORTH   \n",
       "1       71       71  Greater Mumbai (M Corp.) (Part) WARD NO.-1771  R CENTRAL   \n",
       "2       72       72  Greater Mumbai (M Corp.) (Part) WARD NO.-1772  R CENTRAL   \n",
       "\n",
       "               C_CODE11            CITY     STATE_UT  TOT_HH  TOT_POP  M_POP  \\\n",
       "0  27518999998027941874  Greater Mumbai  Maharashtra   36517   154540  81975   \n",
       "1  27518999998027941771  Greater Mumbai  Maharashtra    1382     6060   3332   \n",
       "2  27518999998027941772  Greater Mumbai  Maharashtra   21044    91245  48006   \n",
       "\n",
       "   ...  M_NNW  F_NNW                                     geometry  section  \\\n",
       "0  ...  33880  59607  POINT (72.86367396993295 19.26007731432633)       74   \n",
       "1  ...   1284   1726  POINT (72.80193715484089 19.23995946389579)       71   \n",
       "2  ...  19465  35022  POINT (72.86037885584142 19.22328990277008)       72   \n",
       "\n",
       "   TOTAL_WORKERS  male_num  female_num  Number of units     NN   NN_dist  \n",
       "0          24891     21104        3787            8,523  21887  0.000410  \n",
       "1            908       685         223              544  23593  0.021754  \n",
       "2          19323     15917        3406            5,468  25807  0.001097  \n",
       "\n",
       "[3 rows x 100 columns]"
      ]
     },
     "execution_count": 260,
     "metadata": {},
     "output_type": "execute_result"
    }
   ],
   "source": [
    "det_nn_section[:3]"
   ]
  },
  {
   "cell_type": "code",
   "execution_count": 261,
   "metadata": {},
   "outputs": [],
   "source": [
    "#destNodes = list(det_nn_section['detNN'])\n",
    "destNodes = det_nn_section['NN'].unique()\n",
    "#originNodes\n",
    "#destNodes"
   ]
  },
  {
   "cell_type": "code",
   "execution_count": 262,
   "metadata": {},
   "outputs": [],
   "source": [
    "# Calculate OD matrix\n",
    "# for the output matrices the order of the orgins and destinations are preserved\n",
    "od_driving = gn.calculate_OD(G_combo, originNodes, destNodes, fail_value=-1, weight='time')"
   ]
  },
  {
   "cell_type": "code",
   "execution_count": 263,
   "metadata": {},
   "outputs": [],
   "source": [
    "od_rail = gn.calculate_OD(G_combo, originNodes, destNodes, fail_value=-1, weight='rail_time')\n",
    "od_driving_and_rail = gn.calculate_OD(G_combo, originNodes, destNodes, fail_value=-1, weight='road_and_rail_time')"
   ]
  },
  {
   "cell_type": "code",
   "execution_count": 265,
   "metadata": {},
   "outputs": [
    {
     "ename": "MemoryError",
     "evalue": "",
     "output_type": "error",
     "traceback": [
      "\u001b[0;31m---------------------------------------------------------------------------\u001b[0m",
      "\u001b[0;31mMemoryError\u001b[0m                               Traceback (most recent call last)",
      "\u001b[0;32m<ipython-input-265-0f9985d3069a>\u001b[0m in \u001b[0;36m<module>\u001b[0;34m\u001b[0m\n\u001b[1;32m     42\u001b[0m             \u001b[0mcolName\u001b[0m \u001b[0;34m=\u001b[0m \u001b[0;34m\"%s_%s_%s\"\u001b[0m \u001b[0;34m%\u001b[0m \u001b[0;34m(\u001b[0m\u001b[0modType\u001b[0m\u001b[0;34m,\u001b[0m \u001b[0mweightColumn\u001b[0m\u001b[0;34m,\u001b[0m \u001b[0mtravel_time\u001b[0m\u001b[0;34m)\u001b[0m\u001b[0;34m\u001b[0m\u001b[0;34m\u001b[0m\u001b[0m\n\u001b[1;32m     43\u001b[0m             \u001b[0mresultweights\u001b[0m\u001b[0;34m.\u001b[0m\u001b[0mcolumns\u001b[0m \u001b[0;34m=\u001b[0m \u001b[0;34m[\u001b[0m\u001b[0;34m'NN'\u001b[0m\u001b[0;34m,\u001b[0m \u001b[0mcolName\u001b[0m\u001b[0;34m]\u001b[0m\u001b[0;34m\u001b[0m\u001b[0;34m\u001b[0m\u001b[0m\n\u001b[0;32m---> 44\u001b[0;31m             \u001b[0mhh_out\u001b[0m \u001b[0;34m=\u001b[0m \u001b[0mpd\u001b[0m\u001b[0;34m.\u001b[0m\u001b[0mmerge\u001b[0m\u001b[0;34m(\u001b[0m\u001b[0mhh_out\u001b[0m\u001b[0;34m,\u001b[0m \u001b[0mresultweights\u001b[0m\u001b[0;34m,\u001b[0m \u001b[0mon\u001b[0m\u001b[0;34m=\u001b[0m\u001b[0;34m\"NN\"\u001b[0m\u001b[0;34m)\u001b[0m\u001b[0;34m\u001b[0m\u001b[0;34m\u001b[0m\u001b[0m\n\u001b[0m\u001b[1;32m     45\u001b[0m \u001b[0;34m\u001b[0m\u001b[0m\n\u001b[1;32m     46\u001b[0m \u001b[0mhh_out\u001b[0m\u001b[0;34m.\u001b[0m\u001b[0mto_csv\u001b[0m\u001b[0;34m(\u001b[0m\u001b[0mos\u001b[0m\u001b[0;34m.\u001b[0m\u001b[0mpath\u001b[0m\u001b[0;34m.\u001b[0m\u001b[0mjoin\u001b[0m\u001b[0;34m(\u001b[0m\u001b[0minputFolder\u001b[0m\u001b[0;34m,\u001b[0m \u001b[0;34m\"weighted_distance_all_JOBS_peak_speed.csv\"\u001b[0m\u001b[0;34m)\u001b[0m\u001b[0;34m)\u001b[0m\u001b[0;34m\u001b[0m\u001b[0;34m\u001b[0m\u001b[0m\n",
      "\u001b[0;32m~/miniconda3/envs/GOST_PublicGoods4/lib/python3.7/site-packages/pandas/core/reshape/merge.py\u001b[0m in \u001b[0;36mmerge\u001b[0;34m(left, right, how, on, left_on, right_on, left_index, right_index, sort, suffixes, copy, indicator, validate)\u001b[0m\n\u001b[1;32m     46\u001b[0m                          \u001b[0mcopy\u001b[0m\u001b[0;34m=\u001b[0m\u001b[0mcopy\u001b[0m\u001b[0;34m,\u001b[0m \u001b[0mindicator\u001b[0m\u001b[0;34m=\u001b[0m\u001b[0mindicator\u001b[0m\u001b[0;34m,\u001b[0m\u001b[0;34m\u001b[0m\u001b[0;34m\u001b[0m\u001b[0m\n\u001b[1;32m     47\u001b[0m                          validate=validate)\n\u001b[0;32m---> 48\u001b[0;31m     \u001b[0;32mreturn\u001b[0m \u001b[0mop\u001b[0m\u001b[0;34m.\u001b[0m\u001b[0mget_result\u001b[0m\u001b[0;34m(\u001b[0m\u001b[0;34m)\u001b[0m\u001b[0;34m\u001b[0m\u001b[0;34m\u001b[0m\u001b[0m\n\u001b[0m\u001b[1;32m     49\u001b[0m \u001b[0;34m\u001b[0m\u001b[0m\n\u001b[1;32m     50\u001b[0m \u001b[0;34m\u001b[0m\u001b[0m\n",
      "\u001b[0;32m~/miniconda3/envs/GOST_PublicGoods4/lib/python3.7/site-packages/pandas/core/reshape/merge.py\u001b[0m in \u001b[0;36mget_result\u001b[0;34m(self)\u001b[0m\n\u001b[1;32m    544\u001b[0m                 self.left, self.right)\n\u001b[1;32m    545\u001b[0m \u001b[0;34m\u001b[0m\u001b[0m\n\u001b[0;32m--> 546\u001b[0;31m         \u001b[0mjoin_index\u001b[0m\u001b[0;34m,\u001b[0m \u001b[0mleft_indexer\u001b[0m\u001b[0;34m,\u001b[0m \u001b[0mright_indexer\u001b[0m \u001b[0;34m=\u001b[0m \u001b[0mself\u001b[0m\u001b[0;34m.\u001b[0m\u001b[0m_get_join_info\u001b[0m\u001b[0;34m(\u001b[0m\u001b[0;34m)\u001b[0m\u001b[0;34m\u001b[0m\u001b[0;34m\u001b[0m\u001b[0m\n\u001b[0m\u001b[1;32m    547\u001b[0m \u001b[0;34m\u001b[0m\u001b[0m\n\u001b[1;32m    548\u001b[0m         \u001b[0mldata\u001b[0m\u001b[0;34m,\u001b[0m \u001b[0mrdata\u001b[0m \u001b[0;34m=\u001b[0m \u001b[0mself\u001b[0m\u001b[0;34m.\u001b[0m\u001b[0mleft\u001b[0m\u001b[0;34m.\u001b[0m\u001b[0m_data\u001b[0m\u001b[0;34m,\u001b[0m \u001b[0mself\u001b[0m\u001b[0;34m.\u001b[0m\u001b[0mright\u001b[0m\u001b[0;34m.\u001b[0m\u001b[0m_data\u001b[0m\u001b[0;34m\u001b[0m\u001b[0;34m\u001b[0m\u001b[0m\n",
      "\u001b[0;32m~/miniconda3/envs/GOST_PublicGoods4/lib/python3.7/site-packages/pandas/core/reshape/merge.py\u001b[0m in \u001b[0;36m_get_join_info\u001b[0;34m(self)\u001b[0m\n\u001b[1;32m    754\u001b[0m         \u001b[0;32melse\u001b[0m\u001b[0;34m:\u001b[0m\u001b[0;34m\u001b[0m\u001b[0;34m\u001b[0m\u001b[0m\n\u001b[1;32m    755\u001b[0m             (left_indexer,\n\u001b[0;32m--> 756\u001b[0;31m              right_indexer) = self._get_join_indexers()\n\u001b[0m\u001b[1;32m    757\u001b[0m \u001b[0;34m\u001b[0m\u001b[0m\n\u001b[1;32m    758\u001b[0m             \u001b[0;32mif\u001b[0m \u001b[0mself\u001b[0m\u001b[0;34m.\u001b[0m\u001b[0mright_index\u001b[0m\u001b[0;34m:\u001b[0m\u001b[0;34m\u001b[0m\u001b[0;34m\u001b[0m\u001b[0m\n",
      "\u001b[0;32m~/miniconda3/envs/GOST_PublicGoods4/lib/python3.7/site-packages/pandas/core/reshape/merge.py\u001b[0m in \u001b[0;36m_get_join_indexers\u001b[0;34m(self)\u001b[0m\n\u001b[1;32m    733\u001b[0m                                   \u001b[0mself\u001b[0m\u001b[0;34m.\u001b[0m\u001b[0mright_join_keys\u001b[0m\u001b[0;34m,\u001b[0m\u001b[0;34m\u001b[0m\u001b[0;34m\u001b[0m\u001b[0m\n\u001b[1;32m    734\u001b[0m                                   \u001b[0msort\u001b[0m\u001b[0;34m=\u001b[0m\u001b[0mself\u001b[0m\u001b[0;34m.\u001b[0m\u001b[0msort\u001b[0m\u001b[0;34m,\u001b[0m\u001b[0;34m\u001b[0m\u001b[0;34m\u001b[0m\u001b[0m\n\u001b[0;32m--> 735\u001b[0;31m                                   how=self.how)\n\u001b[0m\u001b[1;32m    736\u001b[0m \u001b[0;34m\u001b[0m\u001b[0m\n\u001b[1;32m    737\u001b[0m     \u001b[0;32mdef\u001b[0m \u001b[0m_get_join_info\u001b[0m\u001b[0;34m(\u001b[0m\u001b[0mself\u001b[0m\u001b[0;34m)\u001b[0m\u001b[0;34m:\u001b[0m\u001b[0;34m\u001b[0m\u001b[0;34m\u001b[0m\u001b[0m\n",
      "\u001b[0;32m~/miniconda3/envs/GOST_PublicGoods4/lib/python3.7/site-packages/pandas/core/reshape/merge.py\u001b[0m in \u001b[0;36m_get_join_indexers\u001b[0;34m(left_keys, right_keys, sort, how, **kwargs)\u001b[0m\n\u001b[1;32m   1128\u001b[0m \u001b[0;34m\u001b[0m\u001b[0m\n\u001b[1;32m   1129\u001b[0m     \u001b[0;31m# get left & right join labels and num. of levels at each location\u001b[0m\u001b[0;34m\u001b[0m\u001b[0;34m\u001b[0m\u001b[0;34m\u001b[0m\u001b[0m\n\u001b[0;32m-> 1130\u001b[0;31m     \u001b[0mllab\u001b[0m\u001b[0;34m,\u001b[0m \u001b[0mrlab\u001b[0m\u001b[0;34m,\u001b[0m \u001b[0mshape\u001b[0m \u001b[0;34m=\u001b[0m \u001b[0mmap\u001b[0m\u001b[0;34m(\u001b[0m\u001b[0mlist\u001b[0m\u001b[0;34m,\u001b[0m \u001b[0mzip\u001b[0m\u001b[0;34m(\u001b[0m\u001b[0;34m*\u001b[0m \u001b[0mmap\u001b[0m\u001b[0;34m(\u001b[0m\u001b[0mfkeys\u001b[0m\u001b[0;34m,\u001b[0m \u001b[0mleft_keys\u001b[0m\u001b[0;34m,\u001b[0m \u001b[0mright_keys\u001b[0m\u001b[0;34m)\u001b[0m\u001b[0;34m)\u001b[0m\u001b[0;34m)\u001b[0m\u001b[0;34m\u001b[0m\u001b[0;34m\u001b[0m\u001b[0m\n\u001b[0m\u001b[1;32m   1131\u001b[0m \u001b[0;34m\u001b[0m\u001b[0m\n\u001b[1;32m   1132\u001b[0m     \u001b[0;31m# get flat i8 keys from label lists\u001b[0m\u001b[0;34m\u001b[0m\u001b[0;34m\u001b[0m\u001b[0;34m\u001b[0m\u001b[0m\n",
      "\u001b[0;32m~/miniconda3/envs/GOST_PublicGoods4/lib/python3.7/site-packages/pandas/core/reshape/merge.py\u001b[0m in \u001b[0;36m_factorize_keys\u001b[0;34m(lk, rk, sort)\u001b[0m\n\u001b[1;32m   1659\u001b[0m     \u001b[0mrizer\u001b[0m \u001b[0;34m=\u001b[0m \u001b[0mklass\u001b[0m\u001b[0;34m(\u001b[0m\u001b[0mmax\u001b[0m\u001b[0;34m(\u001b[0m\u001b[0mlen\u001b[0m\u001b[0;34m(\u001b[0m\u001b[0mlk\u001b[0m\u001b[0;34m)\u001b[0m\u001b[0;34m,\u001b[0m \u001b[0mlen\u001b[0m\u001b[0;34m(\u001b[0m\u001b[0mrk\u001b[0m\u001b[0;34m)\u001b[0m\u001b[0;34m)\u001b[0m\u001b[0;34m)\u001b[0m\u001b[0;34m\u001b[0m\u001b[0;34m\u001b[0m\u001b[0m\n\u001b[1;32m   1660\u001b[0m \u001b[0;34m\u001b[0m\u001b[0m\n\u001b[0;32m-> 1661\u001b[0;31m     \u001b[0mllab\u001b[0m \u001b[0;34m=\u001b[0m \u001b[0mrizer\u001b[0m\u001b[0;34m.\u001b[0m\u001b[0mfactorize\u001b[0m\u001b[0;34m(\u001b[0m\u001b[0mlk\u001b[0m\u001b[0;34m)\u001b[0m\u001b[0;34m\u001b[0m\u001b[0;34m\u001b[0m\u001b[0m\n\u001b[0m\u001b[1;32m   1662\u001b[0m     \u001b[0mrlab\u001b[0m \u001b[0;34m=\u001b[0m \u001b[0mrizer\u001b[0m\u001b[0;34m.\u001b[0m\u001b[0mfactorize\u001b[0m\u001b[0;34m(\u001b[0m\u001b[0mrk\u001b[0m\u001b[0;34m)\u001b[0m\u001b[0;34m\u001b[0m\u001b[0;34m\u001b[0m\u001b[0m\n\u001b[1;32m   1663\u001b[0m \u001b[0;34m\u001b[0m\u001b[0m\n",
      "\u001b[0;32mpandas/_libs/hashtable.pyx\u001b[0m in \u001b[0;36mpandas._libs.hashtable.Factorizer.factorize\u001b[0;34m()\u001b[0m\n",
      "\u001b[0;32mpandas/_libs/hashtable_class_helper.pxi\u001b[0m in \u001b[0;36mpandas._libs.hashtable.PyObjectHashTable.get_labels\u001b[0;34m()\u001b[0m\n",
      "\u001b[0;32mpandas/_libs/hashtable_class_helper.pxi\u001b[0m in \u001b[0;36mpandas._libs.hashtable.PyObjectHashTable._unique\u001b[0;34m()\u001b[0m\n",
      "\u001b[0;31mMemoryError\u001b[0m: "
     ]
    }
   ],
   "source": [
    "# Calculate the gravity weighted jobs access for driving & rail, as well as for total workers, male, and female)\n",
    "# note that the origins do not have weights in this scenario\n",
    "hh_out = hh_nn.copy()\n",
    "\n",
    "originWeights = 1\n",
    "\n",
    "# dist_decay represents a half-life of 1 hour\n",
    "dist_decay = .00019\n",
    "decayFunction = lambda x: np.exp(-1 * dist_decay * x)\n",
    "\n",
    "\n",
    "for odType in ['driving', 'rail', 'od_driving_and_rail']:\n",
    "    od = od_driving\n",
    "    if odType == \"rail\":\n",
    "        od = od_rail\n",
    "    if odType == \"od_driving_and_rail\":\n",
    "        od = od_driving_and_rail\n",
    "    for weightColumn in ['TOTAL_WORKERS','male_num','female_num']:\n",
    "        for travel_time in [1800,3600,5400]:\n",
    "        \n",
    "            destWeights = det_nn_section[weightColumn]\n",
    "            #print(destWeights)\n",
    "            # I think we should normalize the destination weights using min-max normalization\n",
    "            destWeights_normalized = destWeights.copy()\n",
    "            destWeights_normalized = (destWeights_normalized - destWeights_normalized.min())/(destWeights.max()-destWeights.min())\n",
    "\n",
    "            normalized_OD = od\n",
    "\n",
    "            # this zeros out the outOD matrix\n",
    "            outOD = od * 0\n",
    "\n",
    "            for row in range(0, od.shape[0]):\n",
    "                curRow = normalized_OD[row,:]\n",
    "                decayedRow = decayFunction(curRow)\n",
    "                weightedRow = decayedRow * destWeights_normalized * originWeights\n",
    "                outOD[row,:] = weightedRow\n",
    "\n",
    "            # Calculate the origin sum weights for each node\n",
    "            weightedDistance = np.sum(outOD, axis=1)\n",
    "\n",
    "            resultweights = pd.DataFrame([originNodes, weightedDistance]).transpose()\n",
    "            colName = \"%s_%s_%s\" % (odType, weightColumn, travel_time)\n",
    "            resultweights.columns = ['NN', colName]\n",
    "            hh_out = pd.merge(hh_out, resultweights, on=\"NN\")\n",
    "        \n",
    "hh_out.to_csv(os.path.join(inputFolder, \"weighted_distance_all_JOBS_peak_speed.csv\"))"
   ]
  },
  {
   "cell_type": "markdown",
   "metadata": {},
   "source": [
    "## Run analysis 3 - number of jobs available within household"
   ]
  },
  {
   "cell_type": "code",
   "execution_count": null,
   "metadata": {},
   "outputs": [],
   "source": [
    "hh_out2 = hh_nn.copy()\n",
    "\n",
    "for odType in ['driving', 'rail', 'od_driving_and_rail']:\n",
    "    od = od_driving\n",
    "    if odType == \"rail\":\n",
    "        od = od_rail\n",
    "    if odType == \"od_driving_and_rail\":\n",
    "        od = od_driving_and_rail\n",
    "    for weightColumn in ['TOTAL_WORKERS','male_num','female_num']:\n",
    "        for travel_time in [1800,3600,5400]:\n",
    "        \n",
    "            jobs_number_series = det_nn_section[weightColumn]\n",
    "\n",
    "            jobOD = np.where(od <= travel_time, 1, 0)\n",
    "\n",
    "            jobs_accessible = jobs_number_series.values * jobOD\n",
    "\n",
    "            jobs_accessible_per_hh = np.sum(jobs_accessible, axis=1)\n",
    "\n",
    "            resultweights2 = pd.DataFrame([originNodes, jobs_accessible_per_hh]).transpose()\n",
    "            colName = \"%s_%s_%s\" % (odType, weightColumn, travel_time)\n",
    "            resultweights2.columns = ['NN', colName]\n",
    "            #results2[colName] = resultweights2\n",
    "            hh_out2 = pd.merge(hh_out2, resultweights2, on=\"NN\")\n",
    "        \n",
    "hh_out2.to_csv(os.path.join(inputFolder, \"total_jobs_accessible_JOBS_peak_speed.csv\")) # Calculate the job accessible per household for driving & rail, as well as for total workers, male, and female)\n"
   ]
  },
  {
   "cell_type": "code",
   "execution_count": null,
   "metadata": {},
   "outputs": [],
   "source": []
  }
 ],
 "metadata": {
  "kernelspec": {
   "display_name": "Python 3",
   "language": "python",
   "name": "python3"
  },
  "language_info": {
   "codemirror_mode": {
    "name": "ipython",
    "version": 3
   },
   "file_extension": ".py",
   "mimetype": "text/x-python",
   "name": "python",
   "nbconvert_exporter": "python",
   "pygments_lexer": "ipython3",
   "version": "3.7.3"
  }
 },
 "nbformat": 4,
 "nbformat_minor": 2
}
