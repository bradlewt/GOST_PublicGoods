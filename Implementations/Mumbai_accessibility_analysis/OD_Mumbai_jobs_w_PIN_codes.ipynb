{
 "cells": [
  {
   "cell_type": "markdown",
   "metadata": {},
   "source": [
    "# Mumbai Travel time and accessibility analysis\n",
    "\n",
    "We have data for 3,020 unique ids. **note: the original dataset had 3,135 rows but 115 of them did not have a PIN code for the work destination.** The dataset is named \"2019 08 14 Jobs Data from Module 9\". \n",
    "\n",
    "In addition the first two columns were combined in order to create unique ids. Each id represents a respondent in the survey who commutes to work. \n",
    "\n",
    "We are primarily looking to do two kinds of analysis. For both types of analysis described below, we will calculate travel times according to three modes of transit:\n",
    "1. OSM road network driving with standard road classes\n",
    "2. Rail network (known) with walking to the rail station\n",
    "3. A combined rail and road network with the option of taking both forms of transportation\n",
    " \n",
    "First, identify the households which have individual work places identified by PIN code (There are 107 PIN codes), and calculate their travel time. The second analysis is for every geocoded household, calculate job accessibilitiy indices.\n",
    "\n",
    "1. Distance from residence to work place; estimated travel time (analysis 1)\n",
    "          a. Calculate distance from house to workplace using (i) road network; (ii) rail network \n",
    "          b. Calculate travel time via road network and rail network\n",
    "          c. Calculate travel time via walking\n",
    "          d. Calculate Euclidean distance from house to workplace for each worker \n",
    "\n",
    "**note that not all the households could be matched to PIN codes, for example, there is no 400000 PIN code in the dataset.**\n",
    "\n",
    "2. Index of employment accessibility (analysis 2)\n",
    "          a. In addition to the information used in analysis 1, we have information on employment, by gender and industry for 99 Sections of Mumbai.\n",
    "          b. We would like to combine this information with household location information from the survey to calculate an index of employment accessibility (separate index for men and women) for each household in the sample. The index would measure number of jobs accessible based on a weighted gravity model. \n",
    "          c. We are also calculating the number of jobs accessible per household based on three travel windows (30 min, 60 min, and 90 min).\n",
    "\n",
    "\n",
    "### The parameters are used in our model:\n",
    "\n",
    "- metroSpeed = 35 #kph\n",
    "- railSpeed = 40 #kph\n",
    "- station_wait = 30 #seconds\n",
    "- walk_speed = 5 #kph"
   ]
  },
  {
   "cell_type": "markdown",
   "metadata": {},
   "source": [
    "## import libraries"
   ]
  },
  {
   "cell_type": "code",
   "execution_count": 689,
   "metadata": {},
   "outputs": [],
   "source": [
    "import sys, os, inspect, logging, importlib\n",
    "\n",
    "import geopandas as gpd\n",
    "import pandas as pd\n",
    "import numpy as np\n",
    "import osmnx as ox\n",
    "import networkx as nx\n",
    "from shapely.ops import split, unary_union\n",
    "from shapely.geometry import box, Point\n",
    "\n",
    "import matplotlib.pyplot as plt"
   ]
  },
  {
   "cell_type": "code",
   "execution_count": 690,
   "metadata": {},
   "outputs": [],
   "source": [
    "# Get reference to OSMNX_POIs\n",
    "sys.path.append(r'../..')\n",
    "from Market_Access import OSMNX_POIs"
   ]
  },
  {
   "cell_type": "code",
   "execution_count": 691,
   "metadata": {},
   "outputs": [],
   "source": [
    "# Get reference to GOSTNets\n",
    "sys.path.append(r'../../GOSTNets/GOSTNets')\n",
    "import GOSTnet as gn"
   ]
  },
  {
   "cell_type": "code",
   "execution_count": 692,
   "metadata": {},
   "outputs": [],
   "source": [
    "# Define input data and create a number of output datasets if they do not yet exist\n",
    "inputFolder = r'./input_folder'\n",
    "\n",
    "inputRailways = os.path.join(inputFolder, \"Mumbai_Railway_MANUAL_43N.shp\")\n",
    "inputRailstops = os.path.join(inputFolder, \"Mumbai_Railway_stations_MANUAL.shp\")\n",
    "\n",
    "sections = gpd.read_file(os.path.join(inputFolder, \"greater_mumbai_merged.shp\"))\n",
    "pin_codes = gpd.read_file(os.path.join(inputFolder, \"mumbai_pin_codes.shp\"))"
   ]
  },
  {
   "cell_type": "code",
   "execution_count": 693,
   "metadata": {},
   "outputs": [],
   "source": [
    "# this data is not public\n",
    "inputFolder2 = r'../../../mumbai_input_folder2'\n",
    "\n",
    "inHouseholds = os.path.join(inputFolder2, \"2019_08_14_households_and_destinations_reformatted3.csv\")\n",
    "employment_by_section_path = os.path.join(inputFolder2, \"employment_by_section.csv\")\n",
    "inJD_by_section = pd.read_csv(employment_by_section_path)"
   ]
  },
  {
   "cell_type": "code",
   "execution_count": 694,
   "metadata": {},
   "outputs": [],
   "source": [
    "# not using employment by section data for for analysis 1\n",
    "# Read in the Section admin boundaries and extract the centroids\n",
    "inJ_by_section = pd.merge(sections, inJD_by_section, left_on=\"WARD_NO\", right_on=\"section\")\n",
    "inJ_cen_by_section = inJ_by_section.copy()\n",
    "inJ_cen_by_section['geometry'] = inJ_cen_by_section.centroid\n",
    "\n",
    "# Read in the PIN admin boundaries and extract the centroids\n",
    "pin_codes_w_centroids = pin_codes.copy()\n",
    "pin_codes_w_centroids['geometry'] = pin_codes_w_centroids.centroid\n",
    "\n",
    "outputFolder = r'../../../mumbai_output_folder'\n",
    "\n",
    "if not os.path.exists(outputFolder):\n",
    "    os.makedirs(outputFolder)\n",
    "\n",
    "outGraph = os.path.join(outputFolder, \"OSM_Roads.pickle\")\n",
    "outRailGraph = os.path.join(outputFolder, \"OSM_Rail.pickle\")"
   ]
  },
  {
   "cell_type": "markdown",
   "metadata": {},
   "source": [
    "### calculate speeds using original speed dictionary"
   ]
  },
  {
   "cell_type": "code",
   "execution_count": 695,
   "metadata": {},
   "outputs": [],
   "source": [
    "# original speed dict\n",
    "speed_dict = {\n",
    "               'residential': 20,  # kmph\n",
    "               'primary': 40, # kmph\n",
    "               'primary_link':35,\n",
    "               'motorway':50,\n",
    "               'motorway_link': 45,\n",
    "               'trunk': 40,\n",
    "               'trunk_link':35,\n",
    "               'secondary': 30,\n",
    "               'secondary_link':25,\n",
    "               'tertiary':30,\n",
    "               'tertiary_link': 25,\n",
    "               'unclassified':20\n",
    "               }\n",
    "# the default speed if no match is 20kph"
   ]
  },
  {
   "cell_type": "code",
   "execution_count": 696,
   "metadata": {
    "scrolled": true
   },
   "outputs": [
    {
     "name": "stdout",
     "output_type": "stream",
     "text": [
      "print G\n",
      "66805\n"
     ]
    }
   ],
   "source": [
    "# This is the section where we can adjust the road speeds\n",
    "if not os.path.exists(outGraph):\n",
    "    extent = box(*inJ_cen_by_section.total_bounds)\n",
    "    G = ox.graph_from_polygon(extent, network_type = 'drive_service')\n",
    "    # This is how time is calculated from the OSMNX length attribute\n",
    "    G = gn.convert_network_to_time(G, 'length', speed_dict = speed_dict)\n",
    "    # save the largerst subgraph\n",
    "    list_of_Gs = list((nx.strongly_connected_component_subgraphs(G)))\n",
    "    sz = 0\n",
    "    largest_G = list_of_Gs[0]\n",
    "    for g in list_of_Gs:\n",
    "        curSize = g.size()\n",
    "        if curSize > sz:\n",
    "            largest_G = g\n",
    "            sz = curSize\n",
    "    G = largest_G\n",
    "    print('print G')\n",
    "    print(sz)\n",
    "    nx.write_gpickle(G, outGraph)\n",
    "else:\n",
    "    G = nx.read_gpickle(outGraph)    \n",
    "    G = gn.convert_network_to_time(G, 'length', speed_dict = speed_dict)"
   ]
  },
  {
   "cell_type": "markdown",
   "metadata": {},
   "source": [
    "### This block saves the roads as a shapefile for inspection purposes"
   ]
  },
  {
   "cell_type": "code",
   "execution_count": 697,
   "metadata": {},
   "outputs": [],
   "source": [
    "# Highway features are reclassified to 4 OSMLR classes for simplification and standardization\n",
    "# https://mapzen.com/blog/osmlr-2nd-technical-preview/\n",
    "OSMLR_Classes = {\n",
    "\"motorway\":\"OSMLR level 1\",\n",
    "\"motorway_link\":\"OSMLR level 1\",\n",
    "\"trunk\":\"OSMLR level 1\",\n",
    "\"trunk_link\":\"OSMLR level 1\",\n",
    "\"primary\":\"OSMLR level 1\",\n",
    "\"primary_link\":\"OSMLR level 1\",\n",
    "\n",
    "\"secondary\":\"OSMLR level 2\",\n",
    "\"secondary_link\":\"OSMLR level 2\",\n",
    "\"tertiary\":\"OSMLR level 2\",\n",
    "\"tertiary_link\":\"OSMLR level 2\",\n",
    "\n",
    "\"unclassified\":\"OSMLR level 3\",\n",
    "\"unclassified_link\": \"OSMLR level 3\",\n",
    "\"residential\": \"OSMLR level 3\",\n",
    "\"residential_link\": \"OSMLR level 3\",\n",
    "\n",
    "\"track\": \"OSMLR level 4\",\n",
    "\"service\": \"OSMLR level 4\"\n",
    "}"
   ]
  },
  {
   "cell_type": "code",
   "execution_count": 698,
   "metadata": {},
   "outputs": [],
   "source": [
    "roads = gn.edge_gdf_from_graph(G)\n",
    "roads['highway'] = roads.highway.astype(str)\n",
    "roads['OSMLR'] = roads.highway.map(OSMLR_Classes)\n",
    "roads['oneway'] = roads.oneway.astype(int)\n",
    "# geopandas cannot save dataframe to file if fields contain lists. \n",
    "# There have been instances where fields such as 'osmid' and 'highway' contain a list.\n",
    "# Therefore reduce the number of fields\n",
    "roads = roads[['OSMLR','oneway','length','time','mode','geometry']]\n",
    "roads.to_file(outputFolder + '/OSM_Roads')"
   ]
  },
  {
   "cell_type": "code",
   "execution_count": 699,
   "metadata": {},
   "outputs": [],
   "source": [
    "# inspect the road nodes\n",
    "from shapely.geometry import Point\n",
    "g_point_gdf = gn.node_gdf_from_graph(G,crs = {'init' :'epsg:4326'})\n",
    "#g_point_gdf = g_point_gdf.drop(columns=['geom'])\n",
    "g_point_gdf.to_file(driver = 'ESRI Shapefile', filename = outputFolder + '/OSM_Roads_nodes.shp')"
   ]
  },
  {
   "cell_type": "markdown",
   "metadata": {},
   "source": [
    "### Generate speed dictionaries based on average peak, off-peak, and average speeds"
   ]
  },
  {
   "cell_type": "code",
   "execution_count": 700,
   "metadata": {},
   "outputs": [
    {
     "name": "stdout",
     "output_type": "stream",
     "text": [
      "22.075206686567725\n"
     ]
    }
   ],
   "source": [
    "# find the average speed of the road graph\n",
    "avg_graph_speed = gn.find_graph_avg_speed(G, 'length', 'time')\n",
    "print(avg_graph_speed)"
   ]
  },
  {
   "cell_type": "code",
   "execution_count": 701,
   "metadata": {},
   "outputs": [],
   "source": [
    "# 15kph peak\n",
    "# 16.5kph avg speed\n",
    "# 20kph off-peak\n",
    "peak_ratio = 15/avg_graph_speed\n",
    "avg_speed_ratio = 16.5/avg_graph_speed\n",
    "off_peak_ratio = 20/avg_graph_speed"
   ]
  },
  {
   "cell_type": "code",
   "execution_count": 702,
   "metadata": {},
   "outputs": [
    {
     "data": {
      "text/plain": [
       "{'residential': 2750058.3460000083,\n",
       " 'primary': 280381.7460000001,\n",
       " 'tertiary': 705405.3600000007,\n",
       " 'unclassified': 1944979.2219999959,\n",
       " 'motorway': 50689.783999999985,\n",
       " 'secondary': 529089.1960000002,\n",
       " 'trunk': 167778.20200000002,\n",
       " 'living_street': 224322.87500000055,\n",
       " 'service': 664795.6699999991,\n",
       " 'trunk_link': 34657.96100000001,\n",
       " 'primary_link': 16368.254999999992,\n",
       " 'secondary_link': 2853.644000000001,\n",
       " 'motorway_link': 9351.706,\n",
       " 'tertiary_link': 3194.3910000000014,\n",
       " 'road': 1387.3359999999998}"
      ]
     },
     "execution_count": 702,
     "metadata": {},
     "output_type": "execute_result"
    }
   ],
   "source": [
    "# find all classes of highways\n",
    "highway_classes = gn.find_hwy_distances_by_class(G)\n",
    "highway_classes"
   ]
  },
  {
   "cell_type": "code",
   "execution_count": 703,
   "metadata": {},
   "outputs": [],
   "source": [
    "speed_peak_dict = {}\n",
    "speed_avg_dict = {}\n",
    "speed_off_peak_dict = {}"
   ]
  },
  {
   "cell_type": "code",
   "execution_count": 704,
   "metadata": {},
   "outputs": [],
   "source": [
    "for key in speed_dict:\n",
    "    speed_peak_dict[key] = speed_dict[key] * peak_ratio\n",
    "    speed_avg_dict[key] = speed_dict[key] * avg_speed_ratio\n",
    "    speed_off_peak_dict[key] = speed_dict[key] * off_peak_ratio "
   ]
  },
  {
   "cell_type": "code",
   "execution_count": 705,
   "metadata": {},
   "outputs": [],
   "source": [
    "# add living_street, service, and road\n",
    "speed_peak_dict_default_speed = 20 * peak_ratio\n",
    "speed_peak_dict['living_street']=speed_peak_dict_default_speed\n",
    "speed_peak_dict['service']=speed_peak_dict_default_speed\n",
    "speed_peak_dict['road']=speed_peak_dict_default_speed\n",
    "\n",
    "speed_avg_dict_default_speed = 20 * avg_speed_ratio\n",
    "speed_avg_dict['living_street']=speed_avg_dict_default_speed\n",
    "speed_avg_dict['service']=speed_avg_dict_default_speed\n",
    "speed_avg_dict['road']=speed_avg_dict_default_speed\n",
    "  \n",
    "speed_off_peak_dict_default_speed = 20 * off_peak_ratio\n",
    "speed_off_peak_dict['living_street']=speed_off_peak_dict_default_speed\n",
    "speed_off_peak_dict['service']=speed_off_peak_dict_default_speed\n",
    "speed_off_peak_dict['road']=speed_off_peak_dict_default_speed"
   ]
  },
  {
   "cell_type": "code",
   "execution_count": 706,
   "metadata": {},
   "outputs": [
    {
     "data": {
      "text/plain": [
       "{'residential': 13.589906733808448,\n",
       " 'primary': 27.179813467616896,\n",
       " 'primary_link': 23.782336784164784,\n",
       " 'motorway': 33.97476683452112,\n",
       " 'motorway_link': 30.577290151069008,\n",
       " 'trunk': 27.179813467616896,\n",
       " 'trunk_link': 23.782336784164784,\n",
       " 'secondary': 20.38486010071267,\n",
       " 'secondary_link': 16.98738341726056,\n",
       " 'tertiary': 20.38486010071267,\n",
       " 'tertiary_link': 16.98738341726056,\n",
       " 'unclassified': 13.589906733808448,\n",
       " 'living_street': 13.589906733808448,\n",
       " 'service': 13.589906733808448,\n",
       " 'road': 13.589906733808448}"
      ]
     },
     "execution_count": 706,
     "metadata": {},
     "output_type": "execute_result"
    }
   ],
   "source": [
    "speed_peak_dict"
   ]
  },
  {
   "cell_type": "code",
   "execution_count": 707,
   "metadata": {},
   "outputs": [
    {
     "data": {
      "text/plain": [
       "{'residential': 14.948897407189293,\n",
       " 'primary': 29.897794814378585,\n",
       " 'primary_link': 26.160570462581262,\n",
       " 'motorway': 37.37224351797323,\n",
       " 'motorway_link': 33.63501916617591,\n",
       " 'trunk': 29.897794814378585,\n",
       " 'trunk_link': 26.160570462581262,\n",
       " 'secondary': 22.42334611078394,\n",
       " 'secondary_link': 18.686121758986616,\n",
       " 'tertiary': 22.42334611078394,\n",
       " 'tertiary_link': 18.686121758986616,\n",
       " 'unclassified': 14.948897407189293,\n",
       " 'living_street': 14.948897407189293,\n",
       " 'service': 14.948897407189293,\n",
       " 'road': 14.948897407189293}"
      ]
     },
     "execution_count": 707,
     "metadata": {},
     "output_type": "execute_result"
    }
   ],
   "source": [
    "speed_avg_dict"
   ]
  },
  {
   "cell_type": "code",
   "execution_count": 708,
   "metadata": {},
   "outputs": [
    {
     "data": {
      "text/plain": [
       "{'residential': 18.11987564507793,\n",
       " 'primary': 36.23975129015586,\n",
       " 'primary_link': 31.709782378886377,\n",
       " 'motorway': 45.29968911269482,\n",
       " 'motorway_link': 40.76972020142534,\n",
       " 'trunk': 36.23975129015586,\n",
       " 'trunk_link': 31.709782378886377,\n",
       " 'secondary': 27.179813467616896,\n",
       " 'secondary_link': 22.64984455634741,\n",
       " 'tertiary': 27.179813467616896,\n",
       " 'tertiary_link': 22.64984455634741,\n",
       " 'unclassified': 18.11987564507793,\n",
       " 'living_street': 18.11987564507793,\n",
       " 'service': 18.11987564507793,\n",
       " 'road': 18.11987564507793}"
      ]
     },
     "execution_count": 708,
     "metadata": {},
     "output_type": "execute_result"
    }
   ],
   "source": [
    "speed_off_peak_dict"
   ]
  },
  {
   "cell_type": "markdown",
   "metadata": {},
   "source": [
    "## Create a road graph for each travel time category"
   ]
  },
  {
   "cell_type": "code",
   "execution_count": 709,
   "metadata": {},
   "outputs": [
    {
     "name": "stdout",
     "output_type": "stream",
     "text": [
      "22.075206686567725\n",
      "22.075206686567725\n",
      "22.075206686567725\n"
     ]
    }
   ],
   "source": [
    "speed_dict_list = [[speed_peak_dict,\"peak_speed\"],[speed_avg_dict,\"avg_speed\"],[speed_off_peak_dict,\"off_peak_speed\"]]\n",
    "\n",
    "road_graph = {}\n",
    "for i in speed_dict_list:\n",
    "    # This is the section where we can adjust the road speeds\n",
    "    G = nx.read_gpickle(outGraph)    \n",
    "    road_graph[i[1]] = gn.convert_network_to_time(G, 'length', speed_dict = i[0])\n",
    "    nx.write_gpickle(road_graph[i[1]], os.path.join(outputFolder, \"OSM_%s_Roads.pickle\" % (i[1])))\n",
    "    # double-check the road graph G\n",
    "    # gn.example_edge(G, 3)\n",
    "    # find the average speed of the road graph\n",
    "    print(gn.find_graph_avg_speed(G, 'length', 'time'))"
   ]
  },
  {
   "cell_type": "markdown",
   "metadata": {},
   "source": [
    "## Generate the rail network part I\n",
    "#### This takes in the input railways and converts it to a geodataframe of points. Then the input station points are snapped to these points and the geometries of the stations get changed to match the geometry of the point it was snapped to"
   ]
  },
  {
   "cell_type": "code",
   "execution_count": 710,
   "metadata": {},
   "outputs": [
    {
     "name": "stdout",
     "output_type": "stream",
     "text": [
      "check projection inS\n",
      "{'init': 'epsg:32643'}\n",
      "check projection inR\n",
      "{'init': 'epsg:32643'}\n"
     ]
    },
    {
     "name": "stderr",
     "output_type": "stream",
     "text": [
      "../../GOSTNets/GOSTNets/GOSTnet.py:1770: FutureWarning: Method .as_matrix will be removed in a future version. Use .values instead.\n",
      "  G_tree = spatial.KDTree(target_gdf[['x','y']].as_matrix())\n",
      "../../GOSTNets/GOSTNets/GOSTnet.py:1772: FutureWarning: Method .as_matrix will be removed in a future version. Use .values instead.\n",
      "  distances, indices = G_tree.query(source_gdf[['x','y']].as_matrix())\n"
     ]
    }
   ],
   "source": [
    "if not os.path.exists(outRailGraph):\n",
    "    #Read in the input railways check for problems, and project\n",
    "    inR = gpd.read_file(inputRailways)\n",
    "    inR = inR[[r is not None for r in inR.geometry]]\n",
    "    if inR.crs == {'init':'epsg:4326'}:\n",
    "        #inR = misc.project_UTM(inR)\n",
    "        print('skip')\n",
    "    inR = inR.to_crs({'init': 'epsg:32643'})\n",
    "\n",
    "    # line below not needed because length will be generated at a later step\n",
    "    # inR['length'] = inR['geometry'].apply(lambda x: x.length)\n",
    "\n",
    "    #Read in the railway stations and project\n",
    "    inS = gpd.read_file(inputRailstops)\n",
    "    inS = inS[inS['railway'] == \"station\"]\n",
    "\n",
    "    inS_proj = inS.to_crs({'init': 'epsg:32643'})\n",
    "    print('check projection inS')\n",
    "    print(inS_proj.crs)\n",
    "\n",
    "    print('check projection inR')\n",
    "    print(inR.crs)\n",
    "\n",
    "    #Generate the Rail network from the rail shapefile\n",
    "    allRailLines = unary_union(inR['geometry'])\n",
    "\n",
    "    # deconstructing the rail network into a geodataframe of points\n",
    "    bag_of_points,ids = [],[]\n",
    "    id_ = 0\n",
    "    for r in allRailLines.geoms:\n",
    "        for q in r.coords:\n",
    "            bag_of_points.append(q)\n",
    "            ids.append(id_)\n",
    "            id_+=1\n",
    "\n",
    "    df_temp = pd.DataFrame(({'ids':ids,'geometry':bag_of_points}))\n",
    "    df_temp['geometry'] = df_temp['geometry'].apply(Point)\n",
    "    gdf_temp = gpd.GeoDataFrame(df_temp, crs = inR.crs, geometry = 'geometry')\n",
    "\n",
    "    # for testing temporarily export rail bag of points\n",
    "    #gdf_temp.to_file(driver = 'ESRI Shapefile', filename = 'pre_railine_points3.shp' )\n",
    "\n",
    "    # for testing temporarily export rail stations\n",
    "    #inS_proj.to_file(driver = 'ESRI Shapefile', filename = 'pre_station_points3.shp' )\n",
    "\n",
    "    # the source_crs should be the same proj as both the input graph and input geodataframe of points\n",
    "    # the rail points need to be snapped to the rail because later the snapped points will be used to split the rail\n",
    "    inS_proj_snapped = gn.pandana_snap_points(inS_proj, \n",
    "                                              gdf_temp, \n",
    "                                              source_crs = 'epsg:32643', \n",
    "                                              target_crs = 'epsg:32643',\n",
    "                                              add_dist_to_node_col = True)\n",
    "    inS_proj_snapped_temp = inS_proj_snapped.drop_duplicates('NN')\n",
    "\n",
    "    # I think that when the rail stations got snapped to the nearest node in the dataframe it is keeping the original geometry\n",
    "    # but it is adding the NN id and the NN_distance\n",
    "\n",
    "    # Therefore join to the Rail gdf to add the geometries of the nodes snapped to\n",
    "    inS_proj_snapped_temp = inS_proj_snapped_temp.rename(columns={\"geometry\": \"original_geometry\"})\n",
    "    inS_proj_snapped_temp_joined = inS_proj_snapped_temp.set_index('NN').join(gdf_temp.set_index('ids'))\n",
    "    inS_proj_snapped_temp_joined = inS_proj_snapped_temp_joined.reset_index()\n",
    "\n",
    "    # note when I had both original_geometry and geometry columns there was an error in outputting a shapefile\n",
    "    # it must have been confused with two geometry columns, therefore I am dropping the 'original_geometry' column\n",
    "    inS_proj_snapped_temp_joined_slim = inS_proj_snapped_temp_joined.drop(columns=\"original_geometry\")\n",
    "    inS_proj_snapped_temp_joined_slim\n",
    "\n",
    "    #inS_proj_snapped_temp.keys()\n",
    "\n",
    "    inS_proj_snapped_temp_joined_geo = gpd.GeoDataFrame(inS_proj_snapped_temp_joined_slim, crs = inS_proj.crs, geometry = 'geometry')\n",
    "    # preview the snapped rail stations\n",
    "    inS_proj_snapped_temp_joined_geo.to_file(driver = 'ESRI Shapefile', filename = outputFolder + '/snapped_rail_stations3.shp')"
   ]
  },
  {
   "cell_type": "code",
   "execution_count": 711,
   "metadata": {},
   "outputs": [
    {
     "data": {
      "text/html": [
       "<div>\n",
       "<style scoped>\n",
       "    .dataframe tbody tr th:only-of-type {\n",
       "        vertical-align: middle;\n",
       "    }\n",
       "\n",
       "    .dataframe tbody tr th {\n",
       "        vertical-align: top;\n",
       "    }\n",
       "\n",
       "    .dataframe thead th {\n",
       "        text-align: right;\n",
       "    }\n",
       "</style>\n",
       "<table border=\"1\" class=\"dataframe\">\n",
       "  <thead>\n",
       "    <tr style=\"text-align: right;\">\n",
       "      <th></th>\n",
       "      <th>NN</th>\n",
       "      <th>full_id</th>\n",
       "      <th>osm_id</th>\n",
       "      <th>osm_type</th>\n",
       "      <th>name</th>\n",
       "      <th>network</th>\n",
       "      <th>railway</th>\n",
       "      <th>ref</th>\n",
       "      <th>wikidata</th>\n",
       "      <th>wikipedia</th>\n",
       "      <th>...</th>\n",
       "      <th>short_name</th>\n",
       "      <th>constructi</th>\n",
       "      <th>disused</th>\n",
       "      <th>proposed</th>\n",
       "      <th>alt_name_h</th>\n",
       "      <th>name_pa</th>\n",
       "      <th>highway</th>\n",
       "      <th>traffic_si</th>\n",
       "      <th>NN_dist</th>\n",
       "      <th>geometry</th>\n",
       "    </tr>\n",
       "  </thead>\n",
       "  <tbody>\n",
       "    <tr>\n",
       "      <td>0</td>\n",
       "      <td>291</td>\n",
       "      <td>n213030669</td>\n",
       "      <td>213030669</td>\n",
       "      <td>node</td>\n",
       "      <td>Dahisar</td>\n",
       "      <td>None</td>\n",
       "      <td>station</td>\n",
       "      <td>DIC</td>\n",
       "      <td>Q5208848</td>\n",
       "      <td>en:Dahisar railway station</td>\n",
       "      <td>...</td>\n",
       "      <td>None</td>\n",
       "      <td>None</td>\n",
       "      <td>None</td>\n",
       "      <td>None</td>\n",
       "      <td>None</td>\n",
       "      <td>None</td>\n",
       "      <td>None</td>\n",
       "      <td>None</td>\n",
       "      <td>27.096695</td>\n",
       "      <td>POINT (275001.078 2129854.902)</td>\n",
       "    </tr>\n",
       "    <tr>\n",
       "      <td>1</td>\n",
       "      <td>627</td>\n",
       "      <td>n213030714</td>\n",
       "      <td>213030714</td>\n",
       "      <td>node</td>\n",
       "      <td>Santacruz</td>\n",
       "      <td>IR</td>\n",
       "      <td>station</td>\n",
       "      <td>STC</td>\n",
       "      <td>Q7420001</td>\n",
       "      <td>en:Santacruz railway station</td>\n",
       "      <td>...</td>\n",
       "      <td>None</td>\n",
       "      <td>None</td>\n",
       "      <td>None</td>\n",
       "      <td>None</td>\n",
       "      <td>None</td>\n",
       "      <td>None</td>\n",
       "      <td>None</td>\n",
       "      <td>None</td>\n",
       "      <td>37.092462</td>\n",
       "      <td>POINT (272926.070 2111281.305)</td>\n",
       "    </tr>\n",
       "  </tbody>\n",
       "</table>\n",
       "<p>2 rows × 57 columns</p>\n",
       "</div>"
      ],
      "text/plain": [
       "    NN     full_id     osm_id osm_type       name network  railway  ref  \\\n",
       "0  291  n213030669  213030669     node    Dahisar    None  station  DIC   \n",
       "1  627  n213030714  213030714     node  Santacruz      IR  station  STC   \n",
       "\n",
       "   wikidata                     wikipedia  ... short_name constructi disused  \\\n",
       "0  Q5208848    en:Dahisar railway station  ...       None       None    None   \n",
       "1  Q7420001  en:Santacruz railway station  ...       None       None    None   \n",
       "\n",
       "  proposed alt_name_h name_pa highway traffic_si    NN_dist  \\\n",
       "0     None       None    None    None       None  27.096695   \n",
       "1     None       None    None    None       None  37.092462   \n",
       "\n",
       "                         geometry  \n",
       "0  POINT (275001.078 2129854.902)  \n",
       "1  POINT (272926.070 2111281.305)  \n",
       "\n",
       "[2 rows x 57 columns]"
      ]
     },
     "execution_count": 711,
     "metadata": {},
     "output_type": "execute_result"
    }
   ],
   "source": [
    "inS_proj_snapped_temp_joined_geo[:2]"
   ]
  },
  {
   "cell_type": "markdown",
   "metadata": {},
   "source": [
    "## Generate the rail network Part II\n",
    "#### The allRailLines are the result of a unary union on the railway lines. Therefore they are only multiLine geometries without any attribution. The snapped railway stations also undergo a unary union and are now multiPoint. allRailLines gets split by the snapped railway stations and all the parts are put back together creating a MultiDiGraph."
   ]
  },
  {
   "cell_type": "code",
   "execution_count": 712,
   "metadata": {},
   "outputs": [
    {
     "name": "stdout",
     "output_type": "stream",
     "text": [
      "print count of split geometries\n",
      "91\n"
     ]
    }
   ],
   "source": [
    "if not os.path.exists(outRailGraph):\n",
    "    bag_of_relevant_points = unary_union(inS_proj_snapped_temp_joined_geo.geometry)\n",
    "\n",
    "    # a shapely.ops function\n",
    "    split_geoms = split(allRailLines, bag_of_relevant_points)\n",
    "\n",
    "    print('print count of split geometries')\n",
    "    print(len(split_geoms))\n",
    "\n",
    "    geom_bag = []\n",
    "\n",
    "    for geom in split_geoms:\n",
    "        g = geom.coords[0]\n",
    "        h = geom.coords[-1]\n",
    "        geom_bag.append(str(g))\n",
    "        geom_bag.append(str(h))\n",
    "\n",
    "    ref = pd.DataFrame({'node_ids':range(0, len(geom_bag)),'geoms':geom_bag})\n",
    "    ref = ref.drop_duplicates('geoms')\n",
    "    ref = ref.set_index('geoms')\n",
    "\n",
    "    nodes = []\n",
    "    edges = []\n",
    "\n",
    "    for geom in split_geoms:\n",
    "        u_data,v_data,edge_data = {},{},{}\n",
    "\n",
    "        # start node\n",
    "        # it is getting a reference to that node's coords\n",
    "        u = ref['node_ids'].loc[str(geom.coords[0])]\n",
    "        u_data['x'] = geom.coords[0][0]\n",
    "        u_data['y'] = geom.coords[0][1]\n",
    "        u_data['geom'] = Point(geom.coords[0])\n",
    "        #u_data['string'] = str(geom.coords[0])\n",
    "\n",
    "        # end node\n",
    "        v = ref['node_ids'].loc[str(geom.coords[-1])]\n",
    "        v_data['x'] = geom.coords[-1][0]\n",
    "        v_data['y'] = geom.coords[-1][1]\n",
    "        v_data['geom'] = Point(geom.coords[-1])\n",
    "        #v_data['string'] = str(geom.coords[-1])\n",
    "\n",
    "        # edge\n",
    "        edge_data['geom'] = geom\n",
    "        edge_data['length'] = geom.length\n",
    "        #edge_data['rail_type'] = geom.rail_type\n",
    "\n",
    "        nodes.append((u,u_data))\n",
    "        nodes.append((v,v_data))\n",
    "        edges.append((u,v,edge_data))\n",
    "        edges.append((v,u,edge_data))\n",
    "\n",
    "        id_ += 2\n",
    "\n",
    "    G_rail = nx.MultiDiGraph()\n",
    "    G_rail.add_nodes_from(nodes)\n",
    "    G_rail.add_edges_from(edges)"
   ]
  },
  {
   "cell_type": "markdown",
   "metadata": {},
   "source": [
    "#### you can see below that the edges only have the geometry and the length attributes"
   ]
  },
  {
   "cell_type": "code",
   "execution_count": 713,
   "metadata": {},
   "outputs": [
    {
     "name": "stdout",
     "output_type": "stream",
     "text": [
      "(0, 1, {'geom': <shapely.geometry.linestring.LineString object at 0x7f73e7aebef0>, 'length': 1388.5881250271614})\n",
      "(1, 0, {'geom': <shapely.geometry.linestring.LineString object at 0x7f73e7aebef0>, 'length': 1388.5881250271614})\n"
     ]
    }
   ],
   "source": [
    "gn.example_edge(G_rail, 2)"
   ]
  },
  {
   "cell_type": "code",
   "execution_count": 714,
   "metadata": {},
   "outputs": [
    {
     "name": "stdout",
     "output_type": "stream",
     "text": [
      "(0, {'x': 272122.66290875676, 'y': 2095693.7796779373, 'geom': <shapely.geometry.point.Point object at 0x7f73d2c54160>})\n",
      "(1, {'x': 272366.8491270583, 'y': 2097048.8173944994, 'geom': <shapely.geometry.point.Point object at 0x7f73e7aeb908>})\n"
     ]
    }
   ],
   "source": [
    "gn.example_node(G_rail, 2)"
   ]
  },
  {
   "cell_type": "markdown",
   "metadata": {},
   "source": [
    "#### you can see below that there is an additional attribute 'rail_type' that we would like to add to the edges"
   ]
  },
  {
   "cell_type": "code",
   "execution_count": 715,
   "metadata": {},
   "outputs": [
    {
     "data": {
      "text/html": [
       "<div>\n",
       "<style scoped>\n",
       "    .dataframe tbody tr th:only-of-type {\n",
       "        vertical-align: middle;\n",
       "    }\n",
       "\n",
       "    .dataframe tbody tr th {\n",
       "        vertical-align: top;\n",
       "    }\n",
       "\n",
       "    .dataframe thead th {\n",
       "        text-align: right;\n",
       "    }\n",
       "</style>\n",
       "<table border=\"1\" class=\"dataframe\">\n",
       "  <thead>\n",
       "    <tr style=\"text-align: right;\">\n",
       "      <th></th>\n",
       "      <th>id</th>\n",
       "      <th>length</th>\n",
       "      <th>rail_type</th>\n",
       "      <th>geometry</th>\n",
       "    </tr>\n",
       "  </thead>\n",
       "  <tbody>\n",
       "    <tr>\n",
       "      <td>0</td>\n",
       "      <td>1.0</td>\n",
       "      <td>49224.263829</td>\n",
       "      <td>rail</td>\n",
       "      <td>LINESTRING (274371.400 2137271.121, 274392.826...</td>\n",
       "    </tr>\n",
       "    <tr>\n",
       "      <td>1</td>\n",
       "      <td>2.0</td>\n",
       "      <td>30343.365621</td>\n",
       "      <td>rail</td>\n",
       "      <td>LINESTRING (287196.192 2122663.190, 286933.399...</td>\n",
       "    </tr>\n",
       "    <tr>\n",
       "      <td>2</td>\n",
       "      <td>3.0</td>\n",
       "      <td>15313.909123</td>\n",
       "      <td>rail</td>\n",
       "      <td>LINESTRING (282341.652 2107437.900, 282277.064...</td>\n",
       "    </tr>\n",
       "    <tr>\n",
       "      <td>3</td>\n",
       "      <td>4.0</td>\n",
       "      <td>13809.747059</td>\n",
       "      <td>rail</td>\n",
       "      <td>LINESTRING (276859.800 2109421.985, 276698.102...</td>\n",
       "    </tr>\n",
       "    <tr>\n",
       "      <td>4</td>\n",
       "      <td>5.0</td>\n",
       "      <td>28081.137061</td>\n",
       "      <td>rail</td>\n",
       "      <td>LINESTRING (276859.800 2109421.985, 276367.012...</td>\n",
       "    </tr>\n",
       "  </tbody>\n",
       "</table>\n",
       "</div>"
      ],
      "text/plain": [
       "    id        length rail_type  \\\n",
       "0  1.0  49224.263829      rail   \n",
       "1  2.0  30343.365621      rail   \n",
       "2  3.0  15313.909123      rail   \n",
       "3  4.0  13809.747059      rail   \n",
       "4  5.0  28081.137061      rail   \n",
       "\n",
       "                                            geometry  \n",
       "0  LINESTRING (274371.400 2137271.121, 274392.826...  \n",
       "1  LINESTRING (287196.192 2122663.190, 286933.399...  \n",
       "2  LINESTRING (282341.652 2107437.900, 282277.064...  \n",
       "3  LINESTRING (276859.800 2109421.985, 276698.102...  \n",
       "4  LINESTRING (276859.800 2109421.985, 276367.012...  "
      ]
     },
     "execution_count": 715,
     "metadata": {},
     "output_type": "execute_result"
    }
   ],
   "source": [
    "inR[:5]"
   ]
  },
  {
   "cell_type": "markdown",
   "metadata": {},
   "source": [
    "### Find all edges that intersect the input railways and where they do add the attributes to the edges"
   ]
  },
  {
   "cell_type": "code",
   "execution_count": 716,
   "metadata": {},
   "outputs": [
    {
     "name": "stdout",
     "output_type": "stream",
     "text": [
      "182\n",
      "274\n",
      "2274\n"
     ]
    }
   ],
   "source": [
    "if not os.path.exists(outRailGraph):\n",
    "    # Remember that this is a MultiDiGraph so there are two directed edges between each pair of nodes. \n",
    "    graph_edge_count = 0\n",
    "    graph_edge_intersects = 0\n",
    "    graph_edge_no_intersects = 0\n",
    "\n",
    "    # loop through each edge in the graph\n",
    "    for edge in G_rail.edges(data=True):\n",
    "        graph_edge_count += 1\n",
    "        # loop through each railway in the input railway geodataframe\n",
    "        for row in inR.itertuples(index=False):\n",
    "            # if there is an intersection\n",
    "            if edge[2]['geom'].intersects(row.geometry):\n",
    "                # print(\"an intersection has occurred\")\n",
    "                graph_edge_intersects += 1\n",
    "                # for the edge add all the attributes that are not length or geometry\n",
    "                row_dict = row._asdict()\n",
    "                for name,value in row_dict.items():\n",
    "                    if not (name=='geometry' or name=='length'):\n",
    "                        #print(name)\n",
    "                        # This updates the edge and adds a new attribute key and value\n",
    "                        #G_rail[edge[0]][edge[1]][0].update(name=value)\n",
    "                        G_rail[edge[0]][edge[1]][0][name]=value\n",
    "            else:\n",
    "                graph_edge_no_intersects += 1\n",
    "    nx.write_gpickle(G_rail, outRailGraph)\n",
    "else:\n",
    "    G_rail = nx.read_gpickle(outRailGraph) \n",
    "    \n",
    "print(graph_edge_count)\n",
    "print(graph_edge_intersects)\n",
    "print(graph_edge_no_intersects)"
   ]
  },
  {
   "cell_type": "code",
   "execution_count": 717,
   "metadata": {},
   "outputs": [
    {
     "name": "stdout",
     "output_type": "stream",
     "text": [
      "{'geom': <shapely.geometry.linestring.LineString object at 0x7f73e7aebef0>, 'length': 1388.5881250271614, 'id': 6.0, 'rail_type': 'rail'}\n",
      "{'geom': <shapely.geometry.linestring.LineString object at 0x7f73e7aebef0>, 'length': 1388.5881250271614, 'id': 6.0, 'rail_type': 'rail'}\n",
      "{'geom': <shapely.geometry.linestring.LineString object at 0x7f73e7aeb978>, 'length': 813.9703934797581, 'id': 11.0, 'rail_type': 'rail'}\n",
      "{'geom': <shapely.geometry.linestring.LineString object at 0x7f73e7aeb978>, 'length': 813.9703934797581, 'id': 11.0, 'rail_type': 'rail'}\n",
      "{'geom': <shapely.geometry.linestring.LineString object at 0x7f73d33e3e10>, 'length': 939.3411041555928, 'id': 11.0, 'rail_type': 'rail'}\n",
      "{'geom': <shapely.geometry.linestring.LineString object at 0x7f73dc784390>, 'length': 2016.7291243058262, 'id': 11.0, 'rail_type': 'rail'}\n",
      "{'geom': <shapely.geometry.linestring.LineString object at 0x7f73e7aebf28>, 'length': 1083.3242072371213, 'id': 8.0, 'rail_type': 'rail'}\n",
      "{'geom': <shapely.geometry.linestring.LineString object at 0x7f73bda95860>, 'length': 1313.7979308992838, 'id': 8.0, 'rail_type': 'rail'}\n",
      "{'geom': <shapely.geometry.linestring.LineString object at 0x7f73d5b763c8>, 'length': 1241.4955637511919, 'id': 8.0, 'rail_type': 'rail'}\n",
      "{'geom': <shapely.geometry.linestring.LineString object at 0x7f73e7aebf28>, 'length': 1083.3242072371213, 'id': 8.0, 'rail_type': 'rail'}\n",
      "{'geom': <shapely.geometry.linestring.LineString object at 0x7f73ed7afc50>, 'length': 1682.8091623966716, 'id': 7.0, 'rail_type': 'rail'}\n",
      "{'geom': <shapely.geometry.linestring.LineString object at 0x7f73dc7843c8>, 'length': 1656.6962322365475, 'id': 7.0, 'rail_type': 'rail'}\n",
      "{'geom': <shapely.geometry.linestring.LineString object at 0x7f73d33e3e10>, 'length': 939.3411041555928, 'id': 11.0, 'rail_type': 'rail'}\n",
      "{'geom': <shapely.geometry.linestring.LineString object at 0x7f73d33e3ef0>, 'length': 1213.8243603082353, 'id': 11.0, 'rail_type': 'rail'}\n",
      "{'geom': <shapely.geometry.linestring.LineString object at 0x7f73d33e3ef0>, 'length': 1213.8243603082353, 'id': 11.0, 'rail_type': 'rail'}\n",
      "{'geom': <shapely.geometry.linestring.LineString object at 0x7f73d33e3f28>, 'length': 1080.265245827843, 'id': 11.0, 'rail_type': 'rail'}\n",
      "{'geom': <shapely.geometry.linestring.LineString object at 0x7f73d33e3f28>, 'length': 1080.265245827843, 'id': 11.0, 'rail_type': 'rail'}\n",
      "{'geom': <shapely.geometry.linestring.LineString object at 0x7f73d33e38d0>, 'length': 1716.8294706923107, 'id': 9.0, 'rail_type': 'rail'}\n",
      "{'geom': <shapely.geometry.linestring.LineString object at 0x7f73d33e38d0>, 'length': 1716.8294706923107, 'id': 9.0, 'rail_type': 'rail'}\n",
      "{'geom': <shapely.geometry.linestring.LineString object at 0x7f73d1666b38>, 'length': 2040.1327265264981, 'id': 9.0, 'rail_type': 'rail'}\n",
      "{'geom': <shapely.geometry.linestring.LineString object at 0x7f73ed7afc50>, 'length': 1682.8091623966716, 'id': 7.0, 'rail_type': 'rail'}\n",
      "{'geom': <shapely.geometry.linestring.LineString object at 0x7f73ed7af908>, 'length': 957.6655624727625, 'id': 7.0, 'rail_type': 'rail'}\n",
      "{'geom': <shapely.geometry.linestring.LineString object at 0x7f73e6e67f28>, 'length': 377.0795853682191, 'id': 13.0, 'rail_type': 'rail'}\n",
      "{'geom': <shapely.geometry.linestring.LineString object at 0x7f73e6e67eb8>, 'length': 1105.038564498696, 'id': 13.0, 'rail_type': 'rail'}\n",
      "{'geom': <shapely.geometry.linestring.LineString object at 0x7f73ed7af908>, 'length': 957.6655624727625, 'id': 7.0, 'rail_type': 'rail'}\n",
      "{'geom': <shapely.geometry.linestring.LineString object at 0x7f73ed7af048>, 'length': 1104.3395814106484, 'id': 7.0, 'rail_type': 'rail'}\n",
      "{'geom': <shapely.geometry.linestring.LineString object at 0x7f73ed7af048>, 'length': 1104.3395814106484, 'id': 7.0, 'rail_type': 'rail'}\n",
      "{'geom': <shapely.geometry.linestring.LineString object at 0x7f73dc784390>, 'length': 2016.7291243058262, 'id': 11.0, 'rail_type': 'rail'}\n",
      "{'geom': <shapely.geometry.linestring.LineString object at 0x7f73dc7843c8>, 'length': 1656.6962322365475, 'id': 7.0, 'rail_type': 'rail'}\n",
      "{'geom': <shapely.geometry.linestring.LineString object at 0x7f73dc7847b8>, 'length': 1659.2135760889294, 'id': 5.0, 'rail_type': 'rail'}\n",
      "{'geom': <shapely.geometry.linestring.LineString object at 0x7f73dc7847b8>, 'length': 1659.2135760889294, 'id': 5.0, 'rail_type': 'rail'}\n",
      "{'geom': <shapely.geometry.linestring.LineString object at 0x7f73d33dd1d0>, 'length': 1404.1621660466367, 'id': 5.0, 'rail_type': 'rail'}\n",
      "{'geom': <shapely.geometry.linestring.LineString object at 0x7f73d33dd1d0>, 'length': 1404.1621660466367, 'id': 5.0, 'rail_type': 'rail'}\n",
      "{'geom': <shapely.geometry.linestring.LineString object at 0x7f73eab74c18>, 'length': 907.3987408292628, 'id': 5.0, 'rail_type': 'rail'}\n",
      "{'geom': <shapely.geometry.linestring.LineString object at 0x7f73eab74c18>, 'length': 907.3987408292628, 'id': 5.0, 'rail_type': 'rail'}\n",
      "{'geom': <shapely.geometry.linestring.LineString object at 0x7f73eab740f0>, 'length': 1494.9647472552338, 'id': 5.0, 'rail_type': 'rail'}\n",
      "{'geom': <shapely.geometry.linestring.LineString object at 0x7f73eab740f0>, 'length': 1494.9647472552338, 'id': 5.0, 'rail_type': 'rail'}\n",
      "{'geom': <shapely.geometry.linestring.LineString object at 0x7f73eab74518>, 'length': 875.7448573567506, 'id': 5.0, 'rail_type': 'rail'}\n",
      "{'geom': <shapely.geometry.linestring.LineString object at 0x7f73eab74518>, 'length': 875.7448573567506, 'id': 5.0, 'rail_type': 'rail'}\n",
      "{'geom': <shapely.geometry.linestring.LineString object at 0x7f73eab746a0>, 'length': 1364.1771358711885, 'id': 5.0, 'rail_type': 'rail'}\n",
      "{'geom': <shapely.geometry.linestring.LineString object at 0x7f73eab746a0>, 'length': 1364.1771358711885, 'id': 5.0, 'rail_type': 'rail'}\n",
      "{'geom': <shapely.geometry.linestring.LineString object at 0x7f73eab743c8>, 'length': 1229.0138928748036, 'id': 13.0, 'rail_type': 'rail'}\n",
      "{'geom': <shapely.geometry.linestring.LineString object at 0x7f73eab743c8>, 'length': 1229.0138928748036, 'id': 13.0, 'rail_type': 'rail'}\n",
      "{'geom': <shapely.geometry.linestring.LineString object at 0x7f73e6e67f28>, 'length': 377.0795853682191, 'id': 13.0, 'rail_type': 'rail'}\n",
      "{'geom': <shapely.geometry.linestring.LineString object at 0x7f73e6e67eb8>, 'length': 1105.038564498696, 'id': 13.0, 'rail_type': 'rail'}\n",
      "{'geom': <shapely.geometry.linestring.LineString object at 0x7f73e6e67f60>, 'length': 1091.5400530590248, 'id': 13.0, 'rail_type': 'rail'}\n",
      "{'geom': <shapely.geometry.linestring.LineString object at 0x7f73e6e67f60>, 'length': 1091.5400530590248, 'id': 13.0, 'rail_type': 'rail'}\n",
      "{'geom': <shapely.geometry.linestring.LineString object at 0x7f73c7ad02b0>, 'length': 1280.4481069511712, 'id': 13.0, 'rail_type': 'rail'}\n",
      "{'geom': <shapely.geometry.linestring.LineString object at 0x7f73c7ad02b0>, 'length': 1280.4481069511712, 'id': 13.0, 'rail_type': 'rail'}\n",
      "{'geom': <shapely.geometry.linestring.LineString object at 0x7f73d1666208>, 'length': 1833.6487613501254, 'id': 13.0, 'rail_type': 'rail'}\n",
      "{'geom': <shapely.geometry.linestring.LineString object at 0x7f73d1666208>, 'length': 1833.6487613501254, 'id': 13.0, 'rail_type': 'rail'}\n",
      "{'geom': <shapely.geometry.linestring.LineString object at 0x7f73d1666550>, 'length': 147.83140613223182, 'id': 9.0, 'rail_type': 'rail'}\n",
      "{'geom': <shapely.geometry.linestring.LineString object at 0x7f73d1666550>, 'length': 147.83140613223182, 'id': 9.0, 'rail_type': 'rail'}\n",
      "{'geom': <shapely.geometry.linestring.LineString object at 0x7f73d16662b0>, 'length': 287.70393785082797, 'id': 9.0, 'rail_type': 'rail'}\n",
      "{'geom': <shapely.geometry.linestring.LineString object at 0x7f73bda95f60>, 'length': 1080.805340170054, 'id': 13.0, 'rail_type': 'rail'}\n",
      "{'geom': <shapely.geometry.linestring.LineString object at 0x7f73d5b760f0>, 'length': 1018.4592074416155, 'id': 9.0, 'rail_type': 'rail'}\n",
      "{'geom': <shapely.geometry.linestring.LineString object at 0x7f73d16662b0>, 'length': 287.70393785082797, 'id': 9.0, 'rail_type': 'rail'}\n",
      "{'geom': <shapely.geometry.linestring.LineString object at 0x7f73d1666b38>, 'length': 2040.1327265264981, 'id': 9.0, 'rail_type': 'rail'}\n",
      "{'geom': <shapely.geometry.linestring.LineString object at 0x7f73ebcf0748>, 'length': 1230.3042392531702, 'id': 10.0, 'rail_type': 'metro'}\n",
      "{'geom': <shapely.geometry.linestring.LineString object at 0x7f73bda762b0>, 'length': 3634.338983696568, 'id': 10.0, 'rail_type': 'metro'}\n",
      "{'geom': <shapely.geometry.linestring.LineString object at 0x7f73d5b7b2e8>, 'length': 1401.5427984868954, 'id': 10.0, 'rail_type': 'metro'}\n",
      "{'geom': <shapely.geometry.linestring.LineString object at 0x7f73ebcf0748>, 'length': 1230.3042392531702, 'id': 10.0, 'rail_type': 'metro'}\n",
      "{'geom': <shapely.geometry.linestring.LineString object at 0x7f73ebcf0390>, 'length': 864.993185788535, 'id': 10.0, 'rail_type': 'metro'}\n",
      "{'geom': <shapely.geometry.linestring.LineString object at 0x7f73ebcf0390>, 'length': 864.993185788535, 'id': 10.0, 'rail_type': 'metro'}\n",
      "{'geom': <shapely.geometry.linestring.LineString object at 0x7f73ebcf0080>, 'length': 1090.9545673390473, 'id': 10.0, 'rail_type': 'metro'}\n",
      "{'geom': <shapely.geometry.linestring.LineString object at 0x7f73ebcf0080>, 'length': 1090.9545673390473, 'id': 10.0, 'rail_type': 'metro'}\n",
      "{'geom': <shapely.geometry.linestring.LineString object at 0x7f73ebcf0fd0>, 'length': 1075.2369930293037, 'id': 10.0, 'rail_type': 'metro'}\n",
      "{'geom': <shapely.geometry.linestring.LineString object at 0x7f73ebcf0fd0>, 'length': 1075.2369930293037, 'id': 10.0, 'rail_type': 'metro'}\n",
      "{'geom': <shapely.geometry.linestring.LineString object at 0x7f73ebcf0a20>, 'length': 601.3400031694448, 'id': 10.0, 'rail_type': 'metro'}\n",
      "{'geom': <shapely.geometry.linestring.LineString object at 0x7f73ebcf0a20>, 'length': 601.3400031694448, 'id': 10.0, 'rail_type': 'metro'}\n",
      "{'geom': <shapely.geometry.linestring.LineString object at 0x7f73ebcf0320>, 'length': 740.4695454091143, 'id': 10.0, 'rail_type': 'metro'}\n",
      "{'geom': <shapely.geometry.linestring.LineString object at 0x7f73ebcf0320>, 'length': 740.4695454091143, 'id': 10.0, 'rail_type': 'metro'}\n",
      "{'geom': <shapely.geometry.linestring.LineString object at 0x7f73ebcf0550>, 'length': 1245.1404377259655, 'id': 10.0, 'rail_type': 'metro'}\n",
      "{'geom': <shapely.geometry.linestring.LineString object at 0x7f73ebcf0550>, 'length': 1245.1404377259655, 'id': 10.0, 'rail_type': 'metro'}\n",
      "{'geom': <shapely.geometry.linestring.LineString object at 0x7f73ebcf0128>, 'length': 954.9003859657182, 'id': 10.0, 'rail_type': 'metro'}\n",
      "{'geom': <shapely.geometry.linestring.LineString object at 0x7f73ebcf0128>, 'length': 954.9003859657182, 'id': 10.0, 'rail_type': 'metro'}\n",
      "{'geom': <shapely.geometry.linestring.LineString object at 0x7f73ebcfbe48>, 'length': 202.89480386956993, 'id': 10.0, 'rail_type': 'metro'}\n",
      "{'geom': <shapely.geometry.linestring.LineString object at 0x7f73ebcfbe48>, 'length': 202.89480386956993, 'id': 10.0, 'rail_type': 'metro'}\n",
      "{'geom': <shapely.geometry.linestring.LineString object at 0x7f73ebcfbe80>, 'length': 1203.610908762026, 'id': 10.0, 'rail_type': 'metro'}\n",
      "{'geom': <shapely.geometry.linestring.LineString object at 0x7f73bda6aa90>, 'length': 1497.382401599555, 'id': 1.0, 'rail_type': 'rail'}\n",
      "{'geom': <shapely.geometry.linestring.LineString object at 0x7f73d5b7b1d0>, 'length': 201.66981175959643, 'id': 1.0, 'rail_type': 'rail'}\n",
      "{'geom': <shapely.geometry.linestring.LineString object at 0x7f73ebcfbe80>, 'length': 1203.610908762026, 'id': 10.0, 'rail_type': 'metro'}\n",
      "{'geom': <shapely.geometry.linestring.LineString object at 0x7f73ebcfbd68>, 'length': 787.0326048536242, 'id': 10.0, 'rail_type': 'metro'}\n",
      "{'geom': <shapely.geometry.linestring.LineString object at 0x7f73ebcfbd68>, 'length': 787.0326048536242, 'id': 10.0, 'rail_type': 'metro'}\n",
      "{'geom': <shapely.geometry.linestring.LineString object at 0x7f73ebcee7b8>, 'length': 966.0296763530104, 'id': 10.0, 'rail_type': 'metro'}\n",
      "{'geom': <shapely.geometry.linestring.LineString object at 0x7f73ebcee7b8>, 'length': 966.0296763530104, 'id': 10.0, 'rail_type': 'metro'}\n",
      "{'geom': <shapely.geometry.linestring.LineString object at 0x7f73ebcee1d0>, 'length': 2622.978932253944, 'id': 2.0, 'rail_type': 'rail'}\n",
      "{'geom': <shapely.geometry.linestring.LineString object at 0x7f73ebcee1d0>, 'length': 2622.978932253944, 'id': 2.0, 'rail_type': 'rail'}\n",
      "{'geom': <shapely.geometry.linestring.LineString object at 0x7f73bae11da0>, 'length': 2294.9798783069764, 'id': 2.0, 'rail_type': 'rail'}\n",
      "{'geom': <shapely.geometry.linestring.LineString object at 0x7f73bae11da0>, 'length': 2294.9798783069764, 'id': 2.0, 'rail_type': 'rail'}\n",
      "{'geom': <shapely.geometry.linestring.LineString object at 0x7f73bda768d0>, 'length': 1401.689906104524, 'id': 2.0, 'rail_type': 'rail'}\n",
      "{'geom': <shapely.geometry.linestring.LineString object at 0x7f73bda768d0>, 'length': 1401.689906104524, 'id': 2.0, 'rail_type': 'rail'}\n",
      "{'geom': <shapely.geometry.linestring.LineString object at 0x7f73bda76ac8>, 'length': 2053.195881239938, 'id': 2.0, 'rail_type': 'rail'}\n",
      "{'geom': <shapely.geometry.linestring.LineString object at 0x7f73bda76ac8>, 'length': 2053.195881239938, 'id': 2.0, 'rail_type': 'rail'}\n",
      "{'geom': <shapely.geometry.linestring.LineString object at 0x7f73bda76a90>, 'length': 1901.4575279741396, 'id': 2.0, 'rail_type': 'rail'}\n",
      "{'geom': <shapely.geometry.linestring.LineString object at 0x7f73bda76a90>, 'length': 1901.4575279741396, 'id': 2.0, 'rail_type': 'rail'}\n",
      "{'geom': <shapely.geometry.linestring.LineString object at 0x7f73bda762b0>, 'length': 3634.338983696568, 'id': 10.0, 'rail_type': 'metro'}\n",
      "{'geom': <shapely.geometry.linestring.LineString object at 0x7f73bda76588>, 'length': 4077.8037806955876, 'id': 1.0, 'rail_type': 'rail'}\n",
      "{'geom': <shapely.geometry.linestring.LineString object at 0x7f73bda76588>, 'length': 4077.8037806955876, 'id': 1.0, 'rail_type': 'rail'}\n",
      "{'geom': <shapely.geometry.linestring.LineString object at 0x7f73bda764e0>, 'length': 3366.245349015633, 'id': 1.0, 'rail_type': 'rail'}\n",
      "{'geom': <shapely.geometry.linestring.LineString object at 0x7f73bda764e0>, 'length': 3366.245349015633, 'id': 1.0, 'rail_type': 'rail'}\n",
      "{'geom': <shapely.geometry.linestring.LineString object at 0x7f73bda76390>, 'length': 2355.3061266712957, 'id': 1.0, 'rail_type': 'rail'}\n",
      "{'geom': <shapely.geometry.linestring.LineString object at 0x7f73bda76390>, 'length': 2355.3061266712957, 'id': 1.0, 'rail_type': 'rail'}\n",
      "{'geom': <shapely.geometry.linestring.LineString object at 0x7f73bda76710>, 'length': 2878.963313743979, 'id': 1.0, 'rail_type': 'rail'}\n",
      "{'geom': <shapely.geometry.linestring.LineString object at 0x7f73bda76710>, 'length': 2878.963313743979, 'id': 1.0, 'rail_type': 'rail'}\n",
      "{'geom': <shapely.geometry.linestring.LineString object at 0x7f73bda76128>, 'length': 1967.7174900151917, 'id': 1.0, 'rail_type': 'rail'}\n",
      "{'geom': <shapely.geometry.linestring.LineString object at 0x7f73bda76128>, 'length': 1967.7174900151917, 'id': 1.0, 'rail_type': 'rail'}\n",
      "{'geom': <shapely.geometry.linestring.LineString object at 0x7f73bda767f0>, 'length': 2309.932251659708, 'id': 1.0, 'rail_type': 'rail'}\n",
      "{'geom': <shapely.geometry.linestring.LineString object at 0x7f73bda767f0>, 'length': 2309.932251659708, 'id': 1.0, 'rail_type': 'rail'}\n",
      "{'geom': <shapely.geometry.linestring.LineString object at 0x7f73bda761d0>, 'length': 1526.7468343759522, 'id': 1.0, 'rail_type': 'rail'}\n",
      "{'geom': <shapely.geometry.linestring.LineString object at 0x7f73bda761d0>, 'length': 1526.7468343759522, 'id': 1.0, 'rail_type': 'rail'}\n",
      "{'geom': <shapely.geometry.linestring.LineString object at 0x7f73bda76c50>, 'length': 1786.594888928816, 'id': 1.0, 'rail_type': 'rail'}\n",
      "{'geom': <shapely.geometry.linestring.LineString object at 0x7f73bda76c50>, 'length': 1786.594888928816, 'id': 1.0, 'rail_type': 'rail'}\n",
      "{'geom': <shapely.geometry.linestring.LineString object at 0x7f73bda6aa90>, 'length': 1497.382401599555, 'id': 1.0, 'rail_type': 'rail'}\n",
      "{'geom': <shapely.geometry.linestring.LineString object at 0x7f73bda6a9b0>, 'length': 2738.1644903093265, 'id': 5.0, 'rail_type': 'rail'}\n",
      "{'geom': <shapely.geometry.linestring.LineString object at 0x7f73d5b7b630>, 'length': 1914.227770764179, 'id': 5.0, 'rail_type': 'rail'}\n",
      "{'geom': <shapely.geometry.linestring.LineString object at 0x7f73d5b7b080>, 'length': 1311.0932651053138, 'id': 5.0, 'rail_type': 'rail'}\n",
      "{'geom': <shapely.geometry.linestring.LineString object at 0x7f73d5b7b7b8>, 'length': 2367.8437749638783, 'id': 5.0, 'rail_type': 'rail'}\n",
      "{'geom': <shapely.geometry.linestring.LineString object at 0x7f73bda6a9b0>, 'length': 2738.1644903093265, 'id': 5.0, 'rail_type': 'rail'}\n",
      "{'geom': <shapely.geometry.linestring.LineString object at 0x7f73bda6a470>, 'length': 1697.6799754216468, 'id': 5.0, 'rail_type': 'rail'}\n",
      "{'geom': <shapely.geometry.linestring.LineString object at 0x7f73bda6a470>, 'length': 1697.6799754216468, 'id': 5.0, 'rail_type': 'rail'}\n",
      "{'geom': <shapely.geometry.linestring.LineString object at 0x7f73bda6a048>, 'length': 802.0096806818185, 'id': 5.0, 'rail_type': 'rail'}\n",
      "{'geom': <shapely.geometry.linestring.LineString object at 0x7f73d5b76550>, 'length': 841.2893914196954, 'id': 8.0, 'rail_type': 'rail'}\n",
      "{'geom': <shapely.geometry.linestring.LineString object at 0x7f73d5b76390>, 'length': 955.6533822487235, 'id': 9.0, 'rail_type': 'rail'}\n",
      "{'geom': <shapely.geometry.linestring.LineString object at 0x7f73bda6a048>, 'length': 802.0096806818185, 'id': 5.0, 'rail_type': 'rail'}\n",
      "{'geom': <shapely.geometry.linestring.LineString object at 0x7f73bda95860>, 'length': 1313.7979308992838, 'id': 8.0, 'rail_type': 'rail'}\n",
      "{'geom': <shapely.geometry.linestring.LineString object at 0x7f73bda95f60>, 'length': 1080.805340170054, 'id': 13.0, 'rail_type': 'rail'}\n",
      "{'geom': <shapely.geometry.linestring.LineString object at 0x7f73bda95d30>, 'length': 809.1756481977682, 'id': 13.0, 'rail_type': 'rail'}\n",
      "{'geom': <shapely.geometry.linestring.LineString object at 0x7f73bda95d30>, 'length': 809.1756481977682, 'id': 13.0, 'rail_type': 'rail'}\n",
      "{'geom': <shapely.geometry.linestring.LineString object at 0x7f73b9c1dc88>, 'length': 1048.9267276476733, 'id': 13.0, 'rail_type': 'rail'}\n",
      "{'geom': <shapely.geometry.linestring.LineString object at 0x7f73b9c1dc88>, 'length': 1048.9267276476733, 'id': 13.0, 'rail_type': 'rail'}\n",
      "{'geom': <shapely.geometry.linestring.LineString object at 0x7f73d5b76160>, 'length': 531.387601887294, 'id': 13.0, 'rail_type': 'rail'}\n",
      "{'geom': <shapely.geometry.linestring.LineString object at 0x7f73d5b76160>, 'length': 531.387601887294, 'id': 13.0, 'rail_type': 'rail'}\n",
      "{'geom': <shapely.geometry.linestring.LineString object at 0x7f73d5b7ba90>, 'length': 2364.84987545677, 'id': 13.0, 'rail_type': 'rail'}\n",
      "{'geom': <shapely.geometry.linestring.LineString object at 0x7f73d5b760f0>, 'length': 1018.4592074416155, 'id': 9.0, 'rail_type': 'rail'}\n",
      "{'geom': <shapely.geometry.linestring.LineString object at 0x7f73d5b76390>, 'length': 955.6533822487235, 'id': 9.0, 'rail_type': 'rail'}\n",
      "{'geom': <shapely.geometry.linestring.LineString object at 0x7f73d5b7b470>, 'length': 1310.7839309822198, 'id': 9.0, 'rail_type': 'rail'}\n",
      "{'geom': <shapely.geometry.linestring.LineString object at 0x7f73d5b76048>, 'length': 1059.30784931018, 'id': 8.0, 'rail_type': 'rail'}\n",
      "{'geom': <shapely.geometry.linestring.LineString object at 0x7f73d5b76550>, 'length': 841.2893914196954, 'id': 8.0, 'rail_type': 'rail'}\n",
      "{'geom': <shapely.geometry.linestring.LineString object at 0x7f73eaaedda0>, 'length': 355.7915669571972, 'id': 8.0, 'rail_type': 'rail'}\n",
      "{'geom': <shapely.geometry.linestring.LineString object at 0x7f73d5b76048>, 'length': 1059.30784931018, 'id': 8.0, 'rail_type': 'rail'}\n",
      "{'geom': <shapely.geometry.linestring.LineString object at 0x7f73d5b763c8>, 'length': 1241.4955637511919, 'id': 8.0, 'rail_type': 'rail'}\n",
      "{'geom': <shapely.geometry.linestring.LineString object at 0x7f73d5b7ba90>, 'length': 2364.84987545677, 'id': 13.0, 'rail_type': 'rail'}\n",
      "{'geom': <shapely.geometry.linestring.LineString object at 0x7f73d5b7bf98>, 'length': 2117.6322683116596, 'id': 12.0, 'rail_type': 'rail'}\n",
      "{'geom': <shapely.geometry.linestring.LineString object at 0x7f73d5b7bf98>, 'length': 2117.6322683116596, 'id': 12.0, 'rail_type': 'rail'}\n",
      "{'geom': <shapely.geometry.linestring.LineString object at 0x7f73d5b7bb00>, 'length': 1431.7540324452932, 'id': 12.0, 'rail_type': 'rail'}\n",
      "{'geom': <shapely.geometry.linestring.LineString object at 0x7f73d5b7bb00>, 'length': 1431.7540324452932, 'id': 12.0, 'rail_type': 'rail'}\n",
      "{'geom': <shapely.geometry.linestring.LineString object at 0x7f73d5b7bb70>, 'length': 989.4831305106069, 'id': 12.0, 'rail_type': 'rail'}\n",
      "{'geom': <shapely.geometry.linestring.LineString object at 0x7f73d5b7bb70>, 'length': 989.4831305106069, 'id': 12.0, 'rail_type': 'rail'}\n",
      "{'geom': <shapely.geometry.linestring.LineString object at 0x7f73d5b7bdd8>, 'length': 988.0478505667027, 'id': 12.0, 'rail_type': 'rail'}\n",
      "{'geom': <shapely.geometry.linestring.LineString object at 0x7f73d5b7bdd8>, 'length': 988.0478505667027, 'id': 12.0, 'rail_type': 'rail'}\n",
      "{'geom': <shapely.geometry.linestring.LineString object at 0x7f73d5b7bef0>, 'length': 1026.1015843455286, 'id': 12.0, 'rail_type': 'rail'}\n",
      "{'geom': <shapely.geometry.linestring.LineString object at 0x7f73d5b7bef0>, 'length': 1026.1015843455286, 'id': 12.0, 'rail_type': 'rail'}\n",
      "{'geom': <shapely.geometry.linestring.LineString object at 0x7f73d5b7b668>, 'length': 57.30118618187348, 'id': 12.0, 'rail_type': 'rail'}\n",
      "{'geom': <shapely.geometry.linestring.LineString object at 0x7f73d5b7b668>, 'length': 57.30118618187348, 'id': 12.0, 'rail_type': 'rail'}\n",
      "{'geom': <shapely.geometry.linestring.LineString object at 0x7f73d5b7b630>, 'length': 1914.227770764179, 'id': 5.0, 'rail_type': 'rail'}\n",
      "{'geom': <shapely.geometry.linestring.LineString object at 0x7f73d5b7b550>, 'length': 1638.1709946734336, 'id': 4.0, 'rail_type': 'rail'}\n",
      "{'geom': <shapely.geometry.linestring.LineString object at 0x7f73d5b7b550>, 'length': 1638.1709946734336, 'id': 4.0, 'rail_type': 'rail'}\n",
      "{'geom': <shapely.geometry.linestring.LineString object at 0x7f73d5b7b470>, 'length': 1310.7839309822198, 'id': 9.0, 'rail_type': 'rail'}\n",
      "{'geom': <shapely.geometry.linestring.LineString object at 0x7f73d5b7b828>, 'length': 1984.8448116856612, 'id': 3.0, 'rail_type': 'rail'}\n",
      "{'geom': <shapely.geometry.linestring.LineString object at 0x7f73d5b7b828>, 'length': 1984.8448116856612, 'id': 3.0, 'rail_type': 'rail'}\n",
      "{'geom': <shapely.geometry.linestring.LineString object at 0x7f73d5b7be10>, 'length': 1639.1279865257352, 'id': 3.0, 'rail_type': 'rail'}\n",
      "{'geom': <shapely.geometry.linestring.LineString object at 0x7f73d5b7be10>, 'length': 1639.1279865257352, 'id': 3.0, 'rail_type': 'rail'}\n",
      "{'geom': <shapely.geometry.linestring.LineString object at 0x7f73d5b7b160>, 'length': 1137.7588943614712, 'id': 3.0, 'rail_type': 'rail'}\n",
      "{'geom': <shapely.geometry.linestring.LineString object at 0x7f73d5b7b160>, 'length': 1137.7588943614712, 'id': 3.0, 'rail_type': 'rail'}\n",
      "{'geom': <shapely.geometry.linestring.LineString object at 0x7f73d5b7b080>, 'length': 1311.0932651053138, 'id': 5.0, 'rail_type': 'rail'}\n",
      "{'geom': <shapely.geometry.linestring.LineString object at 0x7f73d5b7b2e8>, 'length': 1401.5427984868954, 'id': 10.0, 'rail_type': 'metro'}\n",
      "{'geom': <shapely.geometry.linestring.LineString object at 0x7f73d5b7b7b8>, 'length': 2367.8437749638783, 'id': 5.0, 'rail_type': 'rail'}\n",
      "{'geom': <shapely.geometry.linestring.LineString object at 0x7f73d5b7b1d0>, 'length': 201.66981175959643, 'id': 1.0, 'rail_type': 'rail'}\n",
      "{'geom': <shapely.geometry.linestring.LineString object at 0x7f73eaaedfd0>, 'length': 2212.2435214598554, 'id': 1.0, 'rail_type': 'rail'}\n",
      "{'geom': <shapely.geometry.linestring.LineString object at 0x7f73eaaedfd0>, 'length': 2212.2435214598554, 'id': 1.0, 'rail_type': 'rail'}\n",
      "{'geom': <shapely.geometry.linestring.LineString object at 0x7f73eaaed710>, 'length': 2013.3620594579847, 'id': 1.0, 'rail_type': 'rail'}\n",
      "{'geom': <shapely.geometry.linestring.LineString object at 0x7f73eaaed710>, 'length': 2013.3620594579847, 'id': 1.0, 'rail_type': 'rail'}\n",
      "{'geom': <shapely.geometry.linestring.LineString object at 0x7f73d5b7b978>, 'length': 1364.572125117503, 'id': 1.0, 'rail_type': 'rail'}\n",
      "{'geom': <shapely.geometry.linestring.LineString object at 0x7f73d5b7b978>, 'length': 1364.572125117503, 'id': 1.0, 'rail_type': 'rail'}\n",
      "{'geom': <shapely.geometry.linestring.LineString object at 0x7f73d5b768d0>, 'length': 603.4517211186023, 'id': 1.0, 'rail_type': 'rail'}\n",
      "{'geom': <shapely.geometry.linestring.LineString object at 0x7f73d5b768d0>, 'length': 603.4517211186023, 'id': 1.0, 'rail_type': 'rail'}\n",
      "{'geom': <shapely.geometry.linestring.LineString object at 0x7f73b9c1dda0>, 'length': 1061.3662331450319, 'id': 1.0, 'rail_type': 'rail'}\n",
      "{'geom': <shapely.geometry.linestring.LineString object at 0x7f73b9c1dda0>, 'length': 1061.3662331450319, 'id': 1.0, 'rail_type': 'rail'}\n",
      "{'geom': <shapely.geometry.linestring.LineString object at 0x7f73eaaed908>, 'length': 1718.7091892110473, 'id': 1.0, 'rail_type': 'rail'}\n",
      "{'geom': <shapely.geometry.linestring.LineString object at 0x7f73eaaed908>, 'length': 1718.7091892110473, 'id': 1.0, 'rail_type': 'rail'}\n",
      "{'geom': <shapely.geometry.linestring.LineString object at 0x7f73eaaedda0>, 'length': 355.7915669571972, 'id': 8.0, 'rail_type': 'rail'}\n"
     ]
    }
   ],
   "source": [
    "# you can see that the attributes have been added to the graph\n",
    "for edge in G_rail.edges(data=True):\n",
    "    print(edge[2])"
   ]
  },
  {
   "cell_type": "markdown",
   "metadata": {},
   "source": [
    "## visualize network"
   ]
  },
  {
   "cell_type": "code",
   "execution_count": 718,
   "metadata": {},
   "outputs": [
    {
     "name": "stderr",
     "output_type": "stream",
     "text": [
      "/home/vagrant/.conda/envs/GOST_PublicGoods5/lib/python3.7/site-packages/networkx/drawing/nx_pylab.py:579: MatplotlibDeprecationWarning: \n",
      "The iterable function was deprecated in Matplotlib 3.1 and will be removed in 3.3. Use np.iterable instead.\n",
      "  if not cb.iterable(width):\n",
      "/home/vagrant/.conda/envs/GOST_PublicGoods5/lib/python3.7/site-packages/networkx/drawing/nx_pylab.py:676: MatplotlibDeprecationWarning: \n",
      "The iterable function was deprecated in Matplotlib 3.1 and will be removed in 3.3. Use np.iterable instead.\n",
      "  if cb.iterable(node_size):  # many node sizes\n"
     ]
    },
    {
     "data": {
      "image/png": "[encoded data removed]",
      "text/plain": [
       "<Figure size 432x288 with 1 Axes>"
      ]
     },
     "metadata": {},
     "output_type": "display_data"
    }
   ],
   "source": [
    "nx.draw(G_rail)"
   ]
  },
  {
   "cell_type": "markdown",
   "metadata": {},
   "source": [
    "### Tests for the validity of the rail graph"
   ]
  },
  {
   "cell_type": "code",
   "execution_count": 719,
   "metadata": {
    "scrolled": false
   },
   "outputs": [],
   "source": [
    "# this is a test to export a shapefile for testing\n",
    "list_of_Gs = list((nx.strongly_connected_component_subgraphs(G_rail)))\n",
    "sz = 0\n",
    "largest_G = list_of_Gs[0]\n",
    "count = 0\n",
    "for g in list_of_Gs:\n",
    "    curSize = g.size()\n",
    "    #print(curSize)\n",
    "    if curSize > sz:\n",
    "        largest_G = g\n",
    "        sz = curSize \n",
    "    g_gdf = gn.edge_gdf_from_graph(g,crs = {'init' :'epsg:32643'})\n",
    "    # for some reason has both a geom and geometry column\n",
    "    g_gdf = g_gdf.drop(columns=['geom'])\n",
    "    # print(g_gdf)\n",
    "    g_gdf.to_file(driver = 'ESRI Shapefile', filename = outputFolder + '/g_rail_gdf_test_%d.shp' % count)\n",
    "    count += 1\n",
    "    #print(count)\n",
    "# G_rail_largest = largest_G\n",
    "# print(G_rail_largest)"
   ]
  },
  {
   "cell_type": "code",
   "execution_count": 720,
   "metadata": {},
   "outputs": [
    {
     "name": "stdout",
     "output_type": "stream",
     "text": [
      "(0, {'x': 272122.66290875676, 'y': 2095693.7796779373, 'geom': <shapely.geometry.point.Point object at 0x7f73d2c54160>})\n",
      "(1, {'x': 272366.8491270583, 'y': 2097048.8173944994, 'geom': <shapely.geometry.point.Point object at 0x7f73e7aeb908>})\n",
      "(3, {'x': 272508.91797400825, 'y': 2097844.399354812, 'geom': <shapely.geometry.point.Point object at 0x7f73dc784978>})\n"
     ]
    }
   ],
   "source": [
    "gn.example_node(G_rail, 3)"
   ]
  },
  {
   "cell_type": "markdown",
   "metadata": {},
   "source": [
    "### Need to convert the rail graph node coordinates from UTM to WGS84. Note that the road graph node coordinates are already in WGS84."
   ]
  },
  {
   "cell_type": "code",
   "execution_count": 721,
   "metadata": {},
   "outputs": [
    {
     "data": {
      "text/plain": [
       "<module 'GOSTnet' from '../../GOSTNets/GOSTNets/GOSTnet.py'>"
      ]
     },
     "execution_count": 721,
     "metadata": {},
     "output_type": "execute_result"
    }
   ],
   "source": [
    "import importlib\n",
    "importlib.reload(gn)"
   ]
  },
  {
   "cell_type": "code",
   "execution_count": 722,
   "metadata": {},
   "outputs": [
    {
     "name": "stdout",
     "output_type": "stream",
     "text": [
      "POINT (72.8305819 18.996213)\n"
     ]
    }
   ],
   "source": [
    "from shapely.geometry import Point\n",
    "sample_point = Point(271620.51371866115,2101816.267494734)\n",
    "\n",
    "from shapely.ops import transform\n",
    "from functools import partial\n",
    "import pyproj\n",
    "\n",
    "project_WGS_UTM = partial(\n",
    "                pyproj.transform,\n",
    "                pyproj.Proj(init='epsg:32643'),\n",
    "                pyproj.Proj(init='epsg:4326'))\n",
    "\n",
    "print(transform(project_WGS_UTM,sample_point))"
   ]
  },
  {
   "cell_type": "code",
   "execution_count": 723,
   "metadata": {},
   "outputs": [],
   "source": [
    "G_rail = gn.reproject_graph(G_rail, 'epsg:32643', 'epsg:4326')"
   ]
  },
  {
   "cell_type": "code",
   "execution_count": 724,
   "metadata": {},
   "outputs": [
    {
     "name": "stdout",
     "output_type": "stream",
     "text": [
      "(0, {'x': 72.8360633305759, 'y': 18.940975234799453, 'geom': <shapely.geometry.point.Point object at 0x7f73d5ec36a0>})\n",
      "(1, {'x': 72.83822328429102, 'y': 18.953239981677324, 'geom': <shapely.geometry.point.Point object at 0x7f73d5ec3d68>})\n",
      "(3, {'x': 72.83947921893387, 'y': 18.960440822411588, 'geom': <shapely.geometry.point.Point object at 0x7f73d5ec3e80>})\n",
      "(4, {'x': 72.8435321130054, 'y': 19.01751641049149, 'geom': <shapely.geometry.point.Point object at 0x7f73d5ec3278>})\n"
     ]
    }
   ],
   "source": [
    "gn.example_node(G_rail, 4)"
   ]
  },
  {
   "cell_type": "code",
   "execution_count": 725,
   "metadata": {},
   "outputs": [
    {
     "name": "stdout",
     "output_type": "stream",
     "text": [
      "(0, 1, {'geom': <shapely.geometry.linestring.LineString object at 0x7f73e7aebef0>, 'length': 1388.5881250271614, 'id': 6.0, 'rail_type': 'rail'})\n",
      "(1, 0, {'geom': <shapely.geometry.linestring.LineString object at 0x7f73e7aebef0>, 'length': 1388.5881250271614, 'id': 6.0, 'rail_type': 'rail'})\n",
      "(1, 3, {'geom': <shapely.geometry.linestring.LineString object at 0x7f73e7aeb978>, 'length': 813.9703934797581, 'id': 11.0, 'rail_type': 'rail'})\n",
      "(3, 1, {'geom': <shapely.geometry.linestring.LineString object at 0x7f73e7aeb978>, 'length': 813.9703934797581, 'id': 11.0, 'rail_type': 'rail'})\n"
     ]
    }
   ],
   "source": [
    "gn.example_edge(G_rail, 4)"
   ]
  },
  {
   "cell_type": "markdown",
   "metadata": {},
   "source": [
    "## Set the rail speed and station wait time, and speeds for walking"
   ]
  },
  {
   "cell_type": "code",
   "execution_count": 726,
   "metadata": {},
   "outputs": [],
   "source": [
    "# Required parameters in processing rail network\n",
    "metroSpeed = 35 #kph\n",
    "railSpeed = 40 #kph\n",
    "station_wait = 30 #seconds\n",
    "walk_speed = 5 #kph"
   ]
  },
  {
   "cell_type": "code",
   "execution_count": 727,
   "metadata": {},
   "outputs": [],
   "source": [
    "# Convert Rail network length to time\n",
    "for u, v, data in G_rail.edges(data=True):\n",
    "    data['mode'] = 'rail'\n",
    "    data['time'] = 999999999 # driving time\n",
    "    data['walk_time'] = 999999999 # walking time\n",
    "    if data['rail_type'] == \"metro\":\n",
    "        #print(data['rail_type'])\n",
    "        data['rail_time'] = ((data['length']/1000 / metroSpeed) * 60 * 60) + station_wait\n",
    "        # the best time on the rail edges will be the rail times\n",
    "        data['road_and_rail_time'] = data['rail_time']\n",
    "    else:\n",
    "        #print(data['rail_type'])\n",
    "        data['rail_time'] = ((data['length']/1000 / railSpeed) * 60 * 60) + station_wait\n",
    "        # the best time on the rail edges will be the rail times\n",
    "        data['road_and_rail_time'] = data['rail_time']"
   ]
  },
  {
   "cell_type": "code",
   "execution_count": 728,
   "metadata": {},
   "outputs": [
    {
     "name": "stdout",
     "output_type": "stream",
     "text": [
      "{'peak_speed': <networkx.classes.multidigraph.MultiDiGraph object at 0x7f73e33c7710>, 'avg_speed': <networkx.classes.multidigraph.MultiDiGraph object at 0x7f73ebec0438>, 'off_peak_speed': <networkx.classes.multidigraph.MultiDiGraph object at 0x7f73d80b09b0>}\n"
     ]
    }
   ],
   "source": [
    "# print road_graph\n",
    "print(road_graph)"
   ]
  },
  {
   "cell_type": "code",
   "execution_count": 729,
   "metadata": {},
   "outputs": [],
   "source": [
    "for key in road_graph:\n",
    "    # Convert Road network length to time\n",
    "    for u, v, data in road_graph[key].edges(data=True):\n",
    "        data['mode'] = 'road'\n",
    "        #Set the rail_time to walking time for the road network\n",
    "        data['rail_time'] = ((data['length']/1000 / walk_speed) * 60 * 60)\n",
    "        # the best time on the road edges will be the road times\n",
    "        data['road_and_rail_time'] = data['time']\n",
    "        data['walk_time'] = ((data['length']/1000 / walk_speed) * 60 * 60)"
   ]
  },
  {
   "cell_type": "code",
   "execution_count": 730,
   "metadata": {},
   "outputs": [
    {
     "name": "stdout",
     "output_type": "stream",
     "text": [
      "(2248802304, 2248802330, {'osmid': 215438684, 'highway': 'residential', 'oneway': False, 'length': 66.863, 'time': 13.284130902155802, 'mode': 'road', 'rail_time': 48.141360000000006, 'road_and_rail_time': 13.284130902155802, 'walk_time': 48.141360000000006})\n",
      "(2248802313, 2248802342, {'osmid': 215438630, 'highway': 'residential', 'oneway': False, 'length': 101.67399999999999, 'geometry': <shapely.geometry.linestring.LineString object at 0x7f73a6c6bc18>, 'time': 20.20027108185078, 'mode': 'road', 'rail_time': 73.20527999999999, 'road_and_rail_time': 20.20027108185078, 'walk_time': 73.20527999999999})\n",
      "(6136332304, 4292746859, {'osmid': 289412579, 'oneway': True, 'highway': 'primary', 'length': 278.65, 'geometry': <shapely.geometry.linestring.LineString object at 0x7f73a6c6bc88>, 'time': 27.68065354445443, 'mode': 'road', 'rail_time': 200.62799999999996, 'road_and_rail_time': 27.68065354445443, 'walk_time': 200.62799999999996})\n",
      "(1351352338, 1351352355, {'osmid': 120529599, 'highway': 'residential', 'oneway': False, 'length': 78.079, 'time': 15.512490565924693, 'mode': 'road', 'rail_time': 56.216879999999996, 'road_and_rail_time': 15.512490565924693, 'walk_time': 56.216879999999996})\n"
     ]
    }
   ],
   "source": [
    "gn.example_edge(road_graph['off_peak_speed'], 4)"
   ]
  },
  {
   "cell_type": "code",
   "execution_count": 731,
   "metadata": {},
   "outputs": [
    {
     "name": "stdout",
     "output_type": "stream",
     "text": [
      "(2248802304, 2248802330, {'osmid': 215438684, 'highway': 'residential', 'oneway': False, 'length': 66.863, 'time': 17.712174536207737, 'mode': 'road', 'rail_time': 48.141360000000006, 'road_and_rail_time': 17.712174536207737, 'walk_time': 48.141360000000006})\n",
      "(2248802313, 2248802342, {'osmid': 215438630, 'highway': 'residential', 'oneway': False, 'length': 101.67399999999999, 'geometry': <shapely.geometry.linestring.LineString object at 0x7f73e3b95080>, 'time': 26.93369477580104, 'mode': 'road', 'rail_time': 73.20527999999999, 'road_and_rail_time': 26.93369477580104, 'walk_time': 73.20527999999999})\n",
      "(6136332304, 4292746859, {'osmid': 289412579, 'oneway': True, 'highway': 'primary', 'length': 278.65, 'geometry': <shapely.geometry.linestring.LineString object at 0x7f73e3b952b0>, 'time': 36.90753805927257, 'mode': 'road', 'rail_time': 200.62799999999996, 'road_and_rail_time': 36.90753805927257, 'walk_time': 200.62799999999996})\n",
      "(1351352338, 1351352355, {'osmid': 120529599, 'highway': 'residential', 'oneway': False, 'length': 78.079, 'time': 20.683320754566253, 'mode': 'road', 'rail_time': 56.216879999999996, 'road_and_rail_time': 20.683320754566253, 'walk_time': 56.216879999999996})\n"
     ]
    }
   ],
   "source": [
    "gn.example_edge(road_graph['peak_speed'], 4)"
   ]
  },
  {
   "cell_type": "markdown",
   "metadata": {},
   "source": [
    "# merge the rail and road networks together"
   ]
  },
  {
   "cell_type": "code",
   "execution_count": 732,
   "metadata": {},
   "outputs": [
    {
     "name": "stderr",
     "output_type": "stream",
     "text": [
      "../../GOSTNets/GOSTNets/GOSTnet.py:1716: FutureWarning: Method .as_matrix will be removed in a future version. Use .values instead.\n",
      "  G_tree = spatial.KDTree(node_gdf[['x','y']].as_matrix())\n",
      "../../GOSTNets/GOSTNets/GOSTnet.py:1718: FutureWarning: Method .as_matrix will be removed in a future version. Use .values instead.\n",
      "  distances, indices = G_tree.query(in_df[['x','y']].as_matrix())\n"
     ]
    }
   ],
   "source": [
    "# If one outComboGraph doesn't exist than they all should not exist\n",
    "if not os.path.exists(os.path.join(outputFolder, \"avg_speed_outComboGraph.pickle\")):\n",
    "    # Bind the graphs together\n",
    "    # There was problem with this originally. It seems like the GOSTNets function needs the input graphs to be in 4326\n",
    "    # but G_rail was in UTM\n",
    "\n",
    "    # join_networks will join the networks where the rail nodes (which are the stations) meet the road network nodes \n",
    "    # within the threshold\n",
    "\n",
    "    g_combo_graph = {}\n",
    "\n",
    "    for key in road_graph:\n",
    "        g_combo_graph[key] = gn.join_networks(G_rail, road_graph[key], measure_crs=32643, thresh=300)\n",
    "        nx.write_gpickle(g_combo_graph[key], os.path.join(outputFolder, \"%s_outComboGraph.pickle\" % key))\n"
   ]
  },
  {
   "cell_type": "markdown",
   "metadata": {},
   "source": [
    "#### Inspect the output of the combo graph"
   ]
  },
  {
   "cell_type": "code",
   "execution_count": 733,
   "metadata": {},
   "outputs": [],
   "source": [
    "# inspect G_combo\n",
    "# g_combo_gdf = gn.edge_gdf_from_graph(g_combo_graph['avg_speed'],crs = {'init' :'epsg:4326'})\n",
    "# for some reason has both a geom and geometry column\n",
    "# g_combo_gdf = g_combo_gdf.drop(columns=['geom','osmid','junction', 'ref','lanes', 'bridge',\n",
    "#       'maxspeed', 'width', 'access','Wkt', 'infra_type','time', 'road_and_rail_time', 'rail_time',\n",
    "#       'highway', 'oneway', 'service', 'length', 'name', 'mode', 'tunnel'])\n",
    "# print(g_combo_gdf.keys())\n",
    "# print(g_combo_gdf)\n",
    "# g_combo_gdf.to_file(driver = 'ESRI Shapefile', filename = outputFolder + '/inspect_g_combo.shp' )"
   ]
  },
  {
   "cell_type": "markdown",
   "metadata": {},
   "source": [
    "## Run analysis 1 - Distance from each individual to work\n",
    "### The first step is generating households and adding a field of the nearest node on the graph from each household. A similiar step is done for destinations. Also, just for households a field is added that has the walking time from the household location to its nearest node. \n",
    "### The comboData dataframe merges the households and destinations together based on the PIN code.\n",
    "### The nearest node ids should be the same on all the different graphs, so this just has to be done once."
   ]
  },
  {
   "cell_type": "code",
   "execution_count": 734,
   "metadata": {},
   "outputs": [
    {
     "name": "stdout",
     "output_type": "stream",
     "text": [
      "3020\n"
     ]
    }
   ],
   "source": [
    "inH = pd.read_csv(inHouseholds)\n",
    "inH[:5]\n",
    "print(len(inH))"
   ]
  },
  {
   "cell_type": "code",
   "execution_count": 735,
   "metadata": {},
   "outputs": [
    {
     "data": {
      "text/plain": [
       "Index(['unique_respondent', 'gps_latitude_home', 'gps_longitude_home',\n",
       "       'work_pin_code'],\n",
       "      dtype='object')"
      ]
     },
     "execution_count": 735,
     "metadata": {},
     "output_type": "execute_result"
    }
   ],
   "source": [
    "inH.keys()"
   ]
  },
  {
   "cell_type": "code",
   "execution_count": 736,
   "metadata": {},
   "outputs": [],
   "source": [
    "# Group the data frame by id and item\n",
    "hh = pd.DataFrame(inH.groupby(\n",
    "   ['unique_respondent']\n",
    ").agg(\n",
    "    {\n",
    "         'gps_latitude_home':\"mean\",    # Sum duration per group\n",
    "         'gps_longitude_home': \"mean\",\n",
    "         'work_pin_code': \"first\"\n",
    "    }\n",
    "))"
   ]
  },
  {
   "cell_type": "code",
   "execution_count": 737,
   "metadata": {},
   "outputs": [
    {
     "data": {
      "text/html": [
       "<div>\n",
       "<style scoped>\n",
       "    .dataframe tbody tr th:only-of-type {\n",
       "        vertical-align: middle;\n",
       "    }\n",
       "\n",
       "    .dataframe tbody tr th {\n",
       "        vertical-align: top;\n",
       "    }\n",
       "\n",
       "    .dataframe thead th {\n",
       "        text-align: right;\n",
       "    }\n",
       "</style>\n",
       "<table border=\"1\" class=\"dataframe\">\n",
       "  <thead>\n",
       "    <tr style=\"text-align: right;\">\n",
       "      <th></th>\n",
       "      <th>gps_latitude_home</th>\n",
       "      <th>gps_longitude_home</th>\n",
       "      <th>work_pin_code</th>\n",
       "    </tr>\n",
       "    <tr>\n",
       "      <th>unique_respondent</th>\n",
       "      <th></th>\n",
       "      <th></th>\n",
       "      <th></th>\n",
       "    </tr>\n",
       "  </thead>\n",
       "  <tbody>\n",
       "    <tr>\n",
       "      <td>1011</td>\n",
       "      <td>18.909705</td>\n",
       "      <td>72.813837</td>\n",
       "      <td>400005</td>\n",
       "    </tr>\n",
       "    <tr>\n",
       "      <td>1021</td>\n",
       "      <td>18.909766</td>\n",
       "      <td>72.813820</td>\n",
       "      <td>400064</td>\n",
       "    </tr>\n",
       "    <tr>\n",
       "      <td>1031</td>\n",
       "      <td>18.909751</td>\n",
       "      <td>72.813732</td>\n",
       "      <td>400005</td>\n",
       "    </tr>\n",
       "  </tbody>\n",
       "</table>\n",
       "</div>"
      ],
      "text/plain": [
       "                   gps_latitude_home  gps_longitude_home  work_pin_code\n",
       "unique_respondent                                                      \n",
       "1011                       18.909705           72.813837         400005\n",
       "1021                       18.909766           72.813820         400064\n",
       "1031                       18.909751           72.813732         400005"
      ]
     },
     "execution_count": 737,
     "metadata": {},
     "output_type": "execute_result"
    }
   ],
   "source": [
    "hh[:3]"
   ]
  },
  {
   "cell_type": "markdown",
   "metadata": {},
   "source": [
    "### create a geodataframe of the households and snap to the combo graph"
   ]
  },
  {
   "cell_type": "code",
   "execution_count": 738,
   "metadata": {},
   "outputs": [],
   "source": [
    "hh['geometry'] = hh.apply(lambda x: Point(x['gps_longitude_home'], x['gps_latitude_home']), axis=1)\n",
    "hh = gpd.GeoDataFrame(hh, geometry=\"geometry\")\n",
    "hh.crs = {'init': 'epsg:4326'}\n",
    "hh = hh.reset_index()\n",
    "hh = hh[[x.is_valid for x in hh['geometry']]]"
   ]
  },
  {
   "cell_type": "code",
   "execution_count": 739,
   "metadata": {},
   "outputs": [
    {
     "name": "stdout",
     "output_type": "stream",
     "text": [
      "951.7461888790131\n"
     ]
    }
   ],
   "source": [
    "# look into warning below\n",
    "# snapping each individual location to the combo graph\n",
    "# add walking time to get from household to nearest point in graph, by default 'add_dist_to_node_col = True'\n",
    "# the source_crs should be the same proj as both the input graph and input geodataframe of points\n",
    "#hh_nn = gn.pandana_snap(G_combo, hh)\n",
    "import time\n",
    "start = time.time()\n",
    "#hh_nn = gn.pandana_snap(G_combo, hh, target_crs = 'epsg:32643')\n",
    "hh_nn = gn.pandana_snap(g_combo_graph['avg_speed'], hh, target_crs = 'epsg:32643')\n",
    "end = time.time()\n",
    "print(end - start)"
   ]
  },
  {
   "cell_type": "code",
   "execution_count": 740,
   "metadata": {},
   "outputs": [
    {
     "data": {
      "text/html": [
       "<div>\n",
       "<style scoped>\n",
       "    .dataframe tbody tr th:only-of-type {\n",
       "        vertical-align: middle;\n",
       "    }\n",
       "\n",
       "    .dataframe tbody tr th {\n",
       "        vertical-align: top;\n",
       "    }\n",
       "\n",
       "    .dataframe thead th {\n",
       "        text-align: right;\n",
       "    }\n",
       "</style>\n",
       "<table border=\"1\" class=\"dataframe\">\n",
       "  <thead>\n",
       "    <tr style=\"text-align: right;\">\n",
       "      <th></th>\n",
       "      <th>unique_respondent</th>\n",
       "      <th>gps_latitude_home</th>\n",
       "      <th>gps_longitude_home</th>\n",
       "      <th>work_pin_code</th>\n",
       "      <th>geometry</th>\n",
       "      <th>NN</th>\n",
       "      <th>NN_dist</th>\n",
       "    </tr>\n",
       "  </thead>\n",
       "  <tbody>\n",
       "    <tr>\n",
       "      <td>0</td>\n",
       "      <td>1011</td>\n",
       "      <td>18.909705</td>\n",
       "      <td>72.813837</td>\n",
       "      <td>400005</td>\n",
       "      <td>POINT (72.81384 18.90970)</td>\n",
       "      <td>25884</td>\n",
       "      <td>82.066957</td>\n",
       "    </tr>\n",
       "    <tr>\n",
       "      <td>1</td>\n",
       "      <td>1021</td>\n",
       "      <td>18.909766</td>\n",
       "      <td>72.813820</td>\n",
       "      <td>400064</td>\n",
       "      <td>POINT (72.81382 18.90977)</td>\n",
       "      <td>25884</td>\n",
       "      <td>78.841736</td>\n",
       "    </tr>\n",
       "    <tr>\n",
       "      <td>2</td>\n",
       "      <td>1031</td>\n",
       "      <td>18.909751</td>\n",
       "      <td>72.813732</td>\n",
       "      <td>400005</td>\n",
       "      <td>POINT (72.81373 18.90975)</td>\n",
       "      <td>25884</td>\n",
       "      <td>87.130632</td>\n",
       "    </tr>\n",
       "  </tbody>\n",
       "</table>\n",
       "</div>"
      ],
      "text/plain": [
       "   unique_respondent  gps_latitude_home  gps_longitude_home  work_pin_code  \\\n",
       "0               1011          18.909705           72.813837         400005   \n",
       "1               1021          18.909766           72.813820         400064   \n",
       "2               1031          18.909751           72.813732         400005   \n",
       "\n",
       "                    geometry     NN    NN_dist  \n",
       "0  POINT (72.81384 18.90970)  25884  82.066957  \n",
       "1  POINT (72.81382 18.90977)  25884  78.841736  \n",
       "2  POINT (72.81373 18.90975)  25884  87.130632  "
      ]
     },
     "execution_count": 740,
     "metadata": {},
     "output_type": "execute_result"
    }
   ],
   "source": [
    "hh_nn[:3]"
   ]
  },
  {
   "cell_type": "code",
   "execution_count": 741,
   "metadata": {},
   "outputs": [],
   "source": [
    "hh_nn = hh_nn[['unique_respondent', 'work_pin_code', 'NN_dist', 'NN', 'gps_latitude_home', 'gps_longitude_home']]\n",
    "hh_nn.columns = ['unique_respondent', 'PIN', 'walk_dist_to_nn', 'hhNN', 'hhlat', 'hhlon']"
   ]
  },
  {
   "cell_type": "markdown",
   "metadata": {},
   "source": [
    "### add walking speed to the nearest node"
   ]
  },
  {
   "cell_type": "code",
   "execution_count": 742,
   "metadata": {},
   "outputs": [],
   "source": [
    "walk_speed = 5 #kph\n",
    "# generating walk time in seconds\n",
    "hh_nn['walk_time_to_nn'] = hh_nn['walk_dist_to_nn'] / 1000 / walk_speed * 3600"
   ]
  },
  {
   "cell_type": "code",
   "execution_count": 743,
   "metadata": {},
   "outputs": [
    {
     "data": {
      "text/html": [
       "<div>\n",
       "<style scoped>\n",
       "    .dataframe tbody tr th:only-of-type {\n",
       "        vertical-align: middle;\n",
       "    }\n",
       "\n",
       "    .dataframe tbody tr th {\n",
       "        vertical-align: top;\n",
       "    }\n",
       "\n",
       "    .dataframe thead th {\n",
       "        text-align: right;\n",
       "    }\n",
       "</style>\n",
       "<table border=\"1\" class=\"dataframe\">\n",
       "  <thead>\n",
       "    <tr style=\"text-align: right;\">\n",
       "      <th></th>\n",
       "      <th>unique_respondent</th>\n",
       "      <th>PIN</th>\n",
       "      <th>walk_dist_to_nn</th>\n",
       "      <th>hhNN</th>\n",
       "      <th>hhlat</th>\n",
       "      <th>hhlon</th>\n",
       "      <th>walk_time_to_nn</th>\n",
       "    </tr>\n",
       "  </thead>\n",
       "  <tbody>\n",
       "    <tr>\n",
       "      <td>0</td>\n",
       "      <td>1011</td>\n",
       "      <td>400005</td>\n",
       "      <td>82.066957</td>\n",
       "      <td>25884</td>\n",
       "      <td>18.909705</td>\n",
       "      <td>72.813837</td>\n",
       "      <td>59.088209</td>\n",
       "    </tr>\n",
       "    <tr>\n",
       "      <td>1</td>\n",
       "      <td>1021</td>\n",
       "      <td>400064</td>\n",
       "      <td>78.841736</td>\n",
       "      <td>25884</td>\n",
       "      <td>18.909766</td>\n",
       "      <td>72.813820</td>\n",
       "      <td>56.766050</td>\n",
       "    </tr>\n",
       "    <tr>\n",
       "      <td>2</td>\n",
       "      <td>1031</td>\n",
       "      <td>400005</td>\n",
       "      <td>87.130632</td>\n",
       "      <td>25884</td>\n",
       "      <td>18.909751</td>\n",
       "      <td>72.813732</td>\n",
       "      <td>62.734055</td>\n",
       "    </tr>\n",
       "  </tbody>\n",
       "</table>\n",
       "</div>"
      ],
      "text/plain": [
       "   unique_respondent     PIN  walk_dist_to_nn   hhNN      hhlat      hhlon  \\\n",
       "0               1011  400005        82.066957  25884  18.909705  72.813837   \n",
       "1               1021  400064        78.841736  25884  18.909766  72.813820   \n",
       "2               1031  400005        87.130632  25884  18.909751  72.813732   \n",
       "\n",
       "   walk_time_to_nn  \n",
       "0        59.088209  \n",
       "1        56.766050  \n",
       "2        62.734055  "
      ]
     },
     "execution_count": 743,
     "metadata": {},
     "output_type": "execute_result"
    }
   ],
   "source": [
    "hh_nn[:3]"
   ]
  },
  {
   "cell_type": "code",
   "execution_count": 744,
   "metadata": {},
   "outputs": [
    {
     "data": {
      "text/html": [
       "<div>\n",
       "<style scoped>\n",
       "    .dataframe tbody tr th:only-of-type {\n",
       "        vertical-align: middle;\n",
       "    }\n",
       "\n",
       "    .dataframe tbody tr th {\n",
       "        vertical-align: top;\n",
       "    }\n",
       "\n",
       "    .dataframe thead th {\n",
       "        text-align: right;\n",
       "    }\n",
       "</style>\n",
       "<table border=\"1\" class=\"dataframe\">\n",
       "  <thead>\n",
       "    <tr style=\"text-align: right;\">\n",
       "      <th></th>\n",
       "      <th>NAME_2</th>\n",
       "      <th>PIN</th>\n",
       "      <th>geometry</th>\n",
       "      <th>NN</th>\n",
       "      <th>NN_dist</th>\n",
       "    </tr>\n",
       "  </thead>\n",
       "  <tbody>\n",
       "    <tr>\n",
       "      <td>0</td>\n",
       "      <td>Greater Bombay</td>\n",
       "      <td>0</td>\n",
       "      <td>POINT (72.96943 19.17987)</td>\n",
       "      <td>6902</td>\n",
       "      <td>0.008514</td>\n",
       "    </tr>\n",
       "    <tr>\n",
       "      <td>1</td>\n",
       "      <td>Greater Bombay</td>\n",
       "      <td>400005</td>\n",
       "      <td>POINT (72.81558 18.90787)</td>\n",
       "      <td>14368</td>\n",
       "      <td>0.000408</td>\n",
       "    </tr>\n",
       "    <tr>\n",
       "      <td>2</td>\n",
       "      <td>Greater Bombay</td>\n",
       "      <td>400021</td>\n",
       "      <td>POINT (72.82372 18.92449)</td>\n",
       "      <td>15006</td>\n",
       "      <td>0.000338</td>\n",
       "    </tr>\n",
       "  </tbody>\n",
       "</table>\n",
       "</div>"
      ],
      "text/plain": [
       "           NAME_2     PIN                   geometry     NN   NN_dist\n",
       "0  Greater Bombay       0  POINT (72.96943 19.17987)   6902  0.008514\n",
       "1  Greater Bombay  400005  POINT (72.81558 18.90787)  14368  0.000408\n",
       "2  Greater Bombay  400021  POINT (72.82372 18.92449)  15006  0.000338"
      ]
     },
     "execution_count": 744,
     "metadata": {},
     "output_type": "execute_result"
    }
   ],
   "source": [
    "# Get nodes for the input admin\n",
    "# snapping the employment by PIN centroids to the combo graph\n",
    "det_nn = gn.pandana_snap(g_combo_graph['avg_speed'], pin_codes_w_centroids)\n",
    "det_nn[:3]\n",
    "# for the destination nodes the nearest node distance will be disregarded, because the destinations are centroids \n",
    "# and inherently not precise, adding a walking time to the centroid will not add any value to the analysis"
   ]
  },
  {
   "cell_type": "code",
   "execution_count": 745,
   "metadata": {},
   "outputs": [
    {
     "name": "stdout",
     "output_type": "stream",
     "text": [
      "det_nn count\n",
      "107\n"
     ]
    }
   ],
   "source": [
    "det_nn = det_nn[['PIN', 'NN', 'geometry']]\n",
    "det_nn_gpd = gpd.GeoDataFrame(det_nn, geometry = 'geometry')\n",
    "det_nn_gpd['detlat'] = det_nn_gpd['geometry'].y\n",
    "det_nn_gpd['detlon'] = det_nn_gpd['geometry'].x\n",
    "det_nn_gpd.columns = ['PIN', \"detNN\", \"geometry\", \"detlat\", \"detlon\"]\n",
    "\n",
    "print('det_nn count')\n",
    "print(len(det_nn_gpd.index))"
   ]
  },
  {
   "cell_type": "code",
   "execution_count": 746,
   "metadata": {},
   "outputs": [
    {
     "data": {
      "text/html": [
       "<div>\n",
       "<style scoped>\n",
       "    .dataframe tbody tr th:only-of-type {\n",
       "        vertical-align: middle;\n",
       "    }\n",
       "\n",
       "    .dataframe tbody tr th {\n",
       "        vertical-align: top;\n",
       "    }\n",
       "\n",
       "    .dataframe thead th {\n",
       "        text-align: right;\n",
       "    }\n",
       "</style>\n",
       "<table border=\"1\" class=\"dataframe\">\n",
       "  <thead>\n",
       "    <tr style=\"text-align: right;\">\n",
       "      <th></th>\n",
       "      <th>PIN</th>\n",
       "      <th>detNN</th>\n",
       "      <th>geometry</th>\n",
       "      <th>detlat</th>\n",
       "      <th>detlon</th>\n",
       "    </tr>\n",
       "  </thead>\n",
       "  <tbody>\n",
       "    <tr>\n",
       "      <td>0</td>\n",
       "      <td>0</td>\n",
       "      <td>6902</td>\n",
       "      <td>POINT (72.96943 19.17987)</td>\n",
       "      <td>19.179871</td>\n",
       "      <td>72.969433</td>\n",
       "    </tr>\n",
       "    <tr>\n",
       "      <td>1</td>\n",
       "      <td>400005</td>\n",
       "      <td>14368</td>\n",
       "      <td>POINT (72.81558 18.90787)</td>\n",
       "      <td>18.907868</td>\n",
       "      <td>72.815583</td>\n",
       "    </tr>\n",
       "    <tr>\n",
       "      <td>2</td>\n",
       "      <td>400021</td>\n",
       "      <td>15006</td>\n",
       "      <td>POINT (72.82372 18.92449)</td>\n",
       "      <td>18.924488</td>\n",
       "      <td>72.823716</td>\n",
       "    </tr>\n",
       "    <tr>\n",
       "      <td>3</td>\n",
       "      <td>400039</td>\n",
       "      <td>11626</td>\n",
       "      <td>POINT (72.82977 18.92445)</td>\n",
       "      <td>18.924448</td>\n",
       "      <td>72.829771</td>\n",
       "    </tr>\n",
       "  </tbody>\n",
       "</table>\n",
       "</div>"
      ],
      "text/plain": [
       "      PIN  detNN                   geometry     detlat     detlon\n",
       "0       0   6902  POINT (72.96943 19.17987)  19.179871  72.969433\n",
       "1  400005  14368  POINT (72.81558 18.90787)  18.907868  72.815583\n",
       "2  400021  15006  POINT (72.82372 18.92449)  18.924488  72.823716\n",
       "3  400039  11626  POINT (72.82977 18.92445)  18.924448  72.829771"
      ]
     },
     "execution_count": 746,
     "metadata": {},
     "output_type": "execute_result"
    }
   ],
   "source": [
    "det_nn_gpd[:4]"
   ]
  },
  {
   "cell_type": "code",
   "execution_count": 747,
   "metadata": {},
   "outputs": [
    {
     "data": {
      "text/plain": [
       "Index(['PIN', 'detNN', 'geometry', 'detlat', 'detlon'], dtype='object')"
      ]
     },
     "execution_count": 747,
     "metadata": {},
     "output_type": "execute_result"
    }
   ],
   "source": [
    "det_nn_gpd.keys()"
   ]
  },
  {
   "cell_type": "code",
   "execution_count": 748,
   "metadata": {},
   "outputs": [],
   "source": [
    "# to make sure PIN is unique, get rid of '0' rows.\n",
    "det_nn_gpd = det_nn[det_nn['PIN'] != 0]"
   ]
  },
  {
   "cell_type": "code",
   "execution_count": 749,
   "metadata": {},
   "outputs": [
    {
     "data": {
      "text/html": [
       "<div>\n",
       "<style scoped>\n",
       "    .dataframe tbody tr th:only-of-type {\n",
       "        vertical-align: middle;\n",
       "    }\n",
       "\n",
       "    .dataframe tbody tr th {\n",
       "        vertical-align: top;\n",
       "    }\n",
       "\n",
       "    .dataframe thead th {\n",
       "        text-align: right;\n",
       "    }\n",
       "</style>\n",
       "<table border=\"1\" class=\"dataframe\">\n",
       "  <thead>\n",
       "    <tr style=\"text-align: right;\">\n",
       "      <th></th>\n",
       "      <th>PIN</th>\n",
       "      <th>detNN</th>\n",
       "      <th>geometry</th>\n",
       "      <th>detlat</th>\n",
       "      <th>detlon</th>\n",
       "    </tr>\n",
       "  </thead>\n",
       "  <tbody>\n",
       "    <tr>\n",
       "      <td>1</td>\n",
       "      <td>400005</td>\n",
       "      <td>14368</td>\n",
       "      <td>POINT (72.81558 18.90787)</td>\n",
       "      <td>18.907868</td>\n",
       "      <td>72.815583</td>\n",
       "    </tr>\n",
       "    <tr>\n",
       "      <td>2</td>\n",
       "      <td>400021</td>\n",
       "      <td>15006</td>\n",
       "      <td>POINT (72.82372 18.92449)</td>\n",
       "      <td>18.924488</td>\n",
       "      <td>72.823716</td>\n",
       "    </tr>\n",
       "    <tr>\n",
       "      <td>3</td>\n",
       "      <td>400039</td>\n",
       "      <td>11626</td>\n",
       "      <td>POINT (72.82977 18.92445)</td>\n",
       "      <td>18.924448</td>\n",
       "      <td>72.829771</td>\n",
       "    </tr>\n",
       "    <tr>\n",
       "      <td>4</td>\n",
       "      <td>400032</td>\n",
       "      <td>20898</td>\n",
       "      <td>POINT (72.82566 18.92695)</td>\n",
       "      <td>18.926954</td>\n",
       "      <td>72.825659</td>\n",
       "    </tr>\n",
       "  </tbody>\n",
       "</table>\n",
       "</div>"
      ],
      "text/plain": [
       "      PIN  detNN                   geometry     detlat     detlon\n",
       "1  400005  14368  POINT (72.81558 18.90787)  18.907868  72.815583\n",
       "2  400021  15006  POINT (72.82372 18.92449)  18.924488  72.823716\n",
       "3  400039  11626  POINT (72.82977 18.92445)  18.924448  72.829771\n",
       "4  400032  20898  POINT (72.82566 18.92695)  18.926954  72.825659"
      ]
     },
     "execution_count": 749,
     "metadata": {},
     "output_type": "execute_result"
    }
   ],
   "source": [
    "det_nn_gpd[:4]"
   ]
  },
  {
   "cell_type": "code",
   "execution_count": 750,
   "metadata": {},
   "outputs": [
    {
     "name": "stdout",
     "output_type": "stream",
     "text": [
      "comboData count\n",
      "2960\n"
     ]
    }
   ],
   "source": [
    "# Combine Data\n",
    "# The default is 'inner', which is like a SQL inner join, which selects all rows from both tables as long as there is a match between the columns\n",
    "# In this case, only the rows that contain PIN values that are common between hh_nn and det_nn remain in the merged data\n",
    "# This can explain how there are less rows after the merge, for example the certain PIN values don't exist in the PIN centroids dataset\n",
    "comboData = pd.merge(hh_nn, det_nn_gpd, on='PIN')\n",
    "\n",
    "print('comboData count')\n",
    "print(len(comboData.index))"
   ]
  },
  {
   "cell_type": "code",
   "execution_count": 751,
   "metadata": {},
   "outputs": [
    {
     "data": {
      "text/html": [
       "<div>\n",
       "<style scoped>\n",
       "    .dataframe tbody tr th:only-of-type {\n",
       "        vertical-align: middle;\n",
       "    }\n",
       "\n",
       "    .dataframe tbody tr th {\n",
       "        vertical-align: top;\n",
       "    }\n",
       "\n",
       "    .dataframe thead th {\n",
       "        text-align: right;\n",
       "    }\n",
       "</style>\n",
       "<table border=\"1\" class=\"dataframe\">\n",
       "  <thead>\n",
       "    <tr style=\"text-align: right;\">\n",
       "      <th></th>\n",
       "      <th>unique_respondent</th>\n",
       "      <th>PIN</th>\n",
       "      <th>walk_dist_to_nn</th>\n",
       "      <th>hhNN</th>\n",
       "      <th>hhlat</th>\n",
       "      <th>hhlon</th>\n",
       "      <th>walk_time_to_nn</th>\n",
       "      <th>detNN</th>\n",
       "      <th>geometry</th>\n",
       "      <th>detlat</th>\n",
       "      <th>detlon</th>\n",
       "    </tr>\n",
       "  </thead>\n",
       "  <tbody>\n",
       "    <tr>\n",
       "      <td>0</td>\n",
       "      <td>1011</td>\n",
       "      <td>400005</td>\n",
       "      <td>82.066957</td>\n",
       "      <td>25884</td>\n",
       "      <td>18.909705</td>\n",
       "      <td>72.813837</td>\n",
       "      <td>59.088209</td>\n",
       "      <td>14368</td>\n",
       "      <td>POINT (72.81558 18.90787)</td>\n",
       "      <td>18.907868</td>\n",
       "      <td>72.815583</td>\n",
       "    </tr>\n",
       "    <tr>\n",
       "      <td>1</td>\n",
       "      <td>1031</td>\n",
       "      <td>400005</td>\n",
       "      <td>87.130632</td>\n",
       "      <td>25884</td>\n",
       "      <td>18.909751</td>\n",
       "      <td>72.813732</td>\n",
       "      <td>62.734055</td>\n",
       "      <td>14368</td>\n",
       "      <td>POINT (72.81558 18.90787)</td>\n",
       "      <td>18.907868</td>\n",
       "      <td>72.815583</td>\n",
       "    </tr>\n",
       "    <tr>\n",
       "      <td>2</td>\n",
       "      <td>1041</td>\n",
       "      <td>400005</td>\n",
       "      <td>86.183517</td>\n",
       "      <td>25884</td>\n",
       "      <td>18.909460</td>\n",
       "      <td>72.814240</td>\n",
       "      <td>62.052132</td>\n",
       "      <td>14368</td>\n",
       "      <td>POINT (72.81558 18.90787)</td>\n",
       "      <td>18.907868</td>\n",
       "      <td>72.815583</td>\n",
       "    </tr>\n",
       "    <tr>\n",
       "      <td>3</td>\n",
       "      <td>2011</td>\n",
       "      <td>400005</td>\n",
       "      <td>37.877030</td>\n",
       "      <td>19231</td>\n",
       "      <td>18.941155</td>\n",
       "      <td>72.832300</td>\n",
       "      <td>27.271462</td>\n",
       "      <td>14368</td>\n",
       "      <td>POINT (72.81558 18.90787)</td>\n",
       "      <td>18.907868</td>\n",
       "      <td>72.815583</td>\n",
       "    </tr>\n",
       "    <tr>\n",
       "      <td>4</td>\n",
       "      <td>3011</td>\n",
       "      <td>400005</td>\n",
       "      <td>35.423199</td>\n",
       "      <td>8254</td>\n",
       "      <td>18.915563</td>\n",
       "      <td>72.828682</td>\n",
       "      <td>25.504703</td>\n",
       "      <td>14368</td>\n",
       "      <td>POINT (72.81558 18.90787)</td>\n",
       "      <td>18.907868</td>\n",
       "      <td>72.815583</td>\n",
       "    </tr>\n",
       "  </tbody>\n",
       "</table>\n",
       "</div>"
      ],
      "text/plain": [
       "   unique_respondent     PIN  walk_dist_to_nn   hhNN      hhlat      hhlon  \\\n",
       "0               1011  400005        82.066957  25884  18.909705  72.813837   \n",
       "1               1031  400005        87.130632  25884  18.909751  72.813732   \n",
       "2               1041  400005        86.183517  25884  18.909460  72.814240   \n",
       "3               2011  400005        37.877030  19231  18.941155  72.832300   \n",
       "4               3011  400005        35.423199   8254  18.915563  72.828682   \n",
       "\n",
       "   walk_time_to_nn  detNN                   geometry     detlat     detlon  \n",
       "0        59.088209  14368  POINT (72.81558 18.90787)  18.907868  72.815583  \n",
       "1        62.734055  14368  POINT (72.81558 18.90787)  18.907868  72.815583  \n",
       "2        62.052132  14368  POINT (72.81558 18.90787)  18.907868  72.815583  \n",
       "3        27.271462  14368  POINT (72.81558 18.90787)  18.907868  72.815583  \n",
       "4        25.504703  14368  POINT (72.81558 18.90787)  18.907868  72.815583  "
      ]
     },
     "execution_count": 751,
     "metadata": {},
     "output_type": "execute_result"
    }
   ],
   "source": [
    "comboData[:5]"
   ]
  },
  {
   "cell_type": "markdown",
   "metadata": {},
   "source": [
    "## This can be done for each of the combo graphs"
   ]
  },
  {
   "cell_type": "code",
   "execution_count": 752,
   "metadata": {},
   "outputs": [],
   "source": [
    "for key in g_combo_graph:\n",
    "    # Driving, Rail, and Driving & Rail distance from the individual to their workplace\n",
    "    drive_Vals = []\n",
    "    rail_Vals = []\n",
    "    drive_and_rail_Vals = []\n",
    "    walk_Vals = []\n",
    "    euclidean_Vals = []\n",
    "    for idx, row in comboData.iterrows():\n",
    "        #distance1 = nx.shortest_path_length(G_combo, row['hhNN'], row['detNN'], weight='time') + row['walk_time_to_nn']\n",
    "        distance1 = nx.shortest_path_length(g_combo_graph[key], row['hhNN'], row['detNN'], weight='time') + row['walk_time_to_nn']\n",
    "        drive_Vals.append(distance1)\n",
    "    comboData['driveToWork'] = drive_Vals\n",
    "    for idx, row in comboData.iterrows():\n",
    "        distance2 = nx.shortest_path_length(g_combo_graph[key], row['hhNN'], row['detNN'], weight='rail_time') + row['walk_time_to_nn']\n",
    "        rail_Vals.append(distance2)\n",
    "    comboData['railToWork'] = rail_Vals\n",
    "    for idx, row in comboData.iterrows():\n",
    "        distance3 = nx.shortest_path_length(g_combo_graph[key], row['hhNN'], row['detNN'], weight='road_and_rail_time') + row['walk_time_to_nn']\n",
    "        drive_and_rail_Vals.append(distance3)\n",
    "    comboData['DriveandRailToWork'] = drive_and_rail_Vals\n",
    "    for idx, row in comboData.iterrows():\n",
    "        distance4 = nx.shortest_path_length(g_combo_graph[key], row['hhNN'], row['detNN'], weight='walk_time') + row['walk_time_to_nn']\n",
    "        walk_Vals.append(distance4)\n",
    "    comboData['WalkToWork'] = walk_Vals\n",
    "    for idx, row in comboData.iterrows():\n",
    "        #returns in km\n",
    "        euclidean_distance = gn.euclidean_distance(row['hhlat'], row['hhlon'], row['detlat'], row['detlon'])\n",
    "        euclidean_Vals.append(euclidean_distance)\n",
    "    comboData['euclidean_distance_km'] = euclidean_Vals\n",
    "    \n",
    "    comboData.to_csv(inHouseholds.replace(\".csv\", \"_all_Distances_%s.csv\" % key))\n",
    "    xx = pd.merge(inH, comboData, on = 'unique_respondent', how = 'left')\n",
    "    xx.to_csv(inHouseholds.replace(\".csv\", \"_all_Distances_merged_%s.csv\" % key))"
   ]
  },
  {
   "cell_type": "markdown",
   "metadata": {},
   "source": [
    "## Run analysis 2 (household accessibilty index) & 3 (number of jobs accessible to households)\n",
    "### This analysis is done on sections instead of pin codes"
   ]
  },
  {
   "cell_type": "code",
   "execution_count": 759,
   "metadata": {},
   "outputs": [
    {
     "data": {
      "text/plain": [
       "array([25884, 19231,  8254])"
      ]
     },
     "execution_count": 759,
     "metadata": {},
     "output_type": "execute_result"
    }
   ],
   "source": [
    "originNodes[:3]"
   ]
  },
  {
   "cell_type": "code",
   "execution_count": 760,
   "metadata": {},
   "outputs": [
    {
     "data": {
      "text/html": [
       "<div>\n",
       "<style scoped>\n",
       "    .dataframe tbody tr th:only-of-type {\n",
       "        vertical-align: middle;\n",
       "    }\n",
       "\n",
       "    .dataframe tbody tr th {\n",
       "        vertical-align: top;\n",
       "    }\n",
       "\n",
       "    .dataframe thead th {\n",
       "        text-align: right;\n",
       "    }\n",
       "</style>\n",
       "<table border=\"1\" class=\"dataframe\">\n",
       "  <thead>\n",
       "    <tr style=\"text-align: right;\">\n",
       "      <th></th>\n",
       "      <th>WARD_ID</th>\n",
       "      <th>WARD_NO</th>\n",
       "      <th>NAME</th>\n",
       "      <th>MUNI_WARD</th>\n",
       "      <th>C_CODE11</th>\n",
       "      <th>CITY</th>\n",
       "      <th>STATE_UT</th>\n",
       "      <th>TOT_HH</th>\n",
       "      <th>TOT_POP</th>\n",
       "      <th>M_POP</th>\n",
       "      <th>...</th>\n",
       "      <th>F_MOT_0_3</th>\n",
       "      <th>TOT_NNW</th>\n",
       "      <th>M_NNW</th>\n",
       "      <th>F_NNW</th>\n",
       "      <th>geometry</th>\n",
       "      <th>section</th>\n",
       "      <th>TOTAL_WORKERS</th>\n",
       "      <th>male_num</th>\n",
       "      <th>female_num</th>\n",
       "      <th>Number of units</th>\n",
       "    </tr>\n",
       "  </thead>\n",
       "  <tbody>\n",
       "    <tr>\n",
       "      <td>0</td>\n",
       "      <td>74</td>\n",
       "      <td>74</td>\n",
       "      <td>Greater Mumbai (M Corp.) (Part) WARD NO.-1874</td>\n",
       "      <td>R NORTH</td>\n",
       "      <td>27518999998027941874</td>\n",
       "      <td>Greater Mumbai</td>\n",
       "      <td>Maharashtra</td>\n",
       "      <td>36517</td>\n",
       "      <td>154540</td>\n",
       "      <td>81975</td>\n",
       "      <td>...</td>\n",
       "      <td>113</td>\n",
       "      <td>93487</td>\n",
       "      <td>33880</td>\n",
       "      <td>59607</td>\n",
       "      <td>POINT (72.86367 19.26008)</td>\n",
       "      <td>74</td>\n",
       "      <td>24891</td>\n",
       "      <td>21104</td>\n",
       "      <td>3787</td>\n",
       "      <td>8,523</td>\n",
       "    </tr>\n",
       "    <tr>\n",
       "      <td>1</td>\n",
       "      <td>71</td>\n",
       "      <td>71</td>\n",
       "      <td>Greater Mumbai (M Corp.) (Part) WARD NO.-1771</td>\n",
       "      <td>R CENTRAL</td>\n",
       "      <td>27518999998027941771</td>\n",
       "      <td>Greater Mumbai</td>\n",
       "      <td>Maharashtra</td>\n",
       "      <td>1382</td>\n",
       "      <td>6060</td>\n",
       "      <td>3332</td>\n",
       "      <td>...</td>\n",
       "      <td>57</td>\n",
       "      <td>3010</td>\n",
       "      <td>1284</td>\n",
       "      <td>1726</td>\n",
       "      <td>POINT (72.80194 19.23996)</td>\n",
       "      <td>71</td>\n",
       "      <td>908</td>\n",
       "      <td>685</td>\n",
       "      <td>223</td>\n",
       "      <td>544</td>\n",
       "    </tr>\n",
       "    <tr>\n",
       "      <td>2</td>\n",
       "      <td>72</td>\n",
       "      <td>72</td>\n",
       "      <td>Greater Mumbai (M Corp.) (Part) WARD NO.-1772</td>\n",
       "      <td>R CENTRAL</td>\n",
       "      <td>27518999998027941772</td>\n",
       "      <td>Greater Mumbai</td>\n",
       "      <td>Maharashtra</td>\n",
       "      <td>21044</td>\n",
       "      <td>91245</td>\n",
       "      <td>48006</td>\n",
       "      <td>...</td>\n",
       "      <td>70</td>\n",
       "      <td>54487</td>\n",
       "      <td>19465</td>\n",
       "      <td>35022</td>\n",
       "      <td>POINT (72.86038 19.22329)</td>\n",
       "      <td>72</td>\n",
       "      <td>19323</td>\n",
       "      <td>15917</td>\n",
       "      <td>3406</td>\n",
       "      <td>5,468</td>\n",
       "    </tr>\n",
       "  </tbody>\n",
       "</table>\n",
       "<p>3 rows × 98 columns</p>\n",
       "</div>"
      ],
      "text/plain": [
       "   WARD_ID  WARD_NO                                           NAME  MUNI_WARD  \\\n",
       "0       74       74  Greater Mumbai (M Corp.) (Part) WARD NO.-1874    R NORTH   \n",
       "1       71       71  Greater Mumbai (M Corp.) (Part) WARD NO.-1771  R CENTRAL   \n",
       "2       72       72  Greater Mumbai (M Corp.) (Part) WARD NO.-1772  R CENTRAL   \n",
       "\n",
       "               C_CODE11            CITY     STATE_UT  TOT_HH  TOT_POP  M_POP  \\\n",
       "0  27518999998027941874  Greater Mumbai  Maharashtra   36517   154540  81975   \n",
       "1  27518999998027941771  Greater Mumbai  Maharashtra    1382     6060   3332   \n",
       "2  27518999998027941772  Greater Mumbai  Maharashtra   21044    91245  48006   \n",
       "\n",
       "   ...  F_MOT_0_3  TOT_NNW  M_NNW  F_NNW                   geometry  section  \\\n",
       "0  ...        113    93487  33880  59607  POINT (72.86367 19.26008)       74   \n",
       "1  ...         57     3010   1284   1726  POINT (72.80194 19.23996)       71   \n",
       "2  ...         70    54487  19465  35022  POINT (72.86038 19.22329)       72   \n",
       "\n",
       "   TOTAL_WORKERS  male_num  female_num  Number of units  \n",
       "0          24891     21104        3787            8,523  \n",
       "1            908       685         223              544  \n",
       "2          19323     15917        3406            5,468  \n",
       "\n",
       "[3 rows x 98 columns]"
      ]
     },
     "execution_count": 760,
     "metadata": {},
     "output_type": "execute_result"
    }
   ],
   "source": [
    "inJ_cen_by_section[:3]"
   ]
  },
  {
   "cell_type": "code",
   "execution_count": 762,
   "metadata": {},
   "outputs": [],
   "source": [
    "#Identify destinationNodes\n",
    "det_nn_section = gn.pandana_snap(g_combo_graph['avg_speed'], inJ_cen_by_section)"
   ]
  },
  {
   "cell_type": "code",
   "execution_count": 763,
   "metadata": {},
   "outputs": [
    {
     "data": {
      "text/html": [
       "<div>\n",
       "<style scoped>\n",
       "    .dataframe tbody tr th:only-of-type {\n",
       "        vertical-align: middle;\n",
       "    }\n",
       "\n",
       "    .dataframe tbody tr th {\n",
       "        vertical-align: top;\n",
       "    }\n",
       "\n",
       "    .dataframe thead th {\n",
       "        text-align: right;\n",
       "    }\n",
       "</style>\n",
       "<table border=\"1\" class=\"dataframe\">\n",
       "  <thead>\n",
       "    <tr style=\"text-align: right;\">\n",
       "      <th></th>\n",
       "      <th>WARD_ID</th>\n",
       "      <th>WARD_NO</th>\n",
       "      <th>NAME</th>\n",
       "      <th>MUNI_WARD</th>\n",
       "      <th>C_CODE11</th>\n",
       "      <th>CITY</th>\n",
       "      <th>STATE_UT</th>\n",
       "      <th>TOT_HH</th>\n",
       "      <th>TOT_POP</th>\n",
       "      <th>M_POP</th>\n",
       "      <th>...</th>\n",
       "      <th>M_NNW</th>\n",
       "      <th>F_NNW</th>\n",
       "      <th>geometry</th>\n",
       "      <th>section</th>\n",
       "      <th>TOTAL_WORKERS</th>\n",
       "      <th>male_num</th>\n",
       "      <th>female_num</th>\n",
       "      <th>Number of units</th>\n",
       "      <th>NN</th>\n",
       "      <th>NN_dist</th>\n",
       "    </tr>\n",
       "  </thead>\n",
       "  <tbody>\n",
       "    <tr>\n",
       "      <td>0</td>\n",
       "      <td>74</td>\n",
       "      <td>74</td>\n",
       "      <td>Greater Mumbai (M Corp.) (Part) WARD NO.-1874</td>\n",
       "      <td>R NORTH</td>\n",
       "      <td>27518999998027941874</td>\n",
       "      <td>Greater Mumbai</td>\n",
       "      <td>Maharashtra</td>\n",
       "      <td>36517</td>\n",
       "      <td>154540</td>\n",
       "      <td>81975</td>\n",
       "      <td>...</td>\n",
       "      <td>33880</td>\n",
       "      <td>59607</td>\n",
       "      <td>POINT (72.86367 19.26008)</td>\n",
       "      <td>74</td>\n",
       "      <td>24891</td>\n",
       "      <td>21104</td>\n",
       "      <td>3787</td>\n",
       "      <td>8,523</td>\n",
       "      <td>21511</td>\n",
       "      <td>0.000410</td>\n",
       "    </tr>\n",
       "    <tr>\n",
       "      <td>1</td>\n",
       "      <td>71</td>\n",
       "      <td>71</td>\n",
       "      <td>Greater Mumbai (M Corp.) (Part) WARD NO.-1771</td>\n",
       "      <td>R CENTRAL</td>\n",
       "      <td>27518999998027941771</td>\n",
       "      <td>Greater Mumbai</td>\n",
       "      <td>Maharashtra</td>\n",
       "      <td>1382</td>\n",
       "      <td>6060</td>\n",
       "      <td>3332</td>\n",
       "      <td>...</td>\n",
       "      <td>1284</td>\n",
       "      <td>1726</td>\n",
       "      <td>POINT (72.80194 19.23996)</td>\n",
       "      <td>71</td>\n",
       "      <td>908</td>\n",
       "      <td>685</td>\n",
       "      <td>223</td>\n",
       "      <td>544</td>\n",
       "      <td>23368</td>\n",
       "      <td>0.021754</td>\n",
       "    </tr>\n",
       "    <tr>\n",
       "      <td>2</td>\n",
       "      <td>72</td>\n",
       "      <td>72</td>\n",
       "      <td>Greater Mumbai (M Corp.) (Part) WARD NO.-1772</td>\n",
       "      <td>R CENTRAL</td>\n",
       "      <td>27518999998027941772</td>\n",
       "      <td>Greater Mumbai</td>\n",
       "      <td>Maharashtra</td>\n",
       "      <td>21044</td>\n",
       "      <td>91245</td>\n",
       "      <td>48006</td>\n",
       "      <td>...</td>\n",
       "      <td>19465</td>\n",
       "      <td>35022</td>\n",
       "      <td>POINT (72.86038 19.22329)</td>\n",
       "      <td>72</td>\n",
       "      <td>19323</td>\n",
       "      <td>15917</td>\n",
       "      <td>3406</td>\n",
       "      <td>5,468</td>\n",
       "      <td>25581</td>\n",
       "      <td>0.001097</td>\n",
       "    </tr>\n",
       "  </tbody>\n",
       "</table>\n",
       "<p>3 rows × 100 columns</p>\n",
       "</div>"
      ],
      "text/plain": [
       "   WARD_ID  WARD_NO                                           NAME  MUNI_WARD  \\\n",
       "0       74       74  Greater Mumbai (M Corp.) (Part) WARD NO.-1874    R NORTH   \n",
       "1       71       71  Greater Mumbai (M Corp.) (Part) WARD NO.-1771  R CENTRAL   \n",
       "2       72       72  Greater Mumbai (M Corp.) (Part) WARD NO.-1772  R CENTRAL   \n",
       "\n",
       "               C_CODE11            CITY     STATE_UT  TOT_HH  TOT_POP  M_POP  \\\n",
       "0  27518999998027941874  Greater Mumbai  Maharashtra   36517   154540  81975   \n",
       "1  27518999998027941771  Greater Mumbai  Maharashtra    1382     6060   3332   \n",
       "2  27518999998027941772  Greater Mumbai  Maharashtra   21044    91245  48006   \n",
       "\n",
       "   ...  M_NNW  F_NNW                   geometry  section  TOTAL_WORKERS  \\\n",
       "0  ...  33880  59607  POINT (72.86367 19.26008)       74          24891   \n",
       "1  ...   1284   1726  POINT (72.80194 19.23996)       71            908   \n",
       "2  ...  19465  35022  POINT (72.86038 19.22329)       72          19323   \n",
       "\n",
       "   male_num  female_num  Number of units     NN   NN_dist  \n",
       "0     21104        3787            8,523  21511  0.000410  \n",
       "1       685         223              544  23368  0.021754  \n",
       "2     15917        3406            5,468  25581  0.001097  \n",
       "\n",
       "[3 rows x 100 columns]"
      ]
     },
     "execution_count": 763,
     "metadata": {},
     "output_type": "execute_result"
    }
   ],
   "source": [
    "det_nn_section[:3]"
   ]
  },
  {
   "cell_type": "code",
   "execution_count": 764,
   "metadata": {},
   "outputs": [],
   "source": [
    "destNodes = det_nn_section['NN'].unique()"
   ]
  },
  {
   "cell_type": "code",
   "execution_count": 765,
   "metadata": {},
   "outputs": [
    {
     "ename": "KeyError",
     "evalue": "'NN'",
     "output_type": "error",
     "traceback": [
      "\u001b[0;31m---------------------------------------------------------------------------\u001b[0m",
      "\u001b[0;31mKeyError\u001b[0m                                  Traceback (most recent call last)",
      "\u001b[0;32m<ipython-input-765-41840bfc7910>\u001b[0m in \u001b[0;36m<module>\u001b[0;34m\u001b[0m\n\u001b[1;32m     49\u001b[0m                 \u001b[0mcolName\u001b[0m \u001b[0;34m=\u001b[0m \u001b[0;34m\"%s_%s_%s\"\u001b[0m \u001b[0;34m%\u001b[0m \u001b[0;34m(\u001b[0m\u001b[0modType\u001b[0m\u001b[0;34m,\u001b[0m \u001b[0mweightColumn\u001b[0m\u001b[0;34m,\u001b[0m \u001b[0mtravel_time\u001b[0m\u001b[0;34m)\u001b[0m\u001b[0;34m\u001b[0m\u001b[0;34m\u001b[0m\u001b[0m\n\u001b[1;32m     50\u001b[0m                 \u001b[0mresultweights\u001b[0m\u001b[0;34m.\u001b[0m\u001b[0mcolumns\u001b[0m \u001b[0;34m=\u001b[0m \u001b[0;34m[\u001b[0m\u001b[0;34m'NN'\u001b[0m\u001b[0;34m,\u001b[0m \u001b[0mcolName\u001b[0m\u001b[0;34m]\u001b[0m\u001b[0;34m\u001b[0m\u001b[0;34m\u001b[0m\u001b[0m\n\u001b[0;32m---> 51\u001b[0;31m                 \u001b[0mhh_out\u001b[0m \u001b[0;34m=\u001b[0m \u001b[0mpd\u001b[0m\u001b[0;34m.\u001b[0m\u001b[0mmerge\u001b[0m\u001b[0;34m(\u001b[0m\u001b[0mhh_out\u001b[0m\u001b[0;34m,\u001b[0m \u001b[0mresultweights\u001b[0m\u001b[0;34m,\u001b[0m \u001b[0mon\u001b[0m\u001b[0;34m=\u001b[0m\u001b[0;34m\"NN\"\u001b[0m\u001b[0;34m)\u001b[0m\u001b[0;34m\u001b[0m\u001b[0;34m\u001b[0m\u001b[0m\n\u001b[0m\u001b[1;32m     52\u001b[0m \u001b[0;34m\u001b[0m\u001b[0m\n\u001b[1;32m     53\u001b[0m     \u001b[0mhh_out\u001b[0m\u001b[0;34m.\u001b[0m\u001b[0mto_csv\u001b[0m\u001b[0;34m(\u001b[0m\u001b[0mos\u001b[0m\u001b[0;34m.\u001b[0m\u001b[0mpath\u001b[0m\u001b[0;34m.\u001b[0m\u001b[0mjoin\u001b[0m\u001b[0;34m(\u001b[0m\u001b[0moutputFolder\u001b[0m\u001b[0;34m,\u001b[0m \u001b[0;34m\"weighted_distance_all_JOBS_%s.csv\"\u001b[0m \u001b[0;34m%\u001b[0m \u001b[0mkey\u001b[0m\u001b[0;34m)\u001b[0m\u001b[0;34m)\u001b[0m\u001b[0;34m\u001b[0m\u001b[0;34m\u001b[0m\u001b[0m\n",
      "\u001b[0;32m~/.conda/envs/GOST_PublicGoods5/lib/python3.7/site-packages/pandas/core/reshape/merge.py\u001b[0m in \u001b[0;36mmerge\u001b[0;34m(left, right, how, on, left_on, right_on, left_index, right_index, sort, suffixes, copy, indicator, validate)\u001b[0m\n\u001b[1;32m     79\u001b[0m         \u001b[0mcopy\u001b[0m\u001b[0;34m=\u001b[0m\u001b[0mcopy\u001b[0m\u001b[0;34m,\u001b[0m\u001b[0;34m\u001b[0m\u001b[0;34m\u001b[0m\u001b[0m\n\u001b[1;32m     80\u001b[0m         \u001b[0mindicator\u001b[0m\u001b[0;34m=\u001b[0m\u001b[0mindicator\u001b[0m\u001b[0;34m,\u001b[0m\u001b[0;34m\u001b[0m\u001b[0;34m\u001b[0m\u001b[0m\n\u001b[0;32m---> 81\u001b[0;31m         \u001b[0mvalidate\u001b[0m\u001b[0;34m=\u001b[0m\u001b[0mvalidate\u001b[0m\u001b[0;34m,\u001b[0m\u001b[0;34m\u001b[0m\u001b[0;34m\u001b[0m\u001b[0m\n\u001b[0m\u001b[1;32m     82\u001b[0m     )\n\u001b[1;32m     83\u001b[0m     \u001b[0;32mreturn\u001b[0m \u001b[0mop\u001b[0m\u001b[0;34m.\u001b[0m\u001b[0mget_result\u001b[0m\u001b[0;34m(\u001b[0m\u001b[0;34m)\u001b[0m\u001b[0;34m\u001b[0m\u001b[0;34m\u001b[0m\u001b[0m\n",
      "\u001b[0;32m~/.conda/envs/GOST_PublicGoods5/lib/python3.7/site-packages/pandas/core/reshape/merge.py\u001b[0m in \u001b[0;36m__init__\u001b[0;34m(self, left, right, how, on, left_on, right_on, axis, left_index, right_index, sort, suffixes, copy, indicator, validate)\u001b[0m\n\u001b[1;32m    624\u001b[0m             \u001b[0mself\u001b[0m\u001b[0;34m.\u001b[0m\u001b[0mright_join_keys\u001b[0m\u001b[0;34m,\u001b[0m\u001b[0;34m\u001b[0m\u001b[0;34m\u001b[0m\u001b[0m\n\u001b[1;32m    625\u001b[0m             \u001b[0mself\u001b[0m\u001b[0;34m.\u001b[0m\u001b[0mjoin_names\u001b[0m\u001b[0;34m,\u001b[0m\u001b[0;34m\u001b[0m\u001b[0;34m\u001b[0m\u001b[0m\n\u001b[0;32m--> 626\u001b[0;31m         ) = self._get_merge_keys()\n\u001b[0m\u001b[1;32m    627\u001b[0m \u001b[0;34m\u001b[0m\u001b[0m\n\u001b[1;32m    628\u001b[0m         \u001b[0;31m# validate the merge keys dtypes. We may need to coerce\u001b[0m\u001b[0;34m\u001b[0m\u001b[0;34m\u001b[0m\u001b[0;34m\u001b[0m\u001b[0m\n",
      "\u001b[0;32m~/.conda/envs/GOST_PublicGoods5/lib/python3.7/site-packages/pandas/core/reshape/merge.py\u001b[0m in \u001b[0;36m_get_merge_keys\u001b[0;34m(self)\u001b[0m\n\u001b[1;32m    986\u001b[0m                         \u001b[0mright_keys\u001b[0m\u001b[0;34m.\u001b[0m\u001b[0mappend\u001b[0m\u001b[0;34m(\u001b[0m\u001b[0mrk\u001b[0m\u001b[0;34m)\u001b[0m\u001b[0;34m\u001b[0m\u001b[0;34m\u001b[0m\u001b[0m\n\u001b[1;32m    987\u001b[0m                     \u001b[0;32mif\u001b[0m \u001b[0mlk\u001b[0m \u001b[0;32mis\u001b[0m \u001b[0;32mnot\u001b[0m \u001b[0;32mNone\u001b[0m\u001b[0;34m:\u001b[0m\u001b[0;34m\u001b[0m\u001b[0;34m\u001b[0m\u001b[0m\n\u001b[0;32m--> 988\u001b[0;31m                         \u001b[0mleft_keys\u001b[0m\u001b[0;34m.\u001b[0m\u001b[0mappend\u001b[0m\u001b[0;34m(\u001b[0m\u001b[0mleft\u001b[0m\u001b[0;34m.\u001b[0m\u001b[0m_get_label_or_level_values\u001b[0m\u001b[0;34m(\u001b[0m\u001b[0mlk\u001b[0m\u001b[0;34m)\u001b[0m\u001b[0;34m)\u001b[0m\u001b[0;34m\u001b[0m\u001b[0;34m\u001b[0m\u001b[0m\n\u001b[0m\u001b[1;32m    989\u001b[0m                         \u001b[0mjoin_names\u001b[0m\u001b[0;34m.\u001b[0m\u001b[0mappend\u001b[0m\u001b[0;34m(\u001b[0m\u001b[0mlk\u001b[0m\u001b[0;34m)\u001b[0m\u001b[0;34m\u001b[0m\u001b[0;34m\u001b[0m\u001b[0m\n\u001b[1;32m    990\u001b[0m                     \u001b[0;32melse\u001b[0m\u001b[0;34m:\u001b[0m\u001b[0;34m\u001b[0m\u001b[0;34m\u001b[0m\u001b[0m\n",
      "\u001b[0;32m~/.conda/envs/GOST_PublicGoods5/lib/python3.7/site-packages/pandas/core/generic.py\u001b[0m in \u001b[0;36m_get_label_or_level_values\u001b[0;34m(self, key, axis)\u001b[0m\n\u001b[1;32m   1772\u001b[0m             \u001b[0mvalues\u001b[0m \u001b[0;34m=\u001b[0m \u001b[0mself\u001b[0m\u001b[0;34m.\u001b[0m\u001b[0maxes\u001b[0m\u001b[0;34m[\u001b[0m\u001b[0maxis\u001b[0m\u001b[0;34m]\u001b[0m\u001b[0;34m.\u001b[0m\u001b[0mget_level_values\u001b[0m\u001b[0;34m(\u001b[0m\u001b[0mkey\u001b[0m\u001b[0;34m)\u001b[0m\u001b[0;34m.\u001b[0m\u001b[0m_values\u001b[0m\u001b[0;34m\u001b[0m\u001b[0;34m\u001b[0m\u001b[0m\n\u001b[1;32m   1773\u001b[0m         \u001b[0;32melse\u001b[0m\u001b[0;34m:\u001b[0m\u001b[0;34m\u001b[0m\u001b[0;34m\u001b[0m\u001b[0m\n\u001b[0;32m-> 1774\u001b[0;31m             \u001b[0;32mraise\u001b[0m \u001b[0mKeyError\u001b[0m\u001b[0;34m(\u001b[0m\u001b[0mkey\u001b[0m\u001b[0;34m)\u001b[0m\u001b[0;34m\u001b[0m\u001b[0;34m\u001b[0m\u001b[0m\n\u001b[0m\u001b[1;32m   1775\u001b[0m \u001b[0;34m\u001b[0m\u001b[0m\n\u001b[1;32m   1776\u001b[0m         \u001b[0;31m# Check for duplicates\u001b[0m\u001b[0;34m\u001b[0m\u001b[0;34m\u001b[0m\u001b[0;34m\u001b[0m\u001b[0m\n",
      "\u001b[0;31mKeyError\u001b[0m: 'NN'"
     ]
    }
   ],
   "source": [
    "for key in g_combo_graph:\n",
    "\n",
    "    # Calculate OD matrix\n",
    "    # for the output matrices the order of the orgins and destinations are preserved\n",
    "    od_driving = gn.calculate_OD(g_combo_graph[key], originNodes, destNodes, fail_value=-1, weight='time')\n",
    "    od_rail = gn.calculate_OD(g_combo_graph[key], originNodes, destNodes, fail_value=-1, weight='rail_time')\n",
    "    od_driving_and_rail = gn.calculate_OD(g_combo_graph[key], originNodes, destNodes, fail_value=-1, weight='road_and_rail_time')\n",
    "\n",
    "    # Calculate the gravity weighted jobs access for driving & rail, as well as for total workers, male, and female)\n",
    "    # note that the origins do not have weights in this scenario\n",
    "    hh_out = hh_nn.copy()\n",
    "\n",
    "    originWeights = 1\n",
    "\n",
    "    # dist_decay represents a half-life of 1 hour\n",
    "    dist_decay = .00019\n",
    "    decayFunction = lambda x: np.exp(-1 * dist_decay * x)\n",
    "\n",
    "    for odType in ['driving', 'rail', 'od_driving_and_rail']:\n",
    "        od = od_driving\n",
    "        if odType == \"rail\":\n",
    "            od = od_rail\n",
    "        if odType == \"od_driving_and_rail\":\n",
    "            od = od_driving_and_rail\n",
    "        for weightColumn in ['TOTAL_WORKERS','male_num','female_num']:\n",
    "            for travel_time in [1800,3600,5400]:\n",
    "\n",
    "                destWeights = det_nn_section[weightColumn]\n",
    "                #print(destWeights)\n",
    "                # I think we should normalize the destination weights using min-max normalization\n",
    "                destWeights_normalized = destWeights.copy()\n",
    "                destWeights_normalized = (destWeights_normalized - destWeights_normalized.min())/(destWeights.max()-destWeights.min())\n",
    "\n",
    "                normalized_OD = od\n",
    "\n",
    "                # this zeros out the outOD matrix\n",
    "                outOD = od * 0\n",
    "\n",
    "                for row in range(0, od.shape[0]):\n",
    "                    curRow = normalized_OD[row,:]\n",
    "                    decayedRow = decayFunction(curRow)\n",
    "                    weightedRow = decayedRow * destWeights_normalized * originWeights\n",
    "                    outOD[row,:] = weightedRow\n",
    "\n",
    "                # Calculate the origin sum weights for each node\n",
    "                weightedDistance = np.sum(outOD, axis=1)\n",
    "\n",
    "                resultweights = pd.DataFrame([originNodes, weightedDistance]).transpose()\n",
    "                colName = \"%s_%s_%s\" % (odType, weightColumn, travel_time)\n",
    "                resultweights.columns = ['NN', colName]\n",
    "                hh_out = pd.merge(hh_out, resultweights, on=\"NN\")\n",
    "\n",
    "    hh_out.to_csv(os.path.join(outputFolder, \"weighted_distance_all_JOBS_%s.csv\" % key))\n",
    "\n",
    "    # Run analysis 3 - number of jobs accessible to households\n",
    "\n",
    "    hh_out2 = hh_nn.copy()\n",
    "\n",
    "    for odType in ['driving', 'rail', 'od_driving_and_rail']:\n",
    "        od = od_driving\n",
    "        if odType == \"rail\":\n",
    "            od = od_rail\n",
    "        if odType == \"od_driving_and_rail\":\n",
    "            od = od_driving_and_rail\n",
    "        for weightColumn in ['TOTAL_WORKERS','male_num','female_num']:\n",
    "            for travel_time in [1800,3600,5400]:\n",
    "\n",
    "                jobs_number_series = det_nn_section[weightColumn]\n",
    "\n",
    "                jobOD = np.where(od <= travel_time, 1, 0)\n",
    "\n",
    "                jobs_accessible = jobs_number_series.values * jobOD\n",
    "\n",
    "                jobs_accessible_per_hh = np.sum(jobs_accessible, axis=1)\n",
    "\n",
    "                resultweights2 = pd.DataFrame([originNodes, jobs_accessible_per_hh]).transpose()\n",
    "                colName = \"%s_%s_%s\" % (odType, weightColumn, travel_time)\n",
    "                resultweights2.columns = ['NN', colName]\n",
    "                #results2[colName] = resultweights2\n",
    "                hh_out2 = pd.merge(hh_out2, resultweights2, on=\"NN\")\n",
    "\n",
    "    hh_out2.to_csv(os.path.join(outputFolder, \"total_jobs_accessible_JOBS_%s.csv\" % key)) # Calculate the job accessible per household for driving & rail, as well as for total workers, male, and female)"
   ]
  },
  {
   "cell_type": "code",
   "execution_count": null,
   "metadata": {},
   "outputs": [],
   "source": []
  }
 ],
 "metadata": {
  "kernelspec": {
   "display_name": "Python [conda env:.conda-GOST_PublicGoods5] *",
   "language": "python",
   "name": "conda-env-.conda-GOST_PublicGoods5-py"
  },
  "language_info": {
   "codemirror_mode": {
    "name": "ipython",
    "version": 3
   },
   "file_extension": ".py",
   "mimetype": "text/x-python",
   "name": "python",
   "nbconvert_exporter": "python",
   "pygments_lexer": "ipython3",
   "version": "3.7.3"
  }
 },
 "nbformat": 4,
 "nbformat_minor": 2
}
