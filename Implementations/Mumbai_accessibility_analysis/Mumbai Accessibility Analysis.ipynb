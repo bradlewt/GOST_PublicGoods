{
 "cells": [
  {
   "cell_type": "markdown",
   "metadata": {},
   "source": [
    "# Accessibility Analysis in Mumbai\n",
    "## This analysis is unique in that it utilizes a road and a rail network\n",
    "### Data Prep notes\n",
    "The road network in this notebook is fetched via OSMNX. The rail network and the rail stations are seperate shapefiles. The rail network are lines, and the rail stations are points. It is highly encouraged that the rail stations be snapped to vertices on the rail network using GIS software."
   ]
  },
  {
   "cell_type": "code",
   "execution_count": 2,
   "metadata": {},
   "outputs": [],
   "source": [
    "import sys, os, inspect, logging, importlib\n",
    "\n",
    "import geopandas as gpd\n",
    "import pandas as pd\n",
    "import numpy as np\n",
    "import osmnx as ox\n",
    "import networkx as nx\n",
    "from shapely.ops import split, unary_union\n",
    "from shapely.geometry import box, Point\n",
    "\n",
    "import matplotlib.pyplot as plt"
   ]
  },
  {
   "cell_type": "code",
   "execution_count": 3,
   "metadata": {},
   "outputs": [],
   "source": [
    "#Get reference to OSMNX_POIs\n",
    "sys.path.append(r'../..')\n",
    "from Market_Access import OSMNX_POIs"
   ]
  },
  {
   "cell_type": "code",
   "execution_count": 4,
   "metadata": {},
   "outputs": [
    {
     "name": "stdout",
     "output_type": "stream",
     "text": [
      "networkx version: 2.3 \n",
      "osmnx version: 0.10 \n"
     ]
    }
   ],
   "source": [
    "#Get reference to GOSTNets\n",
    "sys.path.append(r'../../GOSTNets/GOSTNets')\n",
    "import GOSTnet as gn"
   ]
  },
  {
   "cell_type": "code",
   "execution_count": 5,
   "metadata": {},
   "outputs": [],
   "source": [
    "# maybe GOSTRocks is not absolutely needed\n",
    "#Get reference to GOSTRocks\n",
    "# you need to add your own reference here\n",
    "#sys.path.append(r'/media/sf_data')\n",
    "#from GOSTRocks import misc\n",
    "#from GOSTRocks import osmMisc\n",
    "#urbanParams = misc.getUrbanParams()"
   ]
  },
  {
   "cell_type": "markdown",
   "metadata": {},
   "source": [
    "## Mapping travel times from households to jobs\n",
    "\n",
    "We have data for 2,979 households (multiple people are sampled at each household). We are primarily looking to do two kinds of analysis. For both of the analyses described below, we will calculate accessibility according to three modes of transit:\n",
    "1. OSM road network driving with standard road classes\n",
    "2. Rail network (known) with walking to the rail station\n",
    "3. Rail network (known and proposed) with walking to the rail station\n",
    " \n",
    "First, identify the households which have individual work places identified, and calculate their travel time. Second, for every geocoded household, calculate job accessibilitiy indices.\n",
    "\n",
    "1. Distance from residence to work place; estimated travel time\n",
    "          a. Calculate Euclidean distance from house to workplace for each worker \n",
    "          b. Calculate distance from house to workplace using (i) road network; (ii) rail network; (iii) road & rail network \n",
    "          c. Calculate travel time via (a), (b), and (c)\n",
    "\n",
    "2. Index of employment accessibility\n",
    "          a. In addition to the information in 2., we have information on employment, by gender and industry for 88 Sections of Mumbai.\n",
    "          b. We would like to combine this information with household location information from the survey to calculate an index of employment accessibility (separate index for men and women) for each household in the sample.\n",
    "          c. The index would measure number of jobs accessible within a certain distance (or time, conditional on mode). \n"
   ]
  },
  {
   "cell_type": "markdown",
   "metadata": {},
   "source": [
    "Define input data and create a number of output datasets if they do not yet exist"
   ]
  },
  {
   "cell_type": "code",
   "execution_count": 6,
   "metadata": {},
   "outputs": [],
   "source": [
    "inputFolder = r'./input_folder'\n",
    "\n",
    "inJobs = os.path.join(inputFolder, \"GREATER_MUMBAI.shp\")\n",
    "inputRailways = os.path.join(inputFolder, \"Mumbai_Railway_MANUAL_43N.shp\")\n",
    "inputRailstops = os.path.join(inputFolder, \"Mumbai_Railway_stations_MANUAL.shp\")\n",
    "\n",
    "# this data is not public\n",
    "inputFolder2 = r'C:\\Work\\Mumbai_OD'\n",
    "\n",
    "inHouseholds = os.path.join(inputFolder2, \"Home and Work Locations.csv\")\n",
    "inJobDefinition = os.path.join(inputFolder2, \"employment by section.csv\")\n",
    "\n",
    "inJ = gpd.read_file(inJobs)\n",
    "inJD = pd.read_csv(inJobDefinition)\n",
    "inJ = pd.merge(inJ, inJD, left_on=\"WARD_NO\", right_on=\"section\")\n",
    "#inJ.to_file(inJobs.replace(\".shp\", \"_withJobs.shp\"))\n",
    "\n",
    "# Read in the admin boundaries and extract the centroids\n",
    "inJ_cen = inJ.copy()\n",
    "inJ_cen['geometry'] = inJ_cen.centroid\n",
    "\n",
    "outputFolder = r'C:\\Work\\Mumbai_OD\\GOST_Data'\n",
    "if not os.path.exists(outputFolder):\n",
    "    os.makedirs(outputFolder)\n",
    "\n",
    "outRoads = os.path.join(outputFolder, \"OSM_Roads.csv\")\n",
    "outGraph = os.path.join(outputFolder, \"OSM_Roads.pickle\")\n",
    "outRailGraph = os.path.join(outputFolder, \"OSM_Rail.pickle\")\n",
    "outComboGraph = os.path.join(outputFolder, \"OSM_Combo.pickle\")\n",
    "outHouseholds = os.path.join(outputFolder, \"unq_households.csv\")\n",
    "\n",
    "if not os.path.exists(outGraph):\n",
    "    extent = box(*inJ.total_bounds)\n",
    "    G = ox.graph_from_polygon(extent, network_type='drive_service')\n",
    "    # This is how time is calculated from the OSMNX length attribute\n",
    "    G = gn.convert_network_to_time(G, 'length')\n",
    "    nx.write_gpickle(G, outGraph)\n",
    "    roads = gn.edge_gdf_from_graph(G)\n",
    "    roads['highway'] = roads.highway.astype(str)\n",
    "    roads['oneway'] = roads.oneway.astype(int)\n",
    "    roads['OSMLR'] = roads.highway.map(osmMisc.OSMLR_Classes)\n",
    "    roads = roads[['highway','geometry','OSMLR','oneway']]\n",
    "    #print('print roads')\n",
    "    #roads[:10]\n",
    "    roads.to_csv(outRoads)\n",
    "else:\n",
    "    G = nx.read_gpickle(outGraph)    \n",
    "    G = gn.convert_network_to_time(G, 'length')"
   ]
  },
  {
   "cell_type": "code",
   "execution_count": 7,
   "metadata": {},
   "outputs": [
    {
     "name": "stdout",
     "output_type": "stream",
     "text": [
      "(2248802304, 2248802330, {'osmid': 215438684, 'oneway': False, 'length': 66.863, 'highway': 'residential', 'time': 12.035340000000001, 'mode': 'drive'})\n",
      "(2231177689, 2231177714, {'osmid': 50889068, 'highway': 'unclassified', 'name': 'Killeshwar Mahadev Mandir Marg', 'oneway': False, 'length': 75.801, 'geometry': <shapely.geometry.linestring.LineString object at 0x000001D8068A0748>, 'time': 13.644180000000002, 'mode': 'drive'})\n",
      "(2231177689, 2231177588, {'osmid': 213417598, 'highway': 'unclassified', 'oneway': False, 'length': 290.38200000000006, 'geometry': <shapely.geometry.linestring.LineString object at 0x000001D806896710>, 'time': 52.268760000000015, 'mode': 'drive'})\n"
     ]
    }
   ],
   "source": [
    "# double-check the road graph G\n",
    "gn.example_edge(G, 3)"
   ]
  },
  {
   "cell_type": "code",
   "execution_count": null,
   "metadata": {},
   "outputs": [],
   "source": [
    "# double-check the outRoads file\n",
    "#outRoads\n",
    "#df = pd.read_csv(outRoads, encoding='utf-8')\n",
    "#df[:5]"
   ]
  },
  {
   "cell_type": "markdown",
   "metadata": {},
   "source": [
    "### Inspect the input graph from OSMNX to see the input road edges and nodes"
   ]
  },
  {
   "cell_type": "code",
   "execution_count": null,
   "metadata": {},
   "outputs": [],
   "source": [
    "# from shapely.wkt import loads"
   ]
  },
  {
   "cell_type": "code",
   "execution_count": null,
   "metadata": {},
   "outputs": [],
   "source": [
    "# geometry = [loads(x) for x in df.geometry]\n",
    "# print(geometry[0])\n",
    "# crs = {'init': 'epsg:4326'} #http://www.spatialreference.org/ref/epsg/2263/\n",
    "# geo_df = gpd.GeoDataFrame(df, crs=crs, geometry=geometry)\n",
    "# geo_df.to_file(driver='ESRI Shapefile', filename=os.path.join(outputFolder,\"outroads2.shp\"),encoding='utf-8')"
   ]
  },
  {
   "cell_type": "code",
   "execution_count": null,
   "metadata": {},
   "outputs": [],
   "source": [
    "# from shapely.geometry import Point\n",
    "# g_point_gdf = gn.node_gdf_from_graph(G,crs = {'init' :'epsg:4326'})\n",
    "# g_point_gdf.to_file(driver = 'ESRI Shapefile', filename = os.path.join(outputFolder,\"outroads_nodes2.shp\"))"
   ]
  },
  {
   "cell_type": "markdown",
   "metadata": {},
   "source": [
    "### Explore data and count the number of unique households with valid coordinates"
   ]
  },
  {
   "cell_type": "code",
   "execution_count": null,
   "metadata": {},
   "outputs": [],
   "source": [
    "#Identify the unique housing locations\n",
    "if not os.path.exists(outHouseholds):\n",
    "    inH = pd.read_csv(inHouseholds)\n",
    "    householdLocations = pd.DataFrame(inH.groupby('household_id')[['gps_latitude_home', 'gps_longitude_home']].mean())\n",
    "    householdLocations.to_csv(outHouseholds)\n",
    "else:\n",
    "    householdLocations = pd.read_csv(outHouseholds)\n",
    "\n",
    "householdLocations['geometry'] = householdLocations.apply(lambda x: Point(x['gps_longitude_home'], x['gps_latitude_home']), axis=1)\n",
    "hh_gpd = gpd.GeoDataFrame(householdLocations, geometry='geometry')\n",
    "hh_gpd = hh_gpd[hh_gpd['geometry'].apply(lambda x: x.is_valid)]\n",
    "hh_gpd.crs = {'init': u'epsg:4326'}\n",
    "len(hh_gpd)"
   ]
  },
  {
   "cell_type": "markdown",
   "metadata": {},
   "source": [
    "# Generate the rail network\n",
    "## snap the railway stations to the railway line vertices"
   ]
  },
  {
   "cell_type": "code",
   "execution_count": 8,
   "metadata": {},
   "outputs": [
    {
     "name": "stdout",
     "output_type": "stream",
     "text": [
      "check projection inS\n",
      "{'init': 'epsg:32643'}\n",
      "check projection inR\n",
      "{'init': 'epsg:32643'}\n"
     ]
    },
    {
     "name": "stderr",
     "output_type": "stream",
     "text": [
      "../../GOSTNets/GOSTNets\\GOSTnet.py:1699: FutureWarning: Method .as_matrix will be removed in a future version. Use .values instead.\n",
      "  G_tree = spatial.KDTree(target_gdf[['x','y']].as_matrix())\n",
      "../../GOSTNets/GOSTNets\\GOSTnet.py:1701: FutureWarning: Method .as_matrix will be removed in a future version. Use .values instead.\n",
      "  distances, indices = G_tree.query(source_gdf[['x','y']].as_matrix())\n"
     ]
    }
   ],
   "source": [
    "#if not os.path.exists(outRailGraph):\n",
    "\n",
    "#Read in the input railways check for problems, and project\n",
    "inR = gpd.read_file(inputRailways)\n",
    "inR = inR[[r is not None for r in inR.geometry]]\n",
    "if inR.crs == {'init':'epsg:4326'}:\n",
    "    #inR = misc.project_UTM(inR)\n",
    "    print('skip')\n",
    "inR = inR.to_crs({'init': 'epsg:32643'})\n",
    "inR['length'] = inR['geometry'].apply(lambda x: x.length)\n",
    "\n",
    "#Read in the railway stations and project\n",
    "inS = gpd.read_file(inputRailstops)\n",
    "inS = inS[inS['railway'] == \"station\"]\n",
    "#inS_proj = misc.project_UTM(inS)\n",
    "#\n",
    "#inS_proj = {'init'='epsg:32643'}\n",
    "inS_proj = inS.to_crs({'init': 'epsg:32643'})\n",
    "\n",
    "print('check projection inS')\n",
    "print(inS_proj.crs)\n",
    "\n",
    "print('check projection inR')\n",
    "print(inR.crs)\n",
    "\n",
    "#Generate the Rail network from the rail shapefile\n",
    "allRailLines = unary_union(inR['geometry'])\n",
    "\n",
    "bag_of_points,ids = [],[]\n",
    "id_ = 0\n",
    "for r in allRailLines.geoms:\n",
    "    for q in r.coords:\n",
    "        bag_of_points.append(q)\n",
    "        ids.append(id_)\n",
    "        id_+=1\n",
    "\n",
    "df_temp = pd.DataFrame(({'ids':ids,'geometry':bag_of_points}))\n",
    "df_temp['geometry'] = df_temp['geometry'].apply(Point)\n",
    "gdf_temp = gpd.GeoDataFrame(df_temp, crs = inR.crs, geometry = 'geometry')\n",
    "\n",
    "# for testing temporarily export rail bag of points\n",
    "#gdf_temp.to_file(driver = 'ESRI Shapefile', filename = 'pre_railine_points3.shp' )\n",
    "\n",
    "# for testing temporarily export rail stations\n",
    "#inS_proj.to_file(driver = 'ESRI Shapefile', filename = 'pre_station_points3.shp' )\n",
    "\n",
    "# the source_crs should be the same proj than both the input graph and input geodataframe of points\n",
    "# the rail points need to be snapped to the rail because later the snapped points will be used to split the rail\n",
    "inS_proj_snapped = gn.pandana_snap_points(inS_proj, \n",
    "                                          gdf_temp, \n",
    "                                          source_crs = 'epsg:32643', \n",
    "                                          target_crs = 'epsg:32643',\n",
    "                                          add_dist_to_node_col = True)\n",
    "\n",
    "inS_proj_snapped_temp = inS_proj_snapped.drop_duplicates('NN')\n",
    "\n",
    "# When the rail stations are snapped to the nearest node in the dataframe it is keeping the original geometries\n",
    "# and it is adding only the NN id and the NN_distance columns\n",
    "\n",
    "# Therefore join to the rail gdf to add the geometries of the nodes snapped to\n",
    "inS_proj_snapped_temp = inS_proj_snapped_temp.rename(columns={\"geometry\": \"original_geometry\"})\n",
    "inS_proj_snapped_temp_joined = inS_proj_snapped_temp.set_index('NN').join(gdf_temp.set_index('ids'))\n",
    "inS_proj_snapped_temp_joined = inS_proj_snapped_temp_joined.reset_index()\n",
    "\n",
    "# note when I had both original_geometry and geometry columns there was an error in outputting a shapefile\n",
    "# it must have been confused with two geometry columns, therefore I am dropping the 'original_geometry' column\n",
    "inS_proj_snapped_temp_joined_slim = inS_proj_snapped_temp_joined.drop(columns=\"original_geometry\")\n",
    "inS_proj_snapped_temp_joined_slim\n",
    "\n",
    "#inS_proj_snapped_temp.keys()\n",
    "\n",
    "inS_proj_snapped_temp_joined_geo = gpd.GeoDataFrame(inS_proj_snapped_temp_joined_slim, crs = inS_proj.crs, geometry = 'geometry')\n",
    "# preview the snapped rail stations\n",
    "inS_proj_snapped_temp_joined_geo.to_file(driver = 'ESRI Shapefile', filename = 'snapped_rail_stations3.shp' )"
   ]
  },
  {
   "cell_type": "code",
   "execution_count": 9,
   "metadata": {},
   "outputs": [
    {
     "data": {
      "text/html": [
       "<div>\n",
       "<style scoped>\n",
       "    .dataframe tbody tr th:only-of-type {\n",
       "        vertical-align: middle;\n",
       "    }\n",
       "\n",
       "    .dataframe tbody tr th {\n",
       "        vertical-align: top;\n",
       "    }\n",
       "\n",
       "    .dataframe thead th {\n",
       "        text-align: right;\n",
       "    }\n",
       "</style>\n",
       "<table border=\"1\" class=\"dataframe\">\n",
       "  <thead>\n",
       "    <tr style=\"text-align: right;\">\n",
       "      <th></th>\n",
       "      <th>NN</th>\n",
       "      <th>full_id</th>\n",
       "      <th>osm_id</th>\n",
       "      <th>osm_type</th>\n",
       "      <th>name</th>\n",
       "      <th>network</th>\n",
       "      <th>railway</th>\n",
       "      <th>ref</th>\n",
       "      <th>wikidata</th>\n",
       "      <th>wikipedia</th>\n",
       "      <th>...</th>\n",
       "      <th>short_name</th>\n",
       "      <th>constructi</th>\n",
       "      <th>disused</th>\n",
       "      <th>proposed</th>\n",
       "      <th>alt_name_h</th>\n",
       "      <th>name_pa</th>\n",
       "      <th>highway</th>\n",
       "      <th>traffic_si</th>\n",
       "      <th>NN_dist</th>\n",
       "      <th>geometry</th>\n",
       "    </tr>\n",
       "  </thead>\n",
       "  <tbody>\n",
       "    <tr>\n",
       "      <th>0</th>\n",
       "      <td>287</td>\n",
       "      <td>n213030669</td>\n",
       "      <td>213030669</td>\n",
       "      <td>node</td>\n",
       "      <td>Dahisar</td>\n",
       "      <td>None</td>\n",
       "      <td>station</td>\n",
       "      <td>DIC</td>\n",
       "      <td>Q5208848</td>\n",
       "      <td>en:Dahisar railway station</td>\n",
       "      <td>...</td>\n",
       "      <td>None</td>\n",
       "      <td>None</td>\n",
       "      <td>None</td>\n",
       "      <td>None</td>\n",
       "      <td>None</td>\n",
       "      <td>None</td>\n",
       "      <td>None</td>\n",
       "      <td>None</td>\n",
       "      <td>27.096695</td>\n",
       "      <td>POINT (275001.0781111507 2129854.901504613)</td>\n",
       "    </tr>\n",
       "    <tr>\n",
       "      <th>1</th>\n",
       "      <td>623</td>\n",
       "      <td>n213030714</td>\n",
       "      <td>213030714</td>\n",
       "      <td>node</td>\n",
       "      <td>Santacruz</td>\n",
       "      <td>IR</td>\n",
       "      <td>station</td>\n",
       "      <td>STC</td>\n",
       "      <td>Q7420001</td>\n",
       "      <td>en:Santacruz railway station</td>\n",
       "      <td>...</td>\n",
       "      <td>None</td>\n",
       "      <td>None</td>\n",
       "      <td>None</td>\n",
       "      <td>None</td>\n",
       "      <td>None</td>\n",
       "      <td>None</td>\n",
       "      <td>None</td>\n",
       "      <td>None</td>\n",
       "      <td>37.092462</td>\n",
       "      <td>POINT (272926.0703397002 2111281.305015021)</td>\n",
       "    </tr>\n",
       "    <tr>\n",
       "      <th>2</th>\n",
       "      <td>624</td>\n",
       "      <td>n347138797</td>\n",
       "      <td>347138797</td>\n",
       "      <td>node</td>\n",
       "      <td>Khar Road</td>\n",
       "      <td>IR</td>\n",
       "      <td>station</td>\n",
       "      <td>KHAR</td>\n",
       "      <td>Q372596</td>\n",
       "      <td>en:Khar Road railway station</td>\n",
       "      <td>...</td>\n",
       "      <td>None</td>\n",
       "      <td>None</td>\n",
       "      <td>None</td>\n",
       "      <td>None</td>\n",
       "      <td>None</td>\n",
       "      <td>None</td>\n",
       "      <td>None</td>\n",
       "      <td>None</td>\n",
       "      <td>0.000000</td>\n",
       "      <td>POINT (272701.2495459113 2109935.380538935)</td>\n",
       "    </tr>\n",
       "    <tr>\n",
       "      <th>3</th>\n",
       "      <td>212</td>\n",
       "      <td>n619280071</td>\n",
       "      <td>619280071</td>\n",
       "      <td>node</td>\n",
       "      <td>Wadala Road</td>\n",
       "      <td>IR</td>\n",
       "      <td>station</td>\n",
       "      <td>VDLR</td>\n",
       "      <td>Q7958939</td>\n",
       "      <td>en:Vadala Road railway station</td>\n",
       "      <td>...</td>\n",
       "      <td>None</td>\n",
       "      <td>None</td>\n",
       "      <td>None</td>\n",
       "      <td>None</td>\n",
       "      <td>None</td>\n",
       "      <td>None</td>\n",
       "      <td>None</td>\n",
       "      <td>None</td>\n",
       "      <td>25.964384</td>\n",
       "      <td>POINT (274654.9179273124 2104012.971955875)</td>\n",
       "    </tr>\n",
       "    <tr>\n",
       "      <th>4</th>\n",
       "      <td>277</td>\n",
       "      <td>n619992025</td>\n",
       "      <td>619992025</td>\n",
       "      <td>node</td>\n",
       "      <td>Kanjurmarg</td>\n",
       "      <td>IR</td>\n",
       "      <td>station</td>\n",
       "      <td>KJRD</td>\n",
       "      <td>Q6363526</td>\n",
       "      <td>en:Kanjurmarg railway station</td>\n",
       "      <td>...</td>\n",
       "      <td>None</td>\n",
       "      <td>None</td>\n",
       "      <td>None</td>\n",
       "      <td>None</td>\n",
       "      <td>None</td>\n",
       "      <td>None</td>\n",
       "      <td>None</td>\n",
       "      <td>None</td>\n",
       "      <td>5.935065</td>\n",
       "      <td>POINT (282073.3855235677 2116318.402315072)</td>\n",
       "    </tr>\n",
       "  </tbody>\n",
       "</table>\n",
       "<p>5 rows × 57 columns</p>\n",
       "</div>"
      ],
      "text/plain": [
       "    NN     full_id     osm_id osm_type         name network  railway   ref  \\\n",
       "0  287  n213030669  213030669     node      Dahisar    None  station   DIC   \n",
       "1  623  n213030714  213030714     node    Santacruz      IR  station   STC   \n",
       "2  624  n347138797  347138797     node    Khar Road      IR  station  KHAR   \n",
       "3  212  n619280071  619280071     node  Wadala Road      IR  station  VDLR   \n",
       "4  277  n619992025  619992025     node   Kanjurmarg      IR  station  KJRD   \n",
       "\n",
       "   wikidata                       wikipedia  ... short_name constructi  \\\n",
       "0  Q5208848      en:Dahisar railway station  ...       None       None   \n",
       "1  Q7420001    en:Santacruz railway station  ...       None       None   \n",
       "2   Q372596    en:Khar Road railway station  ...       None       None   \n",
       "3  Q7958939  en:Vadala Road railway station  ...       None       None   \n",
       "4  Q6363526   en:Kanjurmarg railway station  ...       None       None   \n",
       "\n",
       "  disused proposed alt_name_h name_pa highway traffic_si    NN_dist  \\\n",
       "0    None     None       None    None    None       None  27.096695   \n",
       "1    None     None       None    None    None       None  37.092462   \n",
       "2    None     None       None    None    None       None   0.000000   \n",
       "3    None     None       None    None    None       None  25.964384   \n",
       "4    None     None       None    None    None       None   5.935065   \n",
       "\n",
       "                                      geometry  \n",
       "0  POINT (275001.0781111507 2129854.901504613)  \n",
       "1  POINT (272926.0703397002 2111281.305015021)  \n",
       "2  POINT (272701.2495459113 2109935.380538935)  \n",
       "3  POINT (274654.9179273124 2104012.971955875)  \n",
       "4  POINT (282073.3855235677 2116318.402315072)  \n",
       "\n",
       "[5 rows x 57 columns]"
      ]
     },
     "execution_count": 9,
     "metadata": {},
     "output_type": "execute_result"
    }
   ],
   "source": [
    "inS_proj_snapped_temp_joined_geo[:5]"
   ]
  },
  {
   "cell_type": "code",
   "execution_count": 10,
   "metadata": {},
   "outputs": [],
   "source": [
    "bag_of_relevant_points = unary_union(inS_proj_snapped_temp_joined_geo.geometry)"
   ]
  },
  {
   "cell_type": "markdown",
   "metadata": {},
   "source": [
    "## Split up the railway lines, then re-build it as a graph"
   ]
  },
  {
   "cell_type": "code",
   "execution_count": 11,
   "metadata": {},
   "outputs": [
    {
     "name": "stdout",
     "output_type": "stream",
     "text": [
      "print count of split geometries\n",
      "90\n"
     ]
    }
   ],
   "source": [
    "# a shapely.ops function\n",
    "split_geoms = split(allRailLines, bag_of_relevant_points)\n",
    "\n",
    "print('print count of split geometries')\n",
    "print(len(split_geoms))\n",
    "\n",
    "geom_bag = []\n",
    "\n",
    "for geom in split_geoms:\n",
    "    g = geom.coords[0]\n",
    "    h = geom.coords[-1]\n",
    "    geom_bag.append(str(g))\n",
    "    geom_bag.append(str(h))\n",
    "\n",
    "ref = pd.DataFrame({'node_ids':range(0, len(geom_bag)),'geoms':geom_bag})\n",
    "ref = ref.drop_duplicates('geoms')\n",
    "ref = ref.set_index('geoms')\n",
    "\n",
    "nodes = []\n",
    "edges = []\n",
    "\n",
    "for geom in split_geoms:\n",
    "    u_data,v_data,edge_data = {},{},{}\n",
    "\n",
    "    # start node\n",
    "    # it is getting a reference to that node's coords\n",
    "    u = ref['node_ids'].loc[str(geom.coords[0])]\n",
    "    u_data['x'] = geom.coords[0][0]\n",
    "    u_data['y'] = geom.coords[0][1]\n",
    "    u_data['geom'] = Point(geom.coords[0])\n",
    "    #u_data['string'] = str(geom.coords[0])\n",
    "\n",
    "    # end node\n",
    "    v = ref['node_ids'].loc[str(geom.coords[-1])]\n",
    "    v_data['x'] = geom.coords[-1][0]\n",
    "    v_data['y'] = geom.coords[-1][1]\n",
    "    v_data['geom'] = Point(geom.coords[-1])\n",
    "    #v_data['string'] = str(geom.coords[-1])\n",
    "\n",
    "    # edge\n",
    "    edge_data['geom'] = geom\n",
    "    edge_data['length'] = geom.length\n",
    "\n",
    "    nodes.append((u,u_data))\n",
    "    nodes.append((v,v_data))\n",
    "    edges.append((u,v,edge_data))\n",
    "    edges.append((v,u,edge_data))\n",
    "\n",
    "    id_ += 2\n",
    "\n",
    "G_rail = nx.MultiDiGraph()\n",
    "G_rail.add_nodes_from(nodes)\n",
    "G_rail.add_edges_from(edges)\n",
    "nx.write_gpickle(G_rail, outRailGraph)\n",
    "#else:\n",
    "    #G_rail = nx.read_gpickle(outRailGraph) "
   ]
  },
  {
   "cell_type": "code",
   "execution_count": 12,
   "metadata": {},
   "outputs": [
    {
     "name": "stdout",
     "output_type": "stream",
     "text": [
      "(0, 1, {'geom': <shapely.geometry.linestring.LineString object at 0x000001D8075E02B0>, 'length': 1388.5881250266714})\n",
      "(1, 0, {'geom': <shapely.geometry.linestring.LineString object at 0x000001D8075E02B0>, 'length': 1388.5881250266714})\n",
      "(1, 3, {'geom': <shapely.geometry.linestring.LineString object at 0x000001D8075E0668>, 'length': 813.970393479693})\n"
     ]
    }
   ],
   "source": [
    "gn.example_edge(G_rail, 3)"
   ]
  },
  {
   "cell_type": "code",
   "execution_count": 13,
   "metadata": {},
   "outputs": [
    {
     "name": "stdout",
     "output_type": "stream",
     "text": [
      "(0, {'x': 272122.66290875676, 'y': 2095693.7796779373, 'geom': <shapely.geometry.point.Point object at 0x000001D806821278>})\n",
      "(1, {'x': 272366.8491270583, 'y': 2097048.817394499, 'geom': <shapely.geometry.point.Point object at 0x000001D8075E05F8>})\n",
      "(3, {'x': 272508.91797400825, 'y': 2097844.3993548118, 'geom': <shapely.geometry.point.Point object at 0x000001D807613A58>})\n"
     ]
    }
   ],
   "source": [
    "gn.example_node(G_rail, 3)"
   ]
  },
  {
   "cell_type": "markdown",
   "metadata": {},
   "source": [
    "## visualize network"
   ]
  },
  {
   "cell_type": "code",
   "execution_count": 14,
   "metadata": {},
   "outputs": [
    {
     "name": "stderr",
     "output_type": "stream",
     "text": [
      "C:\\WBG\\Anaconda\\envs\\gost\\lib\\site-packages\\networkx\\drawing\\nx_pylab.py:579: MatplotlibDeprecationWarning: \n",
      "The iterable function was deprecated in Matplotlib 3.1 and will be removed in 3.3. Use np.iterable instead.\n",
      "  if not cb.iterable(width):\n",
      "C:\\WBG\\Anaconda\\envs\\gost\\lib\\site-packages\\networkx\\drawing\\nx_pylab.py:676: MatplotlibDeprecationWarning: \n",
      "The iterable function was deprecated in Matplotlib 3.1 and will be removed in 3.3. Use np.iterable instead.\n",
      "  if cb.iterable(node_size):  # many node sizes\n"
     ]
    },
    {
     "data": {
      "image/png": "[encoded data removed]",
      "text/plain": [
       "<Figure size 432x288 with 1 Axes>"
      ]
     },
     "metadata": {},
     "output_type": "display_data"
    }
   ],
   "source": [
    "nx.draw(G_rail)"
   ]
  },
  {
   "cell_type": "markdown",
   "metadata": {},
   "source": [
    "### Tests for the validity of the rail graph"
   ]
  },
  {
   "cell_type": "code",
   "execution_count": 15,
   "metadata": {
    "scrolled": false
   },
   "outputs": [],
   "source": [
    "# this is a test to export a shapefile for testing\n",
    "list_of_Gs = list((nx.strongly_connected_component_subgraphs(G_rail)))\n",
    "sz = 0\n",
    "largest_G = list_of_Gs[0]\n",
    "count = 0\n",
    "for g in list_of_Gs:\n",
    "    curSize = g.size()\n",
    "    #print(curSize)\n",
    "    if curSize > sz:\n",
    "        largest_G = g\n",
    "        sz = curSize\n",
    "    #g_gdf = gn.edge_gdf_from_graph(g,crs = {'init' :'epsg:32643'})\n",
    "    g_gdf = gn.edge_gdf_from_graph(g,crs = {'init' :'epsg:32643'})\n",
    "    # for some reason has both a geom and geometry column\n",
    "    g_gdf = g_gdf.drop(columns=['geom'])\n",
    "    #print(g_gdf)\n",
    "    filename = 'g_rail_gdf_test_%d.shp' % count\n",
    "    #print(filename)\n",
    "    g_gdf.to_file(driver = 'ESRI Shapefile', filename = filename )\n",
    "    count += 1\n",
    "    #print(count)\n",
    "#G_rail_largest = largest_G\n",
    "#G_rail_largest"
   ]
  },
  {
   "cell_type": "code",
   "execution_count": 16,
   "metadata": {},
   "outputs": [
    {
     "name": "stdout",
     "output_type": "stream",
     "text": [
      "(0, {'x': 272122.66290875676, 'y': 2095693.7796779373, 'geom': <shapely.geometry.point.Point object at 0x000001D806821278>})\n",
      "(1, {'x': 272366.8491270583, 'y': 2097048.817394499, 'geom': <shapely.geometry.point.Point object at 0x000001D8075E05F8>})\n",
      "(3, {'x': 272508.91797400825, 'y': 2097844.3993548118, 'geom': <shapely.geometry.point.Point object at 0x000001D807613A58>})\n"
     ]
    }
   ],
   "source": [
    "gn.example_node(G_rail, 3)"
   ]
  },
  {
   "cell_type": "markdown",
   "metadata": {},
   "source": [
    "### Need to convert the graph node coordinates from UTM to WGS84"
   ]
  },
  {
   "cell_type": "code",
   "execution_count": 17,
   "metadata": {},
   "outputs": [
    {
     "name": "stdout",
     "output_type": "stream",
     "text": [
      "networkx version: 2.3 \n",
      "osmnx version: 0.10 \n"
     ]
    },
    {
     "data": {
      "text/plain": [
       "<module 'GOSTnet' from '../../GOSTNets/GOSTNets\\\\GOSTnet.py'>"
      ]
     },
     "execution_count": 17,
     "metadata": {},
     "output_type": "execute_result"
    }
   ],
   "source": [
    "import importlib\n",
    "importlib.reload(gn)"
   ]
  },
  {
   "cell_type": "code",
   "execution_count": 18,
   "metadata": {},
   "outputs": [],
   "source": [
    "# tested with one function before wrote the reproject_graph function\n",
    "# from shapely.geometry import Point\n",
    "# sample_point = Point(271620.51371866115,2101816.267494734)\n",
    "\n",
    "# from shapely.ops import transform\n",
    "# from functools import partial\n",
    "# import pyproj\n",
    "\n",
    "# project_WGS_UTM = partial(\n",
    "#                 pyproj.transform,\n",
    "#                 pyproj.Proj(init='epsg:32643'),\n",
    "#                 pyproj.Proj(init='epsg:4326'))\n",
    "\n",
    "# print(transform(project_WGS_UTM,sample_point))"
   ]
  },
  {
   "cell_type": "code",
   "execution_count": 19,
   "metadata": {},
   "outputs": [],
   "source": [
    "G_rail_4326 = gn.reproject_graph(G_rail, 'epsg:32643', 'epsg:4326')"
   ]
  },
  {
   "cell_type": "code",
   "execution_count": 20,
   "metadata": {},
   "outputs": [
    {
     "name": "stdout",
     "output_type": "stream",
     "text": [
      "(0, {'x': 72.8360633305759, 'y': 18.940975234799453, 'geom': <shapely.geometry.point.Point object at 0x000001D8067D20B8>})\n",
      "(1, {'x': 72.83822328429102, 'y': 18.953239981677317, 'geom': <shapely.geometry.point.Point object at 0x000001D8067D2E48>})\n",
      "(3, {'x': 72.83947921893387, 'y': 18.960440822411584, 'geom': <shapely.geometry.point.Point object at 0x000001D8067D27F0>})\n",
      "(4, {'x': 72.8435321130054, 'y': 19.01751641049149, 'geom': <shapely.geometry.point.Point object at 0x000001D8067D2EB8>})\n",
      "(5, {'x': 72.8376614, 'y': 19.0094817, 'geom': <shapely.geometry.point.Point object at 0x000001D801A1D748>})\n",
      "(7, {'x': 72.84434387789514, 'y': 18.96732091413225, 'geom': <shapely.geometry.point.Point object at 0x000001D8072E41D0>})\n",
      "(9, {'x': 72.84414412090767, 'y': 18.978120836025383, 'geom': <shapely.geometry.point.Point object at 0x000001D8072E4208>})\n",
      "(11, {'x': 72.8440871427147, 'y': 18.987273139187, 'geom': <shapely.geometry.point.Point object at 0x000001D8072E4240>})\n"
     ]
    }
   ],
   "source": [
    "G_rail_4326\n",
    "gn.example_node(G_rail, 8)"
   ]
  },
  {
   "cell_type": "markdown",
   "metadata": {},
   "source": [
    "#### You can see that the coordinates of the road network are already in WGS84"
   ]
  },
  {
   "cell_type": "code",
   "execution_count": 21,
   "metadata": {},
   "outputs": [
    {
     "name": "stdout",
     "output_type": "stream",
     "text": [
      "(2248802304, {'osmid': 2248802304, 'y': 19.0543562, 'x': 72.9334716})\n",
      "(2231177689, {'osmid': 2231177689, 'y': 19.1347279, 'x': 72.7938162})\n",
      "(1184044163, {'osmid': 1184044163, 'y': 19.1894556, 'x': 72.9630511})\n"
     ]
    }
   ],
   "source": [
    "gn.example_node(G, 3)"
   ]
  },
  {
   "cell_type": "markdown",
   "metadata": {},
   "source": [
    "## Set the rail speed and station wait time and merge the rail and road networks together"
   ]
  },
  {
   "cell_type": "code",
   "execution_count": 22,
   "metadata": {},
   "outputs": [
    {
     "name": "stdout",
     "output_type": "stream",
     "text": [
      "print inR.crs\n",
      "epsg:32643\n",
      "print G\n",
      "67116\n",
      "print G_rail size\n",
      "180\n"
     ]
    },
    {
     "name": "stderr",
     "output_type": "stream",
     "text": [
      "../../GOSTNets/GOSTNets\\GOSTnet.py:1645: FutureWarning: Method .as_matrix will be removed in a future version. Use .values instead.\n",
      "  G_tree = spatial.KDTree(node_gdf[['x','y']].as_matrix())\n",
      "../../GOSTNets/GOSTNets\\GOSTnet.py:1647: FutureWarning: Method .as_matrix will be removed in a future version. Use .values instead.\n",
      "  distances, indices = G_tree.query(in_df[['x','y']].as_matrix())\n"
     ]
    },
    {
     "name": "stdout",
     "output_type": "stream",
     "text": [
      "print G_combo size\n",
      "71018\n"
     ]
    }
   ],
   "source": [
    "print('print inR.crs')\n",
    "print(inR.crs['init'])\n",
    "\n",
    "#inR = inR.to_crs({'init': 'epsg:4326'})\n",
    "\n",
    "list_of_Gs = list((nx.strongly_connected_component_subgraphs(G)))\n",
    "sz = 0\n",
    "largest_G = list_of_Gs[0]\n",
    "for g in list_of_Gs:\n",
    "    curSize = g.size()\n",
    "    if curSize > sz:\n",
    "        largest_G = g\n",
    "        sz = curSize\n",
    "G = largest_G\n",
    "print('print G')\n",
    "print(sz)\n",
    "\n",
    "print('print G_rail size')\n",
    "print(G_rail.size())\n",
    "\n",
    "#os.remove(outComboGraph)\n",
    "#if not os.path.exists(outComboGraph):\n",
    "\n",
    "##Required parameters in processing rail network\n",
    "#railSpeed = 45 #kph\n",
    "#station_wait = 120 #seconds\n",
    "railSpeed = 50 #kph\n",
    "station_wait = 15 #seconds\n",
    "walk_speed = 1.5\n",
    "\n",
    "#Convert Rail network length to time\n",
    "for u, v, data in G_rail.edges(data=True):\n",
    "    data['mode'] = 'rail'\n",
    "    data['rail_time'] = ((data['length']/1000 / railSpeed) * 60 * 60) + station_wait\n",
    "    data['time'] = 999999999 # driving time\n",
    "    # the best time on the rail edges will be the rail times\n",
    "    data['road_and_rail_time'] = ((data['length']/1000 / railSpeed) * 60 * 60) + station_wait\n",
    "\n",
    "#Read in road network, calculate     \n",
    "G = gn.convert_network_to_time(G, 'length') #Applies standard road speeds from OSM\n",
    "\n",
    "for u, v, data in G.edges(data=True):\n",
    "    data['mode'] = 'road'\n",
    "    #Set the rail_time to walking time for the road network\n",
    "    data['rail_time'] = ((data['length']/1000 / walk_speed) * 60 * 60)\n",
    "    # the best time on the road edges will be the road times\n",
    "    data['road_and_rail_time'] = data['time']\n",
    "\n",
    "#Bind the graphs together\n",
    "# There was problem with this originally. It seems like the GOSTNets function needs the input graphs to be in 4326\n",
    "# but G_rail was in UTM\n",
    "\n",
    "# join_networks will join the networks where the rail nodes (which are the stations) meet the road network nodes \n",
    "# within the threshold\n",
    "# G_combo = gn.join_networks(G, G_rail, measure_crs=32643, thresh=300)\n",
    "G_combo = gn.join_networks(G_rail,G,measure_crs=32643, thresh=300)\n",
    "nx.write_gpickle(G_combo, outComboGraph)\n",
    "\n",
    "#else:\n",
    "#    G_combo = nx.read_gpickle(outComboGraph)\n",
    "    \n",
    "#Extract largest subgraph\n",
    "list_of_Gs = list((nx.strongly_connected_component_subgraphs(G_combo)))\n",
    "sz = 0\n",
    "largest_G = list_of_Gs[0]\n",
    "for g in list_of_Gs:\n",
    "    curSize = g.size()\n",
    "    if curSize > sz:\n",
    "        largest_G = g\n",
    "        sz = curSize\n",
    "G_combo = largest_G\n",
    "print('print G_combo size')\n",
    "print(sz)"
   ]
  },
  {
   "cell_type": "markdown",
   "metadata": {},
   "source": [
    "#### Inspect the output of the combo graph"
   ]
  },
  {
   "cell_type": "code",
   "execution_count": null,
   "metadata": {},
   "outputs": [],
   "source": [
    "G_combo\n",
    "i = list(G_combo.edges(data = True))[66700]\n",
    "i"
   ]
  },
  {
   "cell_type": "markdown",
   "metadata": {},
   "source": [
    "### Test to visually inspect the joined graph (optional)"
   ]
  },
  {
   "cell_type": "code",
   "execution_count": null,
   "metadata": {},
   "outputs": [],
   "source": [
    "# inspect G_combo\n",
    "#g_combo_gdf = gn.edge_gdf_from_graph(G_combo,crs = {'init' :'epsg:4326'})\n",
    "# for some reason has both a geom and geometry column\n",
    "#g_combo_gdf = g_combo_gdf.drop(columns=['geom','osmid','junction', 'ref','lanes', 'bridge',\n",
    "#       'maxspeed', 'width', 'access','Wkt', 'infra_type','time', 'road_and_rail_time', 'rail_time',\n",
    "#       'highway', 'oneway', 'service', 'length', 'name', 'mode', 'tunnel'])\n",
    "#print(g_combo_gdf.keys())\n",
    "#print(g_combo_gdf)\n",
    "#g_combo_gdf.to_file(driver = 'ESRI Shapefile', filename = 'g_combo4.shp' )"
   ]
  },
  {
   "cell_type": "markdown",
   "metadata": {},
   "source": [
    "## Run analysis 1 - Distance from each individual to work"
   ]
  },
  {
   "cell_type": "code",
   "execution_count": null,
   "metadata": {},
   "outputs": [],
   "source": [
    "# 1. Distance from residence to work place; estimated travel time\n",
    "#          a. Calculate Euclidean distance from house to workplace for each worker \n",
    "#          b. Calculate travel time from house to workplace using (i) road network; (ii) rail network ; (iii) road & rail network\n",
    "inH = pd.read_csv(inHouseholds)\n",
    "#Get reference to the individuals who work and get nodes\n",
    "hh = inH[~inH['Ward in Which Person Works'].isnull()]\n",
    "hh['geometry'] = hh.apply(lambda x: Point(x['gps_longitude_home'], x['gps_latitude_home']), axis=1)\n",
    "hh = gpd.GeoDataFrame(hh, geometry=\"geometry\")\n",
    "hh.crs = {'init': 'epsg:4326'}\n",
    "hh = hh.reset_index()\n",
    "hh = hh[[x.is_valid for x in hh['geometry']]]\n",
    "\n",
    "#look into warning below\n",
    "# snapping each individual location to the combo graph\n",
    "hh_nn = gn.pandana_snap(G_combo, hh)\n",
    "hh_nn = hh_nn[['individual_id','Ward in Which Person Works','NN', 'gps_latitude_home','gps_longitude_home']]\n",
    "hh_nn.columns = ['individual_id', \"WARD_NO\",\"hhNN\", \"hhlat\", \"hhlon\"]\n",
    "\n",
    "print('hh_nn count')\n",
    "print(len(hh_nn.index))"
   ]
  },
  {
   "cell_type": "code",
   "execution_count": null,
   "metadata": {},
   "outputs": [],
   "source": [
    "#hh\n",
    "#inJ_cen"
   ]
  },
  {
   "cell_type": "code",
   "execution_count": null,
   "metadata": {},
   "outputs": [],
   "source": [
    "# Get nodes for the input admin\n",
    "# snapping the employment by ward centroids to the combo graph\n",
    "det_nn = gn.pandana_snap(G_combo, inJ_cen)\n",
    "det_nn = det_nn[['WARD_NO', 'NN', 'geometry']]\n",
    "# make a lat and lon column from the det_nn geometry column\n",
    "det_nn_gpd = gpd.GeoDataFrame(det_nn, geometry=\"geometry\")\n",
    "det_nn_gpd['detlat'] = det_nn_gpd['geometry'].y\n",
    "det_nn_gpd['detlon'] = det_nn_gpd['geometry'].x\n",
    "det_nn_gpd.columns = ['WARD_NO', \"wardNN\", \"geometry\", \"detlat\", \"detlon\"]\n",
    "det_nn_gpd = det_nn_gpd.drop(columns=\"geometry\")"
   ]
  },
  {
   "cell_type": "code",
   "execution_count": null,
   "metadata": {},
   "outputs": [],
   "source": [
    "det_nn_gpd[:5]"
   ]
  },
  {
   "cell_type": "code",
   "execution_count": null,
   "metadata": {},
   "outputs": [],
   "source": [
    "print('det_nn count')\n",
    "print(len(det_nn.index))\n",
    "\n",
    "# Combine Data\n",
    "# The default is 'inner', which is like a SQL inner join, which selects all rows from both tables as long as there is a match between the columns\n",
    "# In this case, only the rows that contain WARD_NO values that are common between hh_nn and det_nn remain in the merged data\n",
    "# This can explain how there are less rows after the merge, for example the '99' ward values don't exist in the ward centroids dataset\n",
    "comboData = pd.merge(hh_nn, det_nn_gpd, on='WARD_NO')\n",
    "\n",
    "print('comboData count')\n",
    "print(len(comboData.index))"
   ]
  },
  {
   "cell_type": "code",
   "execution_count": null,
   "metadata": {},
   "outputs": [],
   "source": [
    "comboData[:5]"
   ]
  },
  {
   "cell_type": "code",
   "execution_count": null,
   "metadata": {},
   "outputs": [],
   "source": [
    "import importlib\n",
    "importlib.reload(gn)"
   ]
  },
  {
   "cell_type": "code",
   "execution_count": null,
   "metadata": {},
   "outputs": [],
   "source": [
    "# Driving, Rail, and Driving & Rail distance from the individual to their workplace\n",
    "drive_Vals = []\n",
    "rail_Vals = []\n",
    "drive_and_rail_Vals = []\n",
    "euclidean_Vals = []\n",
    "for idx, row in comboData.iterrows():\n",
    "    distance1 = nx.shortest_path_length(G_combo, row['hhNN'], row['wardNN'], weight='time')\n",
    "    drive_Vals.append(distance1)\n",
    "comboData['driveToWork'] = drive_Vals\n",
    "for idx, row in comboData.iterrows():\n",
    "    distance2 = nx.shortest_path_length(G_combo, row['hhNN'], row['wardNN'], weight='rail_time')\n",
    "    rail_Vals.append(distance2)\n",
    "comboData['railToWork'] = rail_Vals\n",
    "for idx, row in comboData.iterrows():\n",
    "    distance3 = nx.shortest_path_length(G_combo, row['hhNN'], row['wardNN'], weight='road_and_rail_time')\n",
    "    drive_and_rail_Vals.append(distance3)\n",
    "comboData['DriveandRailToWork'] = drive_and_rail_Vals\n",
    "for idx, row in comboData.iterrows():\n",
    "    euclidean_distance = gn.euclidean_distance(row['hhlat'], row['hhlon'], row['detlat'], row['detlon'])\n",
    "    euclidean_Vals.append(euclidean_distance)\n",
    "comboData['euclidean_distance'] = euclidean_Vals\n",
    "xx = pd.merge(inH, comboData, on='individual_id', how='left')\n",
    "xx.to_csv(inHouseholds.replace(\".csv\", \"_all_Distances.csv\"))"
   ]
  },
  {
   "cell_type": "markdown",
   "metadata": {},
   "source": [
    "## Run analysis 2 - household access index"
   ]
  },
  {
   "cell_type": "code",
   "execution_count": null,
   "metadata": {},
   "outputs": [],
   "source": [
    "#Identify the originNodes\n",
    "hh_nn = gn.pandana_snap(G_combo, hh_gpd)\n",
    "originNodes = hh_nn['NN'].unique()"
   ]
  },
  {
   "cell_type": "code",
   "execution_count": null,
   "metadata": {},
   "outputs": [],
   "source": [
    "#Identify destinationNodes\n",
    "det_nn = gn.pandana_snap(G_combo, inJ_cen)\n",
    "destNodes = det_nn['NN'].unique()"
   ]
  },
  {
   "cell_type": "code",
   "execution_count": null,
   "metadata": {},
   "outputs": [],
   "source": [
    "#Calculate OD matrix\n",
    "od_driving = gn.calculate_OD(G_combo, originNodes, destNodes, fail_value=-1, weight='time')\n",
    "od_rail = gn.calculate_OD(G_combo, originNodes, destNodes, fail_value=-1, weight='rail_time')\n",
    "od_driving_and_rail = gn.calculate_OD(G_combo, originNodes, destNodes, fail_value=-1, weight='road_and_rail_time')"
   ]
  },
  {
   "cell_type": "code",
   "execution_count": null,
   "metadata": {},
   "outputs": [],
   "source": [
    "# Calculate the gravity weighted jobs access for driving & rail, as well as for total workers, male, and female)\n",
    "# note that the origins do not have weights in this scenario\n",
    "hh_out = hh_nn.copy()\n",
    "results = {}\n",
    "# why are originWeights 2?\n",
    "#originWeights = 2\n",
    "originWeights = 1\n",
    "#dist_decay = 1\n",
    "# dist_decay represents a half-life of 1 hour\n",
    "dist_decay = .00019\n",
    "decayFunction = lambda x: np.exp(-1 * dist_decay * x)\n",
    "\n",
    "#just testing\n",
    "#decayFunction = lambda x: x\n",
    "\n",
    "for odType in ['driving', 'rail', 'od_driving_and_rail']:\n",
    "    od = od_driving\n",
    "    if odType == \"rail\":\n",
    "        od = od_rail\n",
    "    if odType == \"od_driving_and_rail\":\n",
    "        od = od_driving_and_rail\n",
    "    for weightColumn in ['TOTAL_WORKERS','male_num','female_num']:\n",
    "        \n",
    "        destWeights = det_nn[weightColumn]\n",
    "        #print(destWeights)\n",
    "        # I think we should normalize the destination weights using min-max normalization\n",
    "        destWeights_normalized = destWeights.copy()\n",
    "        destWeights_normalized = (destWeights_normalized - destWeights_normalized.min())/(destWeights.max()-destWeights.min())\n",
    "        #destWeights_normalized = 1\n",
    "        \n",
    "        #maxTime = od.max()\n",
    "        #normalized_OD = od / maxTime\n",
    "\n",
    "        normalized_OD = od\n",
    "        \n",
    "        # this zeros out the outOD matrix\n",
    "        outOD = od * 0\n",
    "        \n",
    "        for row in range(0, od.shape[0]):\n",
    "            curRow = normalized_OD[row,:]\n",
    "            decayedRow = decayFunction(curRow)\n",
    "            weightedRow = decayedRow * destWeights_normalized * originWeights\n",
    "            outOD[row,:] = weightedRow\n",
    "\n",
    "        #Calculate the origin sum weights for each node\n",
    "        weightedDistance = np.sum(outOD, axis=1)\n",
    "        \n",
    "        #try out not normalizing here\n",
    "        #weightedDistance = weightedDistance/np.min(weightedDistance)\n",
    "        \n",
    "        resultweights = pd.DataFrame([originNodes, weightedDistance]).transpose()\n",
    "        colName = \"%s_%s\" % (odType, weightColumn)\n",
    "        resultweights.columns = ['NN', colName]\n",
    "        results[colName] = resultweights\n",
    "        hh_out = pd.merge(hh_out, resultweights, on=\"NN\")\n",
    "        \n",
    "hh_out.to_csv(os.path.join(inputFolder, \"weighted_distance_all_JOBS12_DD%s.csv\" % dist_decay))"
   ]
  }
 ],
 "metadata": {
  "kernelspec": {
   "display_name": "Python [conda env:GOST_PublicGoods4] *",
   "language": "python",
   "name": "conda-env-GOST_PublicGoods4-py"
  },
  "language_info": {
   "codemirror_mode": {
    "name": "ipython",
    "version": 3
   },
   "file_extension": ".py",
   "mimetype": "text/x-python",
   "name": "python",
   "nbconvert_exporter": "python",
   "pygments_lexer": "ipython3",
   "version": "3.7.1"
  }
 },
 "nbformat": 4,
 "nbformat_minor": 2
}
