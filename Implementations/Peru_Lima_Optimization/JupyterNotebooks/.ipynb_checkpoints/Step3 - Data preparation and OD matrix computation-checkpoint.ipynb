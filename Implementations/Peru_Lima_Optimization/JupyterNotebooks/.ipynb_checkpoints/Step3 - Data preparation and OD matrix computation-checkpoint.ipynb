{
 "cells": [
  {
   "cell_type": "markdown",
   "metadata": {},
   "source": [
    "### Prepare road network, snap origins and destination points to road network nodes and compute OD\n",
    "Below there are the operations that preceed the computation of the Origin-Destination Matrix. The OD is calculated with the gn_calculate_od function. \n"
   ]
  },
  {
   "cell_type": "code",
   "execution_count": null,
   "metadata": {},
   "outputs": [],
   "source": [
    "import geopandas as gpd\n",
    "import os, sys, time\n",
    "import pandas as pd\n",
    "sys.path.append(r'C:\\Users\\gost_\\Desktop\\lima\\GOSTNets\\GOSTNets')\n",
    "import GOSTnet as gn\n",
    "import importlib\n",
    "import networkx as nx\n",
    "import osmnx as ox\n",
    "from shapely.ops import unary_union\n",
    "from shapely.wkt import loads\n",
    "from shapely.geometry import LineString, MultiLineString, Point"
   ]
  },
  {
   "cell_type": "markdown",
   "metadata": {},
   "source": [
    "Prepare data for the OD matrix:\n",
    "    1. Create your origins (point) .csv file - be sure to name the column of the unique identifier with \"O_ID\" and save the coordinates into columns \"Lat\" / \"Lon\" \n",
    "    2. Create your destination (point) .csv file - be sure to save the coordinates in columns named \"Lat\" / \"Lon\" "
   ]
  },
  {
   "cell_type": "code",
   "execution_count": null,
   "metadata": {},
   "outputs": [],
   "source": [
    "OD_path = r'C:\\Users\\gost_\\Desktop\\Lima'\n",
    "G_path = r'C:\\Users\\gost_\\Desktop\\Lima'\n",
    "Ofile = r'VES_origins.csv' #change with your .csv file name\n",
    "Dfile = r'VES_destination.csv'  #change with your .csv file name\n",
    "Gfile = r'VES_graph_processed.pickle'"
   ]
  },
  {
   "cell_type": "markdown",
   "metadata": {},
   "source": [
    "#### 1. Prepare road network and subtract the biggest routable subgraph from the road network"
   ]
  },
  {
   "cell_type": "code",
   "execution_count": null,
   "metadata": {},
   "outputs": [],
   "source": [
    "G = nx.read_gpickle(os.path.join(G_path, Gfile))"
   ]
  },
  {
   "cell_type": "code",
   "execution_count": null,
   "metadata": {},
   "outputs": [],
   "source": [
    "G.number_of_edges()"
   ]
  },
  {
   "cell_type": "code",
   "execution_count": null,
   "metadata": {},
   "outputs": [],
   "source": [
    "G.number_of_nodes()"
   ]
  },
  {
   "cell_type": "markdown",
   "metadata": {},
   "source": [
    "Todo list:\n",
    "1.) add time to edges\n",
    "2.) take only biggest subgraph\n",
    "3.) snap Origins, destinations\n",
    "4.) run OD"
   ]
  },
  {
   "cell_type": "markdown",
   "metadata": {},
   "source": [
    "The first cell contains the standard speed limits for each road type from OSM. However, it is recommended to adjust these values if the AOI has specific travel conditions (see below for Lima, Peru)."
   ]
  },
  {
   "cell_type": "code",
   "execution_count": null,
   "metadata": {},
   "outputs": [],
   "source": [
    "#speed limits from OSM\n",
    "\n",
    "#sd = {          'residential': 20,  # kmph\n",
    "#                'primary': 40, # kmph\n",
    " #               'primary_link':35,\n",
    "  #              'motorway':35,\n",
    "   #             'motorway_link': 25,\n",
    "    #            'trunk': 20,\n",
    "     #           'trunk_link':15,\n",
    "      #          'secondary': 10, # kmph\n",
    "       #         'secondary_link':5,\n",
    "        #        'tertiary':5,\n",
    "         #       'tertiary_link': 5,\n",
    "          #      'unclassified':5\n",
    "           #     }"
   ]
  },
  {
   "cell_type": "code",
   "execution_count": null,
   "metadata": {},
   "outputs": [],
   "source": [
    "#speed limits for Lima\n",
    "sd = {          'residential': 10,  # kmph\n",
    "                'primary': 25, # kmph\n",
    "                'primary_link':20,\n",
    "                'motorway':35,\n",
    "                'motorway_link': 25,\n",
    "                'trunk': 20,\n",
    "                'trunk_link':15,\n",
    "                'secondary': 10, # kmph\n",
    "                'secondary_link':5,\n",
    "                'tertiary':5,\n",
    "                'tertiary_link': 5,\n",
    "                'unclassified':5\n",
    "                }"
   ]
  },
  {
   "cell_type": "code",
   "execution_count": null,
   "metadata": {},
   "outputs": [],
   "source": [
    "gn.example_edge(G)"
   ]
  },
  {
   "cell_type": "markdown",
   "metadata": {},
   "source": [
    "Here you can change the graph_type from \"drive\" to \"walk\". Instead of driving time this will compute walking time using the standard walk_speed = 4.5 km/h (this can be modified in the GOSTnets.py file) "
   ]
  },
  {
   "cell_type": "code",
   "execution_count": null,
   "metadata": {},
   "outputs": [],
   "source": [
    "G_time = gn.convert_network_to_time(G, \n",
    "                                   distance_tag = 'length',\n",
    "                                   graph_type = 'drive', \n",
    "                                   road_col = 'infra_type',\n",
    "                                   speed_dict = sd, \n",
    "                                   factor = 1000)"
   ]
  },
  {
   "cell_type": "code",
   "execution_count": null,
   "metadata": {},
   "outputs": [],
   "source": [
    "gn.example_edge(G_time)"
   ]
  },
  {
   "cell_type": "code",
   "execution_count": null,
   "metadata": {},
   "outputs": [],
   "source": [
    "D = list(nx.strongly_connected_component_subgraphs(G_time))"
   ]
  },
  {
   "cell_type": "code",
   "execution_count": null,
   "metadata": {},
   "outputs": [],
   "source": [
    "G = D[0]"
   ]
  },
  {
   "cell_type": "code",
   "execution_count": null,
   "metadata": {},
   "outputs": [],
   "source": [
    "G = nx.convert_node_labels_to_integers(G)"
   ]
  },
  {
   "cell_type": "code",
   "execution_count": null,
   "metadata": {},
   "outputs": [],
   "source": [
    "gn.save(G, 'biggest_subg', G_path)"
   ]
  },
  {
   "cell_type": "markdown",
   "metadata": {},
   "source": [
    "#### 2. Prepare origin_snapped and destination_snapped "
   ]
  },
  {
   "cell_type": "code",
   "execution_count": null,
   "metadata": {},
   "outputs": [],
   "source": [
    "O = pd.read_csv(os.path.join(OD_path, Ofile), sep=',', encoding = \"ISO-8859-1\")\n",
    "D = pd.read_csv(os.path.join(OD_path, Dfile), sep=',', encoding = \"ISO-8859-1\")"
   ]
  },
  {
   "cell_type": "code",
   "execution_count": null,
   "metadata": {},
   "outputs": [],
   "source": [
    "O[:100]"
   ]
  },
  {
   "cell_type": "code",
   "execution_count": null,
   "metadata": {},
   "outputs": [],
   "source": [
    "D[:100]"
   ]
  },
  {
   "cell_type": "markdown",
   "metadata": {},
   "source": [
    "The function pandana_snap maps each origin and destination point to the nearest node on the road graph. "
   ]
  },
  {
   "cell_type": "code",
   "execution_count": null,
   "metadata": {},
   "outputs": [],
   "source": [
    "O['geometry'] = list(zip(O['Lon'],O['Lat']))\n",
    "O['geometry'] = O['geometry'].apply(Point)\n",
    "O_gdf = gpd.GeoDataFrame(O, crs = {'init':'epsg:4326'}, geometry = 'geometry')\n",
    "O_gdf = gn.pandana_snap(G_salted, O_gdf, target_crs = 'epsg:32718', add_dist_to_node_col = True)\n",
    "origins = list(O_gdf.NN)\n",
    "origins = list(set(origins))"
   ]
  },
  {
   "cell_type": "code",
   "execution_count": null,
   "metadata": {},
   "outputs": [],
   "source": [
    "D['geometry'] = list(zip(D['Lon'],D['Lat']))\n",
    "D['geometry'] = D['geometry'].apply(Point)\n",
    "D_gdf = gpd.GeoDataFrame(D, crs = {'init':'epsg:4326'}, geometry = 'geometry')\n",
    "D_gdf = gn.pandana_snap(G_salted, D_gdf, target_crs = 'epsg:32718', add_dist_to_node_col = True)\n",
    "destination = list(D_gdf.NN)\n",
    "destination = list(set(destination))"
   ]
  },
  {
   "cell_type": "code",
   "execution_count": null,
   "metadata": {},
   "outputs": [],
   "source": [
    "print(\"length of origins is %s\" % len(origins))"
   ]
  },
  {
   "cell_type": "code",
   "execution_count": null,
   "metadata": {},
   "outputs": [],
   "source": [
    "print(\"length of destinations is %s\" % len(destination))"
   ]
  },
  {
   "cell_type": "markdown",
   "metadata": {},
   "source": [
    "Write the origins_snapped and destinations_snapped files; these files contain new points that are a translation of the original location to the nearest location on the road network"
   ]
  },
  {
   "cell_type": "code",
   "execution_count": null,
   "metadata": {},
   "outputs": [],
   "source": [
    "O_gdf.to_csv(os.path.join(pth, 'origins_snapped.csv'))\n",
    "D_gdf.to_csv(os.path.join(pth, 'destinations_snapped.csv'))"
   ]
  },
  {
   "cell_type": "markdown",
   "metadata": {},
   "source": [
    "#### 3. Compute OD matrix "
   ]
  },
  {
   "cell_type": "markdown",
   "metadata": {},
   "source": [
    "run a simulation of OD generation below, with a subset of 50 origins and 50 destinations - a good way to estimate the time it will take to run the entire OD"
   ]
  },
  {
   "cell_type": "code",
   "execution_count": null,
   "metadata": {},
   "outputs": [],
   "source": [
    "o_test = origins[:50]\n",
    "print(o_test)"
   ]
  },
  {
   "cell_type": "code",
   "execution_count": null,
   "metadata": {},
   "outputs": [],
   "source": [
    "d_test = destination[:50]\n",
    "print(d_test)"
   ]
  },
  {
   "cell_type": "markdown",
   "metadata": {},
   "source": [
    "***The gn.calculate_OD function enables the users to choose a computation between \"time\" and \"distance\" between each origin and destination point. ***"
   ]
  },
  {
   "cell_type": "code",
   "execution_count": null,
   "metadata": {},
   "outputs": [],
   "source": [
    "# count how large your OD matrix is\n",
    "len(origins) * len(destination)"
   ]
  },
  {
   "cell_type": "code",
   "execution_count": null,
   "metadata": {},
   "outputs": [],
   "source": [
    "import time\n",
    "start_time = time.time()\n",
    "time_OD_test = gn.calculate_OD(G, o_test, d_test, fail_value = 9999999999999, weight = 'time')\n",
    "Print(\"----%s seconds ----\") % (time.time()-start_time)"
   ]
  },
  {
   "cell_type": "code",
   "execution_count": null,
   "metadata": {},
   "outputs": [],
   "source": [
    "#Write OD to file\n",
    "OD_df_24_hr.to_csv(os.path.join(pth,'output_gt_origins_destinations.csv'))"
   ]
  },
  {
   "cell_type": "markdown",
   "metadata": {},
   "source": []
  },
  {
   "cell_type": "markdown",
   "metadata": {},
   "source": [
    "***** Depending on the size of the problem you are trying to solve, you might consider running the OD computation using the graph-tool python module in a virtual environment*****"
   ]
  }
 ],
 "metadata": {
  "kernelspec": {
   "display_name": "Python 3",
   "language": "python",
   "name": "python3"
  },
  "language_info": {
   "codemirror_mode": {
    "name": "ipython",
    "version": 3
   },
   "file_extension": ".py",
   "mimetype": "text/x-python",
   "name": "python",
   "nbconvert_exporter": "python",
   "pygments_lexer": "ipython3",
   "version": "3.7.2"
  }
 },
 "nbformat": 4,
 "nbformat_minor": 2
}
