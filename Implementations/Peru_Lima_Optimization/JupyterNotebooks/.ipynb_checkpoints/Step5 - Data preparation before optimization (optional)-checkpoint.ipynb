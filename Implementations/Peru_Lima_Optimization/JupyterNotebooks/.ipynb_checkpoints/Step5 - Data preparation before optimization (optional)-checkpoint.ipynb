{
 "cells": [
  {
   "cell_type": "markdown",
   "metadata": {},
   "source": [
    "### Slice OD as needed; compute weighted OD\n",
    "In this notebook we have the opportunity to adjust the inputs for the optimization analysis:\n",
    "- a choice can be made on the number and type of destinations that will be considered in the process\n",
    "- a choice can be made between using a weighted or non-weighted OD matrix (in this example we compute a weighted OD by population )"
   ]
  },
  {
   "cell_type": "code",
   "execution_count": null,
   "metadata": {},
   "outputs": [],
   "source": [
    "import geopandas as gpd\n",
    "import os, sys, time\n",
    "import pandas as pd\n",
    "sys.path.append(r'C:\\Users\\gost_\\Desktop\\lima\\GOSTNets\\GOSTNets')\n",
    "import GOSTnet as gn\n",
    "import importlib\n",
    "import networkx as nx\n",
    "import osmnx as ox\n",
    "from shapely.ops import unary_union\n",
    "from shapely.wkt import loads\n",
    "from shapely.geometry import LineString, MultiLineString, Point"
   ]
  },
  {
   "cell_type": "code",
   "execution_count": null,
   "metadata": {},
   "outputs": [],
   "source": [
    "#define the paths to the origins, destinations files and the OD\n",
    "pth = r'C:\\Users\\gost_\\Desktop\\lima\\data\\OD'"
   ]
  },
  {
   "cell_type": "markdown",
   "metadata": {},
   "source": [
    " Run this step if you need to filter the OD by a subset of the destination file"
   ]
  },
  {
   "cell_type": "code",
   "execution_count": null,
   "metadata": {},
   "outputs": [],
   "source": [
    "#read destinations snapped csv (from Step3)\n",
    "dest_snapped_df = pd.read_csv(os.path.join(pth, 'destinations_snapped.csv')\n",
    "dest_snapped_df [:10]"
   ]
  },
  {
   "cell_type": "code",
   "execution_count": null,
   "metadata": {},
   "outputs": [],
   "source": [
    "#split destination file by hospital category \n",
    "hour_12_dest_snapped_df = dest_snapped_df.loc[(dest_snapped_df['categoria'] == 11) | (dest_snapped_df['categoria'] == 12)]\n",
    "hour_12_dest_list = hour_12_dest_snapped_df.NN.tolist()\n",
    "len(hour_12_dest_list)"
   ]
  },
  {
   "cell_type": "code",
   "execution_count": null,
   "metadata": {},
   "outputs": [],
   "source": [
    "hour_12_dest_list[:3]"
   ]
  },
  {
   "cell_type": "code",
   "execution_count": null,
   "metadata": {},
   "outputs": [],
   "source": [
    "#write new destiantion file to .csv\n",
    "hour_12_dest_list.to_csv(os.path.join(pth,'hour_12_dest_list.csv'))"
   ]
  },
  {
   "cell_type": "markdown",
   "metadata": {},
   "source": [
    "Run this step if you want to compute a weighted OD"
   ]
  },
  {
   "cell_type": "code",
   "execution_count": null,
   "metadata": {},
   "outputs": [],
   "source": [
    "#read origins snapped csv\n",
    "origins_snapped_df =  pd.read_csv(os.path.join(pth, 'origins_snapped.csv'))\n",
    "origins_snapped_df[:10]"
   ]
  },
  {
   "cell_type": "code",
   "execution_count": null,
   "metadata": {},
   "outputs": [],
   "source": [
    "#create a dictionary of the unique Nearest Node (NN) and its corresponding population value\n",
    "origins_w_demands_series = pd.Series(origins_snapped_df.Population.values,index=origins_snapped_df.NN)\n",
    "origins_w_demands_series"
   ]
  },
  {
   "cell_type": "code",
   "execution_count": null,
   "metadata": {},
   "outputs": [],
   "source": [
    "#some origins end up snapping to the same nearest node, therefore below the code groups and sums origin populations\n",
    "origins_no_dupl=origins_w_demands_series.groupby('NN').sum()\n",
    "origins_no_dupl [:3]"
   ]
  },
  {
   "cell_type": "code",
   "execution_count": null,
   "metadata": {},
   "outputs": [],
   "source": [
    "#load OD and multiply OD by population weight -> weighted OD\n",
    "OD_df = pd.read_csv(os.path.join(pth, 'output_gt_origins_destinations.csv', header=0, index_col=0, sep=';')\n",
    "OD_weighted_df = OD_df.mul(origins_no_dupl, axis=0)\n",
    "OD_weighted_df [:100]"
   ]
  },
  {
   "cell_type": "markdown",
   "metadata": {},
   "source": [
    "Filter weighted OD by destination type"
   ]
  },
  {
   "cell_type": "code",
   "execution_count": null,
   "metadata": {},
   "outputs": [],
   "source": [
    "#it might be necessary to transform the OD entries into type \"int\"\n",
    "OD_weighted_df.dtypes\n",
    "OD_weighted_df_int = OD_weighted_df.astype(int)\n",
    "OD_weighted_df_int [:10]"
   ]
  },
  {
   "cell_type": "code",
   "execution_count": null,
   "metadata": {},
   "outputs": [],
   "source": [
    "#transform the destination nodes into \"string\" type to be used as column headers\n",
    "hour_12_dest_list_s = [str(x) for x in hour_12_dest_list]\n",
    "len(hour_12_dest_list_s)"
   ]
  },
  {
   "cell_type": "code",
   "execution_count": null,
   "metadata": {},
   "outputs": [],
   "source": [
    "# filter the Od by the destination -category 12\n",
    "OD_df_12_hr = OD_weighted_df_int[hour_12_dest_list]\n",
    "OD_df_12_hr[0:10]"
   ]
  },
  {
   "cell_type": "code",
   "execution_count": null,
   "metadata": {},
   "outputs": [],
   "source": [
    "# save new OD as .csv = input into optimization\n",
    "pth = r'C:\\Users\\gost_\\Desktop\\lima\\data\\OD_distance'\n",
    "OD_df_24_hr.to_csv(os.path.join(pth,'OD_df_12_hr.csv'))"
   ]
  }
 ],
 "metadata": {
  "kernelspec": {
   "display_name": "Python [conda env:Gostnets_clean] *",
   "language": "python",
   "name": "conda-env-Gostnets_clean-py"
  },
  "language_info": {
   "codemirror_mode": {
    "name": "ipython",
    "version": 3
   },
   "file_extension": ".py",
   "mimetype": "text/x-python",
   "name": "python",
   "nbconvert_exporter": "python",
   "pygments_lexer": "ipython3",
   "version": "3.7.2"
  }
 },
 "nbformat": 4,
 "nbformat_minor": 2
}
