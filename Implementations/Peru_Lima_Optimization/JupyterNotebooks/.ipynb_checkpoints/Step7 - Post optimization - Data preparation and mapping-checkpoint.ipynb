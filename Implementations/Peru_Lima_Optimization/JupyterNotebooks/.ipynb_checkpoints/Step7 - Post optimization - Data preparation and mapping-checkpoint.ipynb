{
 "cells": [
  {
   "cell_type": "markdown",
   "metadata": {},
   "source": [
    "### Map optimization output back to shapefile\n",
    "The functions below prepare the data for the process of mapping the results back to their original shapefiles by implementing a \"table join\" between the outputs .txt and the attribute table of the shapefile"
   ]
  },
  {
   "cell_type": "code",
   "execution_count": null,
   "metadata": {},
   "outputs": [],
   "source": [
    "import pandas as pd\n",
    "import os, sys\n",
    "sys.path.append(r'C:\\Users\\gost_\\Desktop\\lima\\GOSTNets\\GOSTNets')\n",
    "import GOSTnet as gn\n",
    "import importlib\n",
    "importlib.reload(gn)\n",
    "import geopandas as gpd\n",
    "import rasterio\n",
    "from rasterio import features\n",
    "from shapely.wkt import loads\n",
    "import numpy as np"
   ]
  },
  {
   "cell_type": "code",
   "execution_count": null,
   "metadata": {},
   "outputs": [],
   "source": [
    "#define the paths to the origins,destinations, optimization result\n",
    "pth = r'C:\\Users\\gost_\\Desktop\\lima'\n",
    "walk_speed = 4 \n",
    "WGS = {'init':'epsg:4326'}\n",
    "measure_crs = {'init':'epsg:24893'}"
   ]
  },
  {
   "cell_type": "markdown",
   "metadata": {},
   "source": [
    "The process for mapping the optimization results is as follows:\n",
    "    1. we need to filter the destination file by the IDs that were generated from the optimization process as the optimal locations\n",
    "    2. we need to slice the OD matrix by the new destination file\n",
    "    3. we map the OD matrix back to the origins shapefile as in Step4"
   ]
  },
  {
   "cell_type": "code",
   "execution_count": null,
   "metadata": {},
   "outputs": [],
   "source": [
    "#read in the original destination file (from Step3)\n",
    "destination_df = pd.read_csv(os.path.join(pth, 'destinations_snapped.csv'))"
   ]
  },
  {
   "cell_type": "code",
   "execution_count": null,
   "metadata": {},
   "outputs": [],
   "source": [
    "#include the path of the optimization result file *.txt and open the file\n",
    "rpath = r'C:\\Users\\gost_\\Desktop\\lima\\data\\OD_distance\\lima_OD_distance_output'\n",
    "Rfile = r'C:\\Users\\gost_\\Desktop\\lima\\data\\results_optimization_Pmedian\\selected_lima_distance_weighted_24hr.txt'\n",
    "with open (Rfile, 'r') as re:\n",
    "    result = re.readlines()\n",
    "result =[(el.strip()) for el in result]\n",
    "result = [int(i) for i in result]\n",
    "result [:3]"
   ]
  },
  {
   "cell_type": "code",
   "execution_count": null,
   "metadata": {},
   "outputs": [],
   "source": [
    "#filter optimal destinations by the result of the optimization process\n",
    "destination = destination_df[destination_df['NN'].isin(result)]\n",
    "destination[:100]"
   ]
  },
  {
   "cell_type": "code",
   "execution_count": null,
   "metadata": {},
   "outputs": [],
   "source": [
    "#write optimal destination file back to .csv for mapping purposes\n",
    "destination.to_csv(os.path.join(pth, 'optimal_destination.csv'))"
   ]
  },
  {
   "cell_type": "code",
   "execution_count": null,
   "metadata": {},
   "outputs": [],
   "source": [
    "# read  OD matrix\n",
    "OD_name = r'output_gt_origins_destinations.csv'\n",
    "OD = pd.read_csv(os.path.join(pth, OD_name), sep=';')\n",
    "#OD = OD.rename(columns = {'Unnamed: 0':'O_ID'})\n",
    "OD_ = OD.set_index('O_ID')\n",
    "OD = OD_.replace([np.inf, -np.inf], np.nan)\n",
    "OD['Minimum'] = OD.loc[:,:].min(axis=1)"
   ]
  },
  {
   "cell_type": "code",
   "execution_count": null,
   "metadata": {},
   "outputs": [],
   "source": [
    "# filter OD matrix by results\n",
    "OD_dist = OD[result_all]"
   ]
  },
  {
   "cell_type": "code",
   "execution_count": null,
   "metadata": {},
   "outputs": [],
   "source": [
    "### PREPARE ORIGIN FILE \n",
    "# set index to nearest node to match on the travel time from that node to nearest destination (OD['Minimum'])\n",
    "orig = pd.read_csv(os.path.join(pth, 'origins_snapped.csv'))\n",
    "orig = orig.rename({'ID':'OBJECTID'}, axis = 1) # rename ID column to 'OBJECTID'\n",
    "orig = orig.set_index('NN') # used for matching on the OD matrix\n",
    "orig[:10]"
   ]
  },
  {
   "cell_type": "code",
   "execution_count": null,
   "metadata": {},
   "outputs": [],
   "source": [
    "orig['closest_hosp'] = OD_dist['Minimum'] # here we match on closest hospital \n",
    "orig[:5]"
   ]
  },
  {
   "cell_type": "code",
   "execution_count": null,
   "metadata": {},
   "outputs": [],
   "source": [
    "# add on walktime for time computation\n",
    "walkspeed = 4\n",
    "orig['walktime'] = orig['NN_dist'] / 1000 / walkspeed * 3600\n",
    "orig['total_time'] = (orig['walktime'] + orig['closest_hosp']) / 60\n",
    "###   OR   ###\n",
    "#compute total distance: NN_dist + dist\n",
    "orig['total_distance'] = (orig['NN_dist'] + orig['closest_hosp'])"
   ]
  },
  {
   "cell_type": "code",
   "execution_count": null,
   "metadata": {},
   "outputs": [],
   "source": [
    "#read in the origins in shapefile format\n",
    "fp = r'C:\\Users\\gost_\\Desktop\\lima'\n",
    "shpfil = gpd.read_file(os.path.join(fp, 'VillaElSalvador_urban.shp'))"
   ]
  },
  {
   "cell_type": "code",
   "execution_count": null,
   "metadata": {},
   "outputs": [],
   "source": [
    "# Ensure both shapefile AND origin file have a non-duplicate index to enable matching of results on to the shapefile\n",
    "shpfil = shpfil.set_index('OBJECTID')\n",
    "orig = orig.set_index('OBJECTID')"
   ]
  },
  {
   "cell_type": "code",
   "execution_count": null,
   "metadata": {},
   "outputs": [],
   "source": [
    "# Prep output shapefile, match on visualization column, save\n",
    "shpfil['total_time'] = orig['total_time']\n",
    "shpfil = shpfil.to_crs({'init':'epsg:4326'})\n",
    "shpfil.to_file(os.path.join(pth, 'VES_origins_w_time.shp'), driver = 'ESRI Shapefile')"
   ]
  }
 ],
 "metadata": {
  "kernelspec": {
   "display_name": "Python 3",
   "language": "python",
   "name": "python3"
  },
  "language_info": {
   "codemirror_mode": {
    "name": "ipython",
    "version": 3
   },
   "file_extension": ".py",
   "mimetype": "text/x-python",
   "name": "python",
   "nbconvert_exporter": "python",
   "pygments_lexer": "ipython3",
   "version": "3.7.2"
  }
 },
 "nbformat": 4,
 "nbformat_minor": 2
}
