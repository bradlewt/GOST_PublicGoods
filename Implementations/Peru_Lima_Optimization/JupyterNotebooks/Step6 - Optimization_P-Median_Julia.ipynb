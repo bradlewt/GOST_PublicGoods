{
 "cells": [
  {
   "cell_type": "markdown",
   "metadata": {},
   "source": [
    "This is a Julia Notebook. If you are new to Julia, these are the [steps](https://datatofish.com/add-julia-to-jupyter/) to add Julia to a Jupyter Notebook"
   ]
  },
  {
   "cell_type": "code",
   "execution_count": 1,
   "metadata": {},
   "outputs": [
    {
     "ename": "ModuleNotFoundError",
     "evalue": "No module named 'Pkg'",
     "output_type": "error",
     "traceback": [
      "\u001b[0;31m---------------------------------------------------------------------------\u001b[0m",
      "\u001b[0;31mModuleNotFoundError\u001b[0m                       Traceback (most recent call last)",
      "\u001b[0;32m<ipython-input-1-86a2abc425c0>\u001b[0m in \u001b[0;36m<module>\u001b[0;34m\u001b[0m\n\u001b[0;32m----> 1\u001b[0;31m \u001b[0;32mimport\u001b[0m \u001b[0mPkg\u001b[0m\u001b[0;34m\u001b[0m\u001b[0;34m\u001b[0m\u001b[0m\n\u001b[0m\u001b[1;32m      2\u001b[0m \u001b[0mPkg\u001b[0m\u001b[0;34m.\u001b[0m\u001b[0madd\u001b[0m\u001b[0;34m(\u001b[0m\u001b[0;34m\"JuMP\"\u001b[0m\u001b[0;34m)\u001b[0m\u001b[0;34m\u001b[0m\u001b[0;34m\u001b[0m\u001b[0m\n\u001b[1;32m      3\u001b[0m \u001b[0mPkg\u001b[0m\u001b[0;34m.\u001b[0m\u001b[0madd\u001b[0m\u001b[0;34m(\u001b[0m\u001b[0;34m\"Cbc\"\u001b[0m\u001b[0;34m)\u001b[0m\u001b[0;34m\u001b[0m\u001b[0;34m\u001b[0m\u001b[0m\n\u001b[1;32m      4\u001b[0m \u001b[0mPkg\u001b[0m\u001b[0;34m.\u001b[0m\u001b[0madd\u001b[0m\u001b[0;34m(\u001b[0m\u001b[0;34m\"MathOptInterface\"\u001b[0m\u001b[0;34m)\u001b[0m\u001b[0;34m\u001b[0m\u001b[0;34m\u001b[0m\u001b[0m\n\u001b[1;32m      5\u001b[0m \u001b[0mPkg\u001b[0m\u001b[0;34m.\u001b[0m\u001b[0madd\u001b[0m\u001b[0;34m(\u001b[0m\u001b[0;34m\"MathProgBase\"\u001b[0m\u001b[0;34m)\u001b[0m\u001b[0;34m\u001b[0m\u001b[0;34m\u001b[0m\u001b[0m\n",
      "\u001b[0;31mModuleNotFoundError\u001b[0m: No module named 'Pkg'"
     ]
    }
   ],
   "source": [
    "import Pkg\n",
    "Pkg.add(\"JuMP\")\n",
    "Pkg.add(\"Cbc\")\n",
    "Pkg.add(\"MathOptInterface\")\n",
    "Pkg.add(\"MathProgBase\")\n",
    "Pkg.add(\"CSV\")\n",
    "Pkg.add(\"DelimitedFiles\")\n",
    "Pkg.add(\"DataFrames\")\n",
    "println(\"Done installing packages\")"
   ]
  },
  {
   "cell_type": "code",
   "execution_count": 11,
   "metadata": {},
   "outputs": [
    {
     "name": "stderr",
     "output_type": "stream",
     "text": [
      "┌ Info: Precompiling Cbc [9961bab8-2fa3-5c5a-9d89-47fab24efd76]\n",
      "└ @ Base loading.jl:1192\n"
     ]
    }
   ],
   "source": [
    "#using JuMP, Cbc, GLPK, CPLEX, Test, Random, MathOptInterface, MathOptFormat, CSV, DataFrames, DelimitedFiles, MathProgBase\n",
    "using JuMP, Cbc, MathOptInterface, CSV, DataFrames, DelimitedFiles, MathProgBase"
   ]
  },
  {
   "cell_type": "code",
   "execution_count": 12,
   "metadata": {},
   "outputs": [
    {
     "data": {
      "text/plain": [
       "MathOptInterface"
      ]
     },
     "execution_count": 12,
     "metadata": {},
     "output_type": "execute_result"
    }
   ],
   "source": [
    "# MathOptInterface is an abstraction layer for mathematical optimization solvers\n",
    "const MOI = MathOptInterface"
   ]
  },
  {
   "cell_type": "markdown",
   "metadata": {},
   "source": [
    "## This is the Julia P-Median function. It takes the number of facilities to place as the first input. For the second input it takes in the OD matrix as a csv file."
   ]
  },
  {
   "cell_type": "code",
   "execution_count": 23,
   "metadata": {},
   "outputs": [
    {
     "data": {
      "text/plain": [
       "pMedian (generic function with 1 method)"
      ]
     },
     "execution_count": 23,
     "metadata": {},
     "output_type": "execute_result"
    }
   ],
   "source": [
    "function pMedian(numFacility::Int, CSVfile)\n",
    "\n",
    "    println(\"numFacility\")\n",
    "    println(numFacility)\n",
    "\n",
    "    # materialize a csv file as a DataFrame\n",
    "    df = CSV.File(CSVfile) |> DataFrame!\n",
    "\n",
    "    #extract column_headers\n",
    "    column_headers = []\n",
    "    #skip Column1\n",
    "    for i=2:length(names(df))\n",
    "      push!(column_headers,String(names(df)[i]))\n",
    "    end\n",
    "    \n",
    "    OD_dict = Dict()\n",
    "    for i in 1:size(df, 1)\n",
    "        OD_dict[df[i,1]] = df[i,2:end]\n",
    "    end\n",
    "\n",
    "    #println(\"print OD_dict\")\n",
    "    #println(OD_dict)\n",
    "\n",
    "    #origins as array\n",
    "    origins = df[:,1]\n",
    "\n",
    "    #println(\"origins\")\n",
    "    #println(origins)\n",
    "\n",
    "    facilities = []\n",
    "    for i in df[1,2:end]\n",
    "      push!(facilities,trunc(Int, i))\n",
    "    end\n",
    "\n",
    "    #println(\"facilities\")\n",
    "    #println(facilities)\n",
    "\n",
    "    #m = Model(with_optimizer(CPLEX.Optimizer))\n",
    "    #output says threads were changed, but I do not see a difference on the resource monitor\n",
    "    #m = Model(with_optimizer(Cbc.Optimizer, threads = 14))\n",
    "    #change the limit to \n",
    "    m = Model(with_optimizer(Cbc.Optimizer, threads = 2, seconds = 68400))\n",
    "\n",
    "    # Facility locations\n",
    "    #@variable(m, 0 <= s[1:numLocation] <= 1)\n",
    "    #@variable(m, 0 <= x[1:length(facilities)] <= 1)\n",
    "    #binary variable\n",
    "    @variable(m, x[1:length(facilities)], binary=true)\n",
    "\n",
    "    #println(\"print Facility location var\")\n",
    "    #println(x)\n",
    "\n",
    "    # Aux. variable: x_a,i = 1 if the closest facility to a is at i\n",
    "    #@variable(m, 0 <= x[1:numLocation,1:numCustomer] <= 1)\n",
    "    #@variable(m, 0 <= y[origins,1:length(facilities)] <= 1)\n",
    "    #binary variable\n",
    "    @variable(m, y[origins,1:length(facilities)], binary=true)\n",
    "\n",
    "    #println(\"print origin facility var\")\n",
    "    #println(y)\n",
    "\n",
    "    # Objective: min distance\n",
    "    #@objective(m, Min, sum(abs(customerLocations[a]-i)*x[i,a] for a = 1:numCustomer, i = 1:numLocation) )\n",
    "\n",
    "    @objective(m, Min, sum(OD_dict[i][j]*y[i,j] for i in origins, j = 1:length(facilities)) )\n",
    "\n",
    "    # Constraints\n",
    "\n",
    "\n",
    "    # Subject to must allocate all facilities\n",
    "    @constraint(m, sum(x[i] for i=1:length(facilities)) == numFacility )\n",
    "\n",
    "\n",
    "    for i in origins\n",
    "        # Subject to linking x with s\n",
    "        for j in 1:length(facilities)\n",
    "            @constraint(m, y[i,j] <= x[j])\n",
    "        end\n",
    "\n",
    "        # Subject to one of x must be 1\n",
    "        @constraint(m, sum(y[i,j] for j=1:length(facilities)) == 1 )\n",
    "    end\n",
    "\n",
    "\n",
    "    JuMP.optimize!(m)\n",
    "\n",
    "    println(\"Objective value is: \", JuMP.objective_value(m))\n",
    "\n",
    "    #println(\"Objective bound is: \", JuMP.objective_bound(m))\n",
    "\n",
    "\n",
    "    println(\"print array values\")\n",
    "    println(value.(x))\n",
    "    println(\"print array length\")\n",
    "    println(length(value.(x)))\n",
    "\n",
    "    result_array = value.(x)\n",
    "\n",
    "    selected_facilities = []\n",
    "\n",
    "    for i=1:length(result_array)\n",
    "       if result_array[i] == 1\n",
    "           push!(selected_facilities,column_headers[i])\n",
    "       end\n",
    "    end\n",
    "\n",
    "    println(\"print selected_facilities\")\n",
    "    println(selected_facilities)\n",
    "\n",
    "    #save selected_facilities array to file\n",
    "    #C:\\Users\\gost_\\Desktop\\lima\\data\\OD_distance\n",
    "    #writedlm(\"C:\\\\Users\\\\gost_\\\\Desktop\\\\lima\\data\\\\OD_distance\\\\selected_facilities_array\", selected_facilities)\n",
    "    #writedlm(\"H:\\\\lima_optimality\\\\examples_testing\\\\OD2\\\\selected_facilities_array\", selected_facilities)\n",
    "    #writedlm(\"C:\\\\Temp\\\\lima_OD_distance_output\\\\selected_facilities_array_lima_distance_weighted_12hr_v2_binary_vars\", selected_facilities)\n",
    "\n",
    "    #println(\"finished writing selected_facilities_array to file\")\n",
    "\n",
    "    if termination_status(m) == MOI.OPTIMAL\n",
    "        optimal_solution = value.(x)\n",
    "        optimal_objective = objective_value(m)\n",
    "    elseif termination_status(m) == MOI.TIME_LIMIT && has_values(model)\n",
    "        suboptimal_solution = value.(x)\n",
    "        suboptimal_objective = objective_value(m)\n",
    "    else\n",
    "        error(\"The model was not solved correctly.\")\n",
    "    end\n",
    "\n",
    "    return selected_facilities\n",
    "\n",
    "end"
   ]
  },
  {
   "cell_type": "code",
   "execution_count": 24,
   "metadata": {},
   "outputs": [
    {
     "name": "stdout",
     "output_type": "stream",
     "text": [
      "numFacility\n",
      "4\n",
      "Objective value is: 60566.221539197504\n",
      "print array values\n",
      "[0.0, 1.0, 0.0, 0.0, 1.0, 0.0, 0.0, 0.0, 1.0, 1.0]\n",
      "print array length\n",
      "10\n",
      "print selected_facilities\n",
      "Any[\"7011\", \"2440\", \"15739\", \"4092\"]\n",
      "Welcome to the CBC MILP Solver \n",
      "Version: 2.9.9 \n",
      "Build Date: Dec 30 2018 \n",
      "\n",
      "command line - Cbc_C_Interface -seconds 68400 -threads 2 -solve -quit (default strategy 1)\n",
      "seconds was changed from 1e+100 to 68400\n",
      "threads was changed from 0 to 2\n",
      "Continuous objective value is 60566.2 - 0.00 seconds\n",
      "Cgl0004I processed model has 551 rows, 510 columns (510 integer (510 of which binary)) and 1510 elements\n",
      "Cbc0038I Initial state - 0 integers unsatisfied sum - 0\n",
      "Cbc0038I Solution found of 60566.2\n",
      "Cbc0038I Before mini branch and bound, 510 integers at bound fixed and 0 continuous\n",
      "Cbc0038I Mini branch and bound improved solution from 60566.2 to 60566.2 (0.01 seconds)\n",
      "Cbc0038I After 0.01 seconds - Feasibility pump exiting with objective of 60566.2 - took 0.00 seconds\n",
      "Cbc0012I Integer solution of 60566.222 found by feasibility pump after 0 iterations and 0 nodes (0.01 seconds)\n",
      "Cbc0030I Thread 0 used 0 times,  waiting to start 1.587905e-07, 0 cpu time, 0 locks, 0 locked, 0 waiting for locks\n",
      "Cbc0030I Thread 1 used 0 times,  waiting to start 0.00047113851, 0 cpu time, 0 locks, 0 locked, 0 waiting for locks\n",
      "Cbc0030I Main thread 0 waiting for threads,  1 locks, 2.0898879e-06 locked, 1.0726508e-06 waiting for locks\n",
      "Cbc0001I Search completed - best objective 60566.2215391975, took 0 iterations and 0 nodes (0.01 seconds)\n",
      "Cbc0035I Maximum depth 0, 0 variables fixed on reduced cost\n",
      "Cuts at root node changed objective from 60566.2 to 60566.2\n",
      "Probing was tried 0 times and created 0 cuts of which 0 were active after adding rounds of cuts (0.000 seconds)\n",
      "Gomory was tried 0 times and created 0 cuts of which 0 were active after adding rounds of cuts (0.000 seconds)\n",
      "Knapsack was tried 0 times and created 0 cuts of which 0 were active after adding rounds of cuts (0.000 seconds)\n",
      "Clique was tried 0 times and created 0 cuts of which 0 were active after adding rounds of cuts (0.000 seconds)\n",
      "MixedIntegerRounding2 was tried 0 times and created 0 cuts of which 0 were active after adding rounds of cuts (0.000 seconds)\n",
      "FlowCover was tried 0 times and created 0 cuts of which 0 were active after adding rounds of cuts (0.000 seconds)\n",
      "TwoMirCuts was tried 0 times and created 0 cuts of which 0 were active after adding rounds of cuts (0.000 seconds)\n",
      "\n",
      "Result - Optimal solution found\n",
      "\n",
      "Objective value:                60566.22153920\n",
      "Enumerated nodes:               0\n",
      "Total iterations:               0\n",
      "Time (CPU seconds):             0.02\n",
      "Time (Wallclock seconds):       0.02\n",
      "\n",
      "Total time (CPU seconds):       0.02   (Wallclock seconds):       0.02\n",
      "\n"
     ]
    },
    {
     "data": {
      "text/plain": [
       "4-element Array{Any,1}:\n",
       " \"7011\" \n",
       " \"2440\" \n",
       " \"15739\"\n",
       " \"4092\" "
      ]
     },
     "execution_count": 24,
     "metadata": {},
     "output_type": "execute_result"
    }
   ],
   "source": [
    "selected_facilities = pMedian(4,\"/home/vagrant/repos/GOST_PublicGoods/GOSTNets/Notebooks/saved_OD.csv\")"
   ]
  },
  {
   "cell_type": "code",
   "execution_count": 25,
   "metadata": {},
   "outputs": [
    {
     "data": {
      "text/plain": [
       "4-element Array{Any,1}:\n",
       " \"7011\" \n",
       " \"2440\" \n",
       " \"15739\"\n",
       " \"4092\" "
      ]
     },
     "execution_count": 25,
     "metadata": {},
     "output_type": "execute_result"
    }
   ],
   "source": [
    "selected_facilities"
   ]
  },
  {
   "cell_type": "code",
   "execution_count": 27,
   "metadata": {},
   "outputs": [],
   "source": [
    "#write-out selected_facilities\n",
    "writedlm(\"selected_facilities_file\",selected_facilities)"
   ]
  },
  {
   "cell_type": "code",
   "execution_count": null,
   "metadata": {},
   "outputs": [],
   "source": []
  }
 ],
 "metadata": {
  "kernelspec": {
   "display_name": "templateA",
   "language": "python",
   "name": "templatea"
  },
  "language_info": {
   "codemirror_mode": {
    "name": "ipython",
    "version": 3
   },
   "file_extension": ".py",
   "mimetype": "text/x-python",
   "name": "python",
   "nbconvert_exporter": "python",
   "pygments_lexer": "ipython3",
   "version": "3.7.3"
  }
 },
 "nbformat": 4,
 "nbformat_minor": 2
}
