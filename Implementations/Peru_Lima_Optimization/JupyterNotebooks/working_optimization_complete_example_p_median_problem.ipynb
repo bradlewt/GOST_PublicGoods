{
 "cells": [
  {
   "cell_type": "markdown",
   "metadata": {},
   "source": [
    "# Optimization Example\n",
    "## This python notebook is a complete example of solving location optimization problems from importing OSM data to calculating the optimization functions\n",
    "### load libraries"
   ]
  },
  {
   "cell_type": "code",
   "execution_count": 2,
   "metadata": {},
   "outputs": [
    {
     "name": "stdout",
     "output_type": "stream",
     "text": [
      "peartree version: 0.6.1 \n",
      "networkx version: 2.2 \n",
      "matplotlib version: 3.0.3 \n",
      "osmnx version: 0.9 \n"
     ]
    }
   ],
   "source": [
    "import geopandas as gpd\n",
    "import pandas as pd\n",
    "import os, sys\n",
    "# add to your system path the location of the LoadOSM.py and GOSTnet.py scripts\n",
    "sys.path.append(r'/home/vagrant/repos/GOST_PublicGoods/GOSTNets/GOSTNets')\n",
    "import GOSTnet as gn\n",
    "import LoadOSM as losm\n",
    "import importlib\n",
    "from pulp import LpInteger,LpVariable, LpProblem, lpSum, LpMinimize"
   ]
  },
  {
   "cell_type": "markdown",
   "metadata": {},
   "source": [
    "### load OSM pbf file into a geodataframe containing only roads"
   ]
  },
  {
   "cell_type": "code",
   "execution_count": 3,
   "metadata": {},
   "outputs": [],
   "source": [
    "osmNetwork = losm.OSM_to_network('./sampleData/nouakchott/mauritania-latest.osm.pbf')"
   ]
  },
  {
   "cell_type": "code",
   "execution_count": 4,
   "metadata": {
    "scrolled": false
   },
   "outputs": [
    {
     "data": {
      "text/plain": [
       "residential       37459\n",
       "track              5467\n",
       "unclassified       4021\n",
       "service            2028\n",
       "path               1488\n",
       "tertiary            891\n",
       "footway             563\n",
       "secondary           310\n",
       "primary             228\n",
       "construction        105\n",
       "trunk                83\n",
       "trunk_link           29\n",
       "pedestrian           29\n",
       "tertiary_link        14\n",
       "primary_link          5\n",
       "secondary_link        3\n",
       "proposed              2\n",
       "road                  2\n",
       "raceway               2\n",
       "cycleway              1\n",
       "Name: infra_type, dtype: int64"
      ]
     },
     "execution_count": 4,
     "metadata": {},
     "output_type": "execute_result"
    }
   ],
   "source": [
    "osmNetwork.roads_raw.infra_type.value_counts()"
   ]
  },
  {
   "cell_type": "markdown",
   "metadata": {},
   "source": [
    "### define and filter road types"
   ]
  },
  {
   "cell_type": "code",
   "execution_count": 5,
   "metadata": {},
   "outputs": [],
   "source": [
    "accepted_road_types = ['residential', 'unclassified', 'track','service','tertiary','road','secondary','primary','trunk','primary_link','trunk_link','tertiary_link','secondary_link']\n",
    "osmNetwork.filterRoads(acceptedRoads = accepted_road_types)"
   ]
  },
  {
   "cell_type": "markdown",
   "metadata": {},
   "source": [
    "### clip road network using an input polygon shapefile"
   ]
  },
  {
   "cell_type": "code",
   "execution_count": 7,
   "metadata": {
    "scrolled": true
   },
   "outputs": [],
   "source": [
    "shp = gpd.read_file('./sampleData/nouakchott/layers/POLYGON.shp')\n",
    "shp = shp.to_crs({'init':'epsg:4326'})\n",
    "shp_obj = shp.geometry.iloc[0]\n",
    "osmNetwork.roads_raw = osmNetwork.roads_raw.loc[osmNetwork.roads_raw.geometry.intersects(shp_obj) == True]"
   ]
  },
  {
   "cell_type": "markdown",
   "metadata": {},
   "source": [
    "### additional LoadOSM functions to convert roads into a graph"
   ]
  },
  {
   "cell_type": "code",
   "execution_count": 9,
   "metadata": {},
   "outputs": [],
   "source": [
    "osmNetwork.generateRoadsGDF(verbose = False)"
   ]
  },
  {
   "cell_type": "code",
   "execution_count": 10,
   "metadata": {},
   "outputs": [
    {
     "data": {
      "text/plain": [
       "<networkx.classes.multidigraph.MultiDiGraph at 0x7f9a6633e080>"
      ]
     },
     "execution_count": 10,
     "metadata": {},
     "output_type": "execute_result"
    }
   ],
   "source": [
    "osmNetwork.initialReadIn()"
   ]
  },
  {
   "cell_type": "code",
   "execution_count": 11,
   "metadata": {},
   "outputs": [],
   "source": [
    "gn.save(osmNetwork.network,'nouakchott','./sampleData/nouakchott/')"
   ]
  },
  {
   "cell_type": "markdown",
   "metadata": {},
   "source": [
    "### clean network"
   ]
  },
  {
   "cell_type": "code",
   "execution_count": 12,
   "metadata": {},
   "outputs": [],
   "source": [
    "import os, sys, time\n",
    "sys.path.append(r'/home/vagrant/repos/GOST_PublicGoods/GOSTNets/GOSTNets')\n",
    "import GOSTnet as gn\n",
    "import importlib\n",
    "import networkx as nx\n",
    "import osmnx as ox\n",
    "from shapely.ops import unary_union\n",
    "from shapely.wkt import loads\n",
    "from shapely.geometry import LineString, MultiLineString, Point"
   ]
  },
  {
   "cell_type": "code",
   "execution_count": 13,
   "metadata": {},
   "outputs": [],
   "source": [
    "def CleanNetwork(G, wpath, country, UTM, WGS = {'init': 'epsg:4326'}, junctdist = 50, verbose = False):\n",
    "    \n",
    "    ### Topologically simplifies an input graph object by collapsing junctions and removing interstital nodes\n",
    "    # REQUIRED - G: a graph object containing nodes and edges. edges should have a property \n",
    "    #               called 'Wkt' containing geometry objects describing the roads\n",
    "    #            wpath: the write path - a drive directory for inputs and output\n",
    "    #            country: this parameter allows for the sequential processing of multiple countries\n",
    "    #            UTM: the epsg code of the projection, in metres, to apply the junctdist\n",
    "    # OPTIONAL - junctdist: distance within which to collapse neighboring nodes. simplifies junctions. \n",
    "    #            Set to 0.1 if not simplification desired. 50m good for national (primary / secondary) networks\n",
    "    #            verbose: if True, saves down intermediate stages for dissection\n",
    "    ################################################################################################\n",
    "    \n",
    "    # Squeezes clusters of nodes down to a single node if they are within the snapping tolerance\n",
    "    a = gn.simplify_junctions(G, UTM, WGS, junctdist)\n",
    "\n",
    "    # ensures all streets are two-way\n",
    "    a = gn.add_missing_reflected_edges(a)\n",
    "    \n",
    "    #save progress\n",
    "    if verbose is True: \n",
    "        gn.save(a, 'a', wpath)\n",
    "    \n",
    "    # Finds and deletes interstital nodes based on node degree\n",
    "    b = gn.custom_simplify(a)\n",
    "    \n",
    "    # rectify geometry\n",
    "    for u, v, data in b.edges(data = True):\n",
    "        if type(data['Wkt']) == list:\n",
    "                data['Wkt'] = gn.unbundle_geometry(data['Wkt'])\n",
    "    \n",
    "    # save progress\n",
    "    if verbose is True: \n",
    "        gn.save(b, 'b', wpath)\n",
    "    \n",
    "    # For some reason CustomSimplify doesn't return a MultiDiGraph. Fix that here\n",
    "    c = gn.convert_to_MultiDiGraph(b)\n",
    "\n",
    "    # This is the most controversial function - removes duplicated edges. This takes care of two-lane but separate highways, BUT\n",
    "    # destroys internal loops within roads. Can be run with or without this line\n",
    "    c = gn.remove_duplicate_edges(c)\n",
    "\n",
    "    # Run this again after removing duplicated edges\n",
    "    c = gn.custom_simplify(c)\n",
    "\n",
    "    # Ensure all remaining edges are duplicated (two-way streets)\n",
    "    c = gn.add_missing_reflected_edges(c)\n",
    "    \n",
    "    # save final\n",
    "    gn.save(c, '%s_processed' % country, wpath)\n",
    "    \n",
    "    print('Edge reduction: %s to %s (%d percent)' % (G.number_of_edges(), \n",
    "                                               c.number_of_edges(), \n",
    "                                               ((G.number_of_edges() - c.number_of_edges())/G.number_of_edges()*100)))\n",
    "    return c"
   ]
  },
  {
   "cell_type": "code",
   "execution_count": 14,
   "metadata": {
    "scrolled": true
   },
   "outputs": [
    {
     "name": "stdout",
     "output_type": "stream",
     "text": [
      "\n",
      "--- processing for: MRT ---\n",
      "\n",
      "start: Fri Mar 22 16:27:26 2019\n",
      "\n",
      "Outputs can be found at: ./sampleData/nouakchott/\n",
      "\n",
      "60139\n",
      "120238\n",
      "118392\n",
      "59249\n",
      "118388\n",
      "Edge reduction: 60142 to 118388 (-96 percent)\n",
      "\n",
      "end: Fri Mar 22 16:33:28 2019\n",
      "\n",
      "--- processing complete for: MRT ---\n"
     ]
    }
   ],
   "source": [
    "UTMZs = {'MRT':32628}\n",
    "\n",
    "WGS = {'init': 'epsg:4326'}\n",
    "\n",
    "countries = ['MRT']\n",
    "\n",
    "wpath = r'./sampleData/nouakchott/'\n",
    "\n",
    "for country in countries:\n",
    "    \n",
    "    print('\\n--- processing for: %s ---\\n' % country)\n",
    "    print('start: %s\\n' % time.ctime())\n",
    "\n",
    "    print('Outputs can be found at: %s\\n' % (wpath))\n",
    "        \n",
    "    UTM = {'init': 'epsg:%d' % UTMZs[country]}\n",
    "    \n",
    "    G = nx.read_gpickle(os.path.join(wpath, 'nouakchott.pickle'))\n",
    "    \n",
    "    G = CleanNetwork(G, wpath, country, UTM, WGS, 0.5, verbose = False)\n",
    "    print('\\nend: %s' % time.ctime())\n",
    "    print('\\n--- processing complete for: %s ---' % country)"
   ]
  },
  {
   "cell_type": "markdown",
   "metadata": {},
   "source": [
    "## net prep phase"
   ]
  },
  {
   "cell_type": "code",
   "execution_count": 13,
   "metadata": {},
   "outputs": [],
   "source": [
    "import geopandas as gpd\n",
    "import pandas as pd\n",
    "# add to your system path the location of the LoadOSM.py and GOSTnet.py scripts\n",
    "sys.path.append(r'/home/vagrant/repos/GOST_PublicGoods/GOSTNets/GOSTNets')\n",
    "import importlib\n",
    "from pulp import LpInteger,LpVariable, LpProblem, lpSum, LpMinimize\n",
    "import os, sys, time\n",
    "import GOSTnet as gn\n",
    "import networkx as nx\n",
    "import osmnx as ox\n",
    "from shapely.ops import unary_union\n",
    "from shapely.wkt import loads\n",
    "from shapely.geometry import LineString, MultiLineString, Point"
   ]
  },
  {
   "cell_type": "code",
   "execution_count": 14,
   "metadata": {},
   "outputs": [],
   "source": [
    "#read back in processed graph\n",
    "G = nx.read_gpickle('./sampleData/nouakchott/MRT_processed.pickle')"
   ]
  },
  {
   "cell_type": "code",
   "execution_count": 15,
   "metadata": {},
   "outputs": [
    {
     "data": {
      "text/plain": [
       "118388"
      ]
     },
     "execution_count": 15,
     "metadata": {},
     "output_type": "execute_result"
    }
   ],
   "source": [
    "G.number_of_edges()"
   ]
  },
  {
   "cell_type": "code",
   "execution_count": 16,
   "metadata": {},
   "outputs": [
    {
     "data": {
      "text/plain": [
       "37305"
      ]
     },
     "execution_count": 16,
     "metadata": {},
     "output_type": "execute_result"
    }
   ],
   "source": [
    "G.number_of_nodes()"
   ]
  },
  {
   "cell_type": "code",
   "execution_count": 17,
   "metadata": {},
   "outputs": [],
   "source": [
    "sd = {          'residential': 10,  # kmph\n",
    "                'primary': 25, # kmph\n",
    "                'primary_link':20,\n",
    "                'motorway':35,\n",
    "                'motorway_link': 25,\n",
    "                'trunk': 20,\n",
    "                'trunk_link':15,\n",
    "                'secondary': 10, # kmph\n",
    "                'secondary_link':5,\n",
    "                'tertiary':5,\n",
    "                'tertiary_link': 5,\n",
    "                'unclassified':5\n",
    "                }"
   ]
  },
  {
   "cell_type": "code",
   "execution_count": 18,
   "metadata": {},
   "outputs": [
    {
     "name": "stdout",
     "output_type": "stream",
     "text": [
      "(0, 24505, {'Wkt': 'LINESTRING (-15.8975893 18.0394637, -15.8976921 18.039127)', 'id': 45978, 'infra_type': 'residential', 'osm_id': '667426151', 'key': 'edge_45978', 'length': 0.03882328422750167, 'Type': 'legitimate'})\n"
     ]
    }
   ],
   "source": [
    "gn.example_edge(G)"
   ]
  },
  {
   "cell_type": "markdown",
   "metadata": {},
   "source": [
    "### calculates travel time in seconds"
   ]
  },
  {
   "cell_type": "code",
   "execution_count": 19,
   "metadata": {},
   "outputs": [],
   "source": [
    "G_time = gn.convert_network_to_time(G, \n",
    "                                   distance_tag = 'length',\n",
    "                                   graph_type = 'drive', \n",
    "                                   road_col = 'infra_type',\n",
    "                                   speed_dict = sd, \n",
    "                                   factor = 1000)"
   ]
  },
  {
   "cell_type": "code",
   "execution_count": 20,
   "metadata": {},
   "outputs": [
    {
     "name": "stdout",
     "output_type": "stream",
     "text": [
      "(0, 24505, {'Wkt': 'LINESTRING (-15.8975893 18.0394637, -15.8976921 18.039127)', 'id': 45978, 'infra_type': 'residential', 'osm_id': '667426151', 'key': 'edge_45978', 'length': 38.82328422750167, 'Type': 'legitimate', 'time': 13.976382321900601, 'mode': 'drive'})\n"
     ]
    }
   ],
   "source": [
    "gn.example_edge(G_time)"
   ]
  },
  {
   "cell_type": "code",
   "execution_count": 21,
   "metadata": {},
   "outputs": [],
   "source": [
    "D = list(nx.strongly_connected_component_subgraphs(G_time))"
   ]
  },
  {
   "cell_type": "code",
   "execution_count": 22,
   "metadata": {},
   "outputs": [
    {
     "data": {
      "text/plain": [
       "11"
      ]
     },
     "execution_count": 22,
     "metadata": {},
     "output_type": "execute_result"
    }
   ],
   "source": [
    "len(D)"
   ]
  },
  {
   "cell_type": "markdown",
   "metadata": {},
   "source": [
    "### get the largest subgraph"
   ]
  },
  {
   "cell_type": "code",
   "execution_count": 23,
   "metadata": {},
   "outputs": [],
   "source": [
    "G = D[0]"
   ]
  },
  {
   "cell_type": "code",
   "execution_count": 24,
   "metadata": {},
   "outputs": [],
   "source": [
    "G = nx.convert_node_labels_to_integers(G)"
   ]
  },
  {
   "cell_type": "code",
   "execution_count": 25,
   "metadata": {},
   "outputs": [],
   "source": [
    "gn.save(G, 'biggest_subg', './sampleData/nouakchott/')"
   ]
  },
  {
   "cell_type": "code",
   "execution_count": 26,
   "metadata": {},
   "outputs": [],
   "source": [
    "#make sure origins and destinations are created. They will be CSVs with 'Lat' and 'Lon' columns.\n",
    "#There will also need to be a way in the future to add a 'demand' column for the origins CSV, and a 'capacity' column for the destinations dataset.\n",
    "origins = pd.read_csv('./sampleData/nouakchott/origins_test1.csv')\n"
   ]
  },
  {
   "cell_type": "markdown",
   "metadata": {},
   "source": [
    "### import origins and snap to nearest node in graph"
   ]
  },
  {
   "cell_type": "code",
   "execution_count": 27,
   "metadata": {},
   "outputs": [
    {
     "name": "stderr",
     "output_type": "stream",
     "text": [
      "/home/vagrant/repos/GOST_PublicGoods/GOSTNets/GOSTNets/GOSTnet.py:1585: FutureWarning: Method .as_matrix will be removed in a future version. Use .values instead.\n",
      "  G_tree = spatial.KDTree(node_gdf[['x','y']].as_matrix())\n",
      "/home/vagrant/repos/GOST_PublicGoods/GOSTNets/GOSTNets/GOSTnet.py:1587: FutureWarning: Method .as_matrix will be removed in a future version. Use .values instead.\n",
      "  distances, indices = G_tree.query(in_df[['x','y']].as_matrix())\n"
     ]
    }
   ],
   "source": [
    "origins['geometry'] = list(zip(origins['Lon'],origins['Lat']))\n",
    "origins['geometry'] = origins['geometry'].apply(Point)\n",
    "origins_gdf = gpd.GeoDataFrame(origins, crs = {'init':'epsg:4326'}, geometry = 'geometry')\n",
    "origins_gdf = gn.pandana_snap(G, origins_gdf, target_crs = 'epsg:32628', add_dist_to_node_col = True)\n",
    "origins = list(origins_gdf.NN)\n",
    "origins = list(set(origins))"
   ]
  },
  {
   "cell_type": "code",
   "execution_count": 28,
   "metadata": {},
   "outputs": [
    {
     "data": {
      "text/html": [
       "<div>\n",
       "<style scoped>\n",
       "    .dataframe tbody tr th:only-of-type {\n",
       "        vertical-align: middle;\n",
       "    }\n",
       "\n",
       "    .dataframe tbody tr th {\n",
       "        vertical-align: top;\n",
       "    }\n",
       "\n",
       "    .dataframe thead th {\n",
       "        text-align: right;\n",
       "    }\n",
       "</style>\n",
       "<table border=\"1\" class=\"dataframe\">\n",
       "  <thead>\n",
       "    <tr style=\"text-align: right;\">\n",
       "      <th></th>\n",
       "      <th>Lon</th>\n",
       "      <th>Lat</th>\n",
       "      <th>id</th>\n",
       "      <th>demand</th>\n",
       "      <th>geometry</th>\n",
       "      <th>NN</th>\n",
       "      <th>NN_dist</th>\n",
       "    </tr>\n",
       "  </thead>\n",
       "  <tbody>\n",
       "    <tr>\n",
       "      <th>0</th>\n",
       "      <td>-15.920091</td>\n",
       "      <td>18.068748</td>\n",
       "      <td>0</td>\n",
       "      <td>492971</td>\n",
       "      <td>POINT (-15.9200905444876 18.068747698414)</td>\n",
       "      <td>5343</td>\n",
       "      <td>38.598697</td>\n",
       "    </tr>\n",
       "    <tr>\n",
       "      <th>1</th>\n",
       "      <td>-15.970769</td>\n",
       "      <td>18.011527</td>\n",
       "      <td>1</td>\n",
       "      <td>455613</td>\n",
       "      <td>POINT (-15.9707686005727 18.0115274721116)</td>\n",
       "      <td>15307</td>\n",
       "      <td>40.916068</td>\n",
       "    </tr>\n",
       "    <tr>\n",
       "      <th>2</th>\n",
       "      <td>-16.017149</td>\n",
       "      <td>18.101601</td>\n",
       "      <td>2</td>\n",
       "      <td>461385</td>\n",
       "      <td>POINT (-16.0171494105211 18.1016011324086)</td>\n",
       "      <td>32797</td>\n",
       "      <td>13.793765</td>\n",
       "    </tr>\n",
       "    <tr>\n",
       "      <th>3</th>\n",
       "      <td>-16.011744</td>\n",
       "      <td>18.080487</td>\n",
       "      <td>3</td>\n",
       "      <td>253764</td>\n",
       "      <td>POINT (-16.0117439165805 18.0804867868114)</td>\n",
       "      <td>19488</td>\n",
       "      <td>93.794886</td>\n",
       "    </tr>\n",
       "    <tr>\n",
       "      <th>4</th>\n",
       "      <td>-15.874072</td>\n",
       "      <td>18.065438</td>\n",
       "      <td>4</td>\n",
       "      <td>182095</td>\n",
       "      <td>POINT (-15.8740715454476 18.065437965025)</td>\n",
       "      <td>11633</td>\n",
       "      <td>199.641930</td>\n",
       "    </tr>\n",
       "    <tr>\n",
       "      <th>5</th>\n",
       "      <td>-15.936539</td>\n",
       "      <td>18.142234</td>\n",
       "      <td>5</td>\n",
       "      <td>325801</td>\n",
       "      <td>POINT (-15.9365393885209 18.1422342764535)</td>\n",
       "      <td>34556</td>\n",
       "      <td>33.226094</td>\n",
       "    </tr>\n",
       "    <tr>\n",
       "      <th>6</th>\n",
       "      <td>-15.936032</td>\n",
       "      <td>18.035973</td>\n",
       "      <td>6</td>\n",
       "      <td>216626</td>\n",
       "      <td>POINT (-15.9360316762384 18.0359726230182)</td>\n",
       "      <td>34965</td>\n",
       "      <td>28.303928</td>\n",
       "    </tr>\n",
       "    <tr>\n",
       "      <th>7</th>\n",
       "      <td>-15.989495</td>\n",
       "      <td>18.010282</td>\n",
       "      <td>7</td>\n",
       "      <td>175802</td>\n",
       "      <td>POINT (-15.989494705491 18.0102817599499)</td>\n",
       "      <td>5702</td>\n",
       "      <td>18.700289</td>\n",
       "    </tr>\n",
       "    <tr>\n",
       "      <th>8</th>\n",
       "      <td>-15.988440</td>\n",
       "      <td>18.062400</td>\n",
       "      <td>8</td>\n",
       "      <td>161223</td>\n",
       "      <td>POINT (-15.9884396394221 18.062399556345)</td>\n",
       "      <td>11029</td>\n",
       "      <td>12.908252</td>\n",
       "    </tr>\n",
       "    <tr>\n",
       "      <th>9</th>\n",
       "      <td>-15.979721</td>\n",
       "      <td>17.992657</td>\n",
       "      <td>9</td>\n",
       "      <td>196191</td>\n",
       "      <td>POINT (-15.979721387056 17.9926573776181)</td>\n",
       "      <td>12121</td>\n",
       "      <td>45.940805</td>\n",
       "    </tr>\n",
       "  </tbody>\n",
       "</table>\n",
       "</div>"
      ],
      "text/plain": [
       "         Lon        Lat  id  demand  \\\n",
       "0 -15.920091  18.068748   0  492971   \n",
       "1 -15.970769  18.011527   1  455613   \n",
       "2 -16.017149  18.101601   2  461385   \n",
       "3 -16.011744  18.080487   3  253764   \n",
       "4 -15.874072  18.065438   4  182095   \n",
       "5 -15.936539  18.142234   5  325801   \n",
       "6 -15.936032  18.035973   6  216626   \n",
       "7 -15.989495  18.010282   7  175802   \n",
       "8 -15.988440  18.062400   8  161223   \n",
       "9 -15.979721  17.992657   9  196191   \n",
       "\n",
       "                                     geometry     NN     NN_dist  \n",
       "0   POINT (-15.9200905444876 18.068747698414)   5343   38.598697  \n",
       "1  POINT (-15.9707686005727 18.0115274721116)  15307   40.916068  \n",
       "2  POINT (-16.0171494105211 18.1016011324086)  32797   13.793765  \n",
       "3  POINT (-16.0117439165805 18.0804867868114)  19488   93.794886  \n",
       "4   POINT (-15.8740715454476 18.065437965025)  11633  199.641930  \n",
       "5  POINT (-15.9365393885209 18.1422342764535)  34556   33.226094  \n",
       "6  POINT (-15.9360316762384 18.0359726230182)  34965   28.303928  \n",
       "7   POINT (-15.989494705491 18.0102817599499)   5702   18.700289  \n",
       "8   POINT (-15.9884396394221 18.062399556345)  11029   12.908252  \n",
       "9   POINT (-15.979721387056 17.9926573776181)  12121   45.940805  "
      ]
     },
     "execution_count": 28,
     "metadata": {},
     "output_type": "execute_result"
    }
   ],
   "source": [
    "origins_gdf[:10]"
   ]
  },
  {
   "cell_type": "code",
   "execution_count": 29,
   "metadata": {},
   "outputs": [],
   "source": [
    "destinations = pd.read_csv('./sampleData/nouakchott/destinations_test1.csv')"
   ]
  },
  {
   "cell_type": "markdown",
   "metadata": {},
   "source": [
    "### import destinations and snap to nearest node in graph"
   ]
  },
  {
   "cell_type": "code",
   "execution_count": 30,
   "metadata": {},
   "outputs": [],
   "source": [
    "destinations['geometry'] = list(zip(destinations['Lon'],destinations['Lat']))\n",
    "destinations['geometry'] = destinations['geometry'].apply(Point)\n",
    "destinations_gdf = gpd.GeoDataFrame(destinations, crs = {'init':'epsg:4326'}, geometry = 'geometry')\n",
    "destinations_gdf = gn.pandana_snap(G, destinations_gdf, target_crs = 'epsg:32628', add_dist_to_node_col = True)\n",
    "#destinations_gdf.NN is the nearest node of the road network\n",
    "destinations = list(destinations_gdf.NN)\n",
    "destinations = list(set(destinations))"
   ]
  },
  {
   "cell_type": "code",
   "execution_count": 31,
   "metadata": {},
   "outputs": [
    {
     "data": {
      "text/html": [
       "<div>\n",
       "<style scoped>\n",
       "    .dataframe tbody tr th:only-of-type {\n",
       "        vertical-align: middle;\n",
       "    }\n",
       "\n",
       "    .dataframe tbody tr th {\n",
       "        vertical-align: top;\n",
       "    }\n",
       "\n",
       "    .dataframe thead th {\n",
       "        text-align: right;\n",
       "    }\n",
       "</style>\n",
       "<table border=\"1\" class=\"dataframe\">\n",
       "  <thead>\n",
       "    <tr style=\"text-align: right;\">\n",
       "      <th></th>\n",
       "      <th>Lon</th>\n",
       "      <th>Lat</th>\n",
       "      <th>id</th>\n",
       "      <th>Unnamed: 3</th>\n",
       "      <th>geometry</th>\n",
       "      <th>NN</th>\n",
       "      <th>NN_dist</th>\n",
       "    </tr>\n",
       "  </thead>\n",
       "  <tbody>\n",
       "    <tr>\n",
       "      <th>0</th>\n",
       "      <td>-16.005524</td>\n",
       "      <td>18.133726</td>\n",
       "      <td>1</td>\n",
       "      <td>NaN</td>\n",
       "      <td>POINT (-16.0055244876789 18.1337264869769)</td>\n",
       "      <td>25486</td>\n",
       "      <td>244.940598</td>\n",
       "    </tr>\n",
       "    <tr>\n",
       "      <th>1</th>\n",
       "      <td>-15.911223</td>\n",
       "      <td>18.146442</td>\n",
       "      <td>2</td>\n",
       "      <td>NaN</td>\n",
       "      <td>POINT (-15.9112234904605 18.1464419959018)</td>\n",
       "      <td>6724</td>\n",
       "      <td>91.625141</td>\n",
       "    </tr>\n",
       "    <tr>\n",
       "      <th>2</th>\n",
       "      <td>-15.894339</td>\n",
       "      <td>18.046510</td>\n",
       "      <td>3</td>\n",
       "      <td>NaN</td>\n",
       "      <td>POINT (-15.8943385146072 18.0465095569873)</td>\n",
       "      <td>1646</td>\n",
       "      <td>26.534798</td>\n",
       "    </tr>\n",
       "    <tr>\n",
       "      <th>3</th>\n",
       "      <td>-15.966657</td>\n",
       "      <td>17.979553</td>\n",
       "      <td>4</td>\n",
       "      <td>NaN</td>\n",
       "      <td>POINT (-15.9666571847713 17.979553320176)</td>\n",
       "      <td>8994</td>\n",
       "      <td>21.888530</td>\n",
       "    </tr>\n",
       "    <tr>\n",
       "      <th>4</th>\n",
       "      <td>-15.980675</td>\n",
       "      <td>18.028031</td>\n",
       "      <td>5</td>\n",
       "      <td>NaN</td>\n",
       "      <td>POINT (-15.980674900574 18.0280309665427)</td>\n",
       "      <td>15739</td>\n",
       "      <td>34.104235</td>\n",
       "    </tr>\n",
       "    <tr>\n",
       "      <th>5</th>\n",
       "      <td>-16.002020</td>\n",
       "      <td>18.067712</td>\n",
       "      <td>6</td>\n",
       "      <td>NaN</td>\n",
       "      <td>POINT (-16.0020200587282 18.0677121043953)</td>\n",
       "      <td>33112</td>\n",
       "      <td>31.657860</td>\n",
       "    </tr>\n",
       "    <tr>\n",
       "      <th>6</th>\n",
       "      <td>-16.002020</td>\n",
       "      <td>18.104962</td>\n",
       "      <td>7</td>\n",
       "      <td>NaN</td>\n",
       "      <td>POINT (-16.0020200587282 18.1049618080371)</td>\n",
       "      <td>4092</td>\n",
       "      <td>52.440472</td>\n",
       "    </tr>\n",
       "    <tr>\n",
       "      <th>7</th>\n",
       "      <td>-15.977170</td>\n",
       "      <td>18.084672</td>\n",
       "      <td>8</td>\n",
       "      <td>NaN</td>\n",
       "      <td>POINT (-15.9771704716234 18.0846722997527)</td>\n",
       "      <td>4965</td>\n",
       "      <td>54.837685</td>\n",
       "    </tr>\n",
       "    <tr>\n",
       "      <th>8</th>\n",
       "      <td>-15.941489</td>\n",
       "      <td>18.061654</td>\n",
       "      <td>9</td>\n",
       "      <td>NaN</td>\n",
       "      <td>POINT (-15.9414890132164 18.0616544947466)</td>\n",
       "      <td>2440</td>\n",
       "      <td>5.547694</td>\n",
       "    </tr>\n",
       "    <tr>\n",
       "      <th>9</th>\n",
       "      <td>-15.954232</td>\n",
       "      <td>18.110110</td>\n",
       "      <td>10</td>\n",
       "      <td>NaN</td>\n",
       "      <td>POINT (-15.9542323912189 18.1101095187286)</td>\n",
       "      <td>7011</td>\n",
       "      <td>6.335953</td>\n",
       "    </tr>\n",
       "  </tbody>\n",
       "</table>\n",
       "</div>"
      ],
      "text/plain": [
       "         Lon        Lat  id  Unnamed: 3  \\\n",
       "0 -16.005524  18.133726   1         NaN   \n",
       "1 -15.911223  18.146442   2         NaN   \n",
       "2 -15.894339  18.046510   3         NaN   \n",
       "3 -15.966657  17.979553   4         NaN   \n",
       "4 -15.980675  18.028031   5         NaN   \n",
       "5 -16.002020  18.067712   6         NaN   \n",
       "6 -16.002020  18.104962   7         NaN   \n",
       "7 -15.977170  18.084672   8         NaN   \n",
       "8 -15.941489  18.061654   9         NaN   \n",
       "9 -15.954232  18.110110  10         NaN   \n",
       "\n",
       "                                     geometry     NN     NN_dist  \n",
       "0  POINT (-16.0055244876789 18.1337264869769)  25486  244.940598  \n",
       "1  POINT (-15.9112234904605 18.1464419959018)   6724   91.625141  \n",
       "2  POINT (-15.8943385146072 18.0465095569873)   1646   26.534798  \n",
       "3   POINT (-15.9666571847713 17.979553320176)   8994   21.888530  \n",
       "4   POINT (-15.980674900574 18.0280309665427)  15739   34.104235  \n",
       "5  POINT (-16.0020200587282 18.0677121043953)  33112   31.657860  \n",
       "6  POINT (-16.0020200587282 18.1049618080371)   4092   52.440472  \n",
       "7  POINT (-15.9771704716234 18.0846722997527)   4965   54.837685  \n",
       "8  POINT (-15.9414890132164 18.0616544947466)   2440    5.547694  \n",
       "9  POINT (-15.9542323912189 18.1101095187286)   7011    6.335953  "
      ]
     },
     "execution_count": 31,
     "metadata": {},
     "output_type": "execute_result"
    }
   ],
   "source": [
    "destinations_gdf[:10]"
   ]
  },
  {
   "cell_type": "code",
   "execution_count": 32,
   "metadata": {},
   "outputs": [
    {
     "name": "stdout",
     "output_type": "stream",
     "text": [
      "length of origins is 50\n"
     ]
    }
   ],
   "source": [
    "print(\"length of origins is %s\" % len(origins))"
   ]
  },
  {
   "cell_type": "code",
   "execution_count": 33,
   "metadata": {},
   "outputs": [
    {
     "name": "stdout",
     "output_type": "stream",
     "text": [
      "length of destinations is 10\n"
     ]
    }
   ],
   "source": [
    "print(\"length of destinations is %s\" % len(destinations))"
   ]
  },
  {
   "cell_type": "code",
   "execution_count": 34,
   "metadata": {},
   "outputs": [
    {
     "data": {
      "text/plain": [
       "500"
      ]
     },
     "execution_count": 34,
     "metadata": {},
     "output_type": "execute_result"
    }
   ],
   "source": [
    "len(origins) * len(destinations)"
   ]
  },
  {
   "cell_type": "code",
   "execution_count": 35,
   "metadata": {},
   "outputs": [
    {
     "name": "stdout",
     "output_type": "stream",
     "text": [
      "[8994, 7011, 6724, 4965, 2440, 1646, 25486, 33112, 15739, 4092]\n"
     ]
    }
   ],
   "source": [
    "d_test = destinations[:50]\n",
    "print(d_test)"
   ]
  },
  {
   "cell_type": "markdown",
   "metadata": {},
   "source": [
    "### make Origin Destination Matrix"
   ]
  },
  {
   "cell_type": "code",
   "execution_count": 36,
   "metadata": {},
   "outputs": [
    {
     "name": "stdout",
     "output_type": "stream",
     "text": [
      "CPU times: user 2.45 s, sys: 0 ns, total: 2.45 s\n",
      "Wall time: 2.89 s\n"
     ]
    }
   ],
   "source": [
    "%time OD = gn.calculate_OD(G, origins, destinations, fail_value = 9999999999999)"
   ]
  },
  {
   "cell_type": "code",
   "execution_count": 53,
   "metadata": {},
   "outputs": [],
   "source": [
    "OD_df = pd.DataFrame(OD, columns = destinations, index = origins)"
   ]
  },
  {
   "cell_type": "code",
   "execution_count": 54,
   "metadata": {},
   "outputs": [],
   "source": [
    "facilities = OD_df.columns.values.tolist()"
   ]
  },
  {
   "cell_type": "markdown",
   "metadata": {},
   "source": [
    "### facilities list"
   ]
  },
  {
   "cell_type": "code",
   "execution_count": 55,
   "metadata": {},
   "outputs": [
    {
     "data": {
      "text/plain": [
       "[8994, 7011, 6724, 4965, 2440, 1646, 25486, 33112, 15739, 4092]"
      ]
     },
     "execution_count": 55,
     "metadata": {},
     "output_type": "execute_result"
    }
   ],
   "source": [
    "facilities"
   ]
  },
  {
   "cell_type": "markdown",
   "metadata": {},
   "source": [
    "### P-Median problem"
   ]
  },
  {
   "cell_type": "code",
   "execution_count": 56,
   "metadata": {},
   "outputs": [],
   "source": [
    "result = gn.optimize_facility_locations(OD_df, facilities, 4, existing_facilities = None)"
   ]
  },
  {
   "cell_type": "code",
   "execution_count": 57,
   "metadata": {},
   "outputs": [
    {
     "data": {
      "text/plain": [
       "[15739, 2440, 4092, 7011]"
      ]
     },
     "execution_count": 57,
     "metadata": {},
     "output_type": "execute_result"
    }
   ],
   "source": [
    "result"
   ]
  },
  {
   "cell_type": "code",
   "execution_count": 42,
   "metadata": {},
   "outputs": [],
   "source": [
    "#result is 5,9,7,10"
   ]
  },
  {
   "cell_type": "code",
   "execution_count": 43,
   "metadata": {},
   "outputs": [
    {
     "name": "stdout",
     "output_type": "stream",
     "text": [
      "peartree version: 0.6.1 \n",
      "networkx version: 2.2 \n",
      "matplotlib version: 3.0.3 \n",
      "osmnx version: 0.9 \n"
     ]
    },
    {
     "data": {
      "text/plain": [
       "<module 'GOSTnet' from '/home/vagrant/repos/GOST_PublicGoods/GOSTNets/GOSTNets/GOSTnet.py'>"
      ]
     },
     "execution_count": 43,
     "metadata": {},
     "output_type": "execute_result"
    }
   ],
   "source": [
    "import importlib\n",
    "importlib.reload(gn)"
   ]
  },
  {
   "cell_type": "markdown",
   "metadata": {},
   "source": [
    "## P-Median problem with choosing two facilities locations beforehand"
   ]
  },
  {
   "cell_type": "code",
   "execution_count": 76,
   "metadata": {},
   "outputs": [],
   "source": [
    "result2 = gn.optimize_facility_locations(OD_df, facilities, 4, existing_facilities = [8994,25486])"
   ]
  },
  {
   "cell_type": "code",
   "execution_count": 77,
   "metadata": {},
   "outputs": [
    {
     "data": {
      "text/plain": [
       "[2440, 25486, 4965, 8994]"
      ]
     },
     "execution_count": 77,
     "metadata": {},
     "output_type": "execute_result"
    }
   ],
   "source": [
    "result2"
   ]
  },
  {
   "cell_type": "markdown",
   "metadata": {},
   "source": [
    "## P-Median problem with population weights"
   ]
  },
  {
   "cell_type": "code",
   "execution_count": 59,
   "metadata": {},
   "outputs": [
    {
     "data": {
      "text/html": [
       "<div>\n",
       "<style scoped>\n",
       "    .dataframe tbody tr th:only-of-type {\n",
       "        vertical-align: middle;\n",
       "    }\n",
       "\n",
       "    .dataframe tbody tr th {\n",
       "        vertical-align: top;\n",
       "    }\n",
       "\n",
       "    .dataframe thead th {\n",
       "        text-align: right;\n",
       "    }\n",
       "</style>\n",
       "<table border=\"1\" class=\"dataframe\">\n",
       "  <thead>\n",
       "    <tr style=\"text-align: right;\">\n",
       "      <th></th>\n",
       "      <th>8994</th>\n",
       "      <th>7011</th>\n",
       "      <th>6724</th>\n",
       "      <th>4965</th>\n",
       "      <th>2440</th>\n",
       "      <th>1646</th>\n",
       "      <th>25486</th>\n",
       "      <th>33112</th>\n",
       "      <th>15739</th>\n",
       "      <th>4092</th>\n",
       "    </tr>\n",
       "  </thead>\n",
       "  <tbody>\n",
       "    <tr>\n",
       "      <th>28291</th>\n",
       "      <td>3340.836168</td>\n",
       "      <td>1941.811792</td>\n",
       "      <td>2474.175924</td>\n",
       "      <td>1637.061354</td>\n",
       "      <td>1065.073847</td>\n",
       "      <td>2019.845992</td>\n",
       "      <td>2802.051017</td>\n",
       "      <td>2740.249661</td>\n",
       "      <td>2390.308863</td>\n",
       "      <td>2326.188681</td>\n",
       "    </tr>\n",
       "    <tr>\n",
       "      <th>15877</th>\n",
       "      <td>3719.561387</td>\n",
       "      <td>552.200337</td>\n",
       "      <td>1662.082592</td>\n",
       "      <td>1663.938809</td>\n",
       "      <td>2262.278821</td>\n",
       "      <td>3431.780571</td>\n",
       "      <td>2196.624544</td>\n",
       "      <td>2859.957422</td>\n",
       "      <td>2766.786612</td>\n",
       "      <td>1923.391222</td>\n",
       "    </tr>\n",
       "    <tr>\n",
       "      <th>33926</th>\n",
       "      <td>3774.268565</td>\n",
       "      <td>1292.827363</td>\n",
       "      <td>2257.561160</td>\n",
       "      <td>1196.118322</td>\n",
       "      <td>2316.985999</td>\n",
       "      <td>3486.487749</td>\n",
       "      <td>1490.138612</td>\n",
       "      <td>2222.673912</td>\n",
       "      <td>2819.961653</td>\n",
       "      <td>1017.160746</td>\n",
       "    </tr>\n",
       "    <tr>\n",
       "      <th>4101</th>\n",
       "      <td>2611.859344</td>\n",
       "      <td>2272.648285</td>\n",
       "      <td>2805.012416</td>\n",
       "      <td>1967.897847</td>\n",
       "      <td>575.529981</td>\n",
       "      <td>2532.306273</td>\n",
       "      <td>3132.887509</td>\n",
       "      <td>2695.357159</td>\n",
       "      <td>1661.431381</td>\n",
       "      <td>2657.025174</td>\n",
       "    </tr>\n",
       "    <tr>\n",
       "      <th>7178</th>\n",
       "      <td>2013.543292</td>\n",
       "      <td>1682.311487</td>\n",
       "      <td>2214.675618</td>\n",
       "      <td>1376.028912</td>\n",
       "      <td>1622.705275</td>\n",
       "      <td>2792.331903</td>\n",
       "      <td>2541.018574</td>\n",
       "      <td>1233.723334</td>\n",
       "      <td>1045.810811</td>\n",
       "      <td>2065.156239</td>\n",
       "    </tr>\n",
       "    <tr>\n",
       "      <th>15243</th>\n",
       "      <td>1622.658588</td>\n",
       "      <td>2097.960971</td>\n",
       "      <td>2630.325102</td>\n",
       "      <td>1791.678396</td>\n",
       "      <td>2038.354760</td>\n",
       "      <td>3207.981387</td>\n",
       "      <td>2956.668059</td>\n",
       "      <td>1927.828917</td>\n",
       "      <td>244.203522</td>\n",
       "      <td>2480.805723</td>\n",
       "    </tr>\n",
       "    <tr>\n",
       "      <th>14482</th>\n",
       "      <td>2911.656748</td>\n",
       "      <td>2009.776870</td>\n",
       "      <td>2542.141001</td>\n",
       "      <td>995.746620</td>\n",
       "      <td>2243.302682</td>\n",
       "      <td>3412.929310</td>\n",
       "      <td>1785.201938</td>\n",
       "      <td>366.536414</td>\n",
       "      <td>1938.141226</td>\n",
       "      <td>1309.339603</td>\n",
       "    </tr>\n",
       "    <tr>\n",
       "      <th>34965</th>\n",
       "      <td>2980.030795</td>\n",
       "      <td>3014.883868</td>\n",
       "      <td>3547.248000</td>\n",
       "      <td>2710.133431</td>\n",
       "      <td>1363.870746</td>\n",
       "      <td>2203.531169</td>\n",
       "      <td>3875.123093</td>\n",
       "      <td>3153.667045</td>\n",
       "      <td>2034.871046</td>\n",
       "      <td>3399.260757</td>\n",
       "    </tr>\n",
       "    <tr>\n",
       "      <th>11029</th>\n",
       "      <td>2550.781031</td>\n",
       "      <td>2089.009361</td>\n",
       "      <td>2621.373492</td>\n",
       "      <td>1244.331640</td>\n",
       "      <td>2029.403150</td>\n",
       "      <td>3199.029777</td>\n",
       "      <td>2313.401780</td>\n",
       "      <td>733.056700</td>\n",
       "      <td>1577.265509</td>\n",
       "      <td>1837.539444</td>\n",
       "    </tr>\n",
       "    <tr>\n",
       "      <th>22552</th>\n",
       "      <td>2459.436717</td>\n",
       "      <td>1533.001302</td>\n",
       "      <td>2065.365433</td>\n",
       "      <td>1228.250864</td>\n",
       "      <td>929.352851</td>\n",
       "      <td>2489.316195</td>\n",
       "      <td>2393.240526</td>\n",
       "      <td>1977.578287</td>\n",
       "      <td>1509.008754</td>\n",
       "      <td>1917.378191</td>\n",
       "    </tr>\n",
       "  </tbody>\n",
       "</table>\n",
       "</div>"
      ],
      "text/plain": [
       "             8994         7011         6724         4965         2440   \\\n",
       "28291  3340.836168  1941.811792  2474.175924  1637.061354  1065.073847   \n",
       "15877  3719.561387   552.200337  1662.082592  1663.938809  2262.278821   \n",
       "33926  3774.268565  1292.827363  2257.561160  1196.118322  2316.985999   \n",
       "4101   2611.859344  2272.648285  2805.012416  1967.897847   575.529981   \n",
       "7178   2013.543292  1682.311487  2214.675618  1376.028912  1622.705275   \n",
       "15243  1622.658588  2097.960971  2630.325102  1791.678396  2038.354760   \n",
       "14482  2911.656748  2009.776870  2542.141001   995.746620  2243.302682   \n",
       "34965  2980.030795  3014.883868  3547.248000  2710.133431  1363.870746   \n",
       "11029  2550.781031  2089.009361  2621.373492  1244.331640  2029.403150   \n",
       "22552  2459.436717  1533.001302  2065.365433  1228.250864   929.352851   \n",
       "\n",
       "             1646         25486        33112        15739        4092   \n",
       "28291  2019.845992  2802.051017  2740.249661  2390.308863  2326.188681  \n",
       "15877  3431.780571  2196.624544  2859.957422  2766.786612  1923.391222  \n",
       "33926  3486.487749  1490.138612  2222.673912  2819.961653  1017.160746  \n",
       "4101   2532.306273  3132.887509  2695.357159  1661.431381  2657.025174  \n",
       "7178   2792.331903  2541.018574  1233.723334  1045.810811  2065.156239  \n",
       "15243  3207.981387  2956.668059  1927.828917   244.203522  2480.805723  \n",
       "14482  3412.929310  1785.201938   366.536414  1938.141226  1309.339603  \n",
       "34965  2203.531169  3875.123093  3153.667045  2034.871046  3399.260757  \n",
       "11029  3199.029777  2313.401780   733.056700  1577.265509  1837.539444  \n",
       "22552  2489.316195  2393.240526  1977.578287  1509.008754  1917.378191  "
      ]
     },
     "execution_count": 59,
     "metadata": {},
     "output_type": "execute_result"
    }
   ],
   "source": [
    "OD_df[:10]"
   ]
  },
  {
   "cell_type": "markdown",
   "metadata": {},
   "source": [
    "### create weighted OD matrix"
   ]
  },
  {
   "cell_type": "code",
   "execution_count": 60,
   "metadata": {},
   "outputs": [],
   "source": [
    "origins_w_demands_series = pd.Series(origins_gdf.demand.values,index=origins_gdf.NN)"
   ]
  },
  {
   "cell_type": "code",
   "execution_count": 1,
   "metadata": {},
   "outputs": [
    {
     "ename": "NameError",
     "evalue": "name 'origins_w_demands_series' is not defined",
     "output_type": "error",
     "traceback": [
      "\u001b[1;31m---------------------------------------------------------------------------\u001b[0m",
      "\u001b[1;31mNameError\u001b[0m                                 Traceback (most recent call last)",
      "\u001b[1;32m<ipython-input-1-b03cd01a472e>\u001b[0m in \u001b[0;36m<module>\u001b[1;34m\u001b[0m\n\u001b[1;32m----> 1\u001b[1;33m \u001b[0morigins_w_demands_series\u001b[0m\u001b[1;33m\u001b[0m\u001b[1;33m\u001b[0m\u001b[0m\n\u001b[0m",
      "\u001b[1;31mNameError\u001b[0m: name 'origins_w_demands_series' is not defined"
     ]
    }
   ],
   "source": [
    "origins_w_demands_series"
   ]
  },
  {
   "cell_type": "code",
   "execution_count": 61,
   "metadata": {},
   "outputs": [],
   "source": [
    "OD_weighted_df = OD_df.mul(origins_w_demands_series, axis='index')"
   ]
  },
  {
   "cell_type": "code",
   "execution_count": 62,
   "metadata": {
    "scrolled": true
   },
   "outputs": [
    {
     "data": {
      "text/html": [
       "<div>\n",
       "<style scoped>\n",
       "    .dataframe tbody tr th:only-of-type {\n",
       "        vertical-align: middle;\n",
       "    }\n",
       "\n",
       "    .dataframe tbody tr th {\n",
       "        vertical-align: top;\n",
       "    }\n",
       "\n",
       "    .dataframe thead th {\n",
       "        text-align: right;\n",
       "    }\n",
       "</style>\n",
       "<table border=\"1\" class=\"dataframe\">\n",
       "  <thead>\n",
       "    <tr style=\"text-align: right;\">\n",
       "      <th></th>\n",
       "      <th>8994</th>\n",
       "      <th>7011</th>\n",
       "      <th>6724</th>\n",
       "      <th>4965</th>\n",
       "      <th>2440</th>\n",
       "      <th>1646</th>\n",
       "      <th>25486</th>\n",
       "      <th>33112</th>\n",
       "      <th>15739</th>\n",
       "      <th>4092</th>\n",
       "    </tr>\n",
       "  </thead>\n",
       "  <tbody>\n",
       "    <tr>\n",
       "      <th>2044</th>\n",
       "      <td>1.543375e+09</td>\n",
       "      <td>5.356788e+08</td>\n",
       "      <td>2.163305e+08</td>\n",
       "      <td>7.120850e+08</td>\n",
       "      <td>9.540526e+08</td>\n",
       "      <td>1.426997e+09</td>\n",
       "      <td>1.182791e+09</td>\n",
       "      <td>1.195753e+09</td>\n",
       "      <td>1.158074e+09</td>\n",
       "      <td>9.903530e+08</td>\n",
       "    </tr>\n",
       "    <tr>\n",
       "      <th>4101</th>\n",
       "      <td>1.104067e+09</td>\n",
       "      <td>9.606780e+08</td>\n",
       "      <td>1.185715e+09</td>\n",
       "      <td>8.318560e+08</td>\n",
       "      <td>2.432840e+08</td>\n",
       "      <td>1.070439e+09</td>\n",
       "      <td>1.324312e+09</td>\n",
       "      <td>1.139363e+09</td>\n",
       "      <td>7.023086e+08</td>\n",
       "      <td>1.123159e+09</td>\n",
       "    </tr>\n",
       "    <tr>\n",
       "      <th>4798</th>\n",
       "      <td>9.811135e+08</td>\n",
       "      <td>5.178723e+08</td>\n",
       "      <td>7.059038e+08</td>\n",
       "      <td>1.196689e+08</td>\n",
       "      <td>5.608275e+08</td>\n",
       "      <td>9.739408e+08</td>\n",
       "      <td>5.955512e+08</td>\n",
       "      <td>4.000296e+08</td>\n",
       "      <td>6.430138e+08</td>\n",
       "      <td>4.274762e+08</td>\n",
       "    </tr>\n",
       "    <tr>\n",
       "      <th>4851</th>\n",
       "      <td>8.694110e+07</td>\n",
       "      <td>1.554802e+08</td>\n",
       "      <td>1.895452e+08</td>\n",
       "      <td>1.358818e+08</td>\n",
       "      <td>1.502566e+08</td>\n",
       "      <td>2.265082e+08</td>\n",
       "      <td>2.104272e+08</td>\n",
       "      <td>1.480752e+08</td>\n",
       "      <td>2.036880e+07</td>\n",
       "      <td>1.799777e+08</td>\n",
       "    </tr>\n",
       "    <tr>\n",
       "      <th>5048</th>\n",
       "      <td>1.938202e+08</td>\n",
       "      <td>3.253279e+08</td>\n",
       "      <td>3.714110e+08</td>\n",
       "      <td>2.989478e+08</td>\n",
       "      <td>2.390231e+08</td>\n",
       "      <td>2.569715e+08</td>\n",
       "      <td>3.997928e+08</td>\n",
       "      <td>3.159795e+08</td>\n",
       "      <td>1.796727e+08</td>\n",
       "      <td>3.586007e+08</td>\n",
       "    </tr>\n",
       "    <tr>\n",
       "      <th>5307</th>\n",
       "      <td>1.493442e+09</td>\n",
       "      <td>1.015979e+09</td>\n",
       "      <td>1.197898e+09</td>\n",
       "      <td>9.118396e+08</td>\n",
       "      <td>7.148961e+08</td>\n",
       "      <td>6.829129e+07</td>\n",
       "      <td>1.309939e+09</td>\n",
       "      <td>1.288210e+09</td>\n",
       "      <td>1.168629e+09</td>\n",
       "      <td>1.147328e+09</td>\n",
       "    </tr>\n",
       "    <tr>\n",
       "      <th>5343</th>\n",
       "      <td>1.511662e+09</td>\n",
       "      <td>8.236943e+08</td>\n",
       "      <td>1.086134e+09</td>\n",
       "      <td>6.734612e+08</td>\n",
       "      <td>3.885154e+08</td>\n",
       "      <td>6.798848e+08</td>\n",
       "      <td>1.247767e+09</td>\n",
       "      <td>1.215590e+09</td>\n",
       "      <td>1.043079e+09</td>\n",
       "      <td>1.013181e+09</td>\n",
       "    </tr>\n",
       "    <tr>\n",
       "      <th>5702</th>\n",
       "      <td>2.810809e+08</td>\n",
       "      <td>5.160977e+08</td>\n",
       "      <td>6.096884e+08</td>\n",
       "      <td>4.622526e+08</td>\n",
       "      <td>5.013575e+08</td>\n",
       "      <td>7.108702e+08</td>\n",
       "      <td>6.670602e+08</td>\n",
       "      <td>4.957529e+08</td>\n",
       "      <td>1.674057e+08</td>\n",
       "      <td>5.834026e+08</td>\n",
       "    </tr>\n",
       "    <tr>\n",
       "      <th>7178</th>\n",
       "      <td>5.383409e+08</td>\n",
       "      <td>4.497828e+08</td>\n",
       "      <td>5.921157e+08</td>\n",
       "      <td>3.678951e+08</td>\n",
       "      <td>4.338465e+08</td>\n",
       "      <td>7.465579e+08</td>\n",
       "      <td>6.793667e+08</td>\n",
       "      <td>3.298483e+08</td>\n",
       "      <td>2.796080e+08</td>\n",
       "      <td>5.521402e+08</td>\n",
       "    </tr>\n",
       "    <tr>\n",
       "      <th>8638</th>\n",
       "      <td>1.200892e+09</td>\n",
       "      <td>2.607190e+08</td>\n",
       "      <td>3.924377e+08</td>\n",
       "      <td>5.372469e+08</td>\n",
       "      <td>7.304174e+08</td>\n",
       "      <td>1.107984e+09</td>\n",
       "      <td>9.095198e+08</td>\n",
       "      <td>9.233743e+08</td>\n",
       "      <td>8.932947e+08</td>\n",
       "      <td>7.593972e+08</td>\n",
       "    </tr>\n",
       "    <tr>\n",
       "      <th>9699</th>\n",
       "      <td>9.277560e+07</td>\n",
       "      <td>1.805801e+08</td>\n",
       "      <td>2.116696e+08</td>\n",
       "      <td>1.627829e+08</td>\n",
       "      <td>1.570200e+08</td>\n",
       "      <td>2.109185e+08</td>\n",
       "      <td>2.308172e+08</td>\n",
       "      <td>1.740934e+08</td>\n",
       "      <td>8.152463e+07</td>\n",
       "      <td>2.030273e+08</td>\n",
       "    </tr>\n",
       "    <tr>\n",
       "      <th>9703</th>\n",
       "      <td>4.005135e+08</td>\n",
       "      <td>2.746904e+08</td>\n",
       "      <td>3.226883e+08</td>\n",
       "      <td>2.472141e+08</td>\n",
       "      <td>1.951001e+08</td>\n",
       "      <td>5.898020e+07</td>\n",
       "      <td>3.522496e+08</td>\n",
       "      <td>3.463646e+08</td>\n",
       "      <td>3.148140e+08</td>\n",
       "      <td>3.093458e+08</td>\n",
       "    </tr>\n",
       "    <tr>\n",
       "      <th>10098</th>\n",
       "      <td>1.558559e+09</td>\n",
       "      <td>1.805480e+09</td>\n",
       "      <td>2.062540e+09</td>\n",
       "      <td>1.658327e+09</td>\n",
       "      <td>1.007422e+09</td>\n",
       "      <td>8.919739e+08</td>\n",
       "      <td>2.220859e+09</td>\n",
       "      <td>1.860184e+09</td>\n",
       "      <td>1.305980e+09</td>\n",
       "      <td>1.991082e+09</td>\n",
       "    </tr>\n",
       "    <tr>\n",
       "      <th>11029</th>\n",
       "      <td>4.112446e+08</td>\n",
       "      <td>3.367964e+08</td>\n",
       "      <td>4.226257e+08</td>\n",
       "      <td>2.006149e+08</td>\n",
       "      <td>3.271865e+08</td>\n",
       "      <td>5.157572e+08</td>\n",
       "      <td>3.729736e+08</td>\n",
       "      <td>1.181856e+08</td>\n",
       "      <td>2.542915e+08</td>\n",
       "      <td>2.962536e+08</td>\n",
       "    </tr>\n",
       "    <tr>\n",
       "      <th>11310</th>\n",
       "      <td>1.234219e+09</td>\n",
       "      <td>7.544492e+08</td>\n",
       "      <td>9.370139e+08</td>\n",
       "      <td>6.499405e+08</td>\n",
       "      <td>4.530041e+08</td>\n",
       "      <td>4.714829e+08</td>\n",
       "      <td>1.049453e+09</td>\n",
       "      <td>1.028259e+09</td>\n",
       "      <td>9.082532e+08</td>\n",
       "      <td>8.862643e+08</td>\n",
       "    </tr>\n",
       "    <tr>\n",
       "      <th>11322</th>\n",
       "      <td>2.018069e+09</td>\n",
       "      <td>1.010018e+09</td>\n",
       "      <td>1.449082e+09</td>\n",
       "      <td>7.979968e+08</td>\n",
       "      <td>1.338156e+09</td>\n",
       "      <td>1.883801e+09</td>\n",
       "      <td>2.867751e+08</td>\n",
       "      <td>1.105009e+09</td>\n",
       "      <td>1.572826e+09</td>\n",
       "      <td>4.463960e+08</td>\n",
       "    </tr>\n",
       "    <tr>\n",
       "      <th>11633</th>\n",
       "      <td>7.171686e+08</td>\n",
       "      <td>4.627383e+08</td>\n",
       "      <td>5.596792e+08</td>\n",
       "      <td>4.072448e+08</td>\n",
       "      <td>3.022977e+08</td>\n",
       "      <td>2.416623e+08</td>\n",
       "      <td>6.193836e+08</td>\n",
       "      <td>6.078048e+08</td>\n",
       "      <td>5.440824e+08</td>\n",
       "      <td>5.327314e+08</td>\n",
       "    </tr>\n",
       "    <tr>\n",
       "      <th>12121</th>\n",
       "      <td>1.372281e+08</td>\n",
       "      <td>5.655748e+08</td>\n",
       "      <td>6.700198e+08</td>\n",
       "      <td>5.056813e+08</td>\n",
       "      <td>5.490985e+08</td>\n",
       "      <td>7.829098e+08</td>\n",
       "      <td>7.342418e+08</td>\n",
       "      <td>5.430668e+08</td>\n",
       "      <td>2.320828e+08</td>\n",
       "      <td>6.408819e+08</td>\n",
       "    </tr>\n",
       "    <tr>\n",
       "      <th>14482</th>\n",
       "      <td>9.966368e+08</td>\n",
       "      <td>6.879305e+08</td>\n",
       "      <td>8.701545e+08</td>\n",
       "      <td>3.408361e+08</td>\n",
       "      <td>7.678646e+08</td>\n",
       "      <td>1.168218e+09</td>\n",
       "      <td>6.110603e+08</td>\n",
       "      <td>1.254625e+08</td>\n",
       "      <td>6.634102e+08</td>\n",
       "      <td>4.481765e+08</td>\n",
       "    </tr>\n",
       "    <tr>\n",
       "      <th>15243</th>\n",
       "      <td>1.099611e+08</td>\n",
       "      <td>1.421704e+08</td>\n",
       "      <td>1.782466e+08</td>\n",
       "      <td>1.214149e+08</td>\n",
       "      <td>1.381311e+08</td>\n",
       "      <td>2.173921e+08</td>\n",
       "      <td>2.003616e+08</td>\n",
       "      <td>1.306413e+08</td>\n",
       "      <td>1.654870e+07</td>\n",
       "      <td>1.681143e+08</td>\n",
       "    </tr>\n",
       "    <tr>\n",
       "      <th>15307</th>\n",
       "      <td>5.468000e+08</td>\n",
       "      <td>1.182195e+09</td>\n",
       "      <td>1.424747e+09</td>\n",
       "      <td>1.043346e+09</td>\n",
       "      <td>1.143932e+09</td>\n",
       "      <td>1.686910e+09</td>\n",
       "      <td>1.574131e+09</td>\n",
       "      <td>1.131587e+09</td>\n",
       "      <td>4.093913e+08</td>\n",
       "      <td>1.357322e+09</td>\n",
       "    </tr>\n",
       "    <tr>\n",
       "      <th>15877</th>\n",
       "      <td>1.618444e+09</td>\n",
       "      <td>2.402718e+08</td>\n",
       "      <td>7.232004e+08</td>\n",
       "      <td>7.240081e+08</td>\n",
       "      <td>9.843560e+08</td>\n",
       "      <td>1.493226e+09</td>\n",
       "      <td>9.557887e+08</td>\n",
       "      <td>1.244416e+09</td>\n",
       "      <td>1.203876e+09</td>\n",
       "      <td>8.369002e+08</td>\n",
       "    </tr>\n",
       "    <tr>\n",
       "      <th>16726</th>\n",
       "      <td>7.534456e+08</td>\n",
       "      <td>3.684973e+08</td>\n",
       "      <td>3.658518e+08</td>\n",
       "      <td>4.345671e+08</td>\n",
       "      <td>3.271407e+08</td>\n",
       "      <td>4.871251e+08</td>\n",
       "      <td>6.526066e+08</td>\n",
       "      <td>6.410399e+08</td>\n",
       "      <td>5.755449e+08</td>\n",
       "      <td>5.635442e+08</td>\n",
       "    </tr>\n",
       "    <tr>\n",
       "      <th>17189</th>\n",
       "      <td>9.539931e+08</td>\n",
       "      <td>4.521727e+08</td>\n",
       "      <td>6.043485e+08</td>\n",
       "      <td>2.068207e+08</td>\n",
       "      <td>5.374303e+08</td>\n",
       "      <td>8.717312e+08</td>\n",
       "      <td>3.364675e+08</td>\n",
       "      <td>4.535904e+08</td>\n",
       "      <td>6.812054e+08</td>\n",
       "      <td>2.004427e+08</td>\n",
       "    </tr>\n",
       "    <tr>\n",
       "      <th>18033</th>\n",
       "      <td>9.568240e+08</td>\n",
       "      <td>1.068499e+09</td>\n",
       "      <td>1.316187e+09</td>\n",
       "      <td>9.267115e+08</td>\n",
       "      <td>5.609860e+08</td>\n",
       "      <td>1.467528e+09</td>\n",
       "      <td>1.468733e+09</td>\n",
       "      <td>1.018384e+09</td>\n",
       "      <td>5.146288e+08</td>\n",
       "      <td>1.247334e+09</td>\n",
       "    </tr>\n",
       "    <tr>\n",
       "      <th>18544</th>\n",
       "      <td>4.178756e+08</td>\n",
       "      <td>5.397952e+08</td>\n",
       "      <td>6.293841e+08</td>\n",
       "      <td>4.885103e+08</td>\n",
       "      <td>3.171816e+08</td>\n",
       "      <td>4.801528e+08</td>\n",
       "      <td>6.845606e+08</td>\n",
       "      <td>5.216683e+08</td>\n",
       "      <td>3.176412e+08</td>\n",
       "      <td>6.044801e+08</td>\n",
       "    </tr>\n",
       "    <tr>\n",
       "      <th>19488</th>\n",
       "      <td>9.514361e+08</td>\n",
       "      <td>5.829689e+08</td>\n",
       "      <td>7.180637e+08</td>\n",
       "      <td>3.639372e+08</td>\n",
       "      <td>6.577310e+08</td>\n",
       "      <td>9.545084e+08</td>\n",
       "      <td>4.485929e+08</td>\n",
       "      <td>1.659039e+08</td>\n",
       "      <td>7.043929e+08</td>\n",
       "      <td>3.278361e+08</td>\n",
       "    </tr>\n",
       "    <tr>\n",
       "      <th>20596</th>\n",
       "      <td>3.809743e+08</td>\n",
       "      <td>2.121389e+08</td>\n",
       "      <td>2.634445e+08</td>\n",
       "      <td>1.289564e+08</td>\n",
       "      <td>2.405316e+08</td>\n",
       "      <td>3.532400e+08</td>\n",
       "      <td>7.003100e+07</td>\n",
       "      <td>1.923729e+08</td>\n",
       "      <td>2.890049e+08</td>\n",
       "      <td>4.827262e+07</td>\n",
       "    </tr>\n",
       "    <tr>\n",
       "      <th>22552</th>\n",
       "      <td>3.008850e+08</td>\n",
       "      <td>1.875458e+08</td>\n",
       "      <td>2.526747e+08</td>\n",
       "      <td>1.502630e+08</td>\n",
       "      <td>1.136961e+08</td>\n",
       "      <td>3.045405e+08</td>\n",
       "      <td>2.927867e+08</td>\n",
       "      <td>2.419350e+08</td>\n",
       "      <td>1.846106e+08</td>\n",
       "      <td>2.345701e+08</td>\n",
       "    </tr>\n",
       "    <tr>\n",
       "      <th>23723</th>\n",
       "      <td>1.843063e+09</td>\n",
       "      <td>1.193115e+09</td>\n",
       "      <td>1.464626e+09</td>\n",
       "      <td>1.031584e+09</td>\n",
       "      <td>1.390848e+09</td>\n",
       "      <td>1.753761e+09</td>\n",
       "      <td>6.563404e+08</td>\n",
       "      <td>1.235780e+09</td>\n",
       "      <td>1.546929e+09</td>\n",
       "      <td>7.977315e+08</td>\n",
       "    </tr>\n",
       "    <tr>\n",
       "      <th>26830</th>\n",
       "      <td>1.190872e+09</td>\n",
       "      <td>2.845122e+08</td>\n",
       "      <td>6.262412e+08</td>\n",
       "      <td>4.313391e+08</td>\n",
       "      <td>6.598349e+08</td>\n",
       "      <td>1.086004e+09</td>\n",
       "      <td>8.414036e+08</td>\n",
       "      <td>8.671707e+08</td>\n",
       "      <td>8.436786e+08</td>\n",
       "      <td>6.690496e+08</td>\n",
       "    </tr>\n",
       "    <tr>\n",
       "      <th>26977</th>\n",
       "      <td>3.430621e+08</td>\n",
       "      <td>1.354902e+08</td>\n",
       "      <td>1.984359e+08</td>\n",
       "      <td>4.426168e+07</td>\n",
       "      <td>1.707560e+08</td>\n",
       "      <td>3.090355e+08</td>\n",
       "      <td>1.779631e+08</td>\n",
       "      <td>1.820650e+08</td>\n",
       "      <td>2.302268e+08</td>\n",
       "      <td>1.216981e+08</td>\n",
       "    </tr>\n",
       "    <tr>\n",
       "      <th>27040</th>\n",
       "      <td>3.340203e+08</td>\n",
       "      <td>2.223655e+08</td>\n",
       "      <td>2.649072e+08</td>\n",
       "      <td>1.980126e+08</td>\n",
       "      <td>1.519573e+08</td>\n",
       "      <td>1.253480e+08</td>\n",
       "      <td>2.911081e+08</td>\n",
       "      <td>2.860268e+08</td>\n",
       "      <td>2.580627e+08</td>\n",
       "      <td>2.530814e+08</td>\n",
       "    </tr>\n",
       "    <tr>\n",
       "      <th>27222</th>\n",
       "      <td>7.535514e+08</td>\n",
       "      <td>3.792712e+08</td>\n",
       "      <td>5.216626e+08</td>\n",
       "      <td>2.977596e+08</td>\n",
       "      <td>1.616553e+08</td>\n",
       "      <td>4.743702e+08</td>\n",
       "      <td>6.093594e+08</td>\n",
       "      <td>5.929125e+08</td>\n",
       "      <td>4.993138e+08</td>\n",
       "      <td>4.820805e+08</td>\n",
       "    </tr>\n",
       "    <tr>\n",
       "      <th>27750</th>\n",
       "      <td>7.068227e+08</td>\n",
       "      <td>4.157381e+08</td>\n",
       "      <td>5.267786e+08</td>\n",
       "      <td>3.521732e+08</td>\n",
       "      <td>9.438147e+07</td>\n",
       "      <td>4.189957e+08</td>\n",
       "      <td>5.951667e+08</td>\n",
       "      <td>5.815523e+08</td>\n",
       "      <td>5.085617e+08</td>\n",
       "      <td>4.959114e+08</td>\n",
       "    </tr>\n",
       "    <tr>\n",
       "      <th>27867</th>\n",
       "      <td>5.884919e+08</td>\n",
       "      <td>4.447710e+08</td>\n",
       "      <td>5.657225e+08</td>\n",
       "      <td>3.755326e+08</td>\n",
       "      <td>1.297710e+08</td>\n",
       "      <td>5.769978e+08</td>\n",
       "      <td>6.402148e+08</td>\n",
       "      <td>5.471743e+08</td>\n",
       "      <td>3.725575e+08</td>\n",
       "      <td>5.321003e+08</td>\n",
       "    </tr>\n",
       "    <tr>\n",
       "      <th>28291</th>\n",
       "      <td>1.114152e+09</td>\n",
       "      <td>6.475845e+08</td>\n",
       "      <td>8.251253e+08</td>\n",
       "      <td>5.459518e+08</td>\n",
       "      <td>3.551968e+08</td>\n",
       "      <td>6.736085e+08</td>\n",
       "      <td>9.344700e+08</td>\n",
       "      <td>9.138596e+08</td>\n",
       "      <td>7.971561e+08</td>\n",
       "      <td>7.757723e+08</td>\n",
       "    </tr>\n",
       "    <tr>\n",
       "      <th>30616</th>\n",
       "      <td>6.422783e+08</td>\n",
       "      <td>5.617577e+08</td>\n",
       "      <td>6.753604e+08</td>\n",
       "      <td>3.606631e+08</td>\n",
       "      <td>5.490381e+08</td>\n",
       "      <td>7.986283e+08</td>\n",
       "      <td>5.788433e+08</td>\n",
       "      <td>1.282181e+08</td>\n",
       "      <td>4.345369e+08</td>\n",
       "      <td>4.772976e+08</td>\n",
       "    </tr>\n",
       "    <tr>\n",
       "      <th>31222</th>\n",
       "      <td>1.390030e+09</td>\n",
       "      <td>9.080178e+08</td>\n",
       "      <td>1.091670e+09</td>\n",
       "      <td>8.028865e+08</td>\n",
       "      <td>6.040665e+08</td>\n",
       "      <td>4.891942e+08</td>\n",
       "      <td>1.204779e+09</td>\n",
       "      <td>1.182843e+09</td>\n",
       "      <td>1.062122e+09</td>\n",
       "      <td>1.040618e+09</td>\n",
       "    </tr>\n",
       "    <tr>\n",
       "      <th>31973</th>\n",
       "      <td>9.657484e+07</td>\n",
       "      <td>1.024081e+09</td>\n",
       "      <td>1.199729e+09</td>\n",
       "      <td>9.235322e+08</td>\n",
       "      <td>9.963728e+08</td>\n",
       "      <td>1.389579e+09</td>\n",
       "      <td>1.307908e+09</td>\n",
       "      <td>9.873736e+08</td>\n",
       "      <td>4.643845e+08</td>\n",
       "      <td>1.150902e+09</td>\n",
       "    </tr>\n",
       "    <tr>\n",
       "      <th>32092</th>\n",
       "      <td>1.542343e+09</td>\n",
       "      <td>6.409443e+08</td>\n",
       "      <td>5.046304e+08</td>\n",
       "      <td>7.987423e+08</td>\n",
       "      <td>9.377308e+08</td>\n",
       "      <td>1.178370e+09</td>\n",
       "      <td>1.219796e+09</td>\n",
       "      <td>1.231390e+09</td>\n",
       "      <td>1.197686e+09</td>\n",
       "      <td>1.047657e+09</td>\n",
       "    </tr>\n",
       "    <tr>\n",
       "      <th>32797</th>\n",
       "      <td>1.939196e+09</td>\n",
       "      <td>1.130897e+09</td>\n",
       "      <td>1.376522e+09</td>\n",
       "      <td>7.326614e+08</td>\n",
       "      <td>1.266827e+09</td>\n",
       "      <td>1.806418e+09</td>\n",
       "      <td>6.740431e+08</td>\n",
       "      <td>8.024236e+08</td>\n",
       "      <td>1.498893e+09</td>\n",
       "      <td>3.671309e+08</td>\n",
       "    </tr>\n",
       "    <tr>\n",
       "      <th>32820</th>\n",
       "      <td>1.372762e+09</td>\n",
       "      <td>8.118049e+08</td>\n",
       "      <td>9.822679e+08</td>\n",
       "      <td>5.354302e+08</td>\n",
       "      <td>9.061399e+08</td>\n",
       "      <td>1.280614e+09</td>\n",
       "      <td>1.674537e+08</td>\n",
       "      <td>7.461320e+08</td>\n",
       "      <td>1.067193e+09</td>\n",
       "      <td>2.941278e+08</td>\n",
       "    </tr>\n",
       "    <tr>\n",
       "      <th>32893</th>\n",
       "      <td>1.456690e+09</td>\n",
       "      <td>7.400438e+08</td>\n",
       "      <td>9.578175e+08</td>\n",
       "      <td>3.869635e+08</td>\n",
       "      <td>8.605607e+08</td>\n",
       "      <td>1.338968e+09</td>\n",
       "      <td>4.204575e+08</td>\n",
       "      <td>5.154160e+08</td>\n",
       "      <td>1.066312e+09</td>\n",
       "      <td>2.257970e+08</td>\n",
       "    </tr>\n",
       "    <tr>\n",
       "      <th>33435</th>\n",
       "      <td>2.284762e+08</td>\n",
       "      <td>9.220480e+08</td>\n",
       "      <td>1.087271e+09</td>\n",
       "      <td>8.274665e+08</td>\n",
       "      <td>8.959839e+08</td>\n",
       "      <td>1.265853e+09</td>\n",
       "      <td>1.189029e+09</td>\n",
       "      <td>8.875750e+08</td>\n",
       "      <td>3.956255e+08</td>\n",
       "      <td>1.041342e+09</td>\n",
       "    </tr>\n",
       "    <tr>\n",
       "      <th>33926</th>\n",
       "      <td>1.750834e+09</td>\n",
       "      <td>5.997258e+08</td>\n",
       "      <td>1.047253e+09</td>\n",
       "      <td>5.548637e+08</td>\n",
       "      <td>1.074820e+09</td>\n",
       "      <td>1.617336e+09</td>\n",
       "      <td>6.912559e+08</td>\n",
       "      <td>1.031070e+09</td>\n",
       "      <td>1.308144e+09</td>\n",
       "      <td>4.718476e+08</td>\n",
       "    </tr>\n",
       "    <tr>\n",
       "      <th>34556</th>\n",
       "      <td>1.308367e+09</td>\n",
       "      <td>4.965221e+08</td>\n",
       "      <td>3.026478e+08</td>\n",
       "      <td>6.386428e+08</td>\n",
       "      <td>8.335825e+08</td>\n",
       "      <td>1.214607e+09</td>\n",
       "      <td>1.017864e+09</td>\n",
       "      <td>1.028307e+09</td>\n",
       "      <td>9.979517e+08</td>\n",
       "      <td>8.628278e+08</td>\n",
       "    </tr>\n",
       "    <tr>\n",
       "      <th>34965</th>\n",
       "      <td>6.455522e+08</td>\n",
       "      <td>6.531022e+08</td>\n",
       "      <td>7.684261e+08</td>\n",
       "      <td>5.870854e+08</td>\n",
       "      <td>2.954499e+08</td>\n",
       "      <td>4.773421e+08</td>\n",
       "      <td>8.394524e+08</td>\n",
       "      <td>6.831663e+08</td>\n",
       "      <td>4.408060e+08</td>\n",
       "      <td>7.363683e+08</td>\n",
       "    </tr>\n",
       "    <tr>\n",
       "      <th>35016</th>\n",
       "      <td>1.929000e+08</td>\n",
       "      <td>1.155319e+08</td>\n",
       "      <td>1.450456e+08</td>\n",
       "      <td>9.863684e+07</td>\n",
       "      <td>6.659213e+07</td>\n",
       "      <td>5.785069e+07</td>\n",
       "      <td>1.632227e+08</td>\n",
       "      <td>1.596041e+08</td>\n",
       "      <td>1.402037e+08</td>\n",
       "      <td>1.368414e+08</td>\n",
       "    </tr>\n",
       "    <tr>\n",
       "      <th>36602</th>\n",
       "      <td>1.266601e+09</td>\n",
       "      <td>4.019582e+08</td>\n",
       "      <td>7.228036e+08</td>\n",
       "      <td>5.555064e+08</td>\n",
       "      <td>8.504946e+08</td>\n",
       "      <td>1.184429e+09</td>\n",
       "      <td>3.730091e+08</td>\n",
       "      <td>7.672745e+08</td>\n",
       "      <td>9.945498e+08</td>\n",
       "      <td>3.642937e+08</td>\n",
       "    </tr>\n",
       "  </tbody>\n",
       "</table>\n",
       "</div>"
      ],
      "text/plain": [
       "              8994          7011          6724          4965          2440   \\\n",
       "2044   1.543375e+09  5.356788e+08  2.163305e+08  7.120850e+08  9.540526e+08   \n",
       "4101   1.104067e+09  9.606780e+08  1.185715e+09  8.318560e+08  2.432840e+08   \n",
       "4798   9.811135e+08  5.178723e+08  7.059038e+08  1.196689e+08  5.608275e+08   \n",
       "4851   8.694110e+07  1.554802e+08  1.895452e+08  1.358818e+08  1.502566e+08   \n",
       "5048   1.938202e+08  3.253279e+08  3.714110e+08  2.989478e+08  2.390231e+08   \n",
       "5307   1.493442e+09  1.015979e+09  1.197898e+09  9.118396e+08  7.148961e+08   \n",
       "5343   1.511662e+09  8.236943e+08  1.086134e+09  6.734612e+08  3.885154e+08   \n",
       "5702   2.810809e+08  5.160977e+08  6.096884e+08  4.622526e+08  5.013575e+08   \n",
       "7178   5.383409e+08  4.497828e+08  5.921157e+08  3.678951e+08  4.338465e+08   \n",
       "8638   1.200892e+09  2.607190e+08  3.924377e+08  5.372469e+08  7.304174e+08   \n",
       "9699   9.277560e+07  1.805801e+08  2.116696e+08  1.627829e+08  1.570200e+08   \n",
       "9703   4.005135e+08  2.746904e+08  3.226883e+08  2.472141e+08  1.951001e+08   \n",
       "10098  1.558559e+09  1.805480e+09  2.062540e+09  1.658327e+09  1.007422e+09   \n",
       "11029  4.112446e+08  3.367964e+08  4.226257e+08  2.006149e+08  3.271865e+08   \n",
       "11310  1.234219e+09  7.544492e+08  9.370139e+08  6.499405e+08  4.530041e+08   \n",
       "11322  2.018069e+09  1.010018e+09  1.449082e+09  7.979968e+08  1.338156e+09   \n",
       "11633  7.171686e+08  4.627383e+08  5.596792e+08  4.072448e+08  3.022977e+08   \n",
       "12121  1.372281e+08  5.655748e+08  6.700198e+08  5.056813e+08  5.490985e+08   \n",
       "14482  9.966368e+08  6.879305e+08  8.701545e+08  3.408361e+08  7.678646e+08   \n",
       "15243  1.099611e+08  1.421704e+08  1.782466e+08  1.214149e+08  1.381311e+08   \n",
       "15307  5.468000e+08  1.182195e+09  1.424747e+09  1.043346e+09  1.143932e+09   \n",
       "15877  1.618444e+09  2.402718e+08  7.232004e+08  7.240081e+08  9.843560e+08   \n",
       "16726  7.534456e+08  3.684973e+08  3.658518e+08  4.345671e+08  3.271407e+08   \n",
       "17189  9.539931e+08  4.521727e+08  6.043485e+08  2.068207e+08  5.374303e+08   \n",
       "18033  9.568240e+08  1.068499e+09  1.316187e+09  9.267115e+08  5.609860e+08   \n",
       "18544  4.178756e+08  5.397952e+08  6.293841e+08  4.885103e+08  3.171816e+08   \n",
       "19488  9.514361e+08  5.829689e+08  7.180637e+08  3.639372e+08  6.577310e+08   \n",
       "20596  3.809743e+08  2.121389e+08  2.634445e+08  1.289564e+08  2.405316e+08   \n",
       "22552  3.008850e+08  1.875458e+08  2.526747e+08  1.502630e+08  1.136961e+08   \n",
       "23723  1.843063e+09  1.193115e+09  1.464626e+09  1.031584e+09  1.390848e+09   \n",
       "26830  1.190872e+09  2.845122e+08  6.262412e+08  4.313391e+08  6.598349e+08   \n",
       "26977  3.430621e+08  1.354902e+08  1.984359e+08  4.426168e+07  1.707560e+08   \n",
       "27040  3.340203e+08  2.223655e+08  2.649072e+08  1.980126e+08  1.519573e+08   \n",
       "27222  7.535514e+08  3.792712e+08  5.216626e+08  2.977596e+08  1.616553e+08   \n",
       "27750  7.068227e+08  4.157381e+08  5.267786e+08  3.521732e+08  9.438147e+07   \n",
       "27867  5.884919e+08  4.447710e+08  5.657225e+08  3.755326e+08  1.297710e+08   \n",
       "28291  1.114152e+09  6.475845e+08  8.251253e+08  5.459518e+08  3.551968e+08   \n",
       "30616  6.422783e+08  5.617577e+08  6.753604e+08  3.606631e+08  5.490381e+08   \n",
       "31222  1.390030e+09  9.080178e+08  1.091670e+09  8.028865e+08  6.040665e+08   \n",
       "31973  9.657484e+07  1.024081e+09  1.199729e+09  9.235322e+08  9.963728e+08   \n",
       "32092  1.542343e+09  6.409443e+08  5.046304e+08  7.987423e+08  9.377308e+08   \n",
       "32797  1.939196e+09  1.130897e+09  1.376522e+09  7.326614e+08  1.266827e+09   \n",
       "32820  1.372762e+09  8.118049e+08  9.822679e+08  5.354302e+08  9.061399e+08   \n",
       "32893  1.456690e+09  7.400438e+08  9.578175e+08  3.869635e+08  8.605607e+08   \n",
       "33435  2.284762e+08  9.220480e+08  1.087271e+09  8.274665e+08  8.959839e+08   \n",
       "33926  1.750834e+09  5.997258e+08  1.047253e+09  5.548637e+08  1.074820e+09   \n",
       "34556  1.308367e+09  4.965221e+08  3.026478e+08  6.386428e+08  8.335825e+08   \n",
       "34965  6.455522e+08  6.531022e+08  7.684261e+08  5.870854e+08  2.954499e+08   \n",
       "35016  1.929000e+08  1.155319e+08  1.450456e+08  9.863684e+07  6.659213e+07   \n",
       "36602  1.266601e+09  4.019582e+08  7.228036e+08  5.555064e+08  8.504946e+08   \n",
       "\n",
       "              1646          25486         33112         15739         4092   \n",
       "2044   1.426997e+09  1.182791e+09  1.195753e+09  1.158074e+09  9.903530e+08  \n",
       "4101   1.070439e+09  1.324312e+09  1.139363e+09  7.023086e+08  1.123159e+09  \n",
       "4798   9.739408e+08  5.955512e+08  4.000296e+08  6.430138e+08  4.274762e+08  \n",
       "4851   2.265082e+08  2.104272e+08  1.480752e+08  2.036880e+07  1.799777e+08  \n",
       "5048   2.569715e+08  3.997928e+08  3.159795e+08  1.796727e+08  3.586007e+08  \n",
       "5307   6.829129e+07  1.309939e+09  1.288210e+09  1.168629e+09  1.147328e+09  \n",
       "5343   6.798848e+08  1.247767e+09  1.215590e+09  1.043079e+09  1.013181e+09  \n",
       "5702   7.108702e+08  6.670602e+08  4.957529e+08  1.674057e+08  5.834026e+08  \n",
       "7178   7.465579e+08  6.793667e+08  3.298483e+08  2.796080e+08  5.521402e+08  \n",
       "8638   1.107984e+09  9.095198e+08  9.233743e+08  8.932947e+08  7.593972e+08  \n",
       "9699   2.109185e+08  2.308172e+08  1.740934e+08  8.152463e+07  2.030273e+08  \n",
       "9703   5.898020e+07  3.522496e+08  3.463646e+08  3.148140e+08  3.093458e+08  \n",
       "10098  8.919739e+08  2.220859e+09  1.860184e+09  1.305980e+09  1.991082e+09  \n",
       "11029  5.157572e+08  3.729736e+08  1.181856e+08  2.542915e+08  2.962536e+08  \n",
       "11310  4.714829e+08  1.049453e+09  1.028259e+09  9.082532e+08  8.862643e+08  \n",
       "11322  1.883801e+09  2.867751e+08  1.105009e+09  1.572826e+09  4.463960e+08  \n",
       "11633  2.416623e+08  6.193836e+08  6.078048e+08  5.440824e+08  5.327314e+08  \n",
       "12121  7.829098e+08  7.342418e+08  5.430668e+08  2.320828e+08  6.408819e+08  \n",
       "14482  1.168218e+09  6.110603e+08  1.254625e+08  6.634102e+08  4.481765e+08  \n",
       "15243  2.173921e+08  2.003616e+08  1.306413e+08  1.654870e+07  1.681143e+08  \n",
       "15307  1.686910e+09  1.574131e+09  1.131587e+09  4.093913e+08  1.357322e+09  \n",
       "15877  1.493226e+09  9.557887e+08  1.244416e+09  1.203876e+09  8.369002e+08  \n",
       "16726  4.871251e+08  6.526066e+08  6.410399e+08  5.755449e+08  5.635442e+08  \n",
       "17189  8.717312e+08  3.364675e+08  4.535904e+08  6.812054e+08  2.004427e+08  \n",
       "18033  1.467528e+09  1.468733e+09  1.018384e+09  5.146288e+08  1.247334e+09  \n",
       "18544  4.801528e+08  6.845606e+08  5.216683e+08  3.176412e+08  6.044801e+08  \n",
       "19488  9.545084e+08  4.485929e+08  1.659039e+08  7.043929e+08  3.278361e+08  \n",
       "20596  3.532400e+08  7.003100e+07  1.923729e+08  2.890049e+08  4.827262e+07  \n",
       "22552  3.045405e+08  2.927867e+08  2.419350e+08  1.846106e+08  2.345701e+08  \n",
       "23723  1.753761e+09  6.563404e+08  1.235780e+09  1.546929e+09  7.977315e+08  \n",
       "26830  1.086004e+09  8.414036e+08  8.671707e+08  8.436786e+08  6.690496e+08  \n",
       "26977  3.090355e+08  1.779631e+08  1.820650e+08  2.302268e+08  1.216981e+08  \n",
       "27040  1.253480e+08  2.911081e+08  2.860268e+08  2.580627e+08  2.530814e+08  \n",
       "27222  4.743702e+08  6.093594e+08  5.929125e+08  4.993138e+08  4.820805e+08  \n",
       "27750  4.189957e+08  5.951667e+08  5.815523e+08  5.085617e+08  4.959114e+08  \n",
       "27867  5.769978e+08  6.402148e+08  5.471743e+08  3.725575e+08  5.321003e+08  \n",
       "28291  6.736085e+08  9.344700e+08  9.138596e+08  7.971561e+08  7.757723e+08  \n",
       "30616  7.986283e+08  5.788433e+08  1.282181e+08  4.345369e+08  4.772976e+08  \n",
       "31222  4.891942e+08  1.204779e+09  1.182843e+09  1.062122e+09  1.040618e+09  \n",
       "31973  1.389579e+09  1.307908e+09  9.873736e+08  4.643845e+08  1.150902e+09  \n",
       "32092  1.178370e+09  1.219796e+09  1.231390e+09  1.197686e+09  1.047657e+09  \n",
       "32797  1.806418e+09  6.740431e+08  8.024236e+08  1.498893e+09  3.671309e+08  \n",
       "32820  1.280614e+09  1.674537e+08  7.461320e+08  1.067193e+09  2.941278e+08  \n",
       "32893  1.338968e+09  4.204575e+08  5.154160e+08  1.066312e+09  2.257970e+08  \n",
       "33435  1.265853e+09  1.189029e+09  8.875750e+08  3.956255e+08  1.041342e+09  \n",
       "33926  1.617336e+09  6.912559e+08  1.031070e+09  1.308144e+09  4.718476e+08  \n",
       "34556  1.214607e+09  1.017864e+09  1.028307e+09  9.979517e+08  8.628278e+08  \n",
       "34965  4.773421e+08  8.394524e+08  6.831663e+08  4.408060e+08  7.363683e+08  \n",
       "35016  5.785069e+07  1.632227e+08  1.596041e+08  1.402037e+08  1.368414e+08  \n",
       "36602  1.184429e+09  3.730091e+08  7.672745e+08  9.945498e+08  3.642937e+08  "
      ]
     },
     "execution_count": 62,
     "metadata": {},
     "output_type": "execute_result"
    }
   ],
   "source": [
    "OD_weighted_df"
   ]
  },
  {
   "cell_type": "code",
   "execution_count": 68,
   "metadata": {},
   "outputs": [],
   "source": [
    "result_w_demands = gn.optimize_facility_locations(OD_weighted_df, facilities, 4, existing_facilities = None)"
   ]
  },
  {
   "cell_type": "code",
   "execution_count": 69,
   "metadata": {},
   "outputs": [
    {
     "data": {
      "text/plain": [
       "[15739, 2440, 4092, 7011]"
      ]
     },
     "execution_count": 69,
     "metadata": {},
     "output_type": "execute_result"
    }
   ],
   "source": [
    "result_w_demands"
   ]
  }
 ],
 "metadata": {
  "kernelspec": {
   "display_name": "Python 3",
   "language": "python",
   "name": "python3"
  },
  "language_info": {
   "codemirror_mode": {
    "name": "ipython",
    "version": 3
   },
   "file_extension": ".py",
   "mimetype": "text/x-python",
   "name": "python",
   "nbconvert_exporter": "python",
   "pygments_lexer": "ipython3",
   "version": "3.7.3"
  }
 },
 "nbformat": 4,
 "nbformat_minor": 2
}
