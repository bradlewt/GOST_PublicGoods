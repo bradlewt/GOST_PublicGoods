{
 "cells": [
  {
   "cell_type": "code",
   "execution_count": null,
   "metadata": {
    "scrolled": true
   },
   "outputs": [],
   "source": [
    "import pandas as pd\n",
    "import os, sys\n",
    "sys.path.append(r'C:\\Users\\gost_\\Desktop\\lima\\GOSTNets\\GOSTNets')\n",
    "import GOSTnet as gn\n",
    "import importlib\n",
    "importlib.reload(gn)\n",
    "import geopandas as gpd\n",
    "import rasterio\n",
    "from rasterio import features\n",
    "from shapely.wkt import loads\n",
    "import numpy as np"
   ]
  },
  {
   "cell_type": "code",
   "execution_count": null,
   "metadata": {},
   "outputs": [],
   "source": [
    "#define the paths to the origins, destinations and .pickle file\n",
    "pth = r'C:\\Users\\gost_\\Desktop\\lima\\data\\OD'\n",
    "pckle = r'biggest_subg.pickle'\n",
    "walk_speed = 4 \n",
    "WGS = {'init':'epsg:4326'}\n",
    "measure_crs = {'init':'epsg:32718'}"
   ]
  },
  {
   "cell_type": "code",
   "execution_count": null,
   "metadata": {},
   "outputs": [],
   "source": [
    "# read  file\n",
    "OD_name = r'output_gt_origins_destinations.csv'\n",
    "OD = pd.read_csv(os.path.join(pth, OD_name), sep=';')\n",
    "#OD = OD.rename(columns = {'Unnamed: 0':'O_ID'})\n",
    "OD_ = OD.set_index('O_ID')\n",
    "OD = OD_.replace([np.inf, -np.inf], np.nan)\n",
    "OD['Minimum'] = OD.loc[:,:].min(axis=1)"
   ]
  },
  {
   "cell_type": "code",
   "execution_count": null,
   "metadata": {},
   "outputs": [],
   "source": [
    "OD[:10]"
   ]
  },
  {
   "cell_type": "code",
   "execution_count": null,
   "metadata": {},
   "outputs": [],
   "source": [
    "'''\n",
    "# Uncomment this step if you need to filter the OD by a subset of the destination file \n",
    "destination_df = pd.read_csv(os.path.join(pth, 'destinations_snapped.csv'))\n",
    "slice_df = destination_df.copy()\n",
    "slice_df = slice_df.loc[(destination_df['categoria'] == 11) | (destination_df['categoria'] == 12)]\n",
    "acceptable_destination_nodes = list(slice_df.NN)\n",
    "acceptable_destination_nodes = list(set(acceptable_destination_nodes))\n",
    "'''"
   ]
  },
  {
   "cell_type": "code",
   "execution_count": null,
   "metadata": {},
   "outputs": [],
   "source": [
    "'''\n",
    "# Slicing OD for acceptable_destination_nodes if the previous step was needed\n",
    "new_OD = OD.copy()\n",
    "acceptable_cols = []\n",
    "for column_name in new_OD.columns:\n",
    "    if int(column_name) in acceptable_destination_nodes:\n",
    "        acceptable_cols.append(column_name)\n",
    "    else:\n",
    "        pass\n",
    "new_OD = new_OD[acceptable_cols]\n",
    "new_OD['Minimum'] = new_OD.loc[:,:].min(axis=1)\n",
    "OD = new_OD\n",
    "'''"
   ]
  },
  {
   "cell_type": "code",
   "execution_count": null,
   "metadata": {},
   "outputs": [],
   "source": [
    "'''#write the new csv to file\n",
    "slice_df.to_csv(os.path.join(pth, 'dest_selected_lima_distance_weighted_24hr.csv'))\n",
    "'''"
   ]
  },
  {
   "cell_type": "code",
   "execution_count": null,
   "metadata": {},
   "outputs": [],
   "source": [
    "### PREPARE ORIGIN FILE \n",
    "# set index to nearest node to match on the travel time from that node to nearest destination (OD['Minimum'])\n",
    "orig = pd.read_csv(os.path.join(pth, 'origins_snapped.csv'))\n",
    "orig = orig.rename({'ID':'OBJECTID'}, axis = 1) # rename ID column to 'OBJECTID'\n",
    "orig = orig.set_index('NN') # used for matching on the OD matrix\n",
    "orig[:10]"
   ]
  },
  {
   "cell_type": "code",
   "execution_count": null,
   "metadata": {},
   "outputs": [],
   "source": [
    "orig['closest_hosp'] = OD['Minimum'] # here we match on closest hospital \n",
    "orig[:5]"
   ]
  },
  {
   "cell_type": "code",
   "execution_count": null,
   "metadata": {},
   "outputs": [],
   "source": [
    "# add on walktime\n",
    "walkspeed = 4\n",
    "orig['walktime'] = orig['NN_dist'] / 1000 / walkspeed * 3600\n",
    "\n",
    "#compute total distance: NN_dist + dist\n",
    "if CHOICE == 'time':\n",
    "    #orig['total_time'] = (orig['walktime'] + orig['closest_hosp']) / 60\n",
    "    orig['total_time'] = orig['closest_hosp']\n",
    "elif CHOICE == 'distance':\n",
    "    orig['total_distance'] = (orig['NN_dist'] + orig['closest_hosp'])"
   ]
  },
  {
   "cell_type": "code",
   "execution_count": null,
   "metadata": {},
   "outputs": [],
   "source": [
    "#read in the origins in shapefile format\n",
    "fp = r'C:\\Users\\gost_\\Desktop\\lima'\n",
    "shpfil = gpd.read_file(os.path.join(fp, 'lima_origins.shp'))"
   ]
  },
  {
   "cell_type": "code",
   "execution_count": null,
   "metadata": {},
   "outputs": [],
   "source": [
    "# Ensure both shapefile AND origin file have a non-duplicate index to enable matching of results on to the shapefile\n",
    "shpfil = shpfil.set_index('OBJECTID')\n",
    "orig = orig.set_index('OBJECTID')"
   ]
  },
  {
   "cell_type": "code",
   "execution_count": null,
   "metadata": {},
   "outputs": [],
   "source": [
    "# Prep output shapefile, match on visualization column, save\n",
    "shpfil['total_time'] = orig['total_time']\n",
    "shpfil = shpfil.to_crs({'init':'epsg:4326'})\n",
    "shpfil.to_file(os.path.join(pth, 'lima_origins_w_time.shp'), driver = 'ESRI Shapefile')"
   ]
  },
  {
   "cell_type": "code",
   "execution_count": null,
   "metadata": {},
   "outputs": [],
   "source": [
    "#write the road file as a shapefile\n",
    "from shapely.wkt import loads\n",
    "edges = pd.read_csv(os.path.join(pth, 'biggest_subg_edges.csv'))\n",
    "edges['geometry'] = edges['geometry'].apply(loads)"
   ]
  },
  {
   "cell_type": "code",
   "execution_count": null,
   "metadata": {},
   "outputs": [],
   "source": [
    "edges_gdf = gpd.GeoDataFrame(edges, geometry = 'geometry', crs = {'init':'epsg:4326'})"
   ]
  },
  {
   "cell_type": "code",
   "execution_count": null,
   "metadata": {},
   "outputs": [],
   "source": [
    "edges_gdf.to_file(os.path.join(fp, 'lima_roads.shp'), driver = 'ESRI Shapefile')"
   ]
  }
 ],
 "metadata": {
  "kernelspec": {
   "display_name": "Python 3",
   "language": "python",
   "name": "python3"
  },
  "language_info": {
   "codemirror_mode": {
    "name": "ipython",
    "version": 3
   },
   "file_extension": ".py",
   "mimetype": "text/x-python",
   "name": "python",
   "nbconvert_exporter": "python",
   "pygments_lexer": "ipython3",
   "version": "3.7.3"
  }
 },
 "nbformat": 4,
 "nbformat_minor": 2
}
