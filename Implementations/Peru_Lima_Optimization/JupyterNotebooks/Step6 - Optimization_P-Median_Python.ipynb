{
 "cells": [
  {
   "cell_type": "code",
   "execution_count": 48,
   "metadata": {},
   "outputs": [],
   "source": [
    "import geopandas as gpd\n",
    "import pandas as pd\n",
    "import os, sys\n",
    "# add to your system path the location of the LoadOSM.py and GOSTnet.py scripts\n",
    "sys.path.append(r'/home/vagrant/repos/GOST_PublicGoods/GOSTNets/GOSTNets')\n",
    "import GOSTnet_Optimization as gn\n",
    "import LoadOSM as losm\n",
    "import importlib"
   ]
  },
  {
   "cell_type": "markdown",
   "metadata": {},
   "source": [
    "## The P-Median Problem requires an OD matrix as an input\n",
    "### read in OD matrix saved as csv file as dataframe"
   ]
  },
  {
   "cell_type": "code",
   "execution_count": 49,
   "metadata": {},
   "outputs": [],
   "source": [
    "OD_df = pd.read_csv('/home/vagrant/repos/GOST_PublicGoods/GOSTNets/Notebooks/saved_OD.csv',index_col=0)"
   ]
  },
  {
   "cell_type": "code",
   "execution_count": 50,
   "metadata": {},
   "outputs": [
    {
     "data": {
      "text/html": [
       "<div>\n",
       "<style scoped>\n",
       "    .dataframe tbody tr th:only-of-type {\n",
       "        vertical-align: middle;\n",
       "    }\n",
       "\n",
       "    .dataframe tbody tr th {\n",
       "        vertical-align: top;\n",
       "    }\n",
       "\n",
       "    .dataframe thead th {\n",
       "        text-align: right;\n",
       "    }\n",
       "</style>\n",
       "<table border=\"1\" class=\"dataframe\">\n",
       "  <thead>\n",
       "    <tr style=\"text-align: right;\">\n",
       "      <th></th>\n",
       "      <th>8994</th>\n",
       "      <th>7011</th>\n",
       "      <th>6724</th>\n",
       "      <th>4965</th>\n",
       "      <th>2440</th>\n",
       "      <th>1646</th>\n",
       "      <th>25486</th>\n",
       "      <th>33112</th>\n",
       "      <th>15739</th>\n",
       "      <th>4092</th>\n",
       "    </tr>\n",
       "  </thead>\n",
       "  <tbody>\n",
       "    <tr>\n",
       "      <th>28291</th>\n",
       "      <td>3340.836168</td>\n",
       "      <td>1941.811792</td>\n",
       "      <td>2474.175924</td>\n",
       "      <td>1637.061354</td>\n",
       "      <td>1065.073847</td>\n",
       "      <td>2019.845992</td>\n",
       "      <td>2802.051017</td>\n",
       "      <td>2740.249661</td>\n",
       "      <td>2390.308863</td>\n",
       "      <td>2326.188681</td>\n",
       "    </tr>\n",
       "    <tr>\n",
       "      <th>15877</th>\n",
       "      <td>3719.561387</td>\n",
       "      <td>552.200337</td>\n",
       "      <td>1662.082592</td>\n",
       "      <td>1663.938809</td>\n",
       "      <td>2262.278821</td>\n",
       "      <td>3431.780571</td>\n",
       "      <td>2196.624544</td>\n",
       "      <td>2859.957422</td>\n",
       "      <td>2766.786612</td>\n",
       "      <td>1923.391222</td>\n",
       "    </tr>\n",
       "    <tr>\n",
       "      <th>33926</th>\n",
       "      <td>3774.268565</td>\n",
       "      <td>1292.827363</td>\n",
       "      <td>2257.561160</td>\n",
       "      <td>1196.118322</td>\n",
       "      <td>2316.985999</td>\n",
       "      <td>3486.487749</td>\n",
       "      <td>1490.138612</td>\n",
       "      <td>2222.673912</td>\n",
       "      <td>2819.961653</td>\n",
       "      <td>1017.160746</td>\n",
       "    </tr>\n",
       "    <tr>\n",
       "      <th>4101</th>\n",
       "      <td>2611.859344</td>\n",
       "      <td>2272.648285</td>\n",
       "      <td>2805.012416</td>\n",
       "      <td>1967.897847</td>\n",
       "      <td>575.529981</td>\n",
       "      <td>2532.306273</td>\n",
       "      <td>3132.887509</td>\n",
       "      <td>2695.357159</td>\n",
       "      <td>1661.431381</td>\n",
       "      <td>2657.025174</td>\n",
       "    </tr>\n",
       "    <tr>\n",
       "      <th>7178</th>\n",
       "      <td>2013.543292</td>\n",
       "      <td>1682.311487</td>\n",
       "      <td>2214.675618</td>\n",
       "      <td>1376.028912</td>\n",
       "      <td>1622.705275</td>\n",
       "      <td>2792.331903</td>\n",
       "      <td>2541.018574</td>\n",
       "      <td>1233.723334</td>\n",
       "      <td>1045.810811</td>\n",
       "      <td>2065.156239</td>\n",
       "    </tr>\n",
       "  </tbody>\n",
       "</table>\n",
       "</div>"
      ],
      "text/plain": [
       "              8994         7011         6724         4965         2440  \\\n",
       "28291  3340.836168  1941.811792  2474.175924  1637.061354  1065.073847   \n",
       "15877  3719.561387   552.200337  1662.082592  1663.938809  2262.278821   \n",
       "33926  3774.268565  1292.827363  2257.561160  1196.118322  2316.985999   \n",
       "4101   2611.859344  2272.648285  2805.012416  1967.897847   575.529981   \n",
       "7178   2013.543292  1682.311487  2214.675618  1376.028912  1622.705275   \n",
       "\n",
       "              1646        25486        33112        15739         4092  \n",
       "28291  2019.845992  2802.051017  2740.249661  2390.308863  2326.188681  \n",
       "15877  3431.780571  2196.624544  2859.957422  2766.786612  1923.391222  \n",
       "33926  3486.487749  1490.138612  2222.673912  2819.961653  1017.160746  \n",
       "4101   2532.306273  3132.887509  2695.357159  1661.431381  2657.025174  \n",
       "7178   2792.331903  2541.018574  1233.723334  1045.810811  2065.156239  "
      ]
     },
     "execution_count": 50,
     "metadata": {},
     "output_type": "execute_result"
    }
   ],
   "source": [
    "OD_df[:5]"
   ]
  },
  {
   "cell_type": "code",
   "execution_count": 51,
   "metadata": {},
   "outputs": [
    {
     "data": {
      "text/plain": [
       "Index(['8994', '7011', '6724', '4965', '2440', '1646', '25486', '33112',\n",
       "       '15739', '4092'],\n",
       "      dtype='object')"
      ]
     },
     "execution_count": 51,
     "metadata": {},
     "output_type": "execute_result"
    }
   ],
   "source": [
    "OD_df.keys()"
   ]
  },
  {
   "cell_type": "code",
   "execution_count": 52,
   "metadata": {},
   "outputs": [],
   "source": [
    "#OD_df['6724']"
   ]
  },
  {
   "cell_type": "code",
   "execution_count": 53,
   "metadata": {},
   "outputs": [],
   "source": [
    "facilities = OD_df.columns.values.tolist()"
   ]
  },
  {
   "cell_type": "code",
   "execution_count": 54,
   "metadata": {},
   "outputs": [
    {
     "data": {
      "text/plain": [
       "['8994',\n",
       " '7011',\n",
       " '6724',\n",
       " '4965',\n",
       " '2440',\n",
       " '1646',\n",
       " '25486',\n",
       " '33112',\n",
       " '15739',\n",
       " '4092']"
      ]
     },
     "execution_count": 54,
     "metadata": {},
     "output_type": "execute_result"
    }
   ],
   "source": [
    "# facilities list\n",
    "facilities"
   ]
  },
  {
   "cell_type": "code",
   "execution_count": 58,
   "metadata": {},
   "outputs": [
    {
     "name": "stdout",
     "output_type": "stream",
     "text": [
      "peartree version: 0.6.1 \n",
      "networkx version: 2.2 \n",
      "matplotlib version: 3.0.3 \n",
      "osmnx version: 0.9 \n"
     ]
    },
    {
     "data": {
      "text/plain": [
       "<module 'GOSTnet_Optimization' from '/home/vagrant/repos/GOST_PublicGoods/GOSTNets/GOSTNets/GOSTnet_Optimization.py'>"
      ]
     },
     "execution_count": 58,
     "metadata": {},
     "output_type": "execute_result"
    }
   ],
   "source": [
    "import importlib\n",
    "importlib.reload(gn)"
   ]
  },
  {
   "cell_type": "code",
   "execution_count": 59,
   "metadata": {},
   "outputs": [],
   "source": [
    "result = gn.optimize_facility_locations(OD_df, facilities, 4, existing_facilities = None)"
   ]
  },
  {
   "cell_type": "code",
   "execution_count": 60,
   "metadata": {},
   "outputs": [
    {
     "data": {
      "text/plain": [
       "[15739, 2440, 4092, 7011]"
      ]
     },
     "execution_count": 60,
     "metadata": {},
     "output_type": "execute_result"
    }
   ],
   "source": [
    "result"
   ]
  },
  {
   "cell_type": "code",
   "execution_count": 61,
   "metadata": {},
   "outputs": [
    {
     "data": {
      "text/plain": [
       "29282"
      ]
     },
     "execution_count": 61,
     "metadata": {},
     "output_type": "execute_result"
    }
   ],
   "source": [
    "sum(result)"
   ]
  },
  {
   "cell_type": "code",
   "execution_count": null,
   "metadata": {},
   "outputs": [],
   "source": []
  }
 ],
 "metadata": {
  "kernelspec": {
   "display_name": "Python 3",
   "language": "python",
   "name": "python3"
  },
  "language_info": {
   "codemirror_mode": {
    "name": "ipython",
    "version": 3
   },
   "file_extension": ".py",
   "mimetype": "text/x-python",
   "name": "python",
   "nbconvert_exporter": "python",
   "pygments_lexer": "ipython3",
   "version": "3.7.1"
  }
 },
 "nbformat": 4,
 "nbformat_minor": 2
}
