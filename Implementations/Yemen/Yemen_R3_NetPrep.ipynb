{
 "cells": [
  {
   "cell_type": "code",
   "execution_count": 1,
   "metadata": {},
   "outputs": [
    {
     "name": "stdout",
     "output_type": "stream",
     "text": [
      "peartree version: 0.6.1 \n",
      "networkx version: 2.3 \n",
      "matplotlib version: 3.0.3 \n",
      "osmnx version: 0.9 \n",
      "peartree version: 0.6.1 \n",
      "networkx version: 2.3 \n",
      "matplotlib version: 3.0.3 \n",
      "osmnx version: 0.9 \n"
     ]
    }
   ],
   "source": [
    "import os, sys, time\n",
    "sys.path.append(r'C:\\Users\\charl\\Documents\\GitHub\\GOST_PublicGoods\\GOSTNets\\GOSTNets')\n",
    "import importlib\n",
    "import GOSTnet as gn\n",
    "importlib.reload(gn)\n",
    "import pandas as pd\n",
    "import geopandas as gpd\n",
    "import numpy as np\n",
    "from shapely.wkt import loads\n",
    "from shapely.geometry import Point, LineString, MultiLineString\n",
    "import networkx as nx\n",
    "import osmnx as ox"
   ]
  },
  {
   "cell_type": "code",
   "execution_count": 2,
   "metadata": {},
   "outputs": [],
   "source": [
    "npath = r'C:\\Users\\charl\\Documents\\GOST\\Yemen\\YEM\\Round 3\\output'\n",
    "npickle = 'YEM_processed.pickle'\n",
    "bpath = r'C:\\Users\\charl\\Documents\\GOST\\Yemen'\n",
    "opath = os.path.join(bpath, 'origins')\n",
    "dpath = os.path.join(bpath, 'facility_files')\n",
    "wpath = r'C:\\Users\\charl\\Documents\\GOST\\Yemen\\YEM\\Round 3'"
   ]
  },
  {
   "cell_type": "markdown",
   "metadata": {},
   "source": [
    "### Loads saved graph from pickle\n",
    "Also in this section we take the largest two subgraphs of the network (for the mainland and the island of Socotra respectively) and keep only these roads going forward"
   ]
  },
  {
   "cell_type": "code",
   "execution_count": 6,
   "metadata": {},
   "outputs": [
    {
     "name": "stdout",
     "output_type": "stream",
     "text": [
      "290862\n"
     ]
    }
   ],
   "source": [
    "G = nx.read_gpickle(os.path.join(npath, npickle))\n",
    "\n",
    "list_of_subgraphs = list(nx.strongly_connected_component_subgraphs(G))\n",
    "\n",
    "G_2 = list_of_subgraphs[0]\n",
    "list_of_small_subgraphs = list_of_subgraphs[1:]\n",
    "\n",
    "node_bunch = []\n",
    "edge_bunch = []\n",
    "\n",
    "for subgraph in list_of_small_subgraphs:\n",
    "    if subgraph.number_of_nodes() > 50 and subgraph.number_of_nodes() != G_2.number_of_nodes():\n",
    "        for u, data in subgraph.nodes(data = True):\n",
    "            node_bunch.append((u, data))\n",
    "\n",
    "        for u, v, data in subgraph.edges(data = True):\n",
    "            edge_bunch.append((u, v, data))\n",
    "    \n",
    "G_2.add_nodes_from(node_bunch)\n",
    "G_2.add_edges_from(edge_bunch)\n",
    "\n",
    "G = G_2\n",
    "print(G.number_of_edges())\n",
    "gn.save(G, 'G', wpath)"
   ]
  },
  {
   "cell_type": "markdown",
   "metadata": {},
   "source": [
    "### Network Salting\n",
    "Here, we break up long edges of the graph into sections of length no more than 'thresh'.\n",
    "We do this to significantly improve the accuracy of snapping points off-network on to the network at the closest point. The GOSTnets function 'salt_long_lines' automatically makes these changes to the network for us"
   ]
  },
  {
   "cell_type": "code",
   "execution_count": 22,
   "metadata": {},
   "outputs": [
    {
     "name": "stdout",
     "output_type": "stream",
     "text": [
      "WARNING: \"factor behavior has changed! now divides rather than multiplies. This change brings gn.salt_long_lines into line with gn.convert_network_to_time\" \n",
      "Identified 6063 unique edge(s) longer than 2000. \n",
      "Beginning new node creation...\n",
      "44286 new edges added and 12125 removed to bring total edges to 323023\n",
      "16080 new nodes added to bring total nodes to 123976\n",
      "check: salting process has left number of connected components unchanged\n",
      "2  |  2\n"
     ]
    }
   ],
   "source": [
    "G_salty = gn.salt_long_lines(G, \n",
    "                             'epsg:4326', \n",
    "                             'epsg:32638', \n",
    "                             thresh = 2000, \n",
    "                             factor = 1000, \n",
    "                             attr_list = ['infra_type','id','country','osm_id','Type'])\n",
    "G_salty = nx.convert_node_labels_to_integers(G_salty)\n",
    "\n",
    "print('check: salting process has left number of connected components unchanged')\n",
    "print(len(list(nx.strongly_connected_component_subgraphs(G))),\n",
    "      ' | ', \n",
    "      len(list(nx.strongly_connected_component_subgraphs(G_salty))))"
   ]
  },
  {
   "cell_type": "code",
   "execution_count": 23,
   "metadata": {},
   "outputs": [
    {
     "name": "stdout",
     "output_type": "stream",
     "text": [
      "adding traverse time edge property...\n",
      "(0, 35636, {'Wkt': 'LINESTRING (44.2165745 15.3646484, 44.2167032 15.3659494, 44.2167203 15.3663506, 44.2167763 15.3673335, 44.2167973 15.3681592)', 'id': 24386, 'infra_type': 'secondary', 'osm_id': 108470243, 'country': 'YEM', 'key': 'edge_24386', 'length': 389.3715222365589, 'Type': 'legitimate', 'time': 28.03474960103224, 'mode': 'drive'})\n",
      "(0, 74084, {'Wkt': 'LINESTRING (44.2167973 15.3681592, 44.2168027 15.3690043, 44.2168968 15.3701596)', 'id': 24387, 'infra_type': 'secondary', 'osm_id': 108470243, 'country': 'YEM', 'key': 'edge_24387', 'length': 221.74928659443168, 'Type': 'legitimate', 'time': 15.96594863479908, 'mode': 'drive'})\n"
     ]
    }
   ],
   "source": [
    "print('adding traverse time edge property...')\n",
    "# define speed limit dictionary\n",
    "speed_dict = {\n",
    "    'residential':25,\n",
    "    'unclassified':15,\n",
    "    'track':15,\n",
    "    'tertiary':40,\n",
    "    'secondary':50,\n",
    "    'primary':60,\n",
    "    'trunk':50,\n",
    "    'service':15,\n",
    "    'road':15,\n",
    "    'trunk_link':50,\n",
    "    'secondary_link':50,\n",
    "    'primary_link':60,\n",
    "    'tertiary_link':40}\n",
    "\n",
    "# add traverse time property into 'time' edge attribute \n",
    "G_salty_time = gn.convert_network_to_time(G_salty, \n",
    "                                          distance_tag = 'length', \n",
    "                                          road_col = 'infra_type', \n",
    "                                          graph_type = 'drive', \n",
    "                                          speed_dict = speed_dict, \n",
    "                                          walk_speed = 4,\n",
    "                                          factor = 1000\n",
    "                                         )\n",
    "gn.example_edge(G_salty_time, 2)\n",
    "\n",
    "gn.save(G_salty_time, 'G_salty_time', wpath)"
   ]
  },
  {
   "cell_type": "markdown",
   "metadata": {},
   "source": [
    "### Manual Addition of Missing Roads\n",
    "In the specific Yemen context, the border cuts off one crucial road link in the desert towards the northernmost border. Here, we manually re-add this road back to the network"
   ]
  },
  {
   "cell_type": "code",
   "execution_count": 24,
   "metadata": {},
   "outputs": [],
   "source": [
    "missed_edges = []\n",
    "\n",
    "st_node = 21793\n",
    "end_node = 114778\n",
    "st_point = Point(G_salty_time.nodes()[st_node]['x'],G_salty_time.nodes()[st_node]['y'])\n",
    "end_point = Point(G_salty_time.nodes()[end_node]['x'],G_salty_time.nodes()[end_node]['y'])\n",
    "lin = LineString([st_point,end_point])\n",
    "real_length = 115\n",
    "\n",
    "data = {'Wkt':lin,\n",
    "       'id':max(nx.get_edge_attributes(G_salty_time,'id').values())+1,\n",
    "       'infra_type':'service',\n",
    "       'country':'YEM',\n",
    "       'key':'manual_edge_1',\n",
    "       'length':real_length, \n",
    "       'Type':'manual_edge',\n",
    "       'time':float((real_length / 15)),\n",
    "       'mode':'drive'}\n",
    "missed_edges.append((st_node, end_node, data))\n",
    "missed_edges.append((end_node, st_node, data))\n",
    "\n",
    "G_salty_time.add_edges_from(missed_edges)\n",
    "\n",
    "G_salty = nx.convert_node_labels_to_integers(G_salty)\n",
    "\n",
    "gn.save(G_salty_time, 'G_salty_time', wpath)"
   ]
  },
  {
   "cell_type": "markdown",
   "metadata": {},
   "source": [
    "### Snap Destination Files to Network"
   ]
  },
  {
   "cell_type": "code",
   "execution_count": 36,
   "metadata": {},
   "outputs": [
    {
     "data": {
      "text/html": [
       "<div>\n",
       "<style scoped>\n",
       "    .dataframe tbody tr th:only-of-type {\n",
       "        vertical-align: middle;\n",
       "    }\n",
       "\n",
       "    .dataframe tbody tr th {\n",
       "        vertical-align: top;\n",
       "    }\n",
       "\n",
       "    .dataframe thead th {\n",
       "        text-align: right;\n",
       "    }\n",
       "</style>\n",
       "<table border=\"1\" class=\"dataframe\">\n",
       "  <thead>\n",
       "    <tr style=\"text-align: right;\">\n",
       "      <th></th>\n",
       "      <th>FID</th>\n",
       "      <th>Functionality</th>\n",
       "      <th>YEHNP_PHCs</th>\n",
       "      <th>YEHNP_Hospitals</th>\n",
       "      <th>Name of_Health_Facility</th>\n",
       "      <th>Latitude</th>\n",
       "      <th>Longitude</th>\n",
       "      <th>Name of Governorate</th>\n",
       "      <th>Name of District</th>\n",
       "      <th>Type of Area</th>\n",
       "      <th>...</th>\n",
       "      <th>EPI (P21a) 2016</th>\n",
       "      <th>Integrated Outreach (P22) 2016</th>\n",
       "      <th>Under-5 clinic services (P23) 2016</th>\n",
       "      <th>Malnutrition services (P25) 2016</th>\n",
       "      <th>Antenatal Care (P422) 2016</th>\n",
       "      <th>Skilled birth attendant (P423) 2016</th>\n",
       "      <th>Basic Emergency Obsteteric Care (P424) 2016</th>\n",
       "      <th>Emergency and Elective Surgery (S14) 2016</th>\n",
       "      <th>Comprehensive Emergency Obstetric Care (S424) 2016</th>\n",
       "      <th>geometry</th>\n",
       "    </tr>\n",
       "  </thead>\n",
       "  <tbody>\n",
       "  </tbody>\n",
       "</table>\n",
       "<p>0 rows × 120 columns</p>\n",
       "</div>"
      ],
      "text/plain": [
       "Empty GeoDataFrame\n",
       "Columns: [FID, Functionality, YEHNP_PHCs, YEHNP_Hospitals, Name of_Health_Facility, Latitude, Longitude, Name of Governorate, Name of District, Type of Area, Health Facility Type Coded, Type of_Health_Facility, Type of_Health_Facility_[Other], Owner health facility_(Sector), Functioning 2018, Standard_Precautions_(SP): soap/hand_disinfectant,_disposable/auto-disable_ needles_and_syringes,_sharps_safe_disposal_box,_sterilizer,_latex_gloves,_masks,_guidelines_for_SP , First_aid_and_life_support_(cardiopulmonary_resuscitation),_stabilization_of_patient_with_severe_trauma_and_non-trauma_emergencies_and_prioritization_before_referral_(including_IV_line_and_saline_solution_for_fuid_resuscitation_if_needed)__  , Medical_(ECG)_and_surgical_triage,_advanced_life_support_and_airway_management,_acceptance_of_referral,_advance_stabilization_and_referral,_availability_of_second-line_emergency_and_pain_management_drugs,_availability_of_triage,_admission_and_referral_gui, Outpatient services 2018, Outpatient_department_with_availability_of_all_essential_drugs_for_secondary_care_as_per_national_guidelines_(including_NCD_and_pain_management),_and_at_least_one_general_practitioner, Minor trauma 2018, Emergency_surgery,_full_surgical_wound_care,_advanced_fracture_management_through_at_least_one_operating_theatre_with_basic_general_anaesthesia_(with_or_without_gas), One_or_two_beds_for_stabilization_of_patients_and_short_observation_(max_8_-_10.5_hours), At_least_0.50_inpatient_bed_capacity_with_0.5/7_availability_of_medical_doctors_(MD),_nurses_and_midwives,_and_-5_beds_for_short_observation_before_admission,_or_0.5/8_hospitalization, Basic_laboratory_with_general_microscopy?? ?, Laboratory_services, Referral_capacity:_referral_SoP_including_referral_form_available,_means_of_communication_and_access_to_transport_(only_for_Health_Center_&_Hospital), Home_visits,_including_follow-up_of_early_discharged_trauma_and_non_trauma_patients,_monitoring_of_noncommunicable_diseases_(NCD)_medication_compliance,_promotion_of_self-care_practices,_and_palliative_care , Blood_storage_capacity, X-ray_service_(basic_radiological_unit)_and_ultrasound, Complex_referral_triage,_acceptance_of_referral,_intensive_care_level_management_with_availability_of_assisted_ventilation,_infusion_pumps,_and_third-line_emergency_drugs,_emergency_department_with_at_least_10_observation_beds_with_SOPs_including_referral, Emergency and elective surgery 2018, At_least_50_inpatient_bed_capacity_with_as_a_minimum_general,_pediatric_and_ob-gyn_wards_with_0.5/7_availability_of_MD_and/or_specialists_(general_surgeon,_ob-gyn,_pediatrician,_others), Laboratory_services,_including_electrolyte_and_blood_gas_concentrations,_public_health_laboratory_capacities, X-ray_with_scintigraphy,_intraoperation_X-ray_intensifier,_ultrasound,_MRI_and/or_CT_scan, Intensive_care_unit_with_at_least__bed_capacity, Orthopaedic/trauma_ward_for_advanced_orthopaedic_and_surgical_care,_including_burn_patient_management, Dialysis_services:_hemodialysis_and_peritoneal_dialysis, MEDEVAC_procedures,_transport_means_and_network_for_referral_of_patients_in_need_of_highly_specialized_care, Procedures_in_place_for_early_discharge_of_post-operatory_patients_through_referral_to_secondary_hospitals,_in_mass_casualty_scenarios, EPI 2018, To_be_asked_only_if_FIX_POST_EPI_is_not_available: Routine_immunization_against_all_national_target_diseases_with_regular_availability_of_all_vaccines_trasported_with_carrier_and_availability_of_supplies__  __  __  , Integrated outreach (IMCI+EPI+ANC+Nutrition_Services) 2018, Under 5 clinics 2018, Malnutrition services 2018, Community-based_management_of_acute_malnutrition_(CMAM)_with_outpatient_therapeutic_programme_(OTP)_for_severe_acute_malnutrition_without_medical_complications_and_MAM_with_ready-to-use_therapeutic_foods_(RUTF)_available , Management_of_children_classified_with_severe_or_very_severe_diseases_(parenteral_fluids_and_drugs,_oxygen), Stabilization_centre_for_the_management_of_severe_acute_malnutrition_with_medical_complications,_with_availability_of_F_75,_F100,_ready-to-use_therapeutic_foods_and_dedicated_trained_team_of_MD,_nurses,_and_aid_nurses,_0.5/7, Regular_reporting_site_of_the_national_integrated_surveillance_system_and/or_of_the_electronic_Diseases_Early_Warning_System_(eDEWS), Diagnosis_of_malaria_suspected_cases_with_rapid_diagnostic_test_(RDT)_and_treatment_of_positive_cases,_or_detection_and_referral_of_suspected_cases,_and_follow-up, Detection_and_referral_of_suspected_TB_cases,_and_follow-up,_diagnosis_and_treatment_only_at_the_Hospital_level, Management_of_severe_and/or_complicated_communicable_diseases_(such_as_severe_dengue,_measles_with_pneumonia,_cerebral_malaria,_and_others), Diagnosis,_management_and_follow-up_of_MDR_TB_patients, Syndromic_management_of_sexually_transmitted_infections,_national_first-line_antibiotics_available, Availability_of_free_condoms in_consultation_rooms, HIV_counselling_and_testing, Prophylaxis_and_treatment_of_opportunistic_infections,_prevention_of_mother-to-child_HIV_transmission_(PMTCT), Antiretroviral_treatment_(ART), Family Planning 2018, ANC 2018, Skilled birth attendant 2018, Basic emergency obstetric care 2018, Post-partum_care:_examination_of_mother_and_newborn_baby_(up_to_6_weeks),_respond_to_observed_signs,_support_breastfeeding,_counsel_on_complementary_feeding,_promote_family_planning, Comprehensive emergency obstetric care 2018, Management_of_neonatal_illnesses, Post_abortion_care:_safe_induced_abortion_for_all_legal_indications,_uterine_evacuation_using_manual_vacuum_aspiration_(MVA)_or_medical_methods_where_applicable,_antibiotic_prophylaxis,_treatment_of_abortion_complications,_counselling_for_abortion_and_pos, Clinical_management_of_rape_survivors_(including_psychological_support), Emergency_contraception, Post-exposure_prophylaxis_(PEP)_for_STI_and_HIV_infections, Asthma_and_chronic_obstructive_pulmonary_disease_(COPD):_classification,_treatment_and_follow-up,_availability_of_drugs, Hypertension:_early_detection,_management_and_counselling_(including_dietary_advice),_follow-up,_with_availability_of_functioning_blood_pressure_apparatus,_and_drugs_as_per_national_protocols, Diabetes:_early_detection,_management_and_monitoring_(availability_of_blood_glucose_and_urine_ketones_test_strips,_oral_anti-diabetic),_counselling_(including_dietary_advice),_foot_care,_follow-up,_insulin_available_at_the_hospital_level,  Oral_health_and_dental_care_(outside_MSP_but_present_in_many_facilities), Psychological_first_aid_for_distressed_people,_survivors_of_assault,_abuse,_neglect,_domestic_violence,_and_linking_vulnerable_individuals/families_with_resources,_such_as_health_services,_livelihood_assistance_etc., Management_of_mental_disorders_by_specialized_and/or_trained_and_supervised_non-specialized_health-care_providers,_availability_of_fluoxetine,_carbamazepine,_haloperidol,_biperiden_and_diazepam, Rehabilitation_services_and_assistive_device_provision,_including_post-operative_rehabilitation_for_trauma-related_injuries, Inpatient_care_for_management_of_mental_disorders_by_specialized_and/or_trained_and_supervised_non-specialized_health-care_providers, Disabilities_and_injuries_prevention_and_early_rehabilitation,_including_early_follow-up_at_home_with_mobile_team_for_postoperative_care, Inpatient_care_for_management_of_mental_disorders_by_specialized_health-care_providers, Water:_sufficient_and_safe_water_available_during_opening_hours,_with_0.5_days_safely_stored_stock,_functioning_handwashing_stations_(tap_and_water_with_functioning_wash_basin_and_soap,_or_alcohol-based_hand-rubs)_in_rooms_where_care_is_provided_and_at_en, Water:_sufficient,_running,_and_safe_water_available_0.5/7,_at_water_points_accessible_to_all_users,_with_0.5_days_safety_stored_stock,_functioning_handwashing_stations_(tap_and_water_with_functioning_wash_basin_and_soap,_or_alcohol-based_hand-rubs)_in_r, Water:_availability_of_safe_and_running_water_0.5/7,_sufficient_according_to_number_and_type_of_patients_(for_example,_00_litres/bed/day_for_patients_with_Ebola_virus_disease),_with_0.5_days_safely_stored_stock, Sanitation:_at_least_0_(1Xstaff,_1Xfemale,_1Xmen)_clean_and_functioning_toilets_with_functioning_handwashing_stations_(tap_and_water_with_wash_basin_and_soap,_or_alcohol-based_hand-rubs)_within_5_m_to_toilets_for_the_OPD_area, Sanitation:_at_least_one_gender-separated_clean_and_functioning_toilet_for_every_0.50_users_at_each_inpatient_centres,_and_one_for_staff,_with _functioning_handwashing_stations_(tap_and_water_with_functioning_wash_basin_and_soap,_or_alcohol-based_hand-rub, Waste:_segregation_of_sharps,_of_hazardous_and_non-hazardous_waste_in_separate_well-marked_receptacles_(pedal_bin)_with_lid_and_plastic_bin_liner_located_in_all_key_areas, Waste: _timely_and_safe_waste_collection_with_use_of_appropriate_personal_protective_equipment_(PPE),_safe_final_disposal_of_sharps_and_hazardous_waste,_dedicated_fenced-off_and_covered_pit_for_non-hazardous_waste_disposal_or_municipal_collection, Waste:_treatment_of_medium_volumes_of_hazardous_waste_with_autoclave_and_incinerators_with_temperature_below_ 800°C , Waste:_treatment_of_high_volumes_of_hazardous_waste_with_high_temperature_(above_800_°C)_incinerators,_or_alternative_non-_burn_technologies, Outpatient_visits_with_availability_of_oral_antibiotic_and_antipyretic,_ORS_and_zinc_dispersable_tablets,_scabies_local_treatment,_eyes_antibiotic_ointment, First_aid,_management_of_trauma_and_referral:_stop_bleeding,_dressing,_splint/immobilize,_oral_analgesic, Community_based_Integrated_Management_of_Childhood_Illness_(IMCI)_for_acute_respiratory_infection_(ARI),_diarrhoea_and_malaria_with_availability_of_oral_drugs, Screening_for_acute_malnutrition_with_Mid-upper_arm_circumference_(MUAC), IEC_of_child_care_taker,_promotion_of_exclusive_breastfeeding_and_IYCF_practices,_active_case_finding_and_referral_of_sick_children, Community_mobilization_and_support_of_out_reach_sites_of_routine_EPI,_and/or_mass_vaccination_campaigns, Diagnosis_of_malaria_suspected_cases_with_rapid_diagnostic_test_(RDT),_and_treatment_of_positive_cases,_or_detection_and_referral_of_suspected_cases,_and_follow-up, Support_vector_control_interventions_(distribution_of_impregnated_bed_nets,_in/outdoor_insecticide_spraying,_related_Information,_Education_and_Communication_(IEC),_others...)__  , Community_mobilization_and_support_of_mass_drug_administration/treatment_campaigns, Ensure_access_to_free_condoms , IEC_on_prevention_of_STI/HIV_infections_and_behavioural_change_communications, Skilled_care_during_childbirth_including_early_essential_newborn_care:_ preparing_for_birth,_assess_presence_of_labour,_stage,_fill_WHO_partograph_and_monitor,_manage_conditions_accordingly,_dry_baby,_clean_cord_care,_basic_newborn_resuscitation,_skin-10, ...]\n",
       "Index: []\n",
       "\n",
       "[0 rows x 120 columns]"
      ]
     },
     "execution_count": 36,
     "metadata": {},
     "output_type": "execute_result"
    }
   ],
   "source": [
    "dest_df"
   ]
  },
  {
   "cell_type": "code",
   "execution_count": 44,
   "metadata": {},
   "outputs": [
    {
     "name": "stdout",
     "output_type": "stream",
     "text": [
      "5042\n",
      "5042\n",
      "4411\n",
      "time elapsed: 12 seconds\n"
     ]
    }
   ],
   "source": [
    "dfiles = ['HeRAMS 2018 April.csv']\n",
    "wpath = r'C:\\Users\\charl\\Documents\\GOST\\Yemen\\graphtool'\n",
    "\n",
    "for dfile in dfiles:\n",
    "    # Read in\n",
    "    dest_df = pd.read_csv(os.path.join(os.path.join(dpath, dfile)), encoding = \"ISO-8859-1\")\n",
    "    \n",
    "    # Ensure coordinates are floats\n",
    "    dest_df.Longitude = dest_df.Longitude.astype(float)\n",
    "    dest_df.Latitude = dest_df.Latitude.astype(float)\n",
    "    \n",
    "    # Drop entries with no coordinates    \n",
    "    dest_df2 = dest_df.copy()\n",
    "    dest_df2 = dest_df2.loc[(dest_df2.Longitude != 0)]\n",
    "    dest_df2 = dest_df2.loc[(dest_df2.Longitude != None)]\n",
    "    print(len(dest_df))\n",
    "    dest_df2 = dest_df2.loc[(dest_df2.Longitude <= 60)]\n",
    "    dest_df2 = dest_df2.loc[(dest_df2.Longitude >= 35)]\n",
    "    dest_df2 = dest_df2.loc[(dest_df2.Latitude <= 30)]\n",
    "    dest_df2 = dest_df2.loc[(dest_df2.Latitude >= 5)]\n",
    "    dest_df = dest_df2\n",
    "    print(len(dest_df))\n",
    "    \n",
    "    \n",
    "    # Generate Geometries\n",
    "    dest_df['geometry'] = list(zip(dest_df.Longitude, dest_df.Latitude))\n",
    "    dest_df['geometry'] = dest_df['geometry'].apply(Point)\n",
    "    dest_df = gpd.GeoDataFrame(dest_df, geometry = 'geometry', crs = {'init':'espg:4326'})\n",
    "    \n",
    "    # Perform snap\n",
    "    time.ctime()\n",
    "    start = time.time()\n",
    "    df = gn.pandana_snap(G_salty_time, dest_df, 'epsg:4326','epsg:32638', add_dist_to_node_col = True)\n",
    "    \n",
    "    # Save to file\n",
    "    df.to_csv(os.path.join(wpath, dfile.replace('.csv', '_snapped.csv')))\n",
    "    df.to_csv(os.path.join(dpath, dfile.replace('.csv', '_snapped.csv')))\n",
    "\n",
    "    print('time elapsed: %d seconds' % (time.time() - start))"
   ]
  },
  {
   "cell_type": "markdown",
   "metadata": {},
   "source": [
    "### Snap Origin Points to Networks"
   ]
  },
  {
   "cell_type": "code",
   "execution_count": 11,
   "metadata": {
    "scrolled": false
   },
   "outputs": [
    {
     "name": "stdout",
     "output_type": "stream",
     "text": [
      "Beginning snap\n",
      "Time elapsed: 161 seconds\n",
      "Beginning snap\n",
      "Time elapsed: 164 seconds\n"
     ]
    }
   ],
   "source": [
    "ofile_A = r'origins_1km_2015.csv'\n",
    "ofile_B = r'origins_1km_2018.csv'\n",
    "ofiles = [ofile_A,ofile_B]\n",
    "wpath = opath \n",
    "\n",
    "for ofile in ofiles:\n",
    "    \n",
    "    # Read in\n",
    "    dest_df = pd.read_csv(os.path.join(os.path.join(opath, ofile)), encoding = \"ISO-8859-1\")\n",
    "    dest_df['geometry'] = dest_df['geometry'].apply(loads)\n",
    "    dest_df = gpd.GeoDataFrame(dest_df, geometry = 'geometry', crs = {'init':'espg:4326'})\n",
    "    \n",
    "    # Perform snap\n",
    "    print('Beginning snap')\n",
    "    \n",
    "    time.ctime()\n",
    "    start = time.time()\n",
    "    df = gn.pandana_snap(G_salty_time, dest_df, 'epsg:4326','epsg:32638', add_dist_to_node_col = True)\n",
    "    \n",
    "    # Save to file\n",
    "    df.to_csv(os.path.join(wpath, ofile.replace('.csv', '_snapped.csv')))\n",
    "    compath = r'C:\\Users\\charl\\Documents\\GOST\\Yemen\\graphtool'\n",
    "    df.to_csv(os.path.join(compath, ofile.replace('.csv', '_snapped.csv')))\n",
    "\n",
    "    print('Time elapsed: %d seconds' % (time.time() - start))"
   ]
  },
  {
   "cell_type": "code",
   "execution_count": null,
   "metadata": {},
   "outputs": [],
   "source": []
  }
 ],
 "metadata": {
  "kernelspec": {
   "display_name": "Python (Cfox2)",
   "language": "python",
   "name": "cfox2"
  },
  "language_info": {
   "codemirror_mode": {
    "name": "ipython",
    "version": 3
   },
   "file_extension": ".py",
   "mimetype": "text/x-python",
   "name": "python",
   "nbconvert_exporter": "python",
   "pygments_lexer": "ipython3",
   "version": "3.6.8"
  }
 },
 "nbformat": 4,
 "nbformat_minor": 2
}
