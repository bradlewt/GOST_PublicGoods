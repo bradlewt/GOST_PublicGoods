{
 "cells": [
  {
   "cell_type": "code",
   "execution_count": 97,
   "metadata": {},
   "outputs": [],
   "source": [
    "import pandas as pd\n",
    "import numpy as np\n",
    "import sys, os\n",
    "sys.path.append(r'C:\\Users\\charl\\Documents\\GitHub\\GOST\\GOSTRocks')\n",
    "import rasterMisc as rm\n",
    "import rasterio as rt\n",
    "import geopandas as gpd\n",
    "from shapely.geometry import box, Point"
   ]
  },
  {
   "cell_type": "markdown",
   "metadata": {},
   "source": [
    "### Use 2018 geometry as input, sample 2016 raster for population values"
   ]
  },
  {
   "cell_type": "code",
   "execution_count": 98,
   "metadata": {},
   "outputs": [],
   "source": [
    "origin_pth = r'C:\\Users\\charl\\Documents\\GOST\\Yemen\\origins'\n",
    "points_2018 = gpd.read_file(os.path.join(origin_pth, 'origins_1km_2018.shp'))\n",
    "points_2018['x'] = points_2018.geometry.x\n",
    "points_2018['y'] = points_2018.geometry.y\n",
    "\n",
    "list_of_nodes = {}\n",
    "for index, row in points_2018.iterrows():\n",
    "    list_of_nodes.update({index:(row['x'], row['y'])})"
   ]
  },
  {
   "cell_type": "code",
   "execution_count": 99,
   "metadata": {},
   "outputs": [],
   "source": [
    "pop_2015 = rt.open(os.path.join(r'C:\\Users\\charl\\Documents\\GOST\\Yemen\\worldpop',r'pop15_resampled.tif'))\n",
    "b = pop_2015.bounds\n",
    "datasetBoundary = box(b[0], b[1], b[2], b[3])\n",
    "selKeys = []\n",
    "selPts = []\n",
    "for key, pt in list_of_nodes.items():\n",
    "    if Point(pt[0], pt[1]).intersects(datasetBoundary):\n",
    "        selPts.append(pt)\n",
    "        selKeys.append(key)\n",
    "raster_values = list(pop_2015.sample(selPts))\n",
    "raster_values = [x[0] for x in raster_values]\n",
    "\n",
    "# generate new dictionary of {node ID: raster values}\n",
    "ref = dict(zip(selKeys, raster_values))"
   ]
  },
  {
   "cell_type": "markdown",
   "metadata": {},
   "source": [
    "### Map values back on to original 2018 points"
   ]
  },
  {
   "cell_type": "code",
   "execution_count": 106,
   "metadata": {},
   "outputs": [],
   "source": [
    "points_2018['2015_POP'] = points_2018.index.map(ref)\n",
    "points_2018['VALUE'] = points_2018['2015_POP']\n",
    "points_2018 = points_2018.drop(['x','y','2015_POP'], axis = 1)"
   ]
  },
  {
   "cell_type": "code",
   "execution_count": 110,
   "metadata": {},
   "outputs": [],
   "source": [
    "points_2018.to_file(os.path.join(r'C:\\Users\\charl\\Documents\\GOST\\Yemen\\origins','origins_1km_2015.shp'), driver = 'ESRI Shapefile')\n",
    "points_2018.to_csv(os.path.join(r'C:\\Users\\charl\\Documents\\GOST\\Yemen\\origins','origins_1km_2015.csv'))"
   ]
  }
 ],
 "metadata": {
  "kernelspec": {
   "display_name": "Python (Cfox2)",
   "language": "python",
   "name": "cfox2"
  },
  "language_info": {
   "codemirror_mode": {
    "name": "ipython",
    "version": 3
   },
   "file_extension": ".py",
   "mimetype": "text/x-python",
   "name": "python",
   "nbconvert_exporter": "python",
   "pygments_lexer": "ipython3",
   "version": "3.6.8"
  }
 },
 "nbformat": 4,
 "nbformat_minor": 2
}
