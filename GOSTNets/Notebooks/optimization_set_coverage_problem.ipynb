{
 "cells": [
  {
   "cell_type": "markdown",
   "metadata": {},
   "source": [
    "## This python notebook has examples of the Set-Coverage Problem and Partial Set-Coverage Problem\n",
    "### load libraries"
   ]
  },
  {
   "cell_type": "code",
   "execution_count": 13,
   "metadata": {},
   "outputs": [],
   "source": [
    "import geopandas as gpd\n",
    "import pandas as pd\n",
    "import os, sys, time\n",
    "sys.path.append(r'/home/vagrant/repos/GOST_PublicGoods/GOSTNets/GOSTNets')\n",
    "import GOSTnet as gn\n",
    "import importlib\n",
    "import networkx as nx\n",
    "import osmnx as ox\n",
    "from shapely.ops import unary_union\n",
    "from shapely.wkt import loads\n",
    "from shapely.geometry import LineString, MultiLineString, Point"
   ]
  },
  {
   "cell_type": "markdown",
   "metadata": {},
   "source": [
    "### read back in processed graph"
   ]
  },
  {
   "cell_type": "code",
   "execution_count": 14,
   "metadata": {},
   "outputs": [],
   "source": [
    "G = nx.read_gpickle('./sampleData/nouakchott/biggest_subg.pickle')"
   ]
  },
  {
   "cell_type": "code",
   "execution_count": 15,
   "metadata": {},
   "outputs": [
    {
     "name": "stdout",
     "output_type": "stream",
     "text": [
      "(0, 23857, {'Wkt': 'LINESTRING (-15.8975893 18.0394637, -15.8976921 18.039127)', 'id': 45978, 'infra_type': 'residential', 'osm_id': '667426151', 'key': 'edge_45978', 'length': 38.82328422750167, 'Type': 'legitimate', 'time': 13.976382321900601, 'mode': 'drive'})\n"
     ]
    }
   ],
   "source": [
    "gn.example_edge(G)"
   ]
  },
  {
   "cell_type": "markdown",
   "metadata": {},
   "source": [
    "## load origins and destinations"
   ]
  },
  {
   "cell_type": "code",
   "execution_count": 16,
   "metadata": {},
   "outputs": [],
   "source": [
    "origins = pd.read_csv('./sampleData/nouakchott/origins_test1.csv')\n",
    "origins['geometry'] = list(zip(origins['Lon'],origins['Lat']))\n",
    "origins['geometry'] = origins['geometry'].apply(Point)\n",
    "origins_gdf = gpd.GeoDataFrame(origins, crs = {'init':'epsg:4326'}, geometry = 'geometry')\n",
    "origins_gdf = gn.pandana_snap(G, origins_gdf, target_crs = 'epsg:32628', add_dist_to_node_col = True)\n",
    "origins = list(origins_gdf.NN)\n",
    "origins = list(set(origins))"
   ]
  },
  {
   "cell_type": "code",
   "execution_count": 17,
   "metadata": {},
   "outputs": [],
   "source": [
    "destinations = pd.read_csv('./sampleData/nouakchott/destinations_test1.csv')\n",
    "destinations['geometry'] = list(zip(destinations['Lon'],destinations['Lat']))\n",
    "destinations['geometry'] = destinations['geometry'].apply(Point)\n",
    "destinations_gdf = gpd.GeoDataFrame(destinations, crs = {'init':'epsg:4326'}, geometry = 'geometry')\n",
    "destinations_gdf = gn.pandana_snap(G, destinations_gdf, target_crs = 'epsg:32628', add_dist_to_node_col = True)\n",
    "#destinations_gdf.NN is the nearest node of the road network\n",
    "destinations = list(destinations_gdf.NN)\n",
    "destinations = list(set(destinations))"
   ]
  },
  {
   "cell_type": "markdown",
   "metadata": {},
   "source": [
    "## calculate OD Matrix"
   ]
  },
  {
   "cell_type": "code",
   "execution_count": 18,
   "metadata": {},
   "outputs": [
    {
     "name": "stdout",
     "output_type": "stream",
     "text": [
      "CPU times: user 2.2 s, sys: 2.87 ms, total: 2.21 s\n",
      "Wall time: 2.28 s\n"
     ]
    }
   ],
   "source": [
    "%time OD = gn.calculate_OD(G, origins, destinations, fail_value = 9999999999999)"
   ]
  },
  {
   "cell_type": "code",
   "execution_count": 19,
   "metadata": {},
   "outputs": [],
   "source": [
    "OD_df = pd.DataFrame(OD, columns = destinations, index = origins)"
   ]
  },
  {
   "cell_type": "code",
   "execution_count": 20,
   "metadata": {},
   "outputs": [
    {
     "data": {
      "text/html": [
       "<div>\n",
       "<style scoped>\n",
       "    .dataframe tbody tr th:only-of-type {\n",
       "        vertical-align: middle;\n",
       "    }\n",
       "\n",
       "    .dataframe tbody tr th {\n",
       "        vertical-align: top;\n",
       "    }\n",
       "\n",
       "    .dataframe thead th {\n",
       "        text-align: right;\n",
       "    }\n",
       "</style>\n",
       "<table border=\"1\" class=\"dataframe\">\n",
       "  <thead>\n",
       "    <tr style=\"text-align: right;\">\n",
       "      <th></th>\n",
       "      <th>8994</th>\n",
       "      <th>7011</th>\n",
       "      <th>6724</th>\n",
       "      <th>4965</th>\n",
       "      <th>2440</th>\n",
       "      <th>1646</th>\n",
       "      <th>25486</th>\n",
       "      <th>33112</th>\n",
       "      <th>15739</th>\n",
       "      <th>4092</th>\n",
       "    </tr>\n",
       "  </thead>\n",
       "  <tbody>\n",
       "    <tr>\n",
       "      <th>28291</th>\n",
       "      <td>3340.836168</td>\n",
       "      <td>1941.811792</td>\n",
       "      <td>2474.175924</td>\n",
       "      <td>1637.061354</td>\n",
       "      <td>1065.073847</td>\n",
       "      <td>2019.845992</td>\n",
       "      <td>2802.051017</td>\n",
       "      <td>2740.249661</td>\n",
       "      <td>2390.308863</td>\n",
       "      <td>2326.188681</td>\n",
       "    </tr>\n",
       "    <tr>\n",
       "      <th>15877</th>\n",
       "      <td>3719.561387</td>\n",
       "      <td>552.200337</td>\n",
       "      <td>1662.082592</td>\n",
       "      <td>1663.938809</td>\n",
       "      <td>2262.278821</td>\n",
       "      <td>3431.780571</td>\n",
       "      <td>2196.624544</td>\n",
       "      <td>2859.957422</td>\n",
       "      <td>2766.786612</td>\n",
       "      <td>1923.391222</td>\n",
       "    </tr>\n",
       "    <tr>\n",
       "      <th>33926</th>\n",
       "      <td>3774.268565</td>\n",
       "      <td>1292.827363</td>\n",
       "      <td>2257.561160</td>\n",
       "      <td>1196.118322</td>\n",
       "      <td>2316.985999</td>\n",
       "      <td>3486.487749</td>\n",
       "      <td>1490.138612</td>\n",
       "      <td>2222.673912</td>\n",
       "      <td>2819.961653</td>\n",
       "      <td>1017.160746</td>\n",
       "    </tr>\n",
       "    <tr>\n",
       "      <th>4101</th>\n",
       "      <td>2611.859344</td>\n",
       "      <td>2272.648285</td>\n",
       "      <td>2805.012416</td>\n",
       "      <td>1967.897847</td>\n",
       "      <td>575.529981</td>\n",
       "      <td>2532.306273</td>\n",
       "      <td>3132.887509</td>\n",
       "      <td>2695.357159</td>\n",
       "      <td>1661.431381</td>\n",
       "      <td>2657.025174</td>\n",
       "    </tr>\n",
       "    <tr>\n",
       "      <th>7178</th>\n",
       "      <td>2013.543292</td>\n",
       "      <td>1682.311487</td>\n",
       "      <td>2214.675618</td>\n",
       "      <td>1376.028912</td>\n",
       "      <td>1622.705275</td>\n",
       "      <td>2792.331903</td>\n",
       "      <td>2541.018574</td>\n",
       "      <td>1233.723334</td>\n",
       "      <td>1045.810811</td>\n",
       "      <td>2065.156239</td>\n",
       "    </tr>\n",
       "    <tr>\n",
       "      <th>15243</th>\n",
       "      <td>1622.658588</td>\n",
       "      <td>2097.960971</td>\n",
       "      <td>2630.325102</td>\n",
       "      <td>1791.678396</td>\n",
       "      <td>2038.354760</td>\n",
       "      <td>3207.981387</td>\n",
       "      <td>2956.668059</td>\n",
       "      <td>1927.828917</td>\n",
       "      <td>244.203522</td>\n",
       "      <td>2480.805723</td>\n",
       "    </tr>\n",
       "    <tr>\n",
       "      <th>14482</th>\n",
       "      <td>2911.656748</td>\n",
       "      <td>2009.776870</td>\n",
       "      <td>2542.141001</td>\n",
       "      <td>995.746620</td>\n",
       "      <td>2243.302682</td>\n",
       "      <td>3412.929310</td>\n",
       "      <td>1785.201938</td>\n",
       "      <td>366.536414</td>\n",
       "      <td>1938.141226</td>\n",
       "      <td>1309.339603</td>\n",
       "    </tr>\n",
       "    <tr>\n",
       "      <th>34965</th>\n",
       "      <td>2980.030795</td>\n",
       "      <td>3014.883868</td>\n",
       "      <td>3547.248000</td>\n",
       "      <td>2710.133431</td>\n",
       "      <td>1363.870746</td>\n",
       "      <td>2203.531169</td>\n",
       "      <td>3875.123093</td>\n",
       "      <td>3153.667045</td>\n",
       "      <td>2034.871046</td>\n",
       "      <td>3399.260757</td>\n",
       "    </tr>\n",
       "    <tr>\n",
       "      <th>11029</th>\n",
       "      <td>2550.781031</td>\n",
       "      <td>2089.009361</td>\n",
       "      <td>2621.373492</td>\n",
       "      <td>1244.331640</td>\n",
       "      <td>2029.403150</td>\n",
       "      <td>3199.029777</td>\n",
       "      <td>2313.401780</td>\n",
       "      <td>733.056700</td>\n",
       "      <td>1577.265509</td>\n",
       "      <td>1837.539444</td>\n",
       "    </tr>\n",
       "    <tr>\n",
       "      <th>22552</th>\n",
       "      <td>2459.436717</td>\n",
       "      <td>1533.001302</td>\n",
       "      <td>2065.365433</td>\n",
       "      <td>1228.250864</td>\n",
       "      <td>929.352851</td>\n",
       "      <td>2489.316195</td>\n",
       "      <td>2393.240526</td>\n",
       "      <td>1977.578287</td>\n",
       "      <td>1509.008754</td>\n",
       "      <td>1917.378191</td>\n",
       "    </tr>\n",
       "  </tbody>\n",
       "</table>\n",
       "</div>"
      ],
      "text/plain": [
       "             8994         7011         6724         4965         2440   \\\n",
       "28291  3340.836168  1941.811792  2474.175924  1637.061354  1065.073847   \n",
       "15877  3719.561387   552.200337  1662.082592  1663.938809  2262.278821   \n",
       "33926  3774.268565  1292.827363  2257.561160  1196.118322  2316.985999   \n",
       "4101   2611.859344  2272.648285  2805.012416  1967.897847   575.529981   \n",
       "7178   2013.543292  1682.311487  2214.675618  1376.028912  1622.705275   \n",
       "15243  1622.658588  2097.960971  2630.325102  1791.678396  2038.354760   \n",
       "14482  2911.656748  2009.776870  2542.141001   995.746620  2243.302682   \n",
       "34965  2980.030795  3014.883868  3547.248000  2710.133431  1363.870746   \n",
       "11029  2550.781031  2089.009361  2621.373492  1244.331640  2029.403150   \n",
       "22552  2459.436717  1533.001302  2065.365433  1228.250864   929.352851   \n",
       "\n",
       "             1646         25486        33112        15739        4092   \n",
       "28291  2019.845992  2802.051017  2740.249661  2390.308863  2326.188681  \n",
       "15877  3431.780571  2196.624544  2859.957422  2766.786612  1923.391222  \n",
       "33926  3486.487749  1490.138612  2222.673912  2819.961653  1017.160746  \n",
       "4101   2532.306273  3132.887509  2695.357159  1661.431381  2657.025174  \n",
       "7178   2792.331903  2541.018574  1233.723334  1045.810811  2065.156239  \n",
       "15243  3207.981387  2956.668059  1927.828917   244.203522  2480.805723  \n",
       "14482  3412.929310  1785.201938   366.536414  1938.141226  1309.339603  \n",
       "34965  2203.531169  3875.123093  3153.667045  2034.871046  3399.260757  \n",
       "11029  3199.029777  2313.401780   733.056700  1577.265509  1837.539444  \n",
       "22552  2489.316195  2393.240526  1977.578287  1509.008754  1917.378191  "
      ]
     },
     "execution_count": 20,
     "metadata": {},
     "output_type": "execute_result"
    }
   ],
   "source": [
    "OD_df[0:10]"
   ]
  },
  {
   "cell_type": "code",
   "execution_count": 21,
   "metadata": {},
   "outputs": [
    {
     "data": {
      "text/plain": [
       "Int64Index([8994, 7011, 6724, 4965, 2440, 1646, 25486, 33112, 15739, 4092], dtype='int64')"
      ]
     },
     "execution_count": 21,
     "metadata": {},
     "output_type": "execute_result"
    }
   ],
   "source": [
    "OD_df.keys()"
   ]
  },
  {
   "cell_type": "code",
   "execution_count": 23,
   "metadata": {},
   "outputs": [
    {
     "data": {
      "text/plain": [
       "Int64Index([28291, 15877, 33926,  4101,  7178, 15243, 14482, 34965, 11029,\n",
       "            22552, 30616, 33435, 32797, 19488, 27040, 17189, 23723,  2044,\n",
       "            11310, 32820,  5048, 11322,  5307,  4798,  8638,  5702, 35016,\n",
       "            15307, 26830, 16726, 27222, 12121, 27867, 32092,  5343, 26977,\n",
       "             9699, 31973, 27750,  9703, 18544, 11633, 10098,  4851, 20596,\n",
       "            18033, 31222, 36602, 34556, 32893],\n",
       "           dtype='int64')"
      ]
     },
     "execution_count": 23,
     "metadata": {},
     "output_type": "execute_result"
    }
   ],
   "source": [
    "OD_df.index"
   ]
  },
  {
   "cell_type": "code",
   "execution_count": 24,
   "metadata": {},
   "outputs": [
    {
     "data": {
      "text/plain": [
       "2214.6756178992073"
      ]
     },
     "execution_count": 24,
     "metadata": {},
     "output_type": "execute_result"
    }
   ],
   "source": [
    "OD_df.loc[7178,6724]"
   ]
  },
  {
   "cell_type": "code",
   "execution_count": 25,
   "metadata": {},
   "outputs": [
    {
     "data": {
      "text/plain": [
       "Int64Index([8994, 7011, 6724, 4965, 2440, 1646, 25486, 33112, 15739, 4092], dtype='int64')"
      ]
     },
     "execution_count": 25,
     "metadata": {},
     "output_type": "execute_result"
    }
   ],
   "source": [
    "OD_df.keys()"
   ]
  },
  {
   "cell_type": "code",
   "execution_count": 76,
   "metadata": {},
   "outputs": [
    {
     "name": "stdout",
     "output_type": "stream",
     "text": [
      "peartree version: 0.6.1 \n",
      "networkx version: 2.2 \n",
      "matplotlib version: 3.0.3 \n",
      "osmnx version: 0.9 \n"
     ]
    },
    {
     "data": {
      "text/plain": [
       "<module 'GOSTnet' from '/home/vagrant/repos/GOST_PublicGoods/GOSTNets/GOSTNets/GOSTnet.py'>"
      ]
     },
     "execution_count": 76,
     "metadata": {},
     "output_type": "execute_result"
    }
   ],
   "source": [
    "import importlib\n",
    "importlib.reload(gn)"
   ]
  },
  {
   "cell_type": "markdown",
   "metadata": {},
   "source": [
    "## Set-Coverage Problem\n",
    "### Objective: Determine the minimum number of facilities and their locations in order to cover all demands within a pre-specified maximum distance (or time) coverage"
   ]
  },
  {
   "cell_type": "markdown",
   "metadata": {},
   "source": [
    "### inputs include a pre-specified maximum distance coverage of 3000 seconds"
   ]
  },
  {
   "cell_type": "code",
   "execution_count": 77,
   "metadata": {},
   "outputs": [
    {
     "name": "stdout",
     "output_type": "stream",
     "text": [
      "number of origins\n",
      "50\n",
      "print totalCoveredOrigins\n",
      "48\n",
      "print percent coverage\n",
      "96.0\n",
      "print prob status\n",
      "Optimal\n",
      "print problem variables\n",
      "[X_15739, X_1646, X_2440, X_25486, X_33112, X_4092, X_4965, X_6724, X_7011, X_8994, __dummy]\n",
      "print objective value\n",
      "<bound method LpAffineExpression.value of 0*__dummy + False>\n",
      "print prob obj\n",
      "0*__dummy\n"
     ]
    }
   ],
   "source": [
    "set_coverage_result = gn.optimize_set_coverage(OD_df,max_coverage = 2000)"
   ]
  },
  {
   "cell_type": "code",
   "execution_count": 64,
   "metadata": {},
   "outputs": [
    {
     "data": {
      "text/plain": [
       "[]"
      ]
     },
     "execution_count": 64,
     "metadata": {},
     "output_type": "execute_result"
    }
   ],
   "source": [
    "set_coverage_result"
   ]
  },
  {
   "cell_type": "markdown",
   "metadata": {},
   "source": [
    "## Partial Set-Coverage Problem\n",
    "### Objective: Determine the minimum number of facilities and their locations in order to cover a given fraction of the population within a pre-specified maximum distance (or time) coverage"
   ]
  },
  {
   "cell_type": "markdown",
   "metadata": {},
   "source": [
    "### we need to produce a series that has each origin and its respective population"
   ]
  },
  {
   "cell_type": "code",
   "execution_count": 110,
   "metadata": {},
   "outputs": [],
   "source": [
    "origins_w_demands_series = pd.Series(origins_gdf.demand.values,index=origins_gdf.NN)"
   ]
  },
  {
   "cell_type": "markdown",
   "metadata": {},
   "source": [
    "### inputs include covering 90 percent of the population, a pre-specified maximum distance coverage of 2000 seconds, and a  series of origins with their population"
   ]
  },
  {
   "cell_type": "code",
   "execution_count": 115,
   "metadata": {},
   "outputs": [
    {
     "name": "stdout",
     "output_type": "stream",
     "text": [
      "print min_coverage\n",
      "12419780.4\n"
     ]
    }
   ],
   "source": [
    "partial_set_coverage_result = gn.optimize_partial_set_coverage(OD_df, pop_coverage = .9, max_coverage = 2000, origins_pop_series = origins_w_demands_series, existing_facilities = None)"
   ]
  },
  {
   "cell_type": "code",
   "execution_count": 112,
   "metadata": {},
   "outputs": [
    {
     "data": {
      "text/plain": [
       "[15739, 1646, 2440, 25486, 33112, 4092, 4965, 6724, 7011, 8994]"
      ]
     },
     "execution_count": 112,
     "metadata": {},
     "output_type": "execute_result"
    }
   ],
   "source": [
    "partial_set_coverage_result"
   ]
  }
 ],
 "metadata": {
  "kernelspec": {
   "display_name": "Python 3",
   "language": "python",
   "name": "python3"
  },
  "language_info": {
   "codemirror_mode": {
    "name": "ipython",
    "version": 3
   },
   "file_extension": ".py",
   "mimetype": "text/x-python",
   "name": "python",
   "nbconvert_exporter": "python",
   "pygments_lexer": "ipython3",
   "version": "3.7.1"
  }
 },
 "nbformat": 4,
 "nbformat_minor": 2
}
