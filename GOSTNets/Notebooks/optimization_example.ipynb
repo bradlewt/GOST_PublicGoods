{
 "cells": [
  {
   "cell_type": "code",
   "execution_count": null,
   "metadata": {},
   "outputs": [],
   "source": [
    "#Optimization Example"
   ]
  },
  {
   "cell_type": "code",
   "execution_count": 42,
   "metadata": {},
   "outputs": [],
   "source": [
    "import geopandas as gpd\n",
    "import pandas as pd\n",
    "import os, sys\n",
    "# add to your system path the location of the LoadOSM.py and GOSTnet.py scripts\n",
    "sys.path.append(r'/home/vagrant/repos/GOST_PublicGoods/GOSTNets/GOSTNets')\n",
    "import GOSTnet as gn\n",
    "import LoadOSM as losm\n",
    "import importlib\n",
    "from pulp import LpInteger,LpVariable, LpProblem, lpSum, LpMinimize"
   ]
  },
  {
   "cell_type": "code",
   "execution_count": 44,
   "metadata": {},
   "outputs": [],
   "source": [
    "osmNetwork = losm.OSM_to_network('./sampleData/nouakchott/mauritania-latest.osm.pbf')"
   ]
  },
  {
   "cell_type": "code",
   "execution_count": 45,
   "metadata": {
    "scrolled": false
   },
   "outputs": [
    {
     "data": {
      "text/plain": [
       "residential       37459\n",
       "track              5467\n",
       "unclassified       4021\n",
       "service            2028\n",
       "path               1488\n",
       "tertiary            891\n",
       "footway             563\n",
       "secondary           310\n",
       "primary             228\n",
       "construction        105\n",
       "trunk                83\n",
       "pedestrian           29\n",
       "trunk_link           29\n",
       "tertiary_link        14\n",
       "primary_link          5\n",
       "secondary_link        3\n",
       "road                  2\n",
       "raceway               2\n",
       "proposed              2\n",
       "cycleway              1\n",
       "Name: infra_type, dtype: int64"
      ]
     },
     "execution_count": 45,
     "metadata": {},
     "output_type": "execute_result"
    }
   ],
   "source": [
    "osmNetwork.roads_raw.infra_type.value_counts()"
   ]
  },
  {
   "cell_type": "code",
   "execution_count": 46,
   "metadata": {},
   "outputs": [],
   "source": [
    "accepted_road_types = ['residential', 'unclassified', 'track','service','tertiary','road','secondary','primary','trunk','primary_link','trunk_link','tertiary_link','secondary_link']"
   ]
  },
  {
   "cell_type": "code",
   "execution_count": 47,
   "metadata": {},
   "outputs": [],
   "source": [
    "osmNetwork.filterRoads(acceptedRoads = accepted_road_types)"
   ]
  },
  {
   "cell_type": "code",
   "execution_count": 48,
   "metadata": {
    "scrolled": true
   },
   "outputs": [],
   "source": [
    "shp = gpd.read_file('./sampleData/nouakchott/layers/POLYGON.shp')\n",
    "shp = shp.to_crs({'init':'epsg:4326'})\n",
    "shp_obj = shp.geometry.iloc[0]"
   ]
  },
  {
   "cell_type": "code",
   "execution_count": 49,
   "metadata": {},
   "outputs": [],
   "source": [
    "osmNetwork.roads_raw = osmNetwork.roads_raw.loc[osmNetwork.roads_raw.geometry.intersects(shp_obj) == True]"
   ]
  },
  {
   "cell_type": "code",
   "execution_count": 50,
   "metadata": {},
   "outputs": [],
   "source": [
    "osmNetwork.generateRoadsGDF(verbose = False)"
   ]
  },
  {
   "cell_type": "code",
   "execution_count": 51,
   "metadata": {},
   "outputs": [
    {
     "data": {
      "text/plain": [
       "<networkx.classes.multidigraph.MultiDiGraph at 0x7f14c43c2ac8>"
      ]
     },
     "execution_count": 51,
     "metadata": {},
     "output_type": "execute_result"
    }
   ],
   "source": [
    "osmNetwork.initialReadIn()"
   ]
  },
  {
   "cell_type": "code",
   "execution_count": 52,
   "metadata": {},
   "outputs": [],
   "source": [
    "gn.save(osmNetwork.network,'nouakchott','./sampleData/nouakchott/')"
   ]
  },
  {
   "cell_type": "code",
   "execution_count": 53,
   "metadata": {},
   "outputs": [],
   "source": [
    "#the cleaning network part\n",
    "import os, sys, time\n",
    "sys.path.append(r'/home/vagrant/repos/GOST_PublicGoods/GOSTNets/GOSTNets')\n",
    "import GOSTnet as gn\n",
    "import importlib\n",
    "import networkx as nx\n",
    "import osmnx as ox\n",
    "from shapely.ops import unary_union\n",
    "from shapely.wkt import loads\n",
    "from shapely.geometry import LineString, MultiLineString, Point"
   ]
  },
  {
   "cell_type": "code",
   "execution_count": 54,
   "metadata": {},
   "outputs": [],
   "source": [
    "def CleanNetwork(G, wpath, country, UTM, WGS = {'init': 'epsg:4326'}, junctdist = 50, verbose = False):\n",
    "    \n",
    "    ### Topologically simplifies an input graph object by collapsing junctions and removing interstital nodes\n",
    "    # REQUIRED - G: a graph object containing nodes and edges. edges should have a property \n",
    "    #               called 'Wkt' containing geometry objects describing the roads\n",
    "    #            wpath: the write path - a drive directory for inputs and output\n",
    "    #            country: this parameter allows for the sequential processing of multiple countries\n",
    "    #            UTM: the epsg code of the projection, in metres, to apply the junctdist\n",
    "    # OPTIONAL - junctdist: distance within which to collapse neighboring nodes. simplifies junctions. \n",
    "    #            Set to 0.1 if not simplification desired. 50m good for national (primary / secondary) networks\n",
    "    #            verbose: if True, saves down intermediate stages for dissection\n",
    "    ################################################################################################\n",
    "    \n",
    "    # Squeezes clusters of nodes down to a single node if they are within the snapping tolerance\n",
    "    a = gn.simplify_junctions(G, UTM, WGS, junctdist)\n",
    "\n",
    "    # ensures all streets are two-way\n",
    "    a = gn.add_missing_reflected_edges(a)\n",
    "    \n",
    "    #save progress\n",
    "    if verbose is True: \n",
    "        gn.save(a, 'a', wpath)\n",
    "    \n",
    "    # Finds and deletes interstital nodes based on node degree\n",
    "    b = gn.custom_simplify(a)\n",
    "    \n",
    "    # rectify geometry\n",
    "    for u, v, data in b.edges(data = True):\n",
    "        if type(data['Wkt']) == list:\n",
    "                data['Wkt'] = gn.unbundle_geometry(data['Wkt'])\n",
    "    \n",
    "    # save progress\n",
    "    if verbose is True: \n",
    "        gn.save(b, 'b', wpath)\n",
    "    \n",
    "    # For some reason CustomSimplify doesn't return a MultiDiGraph. Fix that here\n",
    "    c = gn.convert_to_MultiDiGraph(b)\n",
    "\n",
    "    # This is the most controversial function - removes duplicated edges. This takes care of two-lane but separate highways, BUT\n",
    "    # destroys internal loops within roads. Can be run with or without this line\n",
    "    c = gn.remove_duplicate_edges(c)\n",
    "\n",
    "    # Run this again after removing duplicated edges\n",
    "    c = gn.custom_simplify(c)\n",
    "\n",
    "    # Ensure all remaining edges are duplicated (two-way streets)\n",
    "    c = gn.add_missing_reflected_edges(c)\n",
    "    \n",
    "    # save final\n",
    "    gn.save(c, '%s_processed' % country, wpath)\n",
    "    \n",
    "    print('Edge reduction: %s to %s (%d percent)' % (G.number_of_edges(), \n",
    "                                               c.number_of_edges(), \n",
    "                                               ((G.number_of_edges() - c.number_of_edges())/G.number_of_edges()*100)))\n",
    "    return c"
   ]
  },
  {
   "cell_type": "code",
   "execution_count": 55,
   "metadata": {
    "scrolled": true
   },
   "outputs": [
    {
     "name": "stdout",
     "output_type": "stream",
     "text": [
      "\n",
      "--- processing for: MRT ---\n",
      "\n",
      "start: Fri Mar 22 11:20:41 2019\n",
      "\n",
      "Outputs can be found at: ./sampleData/nouakchott/\n",
      "\n",
      "60139\n",
      "120238\n",
      "118392\n",
      "59249\n",
      "118388\n",
      "Edge reduction: 60142 to 118388 (-96 percent)\n",
      "\n",
      "end: Fri Mar 22 11:27:43 2019\n",
      "\n",
      "--- processing complete for: MRT ---\n"
     ]
    }
   ],
   "source": [
    "UTMZs = {'MRT':32628}\n",
    "\n",
    "WGS = {'init': 'epsg:4326'}\n",
    "\n",
    "countries = ['MRT']\n",
    "\n",
    "wpath = r'./sampleData/nouakchott/'\n",
    "\n",
    "for country in countries:\n",
    "    \n",
    "    print('\\n--- processing for: %s ---\\n' % country)\n",
    "    print('start: %s\\n' % time.ctime())\n",
    "\n",
    "    print('Outputs can be found at: %s\\n' % (wpath))\n",
    "        \n",
    "    UTM = {'init': 'epsg:%d' % UTMZs[country]}\n",
    "    \n",
    "    G = nx.read_gpickle(os.path.join(wpath, 'nouakchott.pickle'))\n",
    "    \n",
    "    G = CleanNetwork(G, wpath, country, UTM, WGS, 0.5, verbose = False)\n",
    "    print('\\nend: %s' % time.ctime())\n",
    "    print('\\n--- processing complete for: %s ---' % country)"
   ]
  },
  {
   "cell_type": "code",
   "execution_count": 14,
   "metadata": {},
   "outputs": [],
   "source": [
    "#net prep phase"
   ]
  },
  {
   "cell_type": "code",
   "execution_count": 56,
   "metadata": {},
   "outputs": [],
   "source": [
    "#read back in processed graph\n",
    "G = nx.read_gpickle('./sampleData/nouakchott/MRT_processed.pickle')"
   ]
  },
  {
   "cell_type": "code",
   "execution_count": 57,
   "metadata": {},
   "outputs": [
    {
     "data": {
      "text/plain": [
       "118388"
      ]
     },
     "execution_count": 57,
     "metadata": {},
     "output_type": "execute_result"
    }
   ],
   "source": [
    "G.number_of_edges()"
   ]
  },
  {
   "cell_type": "code",
   "execution_count": 58,
   "metadata": {},
   "outputs": [
    {
     "data": {
      "text/plain": [
       "37305"
      ]
     },
     "execution_count": 58,
     "metadata": {},
     "output_type": "execute_result"
    }
   ],
   "source": [
    "G.number_of_nodes()"
   ]
  },
  {
   "cell_type": "code",
   "execution_count": 59,
   "metadata": {},
   "outputs": [],
   "source": [
    "sd = {          'residential': 10,  # kmph\n",
    "                'primary': 25, # kmph\n",
    "                'primary_link':20,\n",
    "                'motorway':35,\n",
    "                'motorway_link': 25,\n",
    "                'trunk': 20,\n",
    "                'trunk_link':15,\n",
    "                'secondary': 10, # kmph\n",
    "                'secondary_link':5,\n",
    "                'tertiary':5,\n",
    "                'tertiary_link': 5,\n",
    "                'unclassified':5\n",
    "                }"
   ]
  },
  {
   "cell_type": "code",
   "execution_count": 60,
   "metadata": {},
   "outputs": [
    {
     "name": "stdout",
     "output_type": "stream",
     "text": [
      "(0, 24505, {'Wkt': 'LINESTRING (-15.8975893 18.0394637, -15.8976921 18.039127)', 'id': 45978, 'infra_type': 'residential', 'osm_id': '667426151', 'key': 'edge_45978', 'length': 0.03882328422750167, 'Type': 'legitimate'})\n"
     ]
    }
   ],
   "source": [
    "gn.example_edge(G)"
   ]
  },
  {
   "cell_type": "code",
   "execution_count": 61,
   "metadata": {},
   "outputs": [],
   "source": [
    "#look into modifying this for weighted distances\n",
    "G_time = gn.convert_network_to_time(G, \n",
    "                                   distance_tag = 'length',\n",
    "                                   graph_type = 'drive', \n",
    "                                   road_col = 'infra_type',\n",
    "                                   speed_dict = sd, \n",
    "                                   factor = 1000)"
   ]
  },
  {
   "cell_type": "code",
   "execution_count": 62,
   "metadata": {},
   "outputs": [
    {
     "name": "stdout",
     "output_type": "stream",
     "text": [
      "(0, 24505, {'Wkt': 'LINESTRING (-15.8975893 18.0394637, -15.8976921 18.039127)', 'id': 45978, 'infra_type': 'residential', 'osm_id': '667426151', 'key': 'edge_45978', 'length': 38.82328422750167, 'Type': 'legitimate', 'time': 13.976382321900601, 'mode': 'drive'})\n"
     ]
    }
   ],
   "source": [
    "gn.example_edge(G_time)"
   ]
  },
  {
   "cell_type": "code",
   "execution_count": 63,
   "metadata": {},
   "outputs": [],
   "source": [
    "D = list(nx.strongly_connected_component_subgraphs(G_time))"
   ]
  },
  {
   "cell_type": "code",
   "execution_count": 64,
   "metadata": {},
   "outputs": [
    {
     "data": {
      "text/plain": [
       "11"
      ]
     },
     "execution_count": 64,
     "metadata": {},
     "output_type": "execute_result"
    }
   ],
   "source": [
    "len(D)"
   ]
  },
  {
   "cell_type": "code",
   "execution_count": 65,
   "metadata": {},
   "outputs": [],
   "source": [
    "G = D[0]"
   ]
  },
  {
   "cell_type": "code",
   "execution_count": 66,
   "metadata": {},
   "outputs": [],
   "source": [
    "G = nx.convert_node_labels_to_integers(G)"
   ]
  },
  {
   "cell_type": "code",
   "execution_count": 67,
   "metadata": {},
   "outputs": [],
   "source": [
    "gn.save(G, 'biggest_subg', './sampleData/nouakchott/')"
   ]
  },
  {
   "cell_type": "code",
   "execution_count": 68,
   "metadata": {},
   "outputs": [],
   "source": [
    "#make sure origin and destination are created. They will be CSVs with 'Lat' and 'Lon' columns.\n",
    "#There will also need to be a way in the future to add a 'demand' column for the origins CSV, and a 'capacity' column for the destinations dataset.\n",
    "origins = pd.read_csv('./sampleData/nouakchott/origins_test1.csv')\n"
   ]
  },
  {
   "cell_type": "code",
   "execution_count": null,
   "metadata": {},
   "outputs": [],
   "source": [
    "origins['geometry'] = list(zip(origins['Lon'],origins['Lat']))\n",
    "origins['geometry'] = origins['geometry'].apply(Point)\n",
    "origins_gdf = gpd.GeoDataFrame(origins, crs = {'init':'epsg:4326'}, geometry = 'geometry')\n",
    "origins_gdf = gn.pandana_snap(G, origins_gdf, target_crs = 'epsg:32628', add_dist_to_node_col = True)\n",
    "origins = list(origins_gdf.NN)\n",
    "origins = list(set(origins))"
   ]
  },
  {
   "cell_type": "code",
   "execution_count": null,
   "metadata": {},
   "outputs": [],
   "source": [
    "destinations = pd.read_csv('./sampleData/nouakchott/destinations_test1.csv')"
   ]
  },
  {
   "cell_type": "code",
   "execution_count": null,
   "metadata": {},
   "outputs": [],
   "source": [
    "destinations['geometry'] = list(zip(destinations['Lon'],destinations['Lat']))\n",
    "destinations['geometry'] = destinations['geometry'].apply(Point)\n",
    "destinations_gdf = gpd.GeoDataFrame(destinations, crs = {'init':'epsg:4326'}, geometry = 'geometry')\n",
    "destinations_gdf = gn.pandana_snap(G, destinations_gdf, target_crs = 'epsg:32628', add_dist_to_node_col = True)\n",
    "#destinations_gdf.NN is the nearest node of the road network\n",
    "destinations = list(destinations_gdf.NN)\n",
    "destinations = list(set(destinations))"
   ]
  },
  {
   "cell_type": "code",
   "execution_count": null,
   "metadata": {},
   "outputs": [],
   "source": [
    "destinations_gdf"
   ]
  },
  {
   "cell_type": "code",
   "execution_count": null,
   "metadata": {},
   "outputs": [],
   "source": [
    "print(\"length of origins is %s\" % len(origins))"
   ]
  },
  {
   "cell_type": "code",
   "execution_count": null,
   "metadata": {},
   "outputs": [],
   "source": [
    "print(\"length of destinations is %s\" % len(destinations))"
   ]
  },
  {
   "cell_type": "code",
   "execution_count": null,
   "metadata": {},
   "outputs": [],
   "source": [
    "len(origins) * len(destinations)"
   ]
  },
  {
   "cell_type": "code",
   "execution_count": 34,
   "metadata": {},
   "outputs": [
    {
     "name": "stdout",
     "output_type": "stream",
     "text": [
      "[8994, 7011, 6724, 4965, 2440, 1646, 25486, 33112, 15739, 4092]\n"
     ]
    }
   ],
   "source": [
    "d_test = destinations[:50]\n",
    "print(d_test)"
   ]
  },
  {
   "cell_type": "code",
   "execution_count": 35,
   "metadata": {},
   "outputs": [
    {
     "name": "stdout",
     "output_type": "stream",
     "text": [
      "CPU times: user 2.51 s, sys: 0 ns, total: 2.51 s\n",
      "Wall time: 3 s\n"
     ]
    }
   ],
   "source": [
    "#look more into this calculate_OD function\n",
    "%time OD = gn.calculate_OD(G, origins, destinations, fail_value = 9999999999999)"
   ]
  },
  {
   "cell_type": "code",
   "execution_count": 36,
   "metadata": {},
   "outputs": [],
   "source": [
    "origins_df = pd.DataFrame(OD, columns = destinations, index = origins)"
   ]
  },
  {
   "cell_type": "code",
   "execution_count": 37,
   "metadata": {},
   "outputs": [],
   "source": [
    "facilities = origins_df.columns.values.tolist()"
   ]
  },
  {
   "cell_type": "code",
   "execution_count": 38,
   "metadata": {},
   "outputs": [
    {
     "data": {
      "text/plain": [
       "[8994, 7011, 6724, 4965, 2440, 1646, 25486, 33112, 15739, 4092]"
      ]
     },
     "execution_count": 38,
     "metadata": {},
     "output_type": "execute_result"
    }
   ],
   "source": [
    "facilities"
   ]
  },
  {
   "cell_type": "code",
   "execution_count": 39,
   "metadata": {},
   "outputs": [],
   "source": [
    "result = gn.optimize_facility_locations(origins_df, facilities, 4, existing_facilities = None)"
   ]
  },
  {
   "cell_type": "code",
   "execution_count": 40,
   "metadata": {},
   "outputs": [
    {
     "data": {
      "text/plain": [
       "[15739, 2440, 4092, 7011]"
      ]
     },
     "execution_count": 40,
     "metadata": {},
     "output_type": "execute_result"
    }
   ],
   "source": [
    "result"
   ]
  },
  {
   "cell_type": "code",
   "execution_count": null,
   "metadata": {},
   "outputs": [],
   "source": [
    "#result is 5,9,7,10"
   ]
  }
 ],
 "metadata": {
  "kernelspec": {
   "display_name": "Python 3",
   "language": "python",
   "name": "python3"
  },
  "language_info": {
   "codemirror_mode": {
    "name": "ipython",
    "version": 3
   },
   "file_extension": ".py",
   "mimetype": "text/x-python",
   "name": "python",
   "nbconvert_exporter": "python",
   "pygments_lexer": "ipython3",
   "version": "3.7.1"
  }
 },
 "nbformat": 4,
 "nbformat_minor": 2
}
