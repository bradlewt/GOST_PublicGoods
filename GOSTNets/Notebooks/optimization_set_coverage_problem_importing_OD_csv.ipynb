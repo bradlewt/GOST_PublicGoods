{
 "cells": [
  {
   "cell_type": "markdown",
   "metadata": {},
   "source": [
    "## This python notebook has examples of the Set-Coverage Problem and Partial Set-Coverage Problem\n",
    "### load libraries"
   ]
  },
  {
   "cell_type": "code",
   "execution_count": 37,
   "metadata": {},
   "outputs": [],
   "source": [
    "import geopandas as gpd\n",
    "import pandas as pd\n",
    "import os, sys, time\n",
    "sys.path.append(r'C:\\Code\\Github\\GOST_PublicGoods\\GOSTNets\\GOSTNets')\n",
    "import GOSTnet as gn\n",
    "import importlib\n",
    "import networkx as nx\n",
    "import osmnx as ox\n",
    "from shapely.ops import unary_union\n",
    "from shapely.wkt import loads\n",
    "from shapely.geometry import LineString, MultiLineString, Point"
   ]
  },
  {
   "cell_type": "markdown",
   "metadata": {},
   "source": [
    "## calculate OD Matrix"
   ]
  },
  {
   "cell_type": "code",
   "execution_count": 39,
   "metadata": {},
   "outputs": [],
   "source": [
    "#%time OD = gn.calculate_OD(G, origins, destinations, fail_value = 9999999999999)"
   ]
  },
  {
   "cell_type": "code",
   "execution_count": 40,
   "metadata": {},
   "outputs": [],
   "source": [
    "OD_df = pd.read_csv(r'C:\\Users\\gost_\\Desktop\\lima\\data\\OD2\\output_gt_origins_destinations.csv', header=0, index_col=0)"
   ]
  },
  {
   "cell_type": "code",
   "execution_count": 62,
   "metadata": {},
   "outputs": [],
   "source": [
    "#need to cast columns as int\n",
    "OD_df.columns = OD_df.columns.astype(int)"
   ]
  },
  {
   "cell_type": "code",
   "execution_count": 63,
   "metadata": {},
   "outputs": [
    {
     "data": {
      "text/plain": [
       "Int64Index([24420, 29476, 87562, 89721, 47038, 34559], dtype='int64')"
      ]
     },
     "execution_count": 63,
     "metadata": {},
     "output_type": "execute_result"
    }
   ],
   "source": [
    "#OD_df.keys()"
   ]
  },
  {
   "cell_type": "code",
   "execution_count": 64,
   "metadata": {},
   "outputs": [
    {
     "data": {
      "text/plain": [
       "Int64Index([ 28677,  96264,  18441,  88074,  45067,  47117,  53262, 110611,\n",
       "             40980,  83989,\n",
       "            ...\n",
       "             26590,  18396,  16350,  26588,  14308,  34789, 108522,  63467,\n",
       "             59386,  83967],\n",
       "           dtype='int64', length=634)"
      ]
     },
     "execution_count": 64,
     "metadata": {},
     "output_type": "execute_result"
    }
   ],
   "source": [
    "#OD_df.index"
   ]
  },
  {
   "cell_type": "code",
   "execution_count": 67,
   "metadata": {},
   "outputs": [
    {
     "data": {
      "text/plain": [
       "840.315034912666"
      ]
     },
     "execution_count": 67,
     "metadata": {},
     "output_type": "execute_result"
    }
   ],
   "source": [
    "#OD_df.iloc[2,2]"
   ]
  },
  {
   "cell_type": "code",
   "execution_count": 68,
   "metadata": {},
   "outputs": [
    {
     "data": {
      "text/plain": [
       "24420    388.215409\n",
       "29476    646.804176\n",
       "87562    528.362960\n",
       "89721    633.018070\n",
       "47038    302.963681\n",
       "34559    117.647717\n",
       "Name: 88074, dtype: float64"
      ]
     },
     "execution_count": 68,
     "metadata": {},
     "output_type": "execute_result"
    }
   ],
   "source": [
    "#OD_df.loc[88074]"
   ]
  },
  {
   "cell_type": "code",
   "execution_count": 69,
   "metadata": {},
   "outputs": [
    {
     "data": {
      "text/plain": [
       "528.3629602062092"
      ]
     },
     "execution_count": 69,
     "metadata": {},
     "output_type": "execute_result"
    }
   ],
   "source": [
    "#OD_df.loc[88074,'87562']\n",
    "#test\n",
    "OD_df.loc[88074,87562]"
   ]
  },
  {
   "cell_type": "code",
   "execution_count": 74,
   "metadata": {},
   "outputs": [
    {
     "data": {
      "text/html": [
       "<div>\n",
       "<style scoped>\n",
       "    .dataframe tbody tr th:only-of-type {\n",
       "        vertical-align: middle;\n",
       "    }\n",
       "\n",
       "    .dataframe tbody tr th {\n",
       "        vertical-align: top;\n",
       "    }\n",
       "\n",
       "    .dataframe thead th {\n",
       "        text-align: right;\n",
       "    }\n",
       "</style>\n",
       "<table border=\"1\" class=\"dataframe\">\n",
       "  <thead>\n",
       "    <tr style=\"text-align: right;\">\n",
       "      <th></th>\n",
       "      <th>24420</th>\n",
       "      <th>29476</th>\n",
       "      <th>87562</th>\n",
       "      <th>89721</th>\n",
       "      <th>47038</th>\n",
       "      <th>34559</th>\n",
       "    </tr>\n",
       "  </thead>\n",
       "  <tbody>\n",
       "    <tr>\n",
       "      <th>28677</th>\n",
       "      <td>627.217669</td>\n",
       "      <td>341.858199</td>\n",
       "      <td>624.218459</td>\n",
       "      <td>872.020330</td>\n",
       "      <td>398.819180</td>\n",
       "      <td>401.710043</td>\n",
       "    </tr>\n",
       "    <tr>\n",
       "      <th>96264</th>\n",
       "      <td>383.186848</td>\n",
       "      <td>536.593527</td>\n",
       "      <td>431.694760</td>\n",
       "      <td>627.989508</td>\n",
       "      <td>206.295481</td>\n",
       "      <td>157.679222</td>\n",
       "    </tr>\n",
       "    <tr>\n",
       "      <th>18441</th>\n",
       "      <td>220.886458</td>\n",
       "      <td>723.234229</td>\n",
       "      <td>840.315035</td>\n",
       "      <td>585.033768</td>\n",
       "      <td>614.915756</td>\n",
       "      <td>351.080618</td>\n",
       "    </tr>\n",
       "    <tr>\n",
       "      <th>88074</th>\n",
       "      <td>388.215409</td>\n",
       "      <td>646.804176</td>\n",
       "      <td>528.362960</td>\n",
       "      <td>633.018070</td>\n",
       "      <td>302.963681</td>\n",
       "      <td>117.647717</td>\n",
       "    </tr>\n",
       "    <tr>\n",
       "      <th>45067</th>\n",
       "      <td>546.888570</td>\n",
       "      <td>348.065098</td>\n",
       "      <td>620.223189</td>\n",
       "      <td>774.517526</td>\n",
       "      <td>394.823910</td>\n",
       "      <td>346.207651</td>\n",
       "    </tr>\n",
       "    <tr>\n",
       "      <th>47117</th>\n",
       "      <td>579.633664</td>\n",
       "      <td>304.136723</td>\n",
       "      <td>408.987755</td>\n",
       "      <td>807.262620</td>\n",
       "      <td>465.148029</td>\n",
       "      <td>486.806818</td>\n",
       "    </tr>\n",
       "    <tr>\n",
       "      <th>53262</th>\n",
       "      <td>894.980976</td>\n",
       "      <td>235.228490</td>\n",
       "      <td>548.998712</td>\n",
       "      <td>1122.609932</td>\n",
       "      <td>594.490106</td>\n",
       "      <td>802.154130</td>\n",
       "    </tr>\n",
       "    <tr>\n",
       "      <th>110611</th>\n",
       "      <td>251.173237</td>\n",
       "      <td>999.984788</td>\n",
       "      <td>992.888959</td>\n",
       "      <td>230.854705</td>\n",
       "      <td>767.489679</td>\n",
       "      <td>503.654542</td>\n",
       "    </tr>\n",
       "    <tr>\n",
       "      <th>40980</th>\n",
       "      <td>589.423449</td>\n",
       "      <td>709.964866</td>\n",
       "      <td>894.546913</td>\n",
       "      <td>920.954031</td>\n",
       "      <td>669.147634</td>\n",
       "      <td>605.169875</td>\n",
       "    </tr>\n",
       "    <tr>\n",
       "      <th>83989</th>\n",
       "      <td>329.891453</td>\n",
       "      <td>467.662111</td>\n",
       "      <td>649.930507</td>\n",
       "      <td>557.520410</td>\n",
       "      <td>424.531228</td>\n",
       "      <td>237.064607</td>\n",
       "    </tr>\n",
       "  </tbody>\n",
       "</table>\n",
       "</div>"
      ],
      "text/plain": [
       "             24420       29476       87562        89721       47038  \\\n",
       "28677   627.217669  341.858199  624.218459   872.020330  398.819180   \n",
       "96264   383.186848  536.593527  431.694760   627.989508  206.295481   \n",
       "18441   220.886458  723.234229  840.315035   585.033768  614.915756   \n",
       "88074   388.215409  646.804176  528.362960   633.018070  302.963681   \n",
       "45067   546.888570  348.065098  620.223189   774.517526  394.823910   \n",
       "47117   579.633664  304.136723  408.987755   807.262620  465.148029   \n",
       "53262   894.980976  235.228490  548.998712  1122.609932  594.490106   \n",
       "110611  251.173237  999.984788  992.888959   230.854705  767.489679   \n",
       "40980   589.423449  709.964866  894.546913   920.954031  669.147634   \n",
       "83989   329.891453  467.662111  649.930507   557.520410  424.531228   \n",
       "\n",
       "             34559  \n",
       "28677   401.710043  \n",
       "96264   157.679222  \n",
       "18441   351.080618  \n",
       "88074   117.647717  \n",
       "45067   346.207651  \n",
       "47117   486.806818  \n",
       "53262   802.154130  \n",
       "110611  503.654542  \n",
       "40980   605.169875  \n",
       "83989   237.064607  "
      ]
     },
     "execution_count": 74,
     "metadata": {},
     "output_type": "execute_result"
    }
   ],
   "source": [
    "OD_df[0:10]"
   ]
  },
  {
   "cell_type": "code",
   "execution_count": 22,
   "metadata": {},
   "outputs": [],
   "source": [
    "#OD_df = pd.DataFrame(OD, columns = destinations, index = origins)"
   ]
  },
  {
   "cell_type": "code",
   "execution_count": 23,
   "metadata": {
    "scrolled": true
   },
   "outputs": [
    {
     "name": "stdout",
     "output_type": "stream",
     "text": [
      "peartree version: 0.6.1 \n",
      "networkx version: 2.2 \n",
      "matplotlib version: 3.0.3 \n",
      "osmnx version: 0.9 \n"
     ]
    },
    {
     "data": {
      "text/plain": [
       "<module 'GOSTnet' from 'C:\\\\Code\\\\Github\\\\GOST_PublicGoods\\\\GOSTNets\\\\GOSTNets\\\\GOSTnet.py'>"
      ]
     },
     "execution_count": 23,
     "metadata": {},
     "output_type": "execute_result"
    }
   ],
   "source": [
    "import importlib\n",
    "importlib.reload(gn)"
   ]
  },
  {
   "cell_type": "markdown",
   "metadata": {},
   "source": [
    "## Set-Coverage Problem\n",
    "### Objective: Determine the minimum number of facilities and their locations in order to cover all demands within a pre-specified maximum distance (or time) coverage"
   ]
  },
  {
   "cell_type": "markdown",
   "metadata": {},
   "source": [
    "### inputs include a pre-specified maximum distance coverage of 3000 seconds"
   ]
  },
  {
   "cell_type": "code",
   "execution_count": 71,
   "metadata": {},
   "outputs": [
    {
     "name": "stdout",
     "output_type": "stream",
     "text": [
      "number of origins\n",
      "634\n",
      "print totalCoveredFacilities\n",
      "634\n",
      "print percent coverage\n",
      "100.0\n"
     ]
    }
   ],
   "source": [
    "set_coverage_result = gn.optimize_set_coverage(OD_df,max_coverage = 3000)"
   ]
  },
  {
   "cell_type": "code",
   "execution_count": 72,
   "metadata": {},
   "outputs": [
    {
     "data": {
      "text/plain": [
       "[89721]"
      ]
     },
     "execution_count": 72,
     "metadata": {},
     "output_type": "execute_result"
    }
   ],
   "source": [
    "set_coverage_result"
   ]
  },
  {
   "cell_type": "markdown",
   "metadata": {},
   "source": [
    "## Partial Set-Coverage Problem\n",
    "### Objective: Determine the minimum number of facilities and their locations in order to cover a given fraction of the population within a pre-specified maximum distance (or time) coverage"
   ]
  },
  {
   "cell_type": "markdown",
   "metadata": {},
   "source": [
    "### we need to produce a series that has each origin and its respective population"
   ]
  },
  {
   "cell_type": "code",
   "execution_count": 73,
   "metadata": {},
   "outputs": [
    {
     "ename": "AttributeError",
     "evalue": "'GeoDataFrame' object has no attribute 'demand'",
     "output_type": "error",
     "traceback": [
      "\u001b[1;31m---------------------------------------------------------------------------\u001b[0m",
      "\u001b[1;31mAttributeError\u001b[0m                            Traceback (most recent call last)",
      "\u001b[1;32m<ipython-input-73-2b0fab58141b>\u001b[0m in \u001b[0;36m<module>\u001b[1;34m\u001b[0m\n\u001b[1;32m----> 1\u001b[1;33m \u001b[0morigins_w_demands_series\u001b[0m \u001b[1;33m=\u001b[0m \u001b[0mpd\u001b[0m\u001b[1;33m.\u001b[0m\u001b[0mSeries\u001b[0m\u001b[1;33m(\u001b[0m\u001b[0morigins_gdf\u001b[0m\u001b[1;33m.\u001b[0m\u001b[0mdemand\u001b[0m\u001b[1;33m.\u001b[0m\u001b[0mvalues\u001b[0m\u001b[1;33m,\u001b[0m\u001b[0mindex\u001b[0m\u001b[1;33m=\u001b[0m\u001b[0morigins_gdf\u001b[0m\u001b[1;33m.\u001b[0m\u001b[0mNN\u001b[0m\u001b[1;33m)\u001b[0m\u001b[1;33m\u001b[0m\u001b[1;33m\u001b[0m\u001b[0m\n\u001b[0m",
      "\u001b[1;32m~\\Anaconda3\\envs\\Gostnets_clean\\lib\\site-packages\\pandas\\core\\generic.py\u001b[0m in \u001b[0;36m__getattr__\u001b[1;34m(self, name)\u001b[0m\n\u001b[0;32m   5065\u001b[0m             \u001b[1;32mif\u001b[0m \u001b[0mself\u001b[0m\u001b[1;33m.\u001b[0m\u001b[0m_info_axis\u001b[0m\u001b[1;33m.\u001b[0m\u001b[0m_can_hold_identifiers_and_holds_name\u001b[0m\u001b[1;33m(\u001b[0m\u001b[0mname\u001b[0m\u001b[1;33m)\u001b[0m\u001b[1;33m:\u001b[0m\u001b[1;33m\u001b[0m\u001b[1;33m\u001b[0m\u001b[0m\n\u001b[0;32m   5066\u001b[0m                 \u001b[1;32mreturn\u001b[0m \u001b[0mself\u001b[0m\u001b[1;33m[\u001b[0m\u001b[0mname\u001b[0m\u001b[1;33m]\u001b[0m\u001b[1;33m\u001b[0m\u001b[1;33m\u001b[0m\u001b[0m\n\u001b[1;32m-> 5067\u001b[1;33m             \u001b[1;32mreturn\u001b[0m \u001b[0mobject\u001b[0m\u001b[1;33m.\u001b[0m\u001b[0m__getattribute__\u001b[0m\u001b[1;33m(\u001b[0m\u001b[0mself\u001b[0m\u001b[1;33m,\u001b[0m \u001b[0mname\u001b[0m\u001b[1;33m)\u001b[0m\u001b[1;33m\u001b[0m\u001b[1;33m\u001b[0m\u001b[0m\n\u001b[0m\u001b[0;32m   5068\u001b[0m \u001b[1;33m\u001b[0m\u001b[0m\n\u001b[0;32m   5069\u001b[0m     \u001b[1;32mdef\u001b[0m \u001b[0m__setattr__\u001b[0m\u001b[1;33m(\u001b[0m\u001b[0mself\u001b[0m\u001b[1;33m,\u001b[0m \u001b[0mname\u001b[0m\u001b[1;33m,\u001b[0m \u001b[0mvalue\u001b[0m\u001b[1;33m)\u001b[0m\u001b[1;33m:\u001b[0m\u001b[1;33m\u001b[0m\u001b[1;33m\u001b[0m\u001b[0m\n",
      "\u001b[1;31mAttributeError\u001b[0m: 'GeoDataFrame' object has no attribute 'demand'"
     ]
    }
   ],
   "source": [
    "origins_w_demands_series = pd.Series(origins_gdf.demand.values,index=origins_gdf.NN)"
   ]
  },
  {
   "cell_type": "markdown",
   "metadata": {},
   "source": [
    "### inputs include covering 90 percent of the population, a pre-specified maximum distance coverage of 2000 seconds, and a  series of origins with their population"
   ]
  },
  {
   "cell_type": "code",
   "execution_count": 115,
   "metadata": {},
   "outputs": [
    {
     "name": "stdout",
     "output_type": "stream",
     "text": [
      "print min_coverage\n",
      "12419780.4\n"
     ]
    }
   ],
   "source": [
    "partial_set_coverage_result = gn.optimize_partial_set_coverage(OD_df, pop_coverage = .9, max_coverage = 2000, origins_pop_series = origins_w_demands_series, existing_facilities = None)"
   ]
  },
  {
   "cell_type": "code",
   "execution_count": 112,
   "metadata": {},
   "outputs": [
    {
     "data": {
      "text/plain": [
       "[15739, 1646, 2440, 25486, 33112, 4092, 4965, 6724, 7011, 8994]"
      ]
     },
     "execution_count": 112,
     "metadata": {},
     "output_type": "execute_result"
    }
   ],
   "source": [
    "partial_set_coverage_result"
   ]
  }
 ],
 "metadata": {
  "kernelspec": {
   "display_name": "Python 3",
   "language": "python",
   "name": "python3"
  },
  "language_info": {
   "codemirror_mode": {
    "name": "ipython",
    "version": 3
   },
   "file_extension": ".py",
   "mimetype": "text/x-python",
   "name": "python",
   "nbconvert_exporter": "python",
   "pygments_lexer": "ipython3",
   "version": "3.7.2"
  }
 },
 "nbformat": 4,
 "nbformat_minor": 2
}
