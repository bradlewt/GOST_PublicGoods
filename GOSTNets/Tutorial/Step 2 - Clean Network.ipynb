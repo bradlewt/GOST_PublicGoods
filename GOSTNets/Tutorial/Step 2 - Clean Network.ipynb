{
 "cells": [
  {
   "cell_type": "markdown",
   "metadata": {},
   "source": [
    "### Clean Network\n",
    "In this process developed by Charles Fox, we move from a GOSTnets raw graph object (see Extract from osm.pbf) to a routable network. This process is fairly bespoke, with several parameters and opportunities for significant network simplification. "
   ]
  },
  {
   "cell_type": "code",
   "execution_count": null,
   "metadata": {},
   "outputs": [],
   "source": [
    "import geopandas as gpd\n",
    "import os, sys, time\n",
    "import pandas as pd\n",
    "sys.path.append(os.path.join(os.path.dirname(os.getcwd()), \"GOSTNets\"))\n",
    "import GOSTnet as gn\n",
    "import Network_Clean as gnClean\n",
    "import importlib\n",
    "import networkx as nx\n",
    "import osmnx as ox\n",
    "from shapely.ops import unary_union\n",
    "from shapely.wkt import loads\n",
    "from shapely.geometry import LineString, MultiLineString, Point"
   ]
  },
  {
   "cell_type": "markdown",
   "metadata": {},
   "source": [
    "This is the main process - and is only needed to fire off CleanNetwork. G objects can either be loaded from pickled graph objects, or can be passed in from extraction / other processing chains. \n",
    "\n",
    "WARNING: expect this step to take a while. It will produce a pickled graph object, a dataframe of the edges, and a dataframe of the nodes. The expectation is that this will only have to be run once."
   ]
  },
  {
   "cell_type": "code",
   "execution_count": null,
   "metadata": {},
   "outputs": [],
   "source": [
    "UTMZs = {'ISL':32627} # Here, we set the EPSG code for the country (ISL)  we are working with. \n",
    "# Though formulaic options exist, choice of EPSG code should rest with the user; so this needs to be manually changed each time.\n",
    "\n",
    "WGS = {'init': 'epsg:4326'} # do not adjust. OSM natively comes in ESPG 4326\n",
    "\n",
    "countries = ['ISL'] # this process can clean multiple networks at once in a loop style. Here, we only need to do it once!\n",
    "\n",
    "base_pth = os.path.join(os.path.dirname(os.getcwd()), \"Tutorial\") # adjust this input to your filepath. \n",
    "data_pth = os.path.join(base_pth, 'tutorial_outputs')\n",
    "\n",
    "for country in countries:\n",
    "    \n",
    "    print('\\n--- processing for: %s ---\\n' % country)\n",
    "    print('start: %s\\n' % time.ctime())\n",
    "\n",
    "    print('Outputs can be found at: %s\\n' % (data_pth))\n",
    "        \n",
    "    UTM = {'init': 'epsg:%d' % UTMZs[country]}\n",
    "    \n",
    "    G = nx.read_gpickle(os.path.join(data_pth, 'Iceland_unclean.pickle'))\n",
    "    \n",
    "    G = gnClean.CleanNetwork(G, data_pth, country, UTM, WGS, 0.5, verbose = False)\n",
    "    \n",
    "    nx.write_gpickle(G, os.path.join(data_pth, 'Iceland_clean.pickle'))\n",
    "    print('\\nend: %s' % time.ctime())\n",
    "    print('\\n--- processing complete for: %s ---' % country)"
   ]
  },
  {
   "cell_type": "markdown",
   "metadata": {
    "collapsed": true
   },
   "source": [
    "At this point, our road network is fully prepped. \n",
    "Move on to Step 3 to see how we can use this network for some travel time analysis!"
   ]
  }
 ],
 "metadata": {
  "kernelspec": {
   "display_name": "Python (gost)",
   "language": "python",
   "name": "gost"
  },
  "language_info": {
   "codemirror_mode": {
    "name": "ipython",
    "version": 3
   },
   "file_extension": ".py",
   "mimetype": "text/x-python",
   "name": "python",
   "nbconvert_exporter": "python",
   "pygments_lexer": "ipython3",
   "version": "3.7.1"
  }
 },
 "nbformat": 4,
 "nbformat_minor": 2
}
