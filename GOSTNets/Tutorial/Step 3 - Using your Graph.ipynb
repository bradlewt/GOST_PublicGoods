{
 "cells": [
  {
   "cell_type": "markdown",
   "metadata": {},
   "source": [
    "# Step 3: Using your Graph\n",
    "\n",
    "In this third tutorial, we calculate an OD matrix as well as isochrones around a set of destinations. Our setting remains Reykjavik, Iceland, as we look at travel times along the network to churches."
   ]
  },
  {
   "cell_type": "code",
   "execution_count": null,
   "metadata": {},
   "outputs": [],
   "source": [
    "import os, sys\n",
    "import geopandas as gpd\n",
    "import pandas as pd\n",
    "import importlib\n",
    "import networkx as nx\n",
    "from shapely.geometry import Point\n",
    "sys.path.append(os.path.join(os.path.dirname(os.getcwd()), \"GOSTNets\"))\n",
    "import GOSTnet as gn"
   ]
  },
  {
   "cell_type": "markdown",
   "metadata": {},
   "source": [
    "First, we read in the result of the cleaning process (Step 2)"
   ]
  },
  {
   "cell_type": "code",
   "execution_count": null,
   "metadata": {},
   "outputs": [],
   "source": [
    "pth = os.path.join(os.path.dirname(os.getcwd()), \"Tutorial\")\n",
    "G = nx.read_gpickle(os.path.join(pth, 'tutorial_outputs', r'Iceland_clean.pickle'))"
   ]
  },
  {
   "cell_type": "markdown",
   "metadata": {},
   "source": [
    "At this stage each edge in the network has a property called 'length'. This is added during the cleaning process. The units of this length are kilometres:"
   ]
  },
  {
   "cell_type": "code",
   "execution_count": null,
   "metadata": {},
   "outputs": [],
   "source": [
    "gn.example_edge(G)"
   ]
  },
  {
   "cell_type": "markdown",
   "metadata": {},
   "source": [
    "We want to convert this to time, so that we can generate some isochrones. We do this below. \n",
    "\n",
    "We have used a factor of 1000 to convert the length back to metres, which is the assumed unit of measurement for this function call."
   ]
  },
  {
   "cell_type": "code",
   "execution_count": null,
   "metadata": {},
   "outputs": [],
   "source": [
    "G_time = gn.convert_network_to_time(G, distance_tag = 'length', road_col = 'infra_type', factor = 1000)"
   ]
  },
  {
   "cell_type": "markdown",
   "metadata": {},
   "source": [
    "We can now use the 'time' property for each edge to work out how long it takes to get from one node to another!"
   ]
  },
  {
   "cell_type": "code",
   "execution_count": null,
   "metadata": {},
   "outputs": [],
   "source": [
    "gn.example_edge(G_time, 1)"
   ]
  },
  {
   "cell_type": "markdown",
   "metadata": {},
   "source": [
    "To do this for just one journey, we could call nx.shortest_path_length as per the below:"
   ]
  },
  {
   "cell_type": "code",
   "execution_count": null,
   "metadata": {},
   "outputs": [],
   "source": [
    "A = 100 # node with id 100\n",
    "B = 200 # node with id 200\n",
    "travel_time = nx.shortest_path_length(G_time, A, B, weight = 'time')\n",
    "print('The travel time between A and B is: %d seconds, or %d minutes!' % (travel_time, travel_time / 60))"
   ]
  },
  {
   "cell_type": "markdown",
   "metadata": {},
   "source": [
    "In our example, we want to use our network for Reykjavik to work out the travel time to local churches.\n",
    "\n",
    "Here, I import a shapefile for Reykjavik, and reproject it to WGS 84:"
   ]
  },
  {
   "cell_type": "code",
   "execution_count": null,
   "metadata": {},
   "outputs": [],
   "source": [
    "rek = gpd.read_file(os.path.join(pth, 'tutorial_data', 'rek2.shp'))\n",
    "rek = rek.to_crs({'init':'epsg:4326'})"
   ]
  },
  {
   "cell_type": "markdown",
   "metadata": {},
   "source": [
    "Next, I set a variable poly equal to just the geometry"
   ]
  },
  {
   "cell_type": "code",
   "execution_count": null,
   "metadata": {},
   "outputs": [],
   "source": [
    "poly = rek.geometry.iloc[0]"
   ]
  },
  {
   "cell_type": "markdown",
   "metadata": {},
   "source": [
    "We can visualize this in-line by just calling it:"
   ]
  },
  {
   "cell_type": "code",
   "execution_count": null,
   "metadata": {},
   "outputs": [],
   "source": [
    "poly"
   ]
  },
  {
   "cell_type": "markdown",
   "metadata": {},
   "source": [
    "With this in hand, I can read in a shapefile of destinations - here, the churches in Iceland. I use shapely's 'within' command to select just those in the Reykjavik area:"
   ]
  },
  {
   "cell_type": "code",
   "execution_count": null,
   "metadata": {},
   "outputs": [],
   "source": [
    "churches = gpd.read_file(os.path.join(pth, 'tutorial_data', 'churches.shp'))\n",
    "churches = churches.loc[churches.within(poly)]"
   ]
  },
  {
   "cell_type": "markdown",
   "metadata": {},
   "source": [
    "I want to know the closest network node to each church. For this, we use pandana snap to snap the church locations to the road network:"
   ]
  },
  {
   "cell_type": "code",
   "execution_count": null,
   "metadata": {},
   "outputs": [],
   "source": [
    "churches = gn.pandana_snap(G_time, churches, add_dist_to_node_col = True)"
   ]
  },
  {
   "cell_type": "markdown",
   "metadata": {},
   "source": [
    "As we can see from the NN_dist column, our church locations are very close to a node on the network in all cases"
   ]
  },
  {
   "cell_type": "code",
   "execution_count": null,
   "metadata": {},
   "outputs": [],
   "source": [
    "churches"
   ]
  },
  {
   "cell_type": "markdown",
   "metadata": {},
   "source": [
    "When calculating an OD-Matrix, we can only use the node IDs as inputs. So, we convert this column of our dataframe over to a list of unique values:"
   ]
  },
  {
   "cell_type": "code",
   "execution_count": null,
   "metadata": {},
   "outputs": [],
   "source": [
    "destinations = list(set(list(churches.NN)))"
   ]
  },
  {
   "cell_type": "markdown",
   "metadata": {},
   "source": [
    "At this point, we have a choice to make. If we know our origins, we can use gn.calculate_OD() to calculate the OD matrix from each origin to all destinations. \n",
    "\n",
    "If we do not have fixed origins in mind, we could also visualize the isochrones around the network itself, with gn.make_iso_polys. Here, I generate a polygon geodataframe of the isochrones around the churches, at the 5, 10 and 15 minute travel time intervals. \n",
    "\n",
    "I have chosen to buffer each edge by 10m, and each node by 25m, to make the visualization. I am measuring in the nearest UTM zone with my choice of measure_crs. \n",
    "\n",
    "N.B. Please note - this step takes a while. If you want to speed it up, reduce the trip times options down somewhat. Here, I am generating 5 minute, 10 minute and 15 minute drive time isochrones."
   ]
  },
  {
   "cell_type": "code",
   "execution_count": null,
   "metadata": {},
   "outputs": [],
   "source": [
    "importlib.reload(gn)\n",
    "isopolys = gn.make_iso_polys(G_time, \n",
    "                  destinations[1:3], \n",
    "                  trip_times = [5*60], \n",
    "                  edge_buff=10, \n",
    "                  node_buff=25, \n",
    "                  infill=False, \n",
    "                  weight = 'time', \n",
    "                  measure_crs = {'init': 'epsg:32627'})"
   ]
  },
  {
   "cell_type": "markdown",
   "metadata": {},
   "source": [
    "I can cheaply visualize them here with geopandas' plot method:"
   ]
  },
  {
   "cell_type": "code",
   "execution_count": null,
   "metadata": {},
   "outputs": [],
   "source": [
    "isopolys.plot()"
   ]
  },
  {
   "cell_type": "markdown",
   "metadata": {},
   "source": [
    "Or, save them down to visualize in QGIS, after resetting the crs to WGS 84 for ease of use:"
   ]
  },
  {
   "cell_type": "code",
   "execution_count": null,
   "metadata": {},
   "outputs": [],
   "source": [
    "isopolys = isopolys.to_crs({'init': 'epsg:4326'})\n",
    "isopolys.to_csv(os.path.join(pth, 'tutorial_outputs', 'church_isopolys.csv'))"
   ]
  },
  {
   "cell_type": "markdown",
   "metadata": {},
   "source": [
    "Note, we could, with a little extra work transform the pandas dataframe into a geopandas GeoDataFrame, and then send this to file as a geoJSON or shapefile. \n",
    "\n",
    "Next, I decide I would like to make an OD-matrix where the origin is the cottage I am renting in the city, and the destinations are the churches in Reykjavik. This will help me to wok out how many churches I can see today!. First, I need to create my origin. It has coordinates: 64.152215, -22.002099, so I make a point of this:"
   ]
  },
  {
   "cell_type": "code",
   "execution_count": null,
   "metadata": {},
   "outputs": [],
   "source": [
    "my_house = [Point(64.152215, -22.002099)]"
   ]
  },
  {
   "cell_type": "markdown",
   "metadata": {},
   "source": [
    "Next, I load it into a geodataframe and snap it to the network:"
   ]
  },
  {
   "cell_type": "code",
   "execution_count": null,
   "metadata": {},
   "outputs": [],
   "source": [
    "mini_gdf = gpd.GeoDataFrame({'point':my_house}, crs = {'init':'epsg:4326'}, geometry = 'point', index = [1])"
   ]
  },
  {
   "cell_type": "code",
   "execution_count": null,
   "metadata": {},
   "outputs": [],
   "source": [
    "mini_gdf"
   ]
  },
  {
   "cell_type": "code",
   "execution_count": null,
   "metadata": {},
   "outputs": [],
   "source": [
    "origin_gdf = gn.pandana_snap(G_time, mini_gdf)"
   ]
  },
  {
   "cell_type": "code",
   "execution_count": null,
   "metadata": {},
   "outputs": [],
   "source": [
    "origin_gdf"
   ]
  },
  {
   "cell_type": "markdown",
   "metadata": {},
   "source": [
    "Now, I can calcuate my OD-matrix using GN.calculate_OD(). Bear in mind it takes list objects as inputs:"
   ]
  },
  {
   "cell_type": "code",
   "execution_count": null,
   "metadata": {},
   "outputs": [],
   "source": [
    "origin = [2129]\n",
    "OD = gn.calculate_OD(G_time, origin, destinations, fail_value = 9999999)"
   ]
  },
  {
   "cell_type": "markdown",
   "metadata": {},
   "source": [
    "I can convert this nicely into a pandas Dataframe, using minutes as the measure as so:"
   ]
  },
  {
   "cell_type": "code",
   "execution_count": null,
   "metadata": {},
   "outputs": [],
   "source": [
    "OD = OD / 60\n",
    "OD_df = pd.DataFrame(OD, columns = destinations, index = origin)"
   ]
  },
  {
   "cell_type": "code",
   "execution_count": null,
   "metadata": {},
   "outputs": [],
   "source": [
    "OD_df"
   ]
  },
  {
   "cell_type": "markdown",
   "metadata": {},
   "source": [
    "It appears nearly all of the churches are an hour's drive away...perhaps I will have a beer instead.\n",
    "\n",
    "Now that you are up to speed on the basics, check out some of the example notebooks in the 'Notebooks' folder."
   ]
  },
  {
   "cell_type": "markdown",
   "metadata": {},
   "source": [
    "~fin~"
   ]
  }
 ],
 "metadata": {
  "kernelspec": {
   "display_name": "Python (gost)",
   "language": "python",
   "name": "gost"
  },
  "language_info": {
   "codemirror_mode": {
    "name": "ipython",
    "version": 3
   },
   "file_extension": ".py",
   "mimetype": "text/x-python",
   "name": "python",
   "nbconvert_exporter": "python",
   "pygments_lexer": "ipython3",
   "version": "3.7.1"
  }
 },
 "nbformat": 4,
 "nbformat_minor": 2
}
