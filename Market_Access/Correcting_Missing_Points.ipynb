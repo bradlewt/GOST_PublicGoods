{
 "cells": [
  {
   "cell_type": "markdown",
   "metadata": {},
   "source": [
    "# Evaluate and re-run OD calls\n",
    "\n",
    "Once you have completed the first run of the OD analysis, come here to evaluate holes in the dataset and the ru-run missing values"
   ]
  },
  {
   "cell_type": "code",
   "execution_count": 1,
   "metadata": {},
   "outputs": [],
   "source": [
    "import os, sys, importlib\n",
    "\n",
    "import pandas as pd\n",
    "import numpy as np"
   ]
  },
  {
   "cell_type": "code",
   "execution_count": 2,
   "metadata": {},
   "outputs": [],
   "source": [
    "xx = pd.read_csv('J:/Data/PROJECTS/COUNTRY/SVK/european__OD.csv')\n",
    "origins = pd.read_csv('J:/Data/PROJECTS/COUNTRY/SVK/origin_grid.csv')\n",
    "destinations = pd.read_csv('J:/Data/PROJECTS/COUNTRY/SVK/european_destinations.csv')"
   ]
  },
  {
   "cell_type": "code",
   "execution_count": 3,
   "metadata": {},
   "outputs": [],
   "source": [
    "yy = xx.groupby(\"O_UID\")\n",
    "bad_origins = np.where(yy['D_UID'].count() < 127)"
   ]
  },
  {
   "cell_type": "code",
   "execution_count": null,
   "metadata": {},
   "outputs": [],
   "source": [
    "def get_missing_destinations(inD):\n",
    "    dests = list(inD['D_UID'])\n",
    "    dOIDs = [str(x) for x in range(1, 128) if not x in dests]\n",
    "    return(\"_\".join(dOIDs))\n",
    "\n",
    "res = yy.apply(get_missing_destinations)"
   ]
  },
  {
   "cell_type": "code",
   "execution_count": null,
   "metadata": {},
   "outputs": [],
   "source": [
    "baseFolder = 'C:/temp/SVK/RUN2'\n",
    "count = 0\n",
    "for unq in res.unique():\n",
    "    if unq != '':\n",
    "        selFeatures = res[res == unq]\n",
    "        badDests = [int(X) for X in unq.split(\"_\")]\n",
    "        badOIDs = selFeatures.index\n",
    "        badO = origins.loc[list(badOIDs)]\n",
    "        badD = destinations[destinations['ID'].isin(badDests)]\n",
    "        outFolder = \"%s/bad_%s\" % (baseFolder, count)\n",
    "        if not os.path.exists(outFolder):\n",
    "            os.makedirs(outFolder)\n",
    "        badO.to_csv(os.path.join(outFolder, \"origins.csv\"))\n",
    "        badD.to_csv(os.path.join(outFolder, \"destinations.csv\"))\n",
    "        print(r\"python OD.py -od -s {baseFolder}\\bad_{n}\\origins.csv -d {baseFolder}\\bad_{n}\\destinations.csv --lon Long --lat Lat -outputOD {baseFolder}\\bad_{n}\\od.csv\".format(n=count, baseFolder=baseFolder))\n",
    "        count += 1"
   ]
  },
  {
   "cell_type": "code",
   "execution_count": 5,
   "metadata": {},
   "outputs": [],
   "source": [
    "# Process the re-processed values and re-write the output\n",
    "baseFolder = 'C:/temp/SVK'\n",
    "allOD = []\n",
    "for root, dirs, files in os.walk(baseFolder):\n",
    "    for f in files:\n",
    "        if f == \"od.csv\":\n",
    "            allOD.append(os.path.join(root, f))"
   ]
  },
  {
   "cell_type": "code",
   "execution_count": 7,
   "metadata": {},
   "outputs": [],
   "source": [
    "try:\n",
    "    del(final)\n",
    "except:\n",
    "    pass\n",
    "for x in allOD:\n",
    "    cRes = pd.read_csv(x)\n",
    "    try:\n",
    "        final = final.append(cRes)\n",
    "    except:\n",
    "        final = cRes"
   ]
  },
  {
   "cell_type": "code",
   "execution_count": 8,
   "metadata": {},
   "outputs": [
    {
     "name": "stdout",
     "output_type": "stream",
     "text": [
      "(378192, 6)\n",
      "(1180352, 6)\n"
     ]
    }
   ],
   "source": [
    "print(final.shape)\n",
    "print(xx.shape)"
   ]
  },
  {
   "cell_type": "code",
   "execution_count": 9,
   "metadata": {},
   "outputs": [],
   "source": [
    "xx_combined = xx.append(final)"
   ]
  },
  {
   "cell_type": "code",
   "execution_count": 15,
   "metadata": {},
   "outputs": [
    {
     "data": {
      "text/plain": [
       "(1180352, 6)"
      ]
     },
     "execution_count": 15,
     "metadata": {},
     "output_type": "execute_result"
    }
   ],
   "source": [
    "xx.shape\n"
   ]
  },
  {
   "cell_type": "code",
   "execution_count": 16,
   "metadata": {},
   "outputs": [],
   "source": [
    "xx_combined.to_csv('J:/Data/PROJECTS/COUNTRY/SVK/european__OD_Corrected2.csv')"
   ]
  },
  {
   "cell_type": "code",
   "execution_count": null,
   "metadata": {},
   "outputs": [],
   "source": []
  }
 ],
 "metadata": {
  "kernelspec": {
   "display_name": "Python (geog)",
   "language": "python",
   "name": "geog"
  },
  "language_info": {
   "codemirror_mode": {
    "name": "ipython",
    "version": 3
   },
   "file_extension": ".py",
   "mimetype": "text/x-python",
   "name": "python",
   "nbconvert_exporter": "python",
   "pygments_lexer": "ipython3",
   "version": "3.6.7"
  }
 },
 "nbformat": 4,
 "nbformat_minor": 2
}
